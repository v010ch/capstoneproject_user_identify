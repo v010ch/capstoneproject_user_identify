{
 "cells": [
  {
   "cell_type": "code",
   "execution_count": 1,
   "metadata": {},
   "outputs": [],
   "source": [
    "import pandas as pd\n",
    "import numpy as np\n",
    "from scipy.sparse import csr_matrix\n",
    "\n",
    "import os\n",
    "import glob\n",
    "import pickle\n",
    "from collections import Counter\n",
    "import itertools\n",
    "\n",
    "import re\n",
    "from tqdm import tqdm\n",
    "\n",
    "import statsmodels.api as sm\n",
    "import scipy.stats as sts\n",
    "from statsmodels.stats.proportion import proportion_confint"
   ]
  },
  {
   "cell_type": "code",
   "execution_count": 2,
   "metadata": {},
   "outputs": [
    {
     "name": "stdout",
     "output_type": "stream",
     "text": [
      "Populating the interactive namespace from numpy and matplotlib\n"
     ]
    }
   ],
   "source": [
    "%pylab inline"
   ]
  },
  {
   "cell_type": "code",
   "execution_count": 3,
   "metadata": {},
   "outputs": [],
   "source": [
    "DATA = './data'\n",
    "MY_DATA = './my_data'\n",
    "ANSW = './answers'"
   ]
  },
  {
   "cell_type": "code",
   "execution_count": null,
   "metadata": {},
   "outputs": [],
   "source": []
  },
  {
   "cell_type": "markdown",
   "metadata": {},
   "source": [
    "# подготовка нескольких обучающих выборок для сравнения"
   ]
  },
  {
   "cell_type": "code",
   "execution_count": 4,
   "metadata": {},
   "outputs": [],
   "source": [
    "def prepare_sparse_train_set_window(path_to_csv, path_to_site_freq, sess_len, wind_size):\n",
    "    \n",
    "    rows = 0\n",
    "    site_cnt = []\n",
    "    ret_userid_list = []\n",
    "    # form dataframe names ['site1, site2......site{session_length}']\n",
    "    col_names = ['site' + str(n+1) for n in range(sess_len)]\n",
    "\n",
    "    #pkl_name = 'site_freq_' + str(re.findall('\\d+', path_to_data)[0]) + 'users.pkl'\n",
    "    with open(path_to_site_freq, 'rb') as f:\n",
    "        freq_site_dict = pickle.load(f)\n",
    "\n",
    "\n",
    "    # getting size of DataFrame\n",
    "    # collect all sites ans them frequencies\n",
    "    for file_csv in (sorted(glob.glob(path_to_csv + '/*.csv'))):\n",
    "        temp_dataframe = pd.read_csv(file_csv, usecols=['site'])\n",
    "        site_cnt += list(temp_dataframe.site.values)\n",
    "        rows += round(temp_dataframe.shape[0] / wind_size + 0.499)\n",
    "\n",
    "    site_cnt = Counter(site_cnt)\n",
    "\n",
    "    # ceate DataFrame of known size\n",
    "    ret_data = pd.DataFrame(index = range(rows), columns = col_names)\n",
    "    index = 0\n",
    "\n",
    "\n",
    "    for file_csv in (sorted(glob.glob(path_to_csv + '/*.csv'))):\n",
    "            temp_dataframe = pd.read_csv(file_csv, usecols=['site'])\n",
    "            userid = int(re.findall('\\d+', file_csv)[1])\n",
    "\n",
    "\n",
    "            sess_numb = round(temp_dataframe.shape[0] / wind_size + 0.499)\n",
    "            for idx in range(sess_numb - 1):\n",
    "                #new dict for current session\n",
    "                new_sess = {('site' + str(n+1)):0 for n in range(sess_len)}\n",
    "\n",
    "                sess_start = idx*wind_size\n",
    "                sess_end   = idx*wind_size + sess_len\n",
    "\n",
    "                for n, site in enumerate(temp_dataframe.site.values[sess_start : sess_end]):\n",
    "                    new_sess['site' + str(n+1)] = freq_site_dict[site][0]\n",
    "                #new_sess['user_id'] = userid\n",
    "                ret_userid_list.append(userid)\n",
    "                \n",
    "                #put data in prepared DataFrame\n",
    "                ret_data.iloc[index] = new_sess\n",
    "                index += 1\n",
    "\n",
    "\n",
    "            new_sess = {('site' + str(n+1)):0 for n in range(sess_len)}\n",
    "            for n, site in enumerate(temp_dataframe.site.values[(sess_numb-1)*wind_size: ]):\n",
    "                new_sess['site' + str(n+1)] = freq_site_dict[site][0]\n",
    "            #new_sess['user_id'] = userid\n",
    "            ret_userid_list.append(userid)\n",
    "\n",
    "            ret_data.iloc[index] = new_sess\n",
    "            index += 1\n",
    "        \n",
    "    ret_csr = to_sitebow_csr(ret_data.values)\n",
    "    \n",
    "    return ret_csr, ret_userid_list"
   ]
  },
  {
   "cell_type": "code",
   "execution_count": null,
   "metadata": {},
   "outputs": [],
   "source": []
  },
  {
   "cell_type": "code",
   "execution_count": 5,
   "metadata": {},
   "outputs": [],
   "source": [
    "def to_sitebow_csr(inp_data):\n",
    "    row  = []\n",
    "    col  = []\n",
    "    data = []\n",
    "    for idx, elmnt in enumerate(inp_data):\n",
    "        cnt = Counter(elmnt)        # for each string get {'site': how many in string}\n",
    "        \n",
    "        row += [idx] * len(cnt)     # row number in which value is parse\n",
    "        data+= list(cnt.values())   # value\n",
    "        col += list(cnt.keys())     # column number in which value is parse\n",
    "        \n",
    "    ret = csr_matrix((data, (row, col)), shape = (max(row)+1, max(col)+1))[:, 1:]\n",
    "    \n",
    "    return ret"
   ]
  },
  {
   "cell_type": "code",
   "execution_count": 6,
   "metadata": {},
   "outputs": [],
   "source": [
    "csr_data, y_s5_w3 = prepare_sparse_train_set_window(os.path.join(DATA, '3users'),\n",
    "                                             os.path.join(MY_DATA, 'site_freq_3users.pkl'),\n",
    "                                             5, 3)"
   ]
  },
  {
   "cell_type": "code",
   "execution_count": 7,
   "metadata": {},
   "outputs": [
    {
     "data": {
      "text/plain": [
       "matrix([[0, 3, 1, 0, 0, 0, 1, 0, 0, 0, 0],\n",
       "        [1, 1, 0, 0, 1, 0, 1, 1, 0, 0, 0],\n",
       "        [0, 0, 1, 0, 1, 0, 0, 1, 1, 1, 0],\n",
       "        [3, 0, 1, 0, 0, 0, 0, 0, 0, 1, 0],\n",
       "        [2, 0, 0, 0, 0, 0, 0, 0, 0, 0, 0],\n",
       "        [0, 2, 1, 0, 0, 2, 0, 0, 0, 0, 0],\n",
       "        [0, 1, 0, 0, 0, 1, 0, 0, 0, 0, 0],\n",
       "        [2, 2, 0, 1, 0, 0, 0, 0, 0, 0, 0],\n",
       "        [3, 1, 0, 0, 1, 0, 0, 0, 0, 0, 0],\n",
       "        [1, 0, 0, 2, 1, 0, 0, 0, 0, 0, 1],\n",
       "        [1, 1, 0, 2, 0, 0, 0, 0, 0, 0, 0],\n",
       "        [0, 1, 0, 0, 0, 0, 0, 0, 0, 0, 0]])"
      ]
     },
     "execution_count": 7,
     "metadata": {},
     "output_type": "execute_result"
    }
   ],
   "source": [
    "csr_data.todense()"
   ]
  },
  {
   "cell_type": "code",
   "execution_count": 8,
   "metadata": {},
   "outputs": [
    {
     "data": {
      "text/plain": [
       "[1, 1, 1, 1, 1, 2, 2, 3, 3, 3, 3, 3]"
      ]
     },
     "execution_count": 8,
     "metadata": {},
     "output_type": "execute_result"
    }
   ],
   "source": [
    "y_s5_w3"
   ]
  },
  {
   "cell_type": "code",
   "execution_count": null,
   "metadata": {},
   "outputs": [],
   "source": []
  },
  {
   "cell_type": "code",
   "execution_count": 9,
   "metadata": {},
   "outputs": [],
   "source": [
    "def prepare_sparse_train_set_window_v2(path_to_csv, path_to_site_freq, sess_len, wind_size):\n",
    "    \n",
    "    #rows = 0\n",
    "    #site_cnt = []\n",
    "    ret_userid_list = []\n",
    "    # form dataframe names ['site1, site2......site{session_length}']\n",
    "    col_names = ['site' + str(n+1) for n in range(sess_len)]\n",
    "\n",
    "    #pkl_name = 'site_freq_' + str(re.findall('\\d+', path_to_data)[0]) + 'users.pkl'\n",
    "    with open(path_to_site_freq, 'rb') as f:\n",
    "        freq_site_dict = pickle.load(f)\n",
    "\n",
    "    row_csr  = []\n",
    "    col_csr  = []\n",
    "    data_csr = []\n",
    "        \n",
    "    # getting size of DataFrame\n",
    "    # collect all sites ans them frequencies\n",
    "    #for file_csv in (sorted(glob.glob(path_to_csv + '/*.csv'))):\n",
    "    #    temp_dataframe = pd.read_csv(file_csv, usecols=['site'])\n",
    "    #    site_cnt += list(temp_dataframe.site.values)\n",
    "    #    rows += round(temp_dataframe.shape[0] / wind_size + 0.499)\n",
    "\n",
    "    #site_cnt = Counter(site_cnt)\n",
    "\n",
    "    # ceate DataFrame of known size\n",
    "    #ret_data = pd.DataFrame(index = range(rows), columns = col_names)\n",
    "    index = 0\n",
    "\n",
    "\n",
    "    for file_csv in (sorted(glob.glob(path_to_csv + '/*.csv'))):\n",
    "            temp_dataframe = pd.read_csv(file_csv, usecols=['site'])\n",
    "            userid = int(re.findall('\\d+', file_csv)[1])\n",
    "\n",
    "\n",
    "            sess_numb = round(temp_dataframe.shape[0] / wind_size + 0.499)\n",
    "            for idx in range(sess_numb - 1):\n",
    "                #new dict for current session\n",
    "                new_sess = {('site' + str(n+1)):0 for n in range(sess_len)}\n",
    "\n",
    "                sess_start = idx*wind_size\n",
    "                sess_end   = idx*wind_size + sess_len\n",
    "\n",
    "                for n, site in enumerate(temp_dataframe.site.values[sess_start : sess_end]):\n",
    "                    new_sess['site' + str(n+1)] = freq_site_dict[site][0]\n",
    "                #new_sess['user_id'] = userid\n",
    "                ret_userid_list.append(userid)\n",
    "                \n",
    "                cnt_csr = Counter(new_sess.values())\n",
    "                #print(len(cnt_csr))\n",
    "                #print()\n",
    "                #print(cnt_csr.values())\n",
    "                #print()\n",
    "                row_csr += [index] * len(cnt_csr)     # row number in which value is parse\n",
    "                data_csr+= list(cnt_csr.values())   # value\n",
    "                #print(cnt_csr.keys())\n",
    "                #for site_n in cnt_csr.keys():\n",
    "                col_csr += list(cnt_csr.keys())     # column number in which value is parse\n",
    "                    #print(type(int(re.findall('\\d+', site_n)[0])))\n",
    "                    #col_csr += [int(re.findall('\\d+', site_n)[0])]\n",
    "                #put data in prepared DataFrame\n",
    "                #ret_data.iloc[index] = new_sess\n",
    "                index += 1\n",
    "\n",
    "\n",
    "            new_sess = {('site' + str(n+1)):0 for n in range(sess_len)}\n",
    "            for n, site in enumerate(temp_dataframe.site.values[(sess_numb-1)*wind_size: ]):\n",
    "                new_sess['site' + str(n+1)] = freq_site_dict[site][0]\n",
    "            #new_sess['user_id'] = userid\n",
    "            ret_userid_list.append(userid)\n",
    "            cnt_csr = Counter(new_sess.values())\n",
    "            row_csr += [index] * len(cnt_csr)     # row number in which value is parse\n",
    "            data_csr+= list(cnt_csr.values())   # value\n",
    "            #for site_n in cnt_csr.keys():\n",
    "            col_csr += list(cnt_csr.keys())     # column number in which value is parse\n",
    "            #    col_csr += [int(re.findall('\\d+', site_n)[0])]\n",
    "                \n",
    "\n",
    "            #ret_data.iloc[index] = new_sess\n",
    "            index += 1\n",
    "        \n",
    "    #ret_csr = to_sitebow_csr(ret_data.values)\n",
    "   # \n",
    "   # \n",
    "   #     for idx, elmnt in enumerate(inp_data):\n",
    "   #     cnt = Counter(elmnt)        # for each string get {'site': how many in string}\n",
    "   #     \n",
    "   #     row += [idx] * len(cnt)     # row number in which value is parse\n",
    "   #     data+= list(cnt.values())   # value\n",
    "   #     col += list(cnt.keys())     # column number in which value is parse#\n",
    "    #print(data_csr)\n",
    "    #print(col_csr)\n",
    "    ret_csr = csr_matrix((data_csr, (row_csr, col_csr)), shape = (max(row_csr)+1, max(col_csr)+1))[:, 1:]\n",
    "    \n",
    "    return ret_csr, ret_userid_list"
   ]
  },
  {
   "cell_type": "code",
   "execution_count": 10,
   "metadata": {},
   "outputs": [],
   "source": [
    "csr_data_v2, y_s5_w3 = prepare_sparse_train_set_window_v2(os.path.join(DATA, '3users'),\n",
    "                                             os.path.join(MY_DATA, 'site_freq_3users.pkl'),\n",
    "                                             5, 3)"
   ]
  },
  {
   "cell_type": "code",
   "execution_count": 11,
   "metadata": {},
   "outputs": [
    {
     "data": {
      "text/plain": [
       "array([[0, 3, 1, 0, 0, 0, 1, 0, 0, 0, 0],\n",
       "       [1, 1, 0, 0, 1, 0, 1, 1, 0, 0, 0],\n",
       "       [0, 0, 1, 0, 1, 0, 0, 1, 1, 1, 0],\n",
       "       [3, 0, 1, 0, 0, 0, 0, 0, 0, 1, 0],\n",
       "       [2, 0, 0, 0, 0, 0, 0, 0, 0, 0, 0],\n",
       "       [0, 2, 1, 0, 0, 2, 0, 0, 0, 0, 0],\n",
       "       [0, 1, 0, 0, 0, 1, 0, 0, 0, 0, 0],\n",
       "       [2, 2, 0, 1, 0, 0, 0, 0, 0, 0, 0],\n",
       "       [3, 1, 0, 0, 1, 0, 0, 0, 0, 0, 0],\n",
       "       [1, 0, 0, 2, 1, 0, 0, 0, 0, 0, 1],\n",
       "       [1, 1, 0, 2, 0, 0, 0, 0, 0, 0, 0],\n",
       "       [0, 1, 0, 0, 0, 0, 0, 0, 0, 0, 0]])"
      ]
     },
     "execution_count": 11,
     "metadata": {},
     "output_type": "execute_result"
    }
   ],
   "source": [
    "csr_data_v2.toarray()"
   ]
  },
  {
   "cell_type": "code",
   "execution_count": null,
   "metadata": {},
   "outputs": [],
   "source": []
  },
  {
   "cell_type": "code",
   "execution_count": 18,
   "metadata": {},
   "outputs": [
    {
     "name": "stderr",
     "output_type": "stream",
     "text": [
      "12it [00:03,  3.04it/s]\n",
      "12it [00:39,  3.32s/it]"
     ]
    },
    {
     "name": "stdout",
     "output_type": "stream",
     "text": [
      "CPU times: user 43.8 s, sys: 72 ms, total: 43.8 s\n",
      "Wall time: 43.8 s\n"
     ]
    },
    {
     "name": "stderr",
     "output_type": "stream",
     "text": [
      "\n"
     ]
    }
   ],
   "source": [
    "%%time\n",
    "data_length = []\n",
    "\n",
    "for n_users in [10, 150]:\n",
    "    for w_size, session_length in tqdm(itertools.product([10, 7, 5], [15, 10, 7, 5])):\n",
    "        if w_size <= session_length and (w_size, session_length) != (10, 10):\n",
    "            #print(w_size, session_length, n_users)\n",
    "            direct_name = str(n_users) + 'users'\n",
    "            pickle_name = 'site_freq_' + str(n_users) + 'users.pkl'\n",
    "            x, y = prepare_sparse_train_set_window_v2(os.path.join(DATA, direct_name),\n",
    "                                               os.path.join(MY_DATA, pickle_name),\n",
    "                                               session_length, \n",
    "                                               w_size, \n",
    "                                               )\n",
    "            data_length.append(x.shape[0])\n",
    "            #pkl_name_x = f'X_sparse_{n_users}users_s{session_length}_w{w_size}.pkl'\n",
    "            #pkl_name_y = f'Y_sparse_{n_users}users_s{session_length}_w{w_size}.pkl'\n",
    "            \n",
    "            #with open(os.path.join(MY_DATA, pkl_name_x), 'wb') as x_pkl:\n",
    "            #    pickle.dump(x, x_pkl, protocol = 2)\n",
    "    \n",
    "            #with open(os.path.join(MY_DATA, pkl_name_y), 'wb') as y_pkl:\n",
    "            #    pickle.dump(y, y_pkl, protocol = 2)\n",
    "            "
   ]
  },
  {
   "cell_type": "code",
   "execution_count": 21,
   "metadata": {},
   "outputs": [
    {
     "name": "stdout",
     "output_type": "stream",
     "text": [
      "[14061, 20087, 20087, 20087, 28118, 28118, 28118, 28118, 137019, 195712, 195712, 195712, 273957, 273957, 273957, 273957]\n"
     ]
    }
   ],
   "source": [
    "print(data_length)"
   ]
  },
  {
   "cell_type": "code",
   "execution_count": 16,
   "metadata": {},
   "outputs": [],
   "source": [
    "def write_answer_to_file(answer, file_address):\n",
    "    if isinstance(answer, list) or isinstance(answer, np.ndarray):\n",
    "        with open(os.path.join(ANSW, file_address), 'w') as out_f:\n",
    "            for idx, elmnt in enumerate(answer):\n",
    "                if idx == 0:\n",
    "                    out_f.write(str(elmnt))\n",
    "                else:\n",
    "                    out_f.write(' ' + str(elmnt))\n",
    "    else:\n",
    "        with open(os.path.join(ANSW, file_address), 'w') as out_f:\n",
    "            out_f.write(str(answer))"
   ]
  },
  {
   "cell_type": "code",
   "execution_count": 17,
   "metadata": {},
   "outputs": [],
   "source": [
    "write_answer_to_file(data_length, 'answer2_1.txt')"
   ]
  },
  {
   "cell_type": "code",
   "execution_count": null,
   "metadata": {},
   "outputs": [],
   "source": []
  },
  {
   "cell_type": "markdown",
   "metadata": {},
   "source": [
    "# первичный анализ данных, проверка гипотез"
   ]
  },
  {
   "cell_type": "code",
   "execution_count": 22,
   "metadata": {},
   "outputs": [],
   "source": [
    "train_df = pd.read_csv(os.path.join(MY_DATA, 'train_data_10users.csv'),\n",
    "                      index_col = 'session_id'\n",
    "                      )"
   ]
  },
  {
   "cell_type": "code",
   "execution_count": 23,
   "metadata": {},
   "outputs": [
    {
     "data": {
      "text/html": [
       "<div>\n",
       "<style scoped>\n",
       "    .dataframe tbody tr th:only-of-type {\n",
       "        vertical-align: middle;\n",
       "    }\n",
       "\n",
       "    .dataframe tbody tr th {\n",
       "        vertical-align: top;\n",
       "    }\n",
       "\n",
       "    .dataframe thead th {\n",
       "        text-align: right;\n",
       "    }\n",
       "</style>\n",
       "<table border=\"1\" class=\"dataframe\">\n",
       "  <thead>\n",
       "    <tr style=\"text-align: right;\">\n",
       "      <th></th>\n",
       "      <th>site1</th>\n",
       "      <th>site2</th>\n",
       "      <th>site3</th>\n",
       "      <th>site4</th>\n",
       "      <th>site5</th>\n",
       "      <th>site6</th>\n",
       "      <th>site7</th>\n",
       "      <th>site8</th>\n",
       "      <th>site9</th>\n",
       "      <th>site10</th>\n",
       "      <th>user_id</th>\n",
       "    </tr>\n",
       "    <tr>\n",
       "      <th>session_id</th>\n",
       "      <th></th>\n",
       "      <th></th>\n",
       "      <th></th>\n",
       "      <th></th>\n",
       "      <th></th>\n",
       "      <th></th>\n",
       "      <th></th>\n",
       "      <th></th>\n",
       "      <th></th>\n",
       "      <th></th>\n",
       "      <th></th>\n",
       "    </tr>\n",
       "  </thead>\n",
       "  <tbody>\n",
       "    <tr>\n",
       "      <th>0</th>\n",
       "      <td>192</td>\n",
       "      <td>574</td>\n",
       "      <td>133</td>\n",
       "      <td>3</td>\n",
       "      <td>133</td>\n",
       "      <td>133</td>\n",
       "      <td>3</td>\n",
       "      <td>133</td>\n",
       "      <td>203</td>\n",
       "      <td>133</td>\n",
       "      <td>31</td>\n",
       "    </tr>\n",
       "    <tr>\n",
       "      <th>1</th>\n",
       "      <td>415</td>\n",
       "      <td>193</td>\n",
       "      <td>674</td>\n",
       "      <td>254</td>\n",
       "      <td>133</td>\n",
       "      <td>31</td>\n",
       "      <td>393</td>\n",
       "      <td>3305</td>\n",
       "      <td>217</td>\n",
       "      <td>55</td>\n",
       "      <td>31</td>\n",
       "    </tr>\n",
       "    <tr>\n",
       "      <th>2</th>\n",
       "      <td>55</td>\n",
       "      <td>3</td>\n",
       "      <td>55</td>\n",
       "      <td>55</td>\n",
       "      <td>5</td>\n",
       "      <td>293</td>\n",
       "      <td>415</td>\n",
       "      <td>333</td>\n",
       "      <td>897</td>\n",
       "      <td>55</td>\n",
       "      <td>31</td>\n",
       "    </tr>\n",
       "    <tr>\n",
       "      <th>3</th>\n",
       "      <td>473</td>\n",
       "      <td>3306</td>\n",
       "      <td>473</td>\n",
       "      <td>55</td>\n",
       "      <td>55</td>\n",
       "      <td>55</td>\n",
       "      <td>55</td>\n",
       "      <td>937</td>\n",
       "      <td>199</td>\n",
       "      <td>123</td>\n",
       "      <td>31</td>\n",
       "    </tr>\n",
       "    <tr>\n",
       "      <th>4</th>\n",
       "      <td>342</td>\n",
       "      <td>55</td>\n",
       "      <td>5</td>\n",
       "      <td>3307</td>\n",
       "      <td>258</td>\n",
       "      <td>211</td>\n",
       "      <td>3308</td>\n",
       "      <td>2086</td>\n",
       "      <td>675</td>\n",
       "      <td>2086</td>\n",
       "      <td>31</td>\n",
       "    </tr>\n",
       "  </tbody>\n",
       "</table>\n",
       "</div>"
      ],
      "text/plain": [
       "            site1  site2  site3  site4  site5  site6  site7  site8  site9  \\\n",
       "session_id                                                                  \n",
       "0             192    574    133      3    133    133      3    133    203   \n",
       "1             415    193    674    254    133     31    393   3305    217   \n",
       "2              55      3     55     55      5    293    415    333    897   \n",
       "3             473   3306    473     55     55     55     55    937    199   \n",
       "4             342     55      5   3307    258    211   3308   2086    675   \n",
       "\n",
       "            site10  user_id  \n",
       "session_id                   \n",
       "0              133       31  \n",
       "1               55       31  \n",
       "2               55       31  \n",
       "3              123       31  \n",
       "4             2086       31  "
      ]
     },
     "execution_count": 23,
     "metadata": {},
     "output_type": "execute_result"
    }
   ],
   "source": [
    "train_df.head()"
   ]
  },
  {
   "cell_type": "code",
   "execution_count": 24,
   "metadata": {},
   "outputs": [
    {
     "name": "stdout",
     "output_type": "stream",
     "text": [
      "<class 'pandas.core.frame.DataFrame'>\n",
      "Int64Index: 14061 entries, 0 to 14060\n",
      "Data columns (total 11 columns):\n",
      " #   Column   Non-Null Count  Dtype\n",
      "---  ------   --------------  -----\n",
      " 0   site1    14061 non-null  int64\n",
      " 1   site2    14061 non-null  int64\n",
      " 2   site3    14061 non-null  int64\n",
      " 3   site4    14061 non-null  int64\n",
      " 4   site5    14061 non-null  int64\n",
      " 5   site6    14061 non-null  int64\n",
      " 6   site7    14061 non-null  int64\n",
      " 7   site8    14061 non-null  int64\n",
      " 8   site9    14061 non-null  int64\n",
      " 9   site10   14061 non-null  int64\n",
      " 10  user_id  14061 non-null  int64\n",
      "dtypes: int64(11)\n",
      "memory usage: 1.3 MB\n"
     ]
    }
   ],
   "source": [
    "train_df.info()"
   ]
  },
  {
   "cell_type": "code",
   "execution_count": 25,
   "metadata": {},
   "outputs": [
    {
     "data": {
      "text/plain": [
       "128    2796\n",
       "39     2204\n",
       "207    1868\n",
       "127    1712\n",
       "237    1643\n",
       "33     1022\n",
       "50      802\n",
       "31      760\n",
       "100     720\n",
       "241     534\n",
       "Name: user_id, dtype: int64"
      ]
     },
     "execution_count": 25,
     "metadata": {},
     "output_type": "execute_result"
    }
   ],
   "source": [
    "train_df.user_id.value_counts()"
   ]
  },
  {
   "cell_type": "code",
   "execution_count": 26,
   "metadata": {},
   "outputs": [
    {
     "data": {
      "text/plain": [
       "14061"
      ]
     },
     "execution_count": 26,
     "metadata": {},
     "output_type": "execute_result"
    }
   ],
   "source": [
    "num_uniq_sites = [np.unique(train_df.values[i, :-1]).shape[0]\n",
    "                 for i in range(train_df.shape[0])]\n",
    "\n",
    "len(num_uniq_sites)"
   ]
  },
  {
   "cell_type": "code",
   "execution_count": 27,
   "metadata": {},
   "outputs": [
    {
     "data": {
      "image/png": "[encoded data removed]",
      "text/plain": [
       "<Figure size 432x288 with 1 Axes>"
      ]
     },
     "metadata": {
      "needs_background": "light"
     },
     "output_type": "display_data"
    }
   ],
   "source": [
    "pd.Series(num_uniq_sites).hist();"
   ]
  },
  {
   "cell_type": "markdown",
   "metadata": {},
   "source": [
    "проверим распределено ли кол-во уникальных сайтов в каждой сессии нормально"
   ]
  },
  {
   "cell_type": "code",
   "execution_count": 28,
   "metadata": {},
   "outputs": [
    {
     "data": {
      "text/plain": [
       "((array([-3.89403843, -3.6734386 , -3.55253248, ...,  3.55253248,\n",
       "          3.6734386 ,  3.89403843]), array([ 1,  1,  1, ..., 10, 10, 10])),\n",
       " (2.308739910778148, 5.951923760756702, 0.9770787039552056))"
      ]
     },
     "execution_count": 28,
     "metadata": {},
     "output_type": "execute_result"
    },
    {
     "data": {
      "image/png": "[encoded data removed]",
      "text/plain": [
       "<Figure size 432x288 with 1 Axes>"
      ]
     },
     "metadata": {
      "needs_background": "light"
     },
     "output_type": "display_data"
    }
   ],
   "source": [
    "sts.probplot(num_uniq_sites, plot=plt)"
   ]
  },
  {
   "cell_type": "code",
   "execution_count": 29,
   "metadata": {},
   "outputs": [
    {
     "data": {
      "image/png": "[encoded data removed]",
      "text/plain": [
       "<Figure size 432x288 with 1 Axes>"
      ]
     },
     "metadata": {
      "needs_background": "light"
     },
     "output_type": "display_data"
    }
   ],
   "source": [
    "fig = sm.qqplot(np.array(num_uniq_sites), sts.norm, line = 's')\n",
    "plt.show()"
   ]
  },
  {
   "cell_type": "code",
   "execution_count": 30,
   "metadata": {},
   "outputs": [
    {
     "name": "stdout",
     "output_type": "stream",
     "text": [
      "Statistics=0.955, p=0.00000000\n"
     ]
    },
    {
     "name": "stderr",
     "output_type": "stream",
     "text": [
      "/home/voloch/.local/lib/python3.7/site-packages/scipy/stats/morestats.py:1676: UserWarning: p-value may not be accurate for N > 5000.\n",
      "  warnings.warn(\"p-value may not be accurate for N > 5000.\")\n"
     ]
    }
   ],
   "source": [
    "stat, p = sts.shapiro(num_uniq_sites)\n",
    "print('Statistics=%.3f, p=%.8f' % (stat, p))"
   ]
  },
  {
   "cell_type": "code",
   "execution_count": 31,
   "metadata": {},
   "outputs": [],
   "source": [
    "alpha = 0.05\n",
    "if p > alpha:\n",
    "    answ2 = 'YES'\n",
    "else:\n",
    "    answ2 = 'NO'"
   ]
  },
  {
   "cell_type": "code",
   "execution_count": 32,
   "metadata": {},
   "outputs": [],
   "source": [
    "write_answer_to_file(answ2, 'answer2_2.txt')"
   ]
  },
  {
   "cell_type": "code",
   "execution_count": null,
   "metadata": {},
   "outputs": [],
   "source": []
  },
  {
   "cell_type": "markdown",
   "metadata": {},
   "source": [
    "**Проверьте гипотезу о том, что пользователь хотя бы раз зайдет на сайт, который он уже ранее посетил в сессии из 10 сайтов. Давайте проверим с помощью биномиального критерия для доли, что доля случаев, когда пользователь повторно посетил какой-то сайт (то есть число уникальных сайтов в сессии < 10) велика: больше 95% (обратите внимание, что альтернатива тому, что доля равна 95% –  одностороняя).**"
   ]
  },
  {
   "cell_type": "code",
   "execution_count": 33,
   "metadata": {},
   "outputs": [
    {
     "data": {
      "text/plain": [
       "array([1, 0, 1, ..., 1, 1, 1])"
      ]
     },
     "execution_count": 33,
     "metadata": {},
     "output_type": "execute_result"
    }
   ],
   "source": [
    "has_two_similar = (np.array(num_uniq_sites) < 10).astype('int')\n",
    "has_two_similar"
   ]
  },
  {
   "cell_type": "code",
   "execution_count": 34,
   "metadata": {},
   "outputs": [
    {
     "data": {
      "text/plain": [
       "0.02207653769072678"
      ]
     },
     "execution_count": 34,
     "metadata": {},
     "output_type": "execute_result"
    }
   ],
   "source": [
    "p_val = sts.binom_test(sum(has_two_similar), len(has_two_similar), p = 0.95, alternative='greater')\n",
    "answ3 = p_val\n",
    "answ3"
   ]
  },
  {
   "cell_type": "code",
   "execution_count": 35,
   "metadata": {},
   "outputs": [],
   "source": [
    "write_answer_to_file(answ3, 'answer2_3.txt')"
   ]
  },
  {
   "cell_type": "code",
   "execution_count": null,
   "metadata": {},
   "outputs": [],
   "source": []
  },
  {
   "cell_type": "markdown",
   "metadata": {},
   "source": [
    "**Поcмотрим для этой доли 95% доверительный интервал Уилсона**"
   ]
  },
  {
   "cell_type": "code",
   "execution_count": 36,
   "metadata": {},
   "outputs": [
    {
     "data": {
      "text/plain": [
       "(0.9501028841411286, 0.9570527377232229)"
      ]
     },
     "execution_count": 36,
     "metadata": {},
     "output_type": "execute_result"
    }
   ],
   "source": [
    "wilson_int = proportion_confint(sum(has_two_similar), len(has_two_similar), method = 'wilson')\n",
    "wilson_int"
   ]
  },
  {
   "cell_type": "code",
   "execution_count": 37,
   "metadata": {},
   "outputs": [
    {
     "data": {
      "text/plain": [
       "[0.95, 0.957]"
      ]
     },
     "execution_count": 37,
     "metadata": {},
     "output_type": "execute_result"
    }
   ],
   "source": [
    "answ4 = [round(wilson_int[0], 3), round(wilson_int[1], 3)]\n",
    "answ4"
   ]
  },
  {
   "cell_type": "code",
   "execution_count": 38,
   "metadata": {},
   "outputs": [],
   "source": [
    "write_answer_to_file(answ4, 'answer2_4.txt')"
   ]
  },
  {
   "cell_type": "code",
   "execution_count": null,
   "metadata": {},
   "outputs": [],
   "source": []
  },
  {
   "cell_type": "code",
   "execution_count": 39,
   "metadata": {},
   "outputs": [],
   "source": [
    "with open(os.path.join(MY_DATA, 'site_freq_10users.pkl'), 'rb') as f:\n",
    "    freq_site_dict = pickle.load(f)"
   ]
  },
  {
   "cell_type": "markdown",
   "metadata": {},
   "source": [
    "**Постройте распределение частоты посещения сайтов (сколько раз тот или иной сайт попадается в выборке) для сайтов, которые были посещены как минимум 1000 раз.**"
   ]
  },
  {
   "cell_type": "raw",
   "metadata": {},
   "source": [
    "в спарс матрице первые н столбцов. кол-во 1, 2 и т.д.\n",
    "предел? "
   ]
  },
  {
   "cell_type": "code",
   "execution_count": 43,
   "metadata": {},
   "outputs": [],
   "source": [
    "with open(os.path.join(MY_DATA, 'site_freq_10users.pkl'), 'rb') as f:\n",
    "    sites = pickle.load(f)"
   ]
  },
  {
   "cell_type": "code",
   "execution_count": 45,
   "metadata": {},
   "outputs": [
    {
     "data": {
      "text/plain": [
       "4913"
      ]
     },
     "execution_count": 45,
     "metadata": {},
     "output_type": "execute_result"
    }
   ],
   "source": [
    "len(sites)"
   ]
  },
  {
   "cell_type": "code",
   "execution_count": 87,
   "metadata": {},
   "outputs": [],
   "source": [
    "freq_sites = [el[1] for el in sites.values()]\n",
    "freq_ind = [el[0] for el in sites.values()]"
   ]
  },
  {
   "cell_type": "code",
   "execution_count": null,
   "metadata": {},
   "outputs": [],
   "source": []
  },
  {
   "cell_type": "markdown",
   "metadata": {},
   "source": [
    "**Постройте 95% доверительный интервал для средней частоты появления сайта в выборке (во всей, уже не только для тех сайтов, что были посещены как минимум 1000 раз) на основе bootstrap. Используйте столько же bootstrap-подвыборок, сколько сайтов оказалось в исходной выборке по 10 пользователям. Берите подвыборки из посчитанного списка частот посещений сайтов – не надо заново считать эти частоты. Учтите, что частоту появления нуля (сайт с индексом 0 появлялся там, где сессии были короче 10 сайтов) включать не надо. Округлите границы интервала до 3 знаков после запятой и запишите через пробел в файл *answer2_5.txt*. Это будет ответом на 5 вопрос теста.**"
   ]
  },
  {
   "cell_type": "code",
   "execution_count": 172,
   "metadata": {},
   "outputs": [],
   "source": [
    "def get_bootstrap_samples(data, n_samples, random_seed=17):\n",
    "    np.random.seed(random_seed)\n",
    "    indices = np.random.randint(0, len(data), (n_samples, len(data)))\n",
    "    samples = data[indices]\n",
    "    return samples"
   ]
  },
  {
   "cell_type": "code",
   "execution_count": 173,
   "metadata": {},
   "outputs": [],
   "source": [
    "def stat_intervals(stat, alpha):\n",
    "    boundaries = np.percentile(stat, \n",
    "                 [100 * alpha / 2., 100 * (1 - alpha / 2.)])\n",
    "    return boundaries"
   ]
  },
  {
   "cell_type": "code",
   "execution_count": 174,
   "metadata": {},
   "outputs": [],
   "source": [
    "freq_data = pd.DataFrame({'freq': freq_sites}, index = freq_ind)"
   ]
  },
  {
   "cell_type": "markdown",
   "metadata": {},
   "source": [
    "предполагаем, что текущие данные лишь одна из возможных     \n",
    "выборок генеральной совокупности.     \n",
    "генерируем другие возможные выборки"
   ]
  },
  {
   "cell_type": "code",
   "execution_count": 175,
   "metadata": {},
   "outputs": [],
   "source": [
    "freq_samples = map(np.mean, get_bootstrap_samples(freq_data.freq.values, len(sites)))"
   ]
  },
  {
   "cell_type": "code",
   "execution_count": 176,
   "metadata": {},
   "outputs": [],
   "source": [
    "gg = stat_intervals(list(freq_samples), 0.05)"
   ]
  },
  {
   "cell_type": "code",
   "execution_count": 177,
   "metadata": {},
   "outputs": [
    {
     "data": {
      "text/plain": [
       "array([22.51524527, 35.76303684])"
      ]
     },
     "execution_count": 177,
     "metadata": {},
     "output_type": "execute_result"
    }
   ],
   "source": [
    "gg"
   ]
  },
  {
   "cell_type": "code",
   "execution_count": 178,
   "metadata": {},
   "outputs": [
    {
     "data": {
      "text/plain": [
       "[22.515, 35.763]"
      ]
     },
     "execution_count": 178,
     "metadata": {},
     "output_type": "execute_result"
    }
   ],
   "source": [
    "answ5 = [round(gg[0], 3), round(gg[1], 3)]\n",
    "answ5"
   ]
  },
  {
   "cell_type": "code",
   "execution_count": 179,
   "metadata": {},
   "outputs": [],
   "source": [
    "write_answer_to_file(answ5, 'answer2_5.txt')"
   ]
  },
  {
   "cell_type": "code",
   "execution_count": null,
   "metadata": {},
   "outputs": [],
   "source": []
  }
 ],
 "metadata": {
  "kernelspec": {
   "display_name": "Python 3",
   "language": "python",
   "name": "python3"
  },
  "language_info": {
   "codemirror_mode": {
    "name": "ipython",
    "version": 3
   },
   "file_extension": ".py",
   "mimetype": "text/x-python",
   "name": "python",
   "nbconvert_exporter": "python",
   "pygments_lexer": "ipython3",
   "version": "3.7.4"
  }
 },
 "nbformat": 4,
 "nbformat_minor": 4
}
