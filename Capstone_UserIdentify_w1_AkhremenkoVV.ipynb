{
 "cells": [
  {
   "cell_type": "code",
   "execution_count": 1,
   "metadata": {},
   "outputs": [],
   "source": [
    "import pandas as pd\n",
    "import numpy as np\n",
    "from scipy.sparse import csr_matrix\n",
    "\n",
    "import os\n",
    "import glob\n",
    "import pickle\n",
    "from collections import Counter\n",
    "\n",
    "import re\n",
    "from tqdm import tqdm"
   ]
  },
  {
   "cell_type": "code",
   "execution_count": 2,
   "metadata": {},
   "outputs": [],
   "source": [
    "DATA = './data'\n",
    "MY_DATA = './my_data'\n",
    "ANSW = './answers'"
   ]
  },
  {
   "cell_type": "code",
   "execution_count": 3,
   "metadata": {},
   "outputs": [
    {
     "data": {
      "text/plain": [
       "(27960, 2)"
      ]
     },
     "execution_count": 3,
     "metadata": {},
     "output_type": "execute_result"
    }
   ],
   "source": [
    "tmp_data = pd.read_csv(os.path.join(DATA, '10users/user0128.csv'))\n",
    "tmp_data.shape"
   ]
  },
  {
   "cell_type": "code",
   "execution_count": 4,
   "metadata": {},
   "outputs": [
    {
     "data": {
      "text/html": [
       "<div>\n",
       "<style scoped>\n",
       "    .dataframe tbody tr th:only-of-type {\n",
       "        vertical-align: middle;\n",
       "    }\n",
       "\n",
       "    .dataframe tbody tr th {\n",
       "        vertical-align: top;\n",
       "    }\n",
       "\n",
       "    .dataframe thead th {\n",
       "        text-align: right;\n",
       "    }\n",
       "</style>\n",
       "<table border=\"1\" class=\"dataframe\">\n",
       "  <thead>\n",
       "    <tr style=\"text-align: right;\">\n",
       "      <th></th>\n",
       "      <th>timestamp</th>\n",
       "      <th>site</th>\n",
       "    </tr>\n",
       "  </thead>\n",
       "  <tbody>\n",
       "    <tr>\n",
       "      <th>0</th>\n",
       "      <td>2013-11-15 13:46:03</td>\n",
       "      <td>fpdownload2.macromedia.com</td>\n",
       "    </tr>\n",
       "    <tr>\n",
       "      <th>1</th>\n",
       "      <td>2013-11-15 13:46:13</td>\n",
       "      <td>mail.google.com</td>\n",
       "    </tr>\n",
       "    <tr>\n",
       "      <th>2</th>\n",
       "      <td>2013-11-15 13:46:13</td>\n",
       "      <td>www.gmail.com</td>\n",
       "    </tr>\n",
       "    <tr>\n",
       "      <th>3</th>\n",
       "      <td>2013-11-15 13:46:25</td>\n",
       "      <td>accounts.google.com</td>\n",
       "    </tr>\n",
       "    <tr>\n",
       "      <th>4</th>\n",
       "      <td>2013-11-15 13:46:28</td>\n",
       "      <td>accounts.youtube.com</td>\n",
       "    </tr>\n",
       "  </tbody>\n",
       "</table>\n",
       "</div>"
      ],
      "text/plain": [
       "             timestamp                        site\n",
       "0  2013-11-15 13:46:03  fpdownload2.macromedia.com\n",
       "1  2013-11-15 13:46:13             mail.google.com\n",
       "2  2013-11-15 13:46:13               www.gmail.com\n",
       "3  2013-11-15 13:46:25         accounts.google.com\n",
       "4  2013-11-15 13:46:28        accounts.youtube.com"
      ]
     },
     "execution_count": 4,
     "metadata": {},
     "output_type": "execute_result"
    }
   ],
   "source": [
    "tmp_data.head()"
   ]
  },
  {
   "cell_type": "code",
   "execution_count": 5,
   "metadata": {},
   "outputs": [],
   "source": [
    "def prepare_train_set(path_to_csv, sess_len = 10):\n",
    "    col_names = ['site' + str(n+1) for n in range(sess_len)] + ['user_id']\n",
    "    #ret_data = pd.DataFrame(columns = col_names)\n",
    "    freq_site_dict = {}\n",
    "    site_cnt = Counter()\n",
    "    rows = 0\n",
    "\n",
    "    #for file_csv in sorted(glob.glob(path_to_csv + '/*.csv')):\n",
    "    for file_csv in tqdm(sorted(glob.glob(path_to_csv + '/*.csv'))):\n",
    "        temp_dataframe = pd.read_csv(file_csv)\n",
    "        site_cnt += Counter(temp_dataframe.site.values)\n",
    "        rows += round(temp_dataframe.shape[0] / sess_len + 0.499)\n",
    "\n",
    "    rows = rows\n",
    "    #print(rows)\n",
    "\n",
    "    for idx, site_dict in enumerate(site_cnt.most_common(), start = 1):\n",
    "        freq_site_dict[site_dict[0]] = (idx, site_dict[1])\n",
    "\n",
    "\n",
    "    ret_data = pd.DataFrame(index = range(rows), columns = col_names)\n",
    "    index = 0\n",
    "\n",
    "    for file_csv in tqdm(sorted(glob.glob(path_to_csv + '/*.csv'))):\n",
    "        temp_dataframe = pd.read_csv(file_csv)\n",
    "        userid = int(re.findall('\\d+', file_csv)[1])\n",
    "        #print(file_csv)    \n",
    "\n",
    "        sess_numb = round(temp_dataframe.shape[0] / sess_len + 0.499)\n",
    "        for idx in range(sess_numb - 1):\n",
    "            #new_sess = {}\n",
    "            new_sess = {('site' + str(n+1)):0 for n in range(sess_len)}\n",
    "            for n, site in enumerate(temp_dataframe.site.values[idx*sess_len: (idx + 1)*sess_len]):\n",
    "                new_sess['site' + str(n+1)] = freq_site_dict[site][0]\n",
    "            new_sess['user_id'] = userid\n",
    "\n",
    "            #ret_data = ret_data.append(new_sess, ignore_index = True)\n",
    "            ret_data.iloc[index] = new_sess\n",
    "            index += 1\n",
    "\n",
    "        new_sess = {('site' + str(n+1)):0 for n in range(sess_len)}\n",
    "        for n, site in enumerate(temp_dataframe.site.values[(sess_numb-1)*sess_len: ]):\n",
    "            new_sess['site' + str(n+1)] = freq_site_dict[site][0]\n",
    "        new_sess['user_id'] = userid\n",
    "\n",
    "        #ret_data = ret_data.append(new_sess, ignore_index = True)\n",
    "        #print(new_sess)\n",
    "        ret_data.iloc[index] = new_sess\n",
    "        index += 1\n",
    "        \n",
    "    return ret_data.fillna(0).astype(np.int), freq_site_dict"
   ]
  },
  {
   "cell_type": "code",
   "execution_count": 6,
   "metadata": {},
   "outputs": [
    {
     "name": "stderr",
     "output_type": "stream",
     "text": [
      "100%|██████████| 3/3 [00:00<00:00, 419.08it/s]\n",
      "100%|██████████| 3/3 [00:00<00:00, 425.83it/s]\n"
     ]
    }
   ],
   "source": [
    "train_3user, site_freq_3users = prepare_train_set(os.path.join(DATA, '3users'))"
   ]
  },
  {
   "cell_type": "code",
   "execution_count": null,
   "metadata": {},
   "outputs": [],
   "source": []
  },
  {
   "cell_type": "code",
   "execution_count": 7,
   "metadata": {},
   "outputs": [
    {
     "name": "stderr",
     "output_type": "stream",
     "text": [
      "100%|██████████| 10/10 [00:00<00:00, 93.21it/s]\n",
      "100%|██████████| 10/10 [00:05<00:00,  1.67it/s]\n"
     ]
    }
   ],
   "source": [
    "#0:35\n",
    "train_10users, site_freq_10users = prepare_train_set(os.path.join(DATA, '10users'))"
   ]
  },
  {
   "cell_type": "code",
   "execution_count": 8,
   "metadata": {},
   "outputs": [],
   "source": [
    "def write_answer_to_file(answer, file_address):\n",
    "    with open(os.path.join(ANSW, file_address), 'w') as out_f:\n",
    "        out_f.write(str(answer))"
   ]
  },
  {
   "cell_type": "code",
   "execution_count": 9,
   "metadata": {},
   "outputs": [
    {
     "data": {
      "text/plain": [
       "14061"
      ]
     },
     "execution_count": 9,
     "metadata": {},
     "output_type": "execute_result"
    }
   ],
   "source": [
    "#answ1 = train_10users.drop_duplicates(subset = ['site' + str(n+1) for n in range(10)]).shape[0]\n",
    "answ1 = train_10users.shape[0]\n",
    "answ1"
   ]
  },
  {
   "cell_type": "code",
   "execution_count": 10,
   "metadata": {},
   "outputs": [],
   "source": [
    "write_answer_to_file(answ1, 'answer1_1.txt')"
   ]
  },
  {
   "cell_type": "code",
   "execution_count": 11,
   "metadata": {},
   "outputs": [
    {
     "data": {
      "text/plain": [
       "4913"
      ]
     },
     "execution_count": 11,
     "metadata": {},
     "output_type": "execute_result"
    }
   ],
   "source": [
    "answ2 = len(site_freq_10users)\n",
    "answ2"
   ]
  },
  {
   "cell_type": "code",
   "execution_count": 12,
   "metadata": {},
   "outputs": [],
   "source": [
    "write_answer_to_file(answ2, 'answer1_2.txt')"
   ]
  },
  {
   "cell_type": "code",
   "execution_count": 13,
   "metadata": {},
   "outputs": [
    {
     "name": "stderr",
     "output_type": "stream",
     "text": [
      "100%|██████████| 150/150 [00:01<00:00, 104.31it/s]\n",
      "100%|██████████| 150/150 [00:59<00:00,  2.51it/s]\n"
     ]
    }
   ],
   "source": [
    "#51:30\n",
    "train_150users, site_freq_150users = prepare_train_set(os.path.join(DATA, '150users'))"
   ]
  },
  {
   "cell_type": "code",
   "execution_count": 14,
   "metadata": {},
   "outputs": [
    {
     "data": {
      "text/plain": [
       "137019"
      ]
     },
     "execution_count": 14,
     "metadata": {},
     "output_type": "execute_result"
    }
   ],
   "source": [
    "#answ3 = train_150users.drop_duplicates(subset = ['site' + str(n+1) for n in range(10)]).shape[0]\n",
    "answ3 = train_150users.shape[0]\n",
    "answ3"
   ]
  },
  {
   "cell_type": "code",
   "execution_count": 15,
   "metadata": {},
   "outputs": [],
   "source": [
    "write_answer_to_file(answ3, 'answer1_3.txt')"
   ]
  },
  {
   "cell_type": "code",
   "execution_count": 16,
   "metadata": {},
   "outputs": [
    {
     "data": {
      "text/plain": [
       "27797"
      ]
     },
     "execution_count": 16,
     "metadata": {},
     "output_type": "execute_result"
    }
   ],
   "source": [
    "answ4 = len(site_freq_150users)\n",
    "answ4"
   ]
  },
  {
   "cell_type": "code",
   "execution_count": 17,
   "metadata": {},
   "outputs": [],
   "source": [
    "write_answer_to_file(answ4, 'answer1_4.txt')"
   ]
  },
  {
   "cell_type": "code",
   "execution_count": null,
   "metadata": {},
   "outputs": [],
   "source": []
  },
  {
   "cell_type": "code",
   "execution_count": 18,
   "metadata": {},
   "outputs": [],
   "source": [
    "i = 0\n",
    "with open(os.path.join(ANSW, 'answer1_5.txt'), 'w') as out_f:\n",
    "    for site in site_freq_150users:\n",
    "        out_f.write(site + ' ')\n",
    "        i += 1\n",
    "        if i == 10:\n",
    "            break\n",
    "            \n",
    "#delete last ' '"
   ]
  },
  {
   "cell_type": "code",
   "execution_count": null,
   "metadata": {},
   "outputs": [],
   "source": []
  },
  {
   "cell_type": "code",
   "execution_count": 19,
   "metadata": {},
   "outputs": [],
   "source": [
    "train_10users.to_csv(os.path.join(MY_DATA, 'train_data_10users.csv'), \n",
    "                        index_label='session_id', float_format='%d')\n",
    "train_150users.to_csv(os.path.join(MY_DATA, 'train_data_150users.csv'), \n",
    "                         index_label='session_id', float_format='%d')"
   ]
  },
  {
   "cell_type": "code",
   "execution_count": 20,
   "metadata": {},
   "outputs": [
    {
     "data": {
      "text/plain": [
       "(4913, 27797)"
      ]
     },
     "execution_count": 20,
     "metadata": {},
     "output_type": "execute_result"
    }
   ],
   "source": [
    "train_10users.values.max(), train_150users.values.max()"
   ]
  },
  {
   "cell_type": "code",
   "execution_count": 21,
   "metadata": {},
   "outputs": [],
   "source": [
    "def to_sitebow_csr(inp_data):\n",
    "    row = []\n",
    "    col = []\n",
    "    data = []\n",
    "    for idx, elmnt in enumerate(inp_data):\n",
    "        cnt = Counter(elmnt)\n",
    "        \n",
    "        row += [idx] * len(cnt)\n",
    "        data+= list(cnt.values())\n",
    "        col += list(cnt.keys())\n",
    "\n",
    "    ret = csr_matrix((data, (row, col)), shape = (max(row)+1, max(col)+1))[:, 1:]\n",
    "    \n",
    "    return ret"
   ]
  },
  {
   "cell_type": "code",
   "execution_count": 22,
   "metadata": {},
   "outputs": [
    {
     "data": {
      "text/plain": [
       "array([[1, 3, 1, 0, 1, 0, 1, 1, 1, 1, 0],\n",
       "       [3, 0, 1, 0, 0, 0, 0, 0, 0, 0, 0],\n",
       "       [0, 2, 1, 0, 0, 2, 0, 0, 0, 0, 0],\n",
       "       [4, 2, 0, 2, 1, 0, 0, 0, 0, 0, 1],\n",
       "       [1, 1, 0, 1, 0, 0, 0, 0, 0, 0, 0]])"
      ]
     },
     "execution_count": 22,
     "metadata": {},
     "output_type": "execute_result"
    }
   ],
   "source": [
    "to_sitebow_csr(train_3user.iloc[:, :-1].values).toarray()"
   ]
  },
  {
   "cell_type": "code",
   "execution_count": 23,
   "metadata": {},
   "outputs": [
    {
     "data": {
      "text/plain": [
       "(4913, 27797)"
      ]
     },
     "execution_count": 23,
     "metadata": {},
     "output_type": "execute_result"
    }
   ],
   "source": [
    "train_10users = pd.read_csv(os.path.join(MY_DATA, 'train_data_10users.csv'), index_col='session_id')\n",
    "train_150users = pd.read_csv(os.path.join(MY_DATA, 'train_data_150users.csv'), index_col='session_id')\n",
    "train_10users.values.max(), train_150users.values.max()"
   ]
  },
  {
   "cell_type": "code",
   "execution_count": 24,
   "metadata": {},
   "outputs": [
    {
     "name": "stdout",
     "output_type": "stream",
     "text": [
      "11\n",
      "4913\n",
      "27797\n"
     ]
    }
   ],
   "source": [
    "print(len(site_freq_3users))\n",
    "print(len(site_freq_10users))\n",
    "print(len(site_freq_150users))"
   ]
  },
  {
   "cell_type": "code",
   "execution_count": 25,
   "metadata": {},
   "outputs": [],
   "source": [
    "x_3users, y_3users = train_3user.iloc[:, :-1].values, train_3user.iloc[:, -1].values\n",
    "x_10users, y_10users = train_10users.iloc[:, :-1].values, train_10users.iloc[:, -1].values\n",
    "x_150users, y_150users = train_150users.iloc[:, :-1].values, train_150users.iloc[:, -1].values"
   ]
  },
  {
   "cell_type": "code",
   "execution_count": 26,
   "metadata": {},
   "outputs": [
    {
     "name": "stdout",
     "output_type": "stream",
     "text": [
      "(5, 10)\n",
      "(14061, 10)\n",
      "(137019, 10)\n",
      "(5, 11)\n",
      "(14061, 4913)\n",
      "(137019, 27797)\n"
     ]
    }
   ],
   "source": [
    "print(x_3users.shape)\n",
    "print(x_10users.shape)\n",
    "print(x_150users.shape)\n",
    "\n",
    "X_sp_3users = to_sitebow_csr(x_3users)\n",
    "X_sp_10users = to_sitebow_csr(x_10users)\n",
    "X_sp_150users = to_sitebow_csr(x_150users)\n",
    "\n",
    "print(X_sp_3users.shape)\n",
    "print(X_sp_10users.shape)\n",
    "print(X_sp_150users.shape)"
   ]
  },
  {
   "cell_type": "code",
   "execution_count": 27,
   "metadata": {},
   "outputs": [
    {
     "data": {
      "text/plain": [
       "array([[1, 3, 1, 0, 1, 0, 1, 1, 1, 1, 0],\n",
       "       [3, 0, 1, 0, 0, 0, 0, 0, 0, 0, 0],\n",
       "       [0, 2, 1, 0, 0, 2, 0, 0, 0, 0, 0],\n",
       "       [4, 2, 0, 2, 1, 0, 0, 0, 0, 0, 1],\n",
       "       [1, 1, 0, 1, 0, 0, 0, 0, 0, 0, 0]])"
      ]
     },
     "execution_count": 27,
     "metadata": {},
     "output_type": "execute_result"
    }
   ],
   "source": [
    "X_sp_3users.toarray()"
   ]
  },
  {
   "cell_type": "code",
   "execution_count": 28,
   "metadata": {},
   "outputs": [],
   "source": [
    "with open(os.path.join(MY_DATA, 'X_sp_3users.pkl'), 'wb') as X3_pkl:\n",
    "    pickle.dump(X_sp_3users, X3_pkl, protocol = 2)\n",
    "    \n",
    "with open(os.path.join(MY_DATA, 'X_sp_10users.pkl'), 'wb') as X10_pkl:\n",
    "    pickle.dump(X_sp_10users, X10_pkl, protocol = 2)\n",
    "\n",
    "with open(os.path.join(MY_DATA, 'X_sp_150users.pkl'), 'wb') as X150_pkl:\n",
    "    pickle.dump(X_sp_150users, X150_pkl, protocol = 2)"
   ]
  },
  {
   "cell_type": "code",
   "execution_count": 29,
   "metadata": {},
   "outputs": [],
   "source": [
    "with open(os.path.join(MY_DATA, 'y_3users.pkl'), 'wb') as Y3_pkl:\n",
    "    pickle.dump(y_3users, Y3_pkl, protocol = 2)\n",
    "    \n",
    "with open(os.path.join(MY_DATA, 'y_10users.pkl'), 'wb') as Y10_pkl:\n",
    "    pickle.dump(y_10users, Y10_pkl, protocol = 2)\n",
    "\n",
    "with open(os.path.join(MY_DATA, 'y_150users.pkl'), 'wb') as Y150_pkl:\n",
    "    pickle.dump(y_150users, Y150_pkl, protocol = 2)"
   ]
  },
  {
   "cell_type": "code",
   "execution_count": 30,
   "metadata": {},
   "outputs": [],
   "source": [
    "with open(os.path.join(MY_DATA, 'site_freq_3users.pkl'), 'wb') as freq3_pkl:\n",
    "    pickle.dump(site_freq_3users, freq3_pkl, protocol = 2)\n",
    "    \n",
    "with open(os.path.join(MY_DATA, 'site_freq_10users.pkl'), 'wb') as freq10_pkl:\n",
    "    pickle.dump(site_freq_10users, freq10_pkl, protocol = 2)\n",
    "\n",
    "with open(os.path.join(MY_DATA, 'site_freq_150users.pkl'), 'wb') as freq150_pkl:\n",
    "    pickle.dump(site_freq_150users, freq150_pkl, protocol = 2)"
   ]
  },
  {
   "cell_type": "code",
   "execution_count": null,
   "metadata": {},
   "outputs": [],
   "source": []
  },
  {
   "cell_type": "code",
   "execution_count": null,
   "metadata": {},
   "outputs": [],
   "source": []
  },
  {
   "cell_type": "code",
   "execution_count": null,
   "metadata": {},
   "outputs": [],
   "source": []
  }
 ],
 "metadata": {
  "kernelspec": {
   "display_name": "Python 3",
   "language": "python",
   "name": "python3"
  },
  "language_info": {
   "codemirror_mode": {
    "name": "ipython",
    "version": 3
   },
   "file_extension": ".py",
   "mimetype": "text/x-python",
   "name": "python",
   "nbconvert_exporter": "python",
   "pygments_lexer": "ipython3",
   "version": "3.7.9"
  }
 },
 "nbformat": 4,
 "nbformat_minor": 4
}
