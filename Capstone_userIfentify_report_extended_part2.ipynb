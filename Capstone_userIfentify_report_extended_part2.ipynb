{
 "cells": [
  {
   "cell_type": "code",
   "execution_count": 1,
   "metadata": {},
   "outputs": [],
   "source": [
    "%load_ext watermark"
   ]
  },
  {
   "cell_type": "code",
   "execution_count": 100,
   "metadata": {},
   "outputs": [
    {
     "name": "stdout",
     "output_type": "stream",
     "text": [
      "Python implementation: CPython\n",
      "Python version       : 3.7.9\n",
      "IPython version      : 7.18.1\n",
      "\n",
      "numpy      : 1.19.2\n",
      "sklearn    : 0.23.2\n",
      "pandas     : 0.25.3\n",
      "scipy      : 1.5.2\n",
      "matplotlib : 3.3.2\n",
      "statsmodels: 0.12.0\n",
      "\n",
      "Compiler    : MSC v.1916 64 bit (AMD64)\n",
      "OS          : Windows\n",
      "Release     : 10\n",
      "Machine     : AMD64\n",
      "Processor   : Intel64 Family 6 Model 158 Stepping 9, GenuineIntel\n",
      "CPU cores   : 8\n",
      "Architecture: 64bit\n",
      "\n",
      "Git hash: 97f7c957d8bdb2ae97ff130773d39b97d0b4cb18\n",
      "\n"
     ]
    }
   ],
   "source": [
    "%watermark -v -m -p numpy,sklearn,pandas,scipy,matplotlib,statsmodels -g"
   ]
  },
  {
   "cell_type": "code",
   "execution_count": 101,
   "metadata": {},
   "outputs": [],
   "source": [
    "TQDM_DISABLE = True"
   ]
  },
  {
   "cell_type": "markdown",
   "metadata": {},
   "source": [
    "### Предположим нам специфицировали задачу.    \n",
    "### Требуется производить идентификацию для пользователей из директории '150users' и ограничением по времени не превышеющим 10 минут."
   ]
  },
  {
   "cell_type": "code",
   "execution_count": 102,
   "metadata": {},
   "outputs": [],
   "source": [
    "import os\n",
    "import time\n",
    "import glob\n",
    "import numpy as np\n",
    "import pandas as pd\n",
    "\n",
    "import re\n",
    "#import random\n",
    "import pickle\n",
    "import gc\n",
    "\n",
    "from tqdm.notebook import tqdm \n",
    "\n",
    "import itertools\n",
    "from collections import Counter\n",
    "from collections import defaultdict\n",
    "from scipy.sparse import csr_matrix\n",
    "\n",
    "from sklearn.model_selection import train_test_split, StratifiedKFold#, GridSearchCV\n",
    "from sklearn.linear_model import SGDClassifier\n",
    "\n",
    "from sklearn.metrics import accuracy_score, f1_score,\n",
    "\n",
    "import plotly.express as px\n",
    "import plotly.graph_objects as go\n",
    "from plotly.subplots import make_subplots"
   ]
  },
  {
   "cell_type": "code",
   "execution_count": 103,
   "metadata": {},
   "outputs": [],
   "source": [
    "from sklearn.neighbors import KNeighborsClassifier\n",
    "from sklearn.ensemble import RandomForestClassifier\n",
    "from sklearn.linear_model import LogisticRegression\n",
    "from sklearn.svm import LinearSVC\n",
    "\n",
    "#from catboost import CatBoostClassifier\n",
    "#import catboost as cb\n",
    "#import lightgbm as lgb\n",
    "#from lightgbm import LGBMClassifier\n",
    "import xgboost as xgb"
   ]
  },
  {
   "cell_type": "code",
   "execution_count": 104,
   "metadata": {},
   "outputs": [
    {
     "name": "stdout",
     "output_type": "stream",
     "text": [
      "Populating the interactive namespace from numpy and matplotlib\n"
     ]
    }
   ],
   "source": [
    "%pylab inline"
   ]
  },
  {
   "cell_type": "code",
   "execution_count": 105,
   "metadata": {},
   "outputs": [],
   "source": [
    "from sklearn import feature_selection"
   ]
  },
  {
   "cell_type": "markdown",
   "metadata": {},
   "source": [
    "Подготовим окружение, данные, известные параметры"
   ]
  },
  {
   "cell_type": "code",
   "execution_count": 106,
   "metadata": {},
   "outputs": [],
   "source": [
    "PATH_TO_DATA     = os.path.join('.', 'data')\n",
    "PATH_TO_DATA_ALL = os.path.join('.', 'data', '150users')\n",
    "PATH_TO_DATA_OWN = os.path.join('.', 'data_own')\n",
    "PATH_TO_DATA_ALL_PREP = os.path.join('.', 'data', '150users_prepared')\n",
    "ANSW = os.path.join('.', 'answers')"
   ]
  },
  {
   "cell_type": "code",
   "execution_count": 107,
   "metadata": {},
   "outputs": [],
   "source": [
    "filenames_all = [re.findall('\\d+', x)[-1] for x in sorted(glob.glob(PATH_TO_DATA_ALL + '/*.csv'))]"
   ]
  },
  {
   "cell_type": "code",
   "execution_count": 108,
   "metadata": {},
   "outputs": [],
   "source": [
    "WEEK = 7"
   ]
  },
  {
   "cell_type": "code",
   "execution_count": null,
   "metadata": {},
   "outputs": [],
   "source": []
  },
  {
   "cell_type": "code",
   "execution_count": 109,
   "metadata": {},
   "outputs": [
    {
     "data": {
      "text/plain": [
       "'13:46:34'"
      ]
     },
     "execution_count": 109,
     "metadata": {},
     "output_type": "execute_result"
    }
   ],
   "source": [
    "time.strftime('%H:%M:%S')"
   ]
  },
  {
   "cell_type": "code",
   "execution_count": 110,
   "metadata": {},
   "outputs": [
    {
     "name": "stdout",
     "output_type": "stream",
     "text": [
      "Wall time: 0 ns\n"
     ]
    }
   ],
   "source": [
    "%%time\n",
    "# 6 min\n",
    "if not os.path.isfile(os.path.join(PATH_TO_DATA_ALL_PREP, f'user0006.csv')):\n",
    "    not_monotonic = 0\n",
    "    for el in tqdm(filenames_all, desc = u'по всем пользователям', disable = TQDM_DISABLE):\n",
    "        temp_dataframe = pd.read_csv(os.path.join(PATH_TO_DATA_ALL, f'user{el}.csv'), sep= ',')#, parse_dates=[1]))\n",
    "        #temp_dataframe.columns = ['target', 'timestamp', 'site']\n",
    "        temp_dataframe.columns = ['timestamp', 'site']\n",
    "        temp_dataframe.timestamp = pd.to_datetime(temp_dataframe.timestamp)\n",
    "        if not temp_dataframe.timestamp.is_monotonic:\n",
    "            temp_dataframe.sort_values(by = 'timestamp', ascending = True, inplace = True, ignore_index = True)\n",
    "            not_monotonic += 1\n",
    "        temp_dataframe['time_diff'] = temp_dataframe.timestamp.diff().shift(-1).apply(lambda x: x.total_seconds())\n",
    "        temp_dataframe.loc[temp_dataframe.shape[0] - 1, 'time_diff'] = 0.0\n",
    "        temp_dataframe['target'] = int(el)\n",
    "        \n",
    "        temp_dataframe.to_csv(os.path.join(PATH_TO_DATA_ALL_PREP, f'user{el}.csv'), index = False)\n",
    "        \n",
    "    print(not_monotonic / len(filenames_all))"
   ]
  },
  {
   "cell_type": "markdown",
   "metadata": {},
   "source": [
    "Длина сессии - чем больше, тем лучше. Ограничимся 20 в виду вычислительных возможностей.    \n",
    "Размер окна - чем меньше, тем лучше. Ограничимся 5 в виду вычислительных возможностей.    \n",
    "Временной лимит сессии нам задан - 10 минут = 600 секунд."
   ]
  },
  {
   "cell_type": "code",
   "execution_count": 111,
   "metadata": {},
   "outputs": [],
   "source": [
    "sess_len  = 20 #30\n",
    "wind_size = 5\n",
    "time_limit = 600"
   ]
  },
  {
   "cell_type": "markdown",
   "metadata": {},
   "source": [
    "Зафиксируем random_seed для воспроизведения результатов.    \n",
    "Все оценки будем производить через StratifiedKFold. Зададим его."
   ]
  },
  {
   "cell_type": "code",
   "execution_count": 112,
   "metadata": {},
   "outputs": [],
   "source": [
    "rand_seed = 52\n",
    "skf = StratifiedKFold(n_splits = 3, shuffle = True, random_state = 17)"
   ]
  },
  {
   "cell_type": "markdown",
   "metadata": {},
   "source": [
    "Словарь будем использовать только по этим пользователям. В противном случае получаем линейно зависимое пространство признаков слишком большой размерности."
   ]
  },
  {
   "cell_type": "code",
   "execution_count": 113,
   "metadata": {},
   "outputs": [],
   "source": [
    "def create_load_freq_site_dict(files):\n",
    "    \n",
    "    outp_freq_site_dict = dict()\n",
    "    site_cnt = Counter()\n",
    "\n",
    "    for idx in tqdm(range(len(files)), desc = 'for all filenames', disable = TQDM_DISABLE):\n",
    "        #temp_dataframe = pd.read_csv(os.path.join(PATH_TO_DATA_ALL, f'cat{files[idx]}.csv'), header = None, sep= ';')#, parse_dates=[1]))\n",
    "        #temp_dataframe.columns = ['target', 'timestamp', 'site']\n",
    "        temp_dataframe = pd.read_csv(os.path.join(PATH_TO_DATA_ALL_PREP, f'user{files[idx]}.csv'), \n",
    "                                     #sep= ';', \n",
    "                                     usecols = ['site'])#, parse_dates=[1]))\n",
    "        site_cnt += Counter(temp_dataframe.site.values)\n",
    "        #rows += round(temp_dataframe.shape[0] / sess_len + 0.499)\n",
    "\n",
    "    #rows = rows\n",
    "\n",
    "    for idx, site_dict in enumerate(site_cnt.most_common(), start = 1):\n",
    "        outp_freq_site_dict[site_dict[0]] = (idx, site_dict[1])    \n",
    "    \n",
    "    return outp_freq_site_dict"
   ]
  },
  {
   "cell_type": "code",
   "execution_count": 114,
   "metadata": {},
   "outputs": [
    {
     "name": "stdout",
     "output_type": "stream",
     "text": [
      "Wall time: 13 ms\n"
     ]
    }
   ],
   "source": [
    "%%time\n",
    "# 16 sec\n",
    "if not os.path.isfile(os.path.join(PATH_TO_DATA_OWN, 'site_freq_150_data.pkl')):\n",
    "    freq_site_dict = create_load_freq_site_dict(filenames_all)\n",
    "    pickle.dump(freq_site_dict, open(os.path.join(PATH_TO_DATA_OWN, 'site_freq_150_data.pkl'), 'wb'))\n",
    "    print(len(freq_site_dict))\n",
    "else:\n",
    "    #pkl_name = os.path.join(PATH_TO_DATA_OWN, 'site_freq_full_data.pkl')\n",
    "    freq_site_dict = pickle.load(open(os.path.join(PATH_TO_DATA_OWN, 'site_freq_150_data.pkl'), 'rb'))"
   ]
  },
  {
   "cell_type": "code",
   "execution_count": null,
   "metadata": {},
   "outputs": [],
   "source": []
  },
  {
   "cell_type": "markdown",
   "metadata": {},
   "source": [
    "Для начала посмотрим точнось при использовании данных только о почещении сайтов при выбранны параметраx.    \n",
    "Подготовим данные: обучающую, тестовую и проверочную выборки.    \n",
    "Посмотрим на целевые метки.     \n",
    "Оценим точность на SGDClassifier."
   ]
  },
  {
   "cell_type": "code",
   "execution_count": 115,
   "metadata": {},
   "outputs": [],
   "source": [
    "def prepare_sparse_train_set_window(inp_fnames, inp_sess_len, inp_wind_size, \n",
    "                                    inp_freq_site_dict, inp_time_limit = 999999999):\n",
    "    \n",
    "    ret_userid_list = []\n",
    "    # form dataframe names ['site1, site2......site{session_length}']\n",
    "    #col_names = ['site' + str(n+1) for n in range(inp_sess_len)]\n",
    "\n",
    "    row_csr  = []\n",
    "    col_csr  = []\n",
    "    data_csr = []\n",
    "        \n",
    "    row_index = 0\n",
    "    #early_exit = 0\n",
    "    \n",
    "    #print_index = 15\n",
    "    \n",
    "    for idx in tqdm(range(len(inp_fnames)), disable = TQDM_DISABLE):\n",
    "        #print(row_index)\n",
    "        temp_dataframe = pd.read_csv(os.path.join(PATH_TO_DATA_ALL_PREP, f'user{inp_fnames[idx]}.csv'), \n",
    "                                         usecols = ['site', 'time_diff']\n",
    "                                        )\n",
    "        userid = inp_fnames[idx]\n",
    "              \n",
    "        index = 0\n",
    "\n",
    "        while index < temp_dataframe.shape[0]:\n",
    "            condition_index = 0\n",
    "            total_time = 0\n",
    "            #new_sess = {('site' + str(n+1)):0 for n in range(inp_sess_len)}\n",
    "            new_sess = defaultdict(float)\n",
    "            # determine one current session\n",
    "            while (condition_index < inp_sess_len) and (total_time < inp_time_limit) and ((index + condition_index) < temp_dataframe.shape[0]):\n",
    "            #while (condition_index < inp_sess_len) and ((index + condition_index) < temp_dataframe.shape[0]):\n",
    "                #new_sess['site' + str(condition_index+1)] = inp_freq_site_dict[temp_dataframe.site[index + condition_index]][0]\n",
    "                new_sess[inp_freq_site_dict[temp_dataframe.site[index + condition_index]][0]] += 1\n",
    "                total_time += temp_dataframe.time_diff[index + condition_index]\n",
    "                \n",
    "                condition_index += 1\n",
    "\n",
    "            if (condition_index <= inp_wind_size):\n",
    "                index += (condition_index)\n",
    "                #early_exit += 1\n",
    "            else:\n",
    "                index += inp_wind_size\n",
    "\n",
    "                \n",
    "            row_csr += [row_index] * len(new_sess)  # row number in which value is parse\n",
    "            data_csr+= list(new_sess.values())      # value\n",
    "            col_csr += list(new_sess.keys())        # column number in which value is parse\n",
    "            #cnt_csr  = Counter(new_sess.values())\n",
    "            #row_csr += [row_index] * len(cnt_csr)  # row number in which value is parse\n",
    "            #data_csr+= list(cnt_csr.values())      # value\n",
    "            #col_csr += list(cnt_csr.keys())        # column number in which value is parse\n",
    "            ret_userid_list.append(int(userid))\n",
    "            row_index += 1\n",
    "\n",
    "    ret_csr = csr_matrix((data_csr, (row_csr, col_csr)), shape = (max(row_csr)+1, max(col_csr)+1))[:, 1:]\n",
    "    #print(early_exit)\n",
    "    \n",
    "    return ret_csr, np.array(ret_userid_list)"
   ]
  },
  {
   "cell_type": "code",
   "execution_count": 116,
   "metadata": {},
   "outputs": [
    {
     "data": {
      "application/vnd.jupyter.widget-view+json": {
       "model_id": "eeae56b7f353401484da3f984cfda0aa",
       "version_major": 2,
       "version_minor": 0
      },
      "text/plain": [
       "HBox(children=(HTML(value=''), FloatProgress(value=0.0, max=150.0), HTML(value='')))"
      ]
     },
     "metadata": {},
     "output_type": "display_data"
    },
    {
     "name": "stdout",
     "output_type": "stream",
     "text": [
      "\n"
     ]
    }
   ],
   "source": [
    "train_data_sparse, targets = prepare_sparse_train_set_window(filenames_all, sess_len, \n",
    "                                                             wind_size, freq_site_dict,\n",
    "                                                             inp_time_limit = time_limit,\n",
    "                                                            )\n",
    "X_train, X_valid, y_train, y_valid = train_test_split(train_data_sparse, targets, \n",
    "                                                      test_size = 0.3, \n",
    "                                                      random_state = rand_seed, stratify = targets,\n",
    "                                                     )"
   ]
  },
  {
   "cell_type": "code",
   "execution_count": null,
   "metadata": {},
   "outputs": [],
   "source": []
  },
  {
   "cell_type": "code",
   "execution_count": 201,
   "metadata": {},
   "outputs": [
    {
     "data": {
      "application/vnd.plotly.v1+json": {
       "config": {
        "plotlyServerURL": "https://plot.ly"
       },
       "data": [
        {
         "alignmentgroup": "True",
         "hoverlabel": {
          "namelength": 0
         },
         "hovertemplate": "y=%{y}",
         "legendgroup": "",
         "marker": {
          "color": "#636efa"
         },
         "name": "",
         "notched": false,
         "offsetgroup": "",
         "orientation": "v",
         "showlegend": false,
         "type": "box",
         "x0": " ",
         "xaxis": "x",
         "y": [
          4320,
          1197,
          1603,
          4255,
          3505,
          1605,
          2118,
          4482,
          824,
          1753,
          1695,
          2200,
          927,
          1469,
          1053,
          1088,
          2792,
          1629,
          1523,
          2700,
          6348,
          1106,
          3538,
          2791,
          1166,
          1787,
          1681,
          3523,
          5691,
          833,
          915,
          1009,
          827,
          1056,
          1020,
          1073,
          3840,
          1015,
          1086,
          963,
          3151,
          3385,
          1061,
          1204,
          1147,
          1558,
          1212,
          835,
          1393,
          1076,
          2814,
          1301,
          1236,
          1456,
          826,
          3181,
          2356,
          1135,
          3965,
          4118,
          1800,
          3321,
          1157,
          2893,
          1251,
          1437,
          824,
          1343,
          943,
          945,
          1462,
          1154,
          998,
          2277,
          937,
          2552,
          785,
          971,
          1321,
          3018,
          976,
          1709,
          1336,
          844,
          1414,
          835,
          858,
          3312,
          1069,
          1310,
          1694,
          2049,
          5379,
          1042,
          1353,
          2365,
          4189,
          1193,
          2530,
          3256,
          1650,
          5462,
          9508,
          5961,
          2609,
          1385,
          1374,
          823,
          1124,
          784,
          1548,
          945,
          1156,
          892,
          1377,
          1063,
          1783,
          1171,
          921,
          1310,
          1230,
          1405,
          860,
          1333,
          2907,
          841,
          850,
          919,
          2725,
          3298,
          2622,
          1183,
          1359,
          1010,
          739,
          844,
          877,
          3095,
          2282,
          1268,
          1123,
          1012,
          1278,
          1448,
          719,
          3463,
          2107,
          1020,
          1247,
          1372
         ],
         "y0": " ",
         "yaxis": "y"
        }
       ],
       "layout": {
        "autosize": false,
        "boxmode": "group",
        "height": 600,
        "legend": {
         "tracegroupgap": 0
        },
        "margin": {
         "t": 60
        },
        "template": {
         "data": {
          "bar": [
           {
            "error_x": {
             "color": "#2a3f5f"
            },
            "error_y": {
             "color": "#2a3f5f"
            },
            "marker": {
             "line": {
              "color": "#E5ECF6",
              "width": 0.5
             }
            },
            "type": "bar"
           }
          ],
          "barpolar": [
           {
            "marker": {
             "line": {
              "color": "#E5ECF6",
              "width": 0.5
             }
            },
            "type": "barpolar"
           }
          ],
          "carpet": [
           {
            "aaxis": {
             "endlinecolor": "#2a3f5f",
             "gridcolor": "white",
             "linecolor": "white",
             "minorgridcolor": "white",
             "startlinecolor": "#2a3f5f"
            },
            "baxis": {
             "endlinecolor": "#2a3f5f",
             "gridcolor": "white",
             "linecolor": "white",
             "minorgridcolor": "white",
             "startlinecolor": "#2a3f5f"
            },
            "type": "carpet"
           }
          ],
          "choropleth": [
           {
            "colorbar": {
             "outlinewidth": 0,
             "ticks": ""
            },
            "type": "choropleth"
           }
          ],
          "contour": [
           {
            "colorbar": {
             "outlinewidth": 0,
             "ticks": ""
            },
            "colorscale": [
             [
              0,
              "#0d0887"
             ],
             [
              0.1111111111111111,
              "#46039f"
             ],
             [
              0.2222222222222222,
              "#7201a8"
             ],
             [
              0.3333333333333333,
              "#9c179e"
             ],
             [
              0.4444444444444444,
              "#bd3786"
             ],
             [
              0.5555555555555556,
              "#d8576b"
             ],
             [
              0.6666666666666666,
              "#ed7953"
             ],
             [
              0.7777777777777778,
              "#fb9f3a"
             ],
             [
              0.8888888888888888,
              "#fdca26"
             ],
             [
              1,
              "#f0f921"
             ]
            ],
            "type": "contour"
           }
          ],
          "contourcarpet": [
           {
            "colorbar": {
             "outlinewidth": 0,
             "ticks": ""
            },
            "type": "contourcarpet"
           }
          ],
          "heatmap": [
           {
            "colorbar": {
             "outlinewidth": 0,
             "ticks": ""
            },
            "colorscale": [
             [
              0,
              "#0d0887"
             ],
             [
              0.1111111111111111,
              "#46039f"
             ],
             [
              0.2222222222222222,
              "#7201a8"
             ],
             [
              0.3333333333333333,
              "#9c179e"
             ],
             [
              0.4444444444444444,
              "#bd3786"
             ],
             [
              0.5555555555555556,
              "#d8576b"
             ],
             [
              0.6666666666666666,
              "#ed7953"
             ],
             [
              0.7777777777777778,
              "#fb9f3a"
             ],
             [
              0.8888888888888888,
              "#fdca26"
             ],
             [
              1,
              "#f0f921"
             ]
            ],
            "type": "heatmap"
           }
          ],
          "heatmapgl": [
           {
            "colorbar": {
             "outlinewidth": 0,
             "ticks": ""
            },
            "colorscale": [
             [
              0,
              "#0d0887"
             ],
             [
              0.1111111111111111,
              "#46039f"
             ],
             [
              0.2222222222222222,
              "#7201a8"
             ],
             [
              0.3333333333333333,
              "#9c179e"
             ],
             [
              0.4444444444444444,
              "#bd3786"
             ],
             [
              0.5555555555555556,
              "#d8576b"
             ],
             [
              0.6666666666666666,
              "#ed7953"
             ],
             [
              0.7777777777777778,
              "#fb9f3a"
             ],
             [
              0.8888888888888888,
              "#fdca26"
             ],
             [
              1,
              "#f0f921"
             ]
            ],
            "type": "heatmapgl"
           }
          ],
          "histogram": [
           {
            "marker": {
             "colorbar": {
              "outlinewidth": 0,
              "ticks": ""
             }
            },
            "type": "histogram"
           }
          ],
          "histogram2d": [
           {
            "colorbar": {
             "outlinewidth": 0,
             "ticks": ""
            },
            "colorscale": [
             [
              0,
              "#0d0887"
             ],
             [
              0.1111111111111111,
              "#46039f"
             ],
             [
              0.2222222222222222,
              "#7201a8"
             ],
             [
              0.3333333333333333,
              "#9c179e"
             ],
             [
              0.4444444444444444,
              "#bd3786"
             ],
             [
              0.5555555555555556,
              "#d8576b"
             ],
             [
              0.6666666666666666,
              "#ed7953"
             ],
             [
              0.7777777777777778,
              "#fb9f3a"
             ],
             [
              0.8888888888888888,
              "#fdca26"
             ],
             [
              1,
              "#f0f921"
             ]
            ],
            "type": "histogram2d"
           }
          ],
          "histogram2dcontour": [
           {
            "colorbar": {
             "outlinewidth": 0,
             "ticks": ""
            },
            "colorscale": [
             [
              0,
              "#0d0887"
             ],
             [
              0.1111111111111111,
              "#46039f"
             ],
             [
              0.2222222222222222,
              "#7201a8"
             ],
             [
              0.3333333333333333,
              "#9c179e"
             ],
             [
              0.4444444444444444,
              "#bd3786"
             ],
             [
              0.5555555555555556,
              "#d8576b"
             ],
             [
              0.6666666666666666,
              "#ed7953"
             ],
             [
              0.7777777777777778,
              "#fb9f3a"
             ],
             [
              0.8888888888888888,
              "#fdca26"
             ],
             [
              1,
              "#f0f921"
             ]
            ],
            "type": "histogram2dcontour"
           }
          ],
          "mesh3d": [
           {
            "colorbar": {
             "outlinewidth": 0,
             "ticks": ""
            },
            "type": "mesh3d"
           }
          ],
          "parcoords": [
           {
            "line": {
             "colorbar": {
              "outlinewidth": 0,
              "ticks": ""
             }
            },
            "type": "parcoords"
           }
          ],
          "pie": [
           {
            "automargin": true,
            "type": "pie"
           }
          ],
          "scatter": [
           {
            "marker": {
             "colorbar": {
              "outlinewidth": 0,
              "ticks": ""
             }
            },
            "type": "scatter"
           }
          ],
          "scatter3d": [
           {
            "line": {
             "colorbar": {
              "outlinewidth": 0,
              "ticks": ""
             }
            },
            "marker": {
             "colorbar": {
              "outlinewidth": 0,
              "ticks": ""
             }
            },
            "type": "scatter3d"
           }
          ],
          "scattercarpet": [
           {
            "marker": {
             "colorbar": {
              "outlinewidth": 0,
              "ticks": ""
             }
            },
            "type": "scattercarpet"
           }
          ],
          "scattergeo": [
           {
            "marker": {
             "colorbar": {
              "outlinewidth": 0,
              "ticks": ""
             }
            },
            "type": "scattergeo"
           }
          ],
          "scattergl": [
           {
            "marker": {
             "colorbar": {
              "outlinewidth": 0,
              "ticks": ""
             }
            },
            "type": "scattergl"
           }
          ],
          "scattermapbox": [
           {
            "marker": {
             "colorbar": {
              "outlinewidth": 0,
              "ticks": ""
             }
            },
            "type": "scattermapbox"
           }
          ],
          "scatterpolar": [
           {
            "marker": {
             "colorbar": {
              "outlinewidth": 0,
              "ticks": ""
             }
            },
            "type": "scatterpolar"
           }
          ],
          "scatterpolargl": [
           {
            "marker": {
             "colorbar": {
              "outlinewidth": 0,
              "ticks": ""
             }
            },
            "type": "scatterpolargl"
           }
          ],
          "scatterternary": [
           {
            "marker": {
             "colorbar": {
              "outlinewidth": 0,
              "ticks": ""
             }
            },
            "type": "scatterternary"
           }
          ],
          "surface": [
           {
            "colorbar": {
             "outlinewidth": 0,
             "ticks": ""
            },
            "colorscale": [
             [
              0,
              "#0d0887"
             ],
             [
              0.1111111111111111,
              "#46039f"
             ],
             [
              0.2222222222222222,
              "#7201a8"
             ],
             [
              0.3333333333333333,
              "#9c179e"
             ],
             [
              0.4444444444444444,
              "#bd3786"
             ],
             [
              0.5555555555555556,
              "#d8576b"
             ],
             [
              0.6666666666666666,
              "#ed7953"
             ],
             [
              0.7777777777777778,
              "#fb9f3a"
             ],
             [
              0.8888888888888888,
              "#fdca26"
             ],
             [
              1,
              "#f0f921"
             ]
            ],
            "type": "surface"
           }
          ],
          "table": [
           {
            "cells": {
             "fill": {
              "color": "#EBF0F8"
             },
             "line": {
              "color": "white"
             }
            },
            "header": {
             "fill": {
              "color": "#C8D4E3"
             },
             "line": {
              "color": "white"
             }
            },
            "type": "table"
           }
          ]
         },
         "layout": {
          "annotationdefaults": {
           "arrowcolor": "#2a3f5f",
           "arrowhead": 0,
           "arrowwidth": 1
          },
          "coloraxis": {
           "colorbar": {
            "outlinewidth": 0,
            "ticks": ""
           }
          },
          "colorscale": {
           "diverging": [
            [
             0,
             "#8e0152"
            ],
            [
             0.1,
             "#c51b7d"
            ],
            [
             0.2,
             "#de77ae"
            ],
            [
             0.3,
             "#f1b6da"
            ],
            [
             0.4,
             "#fde0ef"
            ],
            [
             0.5,
             "#f7f7f7"
            ],
            [
             0.6,
             "#e6f5d0"
            ],
            [
             0.7,
             "#b8e186"
            ],
            [
             0.8,
             "#7fbc41"
            ],
            [
             0.9,
             "#4d9221"
            ],
            [
             1,
             "#276419"
            ]
           ],
           "sequential": [
            [
             0,
             "#0d0887"
            ],
            [
             0.1111111111111111,
             "#46039f"
            ],
            [
             0.2222222222222222,
             "#7201a8"
            ],
            [
             0.3333333333333333,
             "#9c179e"
            ],
            [
             0.4444444444444444,
             "#bd3786"
            ],
            [
             0.5555555555555556,
             "#d8576b"
            ],
            [
             0.6666666666666666,
             "#ed7953"
            ],
            [
             0.7777777777777778,
             "#fb9f3a"
            ],
            [
             0.8888888888888888,
             "#fdca26"
            ],
            [
             1,
             "#f0f921"
            ]
           ],
           "sequentialminus": [
            [
             0,
             "#0d0887"
            ],
            [
             0.1111111111111111,
             "#46039f"
            ],
            [
             0.2222222222222222,
             "#7201a8"
            ],
            [
             0.3333333333333333,
             "#9c179e"
            ],
            [
             0.4444444444444444,
             "#bd3786"
            ],
            [
             0.5555555555555556,
             "#d8576b"
            ],
            [
             0.6666666666666666,
             "#ed7953"
            ],
            [
             0.7777777777777778,
             "#fb9f3a"
            ],
            [
             0.8888888888888888,
             "#fdca26"
            ],
            [
             1,
             "#f0f921"
            ]
           ]
          },
          "colorway": [
           "#636efa",
           "#EF553B",
           "#00cc96",
           "#ab63fa",
           "#FFA15A",
           "#19d3f3",
           "#FF6692",
           "#B6E880",
           "#FF97FF",
           "#FECB52"
          ],
          "font": {
           "color": "#2a3f5f"
          },
          "geo": {
           "bgcolor": "white",
           "lakecolor": "white",
           "landcolor": "#E5ECF6",
           "showlakes": true,
           "showland": true,
           "subunitcolor": "white"
          },
          "hoverlabel": {
           "align": "left"
          },
          "hovermode": "closest",
          "mapbox": {
           "style": "light"
          },
          "paper_bgcolor": "white",
          "plot_bgcolor": "#E5ECF6",
          "polar": {
           "angularaxis": {
            "gridcolor": "white",
            "linecolor": "white",
            "ticks": ""
           },
           "bgcolor": "#E5ECF6",
           "radialaxis": {
            "gridcolor": "white",
            "linecolor": "white",
            "ticks": ""
           }
          },
          "scene": {
           "xaxis": {
            "backgroundcolor": "#E5ECF6",
            "gridcolor": "white",
            "gridwidth": 2,
            "linecolor": "white",
            "showbackground": true,
            "ticks": "",
            "zerolinecolor": "white"
           },
           "yaxis": {
            "backgroundcolor": "#E5ECF6",
            "gridcolor": "white",
            "gridwidth": 2,
            "linecolor": "white",
            "showbackground": true,
            "ticks": "",
            "zerolinecolor": "white"
           },
           "zaxis": {
            "backgroundcolor": "#E5ECF6",
            "gridcolor": "white",
            "gridwidth": 2,
            "linecolor": "white",
            "showbackground": true,
            "ticks": "",
            "zerolinecolor": "white"
           }
          },
          "shapedefaults": {
           "line": {
            "color": "#2a3f5f"
           }
          },
          "ternary": {
           "aaxis": {
            "gridcolor": "white",
            "linecolor": "white",
            "ticks": ""
           },
           "baxis": {
            "gridcolor": "white",
            "linecolor": "white",
            "ticks": ""
           },
           "bgcolor": "#E5ECF6",
           "caxis": {
            "gridcolor": "white",
            "linecolor": "white",
            "ticks": ""
           }
          },
          "title": {
           "x": 0.05
          },
          "xaxis": {
           "automargin": true,
           "gridcolor": "white",
           "linecolor": "white",
           "ticks": "",
           "title": {
            "standoff": 15
           },
           "zerolinecolor": "white",
           "zerolinewidth": 2
          },
          "yaxis": {
           "automargin": true,
           "gridcolor": "white",
           "linecolor": "white",
           "ticks": "",
           "title": {
            "standoff": 15
           },
           "zerolinecolor": "white",
           "zerolinewidth": 2
          }
         }
        },
        "title": {
         "text": "Статистики количества сессий для пользователей"
        },
        "width": 500,
        "xaxis": {
         "anchor": "y",
         "autorange": true,
         "domain": [
          0,
          1
         ],
         "range": [
          -0.5,
          0.5
         ],
         "type": "category"
        },
        "yaxis": {
         "anchor": "x",
         "autorange": true,
         "domain": [
          0,
          1
         ],
         "range": [
          230.72222222222223,
          9996.277777777777
         ],
         "title": {
          "text": "Количество сессий"
         },
         "type": "linear"
        }
       }
      },
      "image/png": "[encoded data removed]",
      "text/html": [
       "<div>\n",
       "        \n",
       "        \n",
       "            <div id=\"320d6b5b-7865-4c39-8d24-74fd1e98ec97\" class=\"plotly-graph-div\" style=\"height:600px; width:500px;\"></div>\n",
       "            <script type=\"text/javascript\">\n",
       "                require([\"plotly\"], function(Plotly) {\n",
       "                    window.PLOTLYENV=window.PLOTLYENV || {};\n",
       "                    \n",
       "                if (document.getElementById(\"320d6b5b-7865-4c39-8d24-74fd1e98ec97\")) {\n",
       "                    Plotly.newPlot(\n",
       "                        '320d6b5b-7865-4c39-8d24-74fd1e98ec97',\n",
       "                        [{\"alignmentgroup\": \"True\", \"hoverlabel\": {\"namelength\": 0}, \"hovertemplate\": \"y=%{y}\", \"legendgroup\": \"\", \"marker\": {\"color\": \"#636efa\"}, \"name\": \"\", \"notched\": false, \"offsetgroup\": \"\", \"orientation\": \"v\", \"showlegend\": false, \"type\": \"box\", \"x0\": \" \", \"xaxis\": \"x\", \"y\": [4320, 1197, 1603, 4255, 3505, 1605, 2118, 4482, 824, 1753, 1695, 2200, 927, 1469, 1053, 1088, 2792, 1629, 1523, 2700, 6348, 1106, 3538, 2791, 1166, 1787, 1681, 3523, 5691, 833, 915, 1009, 827, 1056, 1020, 1073, 3840, 1015, 1086, 963, 3151, 3385, 1061, 1204, 1147, 1558, 1212, 835, 1393, 1076, 2814, 1301, 1236, 1456, 826, 3181, 2356, 1135, 3965, 4118, 1800, 3321, 1157, 2893, 1251, 1437, 824, 1343, 943, 945, 1462, 1154, 998, 2277, 937, 2552, 785, 971, 1321, 3018, 976, 1709, 1336, 844, 1414, 835, 858, 3312, 1069, 1310, 1694, 2049, 5379, 1042, 1353, 2365, 4189, 1193, 2530, 3256, 1650, 5462, 9508, 5961, 2609, 1385, 1374, 823, 1124, 784, 1548, 945, 1156, 892, 1377, 1063, 1783, 1171, 921, 1310, 1230, 1405, 860, 1333, 2907, 841, 850, 919, 2725, 3298, 2622, 1183, 1359, 1010, 739, 844, 877, 3095, 2282, 1268, 1123, 1012, 1278, 1448, 719, 3463, 2107, 1020, 1247, 1372], \"y0\": \" \", \"yaxis\": \"y\"}],\n",
       "                        {\"autosize\": false, \"boxmode\": \"group\", \"height\": 600, \"legend\": {\"tracegroupgap\": 0}, \"margin\": {\"t\": 60}, \"template\": {\"data\": {\"bar\": [{\"error_x\": {\"color\": \"#2a3f5f\"}, \"error_y\": {\"color\": \"#2a3f5f\"}, \"marker\": {\"line\": {\"color\": \"#E5ECF6\", \"width\": 0.5}}, \"type\": \"bar\"}], \"barpolar\": [{\"marker\": {\"line\": {\"color\": \"#E5ECF6\", \"width\": 0.5}}, \"type\": \"barpolar\"}], \"carpet\": [{\"aaxis\": {\"endlinecolor\": \"#2a3f5f\", \"gridcolor\": \"white\", \"linecolor\": \"white\", \"minorgridcolor\": \"white\", \"startlinecolor\": \"#2a3f5f\"}, \"baxis\": {\"endlinecolor\": \"#2a3f5f\", \"gridcolor\": \"white\", \"linecolor\": \"white\", \"minorgridcolor\": \"white\", \"startlinecolor\": \"#2a3f5f\"}, \"type\": \"carpet\"}], \"choropleth\": [{\"colorbar\": {\"outlinewidth\": 0, \"ticks\": \"\"}, \"type\": \"choropleth\"}], \"contour\": [{\"colorbar\": {\"outlinewidth\": 0, \"ticks\": \"\"}, \"colorscale\": [[0.0, \"#0d0887\"], [0.1111111111111111, \"#46039f\"], [0.2222222222222222, \"#7201a8\"], [0.3333333333333333, \"#9c179e\"], [0.4444444444444444, \"#bd3786\"], [0.5555555555555556, \"#d8576b\"], [0.6666666666666666, \"#ed7953\"], [0.7777777777777778, \"#fb9f3a\"], [0.8888888888888888, \"#fdca26\"], [1.0, \"#f0f921\"]], \"type\": \"contour\"}], \"contourcarpet\": [{\"colorbar\": {\"outlinewidth\": 0, \"ticks\": \"\"}, \"type\": \"contourcarpet\"}], \"heatmap\": [{\"colorbar\": {\"outlinewidth\": 0, \"ticks\": \"\"}, \"colorscale\": [[0.0, \"#0d0887\"], [0.1111111111111111, \"#46039f\"], [0.2222222222222222, \"#7201a8\"], [0.3333333333333333, \"#9c179e\"], [0.4444444444444444, \"#bd3786\"], [0.5555555555555556, \"#d8576b\"], [0.6666666666666666, \"#ed7953\"], [0.7777777777777778, \"#fb9f3a\"], [0.8888888888888888, \"#fdca26\"], [1.0, \"#f0f921\"]], \"type\": \"heatmap\"}], \"heatmapgl\": [{\"colorbar\": {\"outlinewidth\": 0, \"ticks\": \"\"}, \"colorscale\": [[0.0, \"#0d0887\"], [0.1111111111111111, \"#46039f\"], [0.2222222222222222, \"#7201a8\"], [0.3333333333333333, \"#9c179e\"], [0.4444444444444444, \"#bd3786\"], [0.5555555555555556, \"#d8576b\"], [0.6666666666666666, \"#ed7953\"], [0.7777777777777778, \"#fb9f3a\"], [0.8888888888888888, \"#fdca26\"], [1.0, \"#f0f921\"]], \"type\": \"heatmapgl\"}], \"histogram\": [{\"marker\": {\"colorbar\": {\"outlinewidth\": 0, \"ticks\": \"\"}}, \"type\": \"histogram\"}], \"histogram2d\": [{\"colorbar\": {\"outlinewidth\": 0, \"ticks\": \"\"}, \"colorscale\": [[0.0, \"#0d0887\"], [0.1111111111111111, \"#46039f\"], [0.2222222222222222, \"#7201a8\"], [0.3333333333333333, \"#9c179e\"], [0.4444444444444444, \"#bd3786\"], [0.5555555555555556, \"#d8576b\"], [0.6666666666666666, \"#ed7953\"], [0.7777777777777778, \"#fb9f3a\"], [0.8888888888888888, \"#fdca26\"], [1.0, \"#f0f921\"]], \"type\": \"histogram2d\"}], \"histogram2dcontour\": [{\"colorbar\": {\"outlinewidth\": 0, \"ticks\": \"\"}, \"colorscale\": [[0.0, \"#0d0887\"], [0.1111111111111111, \"#46039f\"], [0.2222222222222222, \"#7201a8\"], [0.3333333333333333, \"#9c179e\"], [0.4444444444444444, \"#bd3786\"], [0.5555555555555556, \"#d8576b\"], [0.6666666666666666, \"#ed7953\"], [0.7777777777777778, \"#fb9f3a\"], [0.8888888888888888, \"#fdca26\"], [1.0, \"#f0f921\"]], \"type\": \"histogram2dcontour\"}], \"mesh3d\": [{\"colorbar\": {\"outlinewidth\": 0, \"ticks\": \"\"}, \"type\": \"mesh3d\"}], \"parcoords\": [{\"line\": {\"colorbar\": {\"outlinewidth\": 0, \"ticks\": \"\"}}, \"type\": \"parcoords\"}], \"pie\": [{\"automargin\": true, \"type\": \"pie\"}], \"scatter\": [{\"marker\": {\"colorbar\": {\"outlinewidth\": 0, \"ticks\": \"\"}}, \"type\": \"scatter\"}], \"scatter3d\": [{\"line\": {\"colorbar\": {\"outlinewidth\": 0, \"ticks\": \"\"}}, \"marker\": {\"colorbar\": {\"outlinewidth\": 0, \"ticks\": \"\"}}, \"type\": \"scatter3d\"}], \"scattercarpet\": [{\"marker\": {\"colorbar\": {\"outlinewidth\": 0, \"ticks\": \"\"}}, \"type\": \"scattercarpet\"}], \"scattergeo\": [{\"marker\": {\"colorbar\": {\"outlinewidth\": 0, \"ticks\": \"\"}}, \"type\": \"scattergeo\"}], \"scattergl\": [{\"marker\": {\"colorbar\": {\"outlinewidth\": 0, \"ticks\": \"\"}}, \"type\": \"scattergl\"}], \"scattermapbox\": [{\"marker\": {\"colorbar\": {\"outlinewidth\": 0, \"ticks\": \"\"}}, \"type\": \"scattermapbox\"}], \"scatterpolar\": [{\"marker\": {\"colorbar\": {\"outlinewidth\": 0, \"ticks\": \"\"}}, \"type\": \"scatterpolar\"}], \"scatterpolargl\": [{\"marker\": {\"colorbar\": {\"outlinewidth\": 0, \"ticks\": \"\"}}, \"type\": \"scatterpolargl\"}], \"scatterternary\": [{\"marker\": {\"colorbar\": {\"outlinewidth\": 0, \"ticks\": \"\"}}, \"type\": \"scatterternary\"}], \"surface\": [{\"colorbar\": {\"outlinewidth\": 0, \"ticks\": \"\"}, \"colorscale\": [[0.0, \"#0d0887\"], [0.1111111111111111, \"#46039f\"], [0.2222222222222222, \"#7201a8\"], [0.3333333333333333, \"#9c179e\"], [0.4444444444444444, \"#bd3786\"], [0.5555555555555556, \"#d8576b\"], [0.6666666666666666, \"#ed7953\"], [0.7777777777777778, \"#fb9f3a\"], [0.8888888888888888, \"#fdca26\"], [1.0, \"#f0f921\"]], \"type\": \"surface\"}], \"table\": [{\"cells\": {\"fill\": {\"color\": \"#EBF0F8\"}, \"line\": {\"color\": \"white\"}}, \"header\": {\"fill\": {\"color\": \"#C8D4E3\"}, \"line\": {\"color\": \"white\"}}, \"type\": \"table\"}]}, \"layout\": {\"annotationdefaults\": {\"arrowcolor\": \"#2a3f5f\", \"arrowhead\": 0, \"arrowwidth\": 1}, \"coloraxis\": {\"colorbar\": {\"outlinewidth\": 0, \"ticks\": \"\"}}, \"colorscale\": {\"diverging\": [[0, \"#8e0152\"], [0.1, \"#c51b7d\"], [0.2, \"#de77ae\"], [0.3, \"#f1b6da\"], [0.4, \"#fde0ef\"], [0.5, \"#f7f7f7\"], [0.6, \"#e6f5d0\"], [0.7, \"#b8e186\"], [0.8, \"#7fbc41\"], [0.9, \"#4d9221\"], [1, \"#276419\"]], \"sequential\": [[0.0, \"#0d0887\"], [0.1111111111111111, \"#46039f\"], [0.2222222222222222, \"#7201a8\"], [0.3333333333333333, \"#9c179e\"], [0.4444444444444444, \"#bd3786\"], [0.5555555555555556, \"#d8576b\"], [0.6666666666666666, \"#ed7953\"], [0.7777777777777778, \"#fb9f3a\"], [0.8888888888888888, \"#fdca26\"], [1.0, \"#f0f921\"]], \"sequentialminus\": [[0.0, \"#0d0887\"], [0.1111111111111111, \"#46039f\"], [0.2222222222222222, \"#7201a8\"], [0.3333333333333333, \"#9c179e\"], [0.4444444444444444, \"#bd3786\"], [0.5555555555555556, \"#d8576b\"], [0.6666666666666666, \"#ed7953\"], [0.7777777777777778, \"#fb9f3a\"], [0.8888888888888888, \"#fdca26\"], [1.0, \"#f0f921\"]]}, \"colorway\": [\"#636efa\", \"#EF553B\", \"#00cc96\", \"#ab63fa\", \"#FFA15A\", \"#19d3f3\", \"#FF6692\", \"#B6E880\", \"#FF97FF\", \"#FECB52\"], \"font\": {\"color\": \"#2a3f5f\"}, \"geo\": {\"bgcolor\": \"white\", \"lakecolor\": \"white\", \"landcolor\": \"#E5ECF6\", \"showlakes\": true, \"showland\": true, \"subunitcolor\": \"white\"}, \"hoverlabel\": {\"align\": \"left\"}, \"hovermode\": \"closest\", \"mapbox\": {\"style\": \"light\"}, \"paper_bgcolor\": \"white\", \"plot_bgcolor\": \"#E5ECF6\", \"polar\": {\"angularaxis\": {\"gridcolor\": \"white\", \"linecolor\": \"white\", \"ticks\": \"\"}, \"bgcolor\": \"#E5ECF6\", \"radialaxis\": {\"gridcolor\": \"white\", \"linecolor\": \"white\", \"ticks\": \"\"}}, \"scene\": {\"xaxis\": {\"backgroundcolor\": \"#E5ECF6\", \"gridcolor\": \"white\", \"gridwidth\": 2, \"linecolor\": \"white\", \"showbackground\": true, \"ticks\": \"\", \"zerolinecolor\": \"white\"}, \"yaxis\": {\"backgroundcolor\": \"#E5ECF6\", \"gridcolor\": \"white\", \"gridwidth\": 2, \"linecolor\": \"white\", \"showbackground\": true, \"ticks\": \"\", \"zerolinecolor\": \"white\"}, \"zaxis\": {\"backgroundcolor\": \"#E5ECF6\", \"gridcolor\": \"white\", \"gridwidth\": 2, \"linecolor\": \"white\", \"showbackground\": true, \"ticks\": \"\", \"zerolinecolor\": \"white\"}}, \"shapedefaults\": {\"line\": {\"color\": \"#2a3f5f\"}}, \"ternary\": {\"aaxis\": {\"gridcolor\": \"white\", \"linecolor\": \"white\", \"ticks\": \"\"}, \"baxis\": {\"gridcolor\": \"white\", \"linecolor\": \"white\", \"ticks\": \"\"}, \"bgcolor\": \"#E5ECF6\", \"caxis\": {\"gridcolor\": \"white\", \"linecolor\": \"white\", \"ticks\": \"\"}}, \"title\": {\"x\": 0.05}, \"xaxis\": {\"automargin\": true, \"gridcolor\": \"white\", \"linecolor\": \"white\", \"ticks\": \"\", \"title\": {\"standoff\": 15}, \"zerolinecolor\": \"white\", \"zerolinewidth\": 2}, \"yaxis\": {\"automargin\": true, \"gridcolor\": \"white\", \"linecolor\": \"white\", \"ticks\": \"\", \"title\": {\"standoff\": 15}, \"zerolinecolor\": \"white\", \"zerolinewidth\": 2}}}, \"title\": {\"text\": \"\\u0421\\u0442\\u0430\\u0442\\u0438\\u0441\\u0442\\u0438\\u043a\\u0438 \\u043a\\u043e\\u043b\\u0438\\u0447\\u0435\\u0441\\u0442\\u0432\\u0430 \\u0441\\u0435\\u0441\\u0441\\u0438\\u0439 \\u0434\\u043b\\u044f \\u043f\\u043e\\u043b\\u044c\\u0437\\u043e\\u0432\\u0430\\u0442\\u0435\\u043b\\u0435\\u0439\"}, \"width\": 500, \"xaxis\": {\"anchor\": \"y\", \"domain\": [0.0, 1.0]}, \"yaxis\": {\"anchor\": \"x\", \"domain\": [0.0, 1.0], \"title\": {\"text\": \"\\u041a\\u043e\\u043b\\u0438\\u0447\\u0435\\u0441\\u0442\\u0432\\u043e \\u0441\\u0435\\u0441\\u0441\\u0438\\u0439\"}}},\n",
       "                        {\"responsive\": true}\n",
       "                    ).then(function(){\n",
       "                            \n",
       "var gd = document.getElementById('320d6b5b-7865-4c39-8d24-74fd1e98ec97');\n",
       "var x = new MutationObserver(function (mutations, observer) {{\n",
       "        var display = window.getComputedStyle(gd).display;\n",
       "        if (!display || display === 'none') {{\n",
       "            console.log([gd, 'removed!']);\n",
       "            Plotly.purge(gd);\n",
       "            observer.disconnect();\n",
       "        }}\n",
       "}});\n",
       "\n",
       "// Listen for the removal of the full notebook cells\n",
       "var notebookContainer = gd.closest('#notebook-container');\n",
       "if (notebookContainer) {{\n",
       "    x.observe(notebookContainer, {childList: true});\n",
       "}}\n",
       "\n",
       "// Listen for the clearing of the current output cell\n",
       "var outputEl = gd.closest('.output');\n",
       "if (outputEl) {{\n",
       "    x.observe(outputEl, {childList: true});\n",
       "}}\n",
       "\n",
       "                        })\n",
       "                };\n",
       "                });\n",
       "            </script>\n",
       "        </div>"
      ]
     },
     "metadata": {},
     "output_type": "display_data"
    }
   ],
   "source": [
    "targ_hist = np.bincount(targets)\n",
    "\n",
    "bin_count = []\n",
    "for el in targ_hist:\n",
    "    if el != 0:\n",
    "        bin_count.append(el)\n",
    "\n",
    "\n",
    "fig = px.box(y = bin_count)\n",
    "fig.update_layout(autosize = False,\n",
    "                  width = 500,\n",
    "                  height= 600,\n",
    "                  title = u'Статистики количества сессий для пользователей',\n",
    "                  yaxis_title = u'Количество сессий',\n",
    "                 )\n",
    "fig.show()"
   ]
  },
  {
   "cell_type": "markdown",
   "metadata": {},
   "source": [
    "Как мы видим, есть некоторое количество пользователей для которых количество сессий аномально много.    \n",
    "При получении неудовлетворительного результата вероятно стоит произвести undesampling или oversampling.    \n",
    "На данный момент такая необходимость не очевидна. Продолжаем работу с текущими выборками."
   ]
  },
  {
   "cell_type": "code",
   "execution_count": 137,
   "metadata": {},
   "outputs": [],
   "source": [
    "def get_metrics(inp_clf, inp_skf, inp_x_tr, inp_y_tr, inp_x_val, inp_y_val, endmodel = False):\n",
    "    acc_cv  = []\n",
    "    acc_val = 0\n",
    "    f1_cv   = []\n",
    "    fg1_val = 0\n",
    "    \n",
    "    for train_index, test_index in tqdm(inp_skf.split(inp_x_tr, inp_y_tr), \n",
    "                                        desc = str(inp_clf).split('(')[0],\n",
    "                                        disable = TQDM_DISABLE\n",
    "                                       ):\n",
    "        iclf = inp_clf\n",
    "        iclf.fit(inp_x_tr[train_index], inp_y_tr[train_index])\n",
    "        predicted = iclf.predict(inp_x_tr[test_index])\n",
    "        acc_cv.append(accuracy_score(inp_y_tr[test_index], predicted))\n",
    "        f1_cv.append(f1_score(inp_y_tr[test_index], predicted, average = 'macro'))\n",
    "        \n",
    "        #print('Score: ', iclf.score(inp_x_tr[test_index], inp_y_tr[test_index]))\n",
    "    \n",
    "    if endmodel:\n",
    "        iclf = inp_clf\n",
    "        iclf.fit(inp_x_tr, inp_y_tr)\n",
    "\n",
    "        predicted = iclf.predict(inp_x_val)\n",
    "        acc_val = accuracy_score(inp_y_val, predicted)\n",
    "        f1_val.append(f1_score(inp_y_val, predicted, average = 'macro'))\n",
    "        \n",
    "        return acc_cv, f1_cv, acc_val, f1_val, iclf\n",
    "\n",
    "    return acc_cv, f1_cv"
   ]
  },
  {
   "cell_type": "markdown",
   "metadata": {},
   "source": [
    "Произведем оценку текущей точности с помощью SGDClassifier"
   ]
  },
  {
   "cell_type": "code",
   "execution_count": 138,
   "metadata": {},
   "outputs": [
    {
     "data": {
      "application/vnd.jupyter.widget-view+json": {
       "model_id": "f8684c11dbb047868f3675b071465029",
       "version_major": 2,
       "version_minor": 0
      },
      "text/plain": [
       "HBox(children=(HTML(value='SGDClassifier'), FloatProgress(value=1.0, bar_style='info', layout=Layout(width='20…"
      ]
     },
     "metadata": {},
     "output_type": "display_data"
    },
    {
     "name": "stdout",
     "output_type": "stream",
     "text": [
      "\n",
      "Wall time: 29.4 s\n"
     ]
    },
    {
     "data": {
      "text/plain": [
       "([0.5534416157191958, 0.5474122853710097, 0.5501193861877025],\n",
       " 0.550324429092636,\n",
       " [0.5186648798240004, 0.5203152931176697, 0.5197776380690595],\n",
       " 0.5195859370035766)"
      ]
     },
     "execution_count": 138,
     "metadata": {},
     "output_type": "execute_result"
    }
   ],
   "source": [
    "%%time\n",
    "clf_sgd = SGDClassifier(n_jobs = -1, random_state = rand_seed)\n",
    "sgd_accur_fold, sgd_f1_fold = get_metrics(clf_sgd, skf, X_train, y_train, X_valid, y_valid)\n",
    "sgd_accur_fold, np.mean(sgd_accur_fold), sgd_f1_fold, np.mean(sgd_f1_fold)"
   ]
  },
  {
   "cell_type": "code",
   "execution_count": 21,
   "metadata": {},
   "outputs": [
    {
     "data": {
      "text/plain": [
       "86"
      ]
     },
     "execution_count": 21,
     "metadata": {},
     "output_type": "execute_result"
    }
   ],
   "source": [
    "del train_data_sparse\n",
    "del targets\n",
    "del X_train\n",
    "del X_valid\n",
    "del y_train\n",
    "del y_valid\n",
    "del clf_sgd\n",
    "\n",
    "gc.collect()"
   ]
  },
  {
   "cell_type": "code",
   "execution_count": null,
   "metadata": {},
   "outputs": [],
   "source": []
  },
  {
   "cell_type": "markdown",
   "metadata": {},
   "source": [
    "Попытаемся ее улучшить. Для этого добавим новые признаки.     \n",
    "    \n",
    "В виду того, что необходимо производить классификацию на 150 пользователей бинарные признаки нам сильно не помогут.    \n",
    "Из неиспользуемой информации из данных у нас еще временные метки и последовательность переходов по сайтам.    \n",
    "Т.к. последовательность переходов повлечет кратное увеличение данных попробуем обойтись только данными о    \n",
    "временных метках посещения сайтов.     \n",
    "Действительно: если 2 пользователя похожи по посещенным сайтам, то, например, один может зайти проверить соцсети на    \n",
    "1 секунду, а дальше работать с почтой, а второй, наоборот, провести много времени в соцсети, а затем на секунду    \n",
    "проверить почту. В признаках только посещенных сайтов они будут абсолю.тно одинаковы, но не во временных признаках.    \n",
    "\n",
    "Добавим данные о времени нахождения пользователя на сайте (в секундах), если пользователь повторно зашел на сайт,    \n",
    "то данные временные интервалы суммируем. Минимальное время нахождения на сайте зададим равным 1 секунде. 'Нормируем'     \n",
    "эти значения на ограничение по времени, т.к. ни одно посещение не может превышать этого порога, а нормировка     \n",
    "необходима для ряда алгоритмов.    \n",
    "Возникает вопрос как поступать с последним сайтом в сессии: возможно, он на секунду вышел за пределы допустимой длины,    \n",
    "а, возможно, пользователь зашел на него на секунду и следующий посещенный сайт только через неделю. Данный момент      \n",
    "становится гиперпараметром, рассматривать который в рамках данной работы не станем.    \n",
    "\n",
    "Так же добавим информацию о дне и часе начала сессии. Стоит обратить внимание, что из 24 часов суток сессии начинаются         \n",
    "только в 17 часах. Признаки начала сессии в остальне часы необходимо исключить, т.к. они будут нулевыми, что приводит    \n",
    "к линейной зависимости признаков, что, в свою очередь, вредит линейным методам."
   ]
  },
  {
   "cell_type": "code",
   "execution_count": 91,
   "metadata": {},
   "outputs": [],
   "source": [
    "def prepare_sparse_train_set_total(inp_fnames, inp_sess_len, inp_wind_size, \n",
    "                                   inp_freq_site_dict, inp_time_limit = 999999999):\n",
    "    \n",
    "    ret_userid_list = []\n",
    "\n",
    "    row_csr  = []\n",
    "    col_csr  = []\n",
    "    data_csr = []\n",
    "        \n",
    "    row_index = 0\n",
    "    #early_exit = 0\n",
    "    \n",
    "    #print_index = 15\n",
    "    time_start_idx = len(inp_freq_site_dict)\n",
    "    \n",
    "    for idx in tqdm(range(len(inp_fnames)), disable = TQDM_DISABLE):\n",
    "        temp_dataframe = pd.read_csv(os.path.join(PATH_TO_DATA_ALL_PREP, f'user{inp_fnames[idx]}.csv'), \n",
    "                                         usecols = ['timestamp', 'site', 'time_diff'],\n",
    "                                         parse_dates=['timestamp']\n",
    "                                    )\n",
    "        userid = inp_fnames[idx]\n",
    "              \n",
    "        index = 0\n",
    "\n",
    "        while index < temp_dataframe.shape[0]:\n",
    "            condition_index = 0\n",
    "            total_time = 0\n",
    "            \n",
    "            new_sess = defaultdict(float)\n",
    "            #add 'dow' and 'hour' as OHE\n",
    "            dow  = temp_dataframe.timestamp[index].dayofweek\n",
    "            hour = temp_dataframe.timestamp[index].hour\n",
    "                \n",
    "            # all sites + all site times / + 7 days (for hour)\n",
    "            new_sess[time_start_idx*2 + dow + 1] = 1\n",
    "            new_sess[time_start_idx*2 + WEEK + hour + 1] = 1\n",
    "            \n",
    "            # determine one current session\n",
    "            while (condition_index < inp_sess_len) and (total_time < inp_time_limit) and ((index + condition_index) < temp_dataframe.shape[0]):\n",
    "                site_time = temp_dataframe.time_diff[index + condition_index]\n",
    "                if site_time == 0:\n",
    "                    site_time += 1\n",
    "                        \n",
    "                # normalize on ~[0, 1)\n",
    "                new_sess[inp_freq_site_dict[temp_dataframe.site[index + condition_index]][0]] += (1/10)\n",
    "                new_sess[inp_freq_site_dict[temp_dataframe.site[index + condition_index]][0] + time_start_idx] += (site_time/inp_time_limit)\n",
    "                total_time += temp_dataframe.time_diff[index + condition_index]\n",
    "                \n",
    "                condition_index += 1\n",
    "\n",
    "            if (condition_index <= inp_wind_size):\n",
    "                index += (condition_index)\n",
    "                #early_exit += 1\n",
    "            else:\n",
    "                index += inp_wind_size\n",
    "\n",
    "                \n",
    "            row_csr += [row_index] * len(new_sess)   # row number in which value is parse\n",
    "            data_csr+= list(new_sess.values())       # value\n",
    "            col_csr += list(new_sess.keys())         # column number in which value is parse\n",
    "\n",
    "            ret_userid_list.append(userid)\n",
    "            row_index += 1\n",
    "\n",
    "    ret_csr = csr_matrix((data_csr, (row_csr, col_csr)), shape = (max(row_csr)+1, max(col_csr)+1))[:, 1:]\n",
    "    \n",
    "    return ret_csr, np.array(ret_userid_list)"
   ]
  },
  {
   "cell_type": "markdown",
   "metadata": {},
   "source": [
    "Подготовим данные: обучающую, тестовую и проверочную выборки.    "
   ]
  },
  {
   "cell_type": "code",
   "execution_count": 23,
   "metadata": {},
   "outputs": [
    {
     "data": {
      "application/vnd.jupyter.widget-view+json": {
       "model_id": "fc6151406a6a4bc9b199fa186195f5b6",
       "version_major": 2,
       "version_minor": 0
      },
      "text/plain": [
       "HBox(children=(HTML(value=''), FloatProgress(value=0.0, max=150.0), HTML(value='')))"
      ]
     },
     "metadata": {},
     "output_type": "display_data"
    },
    {
     "name": "stdout",
     "output_type": "stream",
     "text": [
      "\n"
     ]
    }
   ],
   "source": [
    "train_data_sparse_v2, targets_v2 = prepare_sparse_train_set_total(filenames_all, sess_len, \n",
    "                                                             wind_size, freq_site_dict,\n",
    "                                                             inp_time_limit = time_limit,\n",
    "                                                            )\n",
    "X_train_v2, X_valid_v2, y_train_v2, y_valid_v2 = train_test_split(train_data_sparse_v2, targets_v2, \n",
    "                                                                  test_size = 0.3, random_state = rand_seed, \n",
    "                                                                  stratify = targets_v2,\n",
    "                                                                 )"
   ]
  },
  {
   "cell_type": "markdown",
   "metadata": {},
   "source": [
    "Посмотрим на размерности."
   ]
  },
  {
   "cell_type": "code",
   "execution_count": 24,
   "metadata": {},
   "outputs": [
    {
     "data": {
      "text/plain": [
       "(281800, 55625)"
      ]
     },
     "execution_count": 24,
     "metadata": {},
     "output_type": "execute_result"
    }
   ],
   "source": [
    "train_data_sparse_v2.shape"
   ]
  },
  {
   "cell_type": "markdown",
   "metadata": {},
   "source": [
    "Мы ожидаемо получили большое признаковое пространство. При этом явно не все признаки одинаково полезны.     \n",
    "Идея - выбрать лучший классификатор на текущем пространстве признаков и на его основе произвести отбор признаков.    "
   ]
  },
  {
   "cell_type": "markdown",
   "metadata": {},
   "source": [
    "Посмотрим на точности классификаторов на текущем пространстве признаков с помощью определенного ранее StratifiedKFold."
   ]
  },
  {
   "cell_type": "markdown",
   "metadata": {},
   "source": [
    "SGDClassifier"
   ]
  },
  {
   "cell_type": "code",
   "execution_count": 25,
   "metadata": {},
   "outputs": [
    {
     "data": {
      "application/vnd.jupyter.widget-view+json": {
       "model_id": "3b1b5671e2ee47c4a17c69f4b9d3490b",
       "version_major": 2,
       "version_minor": 0
      },
      "text/plain": [
       "HBox(children=(HTML(value='SGDClassifier'), FloatProgress(value=1.0, bar_style='info', layout=Layout(width='20…"
      ]
     },
     "metadata": {},
     "output_type": "display_data"
    },
    {
     "name": "stdout",
     "output_type": "stream",
     "text": [
      "\n",
      "Wall time: 1min 35s\n"
     ]
    },
    {
     "data": {
      "text/plain": [
       "([0.38599933083918847, 0.38416498106550273, 0.39310753881952154],\n",
       " 0.3877572835747376)"
      ]
     },
     "execution_count": 25,
     "metadata": {},
     "output_type": "execute_result"
    }
   ],
   "source": [
    "%%time\n",
    "# < 1 min\n",
    "clf_sgd = SGDClassifier(n_jobs = -1, random_state = rand_seed)\n",
    "sgd_v2_accur_fold, sgd_v2_f1_fold = get_metrics(clf_sgd, skf, X_train_v2, y_train_v2, X_valid_v2, y_valid_v2)\n",
    "sgd_v2_accur_fold, np.mean(sgd_v2_accur_fold), sgd_v2_f1_fold, np.mean(sgd_v2_f1_fold)"
   ]
  },
  {
   "cell_type": "markdown",
   "metadata": {},
   "source": [
    "<i>Ожидаемый результат"
   ]
  },
  {
   "cell_type": "code",
   "execution_count": null,
   "metadata": {},
   "outputs": [],
   "source": []
  },
  {
   "cell_type": "markdown",
   "metadata": {},
   "source": [
    "LogisticRegression "
   ]
  },
  {
   "cell_type": "code",
   "execution_count": 26,
   "metadata": {},
   "outputs": [
    {
     "data": {
      "application/vnd.jupyter.widget-view+json": {
       "model_id": "94474d0f29874f83bc8adf7e94b082e4",
       "version_major": 2,
       "version_minor": 0
      },
      "text/plain": [
       "HBox(children=(HTML(value='LogisticRegression'), FloatProgress(value=1.0, bar_style='info', layout=Layout(widt…"
      ]
     },
     "metadata": {},
     "output_type": "display_data"
    },
    {
     "name": "stdout",
     "output_type": "stream",
     "text": [
      "\n",
      "Wall time: 12min 22s\n"
     ]
    },
    {
     "data": {
      "text/plain": [
       "([0.052498707302977766, 0.05380743083965751, 0.05430930908095448],\n",
       " 0.05353848240786325)"
      ]
     },
     "execution_count": 26,
     "metadata": {},
     "output_type": "execute_result"
    }
   ],
   "source": [
    "%%time\n",
    "# 17+ min\n",
    "clf_lr = LogisticRegression(n_jobs = -1, random_state = rand_seed)\n",
    "lr_accur_fold, lr_f1_fold = get_metrics(clf_lr, skf, X_train_v2, y_train_v2, X_valid_v2, y_valid_v2)\n",
    "lr_accur_fold, np.mean(lr_accur_fold), lr_f1_fold, np.mean(lr_f1_fold)"
   ]
  },
  {
   "cell_type": "markdown",
   "metadata": {},
   "source": [
    "<i>Ожидаемый результат"
   ]
  },
  {
   "cell_type": "code",
   "execution_count": null,
   "metadata": {},
   "outputs": [],
   "source": []
  },
  {
   "cell_type": "markdown",
   "metadata": {},
   "source": [
    "KNeighborsClassifier"
   ]
  },
  {
   "cell_type": "code",
   "execution_count": 27,
   "metadata": {},
   "outputs": [
    {
     "data": {
      "application/vnd.jupyter.widget-view+json": {
       "model_id": "a6ea189cd9554f3a8f80e64becb4ac7c",
       "version_major": 2,
       "version_minor": 0
      },
      "text/plain": [
       "HBox(children=(HTML(value='KNeighborsClassifier'), FloatProgress(value=1.0, bar_style='info', layout=Layout(wi…"
      ]
     },
     "metadata": {},
     "output_type": "display_data"
    },
    {
     "name": "stdout",
     "output_type": "stream",
     "text": [
      "\n",
      "Wall time: 14min 39s\n"
     ]
    },
    {
     "data": {
      "text/plain": [
       "([0.7027101012866137, 0.7025839125211017, 0.7014584885860721],\n",
       " 0.7022508341312625)"
      ]
     },
     "execution_count": 27,
     "metadata": {},
     "output_type": "execute_result"
    }
   ],
   "source": [
    "%%time\n",
    "# 15+ min\n",
    "#clf_knn = KNeighborsClassifier(n_neighbors=50, n_jobs=-1)\n",
    "clf_knn = KNeighborsClassifier(n_jobs = -1)\n",
    "kn_accur_fold, kn_f1_fold = get_metrics(clf_knn, skf, X_train_v2, y_train_v2, X_valid_v2, y_valid_v2)\n",
    "kn_accur_fold, np.mean(kn_accur_fold), kn_f1_fold, np.mean(kn_f1_fold)"
   ]
  },
  {
   "cell_type": "markdown",
   "metadata": {},
   "source": [
    "<i>Ожидал лучшего результата. Возможно сказывается размерность пространства."
   ]
  },
  {
   "cell_type": "code",
   "execution_count": null,
   "metadata": {},
   "outputs": [],
   "source": []
  },
  {
   "cell_type": "markdown",
   "metadata": {},
   "source": [
    "LinearSVC"
   ]
  },
  {
   "cell_type": "code",
   "execution_count": 28,
   "metadata": {},
   "outputs": [
    {
     "data": {
      "application/vnd.jupyter.widget-view+json": {
       "model_id": "9da1a94fa4e24796bf46e74ec8c2d3b5",
       "version_major": 2,
       "version_minor": 0
      },
      "text/plain": [
       "HBox(children=(HTML(value='LinearSVC'), FloatProgress(value=1.0, bar_style='info', layout=Layout(width='20px')…"
      ]
     },
     "metadata": {},
     "output_type": "display_data"
    },
    {
     "name": "stderr",
     "output_type": "stream",
     "text": [
      "C:\\Users\\_v010ch_\\Anaconda3\\lib\\site-packages\\sklearn\\svm\\_base.py:977: ConvergenceWarning:\n",
      "\n",
      "Liblinear failed to converge, increase the number of iterations.\n",
      "\n"
     ]
    },
    {
     "name": "stdout",
     "output_type": "stream",
     "text": [
      "\n",
      "Wall time: 2h 48min 30s\n"
     ]
    },
    {
     "data": {
      "text/plain": [
       "([0.6593971469416309, 0.6578102900247897, 0.6580232080665521],\n",
       " 0.6584102150109908)"
      ]
     },
     "execution_count": 28,
     "metadata": {},
     "output_type": "execute_result"
    }
   ],
   "source": [
    "%%time\n",
    "# 36+ min\n",
    "clf_svc = LinearSVC(random_state = rand_seed)\n",
    "svc_accur_fold, svc_f1_fold = get_metrics(clf_svc, skf, X_train_v2, y_train_v2, X_valid_v2, y_valid_v2)\n",
    "svc_accur_fold, np.mean(svc_accur_fold), svc_f1_fold, np.mean(svc_f1_fold)"
   ]
  },
  {
   "cell_type": "markdown",
   "metadata": {},
   "source": [
    "<i>Ожидаемый достойный результат."
   ]
  },
  {
   "cell_type": "code",
   "execution_count": null,
   "metadata": {},
   "outputs": [],
   "source": []
  },
  {
   "cell_type": "markdown",
   "metadata": {},
   "source": [
    "RandomForestClassifier"
   ]
  },
  {
   "cell_type": "code",
   "execution_count": 29,
   "metadata": {},
   "outputs": [
    {
     "data": {
      "application/vnd.jupyter.widget-view+json": {
       "model_id": "9719952e9b884fa8afb71791484efe27",
       "version_major": 2,
       "version_minor": 0
      },
      "text/plain": [
       "HBox(children=(HTML(value='RandomForestClassifier'), FloatProgress(value=1.0, bar_style='info', layout=Layout(…"
      ]
     },
     "metadata": {},
     "output_type": "display_data"
    },
    {
     "name": "stdout",
     "output_type": "stream",
     "text": [
      "\n",
      "Wall time: 28min 24s\n"
     ]
    },
    {
     "data": {
      "text/plain": [
       "([0.8297594062718617, 0.8287530606968503, 0.8275211777409396],\n",
       " 0.828677881569884)"
      ]
     },
     "execution_count": 29,
     "metadata": {},
     "output_type": "execute_result"
    }
   ],
   "source": [
    "%%time \n",
    "# 1 hour 15+ min\n",
    "clf_rf = RandomForestClassifier(n_estimators = 100, n_jobs = -1, random_state = rand_seed,)\n",
    "rf_accur_fold, rf_f1_fold = get_metrics(clf_rf, skf, X_train_v2, y_train_v2, X_valid_v2, y_valid_v2)\n",
    "rf_accur_fold, np.mean(rf_accur_fold), rf_f1_fold, np.mean(rf_f1_fold)"
   ]
  },
  {
   "cell_type": "markdown",
   "metadata": {},
   "source": [
    "<i>Лучший результат"
   ]
  },
  {
   "cell_type": "code",
   "execution_count": null,
   "metadata": {},
   "outputs": [],
   "source": []
  },
  {
   "cell_type": "markdown",
   "metadata": {},
   "source": [
    "XGBoost"
   ]
  },
  {
   "cell_type": "code",
   "execution_count": 30,
   "metadata": {},
   "outputs": [],
   "source": [
    "xgb_params = {\n",
    "    'tree_method':'gpu_hist',\n",
    "    \"objective\": \"multi:softmax\",\n",
    "    #\"eta\": 0.3,\n",
    "    \"num_class\": 150,\n",
    "    #\"max_depth\": 10,\n",
    "    \"eval_metric\": \"mlogloss\",\n",
    "    #\"verbosity\": 2,\n",
    "}"
   ]
  },
  {
   "cell_type": "markdown",
   "metadata": {},
   "source": [
    "XGBoost необходимы классы типа int в пределах от 0 до len(classes) - 1.     \n",
    "Подготовим."
   ]
  },
  {
   "cell_type": "code",
   "execution_count": 31,
   "metadata": {},
   "outputs": [],
   "source": [
    "remap = {el:idx for idx, el in enumerate(set(y_train_v2))}\n",
    "\n",
    "y_tr_v2 = [remap[x] for x in y_train_v2]\n",
    "y_val_v2 = [remap[x] for x in y_valid_v2]\n",
    "Dtrain = xgb.DMatrix(X_train_v2, y_tr_v2)\n",
    "Dtest = xgb.DMatrix(X_valid_v2)"
   ]
  },
  {
   "cell_type": "code",
   "execution_count": 32,
   "metadata": {},
   "outputs": [
    {
     "name": "stdout",
     "output_type": "stream",
     "text": [
      "Wall time: 1h 5min 7s\n"
     ]
    },
    {
     "data": {
      "text/plain": [
       "0.5348355807901585"
      ]
     },
     "execution_count": 32,
     "metadata": {},
     "output_type": "execute_result"
    }
   ],
   "source": [
    "%%time\n",
    "# 40+ min\n",
    "model_xgb = xgb.train(xgb_params, Dtrain, \n",
    "                   #num_boost_round = 50,\n",
    "                   #early_stopping_rounds = 10, \n",
    "                 )\n",
    "pred = model_xgb.predict(Dtest)\n",
    "accuracy_score(y_val_v2, pred), f1_score(y_val_v2, pred, average = 'macro')"
   ]
  },
  {
   "cell_type": "markdown",
   "metadata": {},
   "source": [
    "<i>Неожидано слабый результат"
   ]
  },
  {
   "cell_type": "code",
   "execution_count": null,
   "metadata": {},
   "outputs": [],
   "source": []
  },
  {
   "cell_type": "code",
   "execution_count": 33,
   "metadata": {},
   "outputs": [
    {
     "data": {
      "text/plain": [
       "'03:54:37'"
      ]
     },
     "execution_count": 33,
     "metadata": {},
     "output_type": "execute_result"
    }
   ],
   "source": [
    "time.strftime('%H:%M:%S')"
   ]
  },
  {
   "cell_type": "markdown",
   "metadata": {},
   "source": [
    "Как видим лучший результат показал RandomForest.    \n",
    "Дальше работаем с ним."
   ]
  },
  {
   "cell_type": "code",
   "execution_count": 34,
   "metadata": {},
   "outputs": [
    {
     "data": {
      "text/plain": [
       "430"
      ]
     },
     "execution_count": 34,
     "metadata": {},
     "output_type": "execute_result"
    }
   ],
   "source": [
    "del clf_sgd\n",
    "del clf_lr\n",
    "del clf_knn\n",
    "del clf_svc\n",
    "del model_xgb\n",
    "del y_tr_v2\n",
    "del y_val_v2\n",
    "del Dtrain\n",
    "del Dtest\n",
    "\n",
    "gc.collect()"
   ]
  },
  {
   "cell_type": "code",
   "execution_count": 35,
   "metadata": {},
   "outputs": [
    {
     "data": {
      "text/plain": [
       "22"
      ]
     },
     "execution_count": 35,
     "metadata": {},
     "output_type": "execute_result"
    }
   ],
   "source": [
    "del X_train_v2\n",
    "del X_valid_v2\n",
    "del y_train_v2\n",
    "del y_valid_v2\n",
    "\n",
    "gc.collect()"
   ]
  },
  {
   "cell_type": "code",
   "execution_count": null,
   "metadata": {},
   "outputs": [],
   "source": []
  },
  {
   "cell_type": "markdown",
   "metadata": {},
   "source": [
    "Уменьшим размерность пространства признаков."
   ]
  },
  {
   "cell_type": "markdown",
   "metadata": {},
   "source": [
    "Для начала обучим RandomForestClassifier на всей выборке объектов для более корректного определения полезности признаков."
   ]
  },
  {
   "cell_type": "code",
   "execution_count": 42,
   "metadata": {},
   "outputs": [
    {
     "name": "stdout",
     "output_type": "stream",
     "text": [
      "Wall time: 23min 25s\n"
     ]
    },
    {
     "data": {
      "text/plain": [
       "RandomForestClassifier(n_jobs=-1)"
      ]
     },
     "execution_count": 42,
     "metadata": {},
     "output_type": "execute_result"
    }
   ],
   "source": [
    "%%time\n",
    "clf_rf = RandomForestClassifier(n_estimators = 100, n_jobs = -1)\n",
    "clf_rf.fit(train_data_sparse_v2, targets_v2)"
   ]
  },
  {
   "cell_type": "code",
   "execution_count": 43,
   "metadata": {},
   "outputs": [],
   "source": [
    "del train_data_sparse_v2\n",
    "del targets_v2\n",
    "\n",
    "gc.collect()"
   ]
  },
  {
   "cell_type": "markdown",
   "metadata": {},
   "source": [
    "Т.к. классификатор у нас уже обучен, отбор признаков будем проводить на основе их полезности через sklearn.feature_selection.SelectFromModel."
   ]
  },
  {
   "cell_type": "markdown",
   "metadata": {},
   "source": [
    "Зададим варианты порога полезности признаков и посмотрим на изменение точности модели при отборе признаков по таким порогам."
   ]
  },
  {
   "cell_type": "code",
   "execution_count": 97,
   "metadata": {},
   "outputs": [],
   "source": [
    "# params for select features\n",
    "thres = ['mean', 1e-5, 1e-6, 'median']"
   ]
  },
  {
   "cell_type": "code",
   "execution_count": 81,
   "metadata": {},
   "outputs": [],
   "source": [
    "def check_useful(inp_list):\n",
    "    \n",
    "    site = 0\n",
    "    sites = len(freq_site_dict)\n",
    "    timings = 0\n",
    "    dow = 0\n",
    "    hour = 0\n",
    "    for idx, el in enumerate(inp_list):\n",
    "        if idx < (sites) and el == True:\n",
    "            site += 1\n",
    "        elif (idx >= sites) and (idx < (sites*2)) and el == True:\n",
    "            timings += 1\n",
    "        elif (idx >= sites*2) and (idx < sites*2 + 7) and el == True:\n",
    "            dow  += 1\n",
    "        elif (idx >= sites*2+7) and el == True:\n",
    "            hour += 1\n",
    "            \n",
    "    print('useful sites: ' + str(site) + ', timings: ' + str(timings) +\\\n",
    "          ', dayofweek: ' + str(dow) + ', hours: ' + str(hour))\n",
    "    \n",
    "    return"
   ]
  },
  {
   "cell_type": "code",
   "execution_count": 83,
   "metadata": {},
   "outputs": [
    {
     "name": "stdout",
     "output_type": "stream",
     "text": [
      "\n",
      "Treshold 1e-06, useful features 34044\n",
      "useful sites: 17029, timings: 16991, dayofweek: 7, hours: 17\n"
     ]
    },
    {
     "data": {
      "application/vnd.jupyter.widget-view+json": {
       "model_id": "3a8e233241444968ba0e7dd790667e6d",
       "version_major": 2,
       "version_minor": 0
      },
      "text/plain": [
       "HBox(children=(HTML(value=''), FloatProgress(value=0.0, max=150.0), HTML(value='')))"
      ]
     },
     "metadata": {},
     "output_type": "display_data"
    },
    {
     "name": "stdout",
     "output_type": "stream",
     "text": [
      "\n"
     ]
    },
    {
     "data": {
      "application/vnd.jupyter.widget-view+json": {
       "model_id": "4ea1536f08224a37becf248f81173500",
       "version_major": 2,
       "version_minor": 0
      },
      "text/plain": [
       "HBox(children=(HTML(value='RandomForestClassifier'), FloatProgress(value=1.0, bar_style='info', layout=Layout(…"
      ]
     },
     "metadata": {},
     "output_type": "display_data"
    },
    {
     "name": "stdout",
     "output_type": "stream",
     "text": [
      "\n",
      "[0.8288317060559054, 0.8272474259729594, 0.825391997323316] 0.8271570431173937\n",
      "Wall time: 24min 46s\n"
     ]
    }
   ],
   "source": [
    "%%time\n",
    "thres_acc = []\n",
    "thres_f1  = []\n",
    "for el in thres:\n",
    "    # select features\n",
    "    features = feature_selection.SelectFromModel(clf_rf, prefit=True, threshold=el)\n",
    "    print('feature importance threshold: ' + str(el) + ', useful features: ' + str(sum(features.get_support())))\n",
    "    check_useful(features.get_support())\n",
    "    \n",
    "    # create 'new' freq_site_dict\n",
    "    idx = 1\n",
    "    freq_site_low_dict = defaultdict(lambda: (0, 0.0))\n",
    "    for useful, ftr in zip(features.get_support(), freq_site_dict.keys()):\n",
    "        if useful:\n",
    "            freq_site_low_dict[ftr] = (idx, 0)\n",
    "            idx += 1\n",
    "    \n",
    "    # create new train/test data\n",
    "    train_data_sparse_v3, targets_v3 = prepare_sparse_train_set_total(filenames_all, sess_len, \n",
    "                                                             wind_size, freq_site_low_dict,\n",
    "                                                             inp_time_limit = time_limit,\n",
    "                                                            )\n",
    "    X_train_v3, X_valid_v3, y_train_v3, y_valid_v3 = train_test_split(train_data_sparse_v3, targets_v3, \n",
    "                                                                      test_size = 0.3, \n",
    "                                                                      random_state = rand_seed, stratify = targets_v3,\n",
    "                                                                     )\n",
    "    \n",
    "    # evaluate results\n",
    "    clf_rf_v3 = RandomForestClassifier(n_estimators = 100, n_jobs = -1, random_state = rand_seed)\n",
    "    rf_v3_accur_fold, rf_v3_f1_fold = get_metrics(clf_rf_v3, skf, X_train_v3, y_train_v3, X_valid_v3, y_valid_v3)\n",
    "    thres_acc.append(np.mean(rf_v3_accur_fold))\n",
    "    thres_f1.append(np.mean(rf_v3_f1_fold))\n",
    "    \n",
    "    print(rf_v3_accur_fold, np.mean(rf_v3_accur_fold), rf_v3_f1_fold, np.mean(rf_v3_f1_fold), '\\n\\n')"
   ]
  },
  {
   "cell_type": "code",
   "execution_count": 46,
   "metadata": {},
   "outputs": [
    {
     "data": {
      "text/plain": [
       "'12:17:24'"
      ]
     },
     "execution_count": 46,
     "metadata": {},
     "output_type": "execute_result"
    }
   ],
   "source": [
    "time.strftime('%H:%M:%S')"
   ]
  },
  {
   "cell_type": "code",
   "execution_count": 58,
   "metadata": {},
   "outputs": [
    {
     "name": "stdout",
     "output_type": "stream",
     "text": [
      "34044\n"
     ]
    }
   ],
   "source": [
    "features = feature_selection.SelectFromModel(clf_rf, prefit = True, threshold = 1e-6)\n",
    "print(sum(features.get_support()))"
   ]
  },
  {
   "cell_type": "markdown",
   "metadata": {},
   "source": [
    "ВЫБОР ПОРОГА, ОБУЧЕНИЕ НА ЗАНИЖЕННОМ ПОРОГЕ"
   ]
  },
  {
   "cell_type": "code",
   "execution_count": null,
   "metadata": {},
   "outputs": [],
   "source": []
  },
  {
   "cell_type": "code",
   "execution_count": 87,
   "metadata": {},
   "outputs": [
    {
     "data": {
      "application/vnd.jupyter.widget-view+json": {
       "model_id": "0b338e8f264e45a2912a97fe594ec437",
       "version_major": 2,
       "version_minor": 0
      },
      "text/plain": [
       "HBox(children=(HTML(value='RandomForestClassifier'), FloatProgress(value=1.0, bar_style='info', layout=Layout(…"
      ]
     },
     "metadata": {},
     "output_type": "display_data"
    },
    {
     "name": "stdout",
     "output_type": "stream",
     "text": [
      "\n",
      "Wall time: 2h 10min 22s\n"
     ]
    },
    {
     "data": {
      "text/plain": [
       "([0.8352799829668157, 0.834136845467127, 0.8325855854485726],\n",
       " 0.8791932812869647)"
      ]
     },
     "execution_count": 87,
     "metadata": {},
     "output_type": "execute_result"
    }
   ],
   "source": [
    "%%time \n",
    "#n_estimators=100,\n",
    "clf_rf_200 = RandomForestClassifier(n_estimators = 200, n_jobs = -1, random_state = rand_seed)\n",
    "rf_accur_fold, rf_accur, rf_f1_fold, rf_f1, clf_rf_200 = \n",
    "                                      get_metrics(clf_rf_200, skf, X_train_v3, y_train_v3, \n",
    "                                                  X_valid_v3, y_valid_v3, endmodel = True,\n",
    "                                                  )\n",
    "rf_accur_fold, rf_accur, rf_f1_fold, rf_f1"
   ]
  },
  {
   "cell_type": "code",
   "execution_count": 85,
   "metadata": {},
   "outputs": [
    {
     "data": {
      "text/plain": [
       "[0.8297594062718617, 0.8287530606968503, 0.8275211777409396]"
      ]
     },
     "execution_count": 85,
     "metadata": {},
     "output_type": "execute_result"
    }
   ],
   "source": [
    "rf_accur_fold"
   ]
  },
  {
   "cell_type": "code",
   "execution_count": 59,
   "metadata": {},
   "outputs": [
    {
     "name": "stdout",
     "output_type": "stream",
     "text": [
      "34044\n"
     ]
    }
   ],
   "source": [
    "features = feature_selection.SelectFromModel(clf_rf, prefit = True, threshold = 1e-6)\n",
    "print(sum(features.get_support()))"
   ]
  },
  {
   "cell_type": "code",
   "execution_count": null,
   "metadata": {},
   "outputs": [],
   "source": []
  },
  {
   "cell_type": "markdown",
   "metadata": {},
   "source": [
    "### Выводы:    \n",
    "- удалось реализовать идентификацию пользователя из заданных 150 по последовательности посещенных им сайтов в течении времени,     \n",
    "  не превышающем 10 минут;\n",
    "- достигнутые значения метрик: accuracy, f1_score(macro);\n",
    "\n",
    "\n",
    "### Возможные пути улучшения:\n",
    "- добавление дополнительных признаков с учетом порядка посещенных сайтов (n-граммы) с последующим их отбором по полезности;\n",
    "- обучение 150 различных классификаторов для каждого пользователя в отдельности (one-vs-rest);\n",
    "- дополнительная оптимизация гиперпараметров выбранного алгоритма;\n",
    "- использование ансамбля различных алгоритмов;\n",
    "- получение дополнительных данных по поведению пользователя (геолокация, устройства и т.п.);"
   ]
  },
  {
   "cell_type": "code",
   "execution_count": null,
   "metadata": {},
   "outputs": [],
   "source": []
  },
  {
   "cell_type": "code",
   "execution_count": null,
   "metadata": {},
   "outputs": [],
   "source": []
  },
  {
   "cell_type": "markdown",
   "metadata": {},
   "source": [
    "### trash below"
   ]
  },
  {
   "cell_type": "markdown",
   "metadata": {},
   "source": [
    "Произведем оценку точности по пользователям."
   ]
  },
  {
   "cell_type": "code",
   "execution_count": 121,
   "metadata": {},
   "outputs": [],
   "source": [
    "from sklearn.metrics import confusion_matrix"
   ]
  },
  {
   "cell_type": "code",
   "execution_count": 120,
   "metadata": {},
   "outputs": [],
   "source": [
    "#user_accuracy = {el:0 for el in set(targets)}"
   ]
  },
  {
   "cell_type": "code",
   "execution_count": null,
   "metadata": {},
   "outputs": [],
   "source": [
    "#for el in tergets_v3:\n",
    "    "
   ]
  },
  {
   "cell_type": "code",
   "execution_count": 125,
   "metadata": {},
   "outputs": [],
   "source": [
    "predicted = clf_sgd.predict(X_valid)\n",
    "#predicted = clf_rf_200.predict(X_valid)"
   ]
  },
  {
   "cell_type": "code",
   "execution_count": 127,
   "metadata": {},
   "outputs": [
    {
     "data": {
      "text/plain": [
       "(array([ 575,  361,   89, ..., 2408,  238,  269]),\n",
       " array([ 575,  254, 1054, ...,  298,  238,  269]))"
      ]
     },
     "execution_count": 127,
     "metadata": {},
     "output_type": "execute_result"
    }
   ],
   "source": [
    "predicted, y_valid"
   ]
  },
  {
   "cell_type": "code",
   "execution_count": 181,
   "metadata": {},
   "outputs": [],
   "source": [
    "matrix = confusion_matrix(y_valid, predicted)\n",
    "all_accuracy = matrix.diagonal() / matrix.sum(axis = 0) #axis = 0\n",
    "all_accuracy2 = matrix.diagonal() / matrix.sum(axis = 1) #axis = 0"
   ]
  },
  {
   "cell_type": "code",
   "execution_count": 184,
   "metadata": {},
   "outputs": [
    {
     "data": {
      "text/plain": [
       "0.54204516644158"
      ]
     },
     "execution_count": 184,
     "metadata": {},
     "output_type": "execute_result"
    }
   ],
   "source": [
    "(np.mean(all_accuracy) + np.mean(all_accuracy2)) / 2"
   ]
  },
  {
   "cell_type": "code",
   "execution_count": 173,
   "metadata": {},
   "outputs": [
    {
     "data": {
      "text/plain": [
       "0.5498107404778803"
      ]
     },
     "execution_count": 173,
     "metadata": {},
     "output_type": "execute_result"
    }
   ],
   "source": [
    "accuracy_score(y_valid, predicted)"
   ]
  },
  {
   "cell_type": "code",
   "execution_count": 174,
   "metadata": {},
   "outputs": [
    {
     "data": {
      "text/plain": [
       "0.5746306952019807"
      ]
     },
     "execution_count": 174,
     "metadata": {},
     "output_type": "execute_result"
    }
   ],
   "source": [
    "np.mean(all_accuracy)"
   ]
  },
  {
   "cell_type": "code",
   "execution_count": 175,
   "metadata": {},
   "outputs": [
    {
     "name": "stdout",
     "output_type": "stream",
     "text": [
      "45\n"
     ]
    }
   ],
   "source": [
    "per30 = np.percentile( all_accuracy, 30)\n",
    "print(sum([True if el < per30 else False for el in all_accuracy ]))"
   ]
  },
  {
   "cell_type": "code",
   "execution_count": 176,
   "metadata": {},
   "outputs": [
    {
     "name": "stdout",
     "output_type": "stream",
     "text": [
      "16 0.4263888888888889\n",
      "28 0.3705533596837945\n",
      "1054 0.26614173228346455\n",
      "33 0.4613466334164589\n",
      "561 0.25833333333333336\n",
      "563 0.38035087719298244\n",
      "564 0.24855491329479767\n",
      "570 0.3306613226452906\n",
      "575 0.22128851540616246\n",
      "600 0.23366834170854273\n",
      "100 0.10421836228287841\n",
      "105 0.37799043062200954\n",
      "106 0.20944558521560575\n",
      "120 0.4678362573099415\n",
      "126 0.3424657534246575\n",
      "128 0.38362068965517243\n",
      "138 0.20437956204379562\n",
      "653 0.47058823529411764\n",
      "2191 0.4673684210526316\n",
      "665 0.3156862745098039\n",
      "158 0.4755822689706987\n",
      "677 0.35260115606936415\n",
      "172 0.21328671328671328\n",
      "203 0.46629213483146065\n",
      "207 0.43388429752066116\n",
      "722 0.31496881496881496\n",
      "223 0.2655086848635236\n",
      "1248 0.23504273504273504\n",
      "236 0.4172661870503597\n",
      "240 0.236\n",
      "1267 0.24250681198910082\n",
      "756 0.4403409090909091\n",
      "246 0.09005726184279021\n",
      "261 0.39896373056994816\n",
      "1798 0.453027139874739\n",
      "269 0.25225225225225223\n",
      "1299 0.389937106918239\n",
      "298 0.47345132743362833\n",
      "339 0.4335154826958106\n",
      "340 0.2292134831460674\n",
      "342 0.0646900269541779\n",
      "351 0.2661290322580645\n",
      "411 0.4774436090225564\n",
      "2493 0.24525916561314792\n",
      "1993 0.32547169811320753\n"
     ]
    }
   ],
   "source": [
    "for user, accuracy_point in zip(set(targets), all_accuracy):\n",
    "    if accuracy_point < per30:\n",
    "        print(user, accuracy_point)"
   ]
  },
  {
   "cell_type": "code",
   "execution_count": 177,
   "metadata": {},
   "outputs": [],
   "source": [
    "user_accuracy = {el:0 for el in set(targets)}\n",
    "user_total = {el:list(y_valid).count(el) for el in set(targets)}\n",
    "\n",
    "for el_true, el_pred in zip(y_valid, predicted):\n",
    "    if el_true == el_pred:\n",
    "        user_accuracy[el_true] += (1 / user_total[el_true])"
   ]
  },
  {
   "cell_type": "code",
   "execution_count": 178,
   "metadata": {},
   "outputs": [
    {
     "data": {
      "text/plain": [
       "{515: 0.3169291338582672,\n",
       " 6: 0.8688271604938043,\n",
       " 13: 0.6072423398328692,\n",
       " 15: 0.5758835758835739,\n",
       " 16: 0.8032915360501409,\n",
       " 1040: 0.764705882352939,\n",
       " 533: 0.5869918699187,\n",
       " 28: 0.5836501901140672,\n",
       " 1054: 0.6237623762376245,\n",
       " 31: 0.4698544698544699,\n",
       " 33: 0.5480314960629901,\n",
       " 39: 0.5576208178438754,\n",
       " 46: 0.6842105263157904,\n",
       " 49: 0.661596958174903,\n",
       " 50: 0.3641732283464561,\n",
       " 561: 0.49194547707559577,\n",
       " 563: 0.36102236421725137,\n",
       " 53: 0.4772727272727294,\n",
       " 564: 0.5689655172413802,\n",
       " 568: 0.29859154929577436,\n",
       " 569: 0.5958631662688999,\n",
       " 570: 0.7541899441340825,\n",
       " 573: 0.2859025032938088,\n",
       " 575: 0.5322415557830106,\n",
       " 576: 0.16969696969696996,\n",
       " 65: 0.3093525179856114,\n",
       " 66: 0.2063492063492067,\n",
       " 2625: 0.6203208556149751,\n",
       " 580: 0.627211714460028,\n",
       " 2118: 0.6546052631578929,\n",
       " 583: 0.7159887798036252,\n",
       " 584: 0.6079418344519083,\n",
       " 82: 0.23417721518987314,\n",
       " 85: 0.2852760736196321,\n",
       " 600: 0.6513409961685861,\n",
       " 89: 0.6467780429594281,\n",
       " 603: 0.4481927710843386,\n",
       " 92: 0.44580777096114643,\n",
       " 605: 0.7936893203883493,\n",
       " 100: 0.37636761487965076,\n",
       " 102: 0.4641975308641955,\n",
       " 103: 0.5619747899159646,\n",
       " 105: 0.49698795180722777,\n",
       " 106: 0.8831291234684393,\n",
       " 118: 0.3775388291517312,\n",
       " 119: 0.5828571428571424,\n",
       " 120: 0.48880597014925137,\n",
       " 126: 0.4861111111111096,\n",
       " 127: 0.7199621570482366,\n",
       " 128: 0.6074985354422927,\n",
       " 640: 0.6072874493927127,\n",
       " 2174: 0.6057441253263731,\n",
       " 647: 0.7982195845697311,\n",
       " 138: 0.33200000000000024,\n",
       " 653: 0.45531914893617076,\n",
       " 2191: 0.44700460829492955,\n",
       " 664: 0.374999999999999,\n",
       " 665: 0.4894366197183093,\n",
       " 158: 0.38321167883211643,\n",
       " 160: 0.4323432343234319,\n",
       " 165: 0.4032258064516126,\n",
       " 677: 0.5331412103746397,\n",
       " 172: 0.2365930599369087,\n",
       " 177: 0.6078431372549004,\n",
       " 692: 0.2873134328358213,\n",
       " 697: 0.5617433414043613,\n",
       " 705: 0.529780564263324,\n",
       " 2250: 0.3194444444444445,\n",
       " 203: 0.7236024844720469,\n",
       " 207: 0.6319444444444545,\n",
       " 722: 0.41682242990654356,\n",
       " 223: 0.2631578947368423,\n",
       " 1248: 0.572072072072072,\n",
       " 740: 0.62108262108262,\n",
       " 741: 0.4710144927536238,\n",
       " 233: 0.3343558282208588,\n",
       " 235: 0.14532871972318331,\n",
       " 236: 0.6328042328042326,\n",
       " 237: 0.48818897637795194,\n",
       " 238: 0.49685534591194963,\n",
       " 240: 0.28254847645429343,\n",
       " 241: 0.20058139534883743,\n",
       " 242: 0.413276231263384,\n",
       " 1267: 0.4940711462450581,\n",
       " 756: 0.5470737913486018,\n",
       " 245: 0.4395604395604385,\n",
       " 246: 0.3000000000000002,\n",
       " 249: 0.2822966507177041,\n",
       " 252: 0.27554179566563475,\n",
       " 254: 0.5533175355450233,\n",
       " 256: 0.40512820512820424,\n",
       " 258: 0.37466307277627964,\n",
       " 259: 0.2562929061784895,\n",
       " 260: 0.6129032258064512,\n",
       " 261: 0.4654088050314494,\n",
       " 1797: 0.8773722627737304,\n",
       " 263: 0.4639321074964621,\n",
       " 264: 0.47352941176470476,\n",
       " 1798: 0.6763157894736858,\n",
       " 780: 0.6449864498645002,\n",
       " 269: 0.531932773109242,\n",
       " 270: 0.6647773279352172,\n",
       " 784: 0.7251184834123215,\n",
       " 273: 0.35185185185185075,\n",
       " 785: 0.3720930232558145,\n",
       " 1299: 0.46007604562737536,\n",
       " 797: 0.6774999999999965,\n",
       " 287: 0.4899598393574341,\n",
       " 294: 0.1757925072046108,\n",
       " 298: 0.3847926267281125,\n",
       " 812: 0.8669724770642125,\n",
       " 301: 0.7733333333333363,\n",
       " 2355: 0.9056785370548575,\n",
       " 308: 0.5754060324825995,\n",
       " 315: 0.5141700404858293,\n",
       " 318: 0.49379652605459257,\n",
       " 327: 0.2932862190812722,\n",
       " 332: 0.36971830985915455,\n",
       " 333: 0.6902050113895211,\n",
       " 844: 0.5039682539682526,\n",
       " 339: 0.6184971098265928,\n",
       " 340: 0.3678929765886286,\n",
       " 342: 0.3484626647144967,\n",
       " 2902: 0.7548543689320386,\n",
       " 344: 0.2740213523131669,\n",
       " 859: 0.7333333333333312,\n",
       " 1371: 0.8869752421959141,\n",
       " 351: 0.4451697127937356,\n",
       " 356: 0.5531914893617028,\n",
       " 868: 0.23913043478260837,\n",
       " 2408: 0.8306962025316491,\n",
       " 361: 0.1993127147766321,\n",
       " 363: 0.525252525252526,\n",
       " 875: 0.8814180929095421,\n",
       " 411: 0.5314917127071865,\n",
       " 417: 0.4027303754266207,\n",
       " 932: 0.6299292214357928,\n",
       " 425: 0.2709551656920078,\n",
       " 430: 0.6084788029925183,\n",
       " 435: 0.35177865612648185,\n",
       " 436: 0.36556603773585034,\n",
       " 440: 0.19123505976095603,\n",
       " 444: 0.6731517509727607,\n",
       " 2493: 0.5326797385620902,\n",
       " 1993: 0.6201780415430254,\n",
       " 475: 0.27967806841046416,\n",
       " 476: 0.5607476635514018,\n",
       " 996: 0.7064803049555312,\n",
       " 486: 0.4732824427480933,\n",
       " 1014: 0.6563380281690134}"
      ]
     },
     "execution_count": 178,
     "metadata": {},
     "output_type": "execute_result"
    }
   ],
   "source": [
    "user_accuracy"
   ]
  },
  {
   "cell_type": "code",
   "execution_count": 179,
   "metadata": {},
   "outputs": [
    {
     "data": {
      "text/plain": [
       "0.5094596376811793"
      ]
     },
     "execution_count": 179,
     "metadata": {},
     "output_type": "execute_result"
    }
   ],
   "source": [
    "np.mean(list(user_accuracy.values()))"
   ]
  },
  {
   "cell_type": "code",
   "execution_count": 180,
   "metadata": {},
   "outputs": [
    {
     "data": {
      "text/plain": [
       "0.9056785370548575"
      ]
     },
     "execution_count": 180,
     "metadata": {},
     "output_type": "execute_result"
    }
   ],
   "source": [
    "max(user_accuracy.values())"
   ]
  },
  {
   "cell_type": "code",
   "execution_count": null,
   "metadata": {},
   "outputs": [],
   "source": []
  }
 ],
 "metadata": {
  "kernelspec": {
   "display_name": "Python 3",
   "language": "python",
   "name": "python3"
  },
  "language_info": {
   "codemirror_mode": {
    "name": "ipython",
    "version": 3
   },
   "file_extension": ".py",
   "mimetype": "text/x-python",
   "name": "python",
   "nbconvert_exporter": "python",
   "pygments_lexer": "ipython3",
   "version": "3.7.9"
  }
 },
 "nbformat": 4,
 "nbformat_minor": 4
}
