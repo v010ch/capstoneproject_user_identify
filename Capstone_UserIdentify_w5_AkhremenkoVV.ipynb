{
 "cells": [
  {
   "cell_type": "markdown",
   "metadata": {},
   "source": [
    "<center>\n",
    "<img src=\"https://habrastorage.org/web/677/8e1/337/6778e1337c3d4b159d7e99df94227cb2.jpg\"/>\n",
    "## Специализация \"Машинное обучение и анализ данных\"\n",
    "<center>Автор материала: программист-исследователь Mail.Ru Group, старший преподаватель Факультета Компьютерных Наук ВШЭ [Юрий Кашницкий](https://yorko.github.io/)"
   ]
  },
  {
   "cell_type": "markdown",
   "metadata": {},
   "source": [
    "# <center> Capstone проект №1 <br> Идентификация пользователей по посещенным веб-страницам\n",
    "<img src='http://i.istockimg.com/file_thumbview_approve/21546327/5/stock-illustration-21546327-identification-de-l-utilisateur.jpg'>\n",
    "\n",
    "# <center>Неделя 5.  Соревнование Kaggle \"Catch Me If You Can\"\n",
    "\n",
    "На этой неделе мы вспомним про концепцию стохастического градиентного спуска и опробуем классификатор Scikit-learn SGDClassifier, который работает намного быстрее на больших выборках, чем алгоритмы, которые мы тестировали на 4 неделе. Также мы познакомимся с данными [соревнования](https://inclass.kaggle.com/c/catch-me-if-you-can-intruder-detection-through-webpage-session-tracking2) Kaggle по идентификации пользователей и сделаем в нем первые посылки. По итогам этой недели дополнительные баллы получат те, кто попадет в топ-30 публичного лидерборда соревнования."
   ]
  },
  {
   "cell_type": "code",
   "execution_count": 70,
   "metadata": {},
   "outputs": [
    {
     "name": "stdout",
     "output_type": "stream",
     "text": [
      "The watermark extension is already loaded. To reload it, use:\n",
      "  %reload_ext watermark\n"
     ]
    }
   ],
   "source": [
    "%load_ext watermark"
   ]
  },
  {
   "cell_type": "code",
   "execution_count": 71,
   "metadata": {},
   "outputs": [
    {
     "name": "stdout",
     "output_type": "stream",
     "text": [
      "Python implementation: CPython\n",
      "Python version       : 3.7.4\n",
      "IPython version      : 7.8.0\n",
      "\n",
      "numpy      : 1.17.2\n",
      "scipy      : 1.4.1\n",
      "pandas     : 1.0.3\n",
      "matplotlib : 3.2.1\n",
      "statsmodels: 0.11.1\n",
      "sklearn    : 0.21.3\n",
      "\n",
      "Compiler    : GCC 7.3.0\n",
      "OS          : Linux\n",
      "Release     : 5.4.0-62-generic\n",
      "Machine     : x86_64\n",
      "Processor   : x86_64\n",
      "CPU cores   : 4\n",
      "Architecture: 64bit\n",
      "\n",
      "Git hash: 77dafa42a619730d84e03949ac152177b92bb669\n",
      "\n"
     ]
    }
   ],
   "source": [
    "%watermark -v -m -p numpy,scipy,pandas,matplotlib,statsmodels,sklearn -g"
   ]
  },
  {
   "cell_type": "code",
   "execution_count": null,
   "metadata": {},
   "outputs": [],
   "source": []
  },
  {
   "cell_type": "code",
   "execution_count": 3,
   "metadata": {},
   "outputs": [
    {
     "name": "stderr",
     "output_type": "stream",
     "text": [
      "/home/voloch/.local/lib/python3.7/site-packages/tqdm/std.py:668: FutureWarning: The Panel class is removed from pandas. Accessing it from the top-level namespace will also be removed in the next version\n",
      "  from pandas import Panel\n"
     ]
    }
   ],
   "source": [
    "import os\n",
    "import pandas as pd\n",
    "import pickle\n",
    "from collections import Counter\n",
    "import numpy as np\n",
    "\n",
    "from tqdm import tqdm\n",
    "tqdm.pandas()\n",
    "\n",
    "from scipy.sparse import csr_matrix\n",
    "from scipy import sparse"
   ]
  },
  {
   "cell_type": "code",
   "execution_count": 81,
   "metadata": {},
   "outputs": [],
   "source": [
    "from sklearn.preprocessing import LabelBinarizer\n",
    "\n",
    "from sklearn.model_selection import train_test_split, cross_val_score, StratifiedKFold, GridSearchCV\n",
    "from sklearn.metrics import accuracy_score, f1_score, roc_auc_score\n",
    "\n",
    "from sklearn.linear_model import SGDClassifier\n",
    "from sklearn.neighbors import KNeighborsClassifier\n",
    "from sklearn.ensemble import RandomForestClassifier\n",
    "from sklearn.linear_model import LogisticRegression, LogisticRegressionCV\n",
    "from sklearn.svm import SVC\n",
    "\n",
    "\n",
    "import catboost\n",
    "from catboost import CatBoostClassifier\n",
    "from lightgbm import LGBMClassifier"
   ]
  },
  {
   "cell_type": "code",
   "execution_count": 5,
   "metadata": {},
   "outputs": [],
   "source": [
    "import plotly.express as px"
   ]
  },
  {
   "cell_type": "code",
   "execution_count": 6,
   "metadata": {},
   "outputs": [
    {
     "data": {
      "text/plain": [
       "'./data/compete-catch_me_if_you_can'"
      ]
     },
     "execution_count": 6,
     "metadata": {},
     "output_type": "execute_result"
    }
   ],
   "source": [
    "PATH_TO_DATA = os.path.join('./', 'data', 'compete-catch_me_if_you_can')\n",
    "PATH_TO_DATA"
   ]
  },
  {
   "cell_type": "code",
   "execution_count": 7,
   "metadata": {},
   "outputs": [],
   "source": [
    "def write_to_submission_file(predicted_labels, out_file,\n",
    "                             target='target', index_label=\"session_id\"):\n",
    "    # turn predictions into data frame and save as csv file\n",
    "    predicted_df = pd.DataFrame(predicted_labels,\n",
    "                                index = np.arange(1, predicted_labels.shape[0] + 1),\n",
    "                                columns=[target])\n",
    "    predicted_df.to_csv(out_file, index_label=index_label)"
   ]
  },
  {
   "cell_type": "code",
   "execution_count": null,
   "metadata": {},
   "outputs": [],
   "source": []
  },
  {
   "cell_type": "markdown",
   "metadata": {},
   "source": [
    "**Считаем данные [соревнования](https://inclass.kaggle.com/c/catch-me-if-you-can-intruder-detection-through-webpage-session-tracking2) в DataFrame train_df и test_df (обучающая и тестовая выборки).**"
   ]
  },
  {
   "cell_type": "code",
   "execution_count": 8,
   "metadata": {},
   "outputs": [
    {
     "data": {
      "text/plain": [
       "((253561, 21), (82797, 20))"
      ]
     },
     "execution_count": 8,
     "metadata": {},
     "output_type": "execute_result"
    }
   ],
   "source": [
    "train_df = pd.read_csv(os.path.join(PATH_TO_DATA, 'train_sessions.csv'),\n",
    "                       index_col='session_id')\n",
    "test_df = pd.read_csv(os.path.join(PATH_TO_DATA, 'test_sessions.csv'),\n",
    "                      index_col='session_id')\n",
    "\n",
    "train_df.shape, test_df.shape"
   ]
  },
  {
   "cell_type": "code",
   "execution_count": 9,
   "metadata": {},
   "outputs": [
    {
     "data": {
      "text/html": [
       "<div>\n",
       "<style scoped>\n",
       "    .dataframe tbody tr th:only-of-type {\n",
       "        vertical-align: middle;\n",
       "    }\n",
       "\n",
       "    .dataframe tbody tr th {\n",
       "        vertical-align: top;\n",
       "    }\n",
       "\n",
       "    .dataframe thead th {\n",
       "        text-align: right;\n",
       "    }\n",
       "</style>\n",
       "<table border=\"1\" class=\"dataframe\">\n",
       "  <thead>\n",
       "    <tr style=\"text-align: right;\">\n",
       "      <th></th>\n",
       "      <th>site1</th>\n",
       "      <th>time1</th>\n",
       "      <th>site2</th>\n",
       "      <th>time2</th>\n",
       "      <th>site3</th>\n",
       "      <th>time3</th>\n",
       "      <th>site4</th>\n",
       "      <th>time4</th>\n",
       "      <th>site5</th>\n",
       "      <th>time5</th>\n",
       "      <th>...</th>\n",
       "      <th>time6</th>\n",
       "      <th>site7</th>\n",
       "      <th>time7</th>\n",
       "      <th>site8</th>\n",
       "      <th>time8</th>\n",
       "      <th>site9</th>\n",
       "      <th>time9</th>\n",
       "      <th>site10</th>\n",
       "      <th>time10</th>\n",
       "      <th>target</th>\n",
       "    </tr>\n",
       "    <tr>\n",
       "      <th>session_id</th>\n",
       "      <th></th>\n",
       "      <th></th>\n",
       "      <th></th>\n",
       "      <th></th>\n",
       "      <th></th>\n",
       "      <th></th>\n",
       "      <th></th>\n",
       "      <th></th>\n",
       "      <th></th>\n",
       "      <th></th>\n",
       "      <th></th>\n",
       "      <th></th>\n",
       "      <th></th>\n",
       "      <th></th>\n",
       "      <th></th>\n",
       "      <th></th>\n",
       "      <th></th>\n",
       "      <th></th>\n",
       "      <th></th>\n",
       "      <th></th>\n",
       "      <th></th>\n",
       "    </tr>\n",
       "  </thead>\n",
       "  <tbody>\n",
       "    <tr>\n",
       "      <th>1</th>\n",
       "      <td>718</td>\n",
       "      <td>2014-02-20 10:02:45</td>\n",
       "      <td>NaN</td>\n",
       "      <td>NaN</td>\n",
       "      <td>NaN</td>\n",
       "      <td>NaN</td>\n",
       "      <td>NaN</td>\n",
       "      <td>NaN</td>\n",
       "      <td>NaN</td>\n",
       "      <td>NaN</td>\n",
       "      <td>...</td>\n",
       "      <td>NaN</td>\n",
       "      <td>NaN</td>\n",
       "      <td>NaN</td>\n",
       "      <td>NaN</td>\n",
       "      <td>NaN</td>\n",
       "      <td>NaN</td>\n",
       "      <td>NaN</td>\n",
       "      <td>NaN</td>\n",
       "      <td>NaN</td>\n",
       "      <td>0</td>\n",
       "    </tr>\n",
       "    <tr>\n",
       "      <th>2</th>\n",
       "      <td>890</td>\n",
       "      <td>2014-02-22 11:19:50</td>\n",
       "      <td>941.0</td>\n",
       "      <td>2014-02-22 11:19:50</td>\n",
       "      <td>3847.0</td>\n",
       "      <td>2014-02-22 11:19:51</td>\n",
       "      <td>941.0</td>\n",
       "      <td>2014-02-22 11:19:51</td>\n",
       "      <td>942.0</td>\n",
       "      <td>2014-02-22 11:19:51</td>\n",
       "      <td>...</td>\n",
       "      <td>2014-02-22 11:19:51</td>\n",
       "      <td>3847.0</td>\n",
       "      <td>2014-02-22 11:19:52</td>\n",
       "      <td>3846.0</td>\n",
       "      <td>2014-02-22 11:19:52</td>\n",
       "      <td>1516.0</td>\n",
       "      <td>2014-02-22 11:20:15</td>\n",
       "      <td>1518.0</td>\n",
       "      <td>2014-02-22 11:20:16</td>\n",
       "      <td>0</td>\n",
       "    </tr>\n",
       "    <tr>\n",
       "      <th>3</th>\n",
       "      <td>14769</td>\n",
       "      <td>2013-12-16 16:40:17</td>\n",
       "      <td>39.0</td>\n",
       "      <td>2013-12-16 16:40:18</td>\n",
       "      <td>14768.0</td>\n",
       "      <td>2013-12-16 16:40:19</td>\n",
       "      <td>14769.0</td>\n",
       "      <td>2013-12-16 16:40:19</td>\n",
       "      <td>37.0</td>\n",
       "      <td>2013-12-16 16:40:19</td>\n",
       "      <td>...</td>\n",
       "      <td>2013-12-16 16:40:19</td>\n",
       "      <td>14768.0</td>\n",
       "      <td>2013-12-16 16:40:20</td>\n",
       "      <td>14768.0</td>\n",
       "      <td>2013-12-16 16:40:21</td>\n",
       "      <td>14768.0</td>\n",
       "      <td>2013-12-16 16:40:22</td>\n",
       "      <td>14768.0</td>\n",
       "      <td>2013-12-16 16:40:24</td>\n",
       "      <td>0</td>\n",
       "    </tr>\n",
       "    <tr>\n",
       "      <th>4</th>\n",
       "      <td>782</td>\n",
       "      <td>2014-03-28 10:52:12</td>\n",
       "      <td>782.0</td>\n",
       "      <td>2014-03-28 10:52:42</td>\n",
       "      <td>782.0</td>\n",
       "      <td>2014-03-28 10:53:12</td>\n",
       "      <td>782.0</td>\n",
       "      <td>2014-03-28 10:53:42</td>\n",
       "      <td>782.0</td>\n",
       "      <td>2014-03-28 10:54:12</td>\n",
       "      <td>...</td>\n",
       "      <td>2014-03-28 10:54:42</td>\n",
       "      <td>782.0</td>\n",
       "      <td>2014-03-28 10:55:12</td>\n",
       "      <td>782.0</td>\n",
       "      <td>2014-03-28 10:55:42</td>\n",
       "      <td>782.0</td>\n",
       "      <td>2014-03-28 10:56:12</td>\n",
       "      <td>782.0</td>\n",
       "      <td>2014-03-28 10:56:42</td>\n",
       "      <td>0</td>\n",
       "    </tr>\n",
       "    <tr>\n",
       "      <th>5</th>\n",
       "      <td>22</td>\n",
       "      <td>2014-02-28 10:53:05</td>\n",
       "      <td>177.0</td>\n",
       "      <td>2014-02-28 10:55:22</td>\n",
       "      <td>175.0</td>\n",
       "      <td>2014-02-28 10:55:22</td>\n",
       "      <td>178.0</td>\n",
       "      <td>2014-02-28 10:55:23</td>\n",
       "      <td>177.0</td>\n",
       "      <td>2014-02-28 10:55:23</td>\n",
       "      <td>...</td>\n",
       "      <td>2014-02-28 10:55:59</td>\n",
       "      <td>175.0</td>\n",
       "      <td>2014-02-28 10:55:59</td>\n",
       "      <td>177.0</td>\n",
       "      <td>2014-02-28 10:55:59</td>\n",
       "      <td>177.0</td>\n",
       "      <td>2014-02-28 10:57:06</td>\n",
       "      <td>178.0</td>\n",
       "      <td>2014-02-28 10:57:11</td>\n",
       "      <td>0</td>\n",
       "    </tr>\n",
       "  </tbody>\n",
       "</table>\n",
       "<p>5 rows × 21 columns</p>\n",
       "</div>"
      ],
      "text/plain": [
       "            site1                time1  site2                time2    site3  \\\n",
       "session_id                                                                    \n",
       "1             718  2014-02-20 10:02:45    NaN                  NaN      NaN   \n",
       "2             890  2014-02-22 11:19:50  941.0  2014-02-22 11:19:50   3847.0   \n",
       "3           14769  2013-12-16 16:40:17   39.0  2013-12-16 16:40:18  14768.0   \n",
       "4             782  2014-03-28 10:52:12  782.0  2014-03-28 10:52:42    782.0   \n",
       "5              22  2014-02-28 10:53:05  177.0  2014-02-28 10:55:22    175.0   \n",
       "\n",
       "                          time3    site4                time4  site5  \\\n",
       "session_id                                                             \n",
       "1                           NaN      NaN                  NaN    NaN   \n",
       "2           2014-02-22 11:19:51    941.0  2014-02-22 11:19:51  942.0   \n",
       "3           2013-12-16 16:40:19  14769.0  2013-12-16 16:40:19   37.0   \n",
       "4           2014-03-28 10:53:12    782.0  2014-03-28 10:53:42  782.0   \n",
       "5           2014-02-28 10:55:22    178.0  2014-02-28 10:55:23  177.0   \n",
       "\n",
       "                          time5  ...                time6    site7  \\\n",
       "session_id                       ...                                 \n",
       "1                           NaN  ...                  NaN      NaN   \n",
       "2           2014-02-22 11:19:51  ...  2014-02-22 11:19:51   3847.0   \n",
       "3           2013-12-16 16:40:19  ...  2013-12-16 16:40:19  14768.0   \n",
       "4           2014-03-28 10:54:12  ...  2014-03-28 10:54:42    782.0   \n",
       "5           2014-02-28 10:55:23  ...  2014-02-28 10:55:59    175.0   \n",
       "\n",
       "                          time7    site8                time8    site9  \\\n",
       "session_id                                                               \n",
       "1                           NaN      NaN                  NaN      NaN   \n",
       "2           2014-02-22 11:19:52   3846.0  2014-02-22 11:19:52   1516.0   \n",
       "3           2013-12-16 16:40:20  14768.0  2013-12-16 16:40:21  14768.0   \n",
       "4           2014-03-28 10:55:12    782.0  2014-03-28 10:55:42    782.0   \n",
       "5           2014-02-28 10:55:59    177.0  2014-02-28 10:55:59    177.0   \n",
       "\n",
       "                          time9   site10               time10 target  \n",
       "session_id                                                            \n",
       "1                           NaN      NaN                  NaN      0  \n",
       "2           2014-02-22 11:20:15   1518.0  2014-02-22 11:20:16      0  \n",
       "3           2013-12-16 16:40:22  14768.0  2013-12-16 16:40:24      0  \n",
       "4           2014-03-28 10:56:12    782.0  2014-03-28 10:56:42      0  \n",
       "5           2014-02-28 10:57:06    178.0  2014-02-28 10:57:11      0  \n",
       "\n",
       "[5 rows x 21 columns]"
      ]
     },
     "execution_count": 9,
     "metadata": {},
     "output_type": "execute_result"
    }
   ],
   "source": [
    "train_df.head()"
   ]
  },
  {
   "cell_type": "code",
   "execution_count": 10,
   "metadata": {},
   "outputs": [
    {
     "data": {
      "text/plain": [
       "Index(['site1', 'time1', 'site2', 'time2', 'site3', 'time3', 'site4', 'time4',\n",
       "       'site5', 'time5', 'site6', 'time6', 'site7', 'time7', 'site8', 'time8',\n",
       "       'site9', 'time9', 'site10', 'time10', 'target'],\n",
       "      dtype='object')"
      ]
     },
     "execution_count": 10,
     "metadata": {},
     "output_type": "execute_result"
    }
   ],
   "source": [
    "train_df.keys()"
   ]
  },
  {
   "cell_type": "code",
   "execution_count": 11,
   "metadata": {},
   "outputs": [],
   "source": [
    "train_test_df = pd.concat([train_df, test_df])"
   ]
  },
  {
   "cell_type": "markdown",
   "metadata": {},
   "source": [
    "**Пока для прогноза будем использовать только индексы посещенных сайтов. Индексы нумеровались с 1, так что заменим пропуски на нули.**"
   ]
  },
  {
   "cell_type": "code",
   "execution_count": 12,
   "metadata": {},
   "outputs": [],
   "source": [
    "train_test_df_sites = train_test_df[['site%d' % i for i in range(1, 11)]].fillna(0).astype('int')"
   ]
  },
  {
   "cell_type": "code",
   "execution_count": 13,
   "metadata": {},
   "outputs": [
    {
     "data": {
      "text/plain": [
       "(336358, 10)"
      ]
     },
     "execution_count": 13,
     "metadata": {},
     "output_type": "execute_result"
    }
   ],
   "source": [
    "train_test_df_sites.shape"
   ]
  },
  {
   "cell_type": "markdown",
   "metadata": {},
   "source": [
    "***Создаем разреженную матрицу***"
   ]
  },
  {
   "cell_type": "code",
   "execution_count": 14,
   "metadata": {},
   "outputs": [],
   "source": [
    "train_test_df_sites.reset_index(inplace=True)"
   ]
  },
  {
   "cell_type": "code",
   "execution_count": 15,
   "metadata": {},
   "outputs": [
    {
     "name": "stdout",
     "output_type": "stream",
     "text": [
      "CPU times: user 44.6 s, sys: 61.8 ms, total: 44.7 s\n",
      "Wall time: 44.1 s\n"
     ]
    }
   ],
   "source": [
    "%%time\n",
    "row_csr  = []\n",
    "data_csr = []\n",
    "col_csr  = []\n",
    "\n",
    "for idx in range(train_test_df_sites.shape[0]):\n",
    "    for el in Counter(train_test_df_sites.loc[idx, :].values[1:]).most_common():\n",
    "        row_csr.append(idx)\n",
    "        data_csr.append(el[1])\n",
    "        col_csr.append(el[0])\n",
    "    "
   ]
  },
  {
   "cell_type": "code",
   "execution_count": 16,
   "metadata": {},
   "outputs": [],
   "source": [
    "train_test_sparse = csr_matrix((data_csr, (row_csr, col_csr)), shape=(max(row_csr)+1, max(col_csr)+1))"
   ]
  },
  {
   "cell_type": "code",
   "execution_count": 17,
   "metadata": {},
   "outputs": [
    {
     "data": {
      "text/plain": [
       "(336358, 48372)"
      ]
     },
     "execution_count": 17,
     "metadata": {},
     "output_type": "execute_result"
    }
   ],
   "source": [
    "train_test_sparse.shape"
   ]
  },
  {
   "cell_type": "markdown",
   "metadata": {},
   "source": [
    "Выделяем отдельные вектора. Игнорируем колонку с сайтом 0"
   ]
  },
  {
   "cell_type": "code",
   "execution_count": 18,
   "metadata": {},
   "outputs": [],
   "source": [
    "X_train_sparse = train_test_sparse[:train_df.shape[0], 1:]\n",
    "X_test_sparse = train_test_sparse[train_df.shape[0] :, 1:]\n",
    "y = train_df.target"
   ]
  },
  {
   "cell_type": "code",
   "execution_count": 19,
   "metadata": {},
   "outputs": [
    {
     "name": "stdout",
     "output_type": "stream",
     "text": [
      "was(253561, 21)(82797, 20)\n",
      "(253561, 48371) (82797, 48371)\n"
     ]
    }
   ],
   "source": [
    "print('was' + str(train_df.shape) + str(test_df.shape))\n",
    "print(X_train_sparse.shape, X_test_sparse.shape)"
   ]
  },
  {
   "cell_type": "markdown",
   "metadata": {},
   "source": [
    "**<font color='red'>Вопрос 1. </font> Выведите размерности матриц *X_train_sparse* и *X_test_sparse* – 4 числа на одной строке через пробел: число строк и столбцов матрицы *X_train_sparse*, затем число строк и столбцов матрицы *X_test_sparse*.**"
   ]
  },
  {
   "cell_type": "code",
   "execution_count": 20,
   "metadata": {},
   "outputs": [
    {
     "name": "stdout",
     "output_type": "stream",
     "text": [
      "(253561, 48371) (82797, 48371)\n"
     ]
    }
   ],
   "source": [
    "print(X_train_sparse.shape, X_test_sparse.shape)"
   ]
  },
  {
   "cell_type": "code",
   "execution_count": 21,
   "metadata": {},
   "outputs": [],
   "source": [
    "with open(os.path.join(PATH_TO_DATA, 'X_train_sparse.pkl'), 'wb') as X_train_sparse_pkl:\n",
    "    pickle.dump(X_train_sparse, X_train_sparse_pkl, protocol=2)\n",
    "with open(os.path.join(PATH_TO_DATA, 'X_test_sparse.pkl'), 'wb') as X_test_sparse_pkl:\n",
    "    pickle.dump(X_test_sparse, X_test_sparse_pkl, protocol=2)\n",
    "with open(os.path.join(PATH_TO_DATA, 'train_target.pkl'), 'wb') as train_target_pkl:\n",
    "    pickle.dump(y, train_target_pkl, protocol=2)"
   ]
  },
  {
   "cell_type": "code",
   "execution_count": 22,
   "metadata": {},
   "outputs": [
    {
     "data": {
      "text/plain": [
       "(253561,)"
      ]
     },
     "execution_count": 22,
     "metadata": {},
     "output_type": "execute_result"
    }
   ],
   "source": [
    "y.shape"
   ]
  },
  {
   "cell_type": "markdown",
   "metadata": {},
   "source": [
    "Разобьем выборки с учетом времение, не перемешивая"
   ]
  },
  {
   "cell_type": "code",
   "execution_count": 23,
   "metadata": {},
   "outputs": [],
   "source": [
    "train_share = int(.7 * X_train_sparse.shape[0])\n",
    "X_train, y_train = X_train_sparse[:train_share, :], y[:train_share]\n",
    "X_valid, y_valid  = X_train_sparse[train_share:, :], y[train_share:]"
   ]
  },
  {
   "cell_type": "code",
   "execution_count": 24,
   "metadata": {},
   "outputs": [
    {
     "data": {
      "text/plain": [
       "((177492, 48371), (177492,))"
      ]
     },
     "execution_count": 24,
     "metadata": {},
     "output_type": "execute_result"
    }
   ],
   "source": [
    "X_train.shape, y_train.shape"
   ]
  },
  {
   "cell_type": "code",
   "execution_count": 25,
   "metadata": {},
   "outputs": [
    {
     "data": {
      "text/plain": [
       "(scipy.sparse.csr.csr_matrix, pandas.core.series.Series)"
      ]
     },
     "execution_count": 25,
     "metadata": {},
     "output_type": "execute_result"
    }
   ],
   "source": [
    "type(X_train), type(y_train)"
   ]
  },
  {
   "cell_type": "code",
   "execution_count": 26,
   "metadata": {},
   "outputs": [
    {
     "data": {
      "text/plain": [
       "session_id\n",
       "1    0\n",
       "2    0\n",
       "3    0\n",
       "4    0\n",
       "5    0\n",
       "Name: target, dtype: int64"
      ]
     },
     "execution_count": 26,
     "metadata": {},
     "output_type": "execute_result"
    }
   ],
   "source": [
    "y.head()"
   ]
  },
  {
   "cell_type": "markdown",
   "metadata": {},
   "source": [
    "***Пробуем обучить SGDClassifier. В начале на всей выборке и оценим точность. Затем по всей выборке и сделаем  прогноз для соревнования***"
   ]
  },
  {
   "cell_type": "code",
   "execution_count": 27,
   "metadata": {},
   "outputs": [
    {
     "data": {
      "text/plain": [
       "SGDClassifier(alpha=0.0001, average=False, class_weight=None,\n",
       "              early_stopping=False, epsilon=0.1, eta0=0.0, fit_intercept=True,\n",
       "              l1_ratio=0.15, learning_rate='optimal', loss='log', max_iter=1000,\n",
       "              n_iter_no_change=5, n_jobs=-1, penalty='l2', power_t=0.5,\n",
       "              random_state=17, shuffle=True, tol=0.001, validation_fraction=0.1,\n",
       "              verbose=0, warm_start=False)"
      ]
     },
     "execution_count": 27,
     "metadata": {},
     "output_type": "execute_result"
    }
   ],
   "source": [
    "sgd_logit = SGDClassifier(loss = 'log', random_state = 17, n_jobs = -1)\n",
    "sgd_logit.fit(X_train, y_train)"
   ]
  },
  {
   "cell_type": "code",
   "execution_count": 28,
   "metadata": {},
   "outputs": [],
   "source": [
    "logit_valid_pred_proba = sgd_logit.predict_proba(X_valid)"
   ]
  },
  {
   "cell_type": "code",
   "execution_count": 29,
   "metadata": {},
   "outputs": [
    {
     "data": {
      "text/plain": [
       "array([8.80885865e-02, 2.96493343e-04, 1.27345522e-04, ...,\n",
       "       1.22481202e-02, 5.60663172e-05, 1.13147460e-02])"
      ]
     },
     "execution_count": 29,
     "metadata": {},
     "output_type": "execute_result"
    }
   ],
   "source": [
    "logit_valid_pred_proba[:,1]"
   ]
  },
  {
   "cell_type": "markdown",
   "metadata": {},
   "source": [
    "**<font color='red'>Вопрос 2. </font> Посчитайте ROC AUC логистической регрессии, обученной с помощью стохастического градиентного спуска, на отложенной выборке. Округлите до 3 знаков после разделителя.**"
   ]
  },
  {
   "cell_type": "code",
   "execution_count": 91,
   "metadata": {},
   "outputs": [
    {
     "name": "stdout",
     "output_type": "stream",
     "text": [
      "0.934\n"
     ]
    }
   ],
   "source": [
    "roc_auc = roc_auc_score(y_valid, logit_valid_pred_proba[:,1])\n",
    "print(round(roc_auc, 3)) #, sum(predicted), sum(y_train))"
   ]
  },
  {
   "cell_type": "code",
   "execution_count": null,
   "metadata": {},
   "outputs": [],
   "source": []
  },
  {
   "cell_type": "code",
   "execution_count": 33,
   "metadata": {},
   "outputs": [
    {
     "data": {
      "text/plain": [
       "SGDClassifier(alpha=0.0001, average=False, class_weight=None,\n",
       "              early_stopping=False, epsilon=0.1, eta0=0.0, fit_intercept=True,\n",
       "              l1_ratio=0.15, learning_rate='optimal', loss='log', max_iter=1000,\n",
       "              n_iter_no_change=5, n_jobs=-1, penalty='l2', power_t=0.5,\n",
       "              random_state=17, shuffle=True, tol=0.001, validation_fraction=0.1,\n",
       "              verbose=0, warm_start=False)"
      ]
     },
     "execution_count": 33,
     "metadata": {},
     "output_type": "execute_result"
    }
   ],
   "source": [
    "sgd_logit_full = SGDClassifier(loss = 'log', random_state = 17, n_jobs = -1)\n",
    "sgd_logit_full.fit(X_train_sparse, y)"
   ]
  },
  {
   "cell_type": "code",
   "execution_count": 34,
   "metadata": {},
   "outputs": [],
   "source": [
    "logit_valid_pred_proba_full = sgd_logit_full.predict_proba(X_test_sparse)"
   ]
  },
  {
   "cell_type": "code",
   "execution_count": null,
   "metadata": {},
   "outputs": [],
   "source": []
  },
  {
   "cell_type": "markdown",
   "metadata": {},
   "source": [
    "Сохраним и отправим на соревновние. Посмотрим результат. 'Команда' **[YDF & MIPT] Coursera_Akhremenko Vladimir**"
   ]
  },
  {
   "cell_type": "code",
   "execution_count": 35,
   "metadata": {},
   "outputs": [],
   "source": [
    "write_to_submission_file(logit_valid_pred_proba_full[:, 1], 'submission_avv.csv')"
   ]
  },
  {
   "cell_type": "markdown",
   "metadata": {},
   "source": [
    "текущий скор: ***0.91646***    \n",
    "Первый требуемый бенчмарк уже превзойден: **0.91273 sgd_logit_benchmark.csv** "
   ]
  },
  {
   "cell_type": "markdown",
   "metadata": {},
   "source": [
    "Доступные бенчмарки\n",
    "\n",
    "0.95965    A3 strong baseline (20 credits)    \n",
    "0.95343    A3 baseline (10 credits)    \n",
    "0.95216    Logit Tf-Idf 6 features    \n",
    "**0.92784    Logit +3 features**    \n",
    "0.92784    A3 baseline 2    \n",
    "0.92692    CountVectorizer-logit-3feat    \n",
    "**0.91273    sgd_logit_benchmark.csv**    \n",
    "0.91252    Alice - logistic regression baseline    \n",
    "0.90812    A3 baseline 1    \n",
    "0.90703    CountVectorizer-logit    \n"
   ]
  },
  {
   "cell_type": "code",
   "execution_count": null,
   "metadata": {},
   "outputs": [],
   "source": []
  },
  {
   "cell_type": "code",
   "execution_count": null,
   "metadata": {},
   "outputs": [],
   "source": []
  },
  {
   "cell_type": "code",
   "execution_count": null,
   "metadata": {},
   "outputs": [],
   "source": []
  },
  {
   "cell_type": "markdown",
   "metadata": {},
   "source": [
    "# Попробуем улучшить результат и превзойти второй требуемый бенчмарк: 0.92784 Logit +3 features    \n",
    "Создадим собственные признаки"
   ]
  },
  {
   "cell_type": "code",
   "execution_count": 36,
   "metadata": {},
   "outputs": [],
   "source": [
    "with open(os.path.join(PATH_TO_DATA, 'X_train_sparse.pkl'), 'rb')as f:\n",
    "    X_train_sparse = pickle.load(f)\n",
    "    \n",
    "with open(os.path.join(PATH_TO_DATA, 'X_test_sparse.pkl'), 'rb')as f:\n",
    "    X_test_sparse = pickle.load(f)"
   ]
  },
  {
   "cell_type": "code",
   "execution_count": 37,
   "metadata": {},
   "outputs": [],
   "source": [
    "train_df[['site1', 'site2', 'site3', 'site4', 'site5', 'site6', \n",
    "          'site7', 'site8', 'site9', 'site10']] = \\\n",
    "        train_df[['site1', 'site2', 'site3', 'site4', 'site5', 'site6', \n",
    "                  'site7', 'site8', 'site9', 'site10']].fillna(0).astype('int')\n",
    "\n",
    "train_df[['time1', 'time2', 'time3', 'time4', 'time5', 'time6', \n",
    "          'time7', 'time8', 'time9', 'time10']] =\\\n",
    "        train_df[['time1', 'time2', 'time3', 'time4', 'time5', 'time6', \n",
    "                  'time7', 'time8', 'time9', 'time10']].fillna(0)\n",
    "\n",
    "#train_df.head()"
   ]
  },
  {
   "cell_type": "code",
   "execution_count": 38,
   "metadata": {},
   "outputs": [],
   "source": [
    "test_df[['site1', 'site2', 'site3', 'site4', 'site5', 'site6', \n",
    "          'site7', 'site8', 'site9', 'site10']] = \\\n",
    "        test_df[['site1', 'site2', 'site3', 'site4', 'site5', 'site6', \n",
    "                 'site7', 'site8', 'site9', 'site10']].fillna(0).astype('int')\n",
    "\n",
    "test_df[['time1', 'time2', 'time3', 'time4', 'time5', 'time6', \n",
    "          'time7', 'time8', 'time9', 'time10']] = \\\n",
    "        test_df[['time1', 'time2', 'time3', 'time4', 'time5', 'time6', \n",
    "                 'time7', 'time8', 'time9', 'time10']].fillna(0)\n",
    "\n",
    "#test_df.head()"
   ]
  },
  {
   "cell_type": "code",
   "execution_count": 39,
   "metadata": {},
   "outputs": [],
   "source": [
    "site_ftrs = ['site1', 'site2', 'site3', 'site4', 'site5', 'site6', \n",
    "          'site7', 'site8', 'site9', 'site10']\n",
    "time_ftrs = ['time1', 'time2','time3','time4','time5','time6',\n",
    "             'time7','time8','time9','time10']\n",
    "zero_dt = pd.to_datetime(0)"
   ]
  },
  {
   "cell_type": "code",
   "execution_count": 40,
   "metadata": {},
   "outputs": [],
   "source": [
    "for el in time_ftrs:\n",
    "    train_df[el] = pd.to_datetime(train_df[el])\n",
    "    test_df[el] = pd.to_datetime(test_df[el])\n",
    "    "
   ]
  },
  {
   "cell_type": "markdown",
   "metadata": {},
   "source": [
    "Соберем статистики по рабочим: дням и выходным по отдельности:       \n",
    "- [x] количество уникальных сайтов в сессии\n",
    "- [x] длительность посещения первого сайта в сессии\n",
    "- [x] длительность сессии\n",
    "- [x] час начала сессии\n",
    "- [x] день недели начала сессии\n",
    "- [ ] длительность посещения первого сайта в день mean/std\n",
    "- [ ] время входа на первый сайт в день mean/std\n",
    "\n",
    "(галочкой отмечены фичи, участвующие в финальном решении)"
   ]
  },
  {
   "cell_type": "code",
   "execution_count": 41,
   "metadata": {},
   "outputs": [],
   "source": [
    "def get_stats(inp_data, new_df, target = None):\n",
    "    \n",
    "    day_of_week = []\n",
    "    session_timespan = []\n",
    "    start_hour = []\n",
    "    unique_sites = []\n",
    "\n",
    "    # statistics per user at weekdays\n",
    "    #first_day_site  = []         # first site of the day\n",
    "    #first_sess_site = []         # first site in session\n",
    "    weekdays_first_day_site_duration = []   # duration on first site of the day\n",
    "    weekdays_first_sess_site_duration = []  # duration on first site in session\n",
    "    weekdays_first_connect_in_day_time = [] # time of enter at the first site of the day\n",
    "    weekdays_start_hour = []\n",
    "    weekdays_unique_sites = []\n",
    "    weekdays_session_timespan = []\n",
    "\n",
    "    # statistics per user at weekends\n",
    "    #first_day_site  = []         # first site of the day\n",
    "    #first_sess_site = []         # first site in session\n",
    "    weekend_first_day_site_duration = []   # duration on first site of the day\n",
    "    weekend_first_sess_site_duration = []  # duration on first site in session\n",
    "    weekend_first_connect_in_day_time = [] # time of enter at the first site of the day\n",
    "    weekend_start_hour = []\n",
    "    weekend_unique_sites = []\n",
    "    weekend_session_timespan = []\n",
    "    \n",
    "    if isinstance(target, np.int):\n",
    "        indexes = inp_data[inp_data.target == target].index\n",
    "    else:\n",
    "        indexes = inp_data.index\n",
    "    \n",
    "    for el in tqdm(indexes):\n",
    "       \n",
    "        #!!!!!!!!!! site10 == 0\n",
    "        #if 0 in inp_data.loc[el, site_ftrs].unique():\n",
    "        if inp_data.loc[el, 'site10'] == 0:\n",
    "             uniq_sites = len(inp_data.loc[el, site_ftrs].unique()) - 1\n",
    "        else:\n",
    "            uniq_sites = len(inp_data.loc[el, site_ftrs].unique())\n",
    "        new_df.loc[el, 'unique_sites'] = uniq_sites\n",
    "\n",
    "        if inp_data.loc[el, 'time2'] != zero_dt:\n",
    "            site_duration = (inp_data.loc[el, 'time2'] - inp_data.loc[el, 'time1']).total_seconds()\n",
    "        else:\n",
    "            site_duration = 0\n",
    "        new_df.loc[el, 'first_sess_site_duration'] = site_duration\n",
    "\n",
    "        for time_ftr in list(time_ftrs[::-1]):\n",
    "            if inp_data.loc[el, time_ftr] != zero_dt:\n",
    "                session_timespan = (inp_data.loc[el, time_ftr] - inp_data.loc[el, 'time1']).total_seconds()\n",
    "                break\n",
    "        new_df.loc[el, 'session_timespan'] = session_timespan \n",
    "\n",
    "        #if (train_df.loc[el, 'time1'].weekday() == 5) or ((train_df.loc[el, 'time1'].weekday() == 6)):\n",
    "        if (new_df.loc[el, 'dow'] == 5) or ((new_df.loc[el, 'dow'] == 6)):\n",
    "            weekend_unique_sites.append(uniq_sites)   \n",
    "            weekend_first_sess_site_duration.append(site_duration)\n",
    "            weekend_start_hour.append(new_df.loc[el, 'start_hour'])\n",
    "            weekend_session_timespan.append(session_timespan)\n",
    "        else:\n",
    "            weekdays_unique_sites.append(uniq_sites)\n",
    "            weekdays_first_sess_site_duration.append(site_duration)\n",
    "            weekdays_start_hour.append( new_df.loc[el, 'start_hour'])\n",
    "            weekdays_session_timespan.append( session_timespan )\n",
    "\n",
    "    stat_dict = {'weekend_unique_sites_mean' : np.mean(weekend_unique_sites)\n",
    "                         ,'weekend_unique_sites_std' : np.std(weekend_unique_sites)\n",
    "                         ,'weekend_first_sess_site_duration_mean' : np.mean(weekend_first_sess_site_duration)\n",
    "                         ,'weekend_first_sess_site_duration_std' : np.std(weekend_first_sess_site_duration)\n",
    "                         ,'weekend_start_hour_mean' : np.mean(weekend_start_hour)\n",
    "                         ,'weekend_start_hour_std' : np.std(weekend_start_hour)\n",
    "                         ,'weekend_session_timespan_mean' : np.mean(weekend_session_timespan)\n",
    "                         ,'weekend_session_timespan_std' : np.std(weekend_session_timespan)\n",
    "\n",
    "                         ,'weekdays_unique_sites_mean' : np.mean(weekdays_unique_sites)\n",
    "                         ,'weekdays_unique_sites_std' : np.std(weekdays_unique_sites)\n",
    "                         ,'weekdays_first_sess_site_duration_mean' : np.mean(weekdays_first_sess_site_duration)\n",
    "                         ,'weekdays_first_sess_site_duration_std' : np.std(weekdays_first_sess_site_duration)\n",
    "                         ,'weekdays_start_hour_mean' : np.mean(weekdays_start_hour)\n",
    "                         ,'weekdays_start_hour_std' : np.std(weekdays_start_hour)\n",
    "                         ,'weekdays_session_timespan_mean' : np.mean(weekdays_session_timespan)\n",
    "                         ,'weekdays_session_timespan_std' : np.std(weekdays_session_timespan)    \n",
    "                         }\n",
    "    return new_df, stat_dict"
   ]
  },
  {
   "cell_type": "code",
   "execution_count": 42,
   "metadata": {},
   "outputs": [],
   "source": [
    "def get_stats_sparse(inp_data, sparse_data):\n",
    "    \n",
    "    tmp_df = pd.DataFrame(index = inp_data.index)\n",
    "    tmp_df['start_hour'] = inp_data['time1'].map(lambda x: x.hour)\n",
    "    tmp_df['dow'] = inp_data['time1'].map(lambda x: x.weekday())\n",
    "    \n",
    "    tmp_df, stat_dict_0 = get_stats(inp_data, tmp_df, 0)\n",
    "    tmp_df, stat_dict_1 = get_stats(inp_data, tmp_df, 1)\n",
    "    \n",
    "    return sparse_data, tmp_df, stat_dict_0, stat_dict_1"
   ]
  },
  {
   "cell_type": "code",
   "execution_count": 43,
   "metadata": {},
   "outputs": [
    {
     "name": "stderr",
     "output_type": "stream",
     "text": [
      "100%|██████████| 251264/251264 [15:51<00:00, 263.98it/s]\n",
      "100%|██████████| 2297/2297 [00:09<00:00, 250.60it/s]"
     ]
    },
    {
     "name": "stdout",
     "output_type": "stream",
     "text": [
      "CPU times: user 16min 7s, sys: 2.18 s, total: 16min 9s\n",
      "Wall time: 16min 2s\n"
     ]
    },
    {
     "name": "stderr",
     "output_type": "stream",
     "text": [
      "\n"
     ]
    }
   ],
   "source": [
    "%%time\n",
    "# 16min 26s\n",
    "X_train_sparse, train_df_add, other_stats, Alice_stats = get_stats_sparse(train_df, X_train_sparse)"
   ]
  },
  {
   "cell_type": "code",
   "execution_count": 44,
   "metadata": {},
   "outputs": [
    {
     "name": "stderr",
     "output_type": "stream",
     "text": [
      "100%|██████████| 82797/82797 [02:43<00:00, 507.95it/s]"
     ]
    },
    {
     "name": "stdout",
     "output_type": "stream",
     "text": [
      "CPU times: user 2min 43s, sys: 401 ms, total: 2min 44s\n",
      "Wall time: 2min 43s\n"
     ]
    },
    {
     "name": "stderr",
     "output_type": "stream",
     "text": [
      "\n"
     ]
    }
   ],
   "source": [
    "%%time \n",
    "for el in time_ftrs:\n",
    "    test_df[el] = pd.to_datetime(test_df[el])\n",
    "\n",
    "tst_df = pd.DataFrame(index = test_df.index)\n",
    "tst_df['start_hour'] = test_df['time1'].map(lambda x: x.hour)\n",
    "tst_df['dow'] = test_df['time1'].map(lambda x: x.weekday())\n",
    "    \n",
    "test_df_add, _ = get_stats(test_df, tst_df)"
   ]
  },
  {
   "cell_type": "code",
   "execution_count": null,
   "metadata": {},
   "outputs": [],
   "source": [
    "#Alice_stats"
   ]
  },
  {
   "cell_type": "code",
   "execution_count": 46,
   "metadata": {},
   "outputs": [],
   "source": [
    "with open(os.path.join(PATH_TO_DATA, 'alice_stats.pkl'), 'wb') as af:\n",
    "    pickle.dump(Alice_stats, af, protocol=2)\n",
    "    \n",
    "with open(os.path.join(PATH_TO_DATA, 'other_stats.pkl'), 'wb') as of:\n",
    "    pickle.dump(other_stats, of, protocol=2)\n",
    "    \n",
    "with open(os.path.join(PATH_TO_DATA, 'X_train.pkl'), 'wb') as xf:\n",
    "    pickle.dump(X_train, xf, protocol=2)\n"
   ]
  },
  {
   "cell_type": "markdown",
   "metadata": {},
   "source": [
    "Преобразуем категориальные фичи"
   ]
  },
  {
   "cell_type": "code",
   "execution_count": 47,
   "metadata": {},
   "outputs": [],
   "source": [
    "lb_dow = LabelBinarizer().fit(train_df_add.dow)\n",
    "lb_start_hour  = LabelBinarizer().fit(train_df_add.start_hour)\n",
    "lb_unique_site = LabelBinarizer().fit(train_df_add.unique_sites)"
   ]
  },
  {
   "cell_type": "markdown",
   "metadata": {},
   "source": [
    "Объеденим собранные данные в итоговые матрицы"
   ]
  },
  {
   "cell_type": "code",
   "execution_count": 48,
   "metadata": {},
   "outputs": [],
   "source": [
    "X_train_sparse_v2 = sparse.hstack((X_train_sparse, np.array(train_df_add.first_sess_site_duration)[:,None]))\n",
    "X_test_sparse_v2  = sparse.hstack((X_test_sparse,  np.array(test_df_add.first_sess_site_duration)[:,None]))\n",
    "\n",
    "X_train_sparse_v2 = sparse.hstack((X_train_sparse_v2, np.array(train_df_add.session_timespan.values)[:,None]))\n",
    "X_test_sparse_v2  = sparse.hstack((X_test_sparse_v2,  np.array(test_df_add.session_timespan.values)[:,None]))\n",
    "\n",
    "X_train_sparse_v2 = sparse.hstack((X_train_sparse_v2, \n",
    "                                   csr_matrix(lb_dow.transform(train_df_add.dow.values))))\n",
    "X_test_sparse_v2  = sparse.hstack((X_test_sparse_v2,  \n",
    "                                   csr_matrix(lb_dow.transform(test_df_add.dow.values))))\n",
    "\n",
    "X_train_sparse_v2 = sparse.hstack((X_train_sparse_v2, \n",
    "                                   csr_matrix(lb_start_hour.transform(train_df_add.start_hour.values))))\n",
    "X_test_sparse_v2  = sparse.hstack((X_test_sparse_v2,  \n",
    "                                   csr_matrix(lb_start_hour.transform(test_df_add.start_hour.values))))\n",
    "\n",
    "X_train_sparse_v2 = sparse.hstack((X_train_sparse_v2, \n",
    "                                   csr_matrix(lb_unique_site.transform(train_df_add.unique_sites.values))))\n",
    "X_test_sparse_v2  = sparse.hstack((X_test_sparse_v2,  \n",
    "                                   csr_matrix(lb_unique_site.transform(test_df_add.unique_sites.values))))\n"
   ]
  },
  {
   "cell_type": "code",
   "execution_count": 49,
   "metadata": {},
   "outputs": [
    {
     "name": "stdout",
     "output_type": "stream",
     "text": [
      "CPU times: user 18.5 ms, sys: 4 ms, total: 22.5 ms\n",
      "Wall time: 21.1 ms\n"
     ]
    }
   ],
   "source": [
    "%%time\n",
    "with open(os.path.join(PATH_TO_DATA, 'X_train.pkl'), 'rb') as xf:\n",
    "    X_train = pickle.load(xf)\n",
    "    \n",
    "with open(os.path.join(PATH_TO_DATA, 'train_target.pkl'), 'rb') as train_target_pkl:\n",
    "    y = pickle.load(train_target_pkl)"
   ]
  },
  {
   "cell_type": "code",
   "execution_count": 50,
   "metadata": {},
   "outputs": [
    {
     "name": "stdout",
     "output_type": "stream",
     "text": [
      "CPU times: user 59.6 ms, sys: 4.01 ms, total: 63.6 ms\n",
      "Wall time: 62.5 ms\n"
     ]
    }
   ],
   "source": [
    "%%time\n",
    "X_tr, X_val, y_tr, y_val = train_test_split(\n",
    "    X_train_sparse_v2, y, test_size=0.33, random_state=944)"
   ]
  },
  {
   "cell_type": "markdown",
   "metadata": {},
   "source": [
    "Так же попробуем оценить количество сессий Alice в LB на Kaggle.    \n",
    "Так как у нас других данных нет, за оценку возьмем пропорцию в тестовой выборке:    "
   ]
  },
  {
   "cell_type": "code",
   "execution_count": 76,
   "metadata": {},
   "outputs": [
    {
     "data": {
      "text/plain": [
       "0.00905896411514389"
      ]
     },
     "execution_count": 76,
     "metadata": {},
     "output_type": "execute_result"
    }
   ],
   "source": [
    "proportion = sum(y)/X_train_sparse_v2.shape[0]\n",
    "proportion"
   ]
  },
  {
   "cell_type": "code",
   "execution_count": 77,
   "metadata": {},
   "outputs": [
    {
     "data": {
      "text/plain": [
       "'750 from 82797'"
      ]
     },
     "execution_count": 77,
     "metadata": {},
     "output_type": "execute_result"
    }
   ],
   "source": [
    "str(int(X_test_sparse_v2.shape[0] * proportion)) + ' from ' + str(X_test_sparse_v2.shape[0])"
   ]
  },
  {
   "cell_type": "markdown",
   "metadata": {},
   "source": [
    "***750*** - это для нас удинственный ориентир, который мы имеем"
   ]
  },
  {
   "cell_type": "markdown",
   "metadata": {},
   "source": [
    "***Обучим SGDClassifier на расширенных данных***"
   ]
  },
  {
   "cell_type": "code",
   "execution_count": 51,
   "metadata": {},
   "outputs": [
    {
     "data": {
      "text/plain": [
       "SGDClassifier(alpha=0.0001, average=False, class_weight=None,\n",
       "              early_stopping=False, epsilon=0.1, eta0=0.0, fit_intercept=True,\n",
       "              l1_ratio=0.15, learning_rate='optimal', loss='log', max_iter=1000,\n",
       "              n_iter_no_change=5, n_jobs=-1, penalty='l2', power_t=0.5,\n",
       "              random_state=17, shuffle=True, tol=0.001, validation_fraction=0.1,\n",
       "              verbose=0, warm_start=False)"
      ]
     },
     "execution_count": 51,
     "metadata": {},
     "output_type": "execute_result"
    }
   ],
   "source": [
    "clf_sgd_part = SGDClassifier(loss = 'log', random_state = 17, n_jobs = -1)\n",
    "clf_sgd_part.fit(X_tr, y_tr)"
   ]
  },
  {
   "cell_type": "code",
   "execution_count": 52,
   "metadata": {},
   "outputs": [
    {
     "data": {
      "text/plain": [
       "0.9008723354812488"
      ]
     },
     "execution_count": 52,
     "metadata": {},
     "output_type": "execute_result"
    }
   ],
   "source": [
    "clf_sgd_valid_pred_proba = clf_sgd_part.predict_proba(X_val)\n",
    "roc_auc_score(y_val, clf_sgd_valid_pred_proba[:,1])"
   ]
  },
  {
   "cell_type": "markdown",
   "metadata": {},
   "source": [
    "Как мы видим, результат даже немного ухудшился. В основном из-за того, что мы отошли от сортироваки по времени    \n",
    "и разбили данные на train и test через train_test_split.    \n",
    "Более того, даже изменяя random_state на отличный от 17 мы понижаем результат.    \n",
    "На Kaggele результат так же понижается, что выглядит несколько странным."
   ]
  },
  {
   "cell_type": "markdown",
   "metadata": {},
   "source": [
    "Сделаем предположение, что это в силу стохастической природы SGDClassifier.\n",
    "Попробуем заменить его на другие классификаторы."
   ]
  },
  {
   "cell_type": "markdown",
   "metadata": {},
   "source": [
    "***Будм пробовать классификаторы: SGDClassifier, LogisticRegression, RandomForestClassifier, CatBoostClassifier, LighGBM.    \n",
    "Так же попробуем повысить вес класса  Alice***"
   ]
  },
  {
   "cell_type": "code",
   "execution_count": 149,
   "metadata": {},
   "outputs": [
    {
     "name": "stdout",
     "output_type": "stream",
     "text": [
      "0.9073209180461081 1278 2297 362\n"
     ]
    }
   ],
   "source": [
    "clf_sgd = SGDClassifier(loss = 'log', random_state = 17, n_jobs = -1, class_weight={0:0.4, 1: 0.6})\n",
    "clf_sgd.fit(X_train_sparse_v2, y)\n",
    "\n",
    "predicted_sgd = clf_sgd.predict_proba(X_train_sparse_v2)\n",
    "roc_auc_sgd = roc_auc_score(y, predicted_sgd[:,1])\n",
    "\n",
    "pred_sgd = clf_sgd.predict(X_train_sparse_v2)\n",
    "pred_sgd_subm = clf_sgd.predict(X_test_sparse_v2)\n",
    "\n",
    "print(roc_auc_sgd, sum(pred_sgd), sum(y), sum(pred_sgd_subm))"
   ]
  },
  {
   "cell_type": "raw",
   "metadata": {},
   "source": [
    "class_weight='None'\n",
    "0.8909284115324846 1396 2297 402\n",
    "\n",
    "class_weight='balanced'\n",
    "0.9356726054366468 22379 2297 8605\n",
    "\n",
    "class_weight={0:0.4, 1: 0.6}\n",
    "0.9073209180461081 1278 2297 362"
   ]
  },
  {
   "cell_type": "code",
   "execution_count": 115,
   "metadata": {},
   "outputs": [],
   "source": [
    "clf_sgd_pred_proba = clf_sgd.predict_proba(X_test_sparse)"
   ]
  },
  {
   "cell_type": "code",
   "execution_count": 116,
   "metadata": {},
   "outputs": [],
   "source": [
    "write_to_submission_file(clf_sgd_pred_proba[:, 1], 'subm_avv_sgd_5ftrs2.csv')"
   ]
  },
  {
   "cell_type": "code",
   "execution_count": null,
   "metadata": {},
   "outputs": [],
   "source": []
  },
  {
   "cell_type": "code",
   "execution_count": 147,
   "metadata": {},
   "outputs": [
    {
     "name": "stderr",
     "output_type": "stream",
     "text": [
      "/home/voloch/Anaconda3/lib/python3.7/site-packages/sklearn/linear_model/logistic.py:432: FutureWarning:\n",
      "\n",
      "Default solver will be changed to 'lbfgs' in 0.22. Specify a solver to silence this warning.\n",
      "\n",
      "/home/voloch/Anaconda3/lib/python3.7/site-packages/sklearn/linear_model/logistic.py:1544: UserWarning:\n",
      "\n",
      "'n_jobs' > 1 does not have any effect when 'solver' is set to 'liblinear'. Got 'n_jobs' = 4.\n",
      "\n"
     ]
    },
    {
     "name": "stdout",
     "output_type": "stream",
     "text": [
      "0.9923592186429573 1525 2297 347\n",
      "CPU times: user 22.7 s, sys: 320 ms, total: 23.1 s\n",
      "Wall time: 6.03 s\n"
     ]
    }
   ],
   "source": [
    "%%time\n",
    "clfLR = LogisticRegression(random_state=17, n_jobs=-1, class_weight={0:0.4, 1: 0.6})\n",
    "clfLR.fit(X_train_sparse_v2, y)\n",
    "\n",
    "pred_LR = clfLR.predict_proba(X_train_sparse_v2)\n",
    "roc_auc_LR = roc_auc_score(y, pred_LR[:,1])\n",
    "\n",
    "pred_LR = clfLR.predict(X_train_sparse_v2)\n",
    "pred_LR_test = clfLR.predict(X_test_sparse_v2)\n",
    "\n",
    "print(roc_auc_LR, sum(pred_LR), sum(y), sum(pred_LR_test))"
   ]
  },
  {
   "cell_type": "raw",
   "metadata": {},
   "source": [
    "class_weight = None\n",
    "0.9928646995011767 1310 2297 285\n",
    "\n",
    "class_weight={0:0.4, 1: 0.6}\n",
    "0.9923592186429573 1525 2297 347"
   ]
  },
  {
   "cell_type": "code",
   "execution_count": 150,
   "metadata": {},
   "outputs": [],
   "source": [
    "predicted_LR = clfLR.predict_proba(X_test_sparse_v2)\n",
    "write_to_submission_file(predicted_LR[:, 1], 'subm_avv_lr_5ftrs_w_4_6.csv')"
   ]
  },
  {
   "cell_type": "code",
   "execution_count": null,
   "metadata": {},
   "outputs": [],
   "source": []
  },
  {
   "cell_type": "code",
   "execution_count": 154,
   "metadata": {},
   "outputs": [
    {
     "name": "stdout",
     "output_type": "stream",
     "text": [
      "0.9999949484834368 2096 2297 69\n",
      "CPU times: user 1min 2s, sys: 1.93 s, total: 1min 4s\n",
      "Wall time: 18.8 s\n"
     ]
    }
   ],
   "source": [
    "%%time \n",
    "# 3min 3s\n",
    "#  1min 27s\n",
    "\n",
    "#clfRF = RandomForestClassifier(n_estimators=100, n_jobs=-1, oob_score=True, random_state=17)\n",
    "clfRF = RandomForestClassifier(n_estimators=5, n_jobs=-1, random_state=17, class_weight={0:0.4, 1: 0.6})\n",
    "clfRF.fit(X_train_sparse_v2, y)\n",
    "\n",
    "pred_RF = clfRF.predict_proba(X_train_sparse_v2)\n",
    "roc_auc_RF = roc_auc_score(y, pred_RF[:,1])\n",
    "\n",
    "pred_RF = clfRF.predict(X_train_sparse_v2)\n",
    "pred_RF_test = clfRF.predict(X_test_sparse_v2)\n",
    "\n",
    "print(roc_auc_RF, sum(pred_RF), sum(y), sum(pred_RF_test))"
   ]
  },
  {
   "cell_type": "raw",
   "metadata": {},
   "source": [
    "class_weight = None, est = 100\n",
    "0.999999991336792 2293 2297 45\n",
    "\n",
    "class_weight = None, est = 50\n",
    "0.9999999896041504 2292 2297 52\n",
    "\n",
    "class_weight={0:0.4, 1: 0.6}, est = 50\n",
    "0.9999999792083009 2289 2297 65\n",
    "\n",
    "class_weight={0:0.4, 1: 0.6}, est = 25\n",
    "0.9999999514860355 2270 2297 69"
   ]
  },
  {
   "cell_type": "code",
   "execution_count": 151,
   "metadata": {},
   "outputs": [],
   "source": [
    "predicted_RF = clfRF.predict_proba(X_test_sparse_v2)\n",
    "write_to_submission_file(predicted_RF[:, 1], 'subm_avv_rf_5ftrs_w_4_6.csv')"
   ]
  },
  {
   "cell_type": "code",
   "execution_count": null,
   "metadata": {},
   "outputs": [],
   "source": []
  },
  {
   "cell_type": "code",
   "execution_count": 90,
   "metadata": {},
   "outputs": [
    {
     "name": "stderr",
     "output_type": "stream",
     "text": [
      "/home/voloch/Anaconda3/lib/python3.7/site-packages/lightgbm/basic.py:597: UserWarning:\n",
      "\n",
      "Converting data to scipy sparse matrix.\n",
      "\n"
     ]
    },
    {
     "name": "stdout",
     "output_type": "stream",
     "text": [
      "0.9916571739276641 1557 2297 295\n",
      "CPU times: user 19.9 s, sys: 103 ms, total: 20 s\n",
      "Wall time: 5.42 s\n"
     ]
    }
   ],
   "source": [
    "%%time \n",
    "\n",
    "clf_lgbm = LGBMClassifier(class_weight={0:0.4, 1: 0.6}, n_estimators=25)\n",
    "clf_lgbm.fit(X_train_sparse_v2, y)\n",
    "\n",
    "pred_lgbm = clf_lgbm.predict_proba(X_train_sparse_v2)\n",
    "roc_auc_lgbm = roc_auc_score(y, pred_lgbm[:,1])\n",
    "\n",
    "pred_lgbm = clf_lgbm.predict(X_train_sparse_v2)\n",
    "pred_lgbm_test = clf_lgbm.predict(X_test_sparse_v2)\n",
    "\n",
    "print(roc_auc_lgbm, sum(pred_lgbm), sum(y), sum(pred_lgbm_test))"
   ]
  },
  {
   "cell_type": "raw",
   "metadata": {},
   "source": [
    "class_weight = None\n",
    "0.99820548664247 1702 2297 313\n",
    "\n",
    "class_weight={0:0.4, 1: 0.6}, est = 100\n",
    "0.9975441191538457 1847 2297 313\n",
    "\n",
    "class_weight={0:0.4, 1: 0.6}, est = 25\n",
    "0.9916571739276641 1557 2297 295\n",
    "\n",
    "class_weight={0:0.4, 1: 0.6}, est = 5\n",
    "0.9656990070134006 1200 2297 250"
   ]
  },
  {
   "cell_type": "code",
   "execution_count": 88,
   "metadata": {},
   "outputs": [],
   "source": [
    "pred_lgbm_test = clf_lgbm.predict(X_test_sparse_v2)\n",
    "write_to_submission_file(pred_lgbm_test, 'subm_avv_lgbm_5ftrs_w_4_6.csv')"
   ]
  },
  {
   "cell_type": "code",
   "execution_count": null,
   "metadata": {},
   "outputs": [],
   "source": []
  },
  {
   "cell_type": "code",
   "execution_count": 53,
   "metadata": {
    "collapsed": true,
    "jupyter": {
     "outputs_hidden": true
    }
   },
   "outputs": [
    {
     "name": "stdout",
     "output_type": "stream",
     "text": [
      "Learning rate set to 0.109516\n",
      "0:\tlearn: 0.4919673\ttotal: 162ms\tremaining: 2m 41s\n",
      "1:\tlearn: 0.3566479\ttotal: 264ms\tremaining: 2m 11s\n",
      "2:\tlearn: 0.2666527\ttotal: 367ms\tremaining: 2m 1s\n",
      "3:\tlearn: 0.1930372\ttotal: 478ms\tremaining: 1m 59s\n",
      "4:\tlearn: 0.1463142\ttotal: 607ms\tremaining: 2m\n",
      "5:\tlearn: 0.1180761\ttotal: 709ms\tremaining: 1m 57s\n",
      "6:\tlearn: 0.1019427\ttotal: 815ms\tremaining: 1m 55s\n",
      "7:\tlearn: 0.0881156\ttotal: 931ms\tremaining: 1m 55s\n",
      "8:\tlearn: 0.0765114\ttotal: 1.06s\tremaining: 1m 57s\n",
      "9:\tlearn: 0.0712002\ttotal: 1.17s\tremaining: 1m 55s\n",
      "10:\tlearn: 0.0653854\ttotal: 1.28s\tremaining: 1m 55s\n",
      "11:\tlearn: 0.0620510\ttotal: 1.4s\tremaining: 1m 54s\n",
      "12:\tlearn: 0.0571672\ttotal: 1.53s\tremaining: 1m 55s\n",
      "13:\tlearn: 0.0542781\ttotal: 1.64s\tremaining: 1m 55s\n",
      "14:\tlearn: 0.0531439\ttotal: 1.76s\tremaining: 1m 55s\n",
      "15:\tlearn: 0.0500442\ttotal: 1.88s\tremaining: 1m 55s\n",
      "16:\tlearn: 0.0488125\ttotal: 2.01s\tremaining: 1m 56s\n",
      "17:\tlearn: 0.0482063\ttotal: 2.12s\tremaining: 1m 55s\n",
      "18:\tlearn: 0.0467036\ttotal: 2.24s\tremaining: 1m 55s\n",
      "19:\tlearn: 0.0461294\ttotal: 2.35s\tremaining: 1m 55s\n",
      "20:\tlearn: 0.0455314\ttotal: 2.5s\tremaining: 1m 56s\n",
      "21:\tlearn: 0.0451166\ttotal: 2.64s\tremaining: 1m 57s\n",
      "22:\tlearn: 0.0445428\ttotal: 2.77s\tremaining: 1m 57s\n",
      "23:\tlearn: 0.0434974\ttotal: 2.89s\tremaining: 1m 57s\n",
      "24:\tlearn: 0.0431775\ttotal: 3s\tremaining: 1m 57s\n",
      "25:\tlearn: 0.0429600\ttotal: 3.13s\tremaining: 1m 57s\n",
      "26:\tlearn: 0.0422882\ttotal: 3.27s\tremaining: 1m 57s\n",
      "27:\tlearn: 0.0420857\ttotal: 3.39s\tremaining: 1m 57s\n",
      "28:\tlearn: 0.0417042\ttotal: 3.52s\tremaining: 1m 57s\n",
      "29:\tlearn: 0.0412979\ttotal: 3.65s\tremaining: 1m 58s\n",
      "30:\tlearn: 0.0411302\ttotal: 3.78s\tremaining: 1m 58s\n",
      "31:\tlearn: 0.0409505\ttotal: 3.9s\tremaining: 1m 57s\n",
      "32:\tlearn: 0.0405294\ttotal: 4.04s\tremaining: 1m 58s\n",
      "33:\tlearn: 0.0402156\ttotal: 4.16s\tremaining: 1m 58s\n",
      "34:\tlearn: 0.0398169\ttotal: 4.3s\tremaining: 1m 58s\n",
      "35:\tlearn: 0.0394812\ttotal: 4.41s\tremaining: 1m 58s\n",
      "36:\tlearn: 0.0393263\ttotal: 4.52s\tremaining: 1m 57s\n",
      "37:\tlearn: 0.0391551\ttotal: 4.64s\tremaining: 1m 57s\n",
      "38:\tlearn: 0.0388979\ttotal: 4.77s\tremaining: 1m 57s\n",
      "39:\tlearn: 0.0387843\ttotal: 4.89s\tremaining: 1m 57s\n",
      "40:\tlearn: 0.0385896\ttotal: 5.02s\tremaining: 1m 57s\n",
      "41:\tlearn: 0.0383651\ttotal: 5.15s\tremaining: 1m 57s\n",
      "42:\tlearn: 0.0380283\ttotal: 5.28s\tremaining: 1m 57s\n",
      "43:\tlearn: 0.0379184\ttotal: 5.39s\tremaining: 1m 57s\n",
      "44:\tlearn: 0.0378217\ttotal: 5.5s\tremaining: 1m 56s\n",
      "45:\tlearn: 0.0375456\ttotal: 5.62s\tremaining: 1m 56s\n",
      "46:\tlearn: 0.0373647\ttotal: 5.76s\tremaining: 1m 56s\n",
      "47:\tlearn: 0.0371635\ttotal: 5.88s\tremaining: 1m 56s\n",
      "48:\tlearn: 0.0367873\ttotal: 6.02s\tremaining: 1m 56s\n",
      "49:\tlearn: 0.0365888\ttotal: 6.14s\tremaining: 1m 56s\n",
      "50:\tlearn: 0.0364144\ttotal: 6.27s\tremaining: 1m 56s\n",
      "51:\tlearn: 0.0362872\ttotal: 6.39s\tremaining: 1m 56s\n",
      "52:\tlearn: 0.0361874\ttotal: 6.53s\tremaining: 1m 56s\n",
      "53:\tlearn: 0.0360383\ttotal: 6.66s\tremaining: 1m 56s\n",
      "54:\tlearn: 0.0357257\ttotal: 6.79s\tremaining: 1m 56s\n",
      "55:\tlearn: 0.0356402\ttotal: 6.91s\tremaining: 1m 56s\n",
      "56:\tlearn: 0.0355556\ttotal: 7.03s\tremaining: 1m 56s\n",
      "57:\tlearn: 0.0354387\ttotal: 7.15s\tremaining: 1m 56s\n",
      "58:\tlearn: 0.0353583\ttotal: 7.27s\tremaining: 1m 55s\n",
      "59:\tlearn: 0.0352332\ttotal: 7.39s\tremaining: 1m 55s\n",
      "60:\tlearn: 0.0351594\ttotal: 7.52s\tremaining: 1m 55s\n",
      "61:\tlearn: 0.0348370\ttotal: 7.63s\tremaining: 1m 55s\n",
      "62:\tlearn: 0.0344998\ttotal: 7.78s\tremaining: 1m 55s\n",
      "63:\tlearn: 0.0342920\ttotal: 7.89s\tremaining: 1m 55s\n",
      "64:\tlearn: 0.0342308\ttotal: 8.02s\tremaining: 1m 55s\n",
      "65:\tlearn: 0.0339864\ttotal: 8.14s\tremaining: 1m 55s\n",
      "66:\tlearn: 0.0338080\ttotal: 8.28s\tremaining: 1m 55s\n",
      "67:\tlearn: 0.0337039\ttotal: 8.41s\tremaining: 1m 55s\n",
      "68:\tlearn: 0.0336301\ttotal: 8.52s\tremaining: 1m 54s\n",
      "69:\tlearn: 0.0332577\ttotal: 8.63s\tremaining: 1m 54s\n",
      "70:\tlearn: 0.0331083\ttotal: 8.74s\tremaining: 1m 54s\n",
      "71:\tlearn: 0.0330320\ttotal: 8.85s\tremaining: 1m 54s\n",
      "72:\tlearn: 0.0328619\ttotal: 8.96s\tremaining: 1m 53s\n",
      "73:\tlearn: 0.0327988\ttotal: 9.06s\tremaining: 1m 53s\n",
      "74:\tlearn: 0.0326746\ttotal: 9.17s\tremaining: 1m 53s\n",
      "75:\tlearn: 0.0325437\ttotal: 9.28s\tremaining: 1m 52s\n",
      "76:\tlearn: 0.0323429\ttotal: 9.39s\tremaining: 1m 52s\n",
      "77:\tlearn: 0.0322882\ttotal: 9.5s\tremaining: 1m 52s\n",
      "78:\tlearn: 0.0322306\ttotal: 9.61s\tremaining: 1m 51s\n",
      "79:\tlearn: 0.0320014\ttotal: 9.72s\tremaining: 1m 51s\n",
      "80:\tlearn: 0.0318720\ttotal: 9.83s\tremaining: 1m 51s\n",
      "81:\tlearn: 0.0318157\ttotal: 9.94s\tremaining: 1m 51s\n",
      "82:\tlearn: 0.0316884\ttotal: 10.1s\tremaining: 1m 51s\n",
      "83:\tlearn: 0.0315780\ttotal: 10.2s\tremaining: 1m 50s\n",
      "84:\tlearn: 0.0315047\ttotal: 10.3s\tremaining: 1m 50s\n",
      "85:\tlearn: 0.0314470\ttotal: 10.4s\tremaining: 1m 50s\n",
      "86:\tlearn: 0.0314021\ttotal: 10.5s\tremaining: 1m 50s\n",
      "87:\tlearn: 0.0313567\ttotal: 10.6s\tremaining: 1m 49s\n",
      "88:\tlearn: 0.0311602\ttotal: 10.7s\tremaining: 1m 49s\n",
      "89:\tlearn: 0.0311144\ttotal: 10.8s\tremaining: 1m 49s\n",
      "90:\tlearn: 0.0310703\ttotal: 10.9s\tremaining: 1m 49s\n",
      "91:\tlearn: 0.0310224\ttotal: 11s\tremaining: 1m 48s\n",
      "92:\tlearn: 0.0308486\ttotal: 11.1s\tremaining: 1m 48s\n",
      "93:\tlearn: 0.0308080\ttotal: 11.2s\tremaining: 1m 48s\n",
      "94:\tlearn: 0.0305639\ttotal: 11.4s\tremaining: 1m 48s\n",
      "95:\tlearn: 0.0305008\ttotal: 11.5s\tremaining: 1m 47s\n",
      "96:\tlearn: 0.0304615\ttotal: 11.6s\tremaining: 1m 47s\n",
      "97:\tlearn: 0.0304220\ttotal: 11.7s\tremaining: 1m 47s\n",
      "98:\tlearn: 0.0303843\ttotal: 11.8s\tremaining: 1m 47s\n",
      "99:\tlearn: 0.0302346\ttotal: 11.9s\tremaining: 1m 47s\n",
      "100:\tlearn: 0.0301911\ttotal: 12s\tremaining: 1m 46s\n",
      "101:\tlearn: 0.0301561\ttotal: 12.1s\tremaining: 1m 46s\n",
      "102:\tlearn: 0.0301212\ttotal: 12.2s\tremaining: 1m 46s\n",
      "103:\tlearn: 0.0300073\ttotal: 12.3s\tremaining: 1m 46s\n",
      "104:\tlearn: 0.0299701\ttotal: 12.5s\tremaining: 1m 46s\n",
      "105:\tlearn: 0.0298528\ttotal: 12.6s\tremaining: 1m 45s\n",
      "106:\tlearn: 0.0298176\ttotal: 12.7s\tremaining: 1m 45s\n",
      "107:\tlearn: 0.0297214\ttotal: 12.8s\tremaining: 1m 45s\n",
      "108:\tlearn: 0.0295214\ttotal: 12.9s\tremaining: 1m 45s\n",
      "109:\tlearn: 0.0294464\ttotal: 13s\tremaining: 1m 45s\n",
      "110:\tlearn: 0.0294057\ttotal: 13.1s\tremaining: 1m 45s\n",
      "111:\tlearn: 0.0292007\ttotal: 13.3s\tremaining: 1m 45s\n",
      "112:\tlearn: 0.0290989\ttotal: 13.4s\tremaining: 1m 44s\n",
      "113:\tlearn: 0.0289145\ttotal: 13.5s\tremaining: 1m 44s\n",
      "114:\tlearn: 0.0288813\ttotal: 13.6s\tremaining: 1m 44s\n",
      "115:\tlearn: 0.0288493\ttotal: 13.7s\tremaining: 1m 44s\n",
      "116:\tlearn: 0.0288086\ttotal: 13.8s\tremaining: 1m 44s\n",
      "117:\tlearn: 0.0286412\ttotal: 13.9s\tremaining: 1m 44s\n",
      "118:\tlearn: 0.0286116\ttotal: 14s\tremaining: 1m 43s\n",
      "119:\tlearn: 0.0285142\ttotal: 14.1s\tremaining: 1m 43s\n",
      "120:\tlearn: 0.0284273\ttotal: 14.2s\tremaining: 1m 43s\n",
      "121:\tlearn: 0.0282369\ttotal: 14.4s\tremaining: 1m 43s\n",
      "122:\tlearn: 0.0282079\ttotal: 14.5s\tremaining: 1m 43s\n",
      "123:\tlearn: 0.0281749\ttotal: 14.6s\tremaining: 1m 42s\n",
      "124:\tlearn: 0.0281483\ttotal: 14.7s\tremaining: 1m 42s\n",
      "125:\tlearn: 0.0279745\ttotal: 14.8s\tremaining: 1m 42s\n",
      "126:\tlearn: 0.0279482\ttotal: 14.9s\tremaining: 1m 42s\n",
      "127:\tlearn: 0.0279210\ttotal: 15s\tremaining: 1m 42s\n",
      "128:\tlearn: 0.0278940\ttotal: 15.1s\tremaining: 1m 42s\n",
      "129:\tlearn: 0.0277950\ttotal: 15.2s\tremaining: 1m 41s\n",
      "130:\tlearn: 0.0277201\ttotal: 15.3s\tremaining: 1m 41s\n",
      "131:\tlearn: 0.0276919\ttotal: 15.4s\tremaining: 1m 41s\n",
      "132:\tlearn: 0.0276633\ttotal: 15.6s\tremaining: 1m 41s\n",
      "133:\tlearn: 0.0275250\ttotal: 15.7s\tremaining: 1m 41s\n",
      "134:\tlearn: 0.0274486\ttotal: 15.8s\tremaining: 1m 41s\n",
      "135:\tlearn: 0.0273261\ttotal: 15.9s\tremaining: 1m 40s\n",
      "136:\tlearn: 0.0272752\ttotal: 16s\tremaining: 1m 40s\n",
      "137:\tlearn: 0.0271235\ttotal: 16.1s\tremaining: 1m 40s\n",
      "138:\tlearn: 0.0270812\ttotal: 16.2s\tremaining: 1m 40s\n",
      "139:\tlearn: 0.0270589\ttotal: 16.3s\tremaining: 1m 40s\n",
      "140:\tlearn: 0.0269617\ttotal: 16.5s\tremaining: 1m 40s\n",
      "141:\tlearn: 0.0268492\ttotal: 16.6s\tremaining: 1m 40s\n",
      "142:\tlearn: 0.0268259\ttotal: 16.7s\tremaining: 1m 39s\n",
      "143:\tlearn: 0.0267690\ttotal: 16.8s\tremaining: 1m 39s\n",
      "144:\tlearn: 0.0267424\ttotal: 16.9s\tremaining: 1m 39s\n",
      "145:\tlearn: 0.0266035\ttotal: 17s\tremaining: 1m 39s\n",
      "146:\tlearn: 0.0265557\ttotal: 17.1s\tremaining: 1m 39s\n",
      "147:\tlearn: 0.0265355\ttotal: 17.2s\tremaining: 1m 39s\n",
      "148:\tlearn: 0.0264096\ttotal: 17.4s\tremaining: 1m 39s\n",
      "149:\tlearn: 0.0263573\ttotal: 17.5s\tremaining: 1m 39s\n",
      "150:\tlearn: 0.0262653\ttotal: 17.6s\tremaining: 1m 38s\n",
      "151:\tlearn: 0.0262380\ttotal: 17.7s\tremaining: 1m 38s\n",
      "152:\tlearn: 0.0262184\ttotal: 17.8s\tremaining: 1m 38s\n",
      "153:\tlearn: 0.0261876\ttotal: 17.9s\tremaining: 1m 38s\n",
      "154:\tlearn: 0.0261125\ttotal: 18s\tremaining: 1m 38s\n",
      "155:\tlearn: 0.0259869\ttotal: 18.1s\tremaining: 1m 38s\n",
      "156:\tlearn: 0.0259314\ttotal: 18.2s\tremaining: 1m 37s\n",
      "157:\tlearn: 0.0258756\ttotal: 18.4s\tremaining: 1m 37s\n",
      "158:\tlearn: 0.0258539\ttotal: 18.5s\tremaining: 1m 37s\n",
      "159:\tlearn: 0.0257139\ttotal: 18.6s\tremaining: 1m 37s\n",
      "160:\tlearn: 0.0256944\ttotal: 18.7s\tremaining: 1m 37s\n",
      "161:\tlearn: 0.0255887\ttotal: 18.8s\tremaining: 1m 37s\n",
      "162:\tlearn: 0.0255257\ttotal: 18.9s\tremaining: 1m 37s\n",
      "163:\tlearn: 0.0255045\ttotal: 19s\tremaining: 1m 36s\n",
      "164:\tlearn: 0.0254497\ttotal: 19.1s\tremaining: 1m 36s\n",
      "165:\tlearn: 0.0252911\ttotal: 19.2s\tremaining: 1m 36s\n",
      "166:\tlearn: 0.0252670\ttotal: 19.4s\tremaining: 1m 36s\n",
      "167:\tlearn: 0.0251676\ttotal: 19.5s\tremaining: 1m 36s\n",
      "168:\tlearn: 0.0251445\ttotal: 19.6s\tremaining: 1m 36s\n",
      "169:\tlearn: 0.0250987\ttotal: 19.7s\tremaining: 1m 36s\n",
      "170:\tlearn: 0.0250780\ttotal: 19.8s\tremaining: 1m 35s\n",
      "171:\tlearn: 0.0250072\ttotal: 19.9s\tremaining: 1m 35s\n",
      "172:\tlearn: 0.0249595\ttotal: 20s\tremaining: 1m 35s\n",
      "173:\tlearn: 0.0249380\ttotal: 20.1s\tremaining: 1m 35s\n",
      "174:\tlearn: 0.0249196\ttotal: 20.2s\tremaining: 1m 35s\n",
      "175:\tlearn: 0.0248173\ttotal: 20.3s\tremaining: 1m 35s\n",
      "176:\tlearn: 0.0248016\ttotal: 20.4s\tremaining: 1m 35s\n",
      "177:\tlearn: 0.0246815\ttotal: 20.6s\tremaining: 1m 34s\n",
      "178:\tlearn: 0.0246320\ttotal: 20.7s\tremaining: 1m 34s\n",
      "179:\tlearn: 0.0245830\ttotal: 20.8s\tremaining: 1m 34s\n",
      "180:\tlearn: 0.0245566\ttotal: 20.9s\tremaining: 1m 34s\n",
      "181:\tlearn: 0.0245042\ttotal: 21s\tremaining: 1m 34s\n",
      "182:\tlearn: 0.0244808\ttotal: 21.1s\tremaining: 1m 34s\n",
      "183:\tlearn: 0.0243629\ttotal: 21.2s\tremaining: 1m 34s\n",
      "184:\tlearn: 0.0242946\ttotal: 21.4s\tremaining: 1m 34s\n",
      "185:\tlearn: 0.0242790\ttotal: 21.5s\tremaining: 1m 33s\n",
      "186:\tlearn: 0.0242204\ttotal: 21.6s\tremaining: 1m 33s\n",
      "187:\tlearn: 0.0242043\ttotal: 21.7s\tremaining: 1m 33s\n",
      "188:\tlearn: 0.0241864\ttotal: 21.8s\tremaining: 1m 33s\n",
      "189:\tlearn: 0.0241554\ttotal: 21.9s\tremaining: 1m 33s\n",
      "190:\tlearn: 0.0241385\ttotal: 22s\tremaining: 1m 33s\n",
      "191:\tlearn: 0.0241035\ttotal: 22.1s\tremaining: 1m 33s\n",
      "192:\tlearn: 0.0240229\ttotal: 22.2s\tremaining: 1m 32s\n",
      "193:\tlearn: 0.0239824\ttotal: 22.3s\tremaining: 1m 32s\n",
      "194:\tlearn: 0.0239660\ttotal: 22.4s\tremaining: 1m 32s\n",
      "195:\tlearn: 0.0239504\ttotal: 22.5s\tremaining: 1m 32s\n",
      "196:\tlearn: 0.0239356\ttotal: 22.7s\tremaining: 1m 32s\n",
      "197:\tlearn: 0.0239202\ttotal: 22.8s\tremaining: 1m 32s\n",
      "198:\tlearn: 0.0238592\ttotal: 22.9s\tremaining: 1m 32s\n",
      "199:\tlearn: 0.0238440\ttotal: 23s\tremaining: 1m 31s\n",
      "200:\tlearn: 0.0237855\ttotal: 23.1s\tremaining: 1m 31s\n",
      "201:\tlearn: 0.0237707\ttotal: 23.2s\tremaining: 1m 31s\n",
      "202:\tlearn: 0.0237495\ttotal: 23.3s\tremaining: 1m 31s\n",
      "203:\tlearn: 0.0236691\ttotal: 23.4s\tremaining: 1m 31s\n",
      "204:\tlearn: 0.0236025\ttotal: 23.6s\tremaining: 1m 31s\n",
      "205:\tlearn: 0.0235017\ttotal: 23.7s\tremaining: 1m 31s\n",
      "206:\tlearn: 0.0234872\ttotal: 23.8s\tremaining: 1m 31s\n",
      "207:\tlearn: 0.0234729\ttotal: 23.9s\tremaining: 1m 31s\n",
      "208:\tlearn: 0.0234589\ttotal: 24s\tremaining: 1m 30s\n",
      "209:\tlearn: 0.0234452\ttotal: 24.1s\tremaining: 1m 30s\n",
      "210:\tlearn: 0.0234317\ttotal: 24.2s\tremaining: 1m 30s\n",
      "211:\tlearn: 0.0233431\ttotal: 24.3s\tremaining: 1m 30s\n",
      "212:\tlearn: 0.0233252\ttotal: 24.4s\tremaining: 1m 30s\n",
      "213:\tlearn: 0.0233105\ttotal: 24.6s\tremaining: 1m 30s\n",
      "214:\tlearn: 0.0232706\ttotal: 24.7s\tremaining: 1m 30s\n",
      "215:\tlearn: 0.0232563\ttotal: 24.8s\tremaining: 1m 29s\n",
      "216:\tlearn: 0.0232431\ttotal: 24.9s\tremaining: 1m 29s\n",
      "217:\tlearn: 0.0231552\ttotal: 25s\tremaining: 1m 29s\n",
      "218:\tlearn: 0.0231038\ttotal: 25.1s\tremaining: 1m 29s\n",
      "219:\tlearn: 0.0230909\ttotal: 25.2s\tremaining: 1m 29s\n",
      "220:\tlearn: 0.0230783\ttotal: 25.3s\tremaining: 1m 29s\n",
      "221:\tlearn: 0.0230661\ttotal: 25.4s\tremaining: 1m 29s\n",
      "222:\tlearn: 0.0230541\ttotal: 25.5s\tremaining: 1m 29s\n",
      "223:\tlearn: 0.0230389\ttotal: 25.7s\tremaining: 1m 28s\n",
      "224:\tlearn: 0.0230271\ttotal: 25.8s\tremaining: 1m 28s\n",
      "225:\tlearn: 0.0229642\ttotal: 25.9s\tremaining: 1m 28s\n",
      "226:\tlearn: 0.0229254\ttotal: 26s\tremaining: 1m 28s\n",
      "227:\tlearn: 0.0229131\ttotal: 26.1s\tremaining: 1m 28s\n",
      "228:\tlearn: 0.0229019\ttotal: 26.2s\tremaining: 1m 28s\n",
      "229:\tlearn: 0.0228909\ttotal: 26.3s\tremaining: 1m 28s\n",
      "230:\tlearn: 0.0228794\ttotal: 26.4s\tremaining: 1m 28s\n",
      "231:\tlearn: 0.0228171\ttotal: 26.6s\tremaining: 1m 27s\n",
      "232:\tlearn: 0.0228060\ttotal: 26.7s\tremaining: 1m 27s\n",
      "233:\tlearn: 0.0227954\ttotal: 26.8s\tremaining: 1m 27s\n",
      "234:\tlearn: 0.0227849\ttotal: 26.9s\tremaining: 1m 27s\n",
      "235:\tlearn: 0.0227326\ttotal: 27s\tremaining: 1m 27s\n",
      "236:\tlearn: 0.0226693\ttotal: 27.1s\tremaining: 1m 27s\n",
      "237:\tlearn: 0.0225711\ttotal: 27.2s\tremaining: 1m 27s\n",
      "238:\tlearn: 0.0225220\ttotal: 27.3s\tremaining: 1m 27s\n",
      "239:\tlearn: 0.0224904\ttotal: 27.4s\tremaining: 1m 26s\n",
      "240:\tlearn: 0.0224804\ttotal: 27.6s\tremaining: 1m 26s\n",
      "241:\tlearn: 0.0223396\ttotal: 27.7s\tremaining: 1m 26s\n",
      "242:\tlearn: 0.0223258\ttotal: 27.8s\tremaining: 1m 26s\n",
      "243:\tlearn: 0.0222670\ttotal: 27.9s\tremaining: 1m 26s\n",
      "244:\tlearn: 0.0222572\ttotal: 28s\tremaining: 1m 26s\n",
      "245:\tlearn: 0.0222471\ttotal: 28.1s\tremaining: 1m 26s\n",
      "246:\tlearn: 0.0222377\ttotal: 28.2s\tremaining: 1m 26s\n",
      "247:\tlearn: 0.0221891\ttotal: 28.3s\tremaining: 1m 25s\n",
      "248:\tlearn: 0.0221484\ttotal: 28.4s\tremaining: 1m 25s\n",
      "249:\tlearn: 0.0220953\ttotal: 28.6s\tremaining: 1m 25s\n",
      "250:\tlearn: 0.0220861\ttotal: 28.7s\tremaining: 1m 25s\n",
      "251:\tlearn: 0.0219784\ttotal: 28.8s\tremaining: 1m 25s\n",
      "252:\tlearn: 0.0219301\ttotal: 28.9s\tremaining: 1m 25s\n",
      "253:\tlearn: 0.0219162\ttotal: 29s\tremaining: 1m 25s\n",
      "254:\tlearn: 0.0219072\ttotal: 29.1s\tremaining: 1m 25s\n",
      "255:\tlearn: 0.0218981\ttotal: 29.2s\tremaining: 1m 24s\n",
      "256:\tlearn: 0.0218557\ttotal: 29.3s\tremaining: 1m 24s\n",
      "257:\tlearn: 0.0218445\ttotal: 29.4s\tremaining: 1m 24s\n",
      "258:\tlearn: 0.0217371\ttotal: 29.6s\tremaining: 1m 24s\n",
      "259:\tlearn: 0.0217162\ttotal: 29.7s\tremaining: 1m 24s\n",
      "260:\tlearn: 0.0215846\ttotal: 29.8s\tremaining: 1m 24s\n",
      "261:\tlearn: 0.0215562\ttotal: 29.9s\tremaining: 1m 24s\n",
      "262:\tlearn: 0.0215432\ttotal: 30s\tremaining: 1m 24s\n",
      "263:\tlearn: 0.0214461\ttotal: 30.1s\tremaining: 1m 23s\n",
      "264:\tlearn: 0.0214373\ttotal: 30.2s\tremaining: 1m 23s\n",
      "265:\tlearn: 0.0214258\ttotal: 30.3s\tremaining: 1m 23s\n",
      "266:\tlearn: 0.0213567\ttotal: 30.4s\tremaining: 1m 23s\n",
      "267:\tlearn: 0.0213422\ttotal: 30.6s\tremaining: 1m 23s\n",
      "268:\tlearn: 0.0212870\ttotal: 30.7s\tremaining: 1m 23s\n",
      "269:\tlearn: 0.0212784\ttotal: 30.8s\tremaining: 1m 23s\n",
      "270:\tlearn: 0.0212556\ttotal: 30.9s\tremaining: 1m 23s\n",
      "271:\tlearn: 0.0211884\ttotal: 31s\tremaining: 1m 23s\n",
      "272:\tlearn: 0.0211800\ttotal: 31.1s\tremaining: 1m 22s\n",
      "273:\tlearn: 0.0211719\ttotal: 31.2s\tremaining: 1m 22s\n",
      "274:\tlearn: 0.0211603\ttotal: 31.3s\tremaining: 1m 22s\n",
      "275:\tlearn: 0.0211264\ttotal: 31.5s\tremaining: 1m 22s\n",
      "276:\tlearn: 0.0211184\ttotal: 31.6s\tremaining: 1m 22s\n",
      "277:\tlearn: 0.0211105\ttotal: 31.7s\tremaining: 1m 22s\n",
      "278:\tlearn: 0.0210579\ttotal: 31.8s\tremaining: 1m 22s\n",
      "279:\tlearn: 0.0210466\ttotal: 31.9s\tremaining: 1m 22s\n",
      "280:\tlearn: 0.0210185\ttotal: 32s\tremaining: 1m 21s\n",
      "281:\tlearn: 0.0210037\ttotal: 32.1s\tremaining: 1m 21s\n",
      "282:\tlearn: 0.0209960\ttotal: 32.2s\tremaining: 1m 21s\n",
      "283:\tlearn: 0.0209886\ttotal: 32.3s\tremaining: 1m 21s\n",
      "284:\tlearn: 0.0209488\ttotal: 32.5s\tremaining: 1m 21s\n",
      "285:\tlearn: 0.0209415\ttotal: 32.6s\tremaining: 1m 21s\n",
      "286:\tlearn: 0.0209339\ttotal: 32.7s\tremaining: 1m 21s\n",
      "287:\tlearn: 0.0209267\ttotal: 32.8s\tremaining: 1m 21s\n",
      "288:\tlearn: 0.0209193\ttotal: 32.9s\tremaining: 1m 20s\n",
      "289:\tlearn: 0.0209120\ttotal: 33s\tremaining: 1m 20s\n",
      "290:\tlearn: 0.0208586\ttotal: 33.1s\tremaining: 1m 20s\n",
      "291:\tlearn: 0.0208466\ttotal: 33.2s\tremaining: 1m 20s\n",
      "292:\tlearn: 0.0208134\ttotal: 33.4s\tremaining: 1m 20s\n",
      "293:\tlearn: 0.0207873\ttotal: 33.5s\tremaining: 1m 20s\n",
      "294:\tlearn: 0.0207765\ttotal: 33.6s\tremaining: 1m 20s\n",
      "295:\tlearn: 0.0206984\ttotal: 33.7s\tremaining: 1m 20s\n",
      "296:\tlearn: 0.0206916\ttotal: 33.8s\tremaining: 1m 20s\n",
      "297:\tlearn: 0.0206402\ttotal: 33.9s\tremaining: 1m 19s\n",
      "298:\tlearn: 0.0205042\ttotal: 34s\tremaining: 1m 19s\n",
      "299:\tlearn: 0.0204942\ttotal: 34.1s\tremaining: 1m 19s\n",
      "300:\tlearn: 0.0204585\ttotal: 34.3s\tremaining: 1m 19s\n",
      "301:\tlearn: 0.0204482\ttotal: 34.4s\tremaining: 1m 19s\n",
      "302:\tlearn: 0.0203855\ttotal: 34.5s\tremaining: 1m 19s\n",
      "303:\tlearn: 0.0203303\ttotal: 34.6s\tremaining: 1m 19s\n",
      "304:\tlearn: 0.0202951\ttotal: 34.7s\tremaining: 1m 19s\n",
      "305:\tlearn: 0.0202608\ttotal: 34.8s\tremaining: 1m 18s\n",
      "306:\tlearn: 0.0202371\ttotal: 34.9s\tremaining: 1m 18s\n",
      "307:\tlearn: 0.0202308\ttotal: 35s\tremaining: 1m 18s\n",
      "308:\tlearn: 0.0201684\ttotal: 35.2s\tremaining: 1m 18s\n",
      "309:\tlearn: 0.0201379\ttotal: 35.3s\tremaining: 1m 18s\n",
      "310:\tlearn: 0.0200945\ttotal: 35.4s\tremaining: 1m 18s\n",
      "311:\tlearn: 0.0200876\ttotal: 35.5s\tremaining: 1m 18s\n",
      "312:\tlearn: 0.0200806\ttotal: 35.6s\tremaining: 1m 18s\n",
      "313:\tlearn: 0.0200340\ttotal: 35.7s\tremaining: 1m 18s\n",
      "314:\tlearn: 0.0199873\ttotal: 35.8s\tremaining: 1m 17s\n",
      "315:\tlearn: 0.0199556\ttotal: 35.9s\tremaining: 1m 17s\n",
      "316:\tlearn: 0.0199490\ttotal: 36.1s\tremaining: 1m 17s\n",
      "317:\tlearn: 0.0199239\ttotal: 36.2s\tremaining: 1m 17s\n",
      "318:\tlearn: 0.0199042\ttotal: 36.3s\tremaining: 1m 17s\n",
      "319:\tlearn: 0.0198654\ttotal: 36.4s\tremaining: 1m 17s\n",
      "320:\tlearn: 0.0198592\ttotal: 36.5s\tremaining: 1m 17s\n",
      "321:\tlearn: 0.0198490\ttotal: 36.6s\tremaining: 1m 17s\n",
      "322:\tlearn: 0.0197477\ttotal: 36.7s\tremaining: 1m 17s\n",
      "323:\tlearn: 0.0197413\ttotal: 36.8s\tremaining: 1m 16s\n",
      "324:\tlearn: 0.0196975\ttotal: 37s\tremaining: 1m 16s\n",
      "325:\tlearn: 0.0196686\ttotal: 37.1s\tremaining: 1m 16s\n",
      "326:\tlearn: 0.0196627\ttotal: 37.2s\tremaining: 1m 16s\n",
      "327:\tlearn: 0.0196057\ttotal: 37.3s\tremaining: 1m 16s\n",
      "328:\tlearn: 0.0195931\ttotal: 37.4s\tremaining: 1m 16s\n",
      "329:\tlearn: 0.0195675\ttotal: 37.5s\tremaining: 1m 16s\n",
      "330:\tlearn: 0.0195584\ttotal: 37.6s\tremaining: 1m 16s\n",
      "331:\tlearn: 0.0195444\ttotal: 37.7s\tremaining: 1m 15s\n",
      "332:\tlearn: 0.0195206\ttotal: 37.8s\tremaining: 1m 15s\n",
      "333:\tlearn: 0.0195149\ttotal: 38s\tremaining: 1m 15s\n",
      "334:\tlearn: 0.0195093\ttotal: 38.1s\tremaining: 1m 15s\n",
      "335:\tlearn: 0.0194629\ttotal: 38.2s\tremaining: 1m 15s\n",
      "336:\tlearn: 0.0194182\ttotal: 38.3s\tremaining: 1m 15s\n",
      "337:\tlearn: 0.0194002\ttotal: 38.4s\tremaining: 1m 15s\n",
      "338:\tlearn: 0.0193899\ttotal: 38.5s\tremaining: 1m 15s\n",
      "339:\tlearn: 0.0193661\ttotal: 38.6s\tremaining: 1m 14s\n",
      "340:\tlearn: 0.0193524\ttotal: 38.7s\tremaining: 1m 14s\n",
      "341:\tlearn: 0.0193469\ttotal: 38.8s\tremaining: 1m 14s\n",
      "342:\tlearn: 0.0193414\ttotal: 39s\tremaining: 1m 14s\n",
      "343:\tlearn: 0.0193189\ttotal: 39.1s\tremaining: 1m 14s\n",
      "344:\tlearn: 0.0193133\ttotal: 39.2s\tremaining: 1m 14s\n",
      "345:\tlearn: 0.0192830\ttotal: 39.3s\tremaining: 1m 14s\n",
      "346:\tlearn: 0.0192606\ttotal: 39.4s\tremaining: 1m 14s\n",
      "347:\tlearn: 0.0192538\ttotal: 39.5s\tremaining: 1m 14s\n",
      "348:\tlearn: 0.0192453\ttotal: 39.6s\tremaining: 1m 13s\n",
      "349:\tlearn: 0.0192400\ttotal: 39.7s\tremaining: 1m 13s\n",
      "350:\tlearn: 0.0192337\ttotal: 39.8s\tremaining: 1m 13s\n",
      "351:\tlearn: 0.0192223\ttotal: 40s\tremaining: 1m 13s\n",
      "352:\tlearn: 0.0191923\ttotal: 40.1s\tremaining: 1m 13s\n",
      "353:\tlearn: 0.0191608\ttotal: 40.2s\tremaining: 1m 13s\n",
      "354:\tlearn: 0.0191554\ttotal: 40.3s\tremaining: 1m 13s\n",
      "355:\tlearn: 0.0191471\ttotal: 40.4s\tremaining: 1m 13s\n",
      "356:\tlearn: 0.0191090\ttotal: 40.5s\tremaining: 1m 12s\n",
      "357:\tlearn: 0.0191040\ttotal: 40.6s\tremaining: 1m 12s\n",
      "358:\tlearn: 0.0190962\ttotal: 40.7s\tremaining: 1m 12s\n",
      "359:\tlearn: 0.0190910\ttotal: 40.8s\tremaining: 1m 12s\n",
      "360:\tlearn: 0.0190821\ttotal: 41s\tremaining: 1m 12s\n",
      "361:\tlearn: 0.0190348\ttotal: 41.1s\tremaining: 1m 12s\n",
      "362:\tlearn: 0.0190251\ttotal: 41.2s\tremaining: 1m 12s\n",
      "363:\tlearn: 0.0190203\ttotal: 41.3s\tremaining: 1m 12s\n",
      "364:\tlearn: 0.0190153\ttotal: 41.4s\tremaining: 1m 12s\n",
      "365:\tlearn: 0.0190107\ttotal: 41.5s\tremaining: 1m 11s\n",
      "366:\tlearn: 0.0190060\ttotal: 41.6s\tremaining: 1m 11s\n",
      "367:\tlearn: 0.0189933\ttotal: 41.7s\tremaining: 1m 11s\n",
      "368:\tlearn: 0.0189587\ttotal: 41.8s\tremaining: 1m 11s\n",
      "369:\tlearn: 0.0189454\ttotal: 41.9s\tremaining: 1m 11s\n",
      "370:\tlearn: 0.0189377\ttotal: 42.1s\tremaining: 1m 11s\n",
      "371:\tlearn: 0.0189002\ttotal: 42.2s\tremaining: 1m 11s\n",
      "372:\tlearn: 0.0188957\ttotal: 42.3s\tremaining: 1m 11s\n",
      "373:\tlearn: 0.0188444\ttotal: 42.4s\tremaining: 1m 10s\n",
      "374:\tlearn: 0.0188125\ttotal: 42.5s\tremaining: 1m 10s\n",
      "375:\tlearn: 0.0187813\ttotal: 42.6s\tremaining: 1m 10s\n",
      "376:\tlearn: 0.0187669\ttotal: 42.8s\tremaining: 1m 10s\n",
      "377:\tlearn: 0.0187623\ttotal: 42.9s\tremaining: 1m 10s\n",
      "378:\tlearn: 0.0187579\ttotal: 43s\tremaining: 1m 10s\n",
      "379:\tlearn: 0.0187154\ttotal: 43.1s\tremaining: 1m 10s\n",
      "380:\tlearn: 0.0187062\ttotal: 43.2s\tremaining: 1m 10s\n",
      "381:\tlearn: 0.0187017\ttotal: 43.3s\tremaining: 1m 10s\n",
      "382:\tlearn: 0.0186974\ttotal: 43.4s\tremaining: 1m 9s\n",
      "383:\tlearn: 0.0186846\ttotal: 43.5s\tremaining: 1m 9s\n",
      "384:\tlearn: 0.0186565\ttotal: 43.7s\tremaining: 1m 9s\n",
      "385:\tlearn: 0.0186091\ttotal: 43.8s\tremaining: 1m 9s\n",
      "386:\tlearn: 0.0185982\ttotal: 43.9s\tremaining: 1m 9s\n",
      "387:\tlearn: 0.0185632\ttotal: 44s\tremaining: 1m 9s\n",
      "388:\tlearn: 0.0185589\ttotal: 44.1s\tremaining: 1m 9s\n",
      "389:\tlearn: 0.0185064\ttotal: 44.2s\tremaining: 1m 9s\n",
      "390:\tlearn: 0.0184932\ttotal: 44.3s\tremaining: 1m 9s\n",
      "391:\tlearn: 0.0184529\ttotal: 44.5s\tremaining: 1m 8s\n",
      "392:\tlearn: 0.0184447\ttotal: 44.6s\tremaining: 1m 8s\n",
      "393:\tlearn: 0.0184358\ttotal: 44.7s\tremaining: 1m 8s\n",
      "394:\tlearn: 0.0184254\ttotal: 44.8s\tremaining: 1m 8s\n",
      "395:\tlearn: 0.0183903\ttotal: 44.9s\tremaining: 1m 8s\n",
      "396:\tlearn: 0.0183824\ttotal: 45s\tremaining: 1m 8s\n",
      "397:\tlearn: 0.0183689\ttotal: 45.1s\tremaining: 1m 8s\n",
      "398:\tlearn: 0.0183617\ttotal: 45.2s\tremaining: 1m 8s\n",
      "399:\tlearn: 0.0183401\ttotal: 45.3s\tremaining: 1m 8s\n",
      "400:\tlearn: 0.0183214\ttotal: 45.5s\tremaining: 1m 7s\n",
      "401:\tlearn: 0.0183041\ttotal: 45.6s\tremaining: 1m 7s\n",
      "402:\tlearn: 0.0182645\ttotal: 45.7s\tremaining: 1m 7s\n",
      "403:\tlearn: 0.0182602\ttotal: 45.8s\tremaining: 1m 7s\n",
      "404:\tlearn: 0.0182512\ttotal: 45.9s\tremaining: 1m 7s\n",
      "405:\tlearn: 0.0182156\ttotal: 46s\tremaining: 1m 7s\n",
      "406:\tlearn: 0.0182109\ttotal: 46.1s\tremaining: 1m 7s\n",
      "407:\tlearn: 0.0181803\ttotal: 46.3s\tremaining: 1m 7s\n",
      "408:\tlearn: 0.0181230\ttotal: 46.4s\tremaining: 1m 7s\n",
      "409:\tlearn: 0.0181176\ttotal: 46.5s\tremaining: 1m 6s\n",
      "410:\tlearn: 0.0181136\ttotal: 46.6s\tremaining: 1m 6s\n",
      "411:\tlearn: 0.0181084\ttotal: 46.7s\tremaining: 1m 6s\n",
      "412:\tlearn: 0.0181031\ttotal: 46.8s\tremaining: 1m 6s\n",
      "413:\tlearn: 0.0179294\ttotal: 46.9s\tremaining: 1m 6s\n",
      "414:\tlearn: 0.0179102\ttotal: 47s\tremaining: 1m 6s\n",
      "415:\tlearn: 0.0178778\ttotal: 47.2s\tremaining: 1m 6s\n",
      "416:\tlearn: 0.0178257\ttotal: 47.3s\tremaining: 1m 6s\n",
      "417:\tlearn: 0.0177901\ttotal: 47.4s\tremaining: 1m 5s\n",
      "418:\tlearn: 0.0177742\ttotal: 47.5s\tremaining: 1m 5s\n",
      "419:\tlearn: 0.0177629\ttotal: 47.6s\tremaining: 1m 5s\n",
      "420:\tlearn: 0.0177579\ttotal: 47.7s\tremaining: 1m 5s\n",
      "421:\tlearn: 0.0177487\ttotal: 47.8s\tremaining: 1m 5s\n",
      "422:\tlearn: 0.0177308\ttotal: 48s\tremaining: 1m 5s\n",
      "423:\tlearn: 0.0177267\ttotal: 48.1s\tremaining: 1m 5s\n",
      "424:\tlearn: 0.0176975\ttotal: 48.2s\tremaining: 1m 5s\n",
      "425:\tlearn: 0.0176936\ttotal: 48.3s\tremaining: 1m 5s\n",
      "426:\tlearn: 0.0176898\ttotal: 48.4s\tremaining: 1m 4s\n",
      "427:\tlearn: 0.0176837\ttotal: 48.5s\tremaining: 1m 4s\n",
      "428:\tlearn: 0.0176566\ttotal: 48.6s\tremaining: 1m 4s\n",
      "429:\tlearn: 0.0176527\ttotal: 48.7s\tremaining: 1m 4s\n",
      "430:\tlearn: 0.0176404\ttotal: 48.8s\tremaining: 1m 4s\n",
      "431:\tlearn: 0.0176267\ttotal: 49s\tremaining: 1m 4s\n",
      "432:\tlearn: 0.0176201\ttotal: 49.1s\tremaining: 1m 4s\n",
      "433:\tlearn: 0.0175669\ttotal: 49.2s\tremaining: 1m 4s\n",
      "434:\tlearn: 0.0175555\ttotal: 49.3s\tremaining: 1m 4s\n",
      "435:\tlearn: 0.0175495\ttotal: 49.4s\tremaining: 1m 3s\n",
      "436:\tlearn: 0.0175164\ttotal: 49.5s\tremaining: 1m 3s\n",
      "437:\tlearn: 0.0175130\ttotal: 49.6s\tremaining: 1m 3s\n",
      "438:\tlearn: 0.0174704\ttotal: 49.8s\tremaining: 1m 3s\n",
      "439:\tlearn: 0.0174213\ttotal: 49.9s\tremaining: 1m 3s\n",
      "440:\tlearn: 0.0174125\ttotal: 50s\tremaining: 1m 3s\n",
      "441:\tlearn: 0.0173880\ttotal: 50.1s\tremaining: 1m 3s\n",
      "442:\tlearn: 0.0173807\ttotal: 50.2s\tremaining: 1m 3s\n",
      "443:\tlearn: 0.0173695\ttotal: 50.3s\tremaining: 1m 3s\n",
      "444:\tlearn: 0.0173378\ttotal: 50.4s\tremaining: 1m 2s\n",
      "445:\tlearn: 0.0173076\ttotal: 50.5s\tremaining: 1m 2s\n",
      "446:\tlearn: 0.0173037\ttotal: 50.7s\tremaining: 1m 2s\n",
      "447:\tlearn: 0.0172449\ttotal: 50.8s\tremaining: 1m 2s\n",
      "448:\tlearn: 0.0172415\ttotal: 50.9s\tremaining: 1m 2s\n",
      "449:\tlearn: 0.0172357\ttotal: 51s\tremaining: 1m 2s\n",
      "450:\tlearn: 0.0172277\ttotal: 51.1s\tremaining: 1m 2s\n",
      "451:\tlearn: 0.0172220\ttotal: 51.2s\tremaining: 1m 2s\n",
      "452:\tlearn: 0.0172049\ttotal: 51.3s\tremaining: 1m 1s\n",
      "453:\tlearn: 0.0171507\ttotal: 51.5s\tremaining: 1m 1s\n",
      "454:\tlearn: 0.0171445\ttotal: 51.6s\tremaining: 1m 1s\n",
      "455:\tlearn: 0.0171164\ttotal: 51.7s\tremaining: 1m 1s\n",
      "456:\tlearn: 0.0170791\ttotal: 51.8s\tremaining: 1m 1s\n",
      "457:\tlearn: 0.0170675\ttotal: 51.9s\tremaining: 1m 1s\n",
      "458:\tlearn: 0.0170641\ttotal: 52s\tremaining: 1m 1s\n",
      "459:\tlearn: 0.0170607\ttotal: 52.1s\tremaining: 1m 1s\n",
      "460:\tlearn: 0.0170099\ttotal: 52.2s\tremaining: 1m 1s\n",
      "461:\tlearn: 0.0170067\ttotal: 52.3s\tremaining: 1m\n",
      "462:\tlearn: 0.0169855\ttotal: 52.5s\tremaining: 1m\n",
      "463:\tlearn: 0.0169544\ttotal: 52.6s\tremaining: 1m\n",
      "464:\tlearn: 0.0169245\ttotal: 52.7s\tremaining: 1m\n",
      "465:\tlearn: 0.0169202\ttotal: 52.8s\tremaining: 1m\n",
      "466:\tlearn: 0.0168990\ttotal: 52.9s\tremaining: 1m\n",
      "467:\tlearn: 0.0168881\ttotal: 53s\tremaining: 1m\n",
      "468:\tlearn: 0.0168727\ttotal: 53.2s\tremaining: 1m\n",
      "469:\tlearn: 0.0168628\ttotal: 53.3s\tremaining: 1m\n",
      "470:\tlearn: 0.0168370\ttotal: 53.4s\tremaining: 59.9s\n",
      "471:\tlearn: 0.0168329\ttotal: 53.5s\tremaining: 59.8s\n",
      "472:\tlearn: 0.0168275\ttotal: 53.6s\tremaining: 59.7s\n",
      "473:\tlearn: 0.0167944\ttotal: 53.7s\tremaining: 59.6s\n",
      "474:\tlearn: 0.0167862\ttotal: 53.8s\tremaining: 59.5s\n",
      "475:\tlearn: 0.0167831\ttotal: 53.9s\tremaining: 59.4s\n",
      "476:\tlearn: 0.0167523\ttotal: 54.1s\tremaining: 59.3s\n",
      "477:\tlearn: 0.0167472\ttotal: 54.2s\tremaining: 59.2s\n",
      "478:\tlearn: 0.0167046\ttotal: 54.3s\tremaining: 59s\n",
      "479:\tlearn: 0.0167009\ttotal: 54.4s\tremaining: 58.9s\n",
      "480:\tlearn: 0.0166924\ttotal: 54.5s\tremaining: 58.8s\n",
      "481:\tlearn: 0.0166675\ttotal: 54.6s\tremaining: 58.7s\n",
      "482:\tlearn: 0.0166626\ttotal: 54.7s\tremaining: 58.6s\n",
      "483:\tlearn: 0.0166484\ttotal: 54.8s\tremaining: 58.5s\n",
      "484:\tlearn: 0.0166195\ttotal: 55s\tremaining: 58.4s\n",
      "485:\tlearn: 0.0165840\ttotal: 55.1s\tremaining: 58.3s\n",
      "486:\tlearn: 0.0165784\ttotal: 55.2s\tremaining: 58.1s\n",
      "487:\tlearn: 0.0165358\ttotal: 55.3s\tremaining: 58s\n",
      "488:\tlearn: 0.0165312\ttotal: 55.4s\tremaining: 57.9s\n",
      "489:\tlearn: 0.0165172\ttotal: 55.5s\tremaining: 57.8s\n",
      "490:\tlearn: 0.0164987\ttotal: 55.7s\tremaining: 57.7s\n",
      "491:\tlearn: 0.0164956\ttotal: 55.8s\tremaining: 57.6s\n",
      "492:\tlearn: 0.0164735\ttotal: 55.9s\tremaining: 57.5s\n",
      "493:\tlearn: 0.0164683\ttotal: 56s\tremaining: 57.4s\n",
      "494:\tlearn: 0.0164427\ttotal: 56.1s\tremaining: 57.3s\n",
      "495:\tlearn: 0.0164282\ttotal: 56.2s\tremaining: 57.1s\n",
      "496:\tlearn: 0.0164203\ttotal: 56.4s\tremaining: 57s\n",
      "497:\tlearn: 0.0163747\ttotal: 56.5s\tremaining: 56.9s\n",
      "498:\tlearn: 0.0163562\ttotal: 56.6s\tremaining: 56.8s\n",
      "499:\tlearn: 0.0163273\ttotal: 56.7s\tremaining: 56.7s\n",
      "500:\tlearn: 0.0162927\ttotal: 56.8s\tremaining: 56.6s\n",
      "501:\tlearn: 0.0162866\ttotal: 56.9s\tremaining: 56.5s\n",
      "502:\tlearn: 0.0162668\ttotal: 57s\tremaining: 56.4s\n",
      "503:\tlearn: 0.0162559\ttotal: 57.1s\tremaining: 56.2s\n",
      "504:\tlearn: 0.0162494\ttotal: 57.3s\tremaining: 56.1s\n",
      "505:\tlearn: 0.0162427\ttotal: 57.4s\tremaining: 56s\n",
      "506:\tlearn: 0.0162398\ttotal: 57.5s\tremaining: 55.9s\n",
      "507:\tlearn: 0.0162110\ttotal: 57.6s\tremaining: 55.8s\n",
      "508:\tlearn: 0.0162074\ttotal: 57.7s\tremaining: 55.7s\n",
      "509:\tlearn: 0.0161446\ttotal: 57.8s\tremaining: 55.6s\n",
      "510:\tlearn: 0.0161414\ttotal: 57.9s\tremaining: 55.4s\n",
      "511:\tlearn: 0.0161330\ttotal: 58.1s\tremaining: 55.3s\n",
      "512:\tlearn: 0.0161234\ttotal: 58.2s\tremaining: 55.2s\n",
      "513:\tlearn: 0.0161141\ttotal: 58.3s\tremaining: 55.1s\n",
      "514:\tlearn: 0.0161110\ttotal: 58.4s\tremaining: 55s\n",
      "515:\tlearn: 0.0161071\ttotal: 58.5s\tremaining: 54.9s\n",
      "516:\tlearn: 0.0160917\ttotal: 58.6s\tremaining: 54.8s\n",
      "517:\tlearn: 0.0160734\ttotal: 58.7s\tremaining: 54.6s\n",
      "518:\tlearn: 0.0160676\ttotal: 58.8s\tremaining: 54.5s\n",
      "519:\tlearn: 0.0160405\ttotal: 59s\tremaining: 54.4s\n",
      "520:\tlearn: 0.0160365\ttotal: 59.1s\tremaining: 54.3s\n",
      "521:\tlearn: 0.0160086\ttotal: 59.2s\tremaining: 54.2s\n",
      "522:\tlearn: 0.0159967\ttotal: 59.3s\tremaining: 54.1s\n",
      "523:\tlearn: 0.0159939\ttotal: 59.4s\tremaining: 54s\n",
      "524:\tlearn: 0.0159573\ttotal: 59.5s\tremaining: 53.9s\n",
      "525:\tlearn: 0.0159534\ttotal: 59.6s\tremaining: 53.7s\n",
      "526:\tlearn: 0.0159364\ttotal: 59.7s\tremaining: 53.6s\n",
      "527:\tlearn: 0.0159336\ttotal: 59.9s\tremaining: 53.5s\n",
      "528:\tlearn: 0.0159108\ttotal: 60s\tremaining: 53.4s\n",
      "529:\tlearn: 0.0158927\ttotal: 1m\tremaining: 53.3s\n",
      "530:\tlearn: 0.0158859\ttotal: 1m\tremaining: 53.2s\n",
      "531:\tlearn: 0.0158625\ttotal: 1m\tremaining: 53.1s\n",
      "532:\tlearn: 0.0158595\ttotal: 1m\tremaining: 52.9s\n",
      "533:\tlearn: 0.0158566\ttotal: 1m\tremaining: 52.8s\n",
      "534:\tlearn: 0.0158469\ttotal: 1m\tremaining: 52.7s\n",
      "535:\tlearn: 0.0158171\ttotal: 1m\tremaining: 52.6s\n",
      "536:\tlearn: 0.0157586\ttotal: 1m\tremaining: 52.5s\n",
      "537:\tlearn: 0.0157559\ttotal: 1m\tremaining: 52.4s\n",
      "538:\tlearn: 0.0157344\ttotal: 1m 1s\tremaining: 52.3s\n",
      "539:\tlearn: 0.0157299\ttotal: 1m 1s\tremaining: 52.1s\n",
      "540:\tlearn: 0.0157080\ttotal: 1m 1s\tremaining: 52s\n",
      "541:\tlearn: 0.0156969\ttotal: 1m 1s\tremaining: 51.9s\n",
      "542:\tlearn: 0.0156530\ttotal: 1m 1s\tremaining: 51.8s\n",
      "543:\tlearn: 0.0156448\ttotal: 1m 1s\tremaining: 51.7s\n",
      "544:\tlearn: 0.0156419\ttotal: 1m 1s\tremaining: 51.6s\n",
      "545:\tlearn: 0.0156374\ttotal: 1m 1s\tremaining: 51.5s\n",
      "546:\tlearn: 0.0156262\ttotal: 1m 2s\tremaining: 51.3s\n",
      "547:\tlearn: 0.0156235\ttotal: 1m 2s\tremaining: 51.2s\n",
      "548:\tlearn: 0.0156166\ttotal: 1m 2s\tremaining: 51.1s\n",
      "549:\tlearn: 0.0155884\ttotal: 1m 2s\tremaining: 51s\n",
      "550:\tlearn: 0.0155810\ttotal: 1m 2s\tremaining: 50.9s\n",
      "551:\tlearn: 0.0155568\ttotal: 1m 2s\tremaining: 50.8s\n",
      "552:\tlearn: 0.0155366\ttotal: 1m 2s\tremaining: 50.7s\n",
      "553:\tlearn: 0.0155175\ttotal: 1m 2s\tremaining: 50.6s\n",
      "554:\tlearn: 0.0155038\ttotal: 1m 2s\tremaining: 50.5s\n",
      "555:\tlearn: 0.0154334\ttotal: 1m 3s\tremaining: 50.3s\n",
      "556:\tlearn: 0.0154135\ttotal: 1m 3s\tremaining: 50.2s\n",
      "557:\tlearn: 0.0154083\ttotal: 1m 3s\tremaining: 50.1s\n",
      "558:\tlearn: 0.0153904\ttotal: 1m 3s\tremaining: 50s\n",
      "559:\tlearn: 0.0153820\ttotal: 1m 3s\tremaining: 49.9s\n",
      "560:\tlearn: 0.0153455\ttotal: 1m 3s\tremaining: 49.8s\n",
      "561:\tlearn: 0.0153410\ttotal: 1m 3s\tremaining: 49.7s\n",
      "562:\tlearn: 0.0153234\ttotal: 1m 3s\tremaining: 49.5s\n",
      "563:\tlearn: 0.0153151\ttotal: 1m 3s\tremaining: 49.4s\n",
      "564:\tlearn: 0.0152581\ttotal: 1m 4s\tremaining: 49.3s\n",
      "565:\tlearn: 0.0152527\ttotal: 1m 4s\tremaining: 49.2s\n",
      "566:\tlearn: 0.0152482\ttotal: 1m 4s\tremaining: 49.1s\n",
      "567:\tlearn: 0.0152199\ttotal: 1m 4s\tremaining: 49s\n",
      "568:\tlearn: 0.0152174\ttotal: 1m 4s\tremaining: 48.9s\n",
      "569:\tlearn: 0.0152145\ttotal: 1m 4s\tremaining: 48.8s\n",
      "570:\tlearn: 0.0151834\ttotal: 1m 4s\tremaining: 48.6s\n",
      "571:\tlearn: 0.0151673\ttotal: 1m 4s\tremaining: 48.5s\n",
      "572:\tlearn: 0.0151562\ttotal: 1m 4s\tremaining: 48.4s\n",
      "573:\tlearn: 0.0151503\ttotal: 1m 5s\tremaining: 48.3s\n",
      "574:\tlearn: 0.0151360\ttotal: 1m 5s\tremaining: 48.2s\n",
      "575:\tlearn: 0.0151298\ttotal: 1m 5s\tremaining: 48.1s\n",
      "576:\tlearn: 0.0151238\ttotal: 1m 5s\tremaining: 48s\n",
      "577:\tlearn: 0.0151213\ttotal: 1m 5s\tremaining: 47.8s\n",
      "578:\tlearn: 0.0150949\ttotal: 1m 5s\tremaining: 47.7s\n",
      "579:\tlearn: 0.0150834\ttotal: 1m 5s\tremaining: 47.6s\n",
      "580:\tlearn: 0.0150520\ttotal: 1m 5s\tremaining: 47.5s\n",
      "581:\tlearn: 0.0150256\ttotal: 1m 6s\tremaining: 47.4s\n",
      "582:\tlearn: 0.0150226\ttotal: 1m 6s\tremaining: 47.3s\n",
      "583:\tlearn: 0.0150146\ttotal: 1m 6s\tremaining: 47.2s\n",
      "584:\tlearn: 0.0150096\ttotal: 1m 6s\tremaining: 47.1s\n",
      "585:\tlearn: 0.0150071\ttotal: 1m 6s\tremaining: 46.9s\n",
      "586:\tlearn: 0.0150032\ttotal: 1m 6s\tremaining: 46.8s\n",
      "587:\tlearn: 0.0149977\ttotal: 1m 6s\tremaining: 46.7s\n",
      "588:\tlearn: 0.0149812\ttotal: 1m 6s\tremaining: 46.6s\n",
      "589:\tlearn: 0.0149714\ttotal: 1m 6s\tremaining: 46.5s\n",
      "590:\tlearn: 0.0149641\ttotal: 1m 7s\tremaining: 46.4s\n",
      "591:\tlearn: 0.0149529\ttotal: 1m 7s\tremaining: 46.3s\n",
      "592:\tlearn: 0.0149370\ttotal: 1m 7s\tremaining: 46.2s\n",
      "593:\tlearn: 0.0149346\ttotal: 1m 7s\tremaining: 46.1s\n",
      "594:\tlearn: 0.0149322\ttotal: 1m 7s\tremaining: 45.9s\n",
      "595:\tlearn: 0.0149157\ttotal: 1m 7s\tremaining: 45.8s\n",
      "596:\tlearn: 0.0149135\ttotal: 1m 7s\tremaining: 45.7s\n",
      "597:\tlearn: 0.0149086\ttotal: 1m 7s\tremaining: 45.6s\n",
      "598:\tlearn: 0.0148972\ttotal: 1m 7s\tremaining: 45.5s\n",
      "599:\tlearn: 0.0148750\ttotal: 1m 8s\tremaining: 45.4s\n",
      "600:\tlearn: 0.0148682\ttotal: 1m 8s\tremaining: 45.3s\n",
      "601:\tlearn: 0.0148414\ttotal: 1m 8s\tremaining: 45.1s\n",
      "602:\tlearn: 0.0148371\ttotal: 1m 8s\tremaining: 45s\n",
      "603:\tlearn: 0.0148319\ttotal: 1m 8s\tremaining: 44.9s\n",
      "604:\tlearn: 0.0147879\ttotal: 1m 8s\tremaining: 44.8s\n",
      "605:\tlearn: 0.0147463\ttotal: 1m 8s\tremaining: 44.7s\n",
      "606:\tlearn: 0.0147420\ttotal: 1m 8s\tremaining: 44.6s\n",
      "607:\tlearn: 0.0147059\ttotal: 1m 8s\tremaining: 44.5s\n",
      "608:\tlearn: 0.0147022\ttotal: 1m 9s\tremaining: 44.4s\n",
      "609:\tlearn: 0.0146962\ttotal: 1m 9s\tremaining: 44.2s\n",
      "610:\tlearn: 0.0146849\ttotal: 1m 9s\tremaining: 44.1s\n",
      "611:\tlearn: 0.0146826\ttotal: 1m 9s\tremaining: 44s\n",
      "612:\tlearn: 0.0146785\ttotal: 1m 9s\tremaining: 43.9s\n",
      "613:\tlearn: 0.0146690\ttotal: 1m 9s\tremaining: 43.8s\n",
      "614:\tlearn: 0.0146667\ttotal: 1m 9s\tremaining: 43.7s\n",
      "615:\tlearn: 0.0146525\ttotal: 1m 9s\tremaining: 43.6s\n",
      "616:\tlearn: 0.0146460\ttotal: 1m 9s\tremaining: 43.4s\n",
      "617:\tlearn: 0.0146409\ttotal: 1m 10s\tremaining: 43.3s\n",
      "618:\tlearn: 0.0146279\ttotal: 1m 10s\tremaining: 43.2s\n",
      "619:\tlearn: 0.0146178\ttotal: 1m 10s\tremaining: 43.1s\n",
      "620:\tlearn: 0.0146089\ttotal: 1m 10s\tremaining: 43s\n",
      "621:\tlearn: 0.0145987\ttotal: 1m 10s\tremaining: 42.9s\n",
      "622:\tlearn: 0.0145748\ttotal: 1m 10s\tremaining: 42.8s\n",
      "623:\tlearn: 0.0145699\ttotal: 1m 10s\tremaining: 42.7s\n",
      "624:\tlearn: 0.0145552\ttotal: 1m 10s\tremaining: 42.5s\n",
      "625:\tlearn: 0.0145440\ttotal: 1m 11s\tremaining: 42.4s\n",
      "626:\tlearn: 0.0145418\ttotal: 1m 11s\tremaining: 42.3s\n",
      "627:\tlearn: 0.0145332\ttotal: 1m 11s\tremaining: 42.2s\n",
      "628:\tlearn: 0.0144986\ttotal: 1m 11s\tremaining: 42.1s\n",
      "629:\tlearn: 0.0144934\ttotal: 1m 11s\tremaining: 42s\n",
      "630:\tlearn: 0.0144721\ttotal: 1m 11s\tremaining: 41.9s\n",
      "631:\tlearn: 0.0144682\ttotal: 1m 11s\tremaining: 41.7s\n",
      "632:\tlearn: 0.0144528\ttotal: 1m 11s\tremaining: 41.6s\n",
      "633:\tlearn: 0.0144393\ttotal: 1m 11s\tremaining: 41.5s\n",
      "634:\tlearn: 0.0144219\ttotal: 1m 12s\tremaining: 41.4s\n",
      "635:\tlearn: 0.0144055\ttotal: 1m 12s\tremaining: 41.3s\n",
      "636:\tlearn: 0.0144033\ttotal: 1m 12s\tremaining: 41.2s\n",
      "637:\tlearn: 0.0143954\ttotal: 1m 12s\tremaining: 41.1s\n",
      "638:\tlearn: 0.0143231\ttotal: 1m 12s\tremaining: 41s\n",
      "639:\tlearn: 0.0143118\ttotal: 1m 12s\tremaining: 40.8s\n",
      "640:\tlearn: 0.0142979\ttotal: 1m 12s\tremaining: 40.7s\n",
      "641:\tlearn: 0.0142958\ttotal: 1m 12s\tremaining: 40.6s\n",
      "642:\tlearn: 0.0142826\ttotal: 1m 12s\tremaining: 40.5s\n",
      "643:\tlearn: 0.0142777\ttotal: 1m 13s\tremaining: 40.4s\n",
      "644:\tlearn: 0.0142453\ttotal: 1m 13s\tremaining: 40.3s\n",
      "645:\tlearn: 0.0142416\ttotal: 1m 13s\tremaining: 40.2s\n",
      "646:\tlearn: 0.0142235\ttotal: 1m 13s\tremaining: 40.1s\n",
      "647:\tlearn: 0.0142194\ttotal: 1m 13s\tremaining: 39.9s\n",
      "648:\tlearn: 0.0141984\ttotal: 1m 13s\tremaining: 39.8s\n",
      "649:\tlearn: 0.0141785\ttotal: 1m 13s\tremaining: 39.7s\n",
      "650:\tlearn: 0.0141557\ttotal: 1m 13s\tremaining: 39.6s\n",
      "651:\tlearn: 0.0141535\ttotal: 1m 14s\tremaining: 39.5s\n",
      "652:\tlearn: 0.0141295\ttotal: 1m 14s\tremaining: 39.4s\n",
      "653:\tlearn: 0.0141233\ttotal: 1m 14s\tremaining: 39.3s\n",
      "654:\tlearn: 0.0141152\ttotal: 1m 14s\tremaining: 39.2s\n",
      "655:\tlearn: 0.0141118\ttotal: 1m 14s\tremaining: 39s\n",
      "656:\tlearn: 0.0141083\ttotal: 1m 14s\tremaining: 38.9s\n",
      "657:\tlearn: 0.0140883\ttotal: 1m 14s\tremaining: 38.8s\n",
      "658:\tlearn: 0.0140697\ttotal: 1m 14s\tremaining: 38.7s\n",
      "659:\tlearn: 0.0140633\ttotal: 1m 14s\tremaining: 38.6s\n",
      "660:\tlearn: 0.0140543\ttotal: 1m 15s\tremaining: 38.5s\n",
      "661:\tlearn: 0.0140507\ttotal: 1m 15s\tremaining: 38.4s\n",
      "662:\tlearn: 0.0140277\ttotal: 1m 15s\tremaining: 38.3s\n",
      "663:\tlearn: 0.0140224\ttotal: 1m 15s\tremaining: 38.1s\n",
      "664:\tlearn: 0.0140151\ttotal: 1m 15s\tremaining: 38s\n",
      "665:\tlearn: 0.0139837\ttotal: 1m 15s\tremaining: 37.9s\n",
      "666:\tlearn: 0.0139571\ttotal: 1m 15s\tremaining: 37.8s\n",
      "667:\tlearn: 0.0139531\ttotal: 1m 15s\tremaining: 37.7s\n",
      "668:\tlearn: 0.0139509\ttotal: 1m 15s\tremaining: 37.6s\n",
      "669:\tlearn: 0.0139400\ttotal: 1m 16s\tremaining: 37.5s\n",
      "670:\tlearn: 0.0139331\ttotal: 1m 16s\tremaining: 37.4s\n",
      "671:\tlearn: 0.0139213\ttotal: 1m 16s\tremaining: 37.2s\n",
      "672:\tlearn: 0.0139126\ttotal: 1m 16s\tremaining: 37.1s\n",
      "673:\tlearn: 0.0139105\ttotal: 1m 16s\tremaining: 37s\n",
      "674:\tlearn: 0.0139086\ttotal: 1m 16s\tremaining: 36.9s\n",
      "675:\tlearn: 0.0139023\ttotal: 1m 16s\tremaining: 36.8s\n",
      "676:\tlearn: 0.0139004\ttotal: 1m 16s\tremaining: 36.7s\n",
      "677:\tlearn: 0.0138920\ttotal: 1m 16s\tremaining: 36.6s\n",
      "678:\tlearn: 0.0138845\ttotal: 1m 17s\tremaining: 36.5s\n",
      "679:\tlearn: 0.0138779\ttotal: 1m 17s\tremaining: 36.3s\n",
      "680:\tlearn: 0.0138729\ttotal: 1m 17s\tremaining: 36.2s\n",
      "681:\tlearn: 0.0138679\ttotal: 1m 17s\tremaining: 36.1s\n",
      "682:\tlearn: 0.0138507\ttotal: 1m 17s\tremaining: 36s\n",
      "683:\tlearn: 0.0138308\ttotal: 1m 17s\tremaining: 35.9s\n",
      "684:\tlearn: 0.0138185\ttotal: 1m 17s\tremaining: 35.8s\n",
      "685:\tlearn: 0.0138146\ttotal: 1m 17s\tremaining: 35.7s\n",
      "686:\tlearn: 0.0137674\ttotal: 1m 18s\tremaining: 35.5s\n",
      "687:\tlearn: 0.0137557\ttotal: 1m 18s\tremaining: 35.4s\n",
      "688:\tlearn: 0.0137482\ttotal: 1m 18s\tremaining: 35.3s\n",
      "689:\tlearn: 0.0137261\ttotal: 1m 18s\tremaining: 35.2s\n",
      "690:\tlearn: 0.0137228\ttotal: 1m 18s\tremaining: 35.1s\n",
      "691:\tlearn: 0.0137209\ttotal: 1m 18s\tremaining: 35s\n",
      "692:\tlearn: 0.0137190\ttotal: 1m 18s\tremaining: 34.9s\n",
      "693:\tlearn: 0.0137158\ttotal: 1m 18s\tremaining: 34.7s\n",
      "694:\tlearn: 0.0136995\ttotal: 1m 18s\tremaining: 34.6s\n",
      "695:\tlearn: 0.0136615\ttotal: 1m 19s\tremaining: 34.5s\n",
      "696:\tlearn: 0.0136428\ttotal: 1m 19s\tremaining: 34.4s\n",
      "697:\tlearn: 0.0136411\ttotal: 1m 19s\tremaining: 34.3s\n",
      "698:\tlearn: 0.0136291\ttotal: 1m 19s\tremaining: 34.2s\n",
      "699:\tlearn: 0.0136249\ttotal: 1m 19s\tremaining: 34.1s\n",
      "700:\tlearn: 0.0135989\ttotal: 1m 19s\tremaining: 34s\n",
      "701:\tlearn: 0.0135912\ttotal: 1m 19s\tremaining: 33.8s\n",
      "702:\tlearn: 0.0135869\ttotal: 1m 19s\tremaining: 33.7s\n",
      "703:\tlearn: 0.0135839\ttotal: 1m 19s\tremaining: 33.6s\n",
      "704:\tlearn: 0.0135821\ttotal: 1m 20s\tremaining: 33.5s\n",
      "705:\tlearn: 0.0135698\ttotal: 1m 20s\tremaining: 33.4s\n",
      "706:\tlearn: 0.0135681\ttotal: 1m 20s\tremaining: 33.3s\n",
      "707:\tlearn: 0.0135638\ttotal: 1m 20s\tremaining: 33.2s\n",
      "708:\tlearn: 0.0135533\ttotal: 1m 20s\tremaining: 33s\n",
      "709:\tlearn: 0.0135433\ttotal: 1m 20s\tremaining: 32.9s\n",
      "710:\tlearn: 0.0135415\ttotal: 1m 20s\tremaining: 32.8s\n",
      "711:\tlearn: 0.0135374\ttotal: 1m 20s\tremaining: 32.7s\n",
      "712:\tlearn: 0.0135306\ttotal: 1m 20s\tremaining: 32.6s\n",
      "713:\tlearn: 0.0135275\ttotal: 1m 21s\tremaining: 32.5s\n",
      "714:\tlearn: 0.0135153\ttotal: 1m 21s\tremaining: 32.4s\n",
      "715:\tlearn: 0.0134908\ttotal: 1m 21s\tremaining: 32.3s\n",
      "716:\tlearn: 0.0134452\ttotal: 1m 21s\tremaining: 32.1s\n",
      "717:\tlearn: 0.0134434\ttotal: 1m 21s\tremaining: 32s\n",
      "718:\tlearn: 0.0134311\ttotal: 1m 21s\tremaining: 31.9s\n",
      "719:\tlearn: 0.0134294\ttotal: 1m 21s\tremaining: 31.8s\n",
      "720:\tlearn: 0.0134122\ttotal: 1m 21s\tremaining: 31.7s\n",
      "721:\tlearn: 0.0134106\ttotal: 1m 22s\tremaining: 31.6s\n",
      "722:\tlearn: 0.0133995\ttotal: 1m 22s\tremaining: 31.5s\n",
      "723:\tlearn: 0.0133817\ttotal: 1m 22s\tremaining: 31.3s\n",
      "724:\tlearn: 0.0133701\ttotal: 1m 22s\tremaining: 31.2s\n",
      "725:\tlearn: 0.0133621\ttotal: 1m 22s\tremaining: 31.1s\n",
      "726:\tlearn: 0.0133354\ttotal: 1m 22s\tremaining: 31s\n",
      "727:\tlearn: 0.0133337\ttotal: 1m 22s\tremaining: 30.9s\n",
      "728:\tlearn: 0.0133129\ttotal: 1m 22s\tremaining: 30.8s\n",
      "729:\tlearn: 0.0132987\ttotal: 1m 22s\tremaining: 30.7s\n",
      "730:\tlearn: 0.0132970\ttotal: 1m 23s\tremaining: 30.6s\n",
      "731:\tlearn: 0.0132949\ttotal: 1m 23s\tremaining: 30.4s\n",
      "732:\tlearn: 0.0132887\ttotal: 1m 23s\tremaining: 30.3s\n",
      "733:\tlearn: 0.0132830\ttotal: 1m 23s\tremaining: 30.2s\n",
      "734:\tlearn: 0.0132727\ttotal: 1m 23s\tremaining: 30.1s\n",
      "735:\tlearn: 0.0132562\ttotal: 1m 23s\tremaining: 30s\n",
      "736:\tlearn: 0.0132329\ttotal: 1m 23s\tremaining: 29.9s\n",
      "737:\tlearn: 0.0132208\ttotal: 1m 23s\tremaining: 29.8s\n",
      "738:\tlearn: 0.0132176\ttotal: 1m 23s\tremaining: 29.7s\n",
      "739:\tlearn: 0.0132131\ttotal: 1m 24s\tremaining: 29.5s\n",
      "740:\tlearn: 0.0132114\ttotal: 1m 24s\tremaining: 29.4s\n",
      "741:\tlearn: 0.0131898\ttotal: 1m 24s\tremaining: 29.3s\n",
      "742:\tlearn: 0.0131787\ttotal: 1m 24s\tremaining: 29.2s\n",
      "743:\tlearn: 0.0131730\ttotal: 1m 24s\tremaining: 29.1s\n",
      "744:\tlearn: 0.0131647\ttotal: 1m 24s\tremaining: 29s\n",
      "745:\tlearn: 0.0131619\ttotal: 1m 24s\tremaining: 28.9s\n",
      "746:\tlearn: 0.0131514\ttotal: 1m 24s\tremaining: 28.8s\n",
      "747:\tlearn: 0.0131404\ttotal: 1m 25s\tremaining: 28.6s\n",
      "748:\tlearn: 0.0131379\ttotal: 1m 25s\tremaining: 28.5s\n",
      "749:\tlearn: 0.0131017\ttotal: 1m 25s\tremaining: 28.4s\n",
      "750:\tlearn: 0.0130999\ttotal: 1m 25s\tremaining: 28.3s\n",
      "751:\tlearn: 0.0130894\ttotal: 1m 25s\tremaining: 28.2s\n",
      "752:\tlearn: 0.0130815\ttotal: 1m 25s\tremaining: 28.1s\n",
      "753:\tlearn: 0.0130738\ttotal: 1m 25s\tremaining: 28s\n",
      "754:\tlearn: 0.0130654\ttotal: 1m 25s\tremaining: 27.8s\n",
      "755:\tlearn: 0.0130423\ttotal: 1m 25s\tremaining: 27.7s\n",
      "756:\tlearn: 0.0130313\ttotal: 1m 26s\tremaining: 27.6s\n",
      "757:\tlearn: 0.0130297\ttotal: 1m 26s\tremaining: 27.5s\n",
      "758:\tlearn: 0.0130213\ttotal: 1m 26s\tremaining: 27.4s\n",
      "759:\tlearn: 0.0130196\ttotal: 1m 26s\tremaining: 27.3s\n",
      "760:\tlearn: 0.0130021\ttotal: 1m 26s\tremaining: 27.2s\n",
      "761:\tlearn: 0.0129997\ttotal: 1m 26s\tremaining: 27.1s\n",
      "762:\tlearn: 0.0129744\ttotal: 1m 26s\tremaining: 26.9s\n",
      "763:\tlearn: 0.0129729\ttotal: 1m 26s\tremaining: 26.8s\n",
      "764:\tlearn: 0.0129595\ttotal: 1m 26s\tremaining: 26.7s\n",
      "765:\tlearn: 0.0129544\ttotal: 1m 27s\tremaining: 26.6s\n",
      "766:\tlearn: 0.0129450\ttotal: 1m 27s\tremaining: 26.5s\n",
      "767:\tlearn: 0.0129432\ttotal: 1m 27s\tremaining: 26.4s\n",
      "768:\tlearn: 0.0129248\ttotal: 1m 27s\tremaining: 26.3s\n",
      "769:\tlearn: 0.0129183\ttotal: 1m 27s\tremaining: 26.1s\n",
      "770:\tlearn: 0.0129091\ttotal: 1m 27s\tremaining: 26s\n",
      "771:\tlearn: 0.0128996\ttotal: 1m 27s\tremaining: 25.9s\n",
      "772:\tlearn: 0.0128981\ttotal: 1m 27s\tremaining: 25.8s\n",
      "773:\tlearn: 0.0128864\ttotal: 1m 27s\tremaining: 25.7s\n",
      "774:\tlearn: 0.0128847\ttotal: 1m 28s\tremaining: 25.6s\n",
      "775:\tlearn: 0.0127801\ttotal: 1m 28s\tremaining: 25.5s\n",
      "776:\tlearn: 0.0127782\ttotal: 1m 28s\tremaining: 25.4s\n",
      "777:\tlearn: 0.0127611\ttotal: 1m 28s\tremaining: 25.2s\n",
      "778:\tlearn: 0.0127517\ttotal: 1m 28s\tremaining: 25.1s\n",
      "779:\tlearn: 0.0127479\ttotal: 1m 28s\tremaining: 25s\n",
      "780:\tlearn: 0.0127441\ttotal: 1m 28s\tremaining: 24.9s\n",
      "781:\tlearn: 0.0127323\ttotal: 1m 28s\tremaining: 24.8s\n",
      "782:\tlearn: 0.0127027\ttotal: 1m 29s\tremaining: 24.7s\n",
      "783:\tlearn: 0.0127002\ttotal: 1m 29s\tremaining: 24.6s\n",
      "784:\tlearn: 0.0126793\ttotal: 1m 29s\tremaining: 24.4s\n",
      "785:\tlearn: 0.0126751\ttotal: 1m 29s\tremaining: 24.3s\n",
      "786:\tlearn: 0.0126705\ttotal: 1m 29s\tremaining: 24.2s\n",
      "787:\tlearn: 0.0126630\ttotal: 1m 29s\tremaining: 24.1s\n",
      "788:\tlearn: 0.0126539\ttotal: 1m 29s\tremaining: 24s\n",
      "789:\tlearn: 0.0126515\ttotal: 1m 29s\tremaining: 23.9s\n",
      "790:\tlearn: 0.0126448\ttotal: 1m 29s\tremaining: 23.8s\n",
      "791:\tlearn: 0.0126418\ttotal: 1m 30s\tremaining: 23.6s\n",
      "792:\tlearn: 0.0126327\ttotal: 1m 30s\tremaining: 23.5s\n",
      "793:\tlearn: 0.0125939\ttotal: 1m 30s\tremaining: 23.4s\n",
      "794:\tlearn: 0.0125898\ttotal: 1m 30s\tremaining: 23.3s\n",
      "795:\tlearn: 0.0125882\ttotal: 1m 30s\tremaining: 23.2s\n",
      "796:\tlearn: 0.0125694\ttotal: 1m 30s\tremaining: 23.1s\n",
      "797:\tlearn: 0.0125680\ttotal: 1m 30s\tremaining: 23s\n",
      "798:\tlearn: 0.0125598\ttotal: 1m 30s\tremaining: 22.9s\n",
      "799:\tlearn: 0.0125521\ttotal: 1m 30s\tremaining: 22.7s\n",
      "800:\tlearn: 0.0125288\ttotal: 1m 31s\tremaining: 22.6s\n",
      "801:\tlearn: 0.0125187\ttotal: 1m 31s\tremaining: 22.5s\n",
      "802:\tlearn: 0.0125037\ttotal: 1m 31s\tremaining: 22.4s\n",
      "803:\tlearn: 0.0124873\ttotal: 1m 31s\tremaining: 22.3s\n",
      "804:\tlearn: 0.0124644\ttotal: 1m 31s\tremaining: 22.2s\n",
      "805:\tlearn: 0.0124591\ttotal: 1m 31s\tremaining: 22.1s\n",
      "806:\tlearn: 0.0124482\ttotal: 1m 31s\tremaining: 21.9s\n",
      "807:\tlearn: 0.0124459\ttotal: 1m 31s\tremaining: 21.8s\n",
      "808:\tlearn: 0.0124403\ttotal: 1m 31s\tremaining: 21.7s\n",
      "809:\tlearn: 0.0124270\ttotal: 1m 32s\tremaining: 21.6s\n",
      "810:\tlearn: 0.0123903\ttotal: 1m 32s\tremaining: 21.5s\n",
      "811:\tlearn: 0.0123889\ttotal: 1m 32s\tremaining: 21.4s\n",
      "812:\tlearn: 0.0123407\ttotal: 1m 32s\tremaining: 21.3s\n",
      "813:\tlearn: 0.0123380\ttotal: 1m 32s\tremaining: 21.2s\n",
      "814:\tlearn: 0.0123364\ttotal: 1m 32s\tremaining: 21s\n",
      "815:\tlearn: 0.0123349\ttotal: 1m 32s\tremaining: 20.9s\n",
      "816:\tlearn: 0.0123239\ttotal: 1m 32s\tremaining: 20.8s\n",
      "817:\tlearn: 0.0123213\ttotal: 1m 33s\tremaining: 20.7s\n",
      "818:\tlearn: 0.0123098\ttotal: 1m 33s\tremaining: 20.6s\n",
      "819:\tlearn: 0.0123067\ttotal: 1m 33s\tremaining: 20.5s\n",
      "820:\tlearn: 0.0123046\ttotal: 1m 33s\tremaining: 20.4s\n",
      "821:\tlearn: 0.0122784\ttotal: 1m 33s\tremaining: 20.2s\n",
      "822:\tlearn: 0.0122426\ttotal: 1m 33s\tremaining: 20.1s\n",
      "823:\tlearn: 0.0122400\ttotal: 1m 33s\tremaining: 20s\n",
      "824:\tlearn: 0.0122388\ttotal: 1m 33s\tremaining: 19.9s\n",
      "825:\tlearn: 0.0122273\ttotal: 1m 33s\tremaining: 19.8s\n",
      "826:\tlearn: 0.0122209\ttotal: 1m 34s\tremaining: 19.7s\n",
      "827:\tlearn: 0.0122188\ttotal: 1m 34s\tremaining: 19.6s\n",
      "828:\tlearn: 0.0121847\ttotal: 1m 34s\tremaining: 19.4s\n",
      "829:\tlearn: 0.0121668\ttotal: 1m 34s\tremaining: 19.3s\n",
      "830:\tlearn: 0.0121553\ttotal: 1m 34s\tremaining: 19.2s\n",
      "831:\tlearn: 0.0121538\ttotal: 1m 34s\tremaining: 19.1s\n",
      "832:\tlearn: 0.0121462\ttotal: 1m 34s\tremaining: 19s\n",
      "833:\tlearn: 0.0121448\ttotal: 1m 34s\tremaining: 18.9s\n",
      "834:\tlearn: 0.0121388\ttotal: 1m 34s\tremaining: 18.8s\n",
      "835:\tlearn: 0.0121343\ttotal: 1m 35s\tremaining: 18.7s\n",
      "836:\tlearn: 0.0121064\ttotal: 1m 35s\tremaining: 18.5s\n",
      "837:\tlearn: 0.0121035\ttotal: 1m 35s\tremaining: 18.4s\n",
      "838:\tlearn: 0.0120946\ttotal: 1m 35s\tremaining: 18.3s\n",
      "839:\tlearn: 0.0120869\ttotal: 1m 35s\tremaining: 18.2s\n",
      "840:\tlearn: 0.0120856\ttotal: 1m 35s\tremaining: 18.1s\n",
      "841:\tlearn: 0.0120803\ttotal: 1m 35s\tremaining: 18s\n",
      "842:\tlearn: 0.0120771\ttotal: 1m 35s\tremaining: 17.9s\n",
      "843:\tlearn: 0.0120585\ttotal: 1m 36s\tremaining: 17.7s\n",
      "844:\tlearn: 0.0120570\ttotal: 1m 36s\tremaining: 17.6s\n",
      "845:\tlearn: 0.0120557\ttotal: 1m 36s\tremaining: 17.5s\n",
      "846:\tlearn: 0.0120481\ttotal: 1m 36s\tremaining: 17.4s\n",
      "847:\tlearn: 0.0120317\ttotal: 1m 36s\tremaining: 17.3s\n",
      "848:\tlearn: 0.0120187\ttotal: 1m 36s\tremaining: 17.2s\n",
      "849:\tlearn: 0.0120176\ttotal: 1m 36s\tremaining: 17.1s\n",
      "850:\tlearn: 0.0120155\ttotal: 1m 36s\tremaining: 16.9s\n",
      "851:\tlearn: 0.0120138\ttotal: 1m 36s\tremaining: 16.8s\n",
      "852:\tlearn: 0.0120057\ttotal: 1m 37s\tremaining: 16.7s\n",
      "853:\tlearn: 0.0119995\ttotal: 1m 37s\tremaining: 16.6s\n",
      "854:\tlearn: 0.0119896\ttotal: 1m 37s\tremaining: 16.5s\n",
      "855:\tlearn: 0.0119853\ttotal: 1m 37s\tremaining: 16.4s\n",
      "856:\tlearn: 0.0119800\ttotal: 1m 37s\tremaining: 16.3s\n",
      "857:\tlearn: 0.0119705\ttotal: 1m 37s\tremaining: 16.2s\n",
      "858:\tlearn: 0.0119571\ttotal: 1m 37s\tremaining: 16s\n",
      "859:\tlearn: 0.0119413\ttotal: 1m 37s\tremaining: 15.9s\n",
      "860:\tlearn: 0.0119383\ttotal: 1m 37s\tremaining: 15.8s\n",
      "861:\tlearn: 0.0119153\ttotal: 1m 38s\tremaining: 15.7s\n",
      "862:\tlearn: 0.0119036\ttotal: 1m 38s\tremaining: 15.6s\n",
      "863:\tlearn: 0.0118959\ttotal: 1m 38s\tremaining: 15.5s\n",
      "864:\tlearn: 0.0118822\ttotal: 1m 38s\tremaining: 15.4s\n",
      "865:\tlearn: 0.0118752\ttotal: 1m 38s\tremaining: 15.2s\n",
      "866:\tlearn: 0.0118695\ttotal: 1m 38s\tremaining: 15.1s\n",
      "867:\tlearn: 0.0118651\ttotal: 1m 38s\tremaining: 15s\n",
      "868:\tlearn: 0.0118601\ttotal: 1m 38s\tremaining: 14.9s\n",
      "869:\tlearn: 0.0118587\ttotal: 1m 38s\tremaining: 14.8s\n",
      "870:\tlearn: 0.0118537\ttotal: 1m 39s\tremaining: 14.7s\n",
      "871:\tlearn: 0.0118514\ttotal: 1m 39s\tremaining: 14.6s\n",
      "872:\tlearn: 0.0118496\ttotal: 1m 39s\tremaining: 14.4s\n",
      "873:\tlearn: 0.0118425\ttotal: 1m 39s\tremaining: 14.3s\n",
      "874:\tlearn: 0.0118399\ttotal: 1m 39s\tremaining: 14.2s\n",
      "875:\tlearn: 0.0118330\ttotal: 1m 39s\tremaining: 14.1s\n",
      "876:\tlearn: 0.0118146\ttotal: 1m 39s\tremaining: 14s\n",
      "877:\tlearn: 0.0117989\ttotal: 1m 39s\tremaining: 13.9s\n",
      "878:\tlearn: 0.0117943\ttotal: 1m 40s\tremaining: 13.8s\n",
      "879:\tlearn: 0.0117881\ttotal: 1m 40s\tremaining: 13.7s\n",
      "880:\tlearn: 0.0117843\ttotal: 1m 40s\tremaining: 13.5s\n",
      "881:\tlearn: 0.0117781\ttotal: 1m 40s\tremaining: 13.4s\n",
      "882:\tlearn: 0.0117723\ttotal: 1m 40s\tremaining: 13.3s\n",
      "883:\tlearn: 0.0117686\ttotal: 1m 40s\tremaining: 13.2s\n",
      "884:\tlearn: 0.0117618\ttotal: 1m 40s\tremaining: 13.1s\n",
      "885:\tlearn: 0.0117605\ttotal: 1m 40s\tremaining: 13s\n",
      "886:\tlearn: 0.0117593\ttotal: 1m 40s\tremaining: 12.9s\n",
      "887:\tlearn: 0.0117472\ttotal: 1m 41s\tremaining: 12.7s\n",
      "888:\tlearn: 0.0117450\ttotal: 1m 41s\tremaining: 12.6s\n",
      "889:\tlearn: 0.0117353\ttotal: 1m 41s\tremaining: 12.5s\n",
      "890:\tlearn: 0.0117332\ttotal: 1m 41s\tremaining: 12.4s\n",
      "891:\tlearn: 0.0117202\ttotal: 1m 41s\tremaining: 12.3s\n",
      "892:\tlearn: 0.0117023\ttotal: 1m 41s\tremaining: 12.2s\n",
      "893:\tlearn: 0.0116924\ttotal: 1m 41s\tremaining: 12.1s\n",
      "894:\tlearn: 0.0116765\ttotal: 1m 41s\tremaining: 11.9s\n",
      "895:\tlearn: 0.0116755\ttotal: 1m 41s\tremaining: 11.8s\n",
      "896:\tlearn: 0.0116525\ttotal: 1m 42s\tremaining: 11.7s\n",
      "897:\tlearn: 0.0116505\ttotal: 1m 42s\tremaining: 11.6s\n",
      "898:\tlearn: 0.0116344\ttotal: 1m 42s\tremaining: 11.5s\n",
      "899:\tlearn: 0.0116245\ttotal: 1m 42s\tremaining: 11.4s\n",
      "900:\tlearn: 0.0116233\ttotal: 1m 42s\tremaining: 11.3s\n",
      "901:\tlearn: 0.0116189\ttotal: 1m 42s\tremaining: 11.2s\n",
      "902:\tlearn: 0.0116178\ttotal: 1m 42s\tremaining: 11s\n",
      "903:\tlearn: 0.0116103\ttotal: 1m 42s\tremaining: 10.9s\n",
      "904:\tlearn: 0.0116046\ttotal: 1m 42s\tremaining: 10.8s\n",
      "905:\tlearn: 0.0115980\ttotal: 1m 43s\tremaining: 10.7s\n",
      "906:\tlearn: 0.0115918\ttotal: 1m 43s\tremaining: 10.6s\n",
      "907:\tlearn: 0.0115805\ttotal: 1m 43s\tremaining: 10.5s\n",
      "908:\tlearn: 0.0115766\ttotal: 1m 43s\tremaining: 10.4s\n",
      "909:\tlearn: 0.0115651\ttotal: 1m 43s\tremaining: 10.2s\n",
      "910:\tlearn: 0.0115610\ttotal: 1m 43s\tremaining: 10.1s\n",
      "911:\tlearn: 0.0115593\ttotal: 1m 43s\tremaining: 10s\n",
      "912:\tlearn: 0.0115571\ttotal: 1m 43s\tremaining: 9.9s\n",
      "913:\tlearn: 0.0115486\ttotal: 1m 44s\tremaining: 9.79s\n",
      "914:\tlearn: 0.0115070\ttotal: 1m 44s\tremaining: 9.67s\n",
      "915:\tlearn: 0.0115057\ttotal: 1m 44s\tremaining: 9.56s\n",
      "916:\tlearn: 0.0115014\ttotal: 1m 44s\tremaining: 9.45s\n",
      "917:\tlearn: 0.0114909\ttotal: 1m 44s\tremaining: 9.33s\n",
      "918:\tlearn: 0.0114889\ttotal: 1m 44s\tremaining: 9.22s\n",
      "919:\tlearn: 0.0114808\ttotal: 1m 44s\tremaining: 9.1s\n",
      "920:\tlearn: 0.0114685\ttotal: 1m 44s\tremaining: 8.99s\n",
      "921:\tlearn: 0.0114607\ttotal: 1m 44s\tremaining: 8.88s\n",
      "922:\tlearn: 0.0114576\ttotal: 1m 45s\tremaining: 8.76s\n",
      "923:\tlearn: 0.0114546\ttotal: 1m 45s\tremaining: 8.65s\n",
      "924:\tlearn: 0.0114534\ttotal: 1m 45s\tremaining: 8.54s\n",
      "925:\tlearn: 0.0114505\ttotal: 1m 45s\tremaining: 8.42s\n",
      "926:\tlearn: 0.0114462\ttotal: 1m 45s\tremaining: 8.31s\n",
      "927:\tlearn: 0.0114450\ttotal: 1m 45s\tremaining: 8.19s\n",
      "928:\tlearn: 0.0114380\ttotal: 1m 45s\tremaining: 8.08s\n",
      "929:\tlearn: 0.0114363\ttotal: 1m 45s\tremaining: 7.97s\n",
      "930:\tlearn: 0.0114165\ttotal: 1m 45s\tremaining: 7.86s\n",
      "931:\tlearn: 0.0114024\ttotal: 1m 46s\tremaining: 7.74s\n",
      "932:\tlearn: 0.0114008\ttotal: 1m 46s\tremaining: 7.63s\n",
      "933:\tlearn: 0.0113875\ttotal: 1m 46s\tremaining: 7.51s\n",
      "934:\tlearn: 0.0113642\ttotal: 1m 46s\tremaining: 7.4s\n",
      "935:\tlearn: 0.0113625\ttotal: 1m 46s\tremaining: 7.29s\n",
      "936:\tlearn: 0.0113574\ttotal: 1m 46s\tremaining: 7.17s\n",
      "937:\tlearn: 0.0113553\ttotal: 1m 46s\tremaining: 7.06s\n",
      "938:\tlearn: 0.0113460\ttotal: 1m 46s\tremaining: 6.95s\n",
      "939:\tlearn: 0.0113435\ttotal: 1m 47s\tremaining: 6.83s\n",
      "940:\tlearn: 0.0113376\ttotal: 1m 47s\tremaining: 6.72s\n",
      "941:\tlearn: 0.0113248\ttotal: 1m 47s\tremaining: 6.6s\n",
      "942:\tlearn: 0.0113229\ttotal: 1m 47s\tremaining: 6.49s\n",
      "943:\tlearn: 0.0113187\ttotal: 1m 47s\tremaining: 6.38s\n",
      "944:\tlearn: 0.0113122\ttotal: 1m 47s\tremaining: 6.26s\n",
      "945:\tlearn: 0.0112835\ttotal: 1m 47s\tremaining: 6.15s\n",
      "946:\tlearn: 0.0112823\ttotal: 1m 47s\tremaining: 6.04s\n",
      "947:\tlearn: 0.0112786\ttotal: 1m 47s\tremaining: 5.92s\n",
      "948:\tlearn: 0.0112685\ttotal: 1m 48s\tremaining: 5.81s\n",
      "949:\tlearn: 0.0112645\ttotal: 1m 48s\tremaining: 5.69s\n",
      "950:\tlearn: 0.0112622\ttotal: 1m 48s\tremaining: 5.58s\n",
      "951:\tlearn: 0.0112563\ttotal: 1m 48s\tremaining: 5.46s\n",
      "952:\tlearn: 0.0112547\ttotal: 1m 48s\tremaining: 5.35s\n",
      "953:\tlearn: 0.0112536\ttotal: 1m 48s\tremaining: 5.24s\n",
      "954:\tlearn: 0.0112525\ttotal: 1m 48s\tremaining: 5.12s\n",
      "955:\tlearn: 0.0112378\ttotal: 1m 48s\tremaining: 5.01s\n",
      "956:\tlearn: 0.0112368\ttotal: 1m 48s\tremaining: 4.9s\n",
      "957:\tlearn: 0.0112273\ttotal: 1m 49s\tremaining: 4.78s\n",
      "958:\tlearn: 0.0112262\ttotal: 1m 49s\tremaining: 4.67s\n",
      "959:\tlearn: 0.0112152\ttotal: 1m 49s\tremaining: 4.55s\n",
      "960:\tlearn: 0.0112040\ttotal: 1m 49s\tremaining: 4.44s\n",
      "961:\tlearn: 0.0112005\ttotal: 1m 49s\tremaining: 4.33s\n",
      "962:\tlearn: 0.0111895\ttotal: 1m 49s\tremaining: 4.21s\n",
      "963:\tlearn: 0.0111797\ttotal: 1m 49s\tremaining: 4.1s\n",
      "964:\tlearn: 0.0111692\ttotal: 1m 49s\tremaining: 3.98s\n",
      "965:\tlearn: 0.0111587\ttotal: 1m 50s\tremaining: 3.87s\n",
      "966:\tlearn: 0.0111537\ttotal: 1m 50s\tremaining: 3.76s\n",
      "967:\tlearn: 0.0111498\ttotal: 1m 50s\tremaining: 3.64s\n",
      "968:\tlearn: 0.0111421\ttotal: 1m 50s\tremaining: 3.53s\n",
      "969:\tlearn: 0.0111316\ttotal: 1m 50s\tremaining: 3.42s\n",
      "970:\tlearn: 0.0111305\ttotal: 1m 50s\tremaining: 3.3s\n",
      "971:\tlearn: 0.0111116\ttotal: 1m 50s\tremaining: 3.19s\n",
      "972:\tlearn: 0.0111050\ttotal: 1m 50s\tremaining: 3.08s\n",
      "973:\tlearn: 0.0110925\ttotal: 1m 50s\tremaining: 2.96s\n",
      "974:\tlearn: 0.0110906\ttotal: 1m 51s\tremaining: 2.85s\n",
      "975:\tlearn: 0.0110896\ttotal: 1m 51s\tremaining: 2.73s\n",
      "976:\tlearn: 0.0110842\ttotal: 1m 51s\tremaining: 2.62s\n",
      "977:\tlearn: 0.0110831\ttotal: 1m 51s\tremaining: 2.5s\n",
      "978:\tlearn: 0.0110778\ttotal: 1m 51s\tremaining: 2.39s\n",
      "979:\tlearn: 0.0110610\ttotal: 1m 51s\tremaining: 2.28s\n",
      "980:\tlearn: 0.0110598\ttotal: 1m 51s\tremaining: 2.16s\n",
      "981:\tlearn: 0.0110561\ttotal: 1m 51s\tremaining: 2.05s\n",
      "982:\tlearn: 0.0110550\ttotal: 1m 51s\tremaining: 1.94s\n",
      "983:\tlearn: 0.0110538\ttotal: 1m 52s\tremaining: 1.82s\n",
      "984:\tlearn: 0.0110414\ttotal: 1m 52s\tremaining: 1.71s\n",
      "985:\tlearn: 0.0110404\ttotal: 1m 52s\tremaining: 1.59s\n",
      "986:\tlearn: 0.0110344\ttotal: 1m 52s\tremaining: 1.48s\n",
      "987:\tlearn: 0.0110232\ttotal: 1m 52s\tremaining: 1.37s\n",
      "988:\tlearn: 0.0110206\ttotal: 1m 52s\tremaining: 1.25s\n",
      "989:\tlearn: 0.0110176\ttotal: 1m 52s\tremaining: 1.14s\n",
      "990:\tlearn: 0.0110098\ttotal: 1m 52s\tremaining: 1.02s\n",
      "991:\tlearn: 0.0110088\ttotal: 1m 53s\tremaining: 911ms\n",
      "992:\tlearn: 0.0110068\ttotal: 1m 53s\tremaining: 797ms\n",
      "993:\tlearn: 0.0110027\ttotal: 1m 53s\tremaining: 684ms\n",
      "994:\tlearn: 0.0109968\ttotal: 1m 53s\tremaining: 570ms\n",
      "995:\tlearn: 0.0109786\ttotal: 1m 53s\tremaining: 456ms\n",
      "996:\tlearn: 0.0109766\ttotal: 1m 53s\tremaining: 342ms\n",
      "997:\tlearn: 0.0109677\ttotal: 1m 53s\tremaining: 228ms\n",
      "998:\tlearn: 0.0109644\ttotal: 1m 53s\tremaining: 114ms\n",
      "999:\tlearn: 0.0109634\ttotal: 1m 53s\tremaining: 0us\n"
     ]
    },
    {
     "data": {
      "text/plain": [
       "<catboost.core.CatBoostClassifier at 0x7efcc2e9b550>"
      ]
     },
     "execution_count": 53,
     "metadata": {},
     "output_type": "execute_result"
    }
   ],
   "source": [
    "ctb_clf = CatBoostClassifier(loss_function='Logloss', class_weights=[0.4, 0.6])\n",
    "ctb_clf.fit(X_train_sparse_v2, y)"
   ]
  },
  {
   "cell_type": "code",
   "execution_count": 54,
   "metadata": {},
   "outputs": [
    {
     "name": "stdout",
     "output_type": "stream",
     "text": [
      "0.9965801137572076 1986 2297 249\n"
     ]
    }
   ],
   "source": [
    "pred_cb = ctb_clf.predict_proba(X_train_sparse_v2)\n",
    "roc_auc_cb = roc_auc_score(y, pred_cb[:, 1])\n",
    "\n",
    "pred_cb = ctb_clf.predict(X_train_sparse_v2)\n",
    "pred_cb_test = ctb_clf.predict(X_test_sparse_v2)\n",
    "\n",
    "print(roc_auc_cb, sum(pred_cb), sum(y), sum(pred_cb_test))"
   ]
  },
  {
   "cell_type": "raw",
   "metadata": {},
   "source": [
    "CatBoostClassifier(loss_function='Logloss', class_weights=[0.4, 0.6])\n",
    "0.9965801137572076 1986 2297 249\n",
    "\n",
    "CatBoostClassifier(loss_function='Logloss', class_weights=[0.35, 0.65])\n",
    "0.9973392221570319 2106 2297 291\n",
    "\n",
    "CatBoostClassifier(loss_function='Logloss', class_weights=[0.3, 0.7])\n",
    "0.9980240045641384 2228 2297 314\n"
   ]
  },
  {
   "cell_type": "code",
   "execution_count": null,
   "metadata": {},
   "outputs": [],
   "source": []
  },
  {
   "cell_type": "code",
   "execution_count": 160,
   "metadata": {},
   "outputs": [],
   "source": [
    "ctb_pred = ctb_clf.predict_proba(X_test_sparse_v2)"
   ]
  },
  {
   "cell_type": "code",
   "execution_count": 161,
   "metadata": {},
   "outputs": [],
   "source": [
    "write_to_submission_file(ctb_pred[:, 1], 'subm_avv_ctb_5ftrs_w_4_6.csv')"
   ]
  },
  {
   "cell_type": "code",
   "execution_count": null,
   "metadata": {},
   "outputs": [],
   "source": []
  },
  {
   "cell_type": "markdown",
   "metadata": {},
   "source": [
    "Как мы видим, все методы, основанные на деревьях очень быстро находят критически важные признаки и в моменте переобучаются даже при малом количестве n_estimtors. Даже без кросс валидации видно, что в прогнозе они дают малое количество сессии (по отношению к нашему прогнозу в ~750) для Alice.    "
   ]
  },
  {
   "cell_type": "markdown",
   "metadata": {},
   "source": [
    "Так же сильное изменение весов класса приводило к тому, что алгоритмы выдавали сильно большое число сессий для Alice - порядка десятка тысяч из 82000+. Остановился на class_weight={0:0.4, 1: 0.6}."
   ]
  },
  {
   "cell_type": "markdown",
   "metadata": {},
   "source": [
    "Лучший результат из опробованных алгоритмов дал LogisticRegression с измененными весами class_weight={0:0.4, 1: 0.6}.\n",
    "Как мы знаем, его можно еще улучшить через оптимизацию параметра С. Мы не будем этого делать, т.к. полученный результат ***0.94474*** позволяет опередить второй требуемый бенчмарк ***0.92784 Logit +3 features***"
   ]
  },
  {
   "cell_type": "markdown",
   "metadata": {},
   "source": [
    "**[лидерборд](https://inclass.kaggle.com/c/catch-me-if-you-can-intruder-detection-through-webpage-session-tracking2/leaderboard/public).** (текущее место 2220)"
   ]
  },
  {
   "cell_type": "code",
   "execution_count": null,
   "metadata": {},
   "outputs": [],
   "source": []
  },
  {
   "cell_type": "code",
   "execution_count": null,
   "metadata": {},
   "outputs": [],
   "source": []
  },
  {
   "cell_type": "code",
   "execution_count": null,
   "metadata": {},
   "outputs": [],
   "source": []
  },
  {
   "cell_type": "code",
   "execution_count": null,
   "metadata": {},
   "outputs": [],
   "source": []
  },
  {
   "cell_type": "code",
   "execution_count": 10,
   "metadata": {},
   "outputs": [],
   "source": [
    "for el in time_ftrs:\n",
    "    train_df[el] = pd.to_datetime(train_df[el])\n",
    "    test_df[el] = pd.to_datetime(test_df[el])"
   ]
  },
  {
   "cell_type": "code",
   "execution_count": 11,
   "metadata": {},
   "outputs": [],
   "source": [
    "train_df['start_hour'] = train_df['time1'].map(lambda x: x.hour)\n",
    "train_df['dow'] = train_df['time1'].map(lambda x: x.weekday())"
   ]
  },
  {
   "cell_type": "code",
   "execution_count": 25,
   "metadata": {},
   "outputs": [
    {
     "data": {
      "application/vnd.plotly.v1+json": {
       "config": {
        "plotlyServerURL": "https://plot.ly"
       },
       "data": [
        {
         "alignmentgroup": "True",
         "hoverlabel": {
          "namelength": 0
         },
         "hovertemplate": "x=%{x}<br>y=%{y}",
         "legendgroup": "",
         "marker": {
          "color": "#636efa"
         },
         "name": "",
         "offsetgroup": "",
         "orientation": "v",
         "showlegend": false,
         "textposition": "auto",
         "type": "bar",
         "x": [
          0,
          1,
          3,
          4,
          5,
          2,
          6
         ],
         "xaxis": "x",
         "y": [
          876,
          508,
          487,
          346,
          41,
          38,
          1
         ],
         "yaxis": "y"
        }
       ],
       "layout": {
        "autosize": true,
        "barmode": "relative",
        "legend": {
         "tracegroupgap": 0
        },
        "margin": {
         "t": 60
        },
        "template": {
         "data": {
          "bar": [
           {
            "error_x": {
             "color": "#2a3f5f"
            },
            "error_y": {
             "color": "#2a3f5f"
            },
            "marker": {
             "line": {
              "color": "#E5ECF6",
              "width": 0.5
             }
            },
            "type": "bar"
           }
          ],
          "barpolar": [
           {
            "marker": {
             "line": {
              "color": "#E5ECF6",
              "width": 0.5
             }
            },
            "type": "barpolar"
           }
          ],
          "carpet": [
           {
            "aaxis": {
             "endlinecolor": "#2a3f5f",
             "gridcolor": "white",
             "linecolor": "white",
             "minorgridcolor": "white",
             "startlinecolor": "#2a3f5f"
            },
            "baxis": {
             "endlinecolor": "#2a3f5f",
             "gridcolor": "white",
             "linecolor": "white",
             "minorgridcolor": "white",
             "startlinecolor": "#2a3f5f"
            },
            "type": "carpet"
           }
          ],
          "choropleth": [
           {
            "colorbar": {
             "outlinewidth": 0,
             "ticks": ""
            },
            "type": "choropleth"
           }
          ],
          "contour": [
           {
            "colorbar": {
             "outlinewidth": 0,
             "ticks": ""
            },
            "colorscale": [
             [
              0,
              "#0d0887"
             ],
             [
              0.1111111111111111,
              "#46039f"
             ],
             [
              0.2222222222222222,
              "#7201a8"
             ],
             [
              0.3333333333333333,
              "#9c179e"
             ],
             [
              0.4444444444444444,
              "#bd3786"
             ],
             [
              0.5555555555555556,
              "#d8576b"
             ],
             [
              0.6666666666666666,
              "#ed7953"
             ],
             [
              0.7777777777777778,
              "#fb9f3a"
             ],
             [
              0.8888888888888888,
              "#fdca26"
             ],
             [
              1,
              "#f0f921"
             ]
            ],
            "type": "contour"
           }
          ],
          "contourcarpet": [
           {
            "colorbar": {
             "outlinewidth": 0,
             "ticks": ""
            },
            "type": "contourcarpet"
           }
          ],
          "heatmap": [
           {
            "colorbar": {
             "outlinewidth": 0,
             "ticks": ""
            },
            "colorscale": [
             [
              0,
              "#0d0887"
             ],
             [
              0.1111111111111111,
              "#46039f"
             ],
             [
              0.2222222222222222,
              "#7201a8"
             ],
             [
              0.3333333333333333,
              "#9c179e"
             ],
             [
              0.4444444444444444,
              "#bd3786"
             ],
             [
              0.5555555555555556,
              "#d8576b"
             ],
             [
              0.6666666666666666,
              "#ed7953"
             ],
             [
              0.7777777777777778,
              "#fb9f3a"
             ],
             [
              0.8888888888888888,
              "#fdca26"
             ],
             [
              1,
              "#f0f921"
             ]
            ],
            "type": "heatmap"
           }
          ],
          "heatmapgl": [
           {
            "colorbar": {
             "outlinewidth": 0,
             "ticks": ""
            },
            "colorscale": [
             [
              0,
              "#0d0887"
             ],
             [
              0.1111111111111111,
              "#46039f"
             ],
             [
              0.2222222222222222,
              "#7201a8"
             ],
             [
              0.3333333333333333,
              "#9c179e"
             ],
             [
              0.4444444444444444,
              "#bd3786"
             ],
             [
              0.5555555555555556,
              "#d8576b"
             ],
             [
              0.6666666666666666,
              "#ed7953"
             ],
             [
              0.7777777777777778,
              "#fb9f3a"
             ],
             [
              0.8888888888888888,
              "#fdca26"
             ],
             [
              1,
              "#f0f921"
             ]
            ],
            "type": "heatmapgl"
           }
          ],
          "histogram": [
           {
            "marker": {
             "colorbar": {
              "outlinewidth": 0,
              "ticks": ""
             }
            },
            "type": "histogram"
           }
          ],
          "histogram2d": [
           {
            "colorbar": {
             "outlinewidth": 0,
             "ticks": ""
            },
            "colorscale": [
             [
              0,
              "#0d0887"
             ],
             [
              0.1111111111111111,
              "#46039f"
             ],
             [
              0.2222222222222222,
              "#7201a8"
             ],
             [
              0.3333333333333333,
              "#9c179e"
             ],
             [
              0.4444444444444444,
              "#bd3786"
             ],
             [
              0.5555555555555556,
              "#d8576b"
             ],
             [
              0.6666666666666666,
              "#ed7953"
             ],
             [
              0.7777777777777778,
              "#fb9f3a"
             ],
             [
              0.8888888888888888,
              "#fdca26"
             ],
             [
              1,
              "#f0f921"
             ]
            ],
            "type": "histogram2d"
           }
          ],
          "histogram2dcontour": [
           {
            "colorbar": {
             "outlinewidth": 0,
             "ticks": ""
            },
            "colorscale": [
             [
              0,
              "#0d0887"
             ],
             [
              0.1111111111111111,
              "#46039f"
             ],
             [
              0.2222222222222222,
              "#7201a8"
             ],
             [
              0.3333333333333333,
              "#9c179e"
             ],
             [
              0.4444444444444444,
              "#bd3786"
             ],
             [
              0.5555555555555556,
              "#d8576b"
             ],
             [
              0.6666666666666666,
              "#ed7953"
             ],
             [
              0.7777777777777778,
              "#fb9f3a"
             ],
             [
              0.8888888888888888,
              "#fdca26"
             ],
             [
              1,
              "#f0f921"
             ]
            ],
            "type": "histogram2dcontour"
           }
          ],
          "mesh3d": [
           {
            "colorbar": {
             "outlinewidth": 0,
             "ticks": ""
            },
            "type": "mesh3d"
           }
          ],
          "parcoords": [
           {
            "line": {
             "colorbar": {
              "outlinewidth": 0,
              "ticks": ""
             }
            },
            "type": "parcoords"
           }
          ],
          "pie": [
           {
            "automargin": true,
            "type": "pie"
           }
          ],
          "scatter": [
           {
            "marker": {
             "colorbar": {
              "outlinewidth": 0,
              "ticks": ""
             }
            },
            "type": "scatter"
           }
          ],
          "scatter3d": [
           {
            "line": {
             "colorbar": {
              "outlinewidth": 0,
              "ticks": ""
             }
            },
            "marker": {
             "colorbar": {
              "outlinewidth": 0,
              "ticks": ""
             }
            },
            "type": "scatter3d"
           }
          ],
          "scattercarpet": [
           {
            "marker": {
             "colorbar": {
              "outlinewidth": 0,
              "ticks": ""
             }
            },
            "type": "scattercarpet"
           }
          ],
          "scattergeo": [
           {
            "marker": {
             "colorbar": {
              "outlinewidth": 0,
              "ticks": ""
             }
            },
            "type": "scattergeo"
           }
          ],
          "scattergl": [
           {
            "marker": {
             "colorbar": {
              "outlinewidth": 0,
              "ticks": ""
             }
            },
            "type": "scattergl"
           }
          ],
          "scattermapbox": [
           {
            "marker": {
             "colorbar": {
              "outlinewidth": 0,
              "ticks": ""
             }
            },
            "type": "scattermapbox"
           }
          ],
          "scatterpolar": [
           {
            "marker": {
             "colorbar": {
              "outlinewidth": 0,
              "ticks": ""
             }
            },
            "type": "scatterpolar"
           }
          ],
          "scatterpolargl": [
           {
            "marker": {
             "colorbar": {
              "outlinewidth": 0,
              "ticks": ""
             }
            },
            "type": "scatterpolargl"
           }
          ],
          "scatterternary": [
           {
            "marker": {
             "colorbar": {
              "outlinewidth": 0,
              "ticks": ""
             }
            },
            "type": "scatterternary"
           }
          ],
          "surface": [
           {
            "colorbar": {
             "outlinewidth": 0,
             "ticks": ""
            },
            "colorscale": [
             [
              0,
              "#0d0887"
             ],
             [
              0.1111111111111111,
              "#46039f"
             ],
             [
              0.2222222222222222,
              "#7201a8"
             ],
             [
              0.3333333333333333,
              "#9c179e"
             ],
             [
              0.4444444444444444,
              "#bd3786"
             ],
             [
              0.5555555555555556,
              "#d8576b"
             ],
             [
              0.6666666666666666,
              "#ed7953"
             ],
             [
              0.7777777777777778,
              "#fb9f3a"
             ],
             [
              0.8888888888888888,
              "#fdca26"
             ],
             [
              1,
              "#f0f921"
             ]
            ],
            "type": "surface"
           }
          ],
          "table": [
           {
            "cells": {
             "fill": {
              "color": "#EBF0F8"
             },
             "line": {
              "color": "white"
             }
            },
            "header": {
             "fill": {
              "color": "#C8D4E3"
             },
             "line": {
              "color": "white"
             }
            },
            "type": "table"
           }
          ]
         },
         "layout": {
          "annotationdefaults": {
           "arrowcolor": "#2a3f5f",
           "arrowhead": 0,
           "arrowwidth": 1
          },
          "coloraxis": {
           "colorbar": {
            "outlinewidth": 0,
            "ticks": ""
           }
          },
          "colorscale": {
           "diverging": [
            [
             0,
             "#8e0152"
            ],
            [
             0.1,
             "#c51b7d"
            ],
            [
             0.2,
             "#de77ae"
            ],
            [
             0.3,
             "#f1b6da"
            ],
            [
             0.4,
             "#fde0ef"
            ],
            [
             0.5,
             "#f7f7f7"
            ],
            [
             0.6,
             "#e6f5d0"
            ],
            [
             0.7,
             "#b8e186"
            ],
            [
             0.8,
             "#7fbc41"
            ],
            [
             0.9,
             "#4d9221"
            ],
            [
             1,
             "#276419"
            ]
           ],
           "sequential": [
            [
             0,
             "#0d0887"
            ],
            [
             0.1111111111111111,
             "#46039f"
            ],
            [
             0.2222222222222222,
             "#7201a8"
            ],
            [
             0.3333333333333333,
             "#9c179e"
            ],
            [
             0.4444444444444444,
             "#bd3786"
            ],
            [
             0.5555555555555556,
             "#d8576b"
            ],
            [
             0.6666666666666666,
             "#ed7953"
            ],
            [
             0.7777777777777778,
             "#fb9f3a"
            ],
            [
             0.8888888888888888,
             "#fdca26"
            ],
            [
             1,
             "#f0f921"
            ]
           ],
           "sequentialminus": [
            [
             0,
             "#0d0887"
            ],
            [
             0.1111111111111111,
             "#46039f"
            ],
            [
             0.2222222222222222,
             "#7201a8"
            ],
            [
             0.3333333333333333,
             "#9c179e"
            ],
            [
             0.4444444444444444,
             "#bd3786"
            ],
            [
             0.5555555555555556,
             "#d8576b"
            ],
            [
             0.6666666666666666,
             "#ed7953"
            ],
            [
             0.7777777777777778,
             "#fb9f3a"
            ],
            [
             0.8888888888888888,
             "#fdca26"
            ],
            [
             1,
             "#f0f921"
            ]
           ]
          },
          "colorway": [
           "#636efa",
           "#EF553B",
           "#00cc96",
           "#ab63fa",
           "#FFA15A",
           "#19d3f3",
           "#FF6692",
           "#B6E880",
           "#FF97FF",
           "#FECB52"
          ],
          "font": {
           "color": "#2a3f5f"
          },
          "geo": {
           "bgcolor": "white",
           "lakecolor": "white",
           "landcolor": "#E5ECF6",
           "showlakes": true,
           "showland": true,
           "subunitcolor": "white"
          },
          "hoverlabel": {
           "align": "left"
          },
          "hovermode": "closest",
          "mapbox": {
           "style": "light"
          },
          "paper_bgcolor": "white",
          "plot_bgcolor": "#E5ECF6",
          "polar": {
           "angularaxis": {
            "gridcolor": "white",
            "linecolor": "white",
            "ticks": ""
           },
           "bgcolor": "#E5ECF6",
           "radialaxis": {
            "gridcolor": "white",
            "linecolor": "white",
            "ticks": ""
           }
          },
          "scene": {
           "xaxis": {
            "backgroundcolor": "#E5ECF6",
            "gridcolor": "white",
            "gridwidth": 2,
            "linecolor": "white",
            "showbackground": true,
            "ticks": "",
            "zerolinecolor": "white"
           },
           "yaxis": {
            "backgroundcolor": "#E5ECF6",
            "gridcolor": "white",
            "gridwidth": 2,
            "linecolor": "white",
            "showbackground": true,
            "ticks": "",
            "zerolinecolor": "white"
           },
           "zaxis": {
            "backgroundcolor": "#E5ECF6",
            "gridcolor": "white",
            "gridwidth": 2,
            "linecolor": "white",
            "showbackground": true,
            "ticks": "",
            "zerolinecolor": "white"
           }
          },
          "shapedefaults": {
           "line": {
            "color": "#2a3f5f"
           }
          },
          "ternary": {
           "aaxis": {
            "gridcolor": "white",
            "linecolor": "white",
            "ticks": ""
           },
           "baxis": {
            "gridcolor": "white",
            "linecolor": "white",
            "ticks": ""
           },
           "bgcolor": "#E5ECF6",
           "caxis": {
            "gridcolor": "white",
            "linecolor": "white",
            "ticks": ""
           }
          },
          "title": {
           "x": 0.05
          },
          "xaxis": {
           "automargin": true,
           "gridcolor": "white",
           "linecolor": "white",
           "ticks": "",
           "title": {
            "standoff": 15
           },
           "zerolinecolor": "white",
           "zerolinewidth": 2
          },
          "yaxis": {
           "automargin": true,
           "gridcolor": "white",
           "linecolor": "white",
           "ticks": "",
           "title": {
            "standoff": 15
           },
           "zerolinecolor": "white",
           "zerolinewidth": 2
          }
         }
        },
        "xaxis": {
         "anchor": "y",
         "autorange": true,
         "domain": [
          0,
          1
         ],
         "range": [
          -0.5,
          6.5
         ],
         "title": {
          "text": "x"
         },
         "type": "linear"
        },
        "yaxis": {
         "anchor": "x",
         "autorange": true,
         "domain": [
          0,
          1
         ],
         "range": [
          0,
          922.1052631578948
         ],
         "title": {
          "text": "y"
         },
         "type": "linear"
        }
       }
      },
      "image/png": "[encoded data removed]",
      "text/html": [
       "<div>\n",
       "        \n",
       "        \n",
       "            <div id=\"08a70451-3eab-48f3-8614-f4967be09f8e\" class=\"plotly-graph-div\" style=\"height:525px; width:100%;\"></div>\n",
       "            <script type=\"text/javascript\">\n",
       "                require([\"plotly\"], function(Plotly) {\n",
       "                    window.PLOTLYENV=window.PLOTLYENV || {};\n",
       "                    \n",
       "                if (document.getElementById(\"08a70451-3eab-48f3-8614-f4967be09f8e\")) {\n",
       "                    Plotly.newPlot(\n",
       "                        '08a70451-3eab-48f3-8614-f4967be09f8e',\n",
       "                        [{\"alignmentgroup\": \"True\", \"hoverlabel\": {\"namelength\": 0}, \"hovertemplate\": \"x=%{x}<br>y=%{y}\", \"legendgroup\": \"\", \"marker\": {\"color\": \"#636efa\"}, \"name\": \"\", \"offsetgroup\": \"\", \"orientation\": \"v\", \"showlegend\": false, \"textposition\": \"auto\", \"type\": \"bar\", \"x\": [0, 1, 3, 4, 5, 2, 6], \"xaxis\": \"x\", \"y\": [876, 508, 487, 346, 41, 38, 1], \"yaxis\": \"y\"}],\n",
       "                        {\"barmode\": \"relative\", \"legend\": {\"tracegroupgap\": 0}, \"margin\": {\"t\": 60}, \"template\": {\"data\": {\"bar\": [{\"error_x\": {\"color\": \"#2a3f5f\"}, \"error_y\": {\"color\": \"#2a3f5f\"}, \"marker\": {\"line\": {\"color\": \"#E5ECF6\", \"width\": 0.5}}, \"type\": \"bar\"}], \"barpolar\": [{\"marker\": {\"line\": {\"color\": \"#E5ECF6\", \"width\": 0.5}}, \"type\": \"barpolar\"}], \"carpet\": [{\"aaxis\": {\"endlinecolor\": \"#2a3f5f\", \"gridcolor\": \"white\", \"linecolor\": \"white\", \"minorgridcolor\": \"white\", \"startlinecolor\": \"#2a3f5f\"}, \"baxis\": {\"endlinecolor\": \"#2a3f5f\", \"gridcolor\": \"white\", \"linecolor\": \"white\", \"minorgridcolor\": \"white\", \"startlinecolor\": \"#2a3f5f\"}, \"type\": \"carpet\"}], \"choropleth\": [{\"colorbar\": {\"outlinewidth\": 0, \"ticks\": \"\"}, \"type\": \"choropleth\"}], \"contour\": [{\"colorbar\": {\"outlinewidth\": 0, \"ticks\": \"\"}, \"colorscale\": [[0.0, \"#0d0887\"], [0.1111111111111111, \"#46039f\"], [0.2222222222222222, \"#7201a8\"], [0.3333333333333333, \"#9c179e\"], [0.4444444444444444, \"#bd3786\"], [0.5555555555555556, \"#d8576b\"], [0.6666666666666666, \"#ed7953\"], [0.7777777777777778, \"#fb9f3a\"], [0.8888888888888888, \"#fdca26\"], [1.0, \"#f0f921\"]], \"type\": \"contour\"}], \"contourcarpet\": [{\"colorbar\": {\"outlinewidth\": 0, \"ticks\": \"\"}, \"type\": \"contourcarpet\"}], \"heatmap\": [{\"colorbar\": {\"outlinewidth\": 0, \"ticks\": \"\"}, \"colorscale\": [[0.0, \"#0d0887\"], [0.1111111111111111, \"#46039f\"], [0.2222222222222222, \"#7201a8\"], [0.3333333333333333, \"#9c179e\"], [0.4444444444444444, \"#bd3786\"], [0.5555555555555556, \"#d8576b\"], [0.6666666666666666, \"#ed7953\"], [0.7777777777777778, \"#fb9f3a\"], [0.8888888888888888, \"#fdca26\"], [1.0, \"#f0f921\"]], \"type\": \"heatmap\"}], \"heatmapgl\": [{\"colorbar\": {\"outlinewidth\": 0, \"ticks\": \"\"}, \"colorscale\": [[0.0, \"#0d0887\"], [0.1111111111111111, \"#46039f\"], [0.2222222222222222, \"#7201a8\"], [0.3333333333333333, \"#9c179e\"], [0.4444444444444444, \"#bd3786\"], [0.5555555555555556, \"#d8576b\"], [0.6666666666666666, \"#ed7953\"], [0.7777777777777778, \"#fb9f3a\"], [0.8888888888888888, \"#fdca26\"], [1.0, \"#f0f921\"]], \"type\": \"heatmapgl\"}], \"histogram\": [{\"marker\": {\"colorbar\": {\"outlinewidth\": 0, \"ticks\": \"\"}}, \"type\": \"histogram\"}], \"histogram2d\": [{\"colorbar\": {\"outlinewidth\": 0, \"ticks\": \"\"}, \"colorscale\": [[0.0, \"#0d0887\"], [0.1111111111111111, \"#46039f\"], [0.2222222222222222, \"#7201a8\"], [0.3333333333333333, \"#9c179e\"], [0.4444444444444444, \"#bd3786\"], [0.5555555555555556, \"#d8576b\"], [0.6666666666666666, \"#ed7953\"], [0.7777777777777778, \"#fb9f3a\"], [0.8888888888888888, \"#fdca26\"], [1.0, \"#f0f921\"]], \"type\": \"histogram2d\"}], \"histogram2dcontour\": [{\"colorbar\": {\"outlinewidth\": 0, \"ticks\": \"\"}, \"colorscale\": [[0.0, \"#0d0887\"], [0.1111111111111111, \"#46039f\"], [0.2222222222222222, \"#7201a8\"], [0.3333333333333333, \"#9c179e\"], [0.4444444444444444, \"#bd3786\"], [0.5555555555555556, \"#d8576b\"], [0.6666666666666666, \"#ed7953\"], [0.7777777777777778, \"#fb9f3a\"], [0.8888888888888888, \"#fdca26\"], [1.0, \"#f0f921\"]], \"type\": \"histogram2dcontour\"}], \"mesh3d\": [{\"colorbar\": {\"outlinewidth\": 0, \"ticks\": \"\"}, \"type\": \"mesh3d\"}], \"parcoords\": [{\"line\": {\"colorbar\": {\"outlinewidth\": 0, \"ticks\": \"\"}}, \"type\": \"parcoords\"}], \"pie\": [{\"automargin\": true, \"type\": \"pie\"}], \"scatter\": [{\"marker\": {\"colorbar\": {\"outlinewidth\": 0, \"ticks\": \"\"}}, \"type\": \"scatter\"}], \"scatter3d\": [{\"line\": {\"colorbar\": {\"outlinewidth\": 0, \"ticks\": \"\"}}, \"marker\": {\"colorbar\": {\"outlinewidth\": 0, \"ticks\": \"\"}}, \"type\": \"scatter3d\"}], \"scattercarpet\": [{\"marker\": {\"colorbar\": {\"outlinewidth\": 0, \"ticks\": \"\"}}, \"type\": \"scattercarpet\"}], \"scattergeo\": [{\"marker\": {\"colorbar\": {\"outlinewidth\": 0, \"ticks\": \"\"}}, \"type\": \"scattergeo\"}], \"scattergl\": [{\"marker\": {\"colorbar\": {\"outlinewidth\": 0, \"ticks\": \"\"}}, \"type\": \"scattergl\"}], \"scattermapbox\": [{\"marker\": {\"colorbar\": {\"outlinewidth\": 0, \"ticks\": \"\"}}, \"type\": \"scattermapbox\"}], \"scatterpolar\": [{\"marker\": {\"colorbar\": {\"outlinewidth\": 0, \"ticks\": \"\"}}, \"type\": \"scatterpolar\"}], \"scatterpolargl\": [{\"marker\": {\"colorbar\": {\"outlinewidth\": 0, \"ticks\": \"\"}}, \"type\": \"scatterpolargl\"}], \"scatterternary\": [{\"marker\": {\"colorbar\": {\"outlinewidth\": 0, \"ticks\": \"\"}}, \"type\": \"scatterternary\"}], \"surface\": [{\"colorbar\": {\"outlinewidth\": 0, \"ticks\": \"\"}, \"colorscale\": [[0.0, \"#0d0887\"], [0.1111111111111111, \"#46039f\"], [0.2222222222222222, \"#7201a8\"], [0.3333333333333333, \"#9c179e\"], [0.4444444444444444, \"#bd3786\"], [0.5555555555555556, \"#d8576b\"], [0.6666666666666666, \"#ed7953\"], [0.7777777777777778, \"#fb9f3a\"], [0.8888888888888888, \"#fdca26\"], [1.0, \"#f0f921\"]], \"type\": \"surface\"}], \"table\": [{\"cells\": {\"fill\": {\"color\": \"#EBF0F8\"}, \"line\": {\"color\": \"white\"}}, \"header\": {\"fill\": {\"color\": \"#C8D4E3\"}, \"line\": {\"color\": \"white\"}}, \"type\": \"table\"}]}, \"layout\": {\"annotationdefaults\": {\"arrowcolor\": \"#2a3f5f\", \"arrowhead\": 0, \"arrowwidth\": 1}, \"coloraxis\": {\"colorbar\": {\"outlinewidth\": 0, \"ticks\": \"\"}}, \"colorscale\": {\"diverging\": [[0, \"#8e0152\"], [0.1, \"#c51b7d\"], [0.2, \"#de77ae\"], [0.3, \"#f1b6da\"], [0.4, \"#fde0ef\"], [0.5, \"#f7f7f7\"], [0.6, \"#e6f5d0\"], [0.7, \"#b8e186\"], [0.8, \"#7fbc41\"], [0.9, \"#4d9221\"], [1, \"#276419\"]], \"sequential\": [[0.0, \"#0d0887\"], [0.1111111111111111, \"#46039f\"], [0.2222222222222222, \"#7201a8\"], [0.3333333333333333, \"#9c179e\"], [0.4444444444444444, \"#bd3786\"], [0.5555555555555556, \"#d8576b\"], [0.6666666666666666, \"#ed7953\"], [0.7777777777777778, \"#fb9f3a\"], [0.8888888888888888, \"#fdca26\"], [1.0, \"#f0f921\"]], \"sequentialminus\": [[0.0, \"#0d0887\"], [0.1111111111111111, \"#46039f\"], [0.2222222222222222, \"#7201a8\"], [0.3333333333333333, \"#9c179e\"], [0.4444444444444444, \"#bd3786\"], [0.5555555555555556, \"#d8576b\"], [0.6666666666666666, \"#ed7953\"], [0.7777777777777778, \"#fb9f3a\"], [0.8888888888888888, \"#fdca26\"], [1.0, \"#f0f921\"]]}, \"colorway\": [\"#636efa\", \"#EF553B\", \"#00cc96\", \"#ab63fa\", \"#FFA15A\", \"#19d3f3\", \"#FF6692\", \"#B6E880\", \"#FF97FF\", \"#FECB52\"], \"font\": {\"color\": \"#2a3f5f\"}, \"geo\": {\"bgcolor\": \"white\", \"lakecolor\": \"white\", \"landcolor\": \"#E5ECF6\", \"showlakes\": true, \"showland\": true, \"subunitcolor\": \"white\"}, \"hoverlabel\": {\"align\": \"left\"}, \"hovermode\": \"closest\", \"mapbox\": {\"style\": \"light\"}, \"paper_bgcolor\": \"white\", \"plot_bgcolor\": \"#E5ECF6\", \"polar\": {\"angularaxis\": {\"gridcolor\": \"white\", \"linecolor\": \"white\", \"ticks\": \"\"}, \"bgcolor\": \"#E5ECF6\", \"radialaxis\": {\"gridcolor\": \"white\", \"linecolor\": \"white\", \"ticks\": \"\"}}, \"scene\": {\"xaxis\": {\"backgroundcolor\": \"#E5ECF6\", \"gridcolor\": \"white\", \"gridwidth\": 2, \"linecolor\": \"white\", \"showbackground\": true, \"ticks\": \"\", \"zerolinecolor\": \"white\"}, \"yaxis\": {\"backgroundcolor\": \"#E5ECF6\", \"gridcolor\": \"white\", \"gridwidth\": 2, \"linecolor\": \"white\", \"showbackground\": true, \"ticks\": \"\", \"zerolinecolor\": \"white\"}, \"zaxis\": {\"backgroundcolor\": \"#E5ECF6\", \"gridcolor\": \"white\", \"gridwidth\": 2, \"linecolor\": \"white\", \"showbackground\": true, \"ticks\": \"\", \"zerolinecolor\": \"white\"}}, \"shapedefaults\": {\"line\": {\"color\": \"#2a3f5f\"}}, \"ternary\": {\"aaxis\": {\"gridcolor\": \"white\", \"linecolor\": \"white\", \"ticks\": \"\"}, \"baxis\": {\"gridcolor\": \"white\", \"linecolor\": \"white\", \"ticks\": \"\"}, \"bgcolor\": \"#E5ECF6\", \"caxis\": {\"gridcolor\": \"white\", \"linecolor\": \"white\", \"ticks\": \"\"}}, \"title\": {\"x\": 0.05}, \"xaxis\": {\"automargin\": true, \"gridcolor\": \"white\", \"linecolor\": \"white\", \"ticks\": \"\", \"title\": {\"standoff\": 15}, \"zerolinecolor\": \"white\", \"zerolinewidth\": 2}, \"yaxis\": {\"automargin\": true, \"gridcolor\": \"white\", \"linecolor\": \"white\", \"ticks\": \"\", \"title\": {\"standoff\": 15}, \"zerolinecolor\": \"white\", \"zerolinewidth\": 2}}}, \"xaxis\": {\"anchor\": \"y\", \"domain\": [0.0, 1.0], \"title\": {\"text\": \"x\"}}, \"yaxis\": {\"anchor\": \"x\", \"domain\": [0.0, 1.0], \"title\": {\"text\": \"y\"}}},\n",
       "                        {\"responsive\": true}\n",
       "                    ).then(function(){\n",
       "                            \n",
       "var gd = document.getElementById('08a70451-3eab-48f3-8614-f4967be09f8e');\n",
       "var x = new MutationObserver(function (mutations, observer) {{\n",
       "        var display = window.getComputedStyle(gd).display;\n",
       "        if (!display || display === 'none') {{\n",
       "            console.log([gd, 'removed!']);\n",
       "            Plotly.purge(gd);\n",
       "            observer.disconnect();\n",
       "        }}\n",
       "}});\n",
       "\n",
       "// Listen for the removal of the full notebook cells\n",
       "var notebookContainer = gd.closest('#notebook-container');\n",
       "if (notebookContainer) {{\n",
       "    x.observe(notebookContainer, {childList: true});\n",
       "}}\n",
       "\n",
       "// Listen for the clearing of the current output cell\n",
       "var outputEl = gd.closest('.output');\n",
       "if (outputEl) {{\n",
       "    x.observe(outputEl, {childList: true});\n",
       "}}\n",
       "\n",
       "                        })\n",
       "                };\n",
       "                });\n",
       "            </script>\n",
       "        </div>"
      ]
     },
     "metadata": {},
     "output_type": "display_data"
    }
   ],
   "source": [
    "px.bar(x = train_df[train_df.target == 1].dow.value_counts().keys()\n",
    "      , y = train_df[train_df.target == 1].dow.value_counts()\n",
    "      )"
   ]
  },
  {
   "cell_type": "code",
   "execution_count": 26,
   "metadata": {},
   "outputs": [
    {
     "data": {
      "application/vnd.plotly.v1+json": {
       "config": {
        "plotlyServerURL": "https://plot.ly"
       },
       "data": [
        {
         "alignmentgroup": "True",
         "hoverlabel": {
          "namelength": 0
         },
         "hovertemplate": "x=%{x}<br>y=%{y}",
         "legendgroup": "",
         "marker": {
          "color": "#636efa"
         },
         "name": "",
         "offsetgroup": "",
         "orientation": "v",
         "showlegend": false,
         "textposition": "auto",
         "type": "bar",
         "x": [
          2,
          1,
          3,
          4,
          0,
          5,
          6
         ],
         "xaxis": "x",
         "y": [
          55933,
          48151,
          43660,
          40794,
          39637,
          15758,
          7331
         ],
         "yaxis": "y"
        }
       ],
       "layout": {
        "autosize": true,
        "barmode": "relative",
        "legend": {
         "tracegroupgap": 0
        },
        "margin": {
         "t": 60
        },
        "template": {
         "data": {
          "bar": [
           {
            "error_x": {
             "color": "#2a3f5f"
            },
            "error_y": {
             "color": "#2a3f5f"
            },
            "marker": {
             "line": {
              "color": "#E5ECF6",
              "width": 0.5
             }
            },
            "type": "bar"
           }
          ],
          "barpolar": [
           {
            "marker": {
             "line": {
              "color": "#E5ECF6",
              "width": 0.5
             }
            },
            "type": "barpolar"
           }
          ],
          "carpet": [
           {
            "aaxis": {
             "endlinecolor": "#2a3f5f",
             "gridcolor": "white",
             "linecolor": "white",
             "minorgridcolor": "white",
             "startlinecolor": "#2a3f5f"
            },
            "baxis": {
             "endlinecolor": "#2a3f5f",
             "gridcolor": "white",
             "linecolor": "white",
             "minorgridcolor": "white",
             "startlinecolor": "#2a3f5f"
            },
            "type": "carpet"
           }
          ],
          "choropleth": [
           {
            "colorbar": {
             "outlinewidth": 0,
             "ticks": ""
            },
            "type": "choropleth"
           }
          ],
          "contour": [
           {
            "colorbar": {
             "outlinewidth": 0,
             "ticks": ""
            },
            "colorscale": [
             [
              0,
              "#0d0887"
             ],
             [
              0.1111111111111111,
              "#46039f"
             ],
             [
              0.2222222222222222,
              "#7201a8"
             ],
             [
              0.3333333333333333,
              "#9c179e"
             ],
             [
              0.4444444444444444,
              "#bd3786"
             ],
             [
              0.5555555555555556,
              "#d8576b"
             ],
             [
              0.6666666666666666,
              "#ed7953"
             ],
             [
              0.7777777777777778,
              "#fb9f3a"
             ],
             [
              0.8888888888888888,
              "#fdca26"
             ],
             [
              1,
              "#f0f921"
             ]
            ],
            "type": "contour"
           }
          ],
          "contourcarpet": [
           {
            "colorbar": {
             "outlinewidth": 0,
             "ticks": ""
            },
            "type": "contourcarpet"
           }
          ],
          "heatmap": [
           {
            "colorbar": {
             "outlinewidth": 0,
             "ticks": ""
            },
            "colorscale": [
             [
              0,
              "#0d0887"
             ],
             [
              0.1111111111111111,
              "#46039f"
             ],
             [
              0.2222222222222222,
              "#7201a8"
             ],
             [
              0.3333333333333333,
              "#9c179e"
             ],
             [
              0.4444444444444444,
              "#bd3786"
             ],
             [
              0.5555555555555556,
              "#d8576b"
             ],
             [
              0.6666666666666666,
              "#ed7953"
             ],
             [
              0.7777777777777778,
              "#fb9f3a"
             ],
             [
              0.8888888888888888,
              "#fdca26"
             ],
             [
              1,
              "#f0f921"
             ]
            ],
            "type": "heatmap"
           }
          ],
          "heatmapgl": [
           {
            "colorbar": {
             "outlinewidth": 0,
             "ticks": ""
            },
            "colorscale": [
             [
              0,
              "#0d0887"
             ],
             [
              0.1111111111111111,
              "#46039f"
             ],
             [
              0.2222222222222222,
              "#7201a8"
             ],
             [
              0.3333333333333333,
              "#9c179e"
             ],
             [
              0.4444444444444444,
              "#bd3786"
             ],
             [
              0.5555555555555556,
              "#d8576b"
             ],
             [
              0.6666666666666666,
              "#ed7953"
             ],
             [
              0.7777777777777778,
              "#fb9f3a"
             ],
             [
              0.8888888888888888,
              "#fdca26"
             ],
             [
              1,
              "#f0f921"
             ]
            ],
            "type": "heatmapgl"
           }
          ],
          "histogram": [
           {
            "marker": {
             "colorbar": {
              "outlinewidth": 0,
              "ticks": ""
             }
            },
            "type": "histogram"
           }
          ],
          "histogram2d": [
           {
            "colorbar": {
             "outlinewidth": 0,
             "ticks": ""
            },
            "colorscale": [
             [
              0,
              "#0d0887"
             ],
             [
              0.1111111111111111,
              "#46039f"
             ],
             [
              0.2222222222222222,
              "#7201a8"
             ],
             [
              0.3333333333333333,
              "#9c179e"
             ],
             [
              0.4444444444444444,
              "#bd3786"
             ],
             [
              0.5555555555555556,
              "#d8576b"
             ],
             [
              0.6666666666666666,
              "#ed7953"
             ],
             [
              0.7777777777777778,
              "#fb9f3a"
             ],
             [
              0.8888888888888888,
              "#fdca26"
             ],
             [
              1,
              "#f0f921"
             ]
            ],
            "type": "histogram2d"
           }
          ],
          "histogram2dcontour": [
           {
            "colorbar": {
             "outlinewidth": 0,
             "ticks": ""
            },
            "colorscale": [
             [
              0,
              "#0d0887"
             ],
             [
              0.1111111111111111,
              "#46039f"
             ],
             [
              0.2222222222222222,
              "#7201a8"
             ],
             [
              0.3333333333333333,
              "#9c179e"
             ],
             [
              0.4444444444444444,
              "#bd3786"
             ],
             [
              0.5555555555555556,
              "#d8576b"
             ],
             [
              0.6666666666666666,
              "#ed7953"
             ],
             [
              0.7777777777777778,
              "#fb9f3a"
             ],
             [
              0.8888888888888888,
              "#fdca26"
             ],
             [
              1,
              "#f0f921"
             ]
            ],
            "type": "histogram2dcontour"
           }
          ],
          "mesh3d": [
           {
            "colorbar": {
             "outlinewidth": 0,
             "ticks": ""
            },
            "type": "mesh3d"
           }
          ],
          "parcoords": [
           {
            "line": {
             "colorbar": {
              "outlinewidth": 0,
              "ticks": ""
             }
            },
            "type": "parcoords"
           }
          ],
          "pie": [
           {
            "automargin": true,
            "type": "pie"
           }
          ],
          "scatter": [
           {
            "marker": {
             "colorbar": {
              "outlinewidth": 0,
              "ticks": ""
             }
            },
            "type": "scatter"
           }
          ],
          "scatter3d": [
           {
            "line": {
             "colorbar": {
              "outlinewidth": 0,
              "ticks": ""
             }
            },
            "marker": {
             "colorbar": {
              "outlinewidth": 0,
              "ticks": ""
             }
            },
            "type": "scatter3d"
           }
          ],
          "scattercarpet": [
           {
            "marker": {
             "colorbar": {
              "outlinewidth": 0,
              "ticks": ""
             }
            },
            "type": "scattercarpet"
           }
          ],
          "scattergeo": [
           {
            "marker": {
             "colorbar": {
              "outlinewidth": 0,
              "ticks": ""
             }
            },
            "type": "scattergeo"
           }
          ],
          "scattergl": [
           {
            "marker": {
             "colorbar": {
              "outlinewidth": 0,
              "ticks": ""
             }
            },
            "type": "scattergl"
           }
          ],
          "scattermapbox": [
           {
            "marker": {
             "colorbar": {
              "outlinewidth": 0,
              "ticks": ""
             }
            },
            "type": "scattermapbox"
           }
          ],
          "scatterpolar": [
           {
            "marker": {
             "colorbar": {
              "outlinewidth": 0,
              "ticks": ""
             }
            },
            "type": "scatterpolar"
           }
          ],
          "scatterpolargl": [
           {
            "marker": {
             "colorbar": {
              "outlinewidth": 0,
              "ticks": ""
             }
            },
            "type": "scatterpolargl"
           }
          ],
          "scatterternary": [
           {
            "marker": {
             "colorbar": {
              "outlinewidth": 0,
              "ticks": ""
             }
            },
            "type": "scatterternary"
           }
          ],
          "surface": [
           {
            "colorbar": {
             "outlinewidth": 0,
             "ticks": ""
            },
            "colorscale": [
             [
              0,
              "#0d0887"
             ],
             [
              0.1111111111111111,
              "#46039f"
             ],
             [
              0.2222222222222222,
              "#7201a8"
             ],
             [
              0.3333333333333333,
              "#9c179e"
             ],
             [
              0.4444444444444444,
              "#bd3786"
             ],
             [
              0.5555555555555556,
              "#d8576b"
             ],
             [
              0.6666666666666666,
              "#ed7953"
             ],
             [
              0.7777777777777778,
              "#fb9f3a"
             ],
             [
              0.8888888888888888,
              "#fdca26"
             ],
             [
              1,
              "#f0f921"
             ]
            ],
            "type": "surface"
           }
          ],
          "table": [
           {
            "cells": {
             "fill": {
              "color": "#EBF0F8"
             },
             "line": {
              "color": "white"
             }
            },
            "header": {
             "fill": {
              "color": "#C8D4E3"
             },
             "line": {
              "color": "white"
             }
            },
            "type": "table"
           }
          ]
         },
         "layout": {
          "annotationdefaults": {
           "arrowcolor": "#2a3f5f",
           "arrowhead": 0,
           "arrowwidth": 1
          },
          "coloraxis": {
           "colorbar": {
            "outlinewidth": 0,
            "ticks": ""
           }
          },
          "colorscale": {
           "diverging": [
            [
             0,
             "#8e0152"
            ],
            [
             0.1,
             "#c51b7d"
            ],
            [
             0.2,
             "#de77ae"
            ],
            [
             0.3,
             "#f1b6da"
            ],
            [
             0.4,
             "#fde0ef"
            ],
            [
             0.5,
             "#f7f7f7"
            ],
            [
             0.6,
             "#e6f5d0"
            ],
            [
             0.7,
             "#b8e186"
            ],
            [
             0.8,
             "#7fbc41"
            ],
            [
             0.9,
             "#4d9221"
            ],
            [
             1,
             "#276419"
            ]
           ],
           "sequential": [
            [
             0,
             "#0d0887"
            ],
            [
             0.1111111111111111,
             "#46039f"
            ],
            [
             0.2222222222222222,
             "#7201a8"
            ],
            [
             0.3333333333333333,
             "#9c179e"
            ],
            [
             0.4444444444444444,
             "#bd3786"
            ],
            [
             0.5555555555555556,
             "#d8576b"
            ],
            [
             0.6666666666666666,
             "#ed7953"
            ],
            [
             0.7777777777777778,
             "#fb9f3a"
            ],
            [
             0.8888888888888888,
             "#fdca26"
            ],
            [
             1,
             "#f0f921"
            ]
           ],
           "sequentialminus": [
            [
             0,
             "#0d0887"
            ],
            [
             0.1111111111111111,
             "#46039f"
            ],
            [
             0.2222222222222222,
             "#7201a8"
            ],
            [
             0.3333333333333333,
             "#9c179e"
            ],
            [
             0.4444444444444444,
             "#bd3786"
            ],
            [
             0.5555555555555556,
             "#d8576b"
            ],
            [
             0.6666666666666666,
             "#ed7953"
            ],
            [
             0.7777777777777778,
             "#fb9f3a"
            ],
            [
             0.8888888888888888,
             "#fdca26"
            ],
            [
             1,
             "#f0f921"
            ]
           ]
          },
          "colorway": [
           "#636efa",
           "#EF553B",
           "#00cc96",
           "#ab63fa",
           "#FFA15A",
           "#19d3f3",
           "#FF6692",
           "#B6E880",
           "#FF97FF",
           "#FECB52"
          ],
          "font": {
           "color": "#2a3f5f"
          },
          "geo": {
           "bgcolor": "white",
           "lakecolor": "white",
           "landcolor": "#E5ECF6",
           "showlakes": true,
           "showland": true,
           "subunitcolor": "white"
          },
          "hoverlabel": {
           "align": "left"
          },
          "hovermode": "closest",
          "mapbox": {
           "style": "light"
          },
          "paper_bgcolor": "white",
          "plot_bgcolor": "#E5ECF6",
          "polar": {
           "angularaxis": {
            "gridcolor": "white",
            "linecolor": "white",
            "ticks": ""
           },
           "bgcolor": "#E5ECF6",
           "radialaxis": {
            "gridcolor": "white",
            "linecolor": "white",
            "ticks": ""
           }
          },
          "scene": {
           "xaxis": {
            "backgroundcolor": "#E5ECF6",
            "gridcolor": "white",
            "gridwidth": 2,
            "linecolor": "white",
            "showbackground": true,
            "ticks": "",
            "zerolinecolor": "white"
           },
           "yaxis": {
            "backgroundcolor": "#E5ECF6",
            "gridcolor": "white",
            "gridwidth": 2,
            "linecolor": "white",
            "showbackground": true,
            "ticks": "",
            "zerolinecolor": "white"
           },
           "zaxis": {
            "backgroundcolor": "#E5ECF6",
            "gridcolor": "white",
            "gridwidth": 2,
            "linecolor": "white",
            "showbackground": true,
            "ticks": "",
            "zerolinecolor": "white"
           }
          },
          "shapedefaults": {
           "line": {
            "color": "#2a3f5f"
           }
          },
          "ternary": {
           "aaxis": {
            "gridcolor": "white",
            "linecolor": "white",
            "ticks": ""
           },
           "baxis": {
            "gridcolor": "white",
            "linecolor": "white",
            "ticks": ""
           },
           "bgcolor": "#E5ECF6",
           "caxis": {
            "gridcolor": "white",
            "linecolor": "white",
            "ticks": ""
           }
          },
          "title": {
           "x": 0.05
          },
          "xaxis": {
           "automargin": true,
           "gridcolor": "white",
           "linecolor": "white",
           "ticks": "",
           "title": {
            "standoff": 15
           },
           "zerolinecolor": "white",
           "zerolinewidth": 2
          },
          "yaxis": {
           "automargin": true,
           "gridcolor": "white",
           "linecolor": "white",
           "ticks": "",
           "title": {
            "standoff": 15
           },
           "zerolinecolor": "white",
           "zerolinewidth": 2
          }
         }
        },
        "xaxis": {
         "anchor": "y",
         "autorange": true,
         "domain": [
          0,
          1
         ],
         "range": [
          -0.5,
          6.5
         ],
         "title": {
          "text": "x"
         },
         "type": "linear"
        },
        "yaxis": {
         "anchor": "x",
         "autorange": true,
         "domain": [
          0,
          1
         ],
         "range": [
          0,
          58876.84210526316
         ],
         "title": {
          "text": "y"
         },
         "type": "linear"
        }
       }
      },
      "image/png": "[encoded data removed]",
      "text/html": [
       "<div>\n",
       "        \n",
       "        \n",
       "            <div id=\"24f7aa28-0ccf-4f6c-b831-d49e48fa5c39\" class=\"plotly-graph-div\" style=\"height:525px; width:100%;\"></div>\n",
       "            <script type=\"text/javascript\">\n",
       "                require([\"plotly\"], function(Plotly) {\n",
       "                    window.PLOTLYENV=window.PLOTLYENV || {};\n",
       "                    \n",
       "                if (document.getElementById(\"24f7aa28-0ccf-4f6c-b831-d49e48fa5c39\")) {\n",
       "                    Plotly.newPlot(\n",
       "                        '24f7aa28-0ccf-4f6c-b831-d49e48fa5c39',\n",
       "                        [{\"alignmentgroup\": \"True\", \"hoverlabel\": {\"namelength\": 0}, \"hovertemplate\": \"x=%{x}<br>y=%{y}\", \"legendgroup\": \"\", \"marker\": {\"color\": \"#636efa\"}, \"name\": \"\", \"offsetgroup\": \"\", \"orientation\": \"v\", \"showlegend\": false, \"textposition\": \"auto\", \"type\": \"bar\", \"x\": [2, 1, 3, 4, 0, 5, 6], \"xaxis\": \"x\", \"y\": [55933, 48151, 43660, 40794, 39637, 15758, 7331], \"yaxis\": \"y\"}],\n",
       "                        {\"barmode\": \"relative\", \"legend\": {\"tracegroupgap\": 0}, \"margin\": {\"t\": 60}, \"template\": {\"data\": {\"bar\": [{\"error_x\": {\"color\": \"#2a3f5f\"}, \"error_y\": {\"color\": \"#2a3f5f\"}, \"marker\": {\"line\": {\"color\": \"#E5ECF6\", \"width\": 0.5}}, \"type\": \"bar\"}], \"barpolar\": [{\"marker\": {\"line\": {\"color\": \"#E5ECF6\", \"width\": 0.5}}, \"type\": \"barpolar\"}], \"carpet\": [{\"aaxis\": {\"endlinecolor\": \"#2a3f5f\", \"gridcolor\": \"white\", \"linecolor\": \"white\", \"minorgridcolor\": \"white\", \"startlinecolor\": \"#2a3f5f\"}, \"baxis\": {\"endlinecolor\": \"#2a3f5f\", \"gridcolor\": \"white\", \"linecolor\": \"white\", \"minorgridcolor\": \"white\", \"startlinecolor\": \"#2a3f5f\"}, \"type\": \"carpet\"}], \"choropleth\": [{\"colorbar\": {\"outlinewidth\": 0, \"ticks\": \"\"}, \"type\": \"choropleth\"}], \"contour\": [{\"colorbar\": {\"outlinewidth\": 0, \"ticks\": \"\"}, \"colorscale\": [[0.0, \"#0d0887\"], [0.1111111111111111, \"#46039f\"], [0.2222222222222222, \"#7201a8\"], [0.3333333333333333, \"#9c179e\"], [0.4444444444444444, \"#bd3786\"], [0.5555555555555556, \"#d8576b\"], [0.6666666666666666, \"#ed7953\"], [0.7777777777777778, \"#fb9f3a\"], [0.8888888888888888, \"#fdca26\"], [1.0, \"#f0f921\"]], \"type\": \"contour\"}], \"contourcarpet\": [{\"colorbar\": {\"outlinewidth\": 0, \"ticks\": \"\"}, \"type\": \"contourcarpet\"}], \"heatmap\": [{\"colorbar\": {\"outlinewidth\": 0, \"ticks\": \"\"}, \"colorscale\": [[0.0, \"#0d0887\"], [0.1111111111111111, \"#46039f\"], [0.2222222222222222, \"#7201a8\"], [0.3333333333333333, \"#9c179e\"], [0.4444444444444444, \"#bd3786\"], [0.5555555555555556, \"#d8576b\"], [0.6666666666666666, \"#ed7953\"], [0.7777777777777778, \"#fb9f3a\"], [0.8888888888888888, \"#fdca26\"], [1.0, \"#f0f921\"]], \"type\": \"heatmap\"}], \"heatmapgl\": [{\"colorbar\": {\"outlinewidth\": 0, \"ticks\": \"\"}, \"colorscale\": [[0.0, \"#0d0887\"], [0.1111111111111111, \"#46039f\"], [0.2222222222222222, \"#7201a8\"], [0.3333333333333333, \"#9c179e\"], [0.4444444444444444, \"#bd3786\"], [0.5555555555555556, \"#d8576b\"], [0.6666666666666666, \"#ed7953\"], [0.7777777777777778, \"#fb9f3a\"], [0.8888888888888888, \"#fdca26\"], [1.0, \"#f0f921\"]], \"type\": \"heatmapgl\"}], \"histogram\": [{\"marker\": {\"colorbar\": {\"outlinewidth\": 0, \"ticks\": \"\"}}, \"type\": \"histogram\"}], \"histogram2d\": [{\"colorbar\": {\"outlinewidth\": 0, \"ticks\": \"\"}, \"colorscale\": [[0.0, \"#0d0887\"], [0.1111111111111111, \"#46039f\"], [0.2222222222222222, \"#7201a8\"], [0.3333333333333333, \"#9c179e\"], [0.4444444444444444, \"#bd3786\"], [0.5555555555555556, \"#d8576b\"], [0.6666666666666666, \"#ed7953\"], [0.7777777777777778, \"#fb9f3a\"], [0.8888888888888888, \"#fdca26\"], [1.0, \"#f0f921\"]], \"type\": \"histogram2d\"}], \"histogram2dcontour\": [{\"colorbar\": {\"outlinewidth\": 0, \"ticks\": \"\"}, \"colorscale\": [[0.0, \"#0d0887\"], [0.1111111111111111, \"#46039f\"], [0.2222222222222222, \"#7201a8\"], [0.3333333333333333, \"#9c179e\"], [0.4444444444444444, \"#bd3786\"], [0.5555555555555556, \"#d8576b\"], [0.6666666666666666, \"#ed7953\"], [0.7777777777777778, \"#fb9f3a\"], [0.8888888888888888, \"#fdca26\"], [1.0, \"#f0f921\"]], \"type\": \"histogram2dcontour\"}], \"mesh3d\": [{\"colorbar\": {\"outlinewidth\": 0, \"ticks\": \"\"}, \"type\": \"mesh3d\"}], \"parcoords\": [{\"line\": {\"colorbar\": {\"outlinewidth\": 0, \"ticks\": \"\"}}, \"type\": \"parcoords\"}], \"pie\": [{\"automargin\": true, \"type\": \"pie\"}], \"scatter\": [{\"marker\": {\"colorbar\": {\"outlinewidth\": 0, \"ticks\": \"\"}}, \"type\": \"scatter\"}], \"scatter3d\": [{\"line\": {\"colorbar\": {\"outlinewidth\": 0, \"ticks\": \"\"}}, \"marker\": {\"colorbar\": {\"outlinewidth\": 0, \"ticks\": \"\"}}, \"type\": \"scatter3d\"}], \"scattercarpet\": [{\"marker\": {\"colorbar\": {\"outlinewidth\": 0, \"ticks\": \"\"}}, \"type\": \"scattercarpet\"}], \"scattergeo\": [{\"marker\": {\"colorbar\": {\"outlinewidth\": 0, \"ticks\": \"\"}}, \"type\": \"scattergeo\"}], \"scattergl\": [{\"marker\": {\"colorbar\": {\"outlinewidth\": 0, \"ticks\": \"\"}}, \"type\": \"scattergl\"}], \"scattermapbox\": [{\"marker\": {\"colorbar\": {\"outlinewidth\": 0, \"ticks\": \"\"}}, \"type\": \"scattermapbox\"}], \"scatterpolar\": [{\"marker\": {\"colorbar\": {\"outlinewidth\": 0, \"ticks\": \"\"}}, \"type\": \"scatterpolar\"}], \"scatterpolargl\": [{\"marker\": {\"colorbar\": {\"outlinewidth\": 0, \"ticks\": \"\"}}, \"type\": \"scatterpolargl\"}], \"scatterternary\": [{\"marker\": {\"colorbar\": {\"outlinewidth\": 0, \"ticks\": \"\"}}, \"type\": \"scatterternary\"}], \"surface\": [{\"colorbar\": {\"outlinewidth\": 0, \"ticks\": \"\"}, \"colorscale\": [[0.0, \"#0d0887\"], [0.1111111111111111, \"#46039f\"], [0.2222222222222222, \"#7201a8\"], [0.3333333333333333, \"#9c179e\"], [0.4444444444444444, \"#bd3786\"], [0.5555555555555556, \"#d8576b\"], [0.6666666666666666, \"#ed7953\"], [0.7777777777777778, \"#fb9f3a\"], [0.8888888888888888, \"#fdca26\"], [1.0, \"#f0f921\"]], \"type\": \"surface\"}], \"table\": [{\"cells\": {\"fill\": {\"color\": \"#EBF0F8\"}, \"line\": {\"color\": \"white\"}}, \"header\": {\"fill\": {\"color\": \"#C8D4E3\"}, \"line\": {\"color\": \"white\"}}, \"type\": \"table\"}]}, \"layout\": {\"annotationdefaults\": {\"arrowcolor\": \"#2a3f5f\", \"arrowhead\": 0, \"arrowwidth\": 1}, \"coloraxis\": {\"colorbar\": {\"outlinewidth\": 0, \"ticks\": \"\"}}, \"colorscale\": {\"diverging\": [[0, \"#8e0152\"], [0.1, \"#c51b7d\"], [0.2, \"#de77ae\"], [0.3, \"#f1b6da\"], [0.4, \"#fde0ef\"], [0.5, \"#f7f7f7\"], [0.6, \"#e6f5d0\"], [0.7, \"#b8e186\"], [0.8, \"#7fbc41\"], [0.9, \"#4d9221\"], [1, \"#276419\"]], \"sequential\": [[0.0, \"#0d0887\"], [0.1111111111111111, \"#46039f\"], [0.2222222222222222, \"#7201a8\"], [0.3333333333333333, \"#9c179e\"], [0.4444444444444444, \"#bd3786\"], [0.5555555555555556, \"#d8576b\"], [0.6666666666666666, \"#ed7953\"], [0.7777777777777778, \"#fb9f3a\"], [0.8888888888888888, \"#fdca26\"], [1.0, \"#f0f921\"]], \"sequentialminus\": [[0.0, \"#0d0887\"], [0.1111111111111111, \"#46039f\"], [0.2222222222222222, \"#7201a8\"], [0.3333333333333333, \"#9c179e\"], [0.4444444444444444, \"#bd3786\"], [0.5555555555555556, \"#d8576b\"], [0.6666666666666666, \"#ed7953\"], [0.7777777777777778, \"#fb9f3a\"], [0.8888888888888888, \"#fdca26\"], [1.0, \"#f0f921\"]]}, \"colorway\": [\"#636efa\", \"#EF553B\", \"#00cc96\", \"#ab63fa\", \"#FFA15A\", \"#19d3f3\", \"#FF6692\", \"#B6E880\", \"#FF97FF\", \"#FECB52\"], \"font\": {\"color\": \"#2a3f5f\"}, \"geo\": {\"bgcolor\": \"white\", \"lakecolor\": \"white\", \"landcolor\": \"#E5ECF6\", \"showlakes\": true, \"showland\": true, \"subunitcolor\": \"white\"}, \"hoverlabel\": {\"align\": \"left\"}, \"hovermode\": \"closest\", \"mapbox\": {\"style\": \"light\"}, \"paper_bgcolor\": \"white\", \"plot_bgcolor\": \"#E5ECF6\", \"polar\": {\"angularaxis\": {\"gridcolor\": \"white\", \"linecolor\": \"white\", \"ticks\": \"\"}, \"bgcolor\": \"#E5ECF6\", \"radialaxis\": {\"gridcolor\": \"white\", \"linecolor\": \"white\", \"ticks\": \"\"}}, \"scene\": {\"xaxis\": {\"backgroundcolor\": \"#E5ECF6\", \"gridcolor\": \"white\", \"gridwidth\": 2, \"linecolor\": \"white\", \"showbackground\": true, \"ticks\": \"\", \"zerolinecolor\": \"white\"}, \"yaxis\": {\"backgroundcolor\": \"#E5ECF6\", \"gridcolor\": \"white\", \"gridwidth\": 2, \"linecolor\": \"white\", \"showbackground\": true, \"ticks\": \"\", \"zerolinecolor\": \"white\"}, \"zaxis\": {\"backgroundcolor\": \"#E5ECF6\", \"gridcolor\": \"white\", \"gridwidth\": 2, \"linecolor\": \"white\", \"showbackground\": true, \"ticks\": \"\", \"zerolinecolor\": \"white\"}}, \"shapedefaults\": {\"line\": {\"color\": \"#2a3f5f\"}}, \"ternary\": {\"aaxis\": {\"gridcolor\": \"white\", \"linecolor\": \"white\", \"ticks\": \"\"}, \"baxis\": {\"gridcolor\": \"white\", \"linecolor\": \"white\", \"ticks\": \"\"}, \"bgcolor\": \"#E5ECF6\", \"caxis\": {\"gridcolor\": \"white\", \"linecolor\": \"white\", \"ticks\": \"\"}}, \"title\": {\"x\": 0.05}, \"xaxis\": {\"automargin\": true, \"gridcolor\": \"white\", \"linecolor\": \"white\", \"ticks\": \"\", \"title\": {\"standoff\": 15}, \"zerolinecolor\": \"white\", \"zerolinewidth\": 2}, \"yaxis\": {\"automargin\": true, \"gridcolor\": \"white\", \"linecolor\": \"white\", \"ticks\": \"\", \"title\": {\"standoff\": 15}, \"zerolinecolor\": \"white\", \"zerolinewidth\": 2}}}, \"xaxis\": {\"anchor\": \"y\", \"domain\": [0.0, 1.0], \"title\": {\"text\": \"x\"}}, \"yaxis\": {\"anchor\": \"x\", \"domain\": [0.0, 1.0], \"title\": {\"text\": \"y\"}}},\n",
       "                        {\"responsive\": true}\n",
       "                    ).then(function(){\n",
       "                            \n",
       "var gd = document.getElementById('24f7aa28-0ccf-4f6c-b831-d49e48fa5c39');\n",
       "var x = new MutationObserver(function (mutations, observer) {{\n",
       "        var display = window.getComputedStyle(gd).display;\n",
       "        if (!display || display === 'none') {{\n",
       "            console.log([gd, 'removed!']);\n",
       "            Plotly.purge(gd);\n",
       "            observer.disconnect();\n",
       "        }}\n",
       "}});\n",
       "\n",
       "// Listen for the removal of the full notebook cells\n",
       "var notebookContainer = gd.closest('#notebook-container');\n",
       "if (notebookContainer) {{\n",
       "    x.observe(notebookContainer, {childList: true});\n",
       "}}\n",
       "\n",
       "// Listen for the clearing of the current output cell\n",
       "var outputEl = gd.closest('.output');\n",
       "if (outputEl) {{\n",
       "    x.observe(outputEl, {childList: true});\n",
       "}}\n",
       "\n",
       "                        })\n",
       "                };\n",
       "                });\n",
       "            </script>\n",
       "        </div>"
      ]
     },
     "metadata": {},
     "output_type": "display_data"
    }
   ],
   "source": [
    "px.bar(x = train_df[train_df.target == 0].dow.value_counts().keys()\n",
    "      , y = train_df[train_df.target == 0].dow.value_counts()\n",
    "      )"
   ]
  },
  {
   "cell_type": "code",
   "execution_count": 27,
   "metadata": {},
   "outputs": [
    {
     "data": {
      "application/vnd.plotly.v1+json": {
       "config": {
        "plotlyServerURL": "https://plot.ly"
       },
       "data": [
        {
         "alignmentgroup": "True",
         "hoverlabel": {
          "namelength": 0
         },
         "hovertemplate": "x=%{x}<br>y=%{y}",
         "legendgroup": "",
         "marker": {
          "color": "#636efa"
         },
         "name": "",
         "offsetgroup": "",
         "orientation": "v",
         "showlegend": false,
         "textposition": "auto",
         "type": "bar",
         "x": [
          16,
          17,
          12,
          13,
          18,
          15,
          9,
          14,
          11
         ],
         "xaxis": "x",
         "y": [
          879,
          618,
          340,
          196,
          179,
          40,
          38,
          4,
          3
         ],
         "yaxis": "y"
        }
       ],
       "layout": {
        "autosize": true,
        "barmode": "relative",
        "legend": {
         "tracegroupgap": 0
        },
        "margin": {
         "t": 60
        },
        "template": {
         "data": {
          "bar": [
           {
            "error_x": {
             "color": "#2a3f5f"
            },
            "error_y": {
             "color": "#2a3f5f"
            },
            "marker": {
             "line": {
              "color": "#E5ECF6",
              "width": 0.5
             }
            },
            "type": "bar"
           }
          ],
          "barpolar": [
           {
            "marker": {
             "line": {
              "color": "#E5ECF6",
              "width": 0.5
             }
            },
            "type": "barpolar"
           }
          ],
          "carpet": [
           {
            "aaxis": {
             "endlinecolor": "#2a3f5f",
             "gridcolor": "white",
             "linecolor": "white",
             "minorgridcolor": "white",
             "startlinecolor": "#2a3f5f"
            },
            "baxis": {
             "endlinecolor": "#2a3f5f",
             "gridcolor": "white",
             "linecolor": "white",
             "minorgridcolor": "white",
             "startlinecolor": "#2a3f5f"
            },
            "type": "carpet"
           }
          ],
          "choropleth": [
           {
            "colorbar": {
             "outlinewidth": 0,
             "ticks": ""
            },
            "type": "choropleth"
           }
          ],
          "contour": [
           {
            "colorbar": {
             "outlinewidth": 0,
             "ticks": ""
            },
            "colorscale": [
             [
              0,
              "#0d0887"
             ],
             [
              0.1111111111111111,
              "#46039f"
             ],
             [
              0.2222222222222222,
              "#7201a8"
             ],
             [
              0.3333333333333333,
              "#9c179e"
             ],
             [
              0.4444444444444444,
              "#bd3786"
             ],
             [
              0.5555555555555556,
              "#d8576b"
             ],
             [
              0.6666666666666666,
              "#ed7953"
             ],
             [
              0.7777777777777778,
              "#fb9f3a"
             ],
             [
              0.8888888888888888,
              "#fdca26"
             ],
             [
              1,
              "#f0f921"
             ]
            ],
            "type": "contour"
           }
          ],
          "contourcarpet": [
           {
            "colorbar": {
             "outlinewidth": 0,
             "ticks": ""
            },
            "type": "contourcarpet"
           }
          ],
          "heatmap": [
           {
            "colorbar": {
             "outlinewidth": 0,
             "ticks": ""
            },
            "colorscale": [
             [
              0,
              "#0d0887"
             ],
             [
              0.1111111111111111,
              "#46039f"
             ],
             [
              0.2222222222222222,
              "#7201a8"
             ],
             [
              0.3333333333333333,
              "#9c179e"
             ],
             [
              0.4444444444444444,
              "#bd3786"
             ],
             [
              0.5555555555555556,
              "#d8576b"
             ],
             [
              0.6666666666666666,
              "#ed7953"
             ],
             [
              0.7777777777777778,
              "#fb9f3a"
             ],
             [
              0.8888888888888888,
              "#fdca26"
             ],
             [
              1,
              "#f0f921"
             ]
            ],
            "type": "heatmap"
           }
          ],
          "heatmapgl": [
           {
            "colorbar": {
             "outlinewidth": 0,
             "ticks": ""
            },
            "colorscale": [
             [
              0,
              "#0d0887"
             ],
             [
              0.1111111111111111,
              "#46039f"
             ],
             [
              0.2222222222222222,
              "#7201a8"
             ],
             [
              0.3333333333333333,
              "#9c179e"
             ],
             [
              0.4444444444444444,
              "#bd3786"
             ],
             [
              0.5555555555555556,
              "#d8576b"
             ],
             [
              0.6666666666666666,
              "#ed7953"
             ],
             [
              0.7777777777777778,
              "#fb9f3a"
             ],
             [
              0.8888888888888888,
              "#fdca26"
             ],
             [
              1,
              "#f0f921"
             ]
            ],
            "type": "heatmapgl"
           }
          ],
          "histogram": [
           {
            "marker": {
             "colorbar": {
              "outlinewidth": 0,
              "ticks": ""
             }
            },
            "type": "histogram"
           }
          ],
          "histogram2d": [
           {
            "colorbar": {
             "outlinewidth": 0,
             "ticks": ""
            },
            "colorscale": [
             [
              0,
              "#0d0887"
             ],
             [
              0.1111111111111111,
              "#46039f"
             ],
             [
              0.2222222222222222,
              "#7201a8"
             ],
             [
              0.3333333333333333,
              "#9c179e"
             ],
             [
              0.4444444444444444,
              "#bd3786"
             ],
             [
              0.5555555555555556,
              "#d8576b"
             ],
             [
              0.6666666666666666,
              "#ed7953"
             ],
             [
              0.7777777777777778,
              "#fb9f3a"
             ],
             [
              0.8888888888888888,
              "#fdca26"
             ],
             [
              1,
              "#f0f921"
             ]
            ],
            "type": "histogram2d"
           }
          ],
          "histogram2dcontour": [
           {
            "colorbar": {
             "outlinewidth": 0,
             "ticks": ""
            },
            "colorscale": [
             [
              0,
              "#0d0887"
             ],
             [
              0.1111111111111111,
              "#46039f"
             ],
             [
              0.2222222222222222,
              "#7201a8"
             ],
             [
              0.3333333333333333,
              "#9c179e"
             ],
             [
              0.4444444444444444,
              "#bd3786"
             ],
             [
              0.5555555555555556,
              "#d8576b"
             ],
             [
              0.6666666666666666,
              "#ed7953"
             ],
             [
              0.7777777777777778,
              "#fb9f3a"
             ],
             [
              0.8888888888888888,
              "#fdca26"
             ],
             [
              1,
              "#f0f921"
             ]
            ],
            "type": "histogram2dcontour"
           }
          ],
          "mesh3d": [
           {
            "colorbar": {
             "outlinewidth": 0,
             "ticks": ""
            },
            "type": "mesh3d"
           }
          ],
          "parcoords": [
           {
            "line": {
             "colorbar": {
              "outlinewidth": 0,
              "ticks": ""
             }
            },
            "type": "parcoords"
           }
          ],
          "pie": [
           {
            "automargin": true,
            "type": "pie"
           }
          ],
          "scatter": [
           {
            "marker": {
             "colorbar": {
              "outlinewidth": 0,
              "ticks": ""
             }
            },
            "type": "scatter"
           }
          ],
          "scatter3d": [
           {
            "line": {
             "colorbar": {
              "outlinewidth": 0,
              "ticks": ""
             }
            },
            "marker": {
             "colorbar": {
              "outlinewidth": 0,
              "ticks": ""
             }
            },
            "type": "scatter3d"
           }
          ],
          "scattercarpet": [
           {
            "marker": {
             "colorbar": {
              "outlinewidth": 0,
              "ticks": ""
             }
            },
            "type": "scattercarpet"
           }
          ],
          "scattergeo": [
           {
            "marker": {
             "colorbar": {
              "outlinewidth": 0,
              "ticks": ""
             }
            },
            "type": "scattergeo"
           }
          ],
          "scattergl": [
           {
            "marker": {
             "colorbar": {
              "outlinewidth": 0,
              "ticks": ""
             }
            },
            "type": "scattergl"
           }
          ],
          "scattermapbox": [
           {
            "marker": {
             "colorbar": {
              "outlinewidth": 0,
              "ticks": ""
             }
            },
            "type": "scattermapbox"
           }
          ],
          "scatterpolar": [
           {
            "marker": {
             "colorbar": {
              "outlinewidth": 0,
              "ticks": ""
             }
            },
            "type": "scatterpolar"
           }
          ],
          "scatterpolargl": [
           {
            "marker": {
             "colorbar": {
              "outlinewidth": 0,
              "ticks": ""
             }
            },
            "type": "scatterpolargl"
           }
          ],
          "scatterternary": [
           {
            "marker": {
             "colorbar": {
              "outlinewidth": 0,
              "ticks": ""
             }
            },
            "type": "scatterternary"
           }
          ],
          "surface": [
           {
            "colorbar": {
             "outlinewidth": 0,
             "ticks": ""
            },
            "colorscale": [
             [
              0,
              "#0d0887"
             ],
             [
              0.1111111111111111,
              "#46039f"
             ],
             [
              0.2222222222222222,
              "#7201a8"
             ],
             [
              0.3333333333333333,
              "#9c179e"
             ],
             [
              0.4444444444444444,
              "#bd3786"
             ],
             [
              0.5555555555555556,
              "#d8576b"
             ],
             [
              0.6666666666666666,
              "#ed7953"
             ],
             [
              0.7777777777777778,
              "#fb9f3a"
             ],
             [
              0.8888888888888888,
              "#fdca26"
             ],
             [
              1,
              "#f0f921"
             ]
            ],
            "type": "surface"
           }
          ],
          "table": [
           {
            "cells": {
             "fill": {
              "color": "#EBF0F8"
             },
             "line": {
              "color": "white"
             }
            },
            "header": {
             "fill": {
              "color": "#C8D4E3"
             },
             "line": {
              "color": "white"
             }
            },
            "type": "table"
           }
          ]
         },
         "layout": {
          "annotationdefaults": {
           "arrowcolor": "#2a3f5f",
           "arrowhead": 0,
           "arrowwidth": 1
          },
          "coloraxis": {
           "colorbar": {
            "outlinewidth": 0,
            "ticks": ""
           }
          },
          "colorscale": {
           "diverging": [
            [
             0,
             "#8e0152"
            ],
            [
             0.1,
             "#c51b7d"
            ],
            [
             0.2,
             "#de77ae"
            ],
            [
             0.3,
             "#f1b6da"
            ],
            [
             0.4,
             "#fde0ef"
            ],
            [
             0.5,
             "#f7f7f7"
            ],
            [
             0.6,
             "#e6f5d0"
            ],
            [
             0.7,
             "#b8e186"
            ],
            [
             0.8,
             "#7fbc41"
            ],
            [
             0.9,
             "#4d9221"
            ],
            [
             1,
             "#276419"
            ]
           ],
           "sequential": [
            [
             0,
             "#0d0887"
            ],
            [
             0.1111111111111111,
             "#46039f"
            ],
            [
             0.2222222222222222,
             "#7201a8"
            ],
            [
             0.3333333333333333,
             "#9c179e"
            ],
            [
             0.4444444444444444,
             "#bd3786"
            ],
            [
             0.5555555555555556,
             "#d8576b"
            ],
            [
             0.6666666666666666,
             "#ed7953"
            ],
            [
             0.7777777777777778,
             "#fb9f3a"
            ],
            [
             0.8888888888888888,
             "#fdca26"
            ],
            [
             1,
             "#f0f921"
            ]
           ],
           "sequentialminus": [
            [
             0,
             "#0d0887"
            ],
            [
             0.1111111111111111,
             "#46039f"
            ],
            [
             0.2222222222222222,
             "#7201a8"
            ],
            [
             0.3333333333333333,
             "#9c179e"
            ],
            [
             0.4444444444444444,
             "#bd3786"
            ],
            [
             0.5555555555555556,
             "#d8576b"
            ],
            [
             0.6666666666666666,
             "#ed7953"
            ],
            [
             0.7777777777777778,
             "#fb9f3a"
            ],
            [
             0.8888888888888888,
             "#fdca26"
            ],
            [
             1,
             "#f0f921"
            ]
           ]
          },
          "colorway": [
           "#636efa",
           "#EF553B",
           "#00cc96",
           "#ab63fa",
           "#FFA15A",
           "#19d3f3",
           "#FF6692",
           "#B6E880",
           "#FF97FF",
           "#FECB52"
          ],
          "font": {
           "color": "#2a3f5f"
          },
          "geo": {
           "bgcolor": "white",
           "lakecolor": "white",
           "landcolor": "#E5ECF6",
           "showlakes": true,
           "showland": true,
           "subunitcolor": "white"
          },
          "hoverlabel": {
           "align": "left"
          },
          "hovermode": "closest",
          "mapbox": {
           "style": "light"
          },
          "paper_bgcolor": "white",
          "plot_bgcolor": "#E5ECF6",
          "polar": {
           "angularaxis": {
            "gridcolor": "white",
            "linecolor": "white",
            "ticks": ""
           },
           "bgcolor": "#E5ECF6",
           "radialaxis": {
            "gridcolor": "white",
            "linecolor": "white",
            "ticks": ""
           }
          },
          "scene": {
           "xaxis": {
            "backgroundcolor": "#E5ECF6",
            "gridcolor": "white",
            "gridwidth": 2,
            "linecolor": "white",
            "showbackground": true,
            "ticks": "",
            "zerolinecolor": "white"
           },
           "yaxis": {
            "backgroundcolor": "#E5ECF6",
            "gridcolor": "white",
            "gridwidth": 2,
            "linecolor": "white",
            "showbackground": true,
            "ticks": "",
            "zerolinecolor": "white"
           },
           "zaxis": {
            "backgroundcolor": "#E5ECF6",
            "gridcolor": "white",
            "gridwidth": 2,
            "linecolor": "white",
            "showbackground": true,
            "ticks": "",
            "zerolinecolor": "white"
           }
          },
          "shapedefaults": {
           "line": {
            "color": "#2a3f5f"
           }
          },
          "ternary": {
           "aaxis": {
            "gridcolor": "white",
            "linecolor": "white",
            "ticks": ""
           },
           "baxis": {
            "gridcolor": "white",
            "linecolor": "white",
            "ticks": ""
           },
           "bgcolor": "#E5ECF6",
           "caxis": {
            "gridcolor": "white",
            "linecolor": "white",
            "ticks": ""
           }
          },
          "title": {
           "x": 0.05
          },
          "xaxis": {
           "automargin": true,
           "gridcolor": "white",
           "linecolor": "white",
           "ticks": "",
           "title": {
            "standoff": 15
           },
           "zerolinecolor": "white",
           "zerolinewidth": 2
          },
          "yaxis": {
           "automargin": true,
           "gridcolor": "white",
           "linecolor": "white",
           "ticks": "",
           "title": {
            "standoff": 15
           },
           "zerolinecolor": "white",
           "zerolinewidth": 2
          }
         }
        },
        "xaxis": {
         "anchor": "y",
         "autorange": true,
         "domain": [
          0,
          1
         ],
         "range": [
          8.5,
          18.5
         ],
         "title": {
          "text": "x"
         },
         "type": "linear"
        },
        "yaxis": {
         "anchor": "x",
         "autorange": true,
         "domain": [
          0,
          1
         ],
         "range": [
          0,
          925.2631578947369
         ],
         "title": {
          "text": "y"
         },
         "type": "linear"
        }
       }
      },
      "image/png": "[encoded data removed]",
      "text/html": [
       "<div>\n",
       "        \n",
       "        \n",
       "            <div id=\"a39efda7-9559-4bc8-afe4-84bf3a0a760e\" class=\"plotly-graph-div\" style=\"height:525px; width:100%;\"></div>\n",
       "            <script type=\"text/javascript\">\n",
       "                require([\"plotly\"], function(Plotly) {\n",
       "                    window.PLOTLYENV=window.PLOTLYENV || {};\n",
       "                    \n",
       "                if (document.getElementById(\"a39efda7-9559-4bc8-afe4-84bf3a0a760e\")) {\n",
       "                    Plotly.newPlot(\n",
       "                        'a39efda7-9559-4bc8-afe4-84bf3a0a760e',\n",
       "                        [{\"alignmentgroup\": \"True\", \"hoverlabel\": {\"namelength\": 0}, \"hovertemplate\": \"x=%{x}<br>y=%{y}\", \"legendgroup\": \"\", \"marker\": {\"color\": \"#636efa\"}, \"name\": \"\", \"offsetgroup\": \"\", \"orientation\": \"v\", \"showlegend\": false, \"textposition\": \"auto\", \"type\": \"bar\", \"x\": [16, 17, 12, 13, 18, 15, 9, 14, 11], \"xaxis\": \"x\", \"y\": [879, 618, 340, 196, 179, 40, 38, 4, 3], \"yaxis\": \"y\"}],\n",
       "                        {\"barmode\": \"relative\", \"legend\": {\"tracegroupgap\": 0}, \"margin\": {\"t\": 60}, \"template\": {\"data\": {\"bar\": [{\"error_x\": {\"color\": \"#2a3f5f\"}, \"error_y\": {\"color\": \"#2a3f5f\"}, \"marker\": {\"line\": {\"color\": \"#E5ECF6\", \"width\": 0.5}}, \"type\": \"bar\"}], \"barpolar\": [{\"marker\": {\"line\": {\"color\": \"#E5ECF6\", \"width\": 0.5}}, \"type\": \"barpolar\"}], \"carpet\": [{\"aaxis\": {\"endlinecolor\": \"#2a3f5f\", \"gridcolor\": \"white\", \"linecolor\": \"white\", \"minorgridcolor\": \"white\", \"startlinecolor\": \"#2a3f5f\"}, \"baxis\": {\"endlinecolor\": \"#2a3f5f\", \"gridcolor\": \"white\", \"linecolor\": \"white\", \"minorgridcolor\": \"white\", \"startlinecolor\": \"#2a3f5f\"}, \"type\": \"carpet\"}], \"choropleth\": [{\"colorbar\": {\"outlinewidth\": 0, \"ticks\": \"\"}, \"type\": \"choropleth\"}], \"contour\": [{\"colorbar\": {\"outlinewidth\": 0, \"ticks\": \"\"}, \"colorscale\": [[0.0, \"#0d0887\"], [0.1111111111111111, \"#46039f\"], [0.2222222222222222, \"#7201a8\"], [0.3333333333333333, \"#9c179e\"], [0.4444444444444444, \"#bd3786\"], [0.5555555555555556, \"#d8576b\"], [0.6666666666666666, \"#ed7953\"], [0.7777777777777778, \"#fb9f3a\"], [0.8888888888888888, \"#fdca26\"], [1.0, \"#f0f921\"]], \"type\": \"contour\"}], \"contourcarpet\": [{\"colorbar\": {\"outlinewidth\": 0, \"ticks\": \"\"}, \"type\": \"contourcarpet\"}], \"heatmap\": [{\"colorbar\": {\"outlinewidth\": 0, \"ticks\": \"\"}, \"colorscale\": [[0.0, \"#0d0887\"], [0.1111111111111111, \"#46039f\"], [0.2222222222222222, \"#7201a8\"], [0.3333333333333333, \"#9c179e\"], [0.4444444444444444, \"#bd3786\"], [0.5555555555555556, \"#d8576b\"], [0.6666666666666666, \"#ed7953\"], [0.7777777777777778, \"#fb9f3a\"], [0.8888888888888888, \"#fdca26\"], [1.0, \"#f0f921\"]], \"type\": \"heatmap\"}], \"heatmapgl\": [{\"colorbar\": {\"outlinewidth\": 0, \"ticks\": \"\"}, \"colorscale\": [[0.0, \"#0d0887\"], [0.1111111111111111, \"#46039f\"], [0.2222222222222222, \"#7201a8\"], [0.3333333333333333, \"#9c179e\"], [0.4444444444444444, \"#bd3786\"], [0.5555555555555556, \"#d8576b\"], [0.6666666666666666, \"#ed7953\"], [0.7777777777777778, \"#fb9f3a\"], [0.8888888888888888, \"#fdca26\"], [1.0, \"#f0f921\"]], \"type\": \"heatmapgl\"}], \"histogram\": [{\"marker\": {\"colorbar\": {\"outlinewidth\": 0, \"ticks\": \"\"}}, \"type\": \"histogram\"}], \"histogram2d\": [{\"colorbar\": {\"outlinewidth\": 0, \"ticks\": \"\"}, \"colorscale\": [[0.0, \"#0d0887\"], [0.1111111111111111, \"#46039f\"], [0.2222222222222222, \"#7201a8\"], [0.3333333333333333, \"#9c179e\"], [0.4444444444444444, \"#bd3786\"], [0.5555555555555556, \"#d8576b\"], [0.6666666666666666, \"#ed7953\"], [0.7777777777777778, \"#fb9f3a\"], [0.8888888888888888, \"#fdca26\"], [1.0, \"#f0f921\"]], \"type\": \"histogram2d\"}], \"histogram2dcontour\": [{\"colorbar\": {\"outlinewidth\": 0, \"ticks\": \"\"}, \"colorscale\": [[0.0, \"#0d0887\"], [0.1111111111111111, \"#46039f\"], [0.2222222222222222, \"#7201a8\"], [0.3333333333333333, \"#9c179e\"], [0.4444444444444444, \"#bd3786\"], [0.5555555555555556, \"#d8576b\"], [0.6666666666666666, \"#ed7953\"], [0.7777777777777778, \"#fb9f3a\"], [0.8888888888888888, \"#fdca26\"], [1.0, \"#f0f921\"]], \"type\": \"histogram2dcontour\"}], \"mesh3d\": [{\"colorbar\": {\"outlinewidth\": 0, \"ticks\": \"\"}, \"type\": \"mesh3d\"}], \"parcoords\": [{\"line\": {\"colorbar\": {\"outlinewidth\": 0, \"ticks\": \"\"}}, \"type\": \"parcoords\"}], \"pie\": [{\"automargin\": true, \"type\": \"pie\"}], \"scatter\": [{\"marker\": {\"colorbar\": {\"outlinewidth\": 0, \"ticks\": \"\"}}, \"type\": \"scatter\"}], \"scatter3d\": [{\"line\": {\"colorbar\": {\"outlinewidth\": 0, \"ticks\": \"\"}}, \"marker\": {\"colorbar\": {\"outlinewidth\": 0, \"ticks\": \"\"}}, \"type\": \"scatter3d\"}], \"scattercarpet\": [{\"marker\": {\"colorbar\": {\"outlinewidth\": 0, \"ticks\": \"\"}}, \"type\": \"scattercarpet\"}], \"scattergeo\": [{\"marker\": {\"colorbar\": {\"outlinewidth\": 0, \"ticks\": \"\"}}, \"type\": \"scattergeo\"}], \"scattergl\": [{\"marker\": {\"colorbar\": {\"outlinewidth\": 0, \"ticks\": \"\"}}, \"type\": \"scattergl\"}], \"scattermapbox\": [{\"marker\": {\"colorbar\": {\"outlinewidth\": 0, \"ticks\": \"\"}}, \"type\": \"scattermapbox\"}], \"scatterpolar\": [{\"marker\": {\"colorbar\": {\"outlinewidth\": 0, \"ticks\": \"\"}}, \"type\": \"scatterpolar\"}], \"scatterpolargl\": [{\"marker\": {\"colorbar\": {\"outlinewidth\": 0, \"ticks\": \"\"}}, \"type\": \"scatterpolargl\"}], \"scatterternary\": [{\"marker\": {\"colorbar\": {\"outlinewidth\": 0, \"ticks\": \"\"}}, \"type\": \"scatterternary\"}], \"surface\": [{\"colorbar\": {\"outlinewidth\": 0, \"ticks\": \"\"}, \"colorscale\": [[0.0, \"#0d0887\"], [0.1111111111111111, \"#46039f\"], [0.2222222222222222, \"#7201a8\"], [0.3333333333333333, \"#9c179e\"], [0.4444444444444444, \"#bd3786\"], [0.5555555555555556, \"#d8576b\"], [0.6666666666666666, \"#ed7953\"], [0.7777777777777778, \"#fb9f3a\"], [0.8888888888888888, \"#fdca26\"], [1.0, \"#f0f921\"]], \"type\": \"surface\"}], \"table\": [{\"cells\": {\"fill\": {\"color\": \"#EBF0F8\"}, \"line\": {\"color\": \"white\"}}, \"header\": {\"fill\": {\"color\": \"#C8D4E3\"}, \"line\": {\"color\": \"white\"}}, \"type\": \"table\"}]}, \"layout\": {\"annotationdefaults\": {\"arrowcolor\": \"#2a3f5f\", \"arrowhead\": 0, \"arrowwidth\": 1}, \"coloraxis\": {\"colorbar\": {\"outlinewidth\": 0, \"ticks\": \"\"}}, \"colorscale\": {\"diverging\": [[0, \"#8e0152\"], [0.1, \"#c51b7d\"], [0.2, \"#de77ae\"], [0.3, \"#f1b6da\"], [0.4, \"#fde0ef\"], [0.5, \"#f7f7f7\"], [0.6, \"#e6f5d0\"], [0.7, \"#b8e186\"], [0.8, \"#7fbc41\"], [0.9, \"#4d9221\"], [1, \"#276419\"]], \"sequential\": [[0.0, \"#0d0887\"], [0.1111111111111111, \"#46039f\"], [0.2222222222222222, \"#7201a8\"], [0.3333333333333333, \"#9c179e\"], [0.4444444444444444, \"#bd3786\"], [0.5555555555555556, \"#d8576b\"], [0.6666666666666666, \"#ed7953\"], [0.7777777777777778, \"#fb9f3a\"], [0.8888888888888888, \"#fdca26\"], [1.0, \"#f0f921\"]], \"sequentialminus\": [[0.0, \"#0d0887\"], [0.1111111111111111, \"#46039f\"], [0.2222222222222222, \"#7201a8\"], [0.3333333333333333, \"#9c179e\"], [0.4444444444444444, \"#bd3786\"], [0.5555555555555556, \"#d8576b\"], [0.6666666666666666, \"#ed7953\"], [0.7777777777777778, \"#fb9f3a\"], [0.8888888888888888, \"#fdca26\"], [1.0, \"#f0f921\"]]}, \"colorway\": [\"#636efa\", \"#EF553B\", \"#00cc96\", \"#ab63fa\", \"#FFA15A\", \"#19d3f3\", \"#FF6692\", \"#B6E880\", \"#FF97FF\", \"#FECB52\"], \"font\": {\"color\": \"#2a3f5f\"}, \"geo\": {\"bgcolor\": \"white\", \"lakecolor\": \"white\", \"landcolor\": \"#E5ECF6\", \"showlakes\": true, \"showland\": true, \"subunitcolor\": \"white\"}, \"hoverlabel\": {\"align\": \"left\"}, \"hovermode\": \"closest\", \"mapbox\": {\"style\": \"light\"}, \"paper_bgcolor\": \"white\", \"plot_bgcolor\": \"#E5ECF6\", \"polar\": {\"angularaxis\": {\"gridcolor\": \"white\", \"linecolor\": \"white\", \"ticks\": \"\"}, \"bgcolor\": \"#E5ECF6\", \"radialaxis\": {\"gridcolor\": \"white\", \"linecolor\": \"white\", \"ticks\": \"\"}}, \"scene\": {\"xaxis\": {\"backgroundcolor\": \"#E5ECF6\", \"gridcolor\": \"white\", \"gridwidth\": 2, \"linecolor\": \"white\", \"showbackground\": true, \"ticks\": \"\", \"zerolinecolor\": \"white\"}, \"yaxis\": {\"backgroundcolor\": \"#E5ECF6\", \"gridcolor\": \"white\", \"gridwidth\": 2, \"linecolor\": \"white\", \"showbackground\": true, \"ticks\": \"\", \"zerolinecolor\": \"white\"}, \"zaxis\": {\"backgroundcolor\": \"#E5ECF6\", \"gridcolor\": \"white\", \"gridwidth\": 2, \"linecolor\": \"white\", \"showbackground\": true, \"ticks\": \"\", \"zerolinecolor\": \"white\"}}, \"shapedefaults\": {\"line\": {\"color\": \"#2a3f5f\"}}, \"ternary\": {\"aaxis\": {\"gridcolor\": \"white\", \"linecolor\": \"white\", \"ticks\": \"\"}, \"baxis\": {\"gridcolor\": \"white\", \"linecolor\": \"white\", \"ticks\": \"\"}, \"bgcolor\": \"#E5ECF6\", \"caxis\": {\"gridcolor\": \"white\", \"linecolor\": \"white\", \"ticks\": \"\"}}, \"title\": {\"x\": 0.05}, \"xaxis\": {\"automargin\": true, \"gridcolor\": \"white\", \"linecolor\": \"white\", \"ticks\": \"\", \"title\": {\"standoff\": 15}, \"zerolinecolor\": \"white\", \"zerolinewidth\": 2}, \"yaxis\": {\"automargin\": true, \"gridcolor\": \"white\", \"linecolor\": \"white\", \"ticks\": \"\", \"title\": {\"standoff\": 15}, \"zerolinecolor\": \"white\", \"zerolinewidth\": 2}}}, \"xaxis\": {\"anchor\": \"y\", \"domain\": [0.0, 1.0], \"title\": {\"text\": \"x\"}}, \"yaxis\": {\"anchor\": \"x\", \"domain\": [0.0, 1.0], \"title\": {\"text\": \"y\"}}},\n",
       "                        {\"responsive\": true}\n",
       "                    ).then(function(){\n",
       "                            \n",
       "var gd = document.getElementById('a39efda7-9559-4bc8-afe4-84bf3a0a760e');\n",
       "var x = new MutationObserver(function (mutations, observer) {{\n",
       "        var display = window.getComputedStyle(gd).display;\n",
       "        if (!display || display === 'none') {{\n",
       "            console.log([gd, 'removed!']);\n",
       "            Plotly.purge(gd);\n",
       "            observer.disconnect();\n",
       "        }}\n",
       "}});\n",
       "\n",
       "// Listen for the removal of the full notebook cells\n",
       "var notebookContainer = gd.closest('#notebook-container');\n",
       "if (notebookContainer) {{\n",
       "    x.observe(notebookContainer, {childList: true});\n",
       "}}\n",
       "\n",
       "// Listen for the clearing of the current output cell\n",
       "var outputEl = gd.closest('.output');\n",
       "if (outputEl) {{\n",
       "    x.observe(outputEl, {childList: true});\n",
       "}}\n",
       "\n",
       "                        })\n",
       "                };\n",
       "                });\n",
       "            </script>\n",
       "        </div>"
      ]
     },
     "metadata": {},
     "output_type": "display_data"
    }
   ],
   "source": [
    "px.bar(x = train_df[train_df.target == 1].start_hour.value_counts().keys()\n",
    "      , y = train_df[train_df.target == 1].start_hour.value_counts()\n",
    "      )"
   ]
  },
  {
   "cell_type": "code",
   "execution_count": 28,
   "metadata": {},
   "outputs": [
    {
     "data": {
      "application/vnd.plotly.v1+json": {
       "config": {
        "plotlyServerURL": "https://plot.ly"
       },
       "data": [
        {
         "alignmentgroup": "True",
         "hoverlabel": {
          "namelength": 0
         },
         "hovertemplate": "x=%{x}<br>y=%{y}",
         "legendgroup": "",
         "marker": {
          "color": "#636efa"
         },
         "name": "",
         "offsetgroup": "",
         "orientation": "v",
         "showlegend": false,
         "textposition": "auto",
         "type": "bar",
         "x": [
          10,
          9,
          11,
          14,
          8,
          13,
          15,
          16,
          12,
          17,
          18,
          21,
          19,
          22,
          23,
          20,
          7
         ],
         "xaxis": "x",
         "y": [
          33676,
          31703,
          30795,
          27302,
          25369,
          22356,
          21600,
          17860,
          17080,
          12212,
          3719,
          1705,
          1540,
          1467,
          1339,
          1200,
          341
         ],
         "yaxis": "y"
        }
       ],
       "layout": {
        "autosize": true,
        "barmode": "relative",
        "legend": {
         "tracegroupgap": 0
        },
        "margin": {
         "t": 60
        },
        "template": {
         "data": {
          "bar": [
           {
            "error_x": {
             "color": "#2a3f5f"
            },
            "error_y": {
             "color": "#2a3f5f"
            },
            "marker": {
             "line": {
              "color": "#E5ECF6",
              "width": 0.5
             }
            },
            "type": "bar"
           }
          ],
          "barpolar": [
           {
            "marker": {
             "line": {
              "color": "#E5ECF6",
              "width": 0.5
             }
            },
            "type": "barpolar"
           }
          ],
          "carpet": [
           {
            "aaxis": {
             "endlinecolor": "#2a3f5f",
             "gridcolor": "white",
             "linecolor": "white",
             "minorgridcolor": "white",
             "startlinecolor": "#2a3f5f"
            },
            "baxis": {
             "endlinecolor": "#2a3f5f",
             "gridcolor": "white",
             "linecolor": "white",
             "minorgridcolor": "white",
             "startlinecolor": "#2a3f5f"
            },
            "type": "carpet"
           }
          ],
          "choropleth": [
           {
            "colorbar": {
             "outlinewidth": 0,
             "ticks": ""
            },
            "type": "choropleth"
           }
          ],
          "contour": [
           {
            "colorbar": {
             "outlinewidth": 0,
             "ticks": ""
            },
            "colorscale": [
             [
              0,
              "#0d0887"
             ],
             [
              0.1111111111111111,
              "#46039f"
             ],
             [
              0.2222222222222222,
              "#7201a8"
             ],
             [
              0.3333333333333333,
              "#9c179e"
             ],
             [
              0.4444444444444444,
              "#bd3786"
             ],
             [
              0.5555555555555556,
              "#d8576b"
             ],
             [
              0.6666666666666666,
              "#ed7953"
             ],
             [
              0.7777777777777778,
              "#fb9f3a"
             ],
             [
              0.8888888888888888,
              "#fdca26"
             ],
             [
              1,
              "#f0f921"
             ]
            ],
            "type": "contour"
           }
          ],
          "contourcarpet": [
           {
            "colorbar": {
             "outlinewidth": 0,
             "ticks": ""
            },
            "type": "contourcarpet"
           }
          ],
          "heatmap": [
           {
            "colorbar": {
             "outlinewidth": 0,
             "ticks": ""
            },
            "colorscale": [
             [
              0,
              "#0d0887"
             ],
             [
              0.1111111111111111,
              "#46039f"
             ],
             [
              0.2222222222222222,
              "#7201a8"
             ],
             [
              0.3333333333333333,
              "#9c179e"
             ],
             [
              0.4444444444444444,
              "#bd3786"
             ],
             [
              0.5555555555555556,
              "#d8576b"
             ],
             [
              0.6666666666666666,
              "#ed7953"
             ],
             [
              0.7777777777777778,
              "#fb9f3a"
             ],
             [
              0.8888888888888888,
              "#fdca26"
             ],
             [
              1,
              "#f0f921"
             ]
            ],
            "type": "heatmap"
           }
          ],
          "heatmapgl": [
           {
            "colorbar": {
             "outlinewidth": 0,
             "ticks": ""
            },
            "colorscale": [
             [
              0,
              "#0d0887"
             ],
             [
              0.1111111111111111,
              "#46039f"
             ],
             [
              0.2222222222222222,
              "#7201a8"
             ],
             [
              0.3333333333333333,
              "#9c179e"
             ],
             [
              0.4444444444444444,
              "#bd3786"
             ],
             [
              0.5555555555555556,
              "#d8576b"
             ],
             [
              0.6666666666666666,
              "#ed7953"
             ],
             [
              0.7777777777777778,
              "#fb9f3a"
             ],
             [
              0.8888888888888888,
              "#fdca26"
             ],
             [
              1,
              "#f0f921"
             ]
            ],
            "type": "heatmapgl"
           }
          ],
          "histogram": [
           {
            "marker": {
             "colorbar": {
              "outlinewidth": 0,
              "ticks": ""
             }
            },
            "type": "histogram"
           }
          ],
          "histogram2d": [
           {
            "colorbar": {
             "outlinewidth": 0,
             "ticks": ""
            },
            "colorscale": [
             [
              0,
              "#0d0887"
             ],
             [
              0.1111111111111111,
              "#46039f"
             ],
             [
              0.2222222222222222,
              "#7201a8"
             ],
             [
              0.3333333333333333,
              "#9c179e"
             ],
             [
              0.4444444444444444,
              "#bd3786"
             ],
             [
              0.5555555555555556,
              "#d8576b"
             ],
             [
              0.6666666666666666,
              "#ed7953"
             ],
             [
              0.7777777777777778,
              "#fb9f3a"
             ],
             [
              0.8888888888888888,
              "#fdca26"
             ],
             [
              1,
              "#f0f921"
             ]
            ],
            "type": "histogram2d"
           }
          ],
          "histogram2dcontour": [
           {
            "colorbar": {
             "outlinewidth": 0,
             "ticks": ""
            },
            "colorscale": [
             [
              0,
              "#0d0887"
             ],
             [
              0.1111111111111111,
              "#46039f"
             ],
             [
              0.2222222222222222,
              "#7201a8"
             ],
             [
              0.3333333333333333,
              "#9c179e"
             ],
             [
              0.4444444444444444,
              "#bd3786"
             ],
             [
              0.5555555555555556,
              "#d8576b"
             ],
             [
              0.6666666666666666,
              "#ed7953"
             ],
             [
              0.7777777777777778,
              "#fb9f3a"
             ],
             [
              0.8888888888888888,
              "#fdca26"
             ],
             [
              1,
              "#f0f921"
             ]
            ],
            "type": "histogram2dcontour"
           }
          ],
          "mesh3d": [
           {
            "colorbar": {
             "outlinewidth": 0,
             "ticks": ""
            },
            "type": "mesh3d"
           }
          ],
          "parcoords": [
           {
            "line": {
             "colorbar": {
              "outlinewidth": 0,
              "ticks": ""
             }
            },
            "type": "parcoords"
           }
          ],
          "pie": [
           {
            "automargin": true,
            "type": "pie"
           }
          ],
          "scatter": [
           {
            "marker": {
             "colorbar": {
              "outlinewidth": 0,
              "ticks": ""
             }
            },
            "type": "scatter"
           }
          ],
          "scatter3d": [
           {
            "line": {
             "colorbar": {
              "outlinewidth": 0,
              "ticks": ""
             }
            },
            "marker": {
             "colorbar": {
              "outlinewidth": 0,
              "ticks": ""
             }
            },
            "type": "scatter3d"
           }
          ],
          "scattercarpet": [
           {
            "marker": {
             "colorbar": {
              "outlinewidth": 0,
              "ticks": ""
             }
            },
            "type": "scattercarpet"
           }
          ],
          "scattergeo": [
           {
            "marker": {
             "colorbar": {
              "outlinewidth": 0,
              "ticks": ""
             }
            },
            "type": "scattergeo"
           }
          ],
          "scattergl": [
           {
            "marker": {
             "colorbar": {
              "outlinewidth": 0,
              "ticks": ""
             }
            },
            "type": "scattergl"
           }
          ],
          "scattermapbox": [
           {
            "marker": {
             "colorbar": {
              "outlinewidth": 0,
              "ticks": ""
             }
            },
            "type": "scattermapbox"
           }
          ],
          "scatterpolar": [
           {
            "marker": {
             "colorbar": {
              "outlinewidth": 0,
              "ticks": ""
             }
            },
            "type": "scatterpolar"
           }
          ],
          "scatterpolargl": [
           {
            "marker": {
             "colorbar": {
              "outlinewidth": 0,
              "ticks": ""
             }
            },
            "type": "scatterpolargl"
           }
          ],
          "scatterternary": [
           {
            "marker": {
             "colorbar": {
              "outlinewidth": 0,
              "ticks": ""
             }
            },
            "type": "scatterternary"
           }
          ],
          "surface": [
           {
            "colorbar": {
             "outlinewidth": 0,
             "ticks": ""
            },
            "colorscale": [
             [
              0,
              "#0d0887"
             ],
             [
              0.1111111111111111,
              "#46039f"
             ],
             [
              0.2222222222222222,
              "#7201a8"
             ],
             [
              0.3333333333333333,
              "#9c179e"
             ],
             [
              0.4444444444444444,
              "#bd3786"
             ],
             [
              0.5555555555555556,
              "#d8576b"
             ],
             [
              0.6666666666666666,
              "#ed7953"
             ],
             [
              0.7777777777777778,
              "#fb9f3a"
             ],
             [
              0.8888888888888888,
              "#fdca26"
             ],
             [
              1,
              "#f0f921"
             ]
            ],
            "type": "surface"
           }
          ],
          "table": [
           {
            "cells": {
             "fill": {
              "color": "#EBF0F8"
             },
             "line": {
              "color": "white"
             }
            },
            "header": {
             "fill": {
              "color": "#C8D4E3"
             },
             "line": {
              "color": "white"
             }
            },
            "type": "table"
           }
          ]
         },
         "layout": {
          "annotationdefaults": {
           "arrowcolor": "#2a3f5f",
           "arrowhead": 0,
           "arrowwidth": 1
          },
          "coloraxis": {
           "colorbar": {
            "outlinewidth": 0,
            "ticks": ""
           }
          },
          "colorscale": {
           "diverging": [
            [
             0,
             "#8e0152"
            ],
            [
             0.1,
             "#c51b7d"
            ],
            [
             0.2,
             "#de77ae"
            ],
            [
             0.3,
             "#f1b6da"
            ],
            [
             0.4,
             "#fde0ef"
            ],
            [
             0.5,
             "#f7f7f7"
            ],
            [
             0.6,
             "#e6f5d0"
            ],
            [
             0.7,
             "#b8e186"
            ],
            [
             0.8,
             "#7fbc41"
            ],
            [
             0.9,
             "#4d9221"
            ],
            [
             1,
             "#276419"
            ]
           ],
           "sequential": [
            [
             0,
             "#0d0887"
            ],
            [
             0.1111111111111111,
             "#46039f"
            ],
            [
             0.2222222222222222,
             "#7201a8"
            ],
            [
             0.3333333333333333,
             "#9c179e"
            ],
            [
             0.4444444444444444,
             "#bd3786"
            ],
            [
             0.5555555555555556,
             "#d8576b"
            ],
            [
             0.6666666666666666,
             "#ed7953"
            ],
            [
             0.7777777777777778,
             "#fb9f3a"
            ],
            [
             0.8888888888888888,
             "#fdca26"
            ],
            [
             1,
             "#f0f921"
            ]
           ],
           "sequentialminus": [
            [
             0,
             "#0d0887"
            ],
            [
             0.1111111111111111,
             "#46039f"
            ],
            [
             0.2222222222222222,
             "#7201a8"
            ],
            [
             0.3333333333333333,
             "#9c179e"
            ],
            [
             0.4444444444444444,
             "#bd3786"
            ],
            [
             0.5555555555555556,
             "#d8576b"
            ],
            [
             0.6666666666666666,
             "#ed7953"
            ],
            [
             0.7777777777777778,
             "#fb9f3a"
            ],
            [
             0.8888888888888888,
             "#fdca26"
            ],
            [
             1,
             "#f0f921"
            ]
           ]
          },
          "colorway": [
           "#636efa",
           "#EF553B",
           "#00cc96",
           "#ab63fa",
           "#FFA15A",
           "#19d3f3",
           "#FF6692",
           "#B6E880",
           "#FF97FF",
           "#FECB52"
          ],
          "font": {
           "color": "#2a3f5f"
          },
          "geo": {
           "bgcolor": "white",
           "lakecolor": "white",
           "landcolor": "#E5ECF6",
           "showlakes": true,
           "showland": true,
           "subunitcolor": "white"
          },
          "hoverlabel": {
           "align": "left"
          },
          "hovermode": "closest",
          "mapbox": {
           "style": "light"
          },
          "paper_bgcolor": "white",
          "plot_bgcolor": "#E5ECF6",
          "polar": {
           "angularaxis": {
            "gridcolor": "white",
            "linecolor": "white",
            "ticks": ""
           },
           "bgcolor": "#E5ECF6",
           "radialaxis": {
            "gridcolor": "white",
            "linecolor": "white",
            "ticks": ""
           }
          },
          "scene": {
           "xaxis": {
            "backgroundcolor": "#E5ECF6",
            "gridcolor": "white",
            "gridwidth": 2,
            "linecolor": "white",
            "showbackground": true,
            "ticks": "",
            "zerolinecolor": "white"
           },
           "yaxis": {
            "backgroundcolor": "#E5ECF6",
            "gridcolor": "white",
            "gridwidth": 2,
            "linecolor": "white",
            "showbackground": true,
            "ticks": "",
            "zerolinecolor": "white"
           },
           "zaxis": {
            "backgroundcolor": "#E5ECF6",
            "gridcolor": "white",
            "gridwidth": 2,
            "linecolor": "white",
            "showbackground": true,
            "ticks": "",
            "zerolinecolor": "white"
           }
          },
          "shapedefaults": {
           "line": {
            "color": "#2a3f5f"
           }
          },
          "ternary": {
           "aaxis": {
            "gridcolor": "white",
            "linecolor": "white",
            "ticks": ""
           },
           "baxis": {
            "gridcolor": "white",
            "linecolor": "white",
            "ticks": ""
           },
           "bgcolor": "#E5ECF6",
           "caxis": {
            "gridcolor": "white",
            "linecolor": "white",
            "ticks": ""
           }
          },
          "title": {
           "x": 0.05
          },
          "xaxis": {
           "automargin": true,
           "gridcolor": "white",
           "linecolor": "white",
           "ticks": "",
           "title": {
            "standoff": 15
           },
           "zerolinecolor": "white",
           "zerolinewidth": 2
          },
          "yaxis": {
           "automargin": true,
           "gridcolor": "white",
           "linecolor": "white",
           "ticks": "",
           "title": {
            "standoff": 15
           },
           "zerolinecolor": "white",
           "zerolinewidth": 2
          }
         }
        },
        "xaxis": {
         "anchor": "y",
         "autorange": true,
         "domain": [
          0,
          1
         ],
         "range": [
          6.5,
          23.5
         ],
         "title": {
          "text": "x"
         },
         "type": "linear"
        },
        "yaxis": {
         "anchor": "x",
         "autorange": true,
         "domain": [
          0,
          1
         ],
         "range": [
          0,
          35448.42105263158
         ],
         "title": {
          "text": "y"
         },
         "type": "linear"
        }
       }
      },
      "image/png": "[encoded data removed]",
      "text/html": [
       "<div>\n",
       "        \n",
       "        \n",
       "            <div id=\"e92b6cea-471c-471a-9442-c6b9eab515e9\" class=\"plotly-graph-div\" style=\"height:525px; width:100%;\"></div>\n",
       "            <script type=\"text/javascript\">\n",
       "                require([\"plotly\"], function(Plotly) {\n",
       "                    window.PLOTLYENV=window.PLOTLYENV || {};\n",
       "                    \n",
       "                if (document.getElementById(\"e92b6cea-471c-471a-9442-c6b9eab515e9\")) {\n",
       "                    Plotly.newPlot(\n",
       "                        'e92b6cea-471c-471a-9442-c6b9eab515e9',\n",
       "                        [{\"alignmentgroup\": \"True\", \"hoverlabel\": {\"namelength\": 0}, \"hovertemplate\": \"x=%{x}<br>y=%{y}\", \"legendgroup\": \"\", \"marker\": {\"color\": \"#636efa\"}, \"name\": \"\", \"offsetgroup\": \"\", \"orientation\": \"v\", \"showlegend\": false, \"textposition\": \"auto\", \"type\": \"bar\", \"x\": [10, 9, 11, 14, 8, 13, 15, 16, 12, 17, 18, 21, 19, 22, 23, 20, 7], \"xaxis\": \"x\", \"y\": [33676, 31703, 30795, 27302, 25369, 22356, 21600, 17860, 17080, 12212, 3719, 1705, 1540, 1467, 1339, 1200, 341], \"yaxis\": \"y\"}],\n",
       "                        {\"barmode\": \"relative\", \"legend\": {\"tracegroupgap\": 0}, \"margin\": {\"t\": 60}, \"template\": {\"data\": {\"bar\": [{\"error_x\": {\"color\": \"#2a3f5f\"}, \"error_y\": {\"color\": \"#2a3f5f\"}, \"marker\": {\"line\": {\"color\": \"#E5ECF6\", \"width\": 0.5}}, \"type\": \"bar\"}], \"barpolar\": [{\"marker\": {\"line\": {\"color\": \"#E5ECF6\", \"width\": 0.5}}, \"type\": \"barpolar\"}], \"carpet\": [{\"aaxis\": {\"endlinecolor\": \"#2a3f5f\", \"gridcolor\": \"white\", \"linecolor\": \"white\", \"minorgridcolor\": \"white\", \"startlinecolor\": \"#2a3f5f\"}, \"baxis\": {\"endlinecolor\": \"#2a3f5f\", \"gridcolor\": \"white\", \"linecolor\": \"white\", \"minorgridcolor\": \"white\", \"startlinecolor\": \"#2a3f5f\"}, \"type\": \"carpet\"}], \"choropleth\": [{\"colorbar\": {\"outlinewidth\": 0, \"ticks\": \"\"}, \"type\": \"choropleth\"}], \"contour\": [{\"colorbar\": {\"outlinewidth\": 0, \"ticks\": \"\"}, \"colorscale\": [[0.0, \"#0d0887\"], [0.1111111111111111, \"#46039f\"], [0.2222222222222222, \"#7201a8\"], [0.3333333333333333, \"#9c179e\"], [0.4444444444444444, \"#bd3786\"], [0.5555555555555556, \"#d8576b\"], [0.6666666666666666, \"#ed7953\"], [0.7777777777777778, \"#fb9f3a\"], [0.8888888888888888, \"#fdca26\"], [1.0, \"#f0f921\"]], \"type\": \"contour\"}], \"contourcarpet\": [{\"colorbar\": {\"outlinewidth\": 0, \"ticks\": \"\"}, \"type\": \"contourcarpet\"}], \"heatmap\": [{\"colorbar\": {\"outlinewidth\": 0, \"ticks\": \"\"}, \"colorscale\": [[0.0, \"#0d0887\"], [0.1111111111111111, \"#46039f\"], [0.2222222222222222, \"#7201a8\"], [0.3333333333333333, \"#9c179e\"], [0.4444444444444444, \"#bd3786\"], [0.5555555555555556, \"#d8576b\"], [0.6666666666666666, \"#ed7953\"], [0.7777777777777778, \"#fb9f3a\"], [0.8888888888888888, \"#fdca26\"], [1.0, \"#f0f921\"]], \"type\": \"heatmap\"}], \"heatmapgl\": [{\"colorbar\": {\"outlinewidth\": 0, \"ticks\": \"\"}, \"colorscale\": [[0.0, \"#0d0887\"], [0.1111111111111111, \"#46039f\"], [0.2222222222222222, \"#7201a8\"], [0.3333333333333333, \"#9c179e\"], [0.4444444444444444, \"#bd3786\"], [0.5555555555555556, \"#d8576b\"], [0.6666666666666666, \"#ed7953\"], [0.7777777777777778, \"#fb9f3a\"], [0.8888888888888888, \"#fdca26\"], [1.0, \"#f0f921\"]], \"type\": \"heatmapgl\"}], \"histogram\": [{\"marker\": {\"colorbar\": {\"outlinewidth\": 0, \"ticks\": \"\"}}, \"type\": \"histogram\"}], \"histogram2d\": [{\"colorbar\": {\"outlinewidth\": 0, \"ticks\": \"\"}, \"colorscale\": [[0.0, \"#0d0887\"], [0.1111111111111111, \"#46039f\"], [0.2222222222222222, \"#7201a8\"], [0.3333333333333333, \"#9c179e\"], [0.4444444444444444, \"#bd3786\"], [0.5555555555555556, \"#d8576b\"], [0.6666666666666666, \"#ed7953\"], [0.7777777777777778, \"#fb9f3a\"], [0.8888888888888888, \"#fdca26\"], [1.0, \"#f0f921\"]], \"type\": \"histogram2d\"}], \"histogram2dcontour\": [{\"colorbar\": {\"outlinewidth\": 0, \"ticks\": \"\"}, \"colorscale\": [[0.0, \"#0d0887\"], [0.1111111111111111, \"#46039f\"], [0.2222222222222222, \"#7201a8\"], [0.3333333333333333, \"#9c179e\"], [0.4444444444444444, \"#bd3786\"], [0.5555555555555556, \"#d8576b\"], [0.6666666666666666, \"#ed7953\"], [0.7777777777777778, \"#fb9f3a\"], [0.8888888888888888, \"#fdca26\"], [1.0, \"#f0f921\"]], \"type\": \"histogram2dcontour\"}], \"mesh3d\": [{\"colorbar\": {\"outlinewidth\": 0, \"ticks\": \"\"}, \"type\": \"mesh3d\"}], \"parcoords\": [{\"line\": {\"colorbar\": {\"outlinewidth\": 0, \"ticks\": \"\"}}, \"type\": \"parcoords\"}], \"pie\": [{\"automargin\": true, \"type\": \"pie\"}], \"scatter\": [{\"marker\": {\"colorbar\": {\"outlinewidth\": 0, \"ticks\": \"\"}}, \"type\": \"scatter\"}], \"scatter3d\": [{\"line\": {\"colorbar\": {\"outlinewidth\": 0, \"ticks\": \"\"}}, \"marker\": {\"colorbar\": {\"outlinewidth\": 0, \"ticks\": \"\"}}, \"type\": \"scatter3d\"}], \"scattercarpet\": [{\"marker\": {\"colorbar\": {\"outlinewidth\": 0, \"ticks\": \"\"}}, \"type\": \"scattercarpet\"}], \"scattergeo\": [{\"marker\": {\"colorbar\": {\"outlinewidth\": 0, \"ticks\": \"\"}}, \"type\": \"scattergeo\"}], \"scattergl\": [{\"marker\": {\"colorbar\": {\"outlinewidth\": 0, \"ticks\": \"\"}}, \"type\": \"scattergl\"}], \"scattermapbox\": [{\"marker\": {\"colorbar\": {\"outlinewidth\": 0, \"ticks\": \"\"}}, \"type\": \"scattermapbox\"}], \"scatterpolar\": [{\"marker\": {\"colorbar\": {\"outlinewidth\": 0, \"ticks\": \"\"}}, \"type\": \"scatterpolar\"}], \"scatterpolargl\": [{\"marker\": {\"colorbar\": {\"outlinewidth\": 0, \"ticks\": \"\"}}, \"type\": \"scatterpolargl\"}], \"scatterternary\": [{\"marker\": {\"colorbar\": {\"outlinewidth\": 0, \"ticks\": \"\"}}, \"type\": \"scatterternary\"}], \"surface\": [{\"colorbar\": {\"outlinewidth\": 0, \"ticks\": \"\"}, \"colorscale\": [[0.0, \"#0d0887\"], [0.1111111111111111, \"#46039f\"], [0.2222222222222222, \"#7201a8\"], [0.3333333333333333, \"#9c179e\"], [0.4444444444444444, \"#bd3786\"], [0.5555555555555556, \"#d8576b\"], [0.6666666666666666, \"#ed7953\"], [0.7777777777777778, \"#fb9f3a\"], [0.8888888888888888, \"#fdca26\"], [1.0, \"#f0f921\"]], \"type\": \"surface\"}], \"table\": [{\"cells\": {\"fill\": {\"color\": \"#EBF0F8\"}, \"line\": {\"color\": \"white\"}}, \"header\": {\"fill\": {\"color\": \"#C8D4E3\"}, \"line\": {\"color\": \"white\"}}, \"type\": \"table\"}]}, \"layout\": {\"annotationdefaults\": {\"arrowcolor\": \"#2a3f5f\", \"arrowhead\": 0, \"arrowwidth\": 1}, \"coloraxis\": {\"colorbar\": {\"outlinewidth\": 0, \"ticks\": \"\"}}, \"colorscale\": {\"diverging\": [[0, \"#8e0152\"], [0.1, \"#c51b7d\"], [0.2, \"#de77ae\"], [0.3, \"#f1b6da\"], [0.4, \"#fde0ef\"], [0.5, \"#f7f7f7\"], [0.6, \"#e6f5d0\"], [0.7, \"#b8e186\"], [0.8, \"#7fbc41\"], [0.9, \"#4d9221\"], [1, \"#276419\"]], \"sequential\": [[0.0, \"#0d0887\"], [0.1111111111111111, \"#46039f\"], [0.2222222222222222, \"#7201a8\"], [0.3333333333333333, \"#9c179e\"], [0.4444444444444444, \"#bd3786\"], [0.5555555555555556, \"#d8576b\"], [0.6666666666666666, \"#ed7953\"], [0.7777777777777778, \"#fb9f3a\"], [0.8888888888888888, \"#fdca26\"], [1.0, \"#f0f921\"]], \"sequentialminus\": [[0.0, \"#0d0887\"], [0.1111111111111111, \"#46039f\"], [0.2222222222222222, \"#7201a8\"], [0.3333333333333333, \"#9c179e\"], [0.4444444444444444, \"#bd3786\"], [0.5555555555555556, \"#d8576b\"], [0.6666666666666666, \"#ed7953\"], [0.7777777777777778, \"#fb9f3a\"], [0.8888888888888888, \"#fdca26\"], [1.0, \"#f0f921\"]]}, \"colorway\": [\"#636efa\", \"#EF553B\", \"#00cc96\", \"#ab63fa\", \"#FFA15A\", \"#19d3f3\", \"#FF6692\", \"#B6E880\", \"#FF97FF\", \"#FECB52\"], \"font\": {\"color\": \"#2a3f5f\"}, \"geo\": {\"bgcolor\": \"white\", \"lakecolor\": \"white\", \"landcolor\": \"#E5ECF6\", \"showlakes\": true, \"showland\": true, \"subunitcolor\": \"white\"}, \"hoverlabel\": {\"align\": \"left\"}, \"hovermode\": \"closest\", \"mapbox\": {\"style\": \"light\"}, \"paper_bgcolor\": \"white\", \"plot_bgcolor\": \"#E5ECF6\", \"polar\": {\"angularaxis\": {\"gridcolor\": \"white\", \"linecolor\": \"white\", \"ticks\": \"\"}, \"bgcolor\": \"#E5ECF6\", \"radialaxis\": {\"gridcolor\": \"white\", \"linecolor\": \"white\", \"ticks\": \"\"}}, \"scene\": {\"xaxis\": {\"backgroundcolor\": \"#E5ECF6\", \"gridcolor\": \"white\", \"gridwidth\": 2, \"linecolor\": \"white\", \"showbackground\": true, \"ticks\": \"\", \"zerolinecolor\": \"white\"}, \"yaxis\": {\"backgroundcolor\": \"#E5ECF6\", \"gridcolor\": \"white\", \"gridwidth\": 2, \"linecolor\": \"white\", \"showbackground\": true, \"ticks\": \"\", \"zerolinecolor\": \"white\"}, \"zaxis\": {\"backgroundcolor\": \"#E5ECF6\", \"gridcolor\": \"white\", \"gridwidth\": 2, \"linecolor\": \"white\", \"showbackground\": true, \"ticks\": \"\", \"zerolinecolor\": \"white\"}}, \"shapedefaults\": {\"line\": {\"color\": \"#2a3f5f\"}}, \"ternary\": {\"aaxis\": {\"gridcolor\": \"white\", \"linecolor\": \"white\", \"ticks\": \"\"}, \"baxis\": {\"gridcolor\": \"white\", \"linecolor\": \"white\", \"ticks\": \"\"}, \"bgcolor\": \"#E5ECF6\", \"caxis\": {\"gridcolor\": \"white\", \"linecolor\": \"white\", \"ticks\": \"\"}}, \"title\": {\"x\": 0.05}, \"xaxis\": {\"automargin\": true, \"gridcolor\": \"white\", \"linecolor\": \"white\", \"ticks\": \"\", \"title\": {\"standoff\": 15}, \"zerolinecolor\": \"white\", \"zerolinewidth\": 2}, \"yaxis\": {\"automargin\": true, \"gridcolor\": \"white\", \"linecolor\": \"white\", \"ticks\": \"\", \"title\": {\"standoff\": 15}, \"zerolinecolor\": \"white\", \"zerolinewidth\": 2}}}, \"xaxis\": {\"anchor\": \"y\", \"domain\": [0.0, 1.0], \"title\": {\"text\": \"x\"}}, \"yaxis\": {\"anchor\": \"x\", \"domain\": [0.0, 1.0], \"title\": {\"text\": \"y\"}}},\n",
       "                        {\"responsive\": true}\n",
       "                    ).then(function(){\n",
       "                            \n",
       "var gd = document.getElementById('e92b6cea-471c-471a-9442-c6b9eab515e9');\n",
       "var x = new MutationObserver(function (mutations, observer) {{\n",
       "        var display = window.getComputedStyle(gd).display;\n",
       "        if (!display || display === 'none') {{\n",
       "            console.log([gd, 'removed!']);\n",
       "            Plotly.purge(gd);\n",
       "            observer.disconnect();\n",
       "        }}\n",
       "}});\n",
       "\n",
       "// Listen for the removal of the full notebook cells\n",
       "var notebookContainer = gd.closest('#notebook-container');\n",
       "if (notebookContainer) {{\n",
       "    x.observe(notebookContainer, {childList: true});\n",
       "}}\n",
       "\n",
       "// Listen for the clearing of the current output cell\n",
       "var outputEl = gd.closest('.output');\n",
       "if (outputEl) {{\n",
       "    x.observe(outputEl, {childList: true});\n",
       "}}\n",
       "\n",
       "                        })\n",
       "                };\n",
       "                });\n",
       "            </script>\n",
       "        </div>"
      ]
     },
     "metadata": {},
     "output_type": "display_data"
    }
   ],
   "source": [
    "px.bar(x = train_df[train_df.target == 0].start_hour.value_counts().keys()\n",
    "      , y = train_df[train_df.target == 0].start_hour.value_counts()\n",
    "      )"
   ]
  },
  {
   "cell_type": "code",
   "execution_count": 37,
   "metadata": {},
   "outputs": [
    {
     "data": {
      "text/plain": [
       "Index(['start_hour', 'dow', 'unique_sites', 'first_sess_site_duration',\n",
       "       'session_timespan'],\n",
       "      dtype='object')"
      ]
     },
     "execution_count": 37,
     "metadata": {},
     "output_type": "execute_result"
    }
   ],
   "source": [
    "train_df_add.keys()"
   ]
  },
  {
   "cell_type": "code",
   "execution_count": 39,
   "metadata": {},
   "outputs": [
    {
     "data": {
      "application/vnd.plotly.v1+json": {
       "config": {
        "plotlyServerURL": "https://plot.ly"
       },
       "data": [
        {
         "alignmentgroup": "True",
         "hoverlabel": {
          "namelength": 0
         },
         "hovertemplate": "x=%{x}<br>y=%{y}",
         "legendgroup": "",
         "marker": {
          "color": "#636efa"
         },
         "name": "",
         "offsetgroup": "",
         "orientation": "v",
         "showlegend": false,
         "textposition": "auto",
         "type": "bar",
         "x": [
          7,
          6,
          8,
          5,
          4,
          9,
          3,
          2,
          1,
          10
         ],
         "xaxis": "x",
         "y": [
          37185,
          35332,
          33203,
          30763,
          23162,
          22855,
          21004,
          20446,
          16830,
          10484
         ],
         "yaxis": "y"
        }
       ],
       "layout": {
        "autosize": true,
        "barmode": "relative",
        "legend": {
         "tracegroupgap": 0
        },
        "margin": {
         "t": 60
        },
        "template": {
         "data": {
          "bar": [
           {
            "error_x": {
             "color": "#2a3f5f"
            },
            "error_y": {
             "color": "#2a3f5f"
            },
            "marker": {
             "line": {
              "color": "#E5ECF6",
              "width": 0.5
             }
            },
            "type": "bar"
           }
          ],
          "barpolar": [
           {
            "marker": {
             "line": {
              "color": "#E5ECF6",
              "width": 0.5
             }
            },
            "type": "barpolar"
           }
          ],
          "carpet": [
           {
            "aaxis": {
             "endlinecolor": "#2a3f5f",
             "gridcolor": "white",
             "linecolor": "white",
             "minorgridcolor": "white",
             "startlinecolor": "#2a3f5f"
            },
            "baxis": {
             "endlinecolor": "#2a3f5f",
             "gridcolor": "white",
             "linecolor": "white",
             "minorgridcolor": "white",
             "startlinecolor": "#2a3f5f"
            },
            "type": "carpet"
           }
          ],
          "choropleth": [
           {
            "colorbar": {
             "outlinewidth": 0,
             "ticks": ""
            },
            "type": "choropleth"
           }
          ],
          "contour": [
           {
            "colorbar": {
             "outlinewidth": 0,
             "ticks": ""
            },
            "colorscale": [
             [
              0,
              "#0d0887"
             ],
             [
              0.1111111111111111,
              "#46039f"
             ],
             [
              0.2222222222222222,
              "#7201a8"
             ],
             [
              0.3333333333333333,
              "#9c179e"
             ],
             [
              0.4444444444444444,
              "#bd3786"
             ],
             [
              0.5555555555555556,
              "#d8576b"
             ],
             [
              0.6666666666666666,
              "#ed7953"
             ],
             [
              0.7777777777777778,
              "#fb9f3a"
             ],
             [
              0.8888888888888888,
              "#fdca26"
             ],
             [
              1,
              "#f0f921"
             ]
            ],
            "type": "contour"
           }
          ],
          "contourcarpet": [
           {
            "colorbar": {
             "outlinewidth": 0,
             "ticks": ""
            },
            "type": "contourcarpet"
           }
          ],
          "heatmap": [
           {
            "colorbar": {
             "outlinewidth": 0,
             "ticks": ""
            },
            "colorscale": [
             [
              0,
              "#0d0887"
             ],
             [
              0.1111111111111111,
              "#46039f"
             ],
             [
              0.2222222222222222,
              "#7201a8"
             ],
             [
              0.3333333333333333,
              "#9c179e"
             ],
             [
              0.4444444444444444,
              "#bd3786"
             ],
             [
              0.5555555555555556,
              "#d8576b"
             ],
             [
              0.6666666666666666,
              "#ed7953"
             ],
             [
              0.7777777777777778,
              "#fb9f3a"
             ],
             [
              0.8888888888888888,
              "#fdca26"
             ],
             [
              1,
              "#f0f921"
             ]
            ],
            "type": "heatmap"
           }
          ],
          "heatmapgl": [
           {
            "colorbar": {
             "outlinewidth": 0,
             "ticks": ""
            },
            "colorscale": [
             [
              0,
              "#0d0887"
             ],
             [
              0.1111111111111111,
              "#46039f"
             ],
             [
              0.2222222222222222,
              "#7201a8"
             ],
             [
              0.3333333333333333,
              "#9c179e"
             ],
             [
              0.4444444444444444,
              "#bd3786"
             ],
             [
              0.5555555555555556,
              "#d8576b"
             ],
             [
              0.6666666666666666,
              "#ed7953"
             ],
             [
              0.7777777777777778,
              "#fb9f3a"
             ],
             [
              0.8888888888888888,
              "#fdca26"
             ],
             [
              1,
              "#f0f921"
             ]
            ],
            "type": "heatmapgl"
           }
          ],
          "histogram": [
           {
            "marker": {
             "colorbar": {
              "outlinewidth": 0,
              "ticks": ""
             }
            },
            "type": "histogram"
           }
          ],
          "histogram2d": [
           {
            "colorbar": {
             "outlinewidth": 0,
             "ticks": ""
            },
            "colorscale": [
             [
              0,
              "#0d0887"
             ],
             [
              0.1111111111111111,
              "#46039f"
             ],
             [
              0.2222222222222222,
              "#7201a8"
             ],
             [
              0.3333333333333333,
              "#9c179e"
             ],
             [
              0.4444444444444444,
              "#bd3786"
             ],
             [
              0.5555555555555556,
              "#d8576b"
             ],
             [
              0.6666666666666666,
              "#ed7953"
             ],
             [
              0.7777777777777778,
              "#fb9f3a"
             ],
             [
              0.8888888888888888,
              "#fdca26"
             ],
             [
              1,
              "#f0f921"
             ]
            ],
            "type": "histogram2d"
           }
          ],
          "histogram2dcontour": [
           {
            "colorbar": {
             "outlinewidth": 0,
             "ticks": ""
            },
            "colorscale": [
             [
              0,
              "#0d0887"
             ],
             [
              0.1111111111111111,
              "#46039f"
             ],
             [
              0.2222222222222222,
              "#7201a8"
             ],
             [
              0.3333333333333333,
              "#9c179e"
             ],
             [
              0.4444444444444444,
              "#bd3786"
             ],
             [
              0.5555555555555556,
              "#d8576b"
             ],
             [
              0.6666666666666666,
              "#ed7953"
             ],
             [
              0.7777777777777778,
              "#fb9f3a"
             ],
             [
              0.8888888888888888,
              "#fdca26"
             ],
             [
              1,
              "#f0f921"
             ]
            ],
            "type": "histogram2dcontour"
           }
          ],
          "mesh3d": [
           {
            "colorbar": {
             "outlinewidth": 0,
             "ticks": ""
            },
            "type": "mesh3d"
           }
          ],
          "parcoords": [
           {
            "line": {
             "colorbar": {
              "outlinewidth": 0,
              "ticks": ""
             }
            },
            "type": "parcoords"
           }
          ],
          "pie": [
           {
            "automargin": true,
            "type": "pie"
           }
          ],
          "scatter": [
           {
            "marker": {
             "colorbar": {
              "outlinewidth": 0,
              "ticks": ""
             }
            },
            "type": "scatter"
           }
          ],
          "scatter3d": [
           {
            "line": {
             "colorbar": {
              "outlinewidth": 0,
              "ticks": ""
             }
            },
            "marker": {
             "colorbar": {
              "outlinewidth": 0,
              "ticks": ""
             }
            },
            "type": "scatter3d"
           }
          ],
          "scattercarpet": [
           {
            "marker": {
             "colorbar": {
              "outlinewidth": 0,
              "ticks": ""
             }
            },
            "type": "scattercarpet"
           }
          ],
          "scattergeo": [
           {
            "marker": {
             "colorbar": {
              "outlinewidth": 0,
              "ticks": ""
             }
            },
            "type": "scattergeo"
           }
          ],
          "scattergl": [
           {
            "marker": {
             "colorbar": {
              "outlinewidth": 0,
              "ticks": ""
             }
            },
            "type": "scattergl"
           }
          ],
          "scattermapbox": [
           {
            "marker": {
             "colorbar": {
              "outlinewidth": 0,
              "ticks": ""
             }
            },
            "type": "scattermapbox"
           }
          ],
          "scatterpolar": [
           {
            "marker": {
             "colorbar": {
              "outlinewidth": 0,
              "ticks": ""
             }
            },
            "type": "scatterpolar"
           }
          ],
          "scatterpolargl": [
           {
            "marker": {
             "colorbar": {
              "outlinewidth": 0,
              "ticks": ""
             }
            },
            "type": "scatterpolargl"
           }
          ],
          "scatterternary": [
           {
            "marker": {
             "colorbar": {
              "outlinewidth": 0,
              "ticks": ""
             }
            },
            "type": "scatterternary"
           }
          ],
          "surface": [
           {
            "colorbar": {
             "outlinewidth": 0,
             "ticks": ""
            },
            "colorscale": [
             [
              0,
              "#0d0887"
             ],
             [
              0.1111111111111111,
              "#46039f"
             ],
             [
              0.2222222222222222,
              "#7201a8"
             ],
             [
              0.3333333333333333,
              "#9c179e"
             ],
             [
              0.4444444444444444,
              "#bd3786"
             ],
             [
              0.5555555555555556,
              "#d8576b"
             ],
             [
              0.6666666666666666,
              "#ed7953"
             ],
             [
              0.7777777777777778,
              "#fb9f3a"
             ],
             [
              0.8888888888888888,
              "#fdca26"
             ],
             [
              1,
              "#f0f921"
             ]
            ],
            "type": "surface"
           }
          ],
          "table": [
           {
            "cells": {
             "fill": {
              "color": "#EBF0F8"
             },
             "line": {
              "color": "white"
             }
            },
            "header": {
             "fill": {
              "color": "#C8D4E3"
             },
             "line": {
              "color": "white"
             }
            },
            "type": "table"
           }
          ]
         },
         "layout": {
          "annotationdefaults": {
           "arrowcolor": "#2a3f5f",
           "arrowhead": 0,
           "arrowwidth": 1
          },
          "coloraxis": {
           "colorbar": {
            "outlinewidth": 0,
            "ticks": ""
           }
          },
          "colorscale": {
           "diverging": [
            [
             0,
             "#8e0152"
            ],
            [
             0.1,
             "#c51b7d"
            ],
            [
             0.2,
             "#de77ae"
            ],
            [
             0.3,
             "#f1b6da"
            ],
            [
             0.4,
             "#fde0ef"
            ],
            [
             0.5,
             "#f7f7f7"
            ],
            [
             0.6,
             "#e6f5d0"
            ],
            [
             0.7,
             "#b8e186"
            ],
            [
             0.8,
             "#7fbc41"
            ],
            [
             0.9,
             "#4d9221"
            ],
            [
             1,
             "#276419"
            ]
           ],
           "sequential": [
            [
             0,
             "#0d0887"
            ],
            [
             0.1111111111111111,
             "#46039f"
            ],
            [
             0.2222222222222222,
             "#7201a8"
            ],
            [
             0.3333333333333333,
             "#9c179e"
            ],
            [
             0.4444444444444444,
             "#bd3786"
            ],
            [
             0.5555555555555556,
             "#d8576b"
            ],
            [
             0.6666666666666666,
             "#ed7953"
            ],
            [
             0.7777777777777778,
             "#fb9f3a"
            ],
            [
             0.8888888888888888,
             "#fdca26"
            ],
            [
             1,
             "#f0f921"
            ]
           ],
           "sequentialminus": [
            [
             0,
             "#0d0887"
            ],
            [
             0.1111111111111111,
             "#46039f"
            ],
            [
             0.2222222222222222,
             "#7201a8"
            ],
            [
             0.3333333333333333,
             "#9c179e"
            ],
            [
             0.4444444444444444,
             "#bd3786"
            ],
            [
             0.5555555555555556,
             "#d8576b"
            ],
            [
             0.6666666666666666,
             "#ed7953"
            ],
            [
             0.7777777777777778,
             "#fb9f3a"
            ],
            [
             0.8888888888888888,
             "#fdca26"
            ],
            [
             1,
             "#f0f921"
            ]
           ]
          },
          "colorway": [
           "#636efa",
           "#EF553B",
           "#00cc96",
           "#ab63fa",
           "#FFA15A",
           "#19d3f3",
           "#FF6692",
           "#B6E880",
           "#FF97FF",
           "#FECB52"
          ],
          "font": {
           "color": "#2a3f5f"
          },
          "geo": {
           "bgcolor": "white",
           "lakecolor": "white",
           "landcolor": "#E5ECF6",
           "showlakes": true,
           "showland": true,
           "subunitcolor": "white"
          },
          "hoverlabel": {
           "align": "left"
          },
          "hovermode": "closest",
          "mapbox": {
           "style": "light"
          },
          "paper_bgcolor": "white",
          "plot_bgcolor": "#E5ECF6",
          "polar": {
           "angularaxis": {
            "gridcolor": "white",
            "linecolor": "white",
            "ticks": ""
           },
           "bgcolor": "#E5ECF6",
           "radialaxis": {
            "gridcolor": "white",
            "linecolor": "white",
            "ticks": ""
           }
          },
          "scene": {
           "xaxis": {
            "backgroundcolor": "#E5ECF6",
            "gridcolor": "white",
            "gridwidth": 2,
            "linecolor": "white",
            "showbackground": true,
            "ticks": "",
            "zerolinecolor": "white"
           },
           "yaxis": {
            "backgroundcolor": "#E5ECF6",
            "gridcolor": "white",
            "gridwidth": 2,
            "linecolor": "white",
            "showbackground": true,
            "ticks": "",
            "zerolinecolor": "white"
           },
           "zaxis": {
            "backgroundcolor": "#E5ECF6",
            "gridcolor": "white",
            "gridwidth": 2,
            "linecolor": "white",
            "showbackground": true,
            "ticks": "",
            "zerolinecolor": "white"
           }
          },
          "shapedefaults": {
           "line": {
            "color": "#2a3f5f"
           }
          },
          "ternary": {
           "aaxis": {
            "gridcolor": "white",
            "linecolor": "white",
            "ticks": ""
           },
           "baxis": {
            "gridcolor": "white",
            "linecolor": "white",
            "ticks": ""
           },
           "bgcolor": "#E5ECF6",
           "caxis": {
            "gridcolor": "white",
            "linecolor": "white",
            "ticks": ""
           }
          },
          "title": {
           "x": 0.05
          },
          "xaxis": {
           "automargin": true,
           "gridcolor": "white",
           "linecolor": "white",
           "ticks": "",
           "title": {
            "standoff": 15
           },
           "zerolinecolor": "white",
           "zerolinewidth": 2
          },
          "yaxis": {
           "automargin": true,
           "gridcolor": "white",
           "linecolor": "white",
           "ticks": "",
           "title": {
            "standoff": 15
           },
           "zerolinecolor": "white",
           "zerolinewidth": 2
          }
         }
        },
        "xaxis": {
         "anchor": "y",
         "autorange": true,
         "domain": [
          0,
          1
         ],
         "range": [
          0.5,
          10.5
         ],
         "title": {
          "text": "x"
         },
         "type": "linear"
        },
        "yaxis": {
         "anchor": "x",
         "autorange": true,
         "domain": [
          0,
          1
         ],
         "range": [
          0,
          39142.10526315789
         ],
         "title": {
          "text": "y"
         },
         "type": "linear"
        }
       }
      },
      "image/png": "[encoded data removed]",
      "text/html": [
       "<div>\n",
       "        \n",
       "        \n",
       "            <div id=\"20af1670-75b4-4cdd-8622-5d4677818b8a\" class=\"plotly-graph-div\" style=\"height:525px; width:100%;\"></div>\n",
       "            <script type=\"text/javascript\">\n",
       "                require([\"plotly\"], function(Plotly) {\n",
       "                    window.PLOTLYENV=window.PLOTLYENV || {};\n",
       "                    \n",
       "                if (document.getElementById(\"20af1670-75b4-4cdd-8622-5d4677818b8a\")) {\n",
       "                    Plotly.newPlot(\n",
       "                        '20af1670-75b4-4cdd-8622-5d4677818b8a',\n",
       "                        [{\"alignmentgroup\": \"True\", \"hoverlabel\": {\"namelength\": 0}, \"hovertemplate\": \"x=%{x}<br>y=%{y}\", \"legendgroup\": \"\", \"marker\": {\"color\": \"#636efa\"}, \"name\": \"\", \"offsetgroup\": \"\", \"orientation\": \"v\", \"showlegend\": false, \"textposition\": \"auto\", \"type\": \"bar\", \"x\": [7.0, 6.0, 8.0, 5.0, 4.0, 9.0, 3.0, 2.0, 1.0, 10.0], \"xaxis\": \"x\", \"y\": [37185, 35332, 33203, 30763, 23162, 22855, 21004, 20446, 16830, 10484], \"yaxis\": \"y\"}],\n",
       "                        {\"barmode\": \"relative\", \"legend\": {\"tracegroupgap\": 0}, \"margin\": {\"t\": 60}, \"template\": {\"data\": {\"bar\": [{\"error_x\": {\"color\": \"#2a3f5f\"}, \"error_y\": {\"color\": \"#2a3f5f\"}, \"marker\": {\"line\": {\"color\": \"#E5ECF6\", \"width\": 0.5}}, \"type\": \"bar\"}], \"barpolar\": [{\"marker\": {\"line\": {\"color\": \"#E5ECF6\", \"width\": 0.5}}, \"type\": \"barpolar\"}], \"carpet\": [{\"aaxis\": {\"endlinecolor\": \"#2a3f5f\", \"gridcolor\": \"white\", \"linecolor\": \"white\", \"minorgridcolor\": \"white\", \"startlinecolor\": \"#2a3f5f\"}, \"baxis\": {\"endlinecolor\": \"#2a3f5f\", \"gridcolor\": \"white\", \"linecolor\": \"white\", \"minorgridcolor\": \"white\", \"startlinecolor\": \"#2a3f5f\"}, \"type\": \"carpet\"}], \"choropleth\": [{\"colorbar\": {\"outlinewidth\": 0, \"ticks\": \"\"}, \"type\": \"choropleth\"}], \"contour\": [{\"colorbar\": {\"outlinewidth\": 0, \"ticks\": \"\"}, \"colorscale\": [[0.0, \"#0d0887\"], [0.1111111111111111, \"#46039f\"], [0.2222222222222222, \"#7201a8\"], [0.3333333333333333, \"#9c179e\"], [0.4444444444444444, \"#bd3786\"], [0.5555555555555556, \"#d8576b\"], [0.6666666666666666, \"#ed7953\"], [0.7777777777777778, \"#fb9f3a\"], [0.8888888888888888, \"#fdca26\"], [1.0, \"#f0f921\"]], \"type\": \"contour\"}], \"contourcarpet\": [{\"colorbar\": {\"outlinewidth\": 0, \"ticks\": \"\"}, \"type\": \"contourcarpet\"}], \"heatmap\": [{\"colorbar\": {\"outlinewidth\": 0, \"ticks\": \"\"}, \"colorscale\": [[0.0, \"#0d0887\"], [0.1111111111111111, \"#46039f\"], [0.2222222222222222, \"#7201a8\"], [0.3333333333333333, \"#9c179e\"], [0.4444444444444444, \"#bd3786\"], [0.5555555555555556, \"#d8576b\"], [0.6666666666666666, \"#ed7953\"], [0.7777777777777778, \"#fb9f3a\"], [0.8888888888888888, \"#fdca26\"], [1.0, \"#f0f921\"]], \"type\": \"heatmap\"}], \"heatmapgl\": [{\"colorbar\": {\"outlinewidth\": 0, \"ticks\": \"\"}, \"colorscale\": [[0.0, \"#0d0887\"], [0.1111111111111111, \"#46039f\"], [0.2222222222222222, \"#7201a8\"], [0.3333333333333333, \"#9c179e\"], [0.4444444444444444, \"#bd3786\"], [0.5555555555555556, \"#d8576b\"], [0.6666666666666666, \"#ed7953\"], [0.7777777777777778, \"#fb9f3a\"], [0.8888888888888888, \"#fdca26\"], [1.0, \"#f0f921\"]], \"type\": \"heatmapgl\"}], \"histogram\": [{\"marker\": {\"colorbar\": {\"outlinewidth\": 0, \"ticks\": \"\"}}, \"type\": \"histogram\"}], \"histogram2d\": [{\"colorbar\": {\"outlinewidth\": 0, \"ticks\": \"\"}, \"colorscale\": [[0.0, \"#0d0887\"], [0.1111111111111111, \"#46039f\"], [0.2222222222222222, \"#7201a8\"], [0.3333333333333333, \"#9c179e\"], [0.4444444444444444, \"#bd3786\"], [0.5555555555555556, \"#d8576b\"], [0.6666666666666666, \"#ed7953\"], [0.7777777777777778, \"#fb9f3a\"], [0.8888888888888888, \"#fdca26\"], [1.0, \"#f0f921\"]], \"type\": \"histogram2d\"}], \"histogram2dcontour\": [{\"colorbar\": {\"outlinewidth\": 0, \"ticks\": \"\"}, \"colorscale\": [[0.0, \"#0d0887\"], [0.1111111111111111, \"#46039f\"], [0.2222222222222222, \"#7201a8\"], [0.3333333333333333, \"#9c179e\"], [0.4444444444444444, \"#bd3786\"], [0.5555555555555556, \"#d8576b\"], [0.6666666666666666, \"#ed7953\"], [0.7777777777777778, \"#fb9f3a\"], [0.8888888888888888, \"#fdca26\"], [1.0, \"#f0f921\"]], \"type\": \"histogram2dcontour\"}], \"mesh3d\": [{\"colorbar\": {\"outlinewidth\": 0, \"ticks\": \"\"}, \"type\": \"mesh3d\"}], \"parcoords\": [{\"line\": {\"colorbar\": {\"outlinewidth\": 0, \"ticks\": \"\"}}, \"type\": \"parcoords\"}], \"pie\": [{\"automargin\": true, \"type\": \"pie\"}], \"scatter\": [{\"marker\": {\"colorbar\": {\"outlinewidth\": 0, \"ticks\": \"\"}}, \"type\": \"scatter\"}], \"scatter3d\": [{\"line\": {\"colorbar\": {\"outlinewidth\": 0, \"ticks\": \"\"}}, \"marker\": {\"colorbar\": {\"outlinewidth\": 0, \"ticks\": \"\"}}, \"type\": \"scatter3d\"}], \"scattercarpet\": [{\"marker\": {\"colorbar\": {\"outlinewidth\": 0, \"ticks\": \"\"}}, \"type\": \"scattercarpet\"}], \"scattergeo\": [{\"marker\": {\"colorbar\": {\"outlinewidth\": 0, \"ticks\": \"\"}}, \"type\": \"scattergeo\"}], \"scattergl\": [{\"marker\": {\"colorbar\": {\"outlinewidth\": 0, \"ticks\": \"\"}}, \"type\": \"scattergl\"}], \"scattermapbox\": [{\"marker\": {\"colorbar\": {\"outlinewidth\": 0, \"ticks\": \"\"}}, \"type\": \"scattermapbox\"}], \"scatterpolar\": [{\"marker\": {\"colorbar\": {\"outlinewidth\": 0, \"ticks\": \"\"}}, \"type\": \"scatterpolar\"}], \"scatterpolargl\": [{\"marker\": {\"colorbar\": {\"outlinewidth\": 0, \"ticks\": \"\"}}, \"type\": \"scatterpolargl\"}], \"scatterternary\": [{\"marker\": {\"colorbar\": {\"outlinewidth\": 0, \"ticks\": \"\"}}, \"type\": \"scatterternary\"}], \"surface\": [{\"colorbar\": {\"outlinewidth\": 0, \"ticks\": \"\"}, \"colorscale\": [[0.0, \"#0d0887\"], [0.1111111111111111, \"#46039f\"], [0.2222222222222222, \"#7201a8\"], [0.3333333333333333, \"#9c179e\"], [0.4444444444444444, \"#bd3786\"], [0.5555555555555556, \"#d8576b\"], [0.6666666666666666, \"#ed7953\"], [0.7777777777777778, \"#fb9f3a\"], [0.8888888888888888, \"#fdca26\"], [1.0, \"#f0f921\"]], \"type\": \"surface\"}], \"table\": [{\"cells\": {\"fill\": {\"color\": \"#EBF0F8\"}, \"line\": {\"color\": \"white\"}}, \"header\": {\"fill\": {\"color\": \"#C8D4E3\"}, \"line\": {\"color\": \"white\"}}, \"type\": \"table\"}]}, \"layout\": {\"annotationdefaults\": {\"arrowcolor\": \"#2a3f5f\", \"arrowhead\": 0, \"arrowwidth\": 1}, \"coloraxis\": {\"colorbar\": {\"outlinewidth\": 0, \"ticks\": \"\"}}, \"colorscale\": {\"diverging\": [[0, \"#8e0152\"], [0.1, \"#c51b7d\"], [0.2, \"#de77ae\"], [0.3, \"#f1b6da\"], [0.4, \"#fde0ef\"], [0.5, \"#f7f7f7\"], [0.6, \"#e6f5d0\"], [0.7, \"#b8e186\"], [0.8, \"#7fbc41\"], [0.9, \"#4d9221\"], [1, \"#276419\"]], \"sequential\": [[0.0, \"#0d0887\"], [0.1111111111111111, \"#46039f\"], [0.2222222222222222, \"#7201a8\"], [0.3333333333333333, \"#9c179e\"], [0.4444444444444444, \"#bd3786\"], [0.5555555555555556, \"#d8576b\"], [0.6666666666666666, \"#ed7953\"], [0.7777777777777778, \"#fb9f3a\"], [0.8888888888888888, \"#fdca26\"], [1.0, \"#f0f921\"]], \"sequentialminus\": [[0.0, \"#0d0887\"], [0.1111111111111111, \"#46039f\"], [0.2222222222222222, \"#7201a8\"], [0.3333333333333333, \"#9c179e\"], [0.4444444444444444, \"#bd3786\"], [0.5555555555555556, \"#d8576b\"], [0.6666666666666666, \"#ed7953\"], [0.7777777777777778, \"#fb9f3a\"], [0.8888888888888888, \"#fdca26\"], [1.0, \"#f0f921\"]]}, \"colorway\": [\"#636efa\", \"#EF553B\", \"#00cc96\", \"#ab63fa\", \"#FFA15A\", \"#19d3f3\", \"#FF6692\", \"#B6E880\", \"#FF97FF\", \"#FECB52\"], \"font\": {\"color\": \"#2a3f5f\"}, \"geo\": {\"bgcolor\": \"white\", \"lakecolor\": \"white\", \"landcolor\": \"#E5ECF6\", \"showlakes\": true, \"showland\": true, \"subunitcolor\": \"white\"}, \"hoverlabel\": {\"align\": \"left\"}, \"hovermode\": \"closest\", \"mapbox\": {\"style\": \"light\"}, \"paper_bgcolor\": \"white\", \"plot_bgcolor\": \"#E5ECF6\", \"polar\": {\"angularaxis\": {\"gridcolor\": \"white\", \"linecolor\": \"white\", \"ticks\": \"\"}, \"bgcolor\": \"#E5ECF6\", \"radialaxis\": {\"gridcolor\": \"white\", \"linecolor\": \"white\", \"ticks\": \"\"}}, \"scene\": {\"xaxis\": {\"backgroundcolor\": \"#E5ECF6\", \"gridcolor\": \"white\", \"gridwidth\": 2, \"linecolor\": \"white\", \"showbackground\": true, \"ticks\": \"\", \"zerolinecolor\": \"white\"}, \"yaxis\": {\"backgroundcolor\": \"#E5ECF6\", \"gridcolor\": \"white\", \"gridwidth\": 2, \"linecolor\": \"white\", \"showbackground\": true, \"ticks\": \"\", \"zerolinecolor\": \"white\"}, \"zaxis\": {\"backgroundcolor\": \"#E5ECF6\", \"gridcolor\": \"white\", \"gridwidth\": 2, \"linecolor\": \"white\", \"showbackground\": true, \"ticks\": \"\", \"zerolinecolor\": \"white\"}}, \"shapedefaults\": {\"line\": {\"color\": \"#2a3f5f\"}}, \"ternary\": {\"aaxis\": {\"gridcolor\": \"white\", \"linecolor\": \"white\", \"ticks\": \"\"}, \"baxis\": {\"gridcolor\": \"white\", \"linecolor\": \"white\", \"ticks\": \"\"}, \"bgcolor\": \"#E5ECF6\", \"caxis\": {\"gridcolor\": \"white\", \"linecolor\": \"white\", \"ticks\": \"\"}}, \"title\": {\"x\": 0.05}, \"xaxis\": {\"automargin\": true, \"gridcolor\": \"white\", \"linecolor\": \"white\", \"ticks\": \"\", \"title\": {\"standoff\": 15}, \"zerolinecolor\": \"white\", \"zerolinewidth\": 2}, \"yaxis\": {\"automargin\": true, \"gridcolor\": \"white\", \"linecolor\": \"white\", \"ticks\": \"\", \"title\": {\"standoff\": 15}, \"zerolinecolor\": \"white\", \"zerolinewidth\": 2}}}, \"xaxis\": {\"anchor\": \"y\", \"domain\": [0.0, 1.0], \"title\": {\"text\": \"x\"}}, \"yaxis\": {\"anchor\": \"x\", \"domain\": [0.0, 1.0], \"title\": {\"text\": \"y\"}}},\n",
       "                        {\"responsive\": true}\n",
       "                    ).then(function(){\n",
       "                            \n",
       "var gd = document.getElementById('20af1670-75b4-4cdd-8622-5d4677818b8a');\n",
       "var x = new MutationObserver(function (mutations, observer) {{\n",
       "        var display = window.getComputedStyle(gd).display;\n",
       "        if (!display || display === 'none') {{\n",
       "            console.log([gd, 'removed!']);\n",
       "            Plotly.purge(gd);\n",
       "            observer.disconnect();\n",
       "        }}\n",
       "}});\n",
       "\n",
       "// Listen for the removal of the full notebook cells\n",
       "var notebookContainer = gd.closest('#notebook-container');\n",
       "if (notebookContainer) {{\n",
       "    x.observe(notebookContainer, {childList: true});\n",
       "}}\n",
       "\n",
       "// Listen for the clearing of the current output cell\n",
       "var outputEl = gd.closest('.output');\n",
       "if (outputEl) {{\n",
       "    x.observe(outputEl, {childList: true});\n",
       "}}\n",
       "\n",
       "                        })\n",
       "                };\n",
       "                });\n",
       "            </script>\n",
       "        </div>"
      ]
     },
     "metadata": {},
     "output_type": "display_data"
    }
   ],
   "source": [
    "px.bar(x = train_df_add[train_df.target == 0].unique_sites.value_counts().keys()\n",
    "      , y = train_df_add[train_df.target == 0].unique_sites.value_counts()\n",
    "      )"
   ]
  },
  {
   "cell_type": "code",
   "execution_count": 40,
   "metadata": {},
   "outputs": [
    {
     "data": {
      "application/vnd.plotly.v1+json": {
       "config": {
        "plotlyServerURL": "https://plot.ly"
       },
       "data": [
        {
         "alignmentgroup": "True",
         "hoverlabel": {
          "namelength": 0
         },
         "hovertemplate": "x=%{x}<br>y=%{y}",
         "legendgroup": "",
         "marker": {
          "color": "#636efa"
         },
         "name": "",
         "offsetgroup": "",
         "orientation": "v",
         "showlegend": false,
         "textposition": "auto",
         "type": "bar",
         "x": [
          7,
          5,
          6,
          8,
          4,
          9,
          3,
          2,
          10,
          1
         ],
         "xaxis": "x",
         "y": [
          467,
          368,
          368,
          335,
          240,
          206,
          141,
          78,
          61,
          33
         ],
         "yaxis": "y"
        }
       ],
       "layout": {
        "autosize": true,
        "barmode": "relative",
        "legend": {
         "tracegroupgap": 0
        },
        "margin": {
         "t": 60
        },
        "template": {
         "data": {
          "bar": [
           {
            "error_x": {
             "color": "#2a3f5f"
            },
            "error_y": {
             "color": "#2a3f5f"
            },
            "marker": {
             "line": {
              "color": "#E5ECF6",
              "width": 0.5
             }
            },
            "type": "bar"
           }
          ],
          "barpolar": [
           {
            "marker": {
             "line": {
              "color": "#E5ECF6",
              "width": 0.5
             }
            },
            "type": "barpolar"
           }
          ],
          "carpet": [
           {
            "aaxis": {
             "endlinecolor": "#2a3f5f",
             "gridcolor": "white",
             "linecolor": "white",
             "minorgridcolor": "white",
             "startlinecolor": "#2a3f5f"
            },
            "baxis": {
             "endlinecolor": "#2a3f5f",
             "gridcolor": "white",
             "linecolor": "white",
             "minorgridcolor": "white",
             "startlinecolor": "#2a3f5f"
            },
            "type": "carpet"
           }
          ],
          "choropleth": [
           {
            "colorbar": {
             "outlinewidth": 0,
             "ticks": ""
            },
            "type": "choropleth"
           }
          ],
          "contour": [
           {
            "colorbar": {
             "outlinewidth": 0,
             "ticks": ""
            },
            "colorscale": [
             [
              0,
              "#0d0887"
             ],
             [
              0.1111111111111111,
              "#46039f"
             ],
             [
              0.2222222222222222,
              "#7201a8"
             ],
             [
              0.3333333333333333,
              "#9c179e"
             ],
             [
              0.4444444444444444,
              "#bd3786"
             ],
             [
              0.5555555555555556,
              "#d8576b"
             ],
             [
              0.6666666666666666,
              "#ed7953"
             ],
             [
              0.7777777777777778,
              "#fb9f3a"
             ],
             [
              0.8888888888888888,
              "#fdca26"
             ],
             [
              1,
              "#f0f921"
             ]
            ],
            "type": "contour"
           }
          ],
          "contourcarpet": [
           {
            "colorbar": {
             "outlinewidth": 0,
             "ticks": ""
            },
            "type": "contourcarpet"
           }
          ],
          "heatmap": [
           {
            "colorbar": {
             "outlinewidth": 0,
             "ticks": ""
            },
            "colorscale": [
             [
              0,
              "#0d0887"
             ],
             [
              0.1111111111111111,
              "#46039f"
             ],
             [
              0.2222222222222222,
              "#7201a8"
             ],
             [
              0.3333333333333333,
              "#9c179e"
             ],
             [
              0.4444444444444444,
              "#bd3786"
             ],
             [
              0.5555555555555556,
              "#d8576b"
             ],
             [
              0.6666666666666666,
              "#ed7953"
             ],
             [
              0.7777777777777778,
              "#fb9f3a"
             ],
             [
              0.8888888888888888,
              "#fdca26"
             ],
             [
              1,
              "#f0f921"
             ]
            ],
            "type": "heatmap"
           }
          ],
          "heatmapgl": [
           {
            "colorbar": {
             "outlinewidth": 0,
             "ticks": ""
            },
            "colorscale": [
             [
              0,
              "#0d0887"
             ],
             [
              0.1111111111111111,
              "#46039f"
             ],
             [
              0.2222222222222222,
              "#7201a8"
             ],
             [
              0.3333333333333333,
              "#9c179e"
             ],
             [
              0.4444444444444444,
              "#bd3786"
             ],
             [
              0.5555555555555556,
              "#d8576b"
             ],
             [
              0.6666666666666666,
              "#ed7953"
             ],
             [
              0.7777777777777778,
              "#fb9f3a"
             ],
             [
              0.8888888888888888,
              "#fdca26"
             ],
             [
              1,
              "#f0f921"
             ]
            ],
            "type": "heatmapgl"
           }
          ],
          "histogram": [
           {
            "marker": {
             "colorbar": {
              "outlinewidth": 0,
              "ticks": ""
             }
            },
            "type": "histogram"
           }
          ],
          "histogram2d": [
           {
            "colorbar": {
             "outlinewidth": 0,
             "ticks": ""
            },
            "colorscale": [
             [
              0,
              "#0d0887"
             ],
             [
              0.1111111111111111,
              "#46039f"
             ],
             [
              0.2222222222222222,
              "#7201a8"
             ],
             [
              0.3333333333333333,
              "#9c179e"
             ],
             [
              0.4444444444444444,
              "#bd3786"
             ],
             [
              0.5555555555555556,
              "#d8576b"
             ],
             [
              0.6666666666666666,
              "#ed7953"
             ],
             [
              0.7777777777777778,
              "#fb9f3a"
             ],
             [
              0.8888888888888888,
              "#fdca26"
             ],
             [
              1,
              "#f0f921"
             ]
            ],
            "type": "histogram2d"
           }
          ],
          "histogram2dcontour": [
           {
            "colorbar": {
             "outlinewidth": 0,
             "ticks": ""
            },
            "colorscale": [
             [
              0,
              "#0d0887"
             ],
             [
              0.1111111111111111,
              "#46039f"
             ],
             [
              0.2222222222222222,
              "#7201a8"
             ],
             [
              0.3333333333333333,
              "#9c179e"
             ],
             [
              0.4444444444444444,
              "#bd3786"
             ],
             [
              0.5555555555555556,
              "#d8576b"
             ],
             [
              0.6666666666666666,
              "#ed7953"
             ],
             [
              0.7777777777777778,
              "#fb9f3a"
             ],
             [
              0.8888888888888888,
              "#fdca26"
             ],
             [
              1,
              "#f0f921"
             ]
            ],
            "type": "histogram2dcontour"
           }
          ],
          "mesh3d": [
           {
            "colorbar": {
             "outlinewidth": 0,
             "ticks": ""
            },
            "type": "mesh3d"
           }
          ],
          "parcoords": [
           {
            "line": {
             "colorbar": {
              "outlinewidth": 0,
              "ticks": ""
             }
            },
            "type": "parcoords"
           }
          ],
          "pie": [
           {
            "automargin": true,
            "type": "pie"
           }
          ],
          "scatter": [
           {
            "marker": {
             "colorbar": {
              "outlinewidth": 0,
              "ticks": ""
             }
            },
            "type": "scatter"
           }
          ],
          "scatter3d": [
           {
            "line": {
             "colorbar": {
              "outlinewidth": 0,
              "ticks": ""
             }
            },
            "marker": {
             "colorbar": {
              "outlinewidth": 0,
              "ticks": ""
             }
            },
            "type": "scatter3d"
           }
          ],
          "scattercarpet": [
           {
            "marker": {
             "colorbar": {
              "outlinewidth": 0,
              "ticks": ""
             }
            },
            "type": "scattercarpet"
           }
          ],
          "scattergeo": [
           {
            "marker": {
             "colorbar": {
              "outlinewidth": 0,
              "ticks": ""
             }
            },
            "type": "scattergeo"
           }
          ],
          "scattergl": [
           {
            "marker": {
             "colorbar": {
              "outlinewidth": 0,
              "ticks": ""
             }
            },
            "type": "scattergl"
           }
          ],
          "scattermapbox": [
           {
            "marker": {
             "colorbar": {
              "outlinewidth": 0,
              "ticks": ""
             }
            },
            "type": "scattermapbox"
           }
          ],
          "scatterpolar": [
           {
            "marker": {
             "colorbar": {
              "outlinewidth": 0,
              "ticks": ""
             }
            },
            "type": "scatterpolar"
           }
          ],
          "scatterpolargl": [
           {
            "marker": {
             "colorbar": {
              "outlinewidth": 0,
              "ticks": ""
             }
            },
            "type": "scatterpolargl"
           }
          ],
          "scatterternary": [
           {
            "marker": {
             "colorbar": {
              "outlinewidth": 0,
              "ticks": ""
             }
            },
            "type": "scatterternary"
           }
          ],
          "surface": [
           {
            "colorbar": {
             "outlinewidth": 0,
             "ticks": ""
            },
            "colorscale": [
             [
              0,
              "#0d0887"
             ],
             [
              0.1111111111111111,
              "#46039f"
             ],
             [
              0.2222222222222222,
              "#7201a8"
             ],
             [
              0.3333333333333333,
              "#9c179e"
             ],
             [
              0.4444444444444444,
              "#bd3786"
             ],
             [
              0.5555555555555556,
              "#d8576b"
             ],
             [
              0.6666666666666666,
              "#ed7953"
             ],
             [
              0.7777777777777778,
              "#fb9f3a"
             ],
             [
              0.8888888888888888,
              "#fdca26"
             ],
             [
              1,
              "#f0f921"
             ]
            ],
            "type": "surface"
           }
          ],
          "table": [
           {
            "cells": {
             "fill": {
              "color": "#EBF0F8"
             },
             "line": {
              "color": "white"
             }
            },
            "header": {
             "fill": {
              "color": "#C8D4E3"
             },
             "line": {
              "color": "white"
             }
            },
            "type": "table"
           }
          ]
         },
         "layout": {
          "annotationdefaults": {
           "arrowcolor": "#2a3f5f",
           "arrowhead": 0,
           "arrowwidth": 1
          },
          "coloraxis": {
           "colorbar": {
            "outlinewidth": 0,
            "ticks": ""
           }
          },
          "colorscale": {
           "diverging": [
            [
             0,
             "#8e0152"
            ],
            [
             0.1,
             "#c51b7d"
            ],
            [
             0.2,
             "#de77ae"
            ],
            [
             0.3,
             "#f1b6da"
            ],
            [
             0.4,
             "#fde0ef"
            ],
            [
             0.5,
             "#f7f7f7"
            ],
            [
             0.6,
             "#e6f5d0"
            ],
            [
             0.7,
             "#b8e186"
            ],
            [
             0.8,
             "#7fbc41"
            ],
            [
             0.9,
             "#4d9221"
            ],
            [
             1,
             "#276419"
            ]
           ],
           "sequential": [
            [
             0,
             "#0d0887"
            ],
            [
             0.1111111111111111,
             "#46039f"
            ],
            [
             0.2222222222222222,
             "#7201a8"
            ],
            [
             0.3333333333333333,
             "#9c179e"
            ],
            [
             0.4444444444444444,
             "#bd3786"
            ],
            [
             0.5555555555555556,
             "#d8576b"
            ],
            [
             0.6666666666666666,
             "#ed7953"
            ],
            [
             0.7777777777777778,
             "#fb9f3a"
            ],
            [
             0.8888888888888888,
             "#fdca26"
            ],
            [
             1,
             "#f0f921"
            ]
           ],
           "sequentialminus": [
            [
             0,
             "#0d0887"
            ],
            [
             0.1111111111111111,
             "#46039f"
            ],
            [
             0.2222222222222222,
             "#7201a8"
            ],
            [
             0.3333333333333333,
             "#9c179e"
            ],
            [
             0.4444444444444444,
             "#bd3786"
            ],
            [
             0.5555555555555556,
             "#d8576b"
            ],
            [
             0.6666666666666666,
             "#ed7953"
            ],
            [
             0.7777777777777778,
             "#fb9f3a"
            ],
            [
             0.8888888888888888,
             "#fdca26"
            ],
            [
             1,
             "#f0f921"
            ]
           ]
          },
          "colorway": [
           "#636efa",
           "#EF553B",
           "#00cc96",
           "#ab63fa",
           "#FFA15A",
           "#19d3f3",
           "#FF6692",
           "#B6E880",
           "#FF97FF",
           "#FECB52"
          ],
          "font": {
           "color": "#2a3f5f"
          },
          "geo": {
           "bgcolor": "white",
           "lakecolor": "white",
           "landcolor": "#E5ECF6",
           "showlakes": true,
           "showland": true,
           "subunitcolor": "white"
          },
          "hoverlabel": {
           "align": "left"
          },
          "hovermode": "closest",
          "mapbox": {
           "style": "light"
          },
          "paper_bgcolor": "white",
          "plot_bgcolor": "#E5ECF6",
          "polar": {
           "angularaxis": {
            "gridcolor": "white",
            "linecolor": "white",
            "ticks": ""
           },
           "bgcolor": "#E5ECF6",
           "radialaxis": {
            "gridcolor": "white",
            "linecolor": "white",
            "ticks": ""
           }
          },
          "scene": {
           "xaxis": {
            "backgroundcolor": "#E5ECF6",
            "gridcolor": "white",
            "gridwidth": 2,
            "linecolor": "white",
            "showbackground": true,
            "ticks": "",
            "zerolinecolor": "white"
           },
           "yaxis": {
            "backgroundcolor": "#E5ECF6",
            "gridcolor": "white",
            "gridwidth": 2,
            "linecolor": "white",
            "showbackground": true,
            "ticks": "",
            "zerolinecolor": "white"
           },
           "zaxis": {
            "backgroundcolor": "#E5ECF6",
            "gridcolor": "white",
            "gridwidth": 2,
            "linecolor": "white",
            "showbackground": true,
            "ticks": "",
            "zerolinecolor": "white"
           }
          },
          "shapedefaults": {
           "line": {
            "color": "#2a3f5f"
           }
          },
          "ternary": {
           "aaxis": {
            "gridcolor": "white",
            "linecolor": "white",
            "ticks": ""
           },
           "baxis": {
            "gridcolor": "white",
            "linecolor": "white",
            "ticks": ""
           },
           "bgcolor": "#E5ECF6",
           "caxis": {
            "gridcolor": "white",
            "linecolor": "white",
            "ticks": ""
           }
          },
          "title": {
           "x": 0.05
          },
          "xaxis": {
           "automargin": true,
           "gridcolor": "white",
           "linecolor": "white",
           "ticks": "",
           "title": {
            "standoff": 15
           },
           "zerolinecolor": "white",
           "zerolinewidth": 2
          },
          "yaxis": {
           "automargin": true,
           "gridcolor": "white",
           "linecolor": "white",
           "ticks": "",
           "title": {
            "standoff": 15
           },
           "zerolinecolor": "white",
           "zerolinewidth": 2
          }
         }
        },
        "xaxis": {
         "anchor": "y",
         "autorange": true,
         "domain": [
          0,
          1
         ],
         "range": [
          0.5,
          10.5
         ],
         "title": {
          "text": "x"
         },
         "type": "linear"
        },
        "yaxis": {
         "anchor": "x",
         "autorange": true,
         "domain": [
          0,
          1
         ],
         "range": [
          0,
          491.57894736842104
         ],
         "title": {
          "text": "y"
         },
         "type": "linear"
        }
       }
      },
      "image/png": "[encoded data removed]",
      "text/html": [
       "<div>\n",
       "        \n",
       "        \n",
       "            <div id=\"05eecd97-101d-4775-b153-fd8d55ca9812\" class=\"plotly-graph-div\" style=\"height:525px; width:100%;\"></div>\n",
       "            <script type=\"text/javascript\">\n",
       "                require([\"plotly\"], function(Plotly) {\n",
       "                    window.PLOTLYENV=window.PLOTLYENV || {};\n",
       "                    \n",
       "                if (document.getElementById(\"05eecd97-101d-4775-b153-fd8d55ca9812\")) {\n",
       "                    Plotly.newPlot(\n",
       "                        '05eecd97-101d-4775-b153-fd8d55ca9812',\n",
       "                        [{\"alignmentgroup\": \"True\", \"hoverlabel\": {\"namelength\": 0}, \"hovertemplate\": \"x=%{x}<br>y=%{y}\", \"legendgroup\": \"\", \"marker\": {\"color\": \"#636efa\"}, \"name\": \"\", \"offsetgroup\": \"\", \"orientation\": \"v\", \"showlegend\": false, \"textposition\": \"auto\", \"type\": \"bar\", \"x\": [7.0, 5.0, 6.0, 8.0, 4.0, 9.0, 3.0, 2.0, 10.0, 1.0], \"xaxis\": \"x\", \"y\": [467, 368, 368, 335, 240, 206, 141, 78, 61, 33], \"yaxis\": \"y\"}],\n",
       "                        {\"barmode\": \"relative\", \"legend\": {\"tracegroupgap\": 0}, \"margin\": {\"t\": 60}, \"template\": {\"data\": {\"bar\": [{\"error_x\": {\"color\": \"#2a3f5f\"}, \"error_y\": {\"color\": \"#2a3f5f\"}, \"marker\": {\"line\": {\"color\": \"#E5ECF6\", \"width\": 0.5}}, \"type\": \"bar\"}], \"barpolar\": [{\"marker\": {\"line\": {\"color\": \"#E5ECF6\", \"width\": 0.5}}, \"type\": \"barpolar\"}], \"carpet\": [{\"aaxis\": {\"endlinecolor\": \"#2a3f5f\", \"gridcolor\": \"white\", \"linecolor\": \"white\", \"minorgridcolor\": \"white\", \"startlinecolor\": \"#2a3f5f\"}, \"baxis\": {\"endlinecolor\": \"#2a3f5f\", \"gridcolor\": \"white\", \"linecolor\": \"white\", \"minorgridcolor\": \"white\", \"startlinecolor\": \"#2a3f5f\"}, \"type\": \"carpet\"}], \"choropleth\": [{\"colorbar\": {\"outlinewidth\": 0, \"ticks\": \"\"}, \"type\": \"choropleth\"}], \"contour\": [{\"colorbar\": {\"outlinewidth\": 0, \"ticks\": \"\"}, \"colorscale\": [[0.0, \"#0d0887\"], [0.1111111111111111, \"#46039f\"], [0.2222222222222222, \"#7201a8\"], [0.3333333333333333, \"#9c179e\"], [0.4444444444444444, \"#bd3786\"], [0.5555555555555556, \"#d8576b\"], [0.6666666666666666, \"#ed7953\"], [0.7777777777777778, \"#fb9f3a\"], [0.8888888888888888, \"#fdca26\"], [1.0, \"#f0f921\"]], \"type\": \"contour\"}], \"contourcarpet\": [{\"colorbar\": {\"outlinewidth\": 0, \"ticks\": \"\"}, \"type\": \"contourcarpet\"}], \"heatmap\": [{\"colorbar\": {\"outlinewidth\": 0, \"ticks\": \"\"}, \"colorscale\": [[0.0, \"#0d0887\"], [0.1111111111111111, \"#46039f\"], [0.2222222222222222, \"#7201a8\"], [0.3333333333333333, \"#9c179e\"], [0.4444444444444444, \"#bd3786\"], [0.5555555555555556, \"#d8576b\"], [0.6666666666666666, \"#ed7953\"], [0.7777777777777778, \"#fb9f3a\"], [0.8888888888888888, \"#fdca26\"], [1.0, \"#f0f921\"]], \"type\": \"heatmap\"}], \"heatmapgl\": [{\"colorbar\": {\"outlinewidth\": 0, \"ticks\": \"\"}, \"colorscale\": [[0.0, \"#0d0887\"], [0.1111111111111111, \"#46039f\"], [0.2222222222222222, \"#7201a8\"], [0.3333333333333333, \"#9c179e\"], [0.4444444444444444, \"#bd3786\"], [0.5555555555555556, \"#d8576b\"], [0.6666666666666666, \"#ed7953\"], [0.7777777777777778, \"#fb9f3a\"], [0.8888888888888888, \"#fdca26\"], [1.0, \"#f0f921\"]], \"type\": \"heatmapgl\"}], \"histogram\": [{\"marker\": {\"colorbar\": {\"outlinewidth\": 0, \"ticks\": \"\"}}, \"type\": \"histogram\"}], \"histogram2d\": [{\"colorbar\": {\"outlinewidth\": 0, \"ticks\": \"\"}, \"colorscale\": [[0.0, \"#0d0887\"], [0.1111111111111111, \"#46039f\"], [0.2222222222222222, \"#7201a8\"], [0.3333333333333333, \"#9c179e\"], [0.4444444444444444, \"#bd3786\"], [0.5555555555555556, \"#d8576b\"], [0.6666666666666666, \"#ed7953\"], [0.7777777777777778, \"#fb9f3a\"], [0.8888888888888888, \"#fdca26\"], [1.0, \"#f0f921\"]], \"type\": \"histogram2d\"}], \"histogram2dcontour\": [{\"colorbar\": {\"outlinewidth\": 0, \"ticks\": \"\"}, \"colorscale\": [[0.0, \"#0d0887\"], [0.1111111111111111, \"#46039f\"], [0.2222222222222222, \"#7201a8\"], [0.3333333333333333, \"#9c179e\"], [0.4444444444444444, \"#bd3786\"], [0.5555555555555556, \"#d8576b\"], [0.6666666666666666, \"#ed7953\"], [0.7777777777777778, \"#fb9f3a\"], [0.8888888888888888, \"#fdca26\"], [1.0, \"#f0f921\"]], \"type\": \"histogram2dcontour\"}], \"mesh3d\": [{\"colorbar\": {\"outlinewidth\": 0, \"ticks\": \"\"}, \"type\": \"mesh3d\"}], \"parcoords\": [{\"line\": {\"colorbar\": {\"outlinewidth\": 0, \"ticks\": \"\"}}, \"type\": \"parcoords\"}], \"pie\": [{\"automargin\": true, \"type\": \"pie\"}], \"scatter\": [{\"marker\": {\"colorbar\": {\"outlinewidth\": 0, \"ticks\": \"\"}}, \"type\": \"scatter\"}], \"scatter3d\": [{\"line\": {\"colorbar\": {\"outlinewidth\": 0, \"ticks\": \"\"}}, \"marker\": {\"colorbar\": {\"outlinewidth\": 0, \"ticks\": \"\"}}, \"type\": \"scatter3d\"}], \"scattercarpet\": [{\"marker\": {\"colorbar\": {\"outlinewidth\": 0, \"ticks\": \"\"}}, \"type\": \"scattercarpet\"}], \"scattergeo\": [{\"marker\": {\"colorbar\": {\"outlinewidth\": 0, \"ticks\": \"\"}}, \"type\": \"scattergeo\"}], \"scattergl\": [{\"marker\": {\"colorbar\": {\"outlinewidth\": 0, \"ticks\": \"\"}}, \"type\": \"scattergl\"}], \"scattermapbox\": [{\"marker\": {\"colorbar\": {\"outlinewidth\": 0, \"ticks\": \"\"}}, \"type\": \"scattermapbox\"}], \"scatterpolar\": [{\"marker\": {\"colorbar\": {\"outlinewidth\": 0, \"ticks\": \"\"}}, \"type\": \"scatterpolar\"}], \"scatterpolargl\": [{\"marker\": {\"colorbar\": {\"outlinewidth\": 0, \"ticks\": \"\"}}, \"type\": \"scatterpolargl\"}], \"scatterternary\": [{\"marker\": {\"colorbar\": {\"outlinewidth\": 0, \"ticks\": \"\"}}, \"type\": \"scatterternary\"}], \"surface\": [{\"colorbar\": {\"outlinewidth\": 0, \"ticks\": \"\"}, \"colorscale\": [[0.0, \"#0d0887\"], [0.1111111111111111, \"#46039f\"], [0.2222222222222222, \"#7201a8\"], [0.3333333333333333, \"#9c179e\"], [0.4444444444444444, \"#bd3786\"], [0.5555555555555556, \"#d8576b\"], [0.6666666666666666, \"#ed7953\"], [0.7777777777777778, \"#fb9f3a\"], [0.8888888888888888, \"#fdca26\"], [1.0, \"#f0f921\"]], \"type\": \"surface\"}], \"table\": [{\"cells\": {\"fill\": {\"color\": \"#EBF0F8\"}, \"line\": {\"color\": \"white\"}}, \"header\": {\"fill\": {\"color\": \"#C8D4E3\"}, \"line\": {\"color\": \"white\"}}, \"type\": \"table\"}]}, \"layout\": {\"annotationdefaults\": {\"arrowcolor\": \"#2a3f5f\", \"arrowhead\": 0, \"arrowwidth\": 1}, \"coloraxis\": {\"colorbar\": {\"outlinewidth\": 0, \"ticks\": \"\"}}, \"colorscale\": {\"diverging\": [[0, \"#8e0152\"], [0.1, \"#c51b7d\"], [0.2, \"#de77ae\"], [0.3, \"#f1b6da\"], [0.4, \"#fde0ef\"], [0.5, \"#f7f7f7\"], [0.6, \"#e6f5d0\"], [0.7, \"#b8e186\"], [0.8, \"#7fbc41\"], [0.9, \"#4d9221\"], [1, \"#276419\"]], \"sequential\": [[0.0, \"#0d0887\"], [0.1111111111111111, \"#46039f\"], [0.2222222222222222, \"#7201a8\"], [0.3333333333333333, \"#9c179e\"], [0.4444444444444444, \"#bd3786\"], [0.5555555555555556, \"#d8576b\"], [0.6666666666666666, \"#ed7953\"], [0.7777777777777778, \"#fb9f3a\"], [0.8888888888888888, \"#fdca26\"], [1.0, \"#f0f921\"]], \"sequentialminus\": [[0.0, \"#0d0887\"], [0.1111111111111111, \"#46039f\"], [0.2222222222222222, \"#7201a8\"], [0.3333333333333333, \"#9c179e\"], [0.4444444444444444, \"#bd3786\"], [0.5555555555555556, \"#d8576b\"], [0.6666666666666666, \"#ed7953\"], [0.7777777777777778, \"#fb9f3a\"], [0.8888888888888888, \"#fdca26\"], [1.0, \"#f0f921\"]]}, \"colorway\": [\"#636efa\", \"#EF553B\", \"#00cc96\", \"#ab63fa\", \"#FFA15A\", \"#19d3f3\", \"#FF6692\", \"#B6E880\", \"#FF97FF\", \"#FECB52\"], \"font\": {\"color\": \"#2a3f5f\"}, \"geo\": {\"bgcolor\": \"white\", \"lakecolor\": \"white\", \"landcolor\": \"#E5ECF6\", \"showlakes\": true, \"showland\": true, \"subunitcolor\": \"white\"}, \"hoverlabel\": {\"align\": \"left\"}, \"hovermode\": \"closest\", \"mapbox\": {\"style\": \"light\"}, \"paper_bgcolor\": \"white\", \"plot_bgcolor\": \"#E5ECF6\", \"polar\": {\"angularaxis\": {\"gridcolor\": \"white\", \"linecolor\": \"white\", \"ticks\": \"\"}, \"bgcolor\": \"#E5ECF6\", \"radialaxis\": {\"gridcolor\": \"white\", \"linecolor\": \"white\", \"ticks\": \"\"}}, \"scene\": {\"xaxis\": {\"backgroundcolor\": \"#E5ECF6\", \"gridcolor\": \"white\", \"gridwidth\": 2, \"linecolor\": \"white\", \"showbackground\": true, \"ticks\": \"\", \"zerolinecolor\": \"white\"}, \"yaxis\": {\"backgroundcolor\": \"#E5ECF6\", \"gridcolor\": \"white\", \"gridwidth\": 2, \"linecolor\": \"white\", \"showbackground\": true, \"ticks\": \"\", \"zerolinecolor\": \"white\"}, \"zaxis\": {\"backgroundcolor\": \"#E5ECF6\", \"gridcolor\": \"white\", \"gridwidth\": 2, \"linecolor\": \"white\", \"showbackground\": true, \"ticks\": \"\", \"zerolinecolor\": \"white\"}}, \"shapedefaults\": {\"line\": {\"color\": \"#2a3f5f\"}}, \"ternary\": {\"aaxis\": {\"gridcolor\": \"white\", \"linecolor\": \"white\", \"ticks\": \"\"}, \"baxis\": {\"gridcolor\": \"white\", \"linecolor\": \"white\", \"ticks\": \"\"}, \"bgcolor\": \"#E5ECF6\", \"caxis\": {\"gridcolor\": \"white\", \"linecolor\": \"white\", \"ticks\": \"\"}}, \"title\": {\"x\": 0.05}, \"xaxis\": {\"automargin\": true, \"gridcolor\": \"white\", \"linecolor\": \"white\", \"ticks\": \"\", \"title\": {\"standoff\": 15}, \"zerolinecolor\": \"white\", \"zerolinewidth\": 2}, \"yaxis\": {\"automargin\": true, \"gridcolor\": \"white\", \"linecolor\": \"white\", \"ticks\": \"\", \"title\": {\"standoff\": 15}, \"zerolinecolor\": \"white\", \"zerolinewidth\": 2}}}, \"xaxis\": {\"anchor\": \"y\", \"domain\": [0.0, 1.0], \"title\": {\"text\": \"x\"}}, \"yaxis\": {\"anchor\": \"x\", \"domain\": [0.0, 1.0], \"title\": {\"text\": \"y\"}}},\n",
       "                        {\"responsive\": true}\n",
       "                    ).then(function(){\n",
       "                            \n",
       "var gd = document.getElementById('05eecd97-101d-4775-b153-fd8d55ca9812');\n",
       "var x = new MutationObserver(function (mutations, observer) {{\n",
       "        var display = window.getComputedStyle(gd).display;\n",
       "        if (!display || display === 'none') {{\n",
       "            console.log([gd, 'removed!']);\n",
       "            Plotly.purge(gd);\n",
       "            observer.disconnect();\n",
       "        }}\n",
       "}});\n",
       "\n",
       "// Listen for the removal of the full notebook cells\n",
       "var notebookContainer = gd.closest('#notebook-container');\n",
       "if (notebookContainer) {{\n",
       "    x.observe(notebookContainer, {childList: true});\n",
       "}}\n",
       "\n",
       "// Listen for the clearing of the current output cell\n",
       "var outputEl = gd.closest('.output');\n",
       "if (outputEl) {{\n",
       "    x.observe(outputEl, {childList: true});\n",
       "}}\n",
       "\n",
       "                        })\n",
       "                };\n",
       "                });\n",
       "            </script>\n",
       "        </div>"
      ]
     },
     "metadata": {},
     "output_type": "display_data"
    }
   ],
   "source": [
    "px.bar(x = train_df_add[train_df.target == 1].unique_sites.value_counts().keys()\n",
    "      , y = train_df_add[train_df.target == 1].unique_sites.value_counts()\n",
    "      )"
   ]
  },
  {
   "cell_type": "code",
   "execution_count": 42,
   "metadata": {},
   "outputs": [
    {
     "data": {
      "application/vnd.plotly.v1+json": {
       "config": {
        "plotlyServerURL": "https://plot.ly"
       },
       "data": [
        {
         "alignmentgroup": "True",
         "hoverlabel": {
          "namelength": 0
         },
         "hovertemplate": "x=%{x}<br>y=%{y}",
         "legendgroup": "",
         "marker": {
          "color": "#636efa"
         },
         "name": "",
         "offsetgroup": "",
         "orientation": "v",
         "showlegend": false,
         "textposition": "auto",
         "type": "bar",
         "x": [
          3,
          4,
          2,
          5,
          6,
          8,
          7,
          9,
          1,
          10,
          11,
          13,
          12,
          16,
          14,
          15,
          18,
          17,
          23,
          20,
          21,
          26,
          33,
          19,
          22,
          0,
          29,
          25,
          43,
          32,
          24,
          28,
          40,
          30,
          27,
          34,
          45,
          58,
          39,
          35,
          53,
          47,
          48,
          31,
          37,
          54,
          42,
          44,
          57,
          38,
          59,
          55,
          88,
          36,
          64,
          46,
          62,
          51,
          100,
          63,
          68,
          41,
          111,
          81,
          123,
          78,
          56,
          65,
          60,
          52,
          50,
          70,
          61,
          115,
          127,
          93,
          66,
          99,
          75,
          76,
          89,
          105,
          95,
          49,
          94,
          164,
          185,
          82,
          125,
          87,
          92,
          98,
          80,
          73,
          142,
          67,
          85,
          77,
          146,
          285,
          153,
          91,
          124,
          179,
          141,
          211,
          119,
          101,
          71,
          134,
          109,
          240,
          238,
          195,
          107,
          122,
          114,
          116,
          305,
          152,
          96,
          128,
          228,
          120,
          72,
          280,
          306,
          173,
          161,
          178,
          90,
          129,
          418,
          367,
          288,
          182,
          104,
          184,
          270,
          189,
          400,
          861,
          527,
          345,
          711,
          443,
          136,
          84,
          382,
          1522,
          192,
          160,
          112,
          530,
          941,
          501,
          337,
          683,
          1255,
          1089,
          224,
          256,
          203,
          1344,
          446,
          177,
          118,
          157,
          163,
          1102,
          452,
          817,
          97,
          468,
          190,
          198,
          138,
          254,
          552,
          201,
          250,
          139,
          83,
          209,
          1716,
          308,
          151,
          571,
          289,
          518,
          621,
          253,
          366,
          131,
          302,
          364,
          325,
          205,
          841,
          401,
          491,
          381,
          279,
          1763,
          981,
          1265,
          175,
          137,
          171,
          245,
          430,
          217,
          481,
          378,
          331,
          143,
          1239,
          1599,
          1279,
          707,
          449,
          782,
          914,
          1621,
          278,
          485,
          1475,
          869,
          482,
          133,
          183,
          1493,
          282,
          437,
          167,
          169,
          263,
          1083,
          489,
          463,
          593,
          826,
          1730,
          79,
          113,
          218,
          103,
          154,
          274,
          511,
          631,
          763,
          1639,
          317,
          267,
          565,
          713,
          312,
          220,
          110,
          74,
          102,
          106,
          86,
          148,
          132,
          188,
          316,
          130,
          292,
          180,
          258,
          69,
          422,
          214,
          303,
          233
         ],
         "xaxis": "x",
         "y": [
          186,
          166,
          144,
          112,
          101,
          81,
          80,
          79,
          76,
          57,
          54,
          41,
          41,
          40,
          38,
          34,
          31,
          24,
          24,
          24,
          22,
          21,
          21,
          20,
          20,
          19,
          17,
          17,
          16,
          16,
          16,
          15,
          15,
          15,
          15,
          14,
          14,
          13,
          13,
          12,
          11,
          11,
          11,
          11,
          10,
          10,
          10,
          10,
          9,
          9,
          8,
          7,
          7,
          7,
          7,
          7,
          7,
          7,
          6,
          6,
          6,
          6,
          6,
          5,
          5,
          5,
          5,
          5,
          5,
          5,
          4,
          4,
          4,
          4,
          4,
          4,
          4,
          4,
          4,
          4,
          4,
          4,
          3,
          3,
          3,
          3,
          3,
          3,
          3,
          3,
          3,
          3,
          3,
          3,
          3,
          3,
          3,
          3,
          3,
          2,
          2,
          2,
          2,
          2,
          2,
          2,
          2,
          2,
          2,
          2,
          2,
          2,
          2,
          2,
          2,
          2,
          2,
          2,
          2,
          2,
          2,
          2,
          2,
          2,
          2,
          2,
          2,
          2,
          2,
          2,
          2,
          1,
          1,
          1,
          1,
          1,
          1,
          1,
          1,
          1,
          1,
          1,
          1,
          1,
          1,
          1,
          1,
          1,
          1,
          1,
          1,
          1,
          1,
          1,
          1,
          1,
          1,
          1,
          1,
          1,
          1,
          1,
          1,
          1,
          1,
          1,
          1,
          1,
          1,
          1,
          1,
          1,
          1,
          1,
          1,
          1,
          1,
          1,
          1,
          1,
          1,
          1,
          1,
          1,
          1,
          1,
          1,
          1,
          1,
          1,
          1,
          1,
          1,
          1,
          1,
          1,
          1,
          1,
          1,
          1,
          1,
          1,
          1,
          1,
          1,
          1,
          1,
          1,
          1,
          1,
          1,
          1,
          1,
          1,
          1,
          1,
          1,
          1,
          1,
          1,
          1,
          1,
          1,
          1,
          1,
          1,
          1,
          1,
          1,
          1,
          1,
          1,
          1,
          1,
          1,
          1,
          1,
          1,
          1,
          1,
          1,
          1,
          1,
          1,
          1,
          1,
          1,
          1,
          1,
          1,
          1,
          1,
          1,
          1,
          1,
          1,
          1,
          1,
          1,
          1,
          1,
          1,
          1,
          1,
          1,
          1,
          1,
          1,
          1,
          1,
          1,
          1,
          1,
          1,
          1,
          1,
          1
         ],
         "yaxis": "y"
        }
       ],
       "layout": {
        "autosize": true,
        "barmode": "relative",
        "legend": {
         "tracegroupgap": 0
        },
        "margin": {
         "t": 60
        },
        "template": {
         "data": {
          "bar": [
           {
            "error_x": {
             "color": "#2a3f5f"
            },
            "error_y": {
             "color": "#2a3f5f"
            },
            "marker": {
             "line": {
              "color": "#E5ECF6",
              "width": 0.5
             }
            },
            "type": "bar"
           }
          ],
          "barpolar": [
           {
            "marker": {
             "line": {
              "color": "#E5ECF6",
              "width": 0.5
             }
            },
            "type": "barpolar"
           }
          ],
          "carpet": [
           {
            "aaxis": {
             "endlinecolor": "#2a3f5f",
             "gridcolor": "white",
             "linecolor": "white",
             "minorgridcolor": "white",
             "startlinecolor": "#2a3f5f"
            },
            "baxis": {
             "endlinecolor": "#2a3f5f",
             "gridcolor": "white",
             "linecolor": "white",
             "minorgridcolor": "white",
             "startlinecolor": "#2a3f5f"
            },
            "type": "carpet"
           }
          ],
          "choropleth": [
           {
            "colorbar": {
             "outlinewidth": 0,
             "ticks": ""
            },
            "type": "choropleth"
           }
          ],
          "contour": [
           {
            "colorbar": {
             "outlinewidth": 0,
             "ticks": ""
            },
            "colorscale": [
             [
              0,
              "#0d0887"
             ],
             [
              0.1111111111111111,
              "#46039f"
             ],
             [
              0.2222222222222222,
              "#7201a8"
             ],
             [
              0.3333333333333333,
              "#9c179e"
             ],
             [
              0.4444444444444444,
              "#bd3786"
             ],
             [
              0.5555555555555556,
              "#d8576b"
             ],
             [
              0.6666666666666666,
              "#ed7953"
             ],
             [
              0.7777777777777778,
              "#fb9f3a"
             ],
             [
              0.8888888888888888,
              "#fdca26"
             ],
             [
              1,
              "#f0f921"
             ]
            ],
            "type": "contour"
           }
          ],
          "contourcarpet": [
           {
            "colorbar": {
             "outlinewidth": 0,
             "ticks": ""
            },
            "type": "contourcarpet"
           }
          ],
          "heatmap": [
           {
            "colorbar": {
             "outlinewidth": 0,
             "ticks": ""
            },
            "colorscale": [
             [
              0,
              "#0d0887"
             ],
             [
              0.1111111111111111,
              "#46039f"
             ],
             [
              0.2222222222222222,
              "#7201a8"
             ],
             [
              0.3333333333333333,
              "#9c179e"
             ],
             [
              0.4444444444444444,
              "#bd3786"
             ],
             [
              0.5555555555555556,
              "#d8576b"
             ],
             [
              0.6666666666666666,
              "#ed7953"
             ],
             [
              0.7777777777777778,
              "#fb9f3a"
             ],
             [
              0.8888888888888888,
              "#fdca26"
             ],
             [
              1,
              "#f0f921"
             ]
            ],
            "type": "heatmap"
           }
          ],
          "heatmapgl": [
           {
            "colorbar": {
             "outlinewidth": 0,
             "ticks": ""
            },
            "colorscale": [
             [
              0,
              "#0d0887"
             ],
             [
              0.1111111111111111,
              "#46039f"
             ],
             [
              0.2222222222222222,
              "#7201a8"
             ],
             [
              0.3333333333333333,
              "#9c179e"
             ],
             [
              0.4444444444444444,
              "#bd3786"
             ],
             [
              0.5555555555555556,
              "#d8576b"
             ],
             [
              0.6666666666666666,
              "#ed7953"
             ],
             [
              0.7777777777777778,
              "#fb9f3a"
             ],
             [
              0.8888888888888888,
              "#fdca26"
             ],
             [
              1,
              "#f0f921"
             ]
            ],
            "type": "heatmapgl"
           }
          ],
          "histogram": [
           {
            "marker": {
             "colorbar": {
              "outlinewidth": 0,
              "ticks": ""
             }
            },
            "type": "histogram"
           }
          ],
          "histogram2d": [
           {
            "colorbar": {
             "outlinewidth": 0,
             "ticks": ""
            },
            "colorscale": [
             [
              0,
              "#0d0887"
             ],
             [
              0.1111111111111111,
              "#46039f"
             ],
             [
              0.2222222222222222,
              "#7201a8"
             ],
             [
              0.3333333333333333,
              "#9c179e"
             ],
             [
              0.4444444444444444,
              "#bd3786"
             ],
             [
              0.5555555555555556,
              "#d8576b"
             ],
             [
              0.6666666666666666,
              "#ed7953"
             ],
             [
              0.7777777777777778,
              "#fb9f3a"
             ],
             [
              0.8888888888888888,
              "#fdca26"
             ],
             [
              1,
              "#f0f921"
             ]
            ],
            "type": "histogram2d"
           }
          ],
          "histogram2dcontour": [
           {
            "colorbar": {
             "outlinewidth": 0,
             "ticks": ""
            },
            "colorscale": [
             [
              0,
              "#0d0887"
             ],
             [
              0.1111111111111111,
              "#46039f"
             ],
             [
              0.2222222222222222,
              "#7201a8"
             ],
             [
              0.3333333333333333,
              "#9c179e"
             ],
             [
              0.4444444444444444,
              "#bd3786"
             ],
             [
              0.5555555555555556,
              "#d8576b"
             ],
             [
              0.6666666666666666,
              "#ed7953"
             ],
             [
              0.7777777777777778,
              "#fb9f3a"
             ],
             [
              0.8888888888888888,
              "#fdca26"
             ],
             [
              1,
              "#f0f921"
             ]
            ],
            "type": "histogram2dcontour"
           }
          ],
          "mesh3d": [
           {
            "colorbar": {
             "outlinewidth": 0,
             "ticks": ""
            },
            "type": "mesh3d"
           }
          ],
          "parcoords": [
           {
            "line": {
             "colorbar": {
              "outlinewidth": 0,
              "ticks": ""
             }
            },
            "type": "parcoords"
           }
          ],
          "pie": [
           {
            "automargin": true,
            "type": "pie"
           }
          ],
          "scatter": [
           {
            "marker": {
             "colorbar": {
              "outlinewidth": 0,
              "ticks": ""
             }
            },
            "type": "scatter"
           }
          ],
          "scatter3d": [
           {
            "line": {
             "colorbar": {
              "outlinewidth": 0,
              "ticks": ""
             }
            },
            "marker": {
             "colorbar": {
              "outlinewidth": 0,
              "ticks": ""
             }
            },
            "type": "scatter3d"
           }
          ],
          "scattercarpet": [
           {
            "marker": {
             "colorbar": {
              "outlinewidth": 0,
              "ticks": ""
             }
            },
            "type": "scattercarpet"
           }
          ],
          "scattergeo": [
           {
            "marker": {
             "colorbar": {
              "outlinewidth": 0,
              "ticks": ""
             }
            },
            "type": "scattergeo"
           }
          ],
          "scattergl": [
           {
            "marker": {
             "colorbar": {
              "outlinewidth": 0,
              "ticks": ""
             }
            },
            "type": "scattergl"
           }
          ],
          "scattermapbox": [
           {
            "marker": {
             "colorbar": {
              "outlinewidth": 0,
              "ticks": ""
             }
            },
            "type": "scattermapbox"
           }
          ],
          "scatterpolar": [
           {
            "marker": {
             "colorbar": {
              "outlinewidth": 0,
              "ticks": ""
             }
            },
            "type": "scatterpolar"
           }
          ],
          "scatterpolargl": [
           {
            "marker": {
             "colorbar": {
              "outlinewidth": 0,
              "ticks": ""
             }
            },
            "type": "scatterpolargl"
           }
          ],
          "scatterternary": [
           {
            "marker": {
             "colorbar": {
              "outlinewidth": 0,
              "ticks": ""
             }
            },
            "type": "scatterternary"
           }
          ],
          "surface": [
           {
            "colorbar": {
             "outlinewidth": 0,
             "ticks": ""
            },
            "colorscale": [
             [
              0,
              "#0d0887"
             ],
             [
              0.1111111111111111,
              "#46039f"
             ],
             [
              0.2222222222222222,
              "#7201a8"
             ],
             [
              0.3333333333333333,
              "#9c179e"
             ],
             [
              0.4444444444444444,
              "#bd3786"
             ],
             [
              0.5555555555555556,
              "#d8576b"
             ],
             [
              0.6666666666666666,
              "#ed7953"
             ],
             [
              0.7777777777777778,
              "#fb9f3a"
             ],
             [
              0.8888888888888888,
              "#fdca26"
             ],
             [
              1,
              "#f0f921"
             ]
            ],
            "type": "surface"
           }
          ],
          "table": [
           {
            "cells": {
             "fill": {
              "color": "#EBF0F8"
             },
             "line": {
              "color": "white"
             }
            },
            "header": {
             "fill": {
              "color": "#C8D4E3"
             },
             "line": {
              "color": "white"
             }
            },
            "type": "table"
           }
          ]
         },
         "layout": {
          "annotationdefaults": {
           "arrowcolor": "#2a3f5f",
           "arrowhead": 0,
           "arrowwidth": 1
          },
          "coloraxis": {
           "colorbar": {
            "outlinewidth": 0,
            "ticks": ""
           }
          },
          "colorscale": {
           "diverging": [
            [
             0,
             "#8e0152"
            ],
            [
             0.1,
             "#c51b7d"
            ],
            [
             0.2,
             "#de77ae"
            ],
            [
             0.3,
             "#f1b6da"
            ],
            [
             0.4,
             "#fde0ef"
            ],
            [
             0.5,
             "#f7f7f7"
            ],
            [
             0.6,
             "#e6f5d0"
            ],
            [
             0.7,
             "#b8e186"
            ],
            [
             0.8,
             "#7fbc41"
            ],
            [
             0.9,
             "#4d9221"
            ],
            [
             1,
             "#276419"
            ]
           ],
           "sequential": [
            [
             0,
             "#0d0887"
            ],
            [
             0.1111111111111111,
             "#46039f"
            ],
            [
             0.2222222222222222,
             "#7201a8"
            ],
            [
             0.3333333333333333,
             "#9c179e"
            ],
            [
             0.4444444444444444,
             "#bd3786"
            ],
            [
             0.5555555555555556,
             "#d8576b"
            ],
            [
             0.6666666666666666,
             "#ed7953"
            ],
            [
             0.7777777777777778,
             "#fb9f3a"
            ],
            [
             0.8888888888888888,
             "#fdca26"
            ],
            [
             1,
             "#f0f921"
            ]
           ],
           "sequentialminus": [
            [
             0,
             "#0d0887"
            ],
            [
             0.1111111111111111,
             "#46039f"
            ],
            [
             0.2222222222222222,
             "#7201a8"
            ],
            [
             0.3333333333333333,
             "#9c179e"
            ],
            [
             0.4444444444444444,
             "#bd3786"
            ],
            [
             0.5555555555555556,
             "#d8576b"
            ],
            [
             0.6666666666666666,
             "#ed7953"
            ],
            [
             0.7777777777777778,
             "#fb9f3a"
            ],
            [
             0.8888888888888888,
             "#fdca26"
            ],
            [
             1,
             "#f0f921"
            ]
           ]
          },
          "colorway": [
           "#636efa",
           "#EF553B",
           "#00cc96",
           "#ab63fa",
           "#FFA15A",
           "#19d3f3",
           "#FF6692",
           "#B6E880",
           "#FF97FF",
           "#FECB52"
          ],
          "font": {
           "color": "#2a3f5f"
          },
          "geo": {
           "bgcolor": "white",
           "lakecolor": "white",
           "landcolor": "#E5ECF6",
           "showlakes": true,
           "showland": true,
           "subunitcolor": "white"
          },
          "hoverlabel": {
           "align": "left"
          },
          "hovermode": "closest",
          "mapbox": {
           "style": "light"
          },
          "paper_bgcolor": "white",
          "plot_bgcolor": "#E5ECF6",
          "polar": {
           "angularaxis": {
            "gridcolor": "white",
            "linecolor": "white",
            "ticks": ""
           },
           "bgcolor": "#E5ECF6",
           "radialaxis": {
            "gridcolor": "white",
            "linecolor": "white",
            "ticks": ""
           }
          },
          "scene": {
           "xaxis": {
            "backgroundcolor": "#E5ECF6",
            "gridcolor": "white",
            "gridwidth": 2,
            "linecolor": "white",
            "showbackground": true,
            "ticks": "",
            "zerolinecolor": "white"
           },
           "yaxis": {
            "backgroundcolor": "#E5ECF6",
            "gridcolor": "white",
            "gridwidth": 2,
            "linecolor": "white",
            "showbackground": true,
            "ticks": "",
            "zerolinecolor": "white"
           },
           "zaxis": {
            "backgroundcolor": "#E5ECF6",
            "gridcolor": "white",
            "gridwidth": 2,
            "linecolor": "white",
            "showbackground": true,
            "ticks": "",
            "zerolinecolor": "white"
           }
          },
          "shapedefaults": {
           "line": {
            "color": "#2a3f5f"
           }
          },
          "ternary": {
           "aaxis": {
            "gridcolor": "white",
            "linecolor": "white",
            "ticks": ""
           },
           "baxis": {
            "gridcolor": "white",
            "linecolor": "white",
            "ticks": ""
           },
           "bgcolor": "#E5ECF6",
           "caxis": {
            "gridcolor": "white",
            "linecolor": "white",
            "ticks": ""
           }
          },
          "title": {
           "x": 0.05
          },
          "xaxis": {
           "automargin": true,
           "gridcolor": "white",
           "linecolor": "white",
           "ticks": "",
           "title": {
            "standoff": 15
           },
           "zerolinecolor": "white",
           "zerolinewidth": 2
          },
          "yaxis": {
           "automargin": true,
           "gridcolor": "white",
           "linecolor": "white",
           "ticks": "",
           "title": {
            "standoff": 15
           },
           "zerolinecolor": "white",
           "zerolinewidth": 2
          }
         }
        },
        "xaxis": {
         "anchor": "y",
         "autorange": true,
         "domain": [
          0,
          1
         ],
         "range": [
          -0.5,
          1763.5
         ],
         "title": {
          "text": "x"
         },
         "type": "linear"
        },
        "yaxis": {
         "anchor": "x",
         "autorange": true,
         "domain": [
          0,
          1
         ],
         "range": [
          0,
          195.78947368421052
         ],
         "title": {
          "text": "y"
         },
         "type": "linear"
        }
       }
      },
      "image/png": "[encoded data removed]",
      "text/html": [
       "<div>\n",
       "        \n",
       "        \n",
       "            <div id=\"f42d5f5d-2ca8-4601-8271-1c7aadc7f27e\" class=\"plotly-graph-div\" style=\"height:525px; width:100%;\"></div>\n",
       "            <script type=\"text/javascript\">\n",
       "                require([\"plotly\"], function(Plotly) {\n",
       "                    window.PLOTLYENV=window.PLOTLYENV || {};\n",
       "                    \n",
       "                if (document.getElementById(\"f42d5f5d-2ca8-4601-8271-1c7aadc7f27e\")) {\n",
       "                    Plotly.newPlot(\n",
       "                        'f42d5f5d-2ca8-4601-8271-1c7aadc7f27e',\n",
       "                        [{\"alignmentgroup\": \"True\", \"hoverlabel\": {\"namelength\": 0}, \"hovertemplate\": \"x=%{x}<br>y=%{y}\", \"legendgroup\": \"\", \"marker\": {\"color\": \"#636efa\"}, \"name\": \"\", \"offsetgroup\": \"\", \"orientation\": \"v\", \"showlegend\": false, \"textposition\": \"auto\", \"type\": \"bar\", \"x\": [3.0, 4.0, 2.0, 5.0, 6.0, 8.0, 7.0, 9.0, 1.0, 10.0, 11.0, 13.0, 12.0, 16.0, 14.0, 15.0, 18.0, 17.0, 23.0, 20.0, 21.0, 26.0, 33.0, 19.0, 22.0, 0.0, 29.0, 25.0, 43.0, 32.0, 24.0, 28.0, 40.0, 30.0, 27.0, 34.0, 45.0, 58.0, 39.0, 35.0, 53.0, 47.0, 48.0, 31.0, 37.0, 54.0, 42.0, 44.0, 57.0, 38.0, 59.0, 55.0, 88.0, 36.0, 64.0, 46.0, 62.0, 51.0, 100.0, 63.0, 68.0, 41.0, 111.0, 81.0, 123.0, 78.0, 56.0, 65.0, 60.0, 52.0, 50.0, 70.0, 61.0, 115.0, 127.0, 93.0, 66.0, 99.0, 75.0, 76.0, 89.0, 105.0, 95.0, 49.0, 94.0, 164.0, 185.0, 82.0, 125.0, 87.0, 92.0, 98.0, 80.0, 73.0, 142.0, 67.0, 85.0, 77.0, 146.0, 285.0, 153.0, 91.0, 124.0, 179.0, 141.0, 211.0, 119.0, 101.0, 71.0, 134.0, 109.0, 240.0, 238.0, 195.0, 107.0, 122.0, 114.0, 116.0, 305.0, 152.0, 96.0, 128.0, 228.0, 120.0, 72.0, 280.0, 306.0, 173.0, 161.0, 178.0, 90.0, 129.0, 418.0, 367.0, 288.0, 182.0, 104.0, 184.0, 270.0, 189.0, 400.0, 861.0, 527.0, 345.0, 711.0, 443.0, 136.0, 84.0, 382.0, 1522.0, 192.0, 160.0, 112.0, 530.0, 941.0, 501.0, 337.0, 683.0, 1255.0, 1089.0, 224.0, 256.0, 203.0, 1344.0, 446.0, 177.0, 118.0, 157.0, 163.0, 1102.0, 452.0, 817.0, 97.0, 468.0, 190.0, 198.0, 138.0, 254.0, 552.0, 201.0, 250.0, 139.0, 83.0, 209.0, 1716.0, 308.0, 151.0, 571.0, 289.0, 518.0, 621.0, 253.0, 366.0, 131.0, 302.0, 364.0, 325.0, 205.0, 841.0, 401.0, 491.0, 381.0, 279.0, 1763.0, 981.0, 1265.0, 175.0, 137.0, 171.0, 245.0, 430.0, 217.0, 481.0, 378.0, 331.0, 143.0, 1239.0, 1599.0, 1279.0, 707.0, 449.0, 782.0, 914.0, 1621.0, 278.0, 485.0, 1475.0, 869.0, 482.0, 133.0, 183.0, 1493.0, 282.0, 437.0, 167.0, 169.0, 263.0, 1083.0, 489.0, 463.0, 593.0, 826.0, 1730.0, 79.0, 113.0, 218.0, 103.0, 154.0, 274.0, 511.0, 631.0, 763.0, 1639.0, 317.0, 267.0, 565.0, 713.0, 312.0, 220.0, 110.0, 74.0, 102.0, 106.0, 86.0, 148.0, 132.0, 188.0, 316.0, 130.0, 292.0, 180.0, 258.0, 69.0, 422.0, 214.0, 303.0, 233.0], \"xaxis\": \"x\", \"y\": [186, 166, 144, 112, 101, 81, 80, 79, 76, 57, 54, 41, 41, 40, 38, 34, 31, 24, 24, 24, 22, 21, 21, 20, 20, 19, 17, 17, 16, 16, 16, 15, 15, 15, 15, 14, 14, 13, 13, 12, 11, 11, 11, 11, 10, 10, 10, 10, 9, 9, 8, 7, 7, 7, 7, 7, 7, 7, 6, 6, 6, 6, 6, 5, 5, 5, 5, 5, 5, 5, 4, 4, 4, 4, 4, 4, 4, 4, 4, 4, 4, 4, 3, 3, 3, 3, 3, 3, 3, 3, 3, 3, 3, 3, 3, 3, 3, 3, 3, 2, 2, 2, 2, 2, 2, 2, 2, 2, 2, 2, 2, 2, 2, 2, 2, 2, 2, 2, 2, 2, 2, 2, 2, 2, 2, 2, 2, 2, 2, 2, 2, 1, 1, 1, 1, 1, 1, 1, 1, 1, 1, 1, 1, 1, 1, 1, 1, 1, 1, 1, 1, 1, 1, 1, 1, 1, 1, 1, 1, 1, 1, 1, 1, 1, 1, 1, 1, 1, 1, 1, 1, 1, 1, 1, 1, 1, 1, 1, 1, 1, 1, 1, 1, 1, 1, 1, 1, 1, 1, 1, 1, 1, 1, 1, 1, 1, 1, 1, 1, 1, 1, 1, 1, 1, 1, 1, 1, 1, 1, 1, 1, 1, 1, 1, 1, 1, 1, 1, 1, 1, 1, 1, 1, 1, 1, 1, 1, 1, 1, 1, 1, 1, 1, 1, 1, 1, 1, 1, 1, 1, 1, 1, 1, 1, 1, 1, 1, 1, 1, 1, 1, 1, 1, 1, 1, 1, 1, 1, 1, 1, 1, 1, 1, 1, 1, 1, 1, 1, 1, 1, 1, 1, 1, 1, 1, 1, 1], \"yaxis\": \"y\"}],\n",
       "                        {\"barmode\": \"relative\", \"legend\": {\"tracegroupgap\": 0}, \"margin\": {\"t\": 60}, \"template\": {\"data\": {\"bar\": [{\"error_x\": {\"color\": \"#2a3f5f\"}, \"error_y\": {\"color\": \"#2a3f5f\"}, \"marker\": {\"line\": {\"color\": \"#E5ECF6\", \"width\": 0.5}}, \"type\": \"bar\"}], \"barpolar\": [{\"marker\": {\"line\": {\"color\": \"#E5ECF6\", \"width\": 0.5}}, \"type\": \"barpolar\"}], \"carpet\": [{\"aaxis\": {\"endlinecolor\": \"#2a3f5f\", \"gridcolor\": \"white\", \"linecolor\": \"white\", \"minorgridcolor\": \"white\", \"startlinecolor\": \"#2a3f5f\"}, \"baxis\": {\"endlinecolor\": \"#2a3f5f\", \"gridcolor\": \"white\", \"linecolor\": \"white\", \"minorgridcolor\": \"white\", \"startlinecolor\": \"#2a3f5f\"}, \"type\": \"carpet\"}], \"choropleth\": [{\"colorbar\": {\"outlinewidth\": 0, \"ticks\": \"\"}, \"type\": \"choropleth\"}], \"contour\": [{\"colorbar\": {\"outlinewidth\": 0, \"ticks\": \"\"}, \"colorscale\": [[0.0, \"#0d0887\"], [0.1111111111111111, \"#46039f\"], [0.2222222222222222, \"#7201a8\"], [0.3333333333333333, \"#9c179e\"], [0.4444444444444444, \"#bd3786\"], [0.5555555555555556, \"#d8576b\"], [0.6666666666666666, \"#ed7953\"], [0.7777777777777778, \"#fb9f3a\"], [0.8888888888888888, \"#fdca26\"], [1.0, \"#f0f921\"]], \"type\": \"contour\"}], \"contourcarpet\": [{\"colorbar\": {\"outlinewidth\": 0, \"ticks\": \"\"}, \"type\": \"contourcarpet\"}], \"heatmap\": [{\"colorbar\": {\"outlinewidth\": 0, \"ticks\": \"\"}, \"colorscale\": [[0.0, \"#0d0887\"], [0.1111111111111111, \"#46039f\"], [0.2222222222222222, \"#7201a8\"], [0.3333333333333333, \"#9c179e\"], [0.4444444444444444, \"#bd3786\"], [0.5555555555555556, \"#d8576b\"], [0.6666666666666666, \"#ed7953\"], [0.7777777777777778, \"#fb9f3a\"], [0.8888888888888888, \"#fdca26\"], [1.0, \"#f0f921\"]], \"type\": \"heatmap\"}], \"heatmapgl\": [{\"colorbar\": {\"outlinewidth\": 0, \"ticks\": \"\"}, \"colorscale\": [[0.0, \"#0d0887\"], [0.1111111111111111, \"#46039f\"], [0.2222222222222222, \"#7201a8\"], [0.3333333333333333, \"#9c179e\"], [0.4444444444444444, \"#bd3786\"], [0.5555555555555556, \"#d8576b\"], [0.6666666666666666, \"#ed7953\"], [0.7777777777777778, \"#fb9f3a\"], [0.8888888888888888, \"#fdca26\"], [1.0, \"#f0f921\"]], \"type\": \"heatmapgl\"}], \"histogram\": [{\"marker\": {\"colorbar\": {\"outlinewidth\": 0, \"ticks\": \"\"}}, \"type\": \"histogram\"}], \"histogram2d\": [{\"colorbar\": {\"outlinewidth\": 0, \"ticks\": \"\"}, \"colorscale\": [[0.0, \"#0d0887\"], [0.1111111111111111, \"#46039f\"], [0.2222222222222222, \"#7201a8\"], [0.3333333333333333, \"#9c179e\"], [0.4444444444444444, \"#bd3786\"], [0.5555555555555556, \"#d8576b\"], [0.6666666666666666, \"#ed7953\"], [0.7777777777777778, \"#fb9f3a\"], [0.8888888888888888, \"#fdca26\"], [1.0, \"#f0f921\"]], \"type\": \"histogram2d\"}], \"histogram2dcontour\": [{\"colorbar\": {\"outlinewidth\": 0, \"ticks\": \"\"}, \"colorscale\": [[0.0, \"#0d0887\"], [0.1111111111111111, \"#46039f\"], [0.2222222222222222, \"#7201a8\"], [0.3333333333333333, \"#9c179e\"], [0.4444444444444444, \"#bd3786\"], [0.5555555555555556, \"#d8576b\"], [0.6666666666666666, \"#ed7953\"], [0.7777777777777778, \"#fb9f3a\"], [0.8888888888888888, \"#fdca26\"], [1.0, \"#f0f921\"]], \"type\": \"histogram2dcontour\"}], \"mesh3d\": [{\"colorbar\": {\"outlinewidth\": 0, \"ticks\": \"\"}, \"type\": \"mesh3d\"}], \"parcoords\": [{\"line\": {\"colorbar\": {\"outlinewidth\": 0, \"ticks\": \"\"}}, \"type\": \"parcoords\"}], \"pie\": [{\"automargin\": true, \"type\": \"pie\"}], \"scatter\": [{\"marker\": {\"colorbar\": {\"outlinewidth\": 0, \"ticks\": \"\"}}, \"type\": \"scatter\"}], \"scatter3d\": [{\"line\": {\"colorbar\": {\"outlinewidth\": 0, \"ticks\": \"\"}}, \"marker\": {\"colorbar\": {\"outlinewidth\": 0, \"ticks\": \"\"}}, \"type\": \"scatter3d\"}], \"scattercarpet\": [{\"marker\": {\"colorbar\": {\"outlinewidth\": 0, \"ticks\": \"\"}}, \"type\": \"scattercarpet\"}], \"scattergeo\": [{\"marker\": {\"colorbar\": {\"outlinewidth\": 0, \"ticks\": \"\"}}, \"type\": \"scattergeo\"}], \"scattergl\": [{\"marker\": {\"colorbar\": {\"outlinewidth\": 0, \"ticks\": \"\"}}, \"type\": \"scattergl\"}], \"scattermapbox\": [{\"marker\": {\"colorbar\": {\"outlinewidth\": 0, \"ticks\": \"\"}}, \"type\": \"scattermapbox\"}], \"scatterpolar\": [{\"marker\": {\"colorbar\": {\"outlinewidth\": 0, \"ticks\": \"\"}}, \"type\": \"scatterpolar\"}], \"scatterpolargl\": [{\"marker\": {\"colorbar\": {\"outlinewidth\": 0, \"ticks\": \"\"}}, \"type\": \"scatterpolargl\"}], \"scatterternary\": [{\"marker\": {\"colorbar\": {\"outlinewidth\": 0, \"ticks\": \"\"}}, \"type\": \"scatterternary\"}], \"surface\": [{\"colorbar\": {\"outlinewidth\": 0, \"ticks\": \"\"}, \"colorscale\": [[0.0, \"#0d0887\"], [0.1111111111111111, \"#46039f\"], [0.2222222222222222, \"#7201a8\"], [0.3333333333333333, \"#9c179e\"], [0.4444444444444444, \"#bd3786\"], [0.5555555555555556, \"#d8576b\"], [0.6666666666666666, \"#ed7953\"], [0.7777777777777778, \"#fb9f3a\"], [0.8888888888888888, \"#fdca26\"], [1.0, \"#f0f921\"]], \"type\": \"surface\"}], \"table\": [{\"cells\": {\"fill\": {\"color\": \"#EBF0F8\"}, \"line\": {\"color\": \"white\"}}, \"header\": {\"fill\": {\"color\": \"#C8D4E3\"}, \"line\": {\"color\": \"white\"}}, \"type\": \"table\"}]}, \"layout\": {\"annotationdefaults\": {\"arrowcolor\": \"#2a3f5f\", \"arrowhead\": 0, \"arrowwidth\": 1}, \"coloraxis\": {\"colorbar\": {\"outlinewidth\": 0, \"ticks\": \"\"}}, \"colorscale\": {\"diverging\": [[0, \"#8e0152\"], [0.1, \"#c51b7d\"], [0.2, \"#de77ae\"], [0.3, \"#f1b6da\"], [0.4, \"#fde0ef\"], [0.5, \"#f7f7f7\"], [0.6, \"#e6f5d0\"], [0.7, \"#b8e186\"], [0.8, \"#7fbc41\"], [0.9, \"#4d9221\"], [1, \"#276419\"]], \"sequential\": [[0.0, \"#0d0887\"], [0.1111111111111111, \"#46039f\"], [0.2222222222222222, \"#7201a8\"], [0.3333333333333333, \"#9c179e\"], [0.4444444444444444, \"#bd3786\"], [0.5555555555555556, \"#d8576b\"], [0.6666666666666666, \"#ed7953\"], [0.7777777777777778, \"#fb9f3a\"], [0.8888888888888888, \"#fdca26\"], [1.0, \"#f0f921\"]], \"sequentialminus\": [[0.0, \"#0d0887\"], [0.1111111111111111, \"#46039f\"], [0.2222222222222222, \"#7201a8\"], [0.3333333333333333, \"#9c179e\"], [0.4444444444444444, \"#bd3786\"], [0.5555555555555556, \"#d8576b\"], [0.6666666666666666, \"#ed7953\"], [0.7777777777777778, \"#fb9f3a\"], [0.8888888888888888, \"#fdca26\"], [1.0, \"#f0f921\"]]}, \"colorway\": [\"#636efa\", \"#EF553B\", \"#00cc96\", \"#ab63fa\", \"#FFA15A\", \"#19d3f3\", \"#FF6692\", \"#B6E880\", \"#FF97FF\", \"#FECB52\"], \"font\": {\"color\": \"#2a3f5f\"}, \"geo\": {\"bgcolor\": \"white\", \"lakecolor\": \"white\", \"landcolor\": \"#E5ECF6\", \"showlakes\": true, \"showland\": true, \"subunitcolor\": \"white\"}, \"hoverlabel\": {\"align\": \"left\"}, \"hovermode\": \"closest\", \"mapbox\": {\"style\": \"light\"}, \"paper_bgcolor\": \"white\", \"plot_bgcolor\": \"#E5ECF6\", \"polar\": {\"angularaxis\": {\"gridcolor\": \"white\", \"linecolor\": \"white\", \"ticks\": \"\"}, \"bgcolor\": \"#E5ECF6\", \"radialaxis\": {\"gridcolor\": \"white\", \"linecolor\": \"white\", \"ticks\": \"\"}}, \"scene\": {\"xaxis\": {\"backgroundcolor\": \"#E5ECF6\", \"gridcolor\": \"white\", \"gridwidth\": 2, \"linecolor\": \"white\", \"showbackground\": true, \"ticks\": \"\", \"zerolinecolor\": \"white\"}, \"yaxis\": {\"backgroundcolor\": \"#E5ECF6\", \"gridcolor\": \"white\", \"gridwidth\": 2, \"linecolor\": \"white\", \"showbackground\": true, \"ticks\": \"\", \"zerolinecolor\": \"white\"}, \"zaxis\": {\"backgroundcolor\": \"#E5ECF6\", \"gridcolor\": \"white\", \"gridwidth\": 2, \"linecolor\": \"white\", \"showbackground\": true, \"ticks\": \"\", \"zerolinecolor\": \"white\"}}, \"shapedefaults\": {\"line\": {\"color\": \"#2a3f5f\"}}, \"ternary\": {\"aaxis\": {\"gridcolor\": \"white\", \"linecolor\": \"white\", \"ticks\": \"\"}, \"baxis\": {\"gridcolor\": \"white\", \"linecolor\": \"white\", \"ticks\": \"\"}, \"bgcolor\": \"#E5ECF6\", \"caxis\": {\"gridcolor\": \"white\", \"linecolor\": \"white\", \"ticks\": \"\"}}, \"title\": {\"x\": 0.05}, \"xaxis\": {\"automargin\": true, \"gridcolor\": \"white\", \"linecolor\": \"white\", \"ticks\": \"\", \"title\": {\"standoff\": 15}, \"zerolinecolor\": \"white\", \"zerolinewidth\": 2}, \"yaxis\": {\"automargin\": true, \"gridcolor\": \"white\", \"linecolor\": \"white\", \"ticks\": \"\", \"title\": {\"standoff\": 15}, \"zerolinecolor\": \"white\", \"zerolinewidth\": 2}}}, \"xaxis\": {\"anchor\": \"y\", \"domain\": [0.0, 1.0], \"title\": {\"text\": \"x\"}}, \"yaxis\": {\"anchor\": \"x\", \"domain\": [0.0, 1.0], \"title\": {\"text\": \"y\"}}},\n",
       "                        {\"responsive\": true}\n",
       "                    ).then(function(){\n",
       "                            \n",
       "var gd = document.getElementById('f42d5f5d-2ca8-4601-8271-1c7aadc7f27e');\n",
       "var x = new MutationObserver(function (mutations, observer) {{\n",
       "        var display = window.getComputedStyle(gd).display;\n",
       "        if (!display || display === 'none') {{\n",
       "            console.log([gd, 'removed!']);\n",
       "            Plotly.purge(gd);\n",
       "            observer.disconnect();\n",
       "        }}\n",
       "}});\n",
       "\n",
       "// Listen for the removal of the full notebook cells\n",
       "var notebookContainer = gd.closest('#notebook-container');\n",
       "if (notebookContainer) {{\n",
       "    x.observe(notebookContainer, {childList: true});\n",
       "}}\n",
       "\n",
       "// Listen for the clearing of the current output cell\n",
       "var outputEl = gd.closest('.output');\n",
       "if (outputEl) {{\n",
       "    x.observe(outputEl, {childList: true});\n",
       "}}\n",
       "\n",
       "                        })\n",
       "                };\n",
       "                });\n",
       "            </script>\n",
       "        </div>"
      ]
     },
     "metadata": {},
     "output_type": "display_data"
    }
   ],
   "source": [
    "px.bar(x = train_df_add[train_df.target == 1].session_timespan.value_counts().keys()\n",
    "      , y = train_df_add[train_df.target == 1].session_timespan.value_counts()\n",
    "      )"
   ]
  },
  {
   "cell_type": "code",
   "execution_count": 43,
   "metadata": {},
   "outputs": [
    {
     "data": {
      "application/vnd.plotly.v1+json": {
       "config": {
        "plotlyServerURL": "https://plot.ly"
       },
       "data": [
        {
         "alignmentgroup": "True",
         "hoverlabel": {
          "namelength": 0
         },
         "hovertemplate": "x=%{x}<br>y=%{y}",
         "legendgroup": "",
         "marker": {
          "color": "#636efa"
         },
         "name": "",
         "offsetgroup": "",
         "orientation": "v",
         "showlegend": false,
         "textposition": "auto",
         "type": "bar",
         "x": [
          2,
          1,
          3,
          4,
          0,
          5,
          6,
          9,
          7,
          8,
          10,
          11,
          12,
          13,
          14,
          15,
          16,
          17,
          18,
          19,
          20,
          21,
          22,
          23,
          24,
          25,
          30,
          26,
          27,
          31,
          28,
          29,
          32,
          33,
          34,
          35,
          36,
          45,
          38,
          40,
          37,
          60,
          39,
          42,
          46,
          43,
          54,
          41,
          44,
          270,
          48,
          49,
          47,
          51,
          50,
          53,
          52,
          61,
          55,
          90,
          56,
          120,
          59,
          62,
          58,
          57,
          64,
          66,
          63,
          65,
          67,
          68,
          70,
          69,
          71,
          80,
          72,
          73,
          74,
          77,
          81,
          75,
          76,
          82,
          83,
          79,
          78,
          85,
          84,
          87,
          121,
          108,
          86,
          91,
          88,
          92,
          89,
          98,
          95,
          240,
          115,
          99,
          180,
          96,
          119,
          150,
          93,
          94,
          97,
          109,
          116,
          101,
          127,
          103,
          125,
          107,
          100,
          123,
          112,
          117,
          113,
          102,
          122,
          104,
          124,
          105,
          175,
          114,
          132,
          130,
          106,
          110,
          118,
          126,
          111,
          210,
          174,
          176,
          131,
          129,
          133,
          134,
          128,
          177,
          171,
          137,
          136,
          147,
          173,
          140,
          139,
          138,
          135,
          143,
          178,
          142,
          169,
          149,
          144,
          172,
          160,
          145,
          146,
          170,
          168,
          179,
          164,
          148,
          181,
          162,
          156,
          182,
          151,
          159,
          152,
          155,
          167,
          141,
          161,
          166,
          241,
          157,
          165,
          153,
          154,
          163,
          184,
          158,
          192,
          183,
          186,
          185,
          187,
          190,
          242,
          199,
          189,
          191,
          239,
          200,
          271,
          1800,
          203,
          205,
          206,
          243,
          247,
          202,
          188,
          193,
          195,
          201,
          213,
          269,
          222,
          226,
          220,
          212,
          211,
          244,
          194,
          238,
          215,
          219,
          218,
          204,
          225,
          198,
          229,
          221,
          208,
          246,
          235,
          230,
          209,
          234,
          217,
          207,
          197,
          196,
          223,
          216,
          214,
          224,
          228,
          259,
          257,
          232,
          236,
          233,
          248,
          301,
          237,
          285,
          250,
          245,
          286,
          300,
          256,
          262,
          255,
          265,
          231,
          252,
          298,
          251,
          280,
          227,
          288,
          261,
          254,
          268,
          266,
          297,
          263,
          258,
          267,
          284,
          253,
          306,
          278,
          279,
          272,
          287,
          249,
          260,
          1200,
          315,
          273,
          289,
          1201,
          291,
          274,
          335,
          310,
          264,
          290,
          294,
          275,
          360,
          302,
          299,
          304,
          362,
          316,
          324,
          282,
          292,
          283,
          277,
          336,
          308,
          307,
          295,
          355,
          340,
          333,
          330,
          296,
          348,
          293,
          327,
          276,
          319,
          346,
          359,
          374,
          305,
          303,
          320,
          351,
          322,
          337,
          314,
          309,
          329,
          339,
          311,
          345,
          352,
          354,
          326,
          281,
          416,
          312,
          357,
          328,
          487,
          338,
          313,
          361,
          334,
          350,
          343,
          318,
          344,
          369,
          551,
          323,
          332,
          353,
          399,
          392,
          412,
          321,
          331,
          423,
          363,
          417,
          383,
          356,
          429,
          342,
          370,
          375,
          377,
          368,
          364,
          395,
          435,
          449,
          421,
          600,
          376,
          420,
          397,
          402,
          538,
          371,
          389,
          325,
          450,
          424,
          385,
          373,
          365,
          406,
          419,
          317,
          436,
          422,
          341,
          418,
          469,
          381,
          384,
          387,
          394,
          401,
          347,
          367,
          468,
          810,
          549,
          452,
          720,
          390,
          454,
          456,
          472,
          386,
          403,
          415,
          433,
          349,
          430,
          444,
          410,
          431,
          413,
          409,
          366,
          455,
          443,
          464,
          465,
          477,
          480,
          404,
          470,
          378,
          457,
          440,
          466,
          391,
          602,
          379,
          408,
          511,
          414,
          400,
          599,
          482,
          388,
          537,
          407,
          393,
          432,
          591,
          453,
          445,
          586,
          438,
          503,
          358,
          531,
          411,
          426,
          601,
          516,
          428,
          481,
          474,
          380,
          447,
          501,
          528,
          446,
          490,
          382,
          513,
          461,
          484,
          473,
          597,
          451,
          485,
          536,
          585,
          515,
          552,
          540,
          405,
          396,
          644,
          441,
          510,
          462,
          580,
          588,
          612,
          566,
          535,
          427,
          550,
          476,
          459,
          541,
          543,
          500,
          486,
          595,
          483,
          736,
          584,
          475,
          569,
          572,
          770,
          439,
          544,
          492,
          442,
          495,
          463,
          448,
          458,
          548,
          604,
          578,
          508,
          434,
          613,
          621,
          533,
          506,
          398,
          573,
          512,
          479,
          571,
          546,
          598,
          683,
          564,
          530,
          561,
          488,
          563,
          498,
          437,
          517,
          583,
          520,
          596,
          529,
          554,
          558,
          496,
          574,
          610,
          372,
          425,
          467,
          587,
          655,
          526,
          509,
          640,
          593,
          594,
          1799,
          522,
          494,
          786,
          524,
          819,
          1765,
          624,
          553,
          664,
          579,
          478,
          582,
          505,
          557,
          721,
          669,
          688,
          715,
          659,
          632,
          663,
          614,
          504,
          642,
          559,
          606,
          712,
          897,
          779,
          577,
          489,
          733,
          542,
          611,
          523,
          670,
          581,
          723,
          1798,
          527,
          771,
          499,
          609,
          460,
          514,
          493,
          575,
          625,
          562,
          630,
          471,
          576,
          647,
          626,
          782,
          631,
          637,
          618,
          534,
          590,
          900,
          634,
          698,
          718,
          633,
          726,
          682,
          843,
          701,
          799,
          665,
          532,
          763,
          837,
          903,
          732,
          840,
          859,
          845,
          842,
          650,
          850,
          704,
          652,
          703,
          817,
          737,
          660,
          821,
          619,
          620,
          491,
          565,
          678,
          735,
          746,
          1202,
          1199,
          661,
          785,
          646,
          695,
          658,
          568,
          589,
          828,
          761,
          755,
          547,
          702,
          958,
          603,
          592,
          1717,
          605,
          691,
          570,
          710,
          707,
          519,
          772,
          649,
          709,
          651,
          518,
          555,
          608,
          687,
          1776,
          672,
          816,
          891,
          693,
          895,
          781,
          796,
          607,
          719,
          502,
          818,
          793,
          869,
          838,
          1741,
          722,
          836,
          507,
          685,
          841,
          696,
          497,
          699,
          834,
          714,
          1763,
          1065,
          676,
          805,
          792,
          904,
          729,
          713,
          671,
          657,
          1733,
          675,
          1114,
          706,
          1007,
          750,
          745,
          803,
          656,
          1081,
          623,
          677,
          648,
          827,
          1040,
          961,
          667,
          769,
          766,
          759,
          705,
          681,
          906,
          1264,
          1695,
          1743,
          679,
          730,
          928,
          1774,
          615,
          787,
          913,
          1024,
          662,
          622,
          560,
          814,
          638,
          616,
          717,
          700,
          905,
          778,
          743,
          1053,
          765,
          686,
          902,
          824,
          567,
          846,
          731,
          956,
          748,
          776,
          641,
          668,
          617,
          545,
          636,
          911,
          1737,
          1205,
          708,
          525,
          789,
          844,
          880,
          852,
          896,
          1684,
          690,
          716,
          987,
          1088,
          1752,
          1090,
          921,
          1510,
          1781,
          1075,
          1049,
          1686,
          985,
          1132,
          867,
          680,
          628,
          734,
          654,
          774,
          795,
          694,
          627,
          724,
          877,
          811,
          1716,
          1357,
          740,
          1207,
          868,
          1732,
          725,
          892,
          830,
          666,
          539,
          908,
          1692,
          1015,
          1094,
          635,
          639,
          1790,
          949,
          857,
          1794,
          982,
          747,
          775,
          689,
          887,
          831,
          881,
          783,
          1500,
          780,
          739,
          835,
          1025,
          1727,
          951,
          1772,
          757,
          823,
          822,
          899,
          1748,
          820,
          1525,
          777,
          753,
          1745,
          1225,
          556,
          940,
          1746,
          945,
          804,
          1764,
          901,
          1014,
          1037,
          1559,
          645,
          813,
          967,
          1042,
          1694,
          1219,
          924,
          878,
          918,
          788,
          864,
          1446,
          872,
          1320,
          1098,
          1715,
          1181,
          1120,
          912,
          971,
          825,
          784,
          942,
          1689,
          1738,
          833,
          653,
          1441,
          910,
          849,
          643,
          1054,
          1179,
          1083,
          1265,
          839,
          1068,
          1786,
          972,
          744,
          916,
          1560,
          1718,
          920,
          1762,
          1031,
          1504,
          968,
          1625,
          1466,
          1753,
          1757,
          1093,
          1347,
          1739,
          990,
          1323,
          898,
          1517,
          1027,
          1168,
          962,
          802,
          965,
          1193,
          1274,
          758,
          1209,
          674,
          1148,
          807,
          749,
          1782,
          697,
          829,
          1725,
          1298,
          1426,
          1721,
          1729,
          979,
          1502,
          754,
          742,
          1787,
          1260,
          1238,
          1724,
          1742,
          984,
          1084,
          1126,
          1696,
          1061,
          1699,
          978,
          876,
          954,
          943,
          798,
          1503,
          1499,
          1062,
          873,
          1719,
          1278,
          1631,
          1720,
          1777,
          1110,
          773,
          832,
          1342,
          960,
          1541,
          1565,
          1766,
          1047,
          1462,
          995,
          1030,
          991,
          1785,
          935,
          847,
          1023,
          1383,
          1345,
          1203,
          914,
          1188,
          875,
          1183,
          1316,
          1473,
          930,
          1740,
          521,
          947,
          1214,
          1187,
          1551,
          1021,
          1235,
          1018,
          1714,
          760,
          764,
          874,
          808,
          882,
          1008,
          751,
          1244,
          983,
          1378,
          989,
          1304,
          938,
          791,
          1198,
          1071,
          1405,
          1768,
          1687,
          862,
          1190,
          1581,
          1216,
          1490,
          952,
          1755,
          1722,
          1210,
          1045,
          1749,
          1423,
          1079,
          826,
          1773,
          1099,
          1702,
          1784,
          1711,
          1064,
          684,
          883,
          856,
          915,
          1767,
          1139,
          1797,
          1754,
          1146,
          1653,
          998,
          1085,
          1747,
          812,
          917,
          871,
          858,
          950,
          907,
          1041,
          673,
          1708,
          980,
          970,
          1791,
          1300,
          926,
          1450,
          1184,
          1327,
          1406,
          1055,
          767,
          1074,
          1261,
          923,
          1325,
          809,
          711,
          794,
          1728,
          934,
          1295,
          1004,
          953,
          1519,
          1263,
          1106,
          1109,
          1706,
          1116,
          801,
          865,
          886,
          1780,
          1003,
          1212,
          1221,
          1196,
          933,
          790,
          1425,
          889,
          1059,
          1693,
          1688,
          1685,
          1778,
          1789,
          1137,
          1066,
          1703,
          1544,
          1709,
          1087,
          1792,
          1697,
          1516,
          1384,
          966,
          993,
          1287,
          1108,
          756,
          861,
          1675,
          1440,
          1332,
          1481,
          884,
          1162,
          955,
          1523,
          1744,
          1660,
          1445,
          941,
          957,
          863,
          888,
          1100,
          1077,
          1620,
          988,
          752,
          1138,
          1309,
          959,
          741,
          1311,
          1286,
          692,
          1561,
          1779,
          806,
          1036,
          974,
          1006,
          1242,
          939,
          1574,
          1069,
          1734,
          1793,
          1259,
          1232,
          1769,
          1410,
          1518,
          1400,
          946,
          992,
          932,
          1227,
          1013,
          1360,
          1091,
          1430,
          1272,
          1178,
          1223,
          738,
          894,
          1598,
          1035,
          762,
          1377,
          1398,
          1175,
          1634,
          1615,
          1358,
          800,
          1105,
          1616,
          1545,
          885,
          927,
          1393,
          1366,
          1141,
          1092,
          1033,
          1431,
          969,
          1160,
          1485,
          1626,
          1131,
          1449,
          768,
          1770,
          1650,
          1182,
          1150,
          1029,
          1268,
          1017,
          848,
          1185,
          1104,
          1019,
          1052,
          1208,
          1713,
          977,
          1531,
          1584,
          1151,
          1102,
          797,
          1113,
          1350,
          922,
          1276,
          1592,
          1578,
          1730,
          1707,
          1338,
          1402,
          1217,
          1680,
          1269,
          1016,
          1282,
          1153,
          1474,
          1067,
          1143,
          1662,
          1284,
          1549,
          890,
          1142,
          919,
          1171,
          1312,
          866,
          936,
          1731,
          1336,
          727,
          1628,
          870,
          1392,
          1166,
          1266,
          1122,
          1340,
          1736,
          1491,
          1661,
          728,
          1133,
          1705,
          1063,
          1292,
          1118,
          1233,
          1501,
          1470,
          1554,
          1352,
          1726,
          1038,
          1121,
          1334,
          1306,
          1655,
          1463,
          1211,
          1206,
          1424,
          964,
          1601,
          1682,
          1123,
          1647,
          1539,
          1437,
          1070,
          1447,
          1646,
          1022,
          1297,
          981,
          973,
          1176,
          1299,
          975,
          1301,
          1303,
          1280,
          1057,
          1234,
          1305,
          1290,
          1676,
          1163,
          1645,
          1547,
          948,
          1170,
          1683,
          1026,
          1407,
          1169,
          1484,
          1595,
          1710,
          1165,
          1136,
          1164,
          1642,
          1364,
          893,
          1558,
          1204,
          1056,
          1253,
          1656,
          1750,
          1103,
          1506,
          1283,
          1586,
          1648,
          1349,
          1795,
          1652,
          1124,
          1390,
          1796,
          1112,
          1252,
          1228,
          1597,
          1050,
          1698,
          1553,
          1048,
          1115,
          1011,
          1127,
          1251,
          1273,
          1761,
          1509,
          1254,
          1783,
          1758,
          1270,
          1438,
          1285,
          1186,
          1442,
          1140,
          1095,
          1580,
          1236,
          1681,
          1451,
          1250,
          1610,
          1453,
          1521,
          1585,
          1759,
          1155,
          909,
          851,
          1422,
          1346,
          879,
          1043,
          1594,
          1556,
          1412,
          1339,
          1751,
          1333,
          1315,
          1472,
          1159,
          1508,
          1464,
          1241,
          1319,
          1365,
          994,
          1246,
          1034,
          1593,
          1671,
          1691,
          1028,
          1701,
          1690,
          1220,
          1328,
          1381,
          976,
          1489,
          1195,
          1078,
          1147,
          1391,
          1395,
          1607,
          1130,
          1194,
          1135,
          1191,
          1471,
          1582,
          1044,
          1436,
          1622,
          1152,
          1173,
          1735,
          1172,
          1618,
          1058,
          629,
          1376,
          1258,
          929,
          1467,
          1583,
          1002,
          1573,
          1572,
          1617,
          1488,
          1046,
          1512,
          1644,
          1456,
          1562,
          1101,
          1129,
          1073,
          1128,
          1072,
          1704,
          1564,
          1275,
          1354,
          1606,
          1399,
          1571,
          1180,
          1760,
          1613,
          1775,
          1279,
          1348,
          1281,
          1154,
          1161,
          1326,
          1039,
          1557,
          1293,
          1416,
          1145,
          1658,
          1602,
          1452,
          1243,
          1313,
          1651,
          1213,
          1528,
          1482,
          1117,
          1461,
          1197,
          1256,
          1032,
          1368,
          1226,
          1000,
          1457,
          1060,
          1237,
          1239,
          1494,
          1465,
          1677,
          1240,
          1359,
          1361,
          963,
          1657,
          1010,
          1419,
          925,
          1337,
          1679,
          1344,
          1712,
          854,
          1771,
          1454,
          999,
          1394,
          1322,
          1082,
          1633,
          1080,
          1308,
          1670,
          1374,
          1591,
          1310,
          1363,
          1608,
          1231,
          1076,
          1009,
          1222,
          1673,
          1355,
          1540,
          1307,
          815,
          1672,
          1756,
          1001,
          1604,
          1674,
          1291,
          1289,
          1248,
          1654,
          1382,
          1542,
          1417,
          1012,
          1632,
          1218,
          1107,
          1177,
          1621,
          1189,
          1700,
          1627,
          1097,
          1255,
          1788,
          997,
          1579,
          1144,
          1174,
          1493,
          855,
          1624,
          937,
          1638,
          1477,
          1420,
          1396,
          1723,
          1629,
          1089,
          1469,
          1111,
          860,
          1192,
          1476,
          1575,
          1600,
          1020,
          1096,
          1468,
          1487,
          931,
          1439,
          1370,
          1288,
          1249,
          1134,
          1495,
          1514,
          1496,
          1149,
          996,
          1530,
          1403,
          1375,
          1532,
          1296,
          1411,
          1125,
          1415,
          1005,
          1637,
          1511,
          1335,
          1329,
          1563,
          1157,
          1314,
          944,
          1372,
          1215,
          1609,
          1479,
          1458,
          1630,
          1623,
          1459,
          1475,
          1086,
          1576,
          1568,
          1577,
          1546,
          1663,
          1589,
          1324,
          1318,
          1483,
          1543,
          1247,
          1590,
          1413,
          1668,
          1460,
          1385,
          1537,
          1641,
          1421,
          1444,
          1119,
          853,
          1156,
          1555,
          1397,
          1245,
          1548,
          1386,
          1636,
          1387,
          1507,
          1379,
          1401,
          1373,
          1294,
          1434,
          1669,
          1409,
          1587,
          1665,
          1369,
          1639,
          1478,
          1432,
          1533,
          1167,
          1492,
          1230,
          1667,
          1529,
          1611,
          1051,
          1486,
          1603,
          1524,
          1522,
          1317,
          1588,
          1262,
          1428,
          1566,
          1612,
          1321,
          1614,
          1649,
          1427,
          1526,
          1659,
          1536,
          1497,
          1527,
          1513,
          1520,
          1257,
          1480,
          1599,
          1505,
          1414,
          1435,
          1271,
          1678,
          1343,
          1267,
          1331,
          1515,
          1455,
          1538,
          1224,
          1356,
          1302,
          1341,
          1362,
          1605,
          1643,
          1229,
          1498,
          1666,
          1569,
          1596,
          1429,
          1535,
          1619,
          1443,
          1353,
          1330,
          1389,
          1635,
          1380,
          1534,
          1550,
          1371,
          1570,
          986,
          1418,
          1433,
          1567,
          1367,
          1404,
          1664,
          1640,
          1408,
          1552,
          1448,
          1388,
          1351,
          1277,
          1158
         ],
         "xaxis": "x",
         "y": [
          14380,
          10750,
          10273,
          7960,
          6692,
          6533,
          5696,
          5294,
          5057,
          4649,
          4291,
          3978,
          3788,
          3194,
          3156,
          2948,
          2822,
          2631,
          2535,
          2443,
          2354,
          2303,
          2183,
          2137,
          1901,
          1808,
          1782,
          1750,
          1730,
          1723,
          1685,
          1533,
          1457,
          1382,
          1334,
          1314,
          1249,
          1203,
          1193,
          1184,
          1141,
          1119,
          1113,
          1111,
          1070,
          1054,
          1043,
          1035,
          1023,
          1018,
          1007,
          1002,
          981,
          926,
          916,
          916,
          912,
          856,
          844,
          829,
          805,
          799,
          797,
          780,
          762,
          759,
          757,
          726,
          712,
          693,
          685,
          631,
          627,
          615,
          592,
          587,
          563,
          562,
          534,
          531,
          522,
          520,
          510,
          495,
          486,
          484,
          474,
          462,
          454,
          440,
          436,
          428,
          427,
          426,
          416,
          415,
          415,
          410,
          405,
          399,
          393,
          391,
          380,
          378,
          378,
          370,
          370,
          370,
          365,
          364,
          358,
          355,
          353,
          353,
          352,
          349,
          348,
          346,
          343,
          341,
          334,
          331,
          331,
          329,
          322,
          321,
          317,
          317,
          313,
          311,
          310,
          307,
          304,
          300,
          297,
          297,
          295,
          295,
          294,
          285,
          284,
          282,
          278,
          276,
          275,
          271,
          269,
          269,
          269,
          268,
          266,
          260,
          258,
          253,
          250,
          250,
          248,
          246,
          244,
          241,
          241,
          237,
          235,
          234,
          232,
          231,
          230,
          230,
          230,
          228,
          227,
          227,
          225,
          225,
          224,
          220,
          219,
          217,
          216,
          211,
          210,
          205,
          202,
          201,
          199,
          196,
          195,
          189,
          182,
          181,
          173,
          172,
          170,
          168,
          164,
          158,
          158,
          156,
          153,
          151,
          150,
          150,
          147,
          146,
          143,
          143,
          143,
          143,
          142,
          140,
          138,
          138,
          137,
          136,
          132,
          131,
          131,
          131,
          131,
          130,
          129,
          129,
          126,
          126,
          125,
          125,
          125,
          124,
          124,
          124,
          123,
          123,
          123,
          122,
          122,
          121,
          121,
          120,
          119,
          119,
          118,
          117,
          117,
          117,
          112,
          111,
          109,
          109,
          108,
          108,
          106,
          106,
          105,
          103,
          103,
          102,
          102,
          102,
          100,
          98,
          98,
          98,
          97,
          97,
          96,
          96,
          94,
          92,
          91,
          90,
          89,
          89,
          89,
          88,
          88,
          87,
          87,
          87,
          86,
          86,
          84,
          84,
          84,
          83,
          82,
          81,
          81,
          79,
          79,
          79,
          78,
          77,
          77,
          76,
          76,
          76,
          75,
          75,
          75,
          75,
          74,
          74,
          73,
          72,
          72,
          72,
          71,
          71,
          70,
          70,
          70,
          69,
          69,
          68,
          68,
          68,
          67,
          67,
          67,
          66,
          66,
          65,
          64,
          64,
          64,
          64,
          63,
          62,
          62,
          62,
          62,
          61,
          61,
          61,
          61,
          61,
          60,
          60,
          60,
          59,
          59,
          59,
          58,
          58,
          58,
          58,
          57,
          57,
          57,
          56,
          56,
          56,
          55,
          55,
          54,
          54,
          53,
          53,
          53,
          53,
          52,
          52,
          52,
          52,
          52,
          51,
          51,
          51,
          51,
          51,
          51,
          51,
          51,
          51,
          51,
          51,
          51,
          51,
          50,
          49,
          49,
          48,
          48,
          48,
          48,
          47,
          47,
          47,
          47,
          47,
          46,
          46,
          46,
          46,
          46,
          46,
          46,
          46,
          46,
          45,
          45,
          45,
          45,
          45,
          45,
          45,
          45,
          45,
          45,
          45,
          44,
          44,
          44,
          44,
          43,
          43,
          43,
          43,
          43,
          43,
          42,
          42,
          42,
          42,
          42,
          42,
          42,
          42,
          41,
          41,
          41,
          41,
          41,
          41,
          41,
          41,
          41,
          41,
          41,
          41,
          40,
          40,
          40,
          40,
          40,
          39,
          39,
          39,
          39,
          39,
          39,
          39,
          39,
          39,
          39,
          39,
          39,
          38,
          38,
          38,
          38,
          38,
          38,
          38,
          38,
          38,
          38,
          38,
          38,
          37,
          37,
          37,
          37,
          37,
          37,
          37,
          36,
          36,
          36,
          36,
          36,
          36,
          36,
          36,
          36,
          36,
          35,
          35,
          35,
          35,
          35,
          35,
          35,
          35,
          35,
          35,
          35,
          35,
          34,
          34,
          34,
          34,
          34,
          34,
          34,
          34,
          34,
          34,
          34,
          34,
          34,
          33,
          33,
          33,
          33,
          33,
          33,
          33,
          33,
          33,
          33,
          33,
          33,
          33,
          33,
          32,
          32,
          32,
          32,
          32,
          32,
          32,
          31,
          31,
          31,
          31,
          31,
          31,
          31,
          31,
          31,
          31,
          31,
          31,
          31,
          30,
          30,
          30,
          30,
          30,
          30,
          30,
          30,
          30,
          30,
          30,
          30,
          30,
          30,
          30,
          30,
          30,
          30,
          29,
          29,
          29,
          29,
          29,
          29,
          29,
          29,
          28,
          28,
          28,
          28,
          28,
          28,
          28,
          28,
          28,
          28,
          28,
          28,
          28,
          28,
          28,
          28,
          28,
          28,
          28,
          27,
          27,
          27,
          27,
          27,
          27,
          27,
          27,
          27,
          27,
          27,
          27,
          27,
          27,
          27,
          27,
          26,
          26,
          26,
          26,
          26,
          26,
          26,
          26,
          26,
          26,
          26,
          26,
          26,
          26,
          26,
          26,
          26,
          26,
          26,
          26,
          25,
          25,
          25,
          25,
          25,
          25,
          25,
          25,
          25,
          25,
          25,
          25,
          25,
          25,
          25,
          25,
          25,
          25,
          25,
          25,
          24,
          24,
          24,
          24,
          24,
          24,
          24,
          24,
          24,
          24,
          24,
          24,
          24,
          24,
          24,
          24,
          24,
          24,
          24,
          24,
          24,
          24,
          24,
          24,
          24,
          24,
          24,
          24,
          24,
          23,
          23,
          23,
          23,
          23,
          23,
          23,
          23,
          23,
          23,
          23,
          23,
          23,
          23,
          23,
          23,
          23,
          23,
          23,
          23,
          23,
          23,
          23,
          22,
          22,
          22,
          22,
          22,
          22,
          22,
          22,
          22,
          22,
          22,
          22,
          22,
          22,
          22,
          22,
          22,
          22,
          22,
          22,
          22,
          22,
          22,
          22,
          21,
          21,
          21,
          21,
          21,
          21,
          21,
          21,
          21,
          21,
          21,
          21,
          21,
          21,
          21,
          21,
          21,
          21,
          21,
          21,
          21,
          21,
          21,
          21,
          21,
          21,
          21,
          21,
          21,
          21,
          21,
          21,
          21,
          21,
          20,
          20,
          20,
          20,
          20,
          20,
          20,
          20,
          20,
          20,
          20,
          20,
          20,
          20,
          20,
          20,
          20,
          20,
          20,
          20,
          20,
          20,
          20,
          20,
          20,
          20,
          20,
          20,
          20,
          20,
          20,
          20,
          20,
          20,
          20,
          20,
          20,
          20,
          20,
          20,
          20,
          20,
          20,
          20,
          20,
          20,
          20,
          20,
          20,
          20,
          20,
          19,
          19,
          19,
          19,
          19,
          19,
          19,
          19,
          19,
          19,
          19,
          19,
          19,
          19,
          19,
          19,
          19,
          19,
          19,
          19,
          19,
          19,
          19,
          19,
          19,
          19,
          19,
          19,
          19,
          19,
          19,
          19,
          19,
          19,
          19,
          19,
          19,
          19,
          19,
          18,
          18,
          18,
          18,
          18,
          18,
          18,
          18,
          18,
          18,
          18,
          18,
          18,
          18,
          18,
          18,
          18,
          18,
          18,
          18,
          18,
          18,
          18,
          18,
          18,
          18,
          18,
          18,
          18,
          18,
          18,
          18,
          18,
          18,
          18,
          18,
          18,
          18,
          18,
          18,
          18,
          17,
          17,
          17,
          17,
          17,
          17,
          17,
          17,
          17,
          17,
          17,
          17,
          17,
          17,
          17,
          17,
          17,
          17,
          17,
          17,
          17,
          17,
          17,
          17,
          17,
          17,
          17,
          17,
          17,
          17,
          17,
          17,
          17,
          17,
          17,
          17,
          17,
          17,
          17,
          17,
          17,
          17,
          17,
          17,
          16,
          16,
          16,
          16,
          16,
          16,
          16,
          16,
          16,
          16,
          16,
          16,
          16,
          16,
          16,
          16,
          16,
          16,
          16,
          16,
          16,
          16,
          16,
          16,
          16,
          16,
          16,
          16,
          16,
          16,
          16,
          16,
          16,
          16,
          16,
          16,
          16,
          16,
          16,
          16,
          16,
          16,
          16,
          16,
          16,
          16,
          16,
          16,
          16,
          16,
          16,
          16,
          16,
          16,
          16,
          16,
          16,
          16,
          16,
          15,
          15,
          15,
          15,
          15,
          15,
          15,
          15,
          15,
          15,
          15,
          15,
          15,
          15,
          15,
          15,
          15,
          15,
          15,
          15,
          15,
          15,
          15,
          15,
          15,
          15,
          15,
          15,
          15,
          15,
          15,
          15,
          15,
          15,
          15,
          15,
          15,
          15,
          15,
          15,
          15,
          15,
          15,
          15,
          15,
          15,
          15,
          15,
          15,
          15,
          15,
          15,
          15,
          15,
          15,
          15,
          15,
          15,
          15,
          15,
          15,
          15,
          15,
          15,
          15,
          15,
          15,
          15,
          15,
          15,
          15,
          14,
          14,
          14,
          14,
          14,
          14,
          14,
          14,
          14,
          14,
          14,
          14,
          14,
          14,
          14,
          14,
          14,
          14,
          14,
          14,
          14,
          14,
          14,
          14,
          14,
          14,
          14,
          14,
          14,
          14,
          14,
          14,
          14,
          14,
          14,
          14,
          14,
          14,
          14,
          14,
          14,
          14,
          14,
          14,
          14,
          14,
          14,
          14,
          14,
          14,
          14,
          14,
          14,
          14,
          14,
          14,
          14,
          14,
          14,
          14,
          14,
          14,
          14,
          14,
          14,
          14,
          14,
          14,
          14,
          14,
          14,
          14,
          14,
          14,
          14,
          14,
          14,
          14,
          14,
          14,
          14,
          13,
          13,
          13,
          13,
          13,
          13,
          13,
          13,
          13,
          13,
          13,
          13,
          13,
          13,
          13,
          13,
          13,
          13,
          13,
          13,
          13,
          13,
          13,
          13,
          13,
          13,
          13,
          13,
          13,
          13,
          13,
          13,
          13,
          13,
          13,
          13,
          13,
          13,
          13,
          13,
          13,
          13,
          13,
          13,
          13,
          13,
          13,
          13,
          13,
          13,
          13,
          13,
          13,
          13,
          13,
          13,
          13,
          13,
          13,
          13,
          13,
          13,
          13,
          13,
          13,
          13,
          13,
          13,
          13,
          13,
          13,
          13,
          13,
          13,
          13,
          13,
          13,
          13,
          12,
          12,
          12,
          12,
          12,
          12,
          12,
          12,
          12,
          12,
          12,
          12,
          12,
          12,
          12,
          12,
          12,
          12,
          12,
          12,
          12,
          12,
          12,
          12,
          12,
          12,
          12,
          12,
          12,
          12,
          12,
          12,
          12,
          12,
          12,
          12,
          12,
          12,
          12,
          12,
          12,
          12,
          12,
          12,
          12,
          12,
          12,
          12,
          12,
          12,
          12,
          12,
          12,
          12,
          12,
          12,
          12,
          12,
          12,
          12,
          12,
          12,
          12,
          12,
          12,
          12,
          12,
          12,
          12,
          12,
          12,
          12,
          12,
          12,
          12,
          12,
          12,
          12,
          12,
          12,
          12,
          12,
          12,
          11,
          11,
          11,
          11,
          11,
          11,
          11,
          11,
          11,
          11,
          11,
          11,
          11,
          11,
          11,
          11,
          11,
          11,
          11,
          11,
          11,
          11,
          11,
          11,
          11,
          11,
          11,
          11,
          11,
          11,
          11,
          11,
          11,
          11,
          11,
          11,
          11,
          11,
          11,
          11,
          11,
          11,
          11,
          11,
          11,
          11,
          11,
          11,
          11,
          11,
          11,
          11,
          11,
          11,
          11,
          11,
          11,
          11,
          11,
          11,
          11,
          11,
          11,
          11,
          11,
          11,
          11,
          11,
          11,
          11,
          11,
          11,
          11,
          11,
          11,
          11,
          11,
          11,
          11,
          11,
          11,
          11,
          11,
          11,
          11,
          11,
          11,
          11,
          11,
          11,
          11,
          11,
          10,
          10,
          10,
          10,
          10,
          10,
          10,
          10,
          10,
          10,
          10,
          10,
          10,
          10,
          10,
          10,
          10,
          10,
          10,
          10,
          10,
          10,
          10,
          10,
          10,
          10,
          10,
          10,
          10,
          10,
          10,
          10,
          10,
          10,
          10,
          10,
          10,
          10,
          10,
          10,
          10,
          10,
          10,
          10,
          10,
          10,
          10,
          10,
          10,
          10,
          10,
          10,
          10,
          10,
          10,
          10,
          10,
          10,
          10,
          10,
          10,
          10,
          10,
          10,
          10,
          10,
          10,
          10,
          10,
          10,
          10,
          10,
          10,
          10,
          10,
          10,
          10,
          10,
          10,
          10,
          10,
          10,
          10,
          10,
          10,
          10,
          10,
          10,
          10,
          10,
          10,
          10,
          10,
          10,
          10,
          9,
          9,
          9,
          9,
          9,
          9,
          9,
          9,
          9,
          9,
          9,
          9,
          9,
          9,
          9,
          9,
          9,
          9,
          9,
          9,
          9,
          9,
          9,
          9,
          9,
          9,
          9,
          9,
          9,
          9,
          9,
          9,
          9,
          9,
          9,
          9,
          9,
          9,
          9,
          9,
          9,
          9,
          9,
          9,
          9,
          9,
          9,
          9,
          9,
          9,
          9,
          9,
          9,
          9,
          9,
          9,
          9,
          9,
          9,
          9,
          9,
          9,
          9,
          9,
          9,
          9,
          9,
          9,
          9,
          9,
          9,
          9,
          9,
          9,
          9,
          9,
          9,
          9,
          9,
          8,
          8,
          8,
          8,
          8,
          8,
          8,
          8,
          8,
          8,
          8,
          8,
          8,
          8,
          8,
          8,
          8,
          8,
          8,
          8,
          8,
          8,
          8,
          8,
          8,
          8,
          8,
          8,
          8,
          8,
          8,
          8,
          8,
          8,
          8,
          8,
          8,
          8,
          8,
          8,
          8,
          8,
          8,
          8,
          8,
          8,
          8,
          8,
          8,
          8,
          8,
          8,
          8,
          8,
          8,
          8,
          8,
          8,
          8,
          8,
          8,
          7,
          7,
          7,
          7,
          7,
          7,
          7,
          7,
          7,
          7,
          7,
          7,
          7,
          7,
          7,
          7,
          7,
          7,
          7,
          7,
          7,
          7,
          7,
          7,
          7,
          7,
          7,
          7,
          7,
          7,
          7,
          7,
          7,
          7,
          7,
          7,
          7,
          7,
          7,
          7,
          7,
          7,
          7,
          7,
          7,
          7,
          7,
          7,
          7,
          7,
          7,
          7,
          7,
          7,
          6,
          6,
          6,
          6,
          6,
          6,
          6,
          6,
          6,
          6,
          6,
          6,
          6,
          6,
          6,
          6,
          6,
          6,
          6,
          6,
          6,
          6,
          6,
          6,
          6,
          6,
          6,
          6,
          6,
          6,
          6,
          6,
          6,
          6,
          6,
          6,
          6,
          6,
          6,
          6,
          6,
          6,
          6,
          6,
          6,
          6,
          6,
          6,
          6,
          6,
          6,
          6,
          6,
          6,
          6,
          6,
          6,
          6,
          6,
          6,
          5,
          5,
          5,
          5,
          5,
          5,
          5,
          5,
          5,
          5,
          5,
          5,
          5,
          5,
          5,
          5,
          5,
          5,
          5,
          5,
          5,
          5,
          5,
          5,
          5,
          5,
          5,
          4,
          4,
          4,
          4,
          4,
          4,
          4,
          4,
          4,
          4,
          4,
          4,
          4,
          4,
          4,
          4,
          3,
          3,
          3,
          3,
          3,
          3,
          3,
          3,
          3,
          2,
          2,
          2,
          2,
          2
         ],
         "yaxis": "y"
        }
       ],
       "layout": {
        "autosize": true,
        "barmode": "relative",
        "legend": {
         "tracegroupgap": 0
        },
        "margin": {
         "t": 60
        },
        "template": {
         "data": {
          "bar": [
           {
            "error_x": {
             "color": "#2a3f5f"
            },
            "error_y": {
             "color": "#2a3f5f"
            },
            "marker": {
             "line": {
              "color": "#E5ECF6",
              "width": 0.5
             }
            },
            "type": "bar"
           }
          ],
          "barpolar": [
           {
            "marker": {
             "line": {
              "color": "#E5ECF6",
              "width": 0.5
             }
            },
            "type": "barpolar"
           }
          ],
          "carpet": [
           {
            "aaxis": {
             "endlinecolor": "#2a3f5f",
             "gridcolor": "white",
             "linecolor": "white",
             "minorgridcolor": "white",
             "startlinecolor": "#2a3f5f"
            },
            "baxis": {
             "endlinecolor": "#2a3f5f",
             "gridcolor": "white",
             "linecolor": "white",
             "minorgridcolor": "white",
             "startlinecolor": "#2a3f5f"
            },
            "type": "carpet"
           }
          ],
          "choropleth": [
           {
            "colorbar": {
             "outlinewidth": 0,
             "ticks": ""
            },
            "type": "choropleth"
           }
          ],
          "contour": [
           {
            "colorbar": {
             "outlinewidth": 0,
             "ticks": ""
            },
            "colorscale": [
             [
              0,
              "#0d0887"
             ],
             [
              0.1111111111111111,
              "#46039f"
             ],
             [
              0.2222222222222222,
              "#7201a8"
             ],
             [
              0.3333333333333333,
              "#9c179e"
             ],
             [
              0.4444444444444444,
              "#bd3786"
             ],
             [
              0.5555555555555556,
              "#d8576b"
             ],
             [
              0.6666666666666666,
              "#ed7953"
             ],
             [
              0.7777777777777778,
              "#fb9f3a"
             ],
             [
              0.8888888888888888,
              "#fdca26"
             ],
             [
              1,
              "#f0f921"
             ]
            ],
            "type": "contour"
           }
          ],
          "contourcarpet": [
           {
            "colorbar": {
             "outlinewidth": 0,
             "ticks": ""
            },
            "type": "contourcarpet"
           }
          ],
          "heatmap": [
           {
            "colorbar": {
             "outlinewidth": 0,
             "ticks": ""
            },
            "colorscale": [
             [
              0,
              "#0d0887"
             ],
             [
              0.1111111111111111,
              "#46039f"
             ],
             [
              0.2222222222222222,
              "#7201a8"
             ],
             [
              0.3333333333333333,
              "#9c179e"
             ],
             [
              0.4444444444444444,
              "#bd3786"
             ],
             [
              0.5555555555555556,
              "#d8576b"
             ],
             [
              0.6666666666666666,
              "#ed7953"
             ],
             [
              0.7777777777777778,
              "#fb9f3a"
             ],
             [
              0.8888888888888888,
              "#fdca26"
             ],
             [
              1,
              "#f0f921"
             ]
            ],
            "type": "heatmap"
           }
          ],
          "heatmapgl": [
           {
            "colorbar": {
             "outlinewidth": 0,
             "ticks": ""
            },
            "colorscale": [
             [
              0,
              "#0d0887"
             ],
             [
              0.1111111111111111,
              "#46039f"
             ],
             [
              0.2222222222222222,
              "#7201a8"
             ],
             [
              0.3333333333333333,
              "#9c179e"
             ],
             [
              0.4444444444444444,
              "#bd3786"
             ],
             [
              0.5555555555555556,
              "#d8576b"
             ],
             [
              0.6666666666666666,
              "#ed7953"
             ],
             [
              0.7777777777777778,
              "#fb9f3a"
             ],
             [
              0.8888888888888888,
              "#fdca26"
             ],
             [
              1,
              "#f0f921"
             ]
            ],
            "type": "heatmapgl"
           }
          ],
          "histogram": [
           {
            "marker": {
             "colorbar": {
              "outlinewidth": 0,
              "ticks": ""
             }
            },
            "type": "histogram"
           }
          ],
          "histogram2d": [
           {
            "colorbar": {
             "outlinewidth": 0,
             "ticks": ""
            },
            "colorscale": [
             [
              0,
              "#0d0887"
             ],
             [
              0.1111111111111111,
              "#46039f"
             ],
             [
              0.2222222222222222,
              "#7201a8"
             ],
             [
              0.3333333333333333,
              "#9c179e"
             ],
             [
              0.4444444444444444,
              "#bd3786"
             ],
             [
              0.5555555555555556,
              "#d8576b"
             ],
             [
              0.6666666666666666,
              "#ed7953"
             ],
             [
              0.7777777777777778,
              "#fb9f3a"
             ],
             [
              0.8888888888888888,
              "#fdca26"
             ],
             [
              1,
              "#f0f921"
             ]
            ],
            "type": "histogram2d"
           }
          ],
          "histogram2dcontour": [
           {
            "colorbar": {
             "outlinewidth": 0,
             "ticks": ""
            },
            "colorscale": [
             [
              0,
              "#0d0887"
             ],
             [
              0.1111111111111111,
              "#46039f"
             ],
             [
              0.2222222222222222,
              "#7201a8"
             ],
             [
              0.3333333333333333,
              "#9c179e"
             ],
             [
              0.4444444444444444,
              "#bd3786"
             ],
             [
              0.5555555555555556,
              "#d8576b"
             ],
             [
              0.6666666666666666,
              "#ed7953"
             ],
             [
              0.7777777777777778,
              "#fb9f3a"
             ],
             [
              0.8888888888888888,
              "#fdca26"
             ],
             [
              1,
              "#f0f921"
             ]
            ],
            "type": "histogram2dcontour"
           }
          ],
          "mesh3d": [
           {
            "colorbar": {
             "outlinewidth": 0,
             "ticks": ""
            },
            "type": "mesh3d"
           }
          ],
          "parcoords": [
           {
            "line": {
             "colorbar": {
              "outlinewidth": 0,
              "ticks": ""
             }
            },
            "type": "parcoords"
           }
          ],
          "pie": [
           {
            "automargin": true,
            "type": "pie"
           }
          ],
          "scatter": [
           {
            "marker": {
             "colorbar": {
              "outlinewidth": 0,
              "ticks": ""
             }
            },
            "type": "scatter"
           }
          ],
          "scatter3d": [
           {
            "line": {
             "colorbar": {
              "outlinewidth": 0,
              "ticks": ""
             }
            },
            "marker": {
             "colorbar": {
              "outlinewidth": 0,
              "ticks": ""
             }
            },
            "type": "scatter3d"
           }
          ],
          "scattercarpet": [
           {
            "marker": {
             "colorbar": {
              "outlinewidth": 0,
              "ticks": ""
             }
            },
            "type": "scattercarpet"
           }
          ],
          "scattergeo": [
           {
            "marker": {
             "colorbar": {
              "outlinewidth": 0,
              "ticks": ""
             }
            },
            "type": "scattergeo"
           }
          ],
          "scattergl": [
           {
            "marker": {
             "colorbar": {
              "outlinewidth": 0,
              "ticks": ""
             }
            },
            "type": "scattergl"
           }
          ],
          "scattermapbox": [
           {
            "marker": {
             "colorbar": {
              "outlinewidth": 0,
              "ticks": ""
             }
            },
            "type": "scattermapbox"
           }
          ],
          "scatterpolar": [
           {
            "marker": {
             "colorbar": {
              "outlinewidth": 0,
              "ticks": ""
             }
            },
            "type": "scatterpolar"
           }
          ],
          "scatterpolargl": [
           {
            "marker": {
             "colorbar": {
              "outlinewidth": 0,
              "ticks": ""
             }
            },
            "type": "scatterpolargl"
           }
          ],
          "scatterternary": [
           {
            "marker": {
             "colorbar": {
              "outlinewidth": 0,
              "ticks": ""
             }
            },
            "type": "scatterternary"
           }
          ],
          "surface": [
           {
            "colorbar": {
             "outlinewidth": 0,
             "ticks": ""
            },
            "colorscale": [
             [
              0,
              "#0d0887"
             ],
             [
              0.1111111111111111,
              "#46039f"
             ],
             [
              0.2222222222222222,
              "#7201a8"
             ],
             [
              0.3333333333333333,
              "#9c179e"
             ],
             [
              0.4444444444444444,
              "#bd3786"
             ],
             [
              0.5555555555555556,
              "#d8576b"
             ],
             [
              0.6666666666666666,
              "#ed7953"
             ],
             [
              0.7777777777777778,
              "#fb9f3a"
             ],
             [
              0.8888888888888888,
              "#fdca26"
             ],
             [
              1,
              "#f0f921"
             ]
            ],
            "type": "surface"
           }
          ],
          "table": [
           {
            "cells": {
             "fill": {
              "color": "#EBF0F8"
             },
             "line": {
              "color": "white"
             }
            },
            "header": {
             "fill": {
              "color": "#C8D4E3"
             },
             "line": {
              "color": "white"
             }
            },
            "type": "table"
           }
          ]
         },
         "layout": {
          "annotationdefaults": {
           "arrowcolor": "#2a3f5f",
           "arrowhead": 0,
           "arrowwidth": 1
          },
          "coloraxis": {
           "colorbar": {
            "outlinewidth": 0,
            "ticks": ""
           }
          },
          "colorscale": {
           "diverging": [
            [
             0,
             "#8e0152"
            ],
            [
             0.1,
             "#c51b7d"
            ],
            [
             0.2,
             "#de77ae"
            ],
            [
             0.3,
             "#f1b6da"
            ],
            [
             0.4,
             "#fde0ef"
            ],
            [
             0.5,
             "#f7f7f7"
            ],
            [
             0.6,
             "#e6f5d0"
            ],
            [
             0.7,
             "#b8e186"
            ],
            [
             0.8,
             "#7fbc41"
            ],
            [
             0.9,
             "#4d9221"
            ],
            [
             1,
             "#276419"
            ]
           ],
           "sequential": [
            [
             0,
             "#0d0887"
            ],
            [
             0.1111111111111111,
             "#46039f"
            ],
            [
             0.2222222222222222,
             "#7201a8"
            ],
            [
             0.3333333333333333,
             "#9c179e"
            ],
            [
             0.4444444444444444,
             "#bd3786"
            ],
            [
             0.5555555555555556,
             "#d8576b"
            ],
            [
             0.6666666666666666,
             "#ed7953"
            ],
            [
             0.7777777777777778,
             "#fb9f3a"
            ],
            [
             0.8888888888888888,
             "#fdca26"
            ],
            [
             1,
             "#f0f921"
            ]
           ],
           "sequentialminus": [
            [
             0,
             "#0d0887"
            ],
            [
             0.1111111111111111,
             "#46039f"
            ],
            [
             0.2222222222222222,
             "#7201a8"
            ],
            [
             0.3333333333333333,
             "#9c179e"
            ],
            [
             0.4444444444444444,
             "#bd3786"
            ],
            [
             0.5555555555555556,
             "#d8576b"
            ],
            [
             0.6666666666666666,
             "#ed7953"
            ],
            [
             0.7777777777777778,
             "#fb9f3a"
            ],
            [
             0.8888888888888888,
             "#fdca26"
            ],
            [
             1,
             "#f0f921"
            ]
           ]
          },
          "colorway": [
           "#636efa",
           "#EF553B",
           "#00cc96",
           "#ab63fa",
           "#FFA15A",
           "#19d3f3",
           "#FF6692",
           "#B6E880",
           "#FF97FF",
           "#FECB52"
          ],
          "font": {
           "color": "#2a3f5f"
          },
          "geo": {
           "bgcolor": "white",
           "lakecolor": "white",
           "landcolor": "#E5ECF6",
           "showlakes": true,
           "showland": true,
           "subunitcolor": "white"
          },
          "hoverlabel": {
           "align": "left"
          },
          "hovermode": "closest",
          "mapbox": {
           "style": "light"
          },
          "paper_bgcolor": "white",
          "plot_bgcolor": "#E5ECF6",
          "polar": {
           "angularaxis": {
            "gridcolor": "white",
            "linecolor": "white",
            "ticks": ""
           },
           "bgcolor": "#E5ECF6",
           "radialaxis": {
            "gridcolor": "white",
            "linecolor": "white",
            "ticks": ""
           }
          },
          "scene": {
           "xaxis": {
            "backgroundcolor": "#E5ECF6",
            "gridcolor": "white",
            "gridwidth": 2,
            "linecolor": "white",
            "showbackground": true,
            "ticks": "",
            "zerolinecolor": "white"
           },
           "yaxis": {
            "backgroundcolor": "#E5ECF6",
            "gridcolor": "white",
            "gridwidth": 2,
            "linecolor": "white",
            "showbackground": true,
            "ticks": "",
            "zerolinecolor": "white"
           },
           "zaxis": {
            "backgroundcolor": "#E5ECF6",
            "gridcolor": "white",
            "gridwidth": 2,
            "linecolor": "white",
            "showbackground": true,
            "ticks": "",
            "zerolinecolor": "white"
           }
          },
          "shapedefaults": {
           "line": {
            "color": "#2a3f5f"
           }
          },
          "ternary": {
           "aaxis": {
            "gridcolor": "white",
            "linecolor": "white",
            "ticks": ""
           },
           "baxis": {
            "gridcolor": "white",
            "linecolor": "white",
            "ticks": ""
           },
           "bgcolor": "#E5ECF6",
           "caxis": {
            "gridcolor": "white",
            "linecolor": "white",
            "ticks": ""
           }
          },
          "title": {
           "x": 0.05
          },
          "xaxis": {
           "automargin": true,
           "gridcolor": "white",
           "linecolor": "white",
           "ticks": "",
           "title": {
            "standoff": 15
           },
           "zerolinecolor": "white",
           "zerolinewidth": 2
          },
          "yaxis": {
           "automargin": true,
           "gridcolor": "white",
           "linecolor": "white",
           "ticks": "",
           "title": {
            "standoff": 15
           },
           "zerolinecolor": "white",
           "zerolinewidth": 2
          }
         }
        },
        "xaxis": {
         "anchor": "y",
         "autorange": true,
         "domain": [
          0,
          1
         ],
         "range": [
          -0.5,
          1800.5
         ],
         "title": {
          "text": "x"
         },
         "type": "linear"
        },
        "yaxis": {
         "anchor": "x",
         "autorange": true,
         "domain": [
          0,
          1
         ],
         "range": [
          0,
          15136.842105263158
         ],
         "title": {
          "text": "y"
         },
         "type": "linear"
        }
       }
      },
      "image/png": "[encoded data removed]",
      "text/html": [
       "<div>\n",
       "        \n",
       "        \n",
       "            <div id=\"e3d0dec4-a4da-497c-9d25-fd6e67118764\" class=\"plotly-graph-div\" style=\"height:525px; width:100%;\"></div>\n",
       "            <script type=\"text/javascript\">\n",
       "                require([\"plotly\"], function(Plotly) {\n",
       "                    window.PLOTLYENV=window.PLOTLYENV || {};\n",
       "                    \n",
       "                if (document.getElementById(\"e3d0dec4-a4da-497c-9d25-fd6e67118764\")) {\n",
       "                    Plotly.newPlot(\n",
       "                        'e3d0dec4-a4da-497c-9d25-fd6e67118764',\n",
       "                        [{\"alignmentgroup\": \"True\", \"hoverlabel\": {\"namelength\": 0}, \"hovertemplate\": \"x=%{x}<br>y=%{y}\", \"legendgroup\": \"\", \"marker\": {\"color\": \"#636efa\"}, \"name\": \"\", \"offsetgroup\": \"\", \"orientation\": \"v\", \"showlegend\": false, \"textposition\": \"auto\", \"type\": \"bar\", \"x\": [2.0, 1.0, 3.0, 4.0, 0.0, 5.0, 6.0, 9.0, 7.0, 8.0, 10.0, 11.0, 12.0, 13.0, 14.0, 15.0, 16.0, 17.0, 18.0, 19.0, 20.0, 21.0, 22.0, 23.0, 24.0, 25.0, 30.0, 26.0, 27.0, 31.0, 28.0, 29.0, 32.0, 33.0, 34.0, 35.0, 36.0, 45.0, 38.0, 40.0, 37.0, 60.0, 39.0, 42.0, 46.0, 43.0, 54.0, 41.0, 44.0, 270.0, 48.0, 49.0, 47.0, 51.0, 50.0, 53.0, 52.0, 61.0, 55.0, 90.0, 56.0, 120.0, 59.0, 62.0, 58.0, 57.0, 64.0, 66.0, 63.0, 65.0, 67.0, 68.0, 70.0, 69.0, 71.0, 80.0, 72.0, 73.0, 74.0, 77.0, 81.0, 75.0, 76.0, 82.0, 83.0, 79.0, 78.0, 85.0, 84.0, 87.0, 121.0, 108.0, 86.0, 91.0, 88.0, 92.0, 89.0, 98.0, 95.0, 240.0, 115.0, 99.0, 180.0, 96.0, 119.0, 150.0, 93.0, 94.0, 97.0, 109.0, 116.0, 101.0, 127.0, 103.0, 125.0, 107.0, 100.0, 123.0, 112.0, 117.0, 113.0, 102.0, 122.0, 104.0, 124.0, 105.0, 175.0, 114.0, 132.0, 130.0, 106.0, 110.0, 118.0, 126.0, 111.0, 210.0, 174.0, 176.0, 131.0, 129.0, 133.0, 134.0, 128.0, 177.0, 171.0, 137.0, 136.0, 147.0, 173.0, 140.0, 139.0, 138.0, 135.0, 143.0, 178.0, 142.0, 169.0, 149.0, 144.0, 172.0, 160.0, 145.0, 146.0, 170.0, 168.0, 179.0, 164.0, 148.0, 181.0, 162.0, 156.0, 182.0, 151.0, 159.0, 152.0, 155.0, 167.0, 141.0, 161.0, 166.0, 241.0, 157.0, 165.0, 153.0, 154.0, 163.0, 184.0, 158.0, 192.0, 183.0, 186.0, 185.0, 187.0, 190.0, 242.0, 199.0, 189.0, 191.0, 239.0, 200.0, 271.0, 1800.0, 203.0, 205.0, 206.0, 243.0, 247.0, 202.0, 188.0, 193.0, 195.0, 201.0, 213.0, 269.0, 222.0, 226.0, 220.0, 212.0, 211.0, 244.0, 194.0, 238.0, 215.0, 219.0, 218.0, 204.0, 225.0, 198.0, 229.0, 221.0, 208.0, 246.0, 235.0, 230.0, 209.0, 234.0, 217.0, 207.0, 197.0, 196.0, 223.0, 216.0, 214.0, 224.0, 228.0, 259.0, 257.0, 232.0, 236.0, 233.0, 248.0, 301.0, 237.0, 285.0, 250.0, 245.0, 286.0, 300.0, 256.0, 262.0, 255.0, 265.0, 231.0, 252.0, 298.0, 251.0, 280.0, 227.0, 288.0, 261.0, 254.0, 268.0, 266.0, 297.0, 263.0, 258.0, 267.0, 284.0, 253.0, 306.0, 278.0, 279.0, 272.0, 287.0, 249.0, 260.0, 1200.0, 315.0, 273.0, 289.0, 1201.0, 291.0, 274.0, 335.0, 310.0, 264.0, 290.0, 294.0, 275.0, 360.0, 302.0, 299.0, 304.0, 362.0, 316.0, 324.0, 282.0, 292.0, 283.0, 277.0, 336.0, 308.0, 307.0, 295.0, 355.0, 340.0, 333.0, 330.0, 296.0, 348.0, 293.0, 327.0, 276.0, 319.0, 346.0, 359.0, 374.0, 305.0, 303.0, 320.0, 351.0, 322.0, 337.0, 314.0, 309.0, 329.0, 339.0, 311.0, 345.0, 352.0, 354.0, 326.0, 281.0, 416.0, 312.0, 357.0, 328.0, 487.0, 338.0, 313.0, 361.0, 334.0, 350.0, 343.0, 318.0, 344.0, 369.0, 551.0, 323.0, 332.0, 353.0, 399.0, 392.0, 412.0, 321.0, 331.0, 423.0, 363.0, 417.0, 383.0, 356.0, 429.0, 342.0, 370.0, 375.0, 377.0, 368.0, 364.0, 395.0, 435.0, 449.0, 421.0, 600.0, 376.0, 420.0, 397.0, 402.0, 538.0, 371.0, 389.0, 325.0, 450.0, 424.0, 385.0, 373.0, 365.0, 406.0, 419.0, 317.0, 436.0, 422.0, 341.0, 418.0, 469.0, 381.0, 384.0, 387.0, 394.0, 401.0, 347.0, 367.0, 468.0, 810.0, 549.0, 452.0, 720.0, 390.0, 454.0, 456.0, 472.0, 386.0, 403.0, 415.0, 433.0, 349.0, 430.0, 444.0, 410.0, 431.0, 413.0, 409.0, 366.0, 455.0, 443.0, 464.0, 465.0, 477.0, 480.0, 404.0, 470.0, 378.0, 457.0, 440.0, 466.0, 391.0, 602.0, 379.0, 408.0, 511.0, 414.0, 400.0, 599.0, 482.0, 388.0, 537.0, 407.0, 393.0, 432.0, 591.0, 453.0, 445.0, 586.0, 438.0, 503.0, 358.0, 531.0, 411.0, 426.0, 601.0, 516.0, 428.0, 481.0, 474.0, 380.0, 447.0, 501.0, 528.0, 446.0, 490.0, 382.0, 513.0, 461.0, 484.0, 473.0, 597.0, 451.0, 485.0, 536.0, 585.0, 515.0, 552.0, 540.0, 405.0, 396.0, 644.0, 441.0, 510.0, 462.0, 580.0, 588.0, 612.0, 566.0, 535.0, 427.0, 550.0, 476.0, 459.0, 541.0, 543.0, 500.0, 486.0, 595.0, 483.0, 736.0, 584.0, 475.0, 569.0, 572.0, 770.0, 439.0, 544.0, 492.0, 442.0, 495.0, 463.0, 448.0, 458.0, 548.0, 604.0, 578.0, 508.0, 434.0, 613.0, 621.0, 533.0, 506.0, 398.0, 573.0, 512.0, 479.0, 571.0, 546.0, 598.0, 683.0, 564.0, 530.0, 561.0, 488.0, 563.0, 498.0, 437.0, 517.0, 583.0, 520.0, 596.0, 529.0, 554.0, 558.0, 496.0, 574.0, 610.0, 372.0, 425.0, 467.0, 587.0, 655.0, 526.0, 509.0, 640.0, 593.0, 594.0, 1799.0, 522.0, 494.0, 786.0, 524.0, 819.0, 1765.0, 624.0, 553.0, 664.0, 579.0, 478.0, 582.0, 505.0, 557.0, 721.0, 669.0, 688.0, 715.0, 659.0, 632.0, 663.0, 614.0, 504.0, 642.0, 559.0, 606.0, 712.0, 897.0, 779.0, 577.0, 489.0, 733.0, 542.0, 611.0, 523.0, 670.0, 581.0, 723.0, 1798.0, 527.0, 771.0, 499.0, 609.0, 460.0, 514.0, 493.0, 575.0, 625.0, 562.0, 630.0, 471.0, 576.0, 647.0, 626.0, 782.0, 631.0, 637.0, 618.0, 534.0, 590.0, 900.0, 634.0, 698.0, 718.0, 633.0, 726.0, 682.0, 843.0, 701.0, 799.0, 665.0, 532.0, 763.0, 837.0, 903.0, 732.0, 840.0, 859.0, 845.0, 842.0, 650.0, 850.0, 704.0, 652.0, 703.0, 817.0, 737.0, 660.0, 821.0, 619.0, 620.0, 491.0, 565.0, 678.0, 735.0, 746.0, 1202.0, 1199.0, 661.0, 785.0, 646.0, 695.0, 658.0, 568.0, 589.0, 828.0, 761.0, 755.0, 547.0, 702.0, 958.0, 603.0, 592.0, 1717.0, 605.0, 691.0, 570.0, 710.0, 707.0, 519.0, 772.0, 649.0, 709.0, 651.0, 518.0, 555.0, 608.0, 687.0, 1776.0, 672.0, 816.0, 891.0, 693.0, 895.0, 781.0, 796.0, 607.0, 719.0, 502.0, 818.0, 793.0, 869.0, 838.0, 1741.0, 722.0, 836.0, 507.0, 685.0, 841.0, 696.0, 497.0, 699.0, 834.0, 714.0, 1763.0, 1065.0, 676.0, 805.0, 792.0, 904.0, 729.0, 713.0, 671.0, 657.0, 1733.0, 675.0, 1114.0, 706.0, 1007.0, 750.0, 745.0, 803.0, 656.0, 1081.0, 623.0, 677.0, 648.0, 827.0, 1040.0, 961.0, 667.0, 769.0, 766.0, 759.0, 705.0, 681.0, 906.0, 1264.0, 1695.0, 1743.0, 679.0, 730.0, 928.0, 1774.0, 615.0, 787.0, 913.0, 1024.0, 662.0, 622.0, 560.0, 814.0, 638.0, 616.0, 717.0, 700.0, 905.0, 778.0, 743.0, 1053.0, 765.0, 686.0, 902.0, 824.0, 567.0, 846.0, 731.0, 956.0, 748.0, 776.0, 641.0, 668.0, 617.0, 545.0, 636.0, 911.0, 1737.0, 1205.0, 708.0, 525.0, 789.0, 844.0, 880.0, 852.0, 896.0, 1684.0, 690.0, 716.0, 987.0, 1088.0, 1752.0, 1090.0, 921.0, 1510.0, 1781.0, 1075.0, 1049.0, 1686.0, 985.0, 1132.0, 867.0, 680.0, 628.0, 734.0, 654.0, 774.0, 795.0, 694.0, 627.0, 724.0, 877.0, 811.0, 1716.0, 1357.0, 740.0, 1207.0, 868.0, 1732.0, 725.0, 892.0, 830.0, 666.0, 539.0, 908.0, 1692.0, 1015.0, 1094.0, 635.0, 639.0, 1790.0, 949.0, 857.0, 1794.0, 982.0, 747.0, 775.0, 689.0, 887.0, 831.0, 881.0, 783.0, 1500.0, 780.0, 739.0, 835.0, 1025.0, 1727.0, 951.0, 1772.0, 757.0, 823.0, 822.0, 899.0, 1748.0, 820.0, 1525.0, 777.0, 753.0, 1745.0, 1225.0, 556.0, 940.0, 1746.0, 945.0, 804.0, 1764.0, 901.0, 1014.0, 1037.0, 1559.0, 645.0, 813.0, 967.0, 1042.0, 1694.0, 1219.0, 924.0, 878.0, 918.0, 788.0, 864.0, 1446.0, 872.0, 1320.0, 1098.0, 1715.0, 1181.0, 1120.0, 912.0, 971.0, 825.0, 784.0, 942.0, 1689.0, 1738.0, 833.0, 653.0, 1441.0, 910.0, 849.0, 643.0, 1054.0, 1179.0, 1083.0, 1265.0, 839.0, 1068.0, 1786.0, 972.0, 744.0, 916.0, 1560.0, 1718.0, 920.0, 1762.0, 1031.0, 1504.0, 968.0, 1625.0, 1466.0, 1753.0, 1757.0, 1093.0, 1347.0, 1739.0, 990.0, 1323.0, 898.0, 1517.0, 1027.0, 1168.0, 962.0, 802.0, 965.0, 1193.0, 1274.0, 758.0, 1209.0, 674.0, 1148.0, 807.0, 749.0, 1782.0, 697.0, 829.0, 1725.0, 1298.0, 1426.0, 1721.0, 1729.0, 979.0, 1502.0, 754.0, 742.0, 1787.0, 1260.0, 1238.0, 1724.0, 1742.0, 984.0, 1084.0, 1126.0, 1696.0, 1061.0, 1699.0, 978.0, 876.0, 954.0, 943.0, 798.0, 1503.0, 1499.0, 1062.0, 873.0, 1719.0, 1278.0, 1631.0, 1720.0, 1777.0, 1110.0, 773.0, 832.0, 1342.0, 960.0, 1541.0, 1565.0, 1766.0, 1047.0, 1462.0, 995.0, 1030.0, 991.0, 1785.0, 935.0, 847.0, 1023.0, 1383.0, 1345.0, 1203.0, 914.0, 1188.0, 875.0, 1183.0, 1316.0, 1473.0, 930.0, 1740.0, 521.0, 947.0, 1214.0, 1187.0, 1551.0, 1021.0, 1235.0, 1018.0, 1714.0, 760.0, 764.0, 874.0, 808.0, 882.0, 1008.0, 751.0, 1244.0, 983.0, 1378.0, 989.0, 1304.0, 938.0, 791.0, 1198.0, 1071.0, 1405.0, 1768.0, 1687.0, 862.0, 1190.0, 1581.0, 1216.0, 1490.0, 952.0, 1755.0, 1722.0, 1210.0, 1045.0, 1749.0, 1423.0, 1079.0, 826.0, 1773.0, 1099.0, 1702.0, 1784.0, 1711.0, 1064.0, 684.0, 883.0, 856.0, 915.0, 1767.0, 1139.0, 1797.0, 1754.0, 1146.0, 1653.0, 998.0, 1085.0, 1747.0, 812.0, 917.0, 871.0, 858.0, 950.0, 907.0, 1041.0, 673.0, 1708.0, 980.0, 970.0, 1791.0, 1300.0, 926.0, 1450.0, 1184.0, 1327.0, 1406.0, 1055.0, 767.0, 1074.0, 1261.0, 923.0, 1325.0, 809.0, 711.0, 794.0, 1728.0, 934.0, 1295.0, 1004.0, 953.0, 1519.0, 1263.0, 1106.0, 1109.0, 1706.0, 1116.0, 801.0, 865.0, 886.0, 1780.0, 1003.0, 1212.0, 1221.0, 1196.0, 933.0, 790.0, 1425.0, 889.0, 1059.0, 1693.0, 1688.0, 1685.0, 1778.0, 1789.0, 1137.0, 1066.0, 1703.0, 1544.0, 1709.0, 1087.0, 1792.0, 1697.0, 1516.0, 1384.0, 966.0, 993.0, 1287.0, 1108.0, 756.0, 861.0, 1675.0, 1440.0, 1332.0, 1481.0, 884.0, 1162.0, 955.0, 1523.0, 1744.0, 1660.0, 1445.0, 941.0, 957.0, 863.0, 888.0, 1100.0, 1077.0, 1620.0, 988.0, 752.0, 1138.0, 1309.0, 959.0, 741.0, 1311.0, 1286.0, 692.0, 1561.0, 1779.0, 806.0, 1036.0, 974.0, 1006.0, 1242.0, 939.0, 1574.0, 1069.0, 1734.0, 1793.0, 1259.0, 1232.0, 1769.0, 1410.0, 1518.0, 1400.0, 946.0, 992.0, 932.0, 1227.0, 1013.0, 1360.0, 1091.0, 1430.0, 1272.0, 1178.0, 1223.0, 738.0, 894.0, 1598.0, 1035.0, 762.0, 1377.0, 1398.0, 1175.0, 1634.0, 1615.0, 1358.0, 800.0, 1105.0, 1616.0, 1545.0, 885.0, 927.0, 1393.0, 1366.0, 1141.0, 1092.0, 1033.0, 1431.0, 969.0, 1160.0, 1485.0, 1626.0, 1131.0, 1449.0, 768.0, 1770.0, 1650.0, 1182.0, 1150.0, 1029.0, 1268.0, 1017.0, 848.0, 1185.0, 1104.0, 1019.0, 1052.0, 1208.0, 1713.0, 977.0, 1531.0, 1584.0, 1151.0, 1102.0, 797.0, 1113.0, 1350.0, 922.0, 1276.0, 1592.0, 1578.0, 1730.0, 1707.0, 1338.0, 1402.0, 1217.0, 1680.0, 1269.0, 1016.0, 1282.0, 1153.0, 1474.0, 1067.0, 1143.0, 1662.0, 1284.0, 1549.0, 890.0, 1142.0, 919.0, 1171.0, 1312.0, 866.0, 936.0, 1731.0, 1336.0, 727.0, 1628.0, 870.0, 1392.0, 1166.0, 1266.0, 1122.0, 1340.0, 1736.0, 1491.0, 1661.0, 728.0, 1133.0, 1705.0, 1063.0, 1292.0, 1118.0, 1233.0, 1501.0, 1470.0, 1554.0, 1352.0, 1726.0, 1038.0, 1121.0, 1334.0, 1306.0, 1655.0, 1463.0, 1211.0, 1206.0, 1424.0, 964.0, 1601.0, 1682.0, 1123.0, 1647.0, 1539.0, 1437.0, 1070.0, 1447.0, 1646.0, 1022.0, 1297.0, 981.0, 973.0, 1176.0, 1299.0, 975.0, 1301.0, 1303.0, 1280.0, 1057.0, 1234.0, 1305.0, 1290.0, 1676.0, 1163.0, 1645.0, 1547.0, 948.0, 1170.0, 1683.0, 1026.0, 1407.0, 1169.0, 1484.0, 1595.0, 1710.0, 1165.0, 1136.0, 1164.0, 1642.0, 1364.0, 893.0, 1558.0, 1204.0, 1056.0, 1253.0, 1656.0, 1750.0, 1103.0, 1506.0, 1283.0, 1586.0, 1648.0, 1349.0, 1795.0, 1652.0, 1124.0, 1390.0, 1796.0, 1112.0, 1252.0, 1228.0, 1597.0, 1050.0, 1698.0, 1553.0, 1048.0, 1115.0, 1011.0, 1127.0, 1251.0, 1273.0, 1761.0, 1509.0, 1254.0, 1783.0, 1758.0, 1270.0, 1438.0, 1285.0, 1186.0, 1442.0, 1140.0, 1095.0, 1580.0, 1236.0, 1681.0, 1451.0, 1250.0, 1610.0, 1453.0, 1521.0, 1585.0, 1759.0, 1155.0, 909.0, 851.0, 1422.0, 1346.0, 879.0, 1043.0, 1594.0, 1556.0, 1412.0, 1339.0, 1751.0, 1333.0, 1315.0, 1472.0, 1159.0, 1508.0, 1464.0, 1241.0, 1319.0, 1365.0, 994.0, 1246.0, 1034.0, 1593.0, 1671.0, 1691.0, 1028.0, 1701.0, 1690.0, 1220.0, 1328.0, 1381.0, 976.0, 1489.0, 1195.0, 1078.0, 1147.0, 1391.0, 1395.0, 1607.0, 1130.0, 1194.0, 1135.0, 1191.0, 1471.0, 1582.0, 1044.0, 1436.0, 1622.0, 1152.0, 1173.0, 1735.0, 1172.0, 1618.0, 1058.0, 629.0, 1376.0, 1258.0, 929.0, 1467.0, 1583.0, 1002.0, 1573.0, 1572.0, 1617.0, 1488.0, 1046.0, 1512.0, 1644.0, 1456.0, 1562.0, 1101.0, 1129.0, 1073.0, 1128.0, 1072.0, 1704.0, 1564.0, 1275.0, 1354.0, 1606.0, 1399.0, 1571.0, 1180.0, 1760.0, 1613.0, 1775.0, 1279.0, 1348.0, 1281.0, 1154.0, 1161.0, 1326.0, 1039.0, 1557.0, 1293.0, 1416.0, 1145.0, 1658.0, 1602.0, 1452.0, 1243.0, 1313.0, 1651.0, 1213.0, 1528.0, 1482.0, 1117.0, 1461.0, 1197.0, 1256.0, 1032.0, 1368.0, 1226.0, 1000.0, 1457.0, 1060.0, 1237.0, 1239.0, 1494.0, 1465.0, 1677.0, 1240.0, 1359.0, 1361.0, 963.0, 1657.0, 1010.0, 1419.0, 925.0, 1337.0, 1679.0, 1344.0, 1712.0, 854.0, 1771.0, 1454.0, 999.0, 1394.0, 1322.0, 1082.0, 1633.0, 1080.0, 1308.0, 1670.0, 1374.0, 1591.0, 1310.0, 1363.0, 1608.0, 1231.0, 1076.0, 1009.0, 1222.0, 1673.0, 1355.0, 1540.0, 1307.0, 815.0, 1672.0, 1756.0, 1001.0, 1604.0, 1674.0, 1291.0, 1289.0, 1248.0, 1654.0, 1382.0, 1542.0, 1417.0, 1012.0, 1632.0, 1218.0, 1107.0, 1177.0, 1621.0, 1189.0, 1700.0, 1627.0, 1097.0, 1255.0, 1788.0, 997.0, 1579.0, 1144.0, 1174.0, 1493.0, 855.0, 1624.0, 937.0, 1638.0, 1477.0, 1420.0, 1396.0, 1723.0, 1629.0, 1089.0, 1469.0, 1111.0, 860.0, 1192.0, 1476.0, 1575.0, 1600.0, 1020.0, 1096.0, 1468.0, 1487.0, 931.0, 1439.0, 1370.0, 1288.0, 1249.0, 1134.0, 1495.0, 1514.0, 1496.0, 1149.0, 996.0, 1530.0, 1403.0, 1375.0, 1532.0, 1296.0, 1411.0, 1125.0, 1415.0, 1005.0, 1637.0, 1511.0, 1335.0, 1329.0, 1563.0, 1157.0, 1314.0, 944.0, 1372.0, 1215.0, 1609.0, 1479.0, 1458.0, 1630.0, 1623.0, 1459.0, 1475.0, 1086.0, 1576.0, 1568.0, 1577.0, 1546.0, 1663.0, 1589.0, 1324.0, 1318.0, 1483.0, 1543.0, 1247.0, 1590.0, 1413.0, 1668.0, 1460.0, 1385.0, 1537.0, 1641.0, 1421.0, 1444.0, 1119.0, 853.0, 1156.0, 1555.0, 1397.0, 1245.0, 1548.0, 1386.0, 1636.0, 1387.0, 1507.0, 1379.0, 1401.0, 1373.0, 1294.0, 1434.0, 1669.0, 1409.0, 1587.0, 1665.0, 1369.0, 1639.0, 1478.0, 1432.0, 1533.0, 1167.0, 1492.0, 1230.0, 1667.0, 1529.0, 1611.0, 1051.0, 1486.0, 1603.0, 1524.0, 1522.0, 1317.0, 1588.0, 1262.0, 1428.0, 1566.0, 1612.0, 1321.0, 1614.0, 1649.0, 1427.0, 1526.0, 1659.0, 1536.0, 1497.0, 1527.0, 1513.0, 1520.0, 1257.0, 1480.0, 1599.0, 1505.0, 1414.0, 1435.0, 1271.0, 1678.0, 1343.0, 1267.0, 1331.0, 1515.0, 1455.0, 1538.0, 1224.0, 1356.0, 1302.0, 1341.0, 1362.0, 1605.0, 1643.0, 1229.0, 1498.0, 1666.0, 1569.0, 1596.0, 1429.0, 1535.0, 1619.0, 1443.0, 1353.0, 1330.0, 1389.0, 1635.0, 1380.0, 1534.0, 1550.0, 1371.0, 1570.0, 986.0, 1418.0, 1433.0, 1567.0, 1367.0, 1404.0, 1664.0, 1640.0, 1408.0, 1552.0, 1448.0, 1388.0, 1351.0, 1277.0, 1158.0], \"xaxis\": \"x\", \"y\": [14380, 10750, 10273, 7960, 6692, 6533, 5696, 5294, 5057, 4649, 4291, 3978, 3788, 3194, 3156, 2948, 2822, 2631, 2535, 2443, 2354, 2303, 2183, 2137, 1901, 1808, 1782, 1750, 1730, 1723, 1685, 1533, 1457, 1382, 1334, 1314, 1249, 1203, 1193, 1184, 1141, 1119, 1113, 1111, 1070, 1054, 1043, 1035, 1023, 1018, 1007, 1002, 981, 926, 916, 916, 912, 856, 844, 829, 805, 799, 797, 780, 762, 759, 757, 726, 712, 693, 685, 631, 627, 615, 592, 587, 563, 562, 534, 531, 522, 520, 510, 495, 486, 484, 474, 462, 454, 440, 436, 428, 427, 426, 416, 415, 415, 410, 405, 399, 393, 391, 380, 378, 378, 370, 370, 370, 365, 364, 358, 355, 353, 353, 352, 349, 348, 346, 343, 341, 334, 331, 331, 329, 322, 321, 317, 317, 313, 311, 310, 307, 304, 300, 297, 297, 295, 295, 294, 285, 284, 282, 278, 276, 275, 271, 269, 269, 269, 268, 266, 260, 258, 253, 250, 250, 248, 246, 244, 241, 241, 237, 235, 234, 232, 231, 230, 230, 230, 228, 227, 227, 225, 225, 224, 220, 219, 217, 216, 211, 210, 205, 202, 201, 199, 196, 195, 189, 182, 181, 173, 172, 170, 168, 164, 158, 158, 156, 153, 151, 150, 150, 147, 146, 143, 143, 143, 143, 142, 140, 138, 138, 137, 136, 132, 131, 131, 131, 131, 130, 129, 129, 126, 126, 125, 125, 125, 124, 124, 124, 123, 123, 123, 122, 122, 121, 121, 120, 119, 119, 118, 117, 117, 117, 112, 111, 109, 109, 108, 108, 106, 106, 105, 103, 103, 102, 102, 102, 100, 98, 98, 98, 97, 97, 96, 96, 94, 92, 91, 90, 89, 89, 89, 88, 88, 87, 87, 87, 86, 86, 84, 84, 84, 83, 82, 81, 81, 79, 79, 79, 78, 77, 77, 76, 76, 76, 75, 75, 75, 75, 74, 74, 73, 72, 72, 72, 71, 71, 70, 70, 70, 69, 69, 68, 68, 68, 67, 67, 67, 66, 66, 65, 64, 64, 64, 64, 63, 62, 62, 62, 62, 61, 61, 61, 61, 61, 60, 60, 60, 59, 59, 59, 58, 58, 58, 58, 57, 57, 57, 56, 56, 56, 55, 55, 54, 54, 53, 53, 53, 53, 52, 52, 52, 52, 52, 51, 51, 51, 51, 51, 51, 51, 51, 51, 51, 51, 51, 51, 50, 49, 49, 48, 48, 48, 48, 47, 47, 47, 47, 47, 46, 46, 46, 46, 46, 46, 46, 46, 46, 45, 45, 45, 45, 45, 45, 45, 45, 45, 45, 45, 44, 44, 44, 44, 43, 43, 43, 43, 43, 43, 42, 42, 42, 42, 42, 42, 42, 42, 41, 41, 41, 41, 41, 41, 41, 41, 41, 41, 41, 41, 40, 40, 40, 40, 40, 39, 39, 39, 39, 39, 39, 39, 39, 39, 39, 39, 39, 38, 38, 38, 38, 38, 38, 38, 38, 38, 38, 38, 38, 37, 37, 37, 37, 37, 37, 37, 36, 36, 36, 36, 36, 36, 36, 36, 36, 36, 35, 35, 35, 35, 35, 35, 35, 35, 35, 35, 35, 35, 34, 34, 34, 34, 34, 34, 34, 34, 34, 34, 34, 34, 34, 33, 33, 33, 33, 33, 33, 33, 33, 33, 33, 33, 33, 33, 33, 32, 32, 32, 32, 32, 32, 32, 31, 31, 31, 31, 31, 31, 31, 31, 31, 31, 31, 31, 31, 30, 30, 30, 30, 30, 30, 30, 30, 30, 30, 30, 30, 30, 30, 30, 30, 30, 30, 29, 29, 29, 29, 29, 29, 29, 29, 28, 28, 28, 28, 28, 28, 28, 28, 28, 28, 28, 28, 28, 28, 28, 28, 28, 28, 28, 27, 27, 27, 27, 27, 27, 27, 27, 27, 27, 27, 27, 27, 27, 27, 27, 26, 26, 26, 26, 26, 26, 26, 26, 26, 26, 26, 26, 26, 26, 26, 26, 26, 26, 26, 26, 25, 25, 25, 25, 25, 25, 25, 25, 25, 25, 25, 25, 25, 25, 25, 25, 25, 25, 25, 25, 24, 24, 24, 24, 24, 24, 24, 24, 24, 24, 24, 24, 24, 24, 24, 24, 24, 24, 24, 24, 24, 24, 24, 24, 24, 24, 24, 24, 24, 23, 23, 23, 23, 23, 23, 23, 23, 23, 23, 23, 23, 23, 23, 23, 23, 23, 23, 23, 23, 23, 23, 23, 22, 22, 22, 22, 22, 22, 22, 22, 22, 22, 22, 22, 22, 22, 22, 22, 22, 22, 22, 22, 22, 22, 22, 22, 21, 21, 21, 21, 21, 21, 21, 21, 21, 21, 21, 21, 21, 21, 21, 21, 21, 21, 21, 21, 21, 21, 21, 21, 21, 21, 21, 21, 21, 21, 21, 21, 21, 21, 20, 20, 20, 20, 20, 20, 20, 20, 20, 20, 20, 20, 20, 20, 20, 20, 20, 20, 20, 20, 20, 20, 20, 20, 20, 20, 20, 20, 20, 20, 20, 20, 20, 20, 20, 20, 20, 20, 20, 20, 20, 20, 20, 20, 20, 20, 20, 20, 20, 20, 20, 19, 19, 19, 19, 19, 19, 19, 19, 19, 19, 19, 19, 19, 19, 19, 19, 19, 19, 19, 19, 19, 19, 19, 19, 19, 19, 19, 19, 19, 19, 19, 19, 19, 19, 19, 19, 19, 19, 19, 18, 18, 18, 18, 18, 18, 18, 18, 18, 18, 18, 18, 18, 18, 18, 18, 18, 18, 18, 18, 18, 18, 18, 18, 18, 18, 18, 18, 18, 18, 18, 18, 18, 18, 18, 18, 18, 18, 18, 18, 18, 17, 17, 17, 17, 17, 17, 17, 17, 17, 17, 17, 17, 17, 17, 17, 17, 17, 17, 17, 17, 17, 17, 17, 17, 17, 17, 17, 17, 17, 17, 17, 17, 17, 17, 17, 17, 17, 17, 17, 17, 17, 17, 17, 17, 16, 16, 16, 16, 16, 16, 16, 16, 16, 16, 16, 16, 16, 16, 16, 16, 16, 16, 16, 16, 16, 16, 16, 16, 16, 16, 16, 16, 16, 16, 16, 16, 16, 16, 16, 16, 16, 16, 16, 16, 16, 16, 16, 16, 16, 16, 16, 16, 16, 16, 16, 16, 16, 16, 16, 16, 16, 16, 16, 15, 15, 15, 15, 15, 15, 15, 15, 15, 15, 15, 15, 15, 15, 15, 15, 15, 15, 15, 15, 15, 15, 15, 15, 15, 15, 15, 15, 15, 15, 15, 15, 15, 15, 15, 15, 15, 15, 15, 15, 15, 15, 15, 15, 15, 15, 15, 15, 15, 15, 15, 15, 15, 15, 15, 15, 15, 15, 15, 15, 15, 15, 15, 15, 15, 15, 15, 15, 15, 15, 15, 14, 14, 14, 14, 14, 14, 14, 14, 14, 14, 14, 14, 14, 14, 14, 14, 14, 14, 14, 14, 14, 14, 14, 14, 14, 14, 14, 14, 14, 14, 14, 14, 14, 14, 14, 14, 14, 14, 14, 14, 14, 14, 14, 14, 14, 14, 14, 14, 14, 14, 14, 14, 14, 14, 14, 14, 14, 14, 14, 14, 14, 14, 14, 14, 14, 14, 14, 14, 14, 14, 14, 14, 14, 14, 14, 14, 14, 14, 14, 14, 14, 13, 13, 13, 13, 13, 13, 13, 13, 13, 13, 13, 13, 13, 13, 13, 13, 13, 13, 13, 13, 13, 13, 13, 13, 13, 13, 13, 13, 13, 13, 13, 13, 13, 13, 13, 13, 13, 13, 13, 13, 13, 13, 13, 13, 13, 13, 13, 13, 13, 13, 13, 13, 13, 13, 13, 13, 13, 13, 13, 13, 13, 13, 13, 13, 13, 13, 13, 13, 13, 13, 13, 13, 13, 13, 13, 13, 13, 13, 12, 12, 12, 12, 12, 12, 12, 12, 12, 12, 12, 12, 12, 12, 12, 12, 12, 12, 12, 12, 12, 12, 12, 12, 12, 12, 12, 12, 12, 12, 12, 12, 12, 12, 12, 12, 12, 12, 12, 12, 12, 12, 12, 12, 12, 12, 12, 12, 12, 12, 12, 12, 12, 12, 12, 12, 12, 12, 12, 12, 12, 12, 12, 12, 12, 12, 12, 12, 12, 12, 12, 12, 12, 12, 12, 12, 12, 12, 12, 12, 12, 12, 12, 11, 11, 11, 11, 11, 11, 11, 11, 11, 11, 11, 11, 11, 11, 11, 11, 11, 11, 11, 11, 11, 11, 11, 11, 11, 11, 11, 11, 11, 11, 11, 11, 11, 11, 11, 11, 11, 11, 11, 11, 11, 11, 11, 11, 11, 11, 11, 11, 11, 11, 11, 11, 11, 11, 11, 11, 11, 11, 11, 11, 11, 11, 11, 11, 11, 11, 11, 11, 11, 11, 11, 11, 11, 11, 11, 11, 11, 11, 11, 11, 11, 11, 11, 11, 11, 11, 11, 11, 11, 11, 11, 11, 10, 10, 10, 10, 10, 10, 10, 10, 10, 10, 10, 10, 10, 10, 10, 10, 10, 10, 10, 10, 10, 10, 10, 10, 10, 10, 10, 10, 10, 10, 10, 10, 10, 10, 10, 10, 10, 10, 10, 10, 10, 10, 10, 10, 10, 10, 10, 10, 10, 10, 10, 10, 10, 10, 10, 10, 10, 10, 10, 10, 10, 10, 10, 10, 10, 10, 10, 10, 10, 10, 10, 10, 10, 10, 10, 10, 10, 10, 10, 10, 10, 10, 10, 10, 10, 10, 10, 10, 10, 10, 10, 10, 10, 10, 10, 9, 9, 9, 9, 9, 9, 9, 9, 9, 9, 9, 9, 9, 9, 9, 9, 9, 9, 9, 9, 9, 9, 9, 9, 9, 9, 9, 9, 9, 9, 9, 9, 9, 9, 9, 9, 9, 9, 9, 9, 9, 9, 9, 9, 9, 9, 9, 9, 9, 9, 9, 9, 9, 9, 9, 9, 9, 9, 9, 9, 9, 9, 9, 9, 9, 9, 9, 9, 9, 9, 9, 9, 9, 9, 9, 9, 9, 9, 9, 8, 8, 8, 8, 8, 8, 8, 8, 8, 8, 8, 8, 8, 8, 8, 8, 8, 8, 8, 8, 8, 8, 8, 8, 8, 8, 8, 8, 8, 8, 8, 8, 8, 8, 8, 8, 8, 8, 8, 8, 8, 8, 8, 8, 8, 8, 8, 8, 8, 8, 8, 8, 8, 8, 8, 8, 8, 8, 8, 8, 8, 7, 7, 7, 7, 7, 7, 7, 7, 7, 7, 7, 7, 7, 7, 7, 7, 7, 7, 7, 7, 7, 7, 7, 7, 7, 7, 7, 7, 7, 7, 7, 7, 7, 7, 7, 7, 7, 7, 7, 7, 7, 7, 7, 7, 7, 7, 7, 7, 7, 7, 7, 7, 7, 7, 6, 6, 6, 6, 6, 6, 6, 6, 6, 6, 6, 6, 6, 6, 6, 6, 6, 6, 6, 6, 6, 6, 6, 6, 6, 6, 6, 6, 6, 6, 6, 6, 6, 6, 6, 6, 6, 6, 6, 6, 6, 6, 6, 6, 6, 6, 6, 6, 6, 6, 6, 6, 6, 6, 6, 6, 6, 6, 6, 6, 5, 5, 5, 5, 5, 5, 5, 5, 5, 5, 5, 5, 5, 5, 5, 5, 5, 5, 5, 5, 5, 5, 5, 5, 5, 5, 5, 4, 4, 4, 4, 4, 4, 4, 4, 4, 4, 4, 4, 4, 4, 4, 4, 3, 3, 3, 3, 3, 3, 3, 3, 3, 2, 2, 2, 2, 2], \"yaxis\": \"y\"}],\n",
       "                        {\"barmode\": \"relative\", \"legend\": {\"tracegroupgap\": 0}, \"margin\": {\"t\": 60}, \"template\": {\"data\": {\"bar\": [{\"error_x\": {\"color\": \"#2a3f5f\"}, \"error_y\": {\"color\": \"#2a3f5f\"}, \"marker\": {\"line\": {\"color\": \"#E5ECF6\", \"width\": 0.5}}, \"type\": \"bar\"}], \"barpolar\": [{\"marker\": {\"line\": {\"color\": \"#E5ECF6\", \"width\": 0.5}}, \"type\": \"barpolar\"}], \"carpet\": [{\"aaxis\": {\"endlinecolor\": \"#2a3f5f\", \"gridcolor\": \"white\", \"linecolor\": \"white\", \"minorgridcolor\": \"white\", \"startlinecolor\": \"#2a3f5f\"}, \"baxis\": {\"endlinecolor\": \"#2a3f5f\", \"gridcolor\": \"white\", \"linecolor\": \"white\", \"minorgridcolor\": \"white\", \"startlinecolor\": \"#2a3f5f\"}, \"type\": \"carpet\"}], \"choropleth\": [{\"colorbar\": {\"outlinewidth\": 0, \"ticks\": \"\"}, \"type\": \"choropleth\"}], \"contour\": [{\"colorbar\": {\"outlinewidth\": 0, \"ticks\": \"\"}, \"colorscale\": [[0.0, \"#0d0887\"], [0.1111111111111111, \"#46039f\"], [0.2222222222222222, \"#7201a8\"], [0.3333333333333333, \"#9c179e\"], [0.4444444444444444, \"#bd3786\"], [0.5555555555555556, \"#d8576b\"], [0.6666666666666666, \"#ed7953\"], [0.7777777777777778, \"#fb9f3a\"], [0.8888888888888888, \"#fdca26\"], [1.0, \"#f0f921\"]], \"type\": \"contour\"}], \"contourcarpet\": [{\"colorbar\": {\"outlinewidth\": 0, \"ticks\": \"\"}, \"type\": \"contourcarpet\"}], \"heatmap\": [{\"colorbar\": {\"outlinewidth\": 0, \"ticks\": \"\"}, \"colorscale\": [[0.0, \"#0d0887\"], [0.1111111111111111, \"#46039f\"], [0.2222222222222222, \"#7201a8\"], [0.3333333333333333, \"#9c179e\"], [0.4444444444444444, \"#bd3786\"], [0.5555555555555556, \"#d8576b\"], [0.6666666666666666, \"#ed7953\"], [0.7777777777777778, \"#fb9f3a\"], [0.8888888888888888, \"#fdca26\"], [1.0, \"#f0f921\"]], \"type\": \"heatmap\"}], \"heatmapgl\": [{\"colorbar\": {\"outlinewidth\": 0, \"ticks\": \"\"}, \"colorscale\": [[0.0, \"#0d0887\"], [0.1111111111111111, \"#46039f\"], [0.2222222222222222, \"#7201a8\"], [0.3333333333333333, \"#9c179e\"], [0.4444444444444444, \"#bd3786\"], [0.5555555555555556, \"#d8576b\"], [0.6666666666666666, \"#ed7953\"], [0.7777777777777778, \"#fb9f3a\"], [0.8888888888888888, \"#fdca26\"], [1.0, \"#f0f921\"]], \"type\": \"heatmapgl\"}], \"histogram\": [{\"marker\": {\"colorbar\": {\"outlinewidth\": 0, \"ticks\": \"\"}}, \"type\": \"histogram\"}], \"histogram2d\": [{\"colorbar\": {\"outlinewidth\": 0, \"ticks\": \"\"}, \"colorscale\": [[0.0, \"#0d0887\"], [0.1111111111111111, \"#46039f\"], [0.2222222222222222, \"#7201a8\"], [0.3333333333333333, \"#9c179e\"], [0.4444444444444444, \"#bd3786\"], [0.5555555555555556, \"#d8576b\"], [0.6666666666666666, \"#ed7953\"], [0.7777777777777778, \"#fb9f3a\"], [0.8888888888888888, \"#fdca26\"], [1.0, \"#f0f921\"]], \"type\": \"histogram2d\"}], \"histogram2dcontour\": [{\"colorbar\": {\"outlinewidth\": 0, \"ticks\": \"\"}, \"colorscale\": [[0.0, \"#0d0887\"], [0.1111111111111111, \"#46039f\"], [0.2222222222222222, \"#7201a8\"], [0.3333333333333333, \"#9c179e\"], [0.4444444444444444, \"#bd3786\"], [0.5555555555555556, \"#d8576b\"], [0.6666666666666666, \"#ed7953\"], [0.7777777777777778, \"#fb9f3a\"], [0.8888888888888888, \"#fdca26\"], [1.0, \"#f0f921\"]], \"type\": \"histogram2dcontour\"}], \"mesh3d\": [{\"colorbar\": {\"outlinewidth\": 0, \"ticks\": \"\"}, \"type\": \"mesh3d\"}], \"parcoords\": [{\"line\": {\"colorbar\": {\"outlinewidth\": 0, \"ticks\": \"\"}}, \"type\": \"parcoords\"}], \"pie\": [{\"automargin\": true, \"type\": \"pie\"}], \"scatter\": [{\"marker\": {\"colorbar\": {\"outlinewidth\": 0, \"ticks\": \"\"}}, \"type\": \"scatter\"}], \"scatter3d\": [{\"line\": {\"colorbar\": {\"outlinewidth\": 0, \"ticks\": \"\"}}, \"marker\": {\"colorbar\": {\"outlinewidth\": 0, \"ticks\": \"\"}}, \"type\": \"scatter3d\"}], \"scattercarpet\": [{\"marker\": {\"colorbar\": {\"outlinewidth\": 0, \"ticks\": \"\"}}, \"type\": \"scattercarpet\"}], \"scattergeo\": [{\"marker\": {\"colorbar\": {\"outlinewidth\": 0, \"ticks\": \"\"}}, \"type\": \"scattergeo\"}], \"scattergl\": [{\"marker\": {\"colorbar\": {\"outlinewidth\": 0, \"ticks\": \"\"}}, \"type\": \"scattergl\"}], \"scattermapbox\": [{\"marker\": {\"colorbar\": {\"outlinewidth\": 0, \"ticks\": \"\"}}, \"type\": \"scattermapbox\"}], \"scatterpolar\": [{\"marker\": {\"colorbar\": {\"outlinewidth\": 0, \"ticks\": \"\"}}, \"type\": \"scatterpolar\"}], \"scatterpolargl\": [{\"marker\": {\"colorbar\": {\"outlinewidth\": 0, \"ticks\": \"\"}}, \"type\": \"scatterpolargl\"}], \"scatterternary\": [{\"marker\": {\"colorbar\": {\"outlinewidth\": 0, \"ticks\": \"\"}}, \"type\": \"scatterternary\"}], \"surface\": [{\"colorbar\": {\"outlinewidth\": 0, \"ticks\": \"\"}, \"colorscale\": [[0.0, \"#0d0887\"], [0.1111111111111111, \"#46039f\"], [0.2222222222222222, \"#7201a8\"], [0.3333333333333333, \"#9c179e\"], [0.4444444444444444, \"#bd3786\"], [0.5555555555555556, \"#d8576b\"], [0.6666666666666666, \"#ed7953\"], [0.7777777777777778, \"#fb9f3a\"], [0.8888888888888888, \"#fdca26\"], [1.0, \"#f0f921\"]], \"type\": \"surface\"}], \"table\": [{\"cells\": {\"fill\": {\"color\": \"#EBF0F8\"}, \"line\": {\"color\": \"white\"}}, \"header\": {\"fill\": {\"color\": \"#C8D4E3\"}, \"line\": {\"color\": \"white\"}}, \"type\": \"table\"}]}, \"layout\": {\"annotationdefaults\": {\"arrowcolor\": \"#2a3f5f\", \"arrowhead\": 0, \"arrowwidth\": 1}, \"coloraxis\": {\"colorbar\": {\"outlinewidth\": 0, \"ticks\": \"\"}}, \"colorscale\": {\"diverging\": [[0, \"#8e0152\"], [0.1, \"#c51b7d\"], [0.2, \"#de77ae\"], [0.3, \"#f1b6da\"], [0.4, \"#fde0ef\"], [0.5, \"#f7f7f7\"], [0.6, \"#e6f5d0\"], [0.7, \"#b8e186\"], [0.8, \"#7fbc41\"], [0.9, \"#4d9221\"], [1, \"#276419\"]], \"sequential\": [[0.0, \"#0d0887\"], [0.1111111111111111, \"#46039f\"], [0.2222222222222222, \"#7201a8\"], [0.3333333333333333, \"#9c179e\"], [0.4444444444444444, \"#bd3786\"], [0.5555555555555556, \"#d8576b\"], [0.6666666666666666, \"#ed7953\"], [0.7777777777777778, \"#fb9f3a\"], [0.8888888888888888, \"#fdca26\"], [1.0, \"#f0f921\"]], \"sequentialminus\": [[0.0, \"#0d0887\"], [0.1111111111111111, \"#46039f\"], [0.2222222222222222, \"#7201a8\"], [0.3333333333333333, \"#9c179e\"], [0.4444444444444444, \"#bd3786\"], [0.5555555555555556, \"#d8576b\"], [0.6666666666666666, \"#ed7953\"], [0.7777777777777778, \"#fb9f3a\"], [0.8888888888888888, \"#fdca26\"], [1.0, \"#f0f921\"]]}, \"colorway\": [\"#636efa\", \"#EF553B\", \"#00cc96\", \"#ab63fa\", \"#FFA15A\", \"#19d3f3\", \"#FF6692\", \"#B6E880\", \"#FF97FF\", \"#FECB52\"], \"font\": {\"color\": \"#2a3f5f\"}, \"geo\": {\"bgcolor\": \"white\", \"lakecolor\": \"white\", \"landcolor\": \"#E5ECF6\", \"showlakes\": true, \"showland\": true, \"subunitcolor\": \"white\"}, \"hoverlabel\": {\"align\": \"left\"}, \"hovermode\": \"closest\", \"mapbox\": {\"style\": \"light\"}, \"paper_bgcolor\": \"white\", \"plot_bgcolor\": \"#E5ECF6\", \"polar\": {\"angularaxis\": {\"gridcolor\": \"white\", \"linecolor\": \"white\", \"ticks\": \"\"}, \"bgcolor\": \"#E5ECF6\", \"radialaxis\": {\"gridcolor\": \"white\", \"linecolor\": \"white\", \"ticks\": \"\"}}, \"scene\": {\"xaxis\": {\"backgroundcolor\": \"#E5ECF6\", \"gridcolor\": \"white\", \"gridwidth\": 2, \"linecolor\": \"white\", \"showbackground\": true, \"ticks\": \"\", \"zerolinecolor\": \"white\"}, \"yaxis\": {\"backgroundcolor\": \"#E5ECF6\", \"gridcolor\": \"white\", \"gridwidth\": 2, \"linecolor\": \"white\", \"showbackground\": true, \"ticks\": \"\", \"zerolinecolor\": \"white\"}, \"zaxis\": {\"backgroundcolor\": \"#E5ECF6\", \"gridcolor\": \"white\", \"gridwidth\": 2, \"linecolor\": \"white\", \"showbackground\": true, \"ticks\": \"\", \"zerolinecolor\": \"white\"}}, \"shapedefaults\": {\"line\": {\"color\": \"#2a3f5f\"}}, \"ternary\": {\"aaxis\": {\"gridcolor\": \"white\", \"linecolor\": \"white\", \"ticks\": \"\"}, \"baxis\": {\"gridcolor\": \"white\", \"linecolor\": \"white\", \"ticks\": \"\"}, \"bgcolor\": \"#E5ECF6\", \"caxis\": {\"gridcolor\": \"white\", \"linecolor\": \"white\", \"ticks\": \"\"}}, \"title\": {\"x\": 0.05}, \"xaxis\": {\"automargin\": true, \"gridcolor\": \"white\", \"linecolor\": \"white\", \"ticks\": \"\", \"title\": {\"standoff\": 15}, \"zerolinecolor\": \"white\", \"zerolinewidth\": 2}, \"yaxis\": {\"automargin\": true, \"gridcolor\": \"white\", \"linecolor\": \"white\", \"ticks\": \"\", \"title\": {\"standoff\": 15}, \"zerolinecolor\": \"white\", \"zerolinewidth\": 2}}}, \"xaxis\": {\"anchor\": \"y\", \"domain\": [0.0, 1.0], \"title\": {\"text\": \"x\"}}, \"yaxis\": {\"anchor\": \"x\", \"domain\": [0.0, 1.0], \"title\": {\"text\": \"y\"}}},\n",
       "                        {\"responsive\": true}\n",
       "                    ).then(function(){\n",
       "                            \n",
       "var gd = document.getElementById('e3d0dec4-a4da-497c-9d25-fd6e67118764');\n",
       "var x = new MutationObserver(function (mutations, observer) {{\n",
       "        var display = window.getComputedStyle(gd).display;\n",
       "        if (!display || display === 'none') {{\n",
       "            console.log([gd, 'removed!']);\n",
       "            Plotly.purge(gd);\n",
       "            observer.disconnect();\n",
       "        }}\n",
       "}});\n",
       "\n",
       "// Listen for the removal of the full notebook cells\n",
       "var notebookContainer = gd.closest('#notebook-container');\n",
       "if (notebookContainer) {{\n",
       "    x.observe(notebookContainer, {childList: true});\n",
       "}}\n",
       "\n",
       "// Listen for the clearing of the current output cell\n",
       "var outputEl = gd.closest('.output');\n",
       "if (outputEl) {{\n",
       "    x.observe(outputEl, {childList: true});\n",
       "}}\n",
       "\n",
       "                        })\n",
       "                };\n",
       "                });\n",
       "            </script>\n",
       "        </div>"
      ]
     },
     "metadata": {},
     "output_type": "display_data"
    }
   ],
   "source": [
    "px.bar(x = train_df_add[train_df.target == 0].session_timespan.value_counts().keys()\n",
    "      , y = train_df_add[train_df.target == 0].session_timespan.value_counts()\n",
    "      )"
   ]
  },
  {
   "cell_type": "code",
   "execution_count": 44,
   "metadata": {},
   "outputs": [
    {
     "data": {
      "application/vnd.plotly.v1+json": {
       "config": {
        "plotlyServerURL": "https://plot.ly"
       },
       "data": [
        {
         "alignmentgroup": "True",
         "hoverlabel": {
          "namelength": 0
         },
         "hovertemplate": "x=%{x}<br>y=%{y}",
         "legendgroup": "",
         "marker": {
          "color": "#636efa"
         },
         "name": "",
         "offsetgroup": "",
         "orientation": "v",
         "showlegend": false,
         "textposition": "auto",
         "type": "bar",
         "x": [
          0,
          1,
          2,
          3,
          4,
          5,
          6,
          7,
          10,
          8,
          9,
          18,
          12,
          11,
          16,
          15,
          14,
          13,
          21,
          17,
          31,
          42,
          22,
          29,
          25,
          23,
          28,
          19,
          47,
          85,
          39,
          26,
          32,
          24,
          164,
          68,
          51,
          38,
          61,
          20,
          330,
          114,
          91,
          71,
          41,
          90,
          73,
          48,
          139,
          53,
          238,
          791,
          136,
          403,
          462,
          624,
          33,
          43,
          86,
          49,
          70,
          59,
          75,
          30,
          120,
          99,
          55,
          507,
          606,
          766,
          171,
          542,
          158,
          111,
          157,
          147,
          129,
          183,
          127,
          152,
          184,
          128,
          62,
          34,
          50,
          66,
          263
         ],
         "xaxis": "x",
         "y": [
          1066,
          638,
          126,
          80,
          65,
          34,
          31,
          25,
          19,
          17,
          15,
          12,
          12,
          12,
          10,
          8,
          8,
          7,
          7,
          5,
          5,
          4,
          4,
          4,
          3,
          3,
          3,
          3,
          2,
          2,
          2,
          2,
          2,
          2,
          2,
          2,
          2,
          2,
          2,
          2,
          1,
          1,
          1,
          1,
          1,
          1,
          1,
          1,
          1,
          1,
          1,
          1,
          1,
          1,
          1,
          1,
          1,
          1,
          1,
          1,
          1,
          1,
          1,
          1,
          1,
          1,
          1,
          1,
          1,
          1,
          1,
          1,
          1,
          1,
          1,
          1,
          1,
          1,
          1,
          1,
          1,
          1,
          1,
          1,
          1,
          1,
          1
         ],
         "yaxis": "y"
        }
       ],
       "layout": {
        "autosize": true,
        "barmode": "relative",
        "legend": {
         "tracegroupgap": 0
        },
        "margin": {
         "t": 60
        },
        "template": {
         "data": {
          "bar": [
           {
            "error_x": {
             "color": "#2a3f5f"
            },
            "error_y": {
             "color": "#2a3f5f"
            },
            "marker": {
             "line": {
              "color": "#E5ECF6",
              "width": 0.5
             }
            },
            "type": "bar"
           }
          ],
          "barpolar": [
           {
            "marker": {
             "line": {
              "color": "#E5ECF6",
              "width": 0.5
             }
            },
            "type": "barpolar"
           }
          ],
          "carpet": [
           {
            "aaxis": {
             "endlinecolor": "#2a3f5f",
             "gridcolor": "white",
             "linecolor": "white",
             "minorgridcolor": "white",
             "startlinecolor": "#2a3f5f"
            },
            "baxis": {
             "endlinecolor": "#2a3f5f",
             "gridcolor": "white",
             "linecolor": "white",
             "minorgridcolor": "white",
             "startlinecolor": "#2a3f5f"
            },
            "type": "carpet"
           }
          ],
          "choropleth": [
           {
            "colorbar": {
             "outlinewidth": 0,
             "ticks": ""
            },
            "type": "choropleth"
           }
          ],
          "contour": [
           {
            "colorbar": {
             "outlinewidth": 0,
             "ticks": ""
            },
            "colorscale": [
             [
              0,
              "#0d0887"
             ],
             [
              0.1111111111111111,
              "#46039f"
             ],
             [
              0.2222222222222222,
              "#7201a8"
             ],
             [
              0.3333333333333333,
              "#9c179e"
             ],
             [
              0.4444444444444444,
              "#bd3786"
             ],
             [
              0.5555555555555556,
              "#d8576b"
             ],
             [
              0.6666666666666666,
              "#ed7953"
             ],
             [
              0.7777777777777778,
              "#fb9f3a"
             ],
             [
              0.8888888888888888,
              "#fdca26"
             ],
             [
              1,
              "#f0f921"
             ]
            ],
            "type": "contour"
           }
          ],
          "contourcarpet": [
           {
            "colorbar": {
             "outlinewidth": 0,
             "ticks": ""
            },
            "type": "contourcarpet"
           }
          ],
          "heatmap": [
           {
            "colorbar": {
             "outlinewidth": 0,
             "ticks": ""
            },
            "colorscale": [
             [
              0,
              "#0d0887"
             ],
             [
              0.1111111111111111,
              "#46039f"
             ],
             [
              0.2222222222222222,
              "#7201a8"
             ],
             [
              0.3333333333333333,
              "#9c179e"
             ],
             [
              0.4444444444444444,
              "#bd3786"
             ],
             [
              0.5555555555555556,
              "#d8576b"
             ],
             [
              0.6666666666666666,
              "#ed7953"
             ],
             [
              0.7777777777777778,
              "#fb9f3a"
             ],
             [
              0.8888888888888888,
              "#fdca26"
             ],
             [
              1,
              "#f0f921"
             ]
            ],
            "type": "heatmap"
           }
          ],
          "heatmapgl": [
           {
            "colorbar": {
             "outlinewidth": 0,
             "ticks": ""
            },
            "colorscale": [
             [
              0,
              "#0d0887"
             ],
             [
              0.1111111111111111,
              "#46039f"
             ],
             [
              0.2222222222222222,
              "#7201a8"
             ],
             [
              0.3333333333333333,
              "#9c179e"
             ],
             [
              0.4444444444444444,
              "#bd3786"
             ],
             [
              0.5555555555555556,
              "#d8576b"
             ],
             [
              0.6666666666666666,
              "#ed7953"
             ],
             [
              0.7777777777777778,
              "#fb9f3a"
             ],
             [
              0.8888888888888888,
              "#fdca26"
             ],
             [
              1,
              "#f0f921"
             ]
            ],
            "type": "heatmapgl"
           }
          ],
          "histogram": [
           {
            "marker": {
             "colorbar": {
              "outlinewidth": 0,
              "ticks": ""
             }
            },
            "type": "histogram"
           }
          ],
          "histogram2d": [
           {
            "colorbar": {
             "outlinewidth": 0,
             "ticks": ""
            },
            "colorscale": [
             [
              0,
              "#0d0887"
             ],
             [
              0.1111111111111111,
              "#46039f"
             ],
             [
              0.2222222222222222,
              "#7201a8"
             ],
             [
              0.3333333333333333,
              "#9c179e"
             ],
             [
              0.4444444444444444,
              "#bd3786"
             ],
             [
              0.5555555555555556,
              "#d8576b"
             ],
             [
              0.6666666666666666,
              "#ed7953"
             ],
             [
              0.7777777777777778,
              "#fb9f3a"
             ],
             [
              0.8888888888888888,
              "#fdca26"
             ],
             [
              1,
              "#f0f921"
             ]
            ],
            "type": "histogram2d"
           }
          ],
          "histogram2dcontour": [
           {
            "colorbar": {
             "outlinewidth": 0,
             "ticks": ""
            },
            "colorscale": [
             [
              0,
              "#0d0887"
             ],
             [
              0.1111111111111111,
              "#46039f"
             ],
             [
              0.2222222222222222,
              "#7201a8"
             ],
             [
              0.3333333333333333,
              "#9c179e"
             ],
             [
              0.4444444444444444,
              "#bd3786"
             ],
             [
              0.5555555555555556,
              "#d8576b"
             ],
             [
              0.6666666666666666,
              "#ed7953"
             ],
             [
              0.7777777777777778,
              "#fb9f3a"
             ],
             [
              0.8888888888888888,
              "#fdca26"
             ],
             [
              1,
              "#f0f921"
             ]
            ],
            "type": "histogram2dcontour"
           }
          ],
          "mesh3d": [
           {
            "colorbar": {
             "outlinewidth": 0,
             "ticks": ""
            },
            "type": "mesh3d"
           }
          ],
          "parcoords": [
           {
            "line": {
             "colorbar": {
              "outlinewidth": 0,
              "ticks": ""
             }
            },
            "type": "parcoords"
           }
          ],
          "pie": [
           {
            "automargin": true,
            "type": "pie"
           }
          ],
          "scatter": [
           {
            "marker": {
             "colorbar": {
              "outlinewidth": 0,
              "ticks": ""
             }
            },
            "type": "scatter"
           }
          ],
          "scatter3d": [
           {
            "line": {
             "colorbar": {
              "outlinewidth": 0,
              "ticks": ""
             }
            },
            "marker": {
             "colorbar": {
              "outlinewidth": 0,
              "ticks": ""
             }
            },
            "type": "scatter3d"
           }
          ],
          "scattercarpet": [
           {
            "marker": {
             "colorbar": {
              "outlinewidth": 0,
              "ticks": ""
             }
            },
            "type": "scattercarpet"
           }
          ],
          "scattergeo": [
           {
            "marker": {
             "colorbar": {
              "outlinewidth": 0,
              "ticks": ""
             }
            },
            "type": "scattergeo"
           }
          ],
          "scattergl": [
           {
            "marker": {
             "colorbar": {
              "outlinewidth": 0,
              "ticks": ""
             }
            },
            "type": "scattergl"
           }
          ],
          "scattermapbox": [
           {
            "marker": {
             "colorbar": {
              "outlinewidth": 0,
              "ticks": ""
             }
            },
            "type": "scattermapbox"
           }
          ],
          "scatterpolar": [
           {
            "marker": {
             "colorbar": {
              "outlinewidth": 0,
              "ticks": ""
             }
            },
            "type": "scatterpolar"
           }
          ],
          "scatterpolargl": [
           {
            "marker": {
             "colorbar": {
              "outlinewidth": 0,
              "ticks": ""
             }
            },
            "type": "scatterpolargl"
           }
          ],
          "scatterternary": [
           {
            "marker": {
             "colorbar": {
              "outlinewidth": 0,
              "ticks": ""
             }
            },
            "type": "scatterternary"
           }
          ],
          "surface": [
           {
            "colorbar": {
             "outlinewidth": 0,
             "ticks": ""
            },
            "colorscale": [
             [
              0,
              "#0d0887"
             ],
             [
              0.1111111111111111,
              "#46039f"
             ],
             [
              0.2222222222222222,
              "#7201a8"
             ],
             [
              0.3333333333333333,
              "#9c179e"
             ],
             [
              0.4444444444444444,
              "#bd3786"
             ],
             [
              0.5555555555555556,
              "#d8576b"
             ],
             [
              0.6666666666666666,
              "#ed7953"
             ],
             [
              0.7777777777777778,
              "#fb9f3a"
             ],
             [
              0.8888888888888888,
              "#fdca26"
             ],
             [
              1,
              "#f0f921"
             ]
            ],
            "type": "surface"
           }
          ],
          "table": [
           {
            "cells": {
             "fill": {
              "color": "#EBF0F8"
             },
             "line": {
              "color": "white"
             }
            },
            "header": {
             "fill": {
              "color": "#C8D4E3"
             },
             "line": {
              "color": "white"
             }
            },
            "type": "table"
           }
          ]
         },
         "layout": {
          "annotationdefaults": {
           "arrowcolor": "#2a3f5f",
           "arrowhead": 0,
           "arrowwidth": 1
          },
          "coloraxis": {
           "colorbar": {
            "outlinewidth": 0,
            "ticks": ""
           }
          },
          "colorscale": {
           "diverging": [
            [
             0,
             "#8e0152"
            ],
            [
             0.1,
             "#c51b7d"
            ],
            [
             0.2,
             "#de77ae"
            ],
            [
             0.3,
             "#f1b6da"
            ],
            [
             0.4,
             "#fde0ef"
            ],
            [
             0.5,
             "#f7f7f7"
            ],
            [
             0.6,
             "#e6f5d0"
            ],
            [
             0.7,
             "#b8e186"
            ],
            [
             0.8,
             "#7fbc41"
            ],
            [
             0.9,
             "#4d9221"
            ],
            [
             1,
             "#276419"
            ]
           ],
           "sequential": [
            [
             0,
             "#0d0887"
            ],
            [
             0.1111111111111111,
             "#46039f"
            ],
            [
             0.2222222222222222,
             "#7201a8"
            ],
            [
             0.3333333333333333,
             "#9c179e"
            ],
            [
             0.4444444444444444,
             "#bd3786"
            ],
            [
             0.5555555555555556,
             "#d8576b"
            ],
            [
             0.6666666666666666,
             "#ed7953"
            ],
            [
             0.7777777777777778,
             "#fb9f3a"
            ],
            [
             0.8888888888888888,
             "#fdca26"
            ],
            [
             1,
             "#f0f921"
            ]
           ],
           "sequentialminus": [
            [
             0,
             "#0d0887"
            ],
            [
             0.1111111111111111,
             "#46039f"
            ],
            [
             0.2222222222222222,
             "#7201a8"
            ],
            [
             0.3333333333333333,
             "#9c179e"
            ],
            [
             0.4444444444444444,
             "#bd3786"
            ],
            [
             0.5555555555555556,
             "#d8576b"
            ],
            [
             0.6666666666666666,
             "#ed7953"
            ],
            [
             0.7777777777777778,
             "#fb9f3a"
            ],
            [
             0.8888888888888888,
             "#fdca26"
            ],
            [
             1,
             "#f0f921"
            ]
           ]
          },
          "colorway": [
           "#636efa",
           "#EF553B",
           "#00cc96",
           "#ab63fa",
           "#FFA15A",
           "#19d3f3",
           "#FF6692",
           "#B6E880",
           "#FF97FF",
           "#FECB52"
          ],
          "font": {
           "color": "#2a3f5f"
          },
          "geo": {
           "bgcolor": "white",
           "lakecolor": "white",
           "landcolor": "#E5ECF6",
           "showlakes": true,
           "showland": true,
           "subunitcolor": "white"
          },
          "hoverlabel": {
           "align": "left"
          },
          "hovermode": "closest",
          "mapbox": {
           "style": "light"
          },
          "paper_bgcolor": "white",
          "plot_bgcolor": "#E5ECF6",
          "polar": {
           "angularaxis": {
            "gridcolor": "white",
            "linecolor": "white",
            "ticks": ""
           },
           "bgcolor": "#E5ECF6",
           "radialaxis": {
            "gridcolor": "white",
            "linecolor": "white",
            "ticks": ""
           }
          },
          "scene": {
           "xaxis": {
            "backgroundcolor": "#E5ECF6",
            "gridcolor": "white",
            "gridwidth": 2,
            "linecolor": "white",
            "showbackground": true,
            "ticks": "",
            "zerolinecolor": "white"
           },
           "yaxis": {
            "backgroundcolor": "#E5ECF6",
            "gridcolor": "white",
            "gridwidth": 2,
            "linecolor": "white",
            "showbackground": true,
            "ticks": "",
            "zerolinecolor": "white"
           },
           "zaxis": {
            "backgroundcolor": "#E5ECF6",
            "gridcolor": "white",
            "gridwidth": 2,
            "linecolor": "white",
            "showbackground": true,
            "ticks": "",
            "zerolinecolor": "white"
           }
          },
          "shapedefaults": {
           "line": {
            "color": "#2a3f5f"
           }
          },
          "ternary": {
           "aaxis": {
            "gridcolor": "white",
            "linecolor": "white",
            "ticks": ""
           },
           "baxis": {
            "gridcolor": "white",
            "linecolor": "white",
            "ticks": ""
           },
           "bgcolor": "#E5ECF6",
           "caxis": {
            "gridcolor": "white",
            "linecolor": "white",
            "ticks": ""
           }
          },
          "title": {
           "x": 0.05
          },
          "xaxis": {
           "automargin": true,
           "gridcolor": "white",
           "linecolor": "white",
           "ticks": "",
           "title": {
            "standoff": 15
           },
           "zerolinecolor": "white",
           "zerolinewidth": 2
          },
          "yaxis": {
           "automargin": true,
           "gridcolor": "white",
           "linecolor": "white",
           "ticks": "",
           "title": {
            "standoff": 15
           },
           "zerolinecolor": "white",
           "zerolinewidth": 2
          }
         }
        },
        "xaxis": {
         "anchor": "y",
         "autorange": true,
         "domain": [
          0,
          1
         ],
         "range": [
          -0.5,
          791.5
         ],
         "title": {
          "text": "x"
         },
         "type": "linear"
        },
        "yaxis": {
         "anchor": "x",
         "autorange": true,
         "domain": [
          0,
          1
         ],
         "range": [
          0,
          1122.1052631578948
         ],
         "title": {
          "text": "y"
         },
         "type": "linear"
        }
       }
      },
      "image/png": "[encoded data removed]",
      "text/html": [
       "<div>\n",
       "        \n",
       "        \n",
       "            <div id=\"d8c16d5c-9f45-40b0-8edd-727af5edb417\" class=\"plotly-graph-div\" style=\"height:525px; width:100%;\"></div>\n",
       "            <script type=\"text/javascript\">\n",
       "                require([\"plotly\"], function(Plotly) {\n",
       "                    window.PLOTLYENV=window.PLOTLYENV || {};\n",
       "                    \n",
       "                if (document.getElementById(\"d8c16d5c-9f45-40b0-8edd-727af5edb417\")) {\n",
       "                    Plotly.newPlot(\n",
       "                        'd8c16d5c-9f45-40b0-8edd-727af5edb417',\n",
       "                        [{\"alignmentgroup\": \"True\", \"hoverlabel\": {\"namelength\": 0}, \"hovertemplate\": \"x=%{x}<br>y=%{y}\", \"legendgroup\": \"\", \"marker\": {\"color\": \"#636efa\"}, \"name\": \"\", \"offsetgroup\": \"\", \"orientation\": \"v\", \"showlegend\": false, \"textposition\": \"auto\", \"type\": \"bar\", \"x\": [0.0, 1.0, 2.0, 3.0, 4.0, 5.0, 6.0, 7.0, 10.0, 8.0, 9.0, 18.0, 12.0, 11.0, 16.0, 15.0, 14.0, 13.0, 21.0, 17.0, 31.0, 42.0, 22.0, 29.0, 25.0, 23.0, 28.0, 19.0, 47.0, 85.0, 39.0, 26.0, 32.0, 24.0, 164.0, 68.0, 51.0, 38.0, 61.0, 20.0, 330.0, 114.0, 91.0, 71.0, 41.0, 90.0, 73.0, 48.0, 139.0, 53.0, 238.0, 791.0, 136.0, 403.0, 462.0, 624.0, 33.0, 43.0, 86.0, 49.0, 70.0, 59.0, 75.0, 30.0, 120.0, 99.0, 55.0, 507.0, 606.0, 766.0, 171.0, 542.0, 158.0, 111.0, 157.0, 147.0, 129.0, 183.0, 127.0, 152.0, 184.0, 128.0, 62.0, 34.0, 50.0, 66.0, 263.0], \"xaxis\": \"x\", \"y\": [1066, 638, 126, 80, 65, 34, 31, 25, 19, 17, 15, 12, 12, 12, 10, 8, 8, 7, 7, 5, 5, 4, 4, 4, 3, 3, 3, 3, 2, 2, 2, 2, 2, 2, 2, 2, 2, 2, 2, 2, 1, 1, 1, 1, 1, 1, 1, 1, 1, 1, 1, 1, 1, 1, 1, 1, 1, 1, 1, 1, 1, 1, 1, 1, 1, 1, 1, 1, 1, 1, 1, 1, 1, 1, 1, 1, 1, 1, 1, 1, 1, 1, 1, 1, 1, 1, 1], \"yaxis\": \"y\"}],\n",
       "                        {\"barmode\": \"relative\", \"legend\": {\"tracegroupgap\": 0}, \"margin\": {\"t\": 60}, \"template\": {\"data\": {\"bar\": [{\"error_x\": {\"color\": \"#2a3f5f\"}, \"error_y\": {\"color\": \"#2a3f5f\"}, \"marker\": {\"line\": {\"color\": \"#E5ECF6\", \"width\": 0.5}}, \"type\": \"bar\"}], \"barpolar\": [{\"marker\": {\"line\": {\"color\": \"#E5ECF6\", \"width\": 0.5}}, \"type\": \"barpolar\"}], \"carpet\": [{\"aaxis\": {\"endlinecolor\": \"#2a3f5f\", \"gridcolor\": \"white\", \"linecolor\": \"white\", \"minorgridcolor\": \"white\", \"startlinecolor\": \"#2a3f5f\"}, \"baxis\": {\"endlinecolor\": \"#2a3f5f\", \"gridcolor\": \"white\", \"linecolor\": \"white\", \"minorgridcolor\": \"white\", \"startlinecolor\": \"#2a3f5f\"}, \"type\": \"carpet\"}], \"choropleth\": [{\"colorbar\": {\"outlinewidth\": 0, \"ticks\": \"\"}, \"type\": \"choropleth\"}], \"contour\": [{\"colorbar\": {\"outlinewidth\": 0, \"ticks\": \"\"}, \"colorscale\": [[0.0, \"#0d0887\"], [0.1111111111111111, \"#46039f\"], [0.2222222222222222, \"#7201a8\"], [0.3333333333333333, \"#9c179e\"], [0.4444444444444444, \"#bd3786\"], [0.5555555555555556, \"#d8576b\"], [0.6666666666666666, \"#ed7953\"], [0.7777777777777778, \"#fb9f3a\"], [0.8888888888888888, \"#fdca26\"], [1.0, \"#f0f921\"]], \"type\": \"contour\"}], \"contourcarpet\": [{\"colorbar\": {\"outlinewidth\": 0, \"ticks\": \"\"}, \"type\": \"contourcarpet\"}], \"heatmap\": [{\"colorbar\": {\"outlinewidth\": 0, \"ticks\": \"\"}, \"colorscale\": [[0.0, \"#0d0887\"], [0.1111111111111111, \"#46039f\"], [0.2222222222222222, \"#7201a8\"], [0.3333333333333333, \"#9c179e\"], [0.4444444444444444, \"#bd3786\"], [0.5555555555555556, \"#d8576b\"], [0.6666666666666666, \"#ed7953\"], [0.7777777777777778, \"#fb9f3a\"], [0.8888888888888888, \"#fdca26\"], [1.0, \"#f0f921\"]], \"type\": \"heatmap\"}], \"heatmapgl\": [{\"colorbar\": {\"outlinewidth\": 0, \"ticks\": \"\"}, \"colorscale\": [[0.0, \"#0d0887\"], [0.1111111111111111, \"#46039f\"], [0.2222222222222222, \"#7201a8\"], [0.3333333333333333, \"#9c179e\"], [0.4444444444444444, \"#bd3786\"], [0.5555555555555556, \"#d8576b\"], [0.6666666666666666, \"#ed7953\"], [0.7777777777777778, \"#fb9f3a\"], [0.8888888888888888, \"#fdca26\"], [1.0, \"#f0f921\"]], \"type\": \"heatmapgl\"}], \"histogram\": [{\"marker\": {\"colorbar\": {\"outlinewidth\": 0, \"ticks\": \"\"}}, \"type\": \"histogram\"}], \"histogram2d\": [{\"colorbar\": {\"outlinewidth\": 0, \"ticks\": \"\"}, \"colorscale\": [[0.0, \"#0d0887\"], [0.1111111111111111, \"#46039f\"], [0.2222222222222222, \"#7201a8\"], [0.3333333333333333, \"#9c179e\"], [0.4444444444444444, \"#bd3786\"], [0.5555555555555556, \"#d8576b\"], [0.6666666666666666, \"#ed7953\"], [0.7777777777777778, \"#fb9f3a\"], [0.8888888888888888, \"#fdca26\"], [1.0, \"#f0f921\"]], \"type\": \"histogram2d\"}], \"histogram2dcontour\": [{\"colorbar\": {\"outlinewidth\": 0, \"ticks\": \"\"}, \"colorscale\": [[0.0, \"#0d0887\"], [0.1111111111111111, \"#46039f\"], [0.2222222222222222, \"#7201a8\"], [0.3333333333333333, \"#9c179e\"], [0.4444444444444444, \"#bd3786\"], [0.5555555555555556, \"#d8576b\"], [0.6666666666666666, \"#ed7953\"], [0.7777777777777778, \"#fb9f3a\"], [0.8888888888888888, \"#fdca26\"], [1.0, \"#f0f921\"]], \"type\": \"histogram2dcontour\"}], \"mesh3d\": [{\"colorbar\": {\"outlinewidth\": 0, \"ticks\": \"\"}, \"type\": \"mesh3d\"}], \"parcoords\": [{\"line\": {\"colorbar\": {\"outlinewidth\": 0, \"ticks\": \"\"}}, \"type\": \"parcoords\"}], \"pie\": [{\"automargin\": true, \"type\": \"pie\"}], \"scatter\": [{\"marker\": {\"colorbar\": {\"outlinewidth\": 0, \"ticks\": \"\"}}, \"type\": \"scatter\"}], \"scatter3d\": [{\"line\": {\"colorbar\": {\"outlinewidth\": 0, \"ticks\": \"\"}}, \"marker\": {\"colorbar\": {\"outlinewidth\": 0, \"ticks\": \"\"}}, \"type\": \"scatter3d\"}], \"scattercarpet\": [{\"marker\": {\"colorbar\": {\"outlinewidth\": 0, \"ticks\": \"\"}}, \"type\": \"scattercarpet\"}], \"scattergeo\": [{\"marker\": {\"colorbar\": {\"outlinewidth\": 0, \"ticks\": \"\"}}, \"type\": \"scattergeo\"}], \"scattergl\": [{\"marker\": {\"colorbar\": {\"outlinewidth\": 0, \"ticks\": \"\"}}, \"type\": \"scattergl\"}], \"scattermapbox\": [{\"marker\": {\"colorbar\": {\"outlinewidth\": 0, \"ticks\": \"\"}}, \"type\": \"scattermapbox\"}], \"scatterpolar\": [{\"marker\": {\"colorbar\": {\"outlinewidth\": 0, \"ticks\": \"\"}}, \"type\": \"scatterpolar\"}], \"scatterpolargl\": [{\"marker\": {\"colorbar\": {\"outlinewidth\": 0, \"ticks\": \"\"}}, \"type\": \"scatterpolargl\"}], \"scatterternary\": [{\"marker\": {\"colorbar\": {\"outlinewidth\": 0, \"ticks\": \"\"}}, \"type\": \"scatterternary\"}], \"surface\": [{\"colorbar\": {\"outlinewidth\": 0, \"ticks\": \"\"}, \"colorscale\": [[0.0, \"#0d0887\"], [0.1111111111111111, \"#46039f\"], [0.2222222222222222, \"#7201a8\"], [0.3333333333333333, \"#9c179e\"], [0.4444444444444444, \"#bd3786\"], [0.5555555555555556, \"#d8576b\"], [0.6666666666666666, \"#ed7953\"], [0.7777777777777778, \"#fb9f3a\"], [0.8888888888888888, \"#fdca26\"], [1.0, \"#f0f921\"]], \"type\": \"surface\"}], \"table\": [{\"cells\": {\"fill\": {\"color\": \"#EBF0F8\"}, \"line\": {\"color\": \"white\"}}, \"header\": {\"fill\": {\"color\": \"#C8D4E3\"}, \"line\": {\"color\": \"white\"}}, \"type\": \"table\"}]}, \"layout\": {\"annotationdefaults\": {\"arrowcolor\": \"#2a3f5f\", \"arrowhead\": 0, \"arrowwidth\": 1}, \"coloraxis\": {\"colorbar\": {\"outlinewidth\": 0, \"ticks\": \"\"}}, \"colorscale\": {\"diverging\": [[0, \"#8e0152\"], [0.1, \"#c51b7d\"], [0.2, \"#de77ae\"], [0.3, \"#f1b6da\"], [0.4, \"#fde0ef\"], [0.5, \"#f7f7f7\"], [0.6, \"#e6f5d0\"], [0.7, \"#b8e186\"], [0.8, \"#7fbc41\"], [0.9, \"#4d9221\"], [1, \"#276419\"]], \"sequential\": [[0.0, \"#0d0887\"], [0.1111111111111111, \"#46039f\"], [0.2222222222222222, \"#7201a8\"], [0.3333333333333333, \"#9c179e\"], [0.4444444444444444, \"#bd3786\"], [0.5555555555555556, \"#d8576b\"], [0.6666666666666666, \"#ed7953\"], [0.7777777777777778, \"#fb9f3a\"], [0.8888888888888888, \"#fdca26\"], [1.0, \"#f0f921\"]], \"sequentialminus\": [[0.0, \"#0d0887\"], [0.1111111111111111, \"#46039f\"], [0.2222222222222222, \"#7201a8\"], [0.3333333333333333, \"#9c179e\"], [0.4444444444444444, \"#bd3786\"], [0.5555555555555556, \"#d8576b\"], [0.6666666666666666, \"#ed7953\"], [0.7777777777777778, \"#fb9f3a\"], [0.8888888888888888, \"#fdca26\"], [1.0, \"#f0f921\"]]}, \"colorway\": [\"#636efa\", \"#EF553B\", \"#00cc96\", \"#ab63fa\", \"#FFA15A\", \"#19d3f3\", \"#FF6692\", \"#B6E880\", \"#FF97FF\", \"#FECB52\"], \"font\": {\"color\": \"#2a3f5f\"}, \"geo\": {\"bgcolor\": \"white\", \"lakecolor\": \"white\", \"landcolor\": \"#E5ECF6\", \"showlakes\": true, \"showland\": true, \"subunitcolor\": \"white\"}, \"hoverlabel\": {\"align\": \"left\"}, \"hovermode\": \"closest\", \"mapbox\": {\"style\": \"light\"}, \"paper_bgcolor\": \"white\", \"plot_bgcolor\": \"#E5ECF6\", \"polar\": {\"angularaxis\": {\"gridcolor\": \"white\", \"linecolor\": \"white\", \"ticks\": \"\"}, \"bgcolor\": \"#E5ECF6\", \"radialaxis\": {\"gridcolor\": \"white\", \"linecolor\": \"white\", \"ticks\": \"\"}}, \"scene\": {\"xaxis\": {\"backgroundcolor\": \"#E5ECF6\", \"gridcolor\": \"white\", \"gridwidth\": 2, \"linecolor\": \"white\", \"showbackground\": true, \"ticks\": \"\", \"zerolinecolor\": \"white\"}, \"yaxis\": {\"backgroundcolor\": \"#E5ECF6\", \"gridcolor\": \"white\", \"gridwidth\": 2, \"linecolor\": \"white\", \"showbackground\": true, \"ticks\": \"\", \"zerolinecolor\": \"white\"}, \"zaxis\": {\"backgroundcolor\": \"#E5ECF6\", \"gridcolor\": \"white\", \"gridwidth\": 2, \"linecolor\": \"white\", \"showbackground\": true, \"ticks\": \"\", \"zerolinecolor\": \"white\"}}, \"shapedefaults\": {\"line\": {\"color\": \"#2a3f5f\"}}, \"ternary\": {\"aaxis\": {\"gridcolor\": \"white\", \"linecolor\": \"white\", \"ticks\": \"\"}, \"baxis\": {\"gridcolor\": \"white\", \"linecolor\": \"white\", \"ticks\": \"\"}, \"bgcolor\": \"#E5ECF6\", \"caxis\": {\"gridcolor\": \"white\", \"linecolor\": \"white\", \"ticks\": \"\"}}, \"title\": {\"x\": 0.05}, \"xaxis\": {\"automargin\": true, \"gridcolor\": \"white\", \"linecolor\": \"white\", \"ticks\": \"\", \"title\": {\"standoff\": 15}, \"zerolinecolor\": \"white\", \"zerolinewidth\": 2}, \"yaxis\": {\"automargin\": true, \"gridcolor\": \"white\", \"linecolor\": \"white\", \"ticks\": \"\", \"title\": {\"standoff\": 15}, \"zerolinecolor\": \"white\", \"zerolinewidth\": 2}}}, \"xaxis\": {\"anchor\": \"y\", \"domain\": [0.0, 1.0], \"title\": {\"text\": \"x\"}}, \"yaxis\": {\"anchor\": \"x\", \"domain\": [0.0, 1.0], \"title\": {\"text\": \"y\"}}},\n",
       "                        {\"responsive\": true}\n",
       "                    ).then(function(){\n",
       "                            \n",
       "var gd = document.getElementById('d8c16d5c-9f45-40b0-8edd-727af5edb417');\n",
       "var x = new MutationObserver(function (mutations, observer) {{\n",
       "        var display = window.getComputedStyle(gd).display;\n",
       "        if (!display || display === 'none') {{\n",
       "            console.log([gd, 'removed!']);\n",
       "            Plotly.purge(gd);\n",
       "            observer.disconnect();\n",
       "        }}\n",
       "}});\n",
       "\n",
       "// Listen for the removal of the full notebook cells\n",
       "var notebookContainer = gd.closest('#notebook-container');\n",
       "if (notebookContainer) {{\n",
       "    x.observe(notebookContainer, {childList: true});\n",
       "}}\n",
       "\n",
       "// Listen for the clearing of the current output cell\n",
       "var outputEl = gd.closest('.output');\n",
       "if (outputEl) {{\n",
       "    x.observe(outputEl, {childList: true});\n",
       "}}\n",
       "\n",
       "                        })\n",
       "                };\n",
       "                });\n",
       "            </script>\n",
       "        </div>"
      ]
     },
     "metadata": {},
     "output_type": "display_data"
    }
   ],
   "source": [
    "px.bar(x = train_df_add[train_df.target == 1].first_sess_site_duration.value_counts().keys()\n",
    "      , y = train_df_add[train_df.target == 1].first_sess_site_duration.value_counts()\n",
    "      )"
   ]
  },
  {
   "cell_type": "code",
   "execution_count": 45,
   "metadata": {},
   "outputs": [
    {
     "data": {
      "application/vnd.plotly.v1+json": {
       "config": {
        "plotlyServerURL": "https://plot.ly"
       },
       "data": [
        {
         "alignmentgroup": "True",
         "hoverlabel": {
          "namelength": 0
         },
         "hovertemplate": "x=%{x}<br>y=%{y}",
         "legendgroup": "",
         "marker": {
          "color": "#636efa"
         },
         "name": "",
         "offsetgroup": "",
         "orientation": "v",
         "showlegend": false,
         "textposition": "auto",
         "type": "bar",
         "x": [
          0,
          1,
          2,
          3,
          4,
          5,
          6,
          30,
          7,
          8,
          10,
          12,
          9,
          11,
          13,
          14,
          15,
          16,
          17,
          20,
          18,
          19,
          21,
          22,
          23,
          25,
          29,
          24,
          26,
          28,
          27,
          31,
          60,
          32,
          120,
          35,
          33,
          45,
          36,
          34,
          40,
          61,
          41,
          39,
          37,
          90,
          42,
          44,
          38,
          43,
          46,
          47,
          51,
          58,
          55,
          50,
          62,
          54,
          53,
          52,
          57,
          49,
          48,
          56,
          59,
          64,
          65,
          63,
          68,
          66,
          75,
          69,
          72,
          67,
          89,
          600,
          70,
          73,
          80,
          115,
          74,
          71,
          79,
          119,
          85,
          84,
          76,
          100,
          78,
          77,
          121,
          86,
          83,
          117,
          91,
          300,
          92,
          105,
          98,
          87,
          101,
          93,
          82,
          94,
          81,
          88,
          240,
          106,
          111,
          96,
          103,
          95,
          114,
          99,
          181,
          97,
          122,
          110,
          107,
          125,
          108,
          116,
          118,
          102,
          180,
          113,
          126,
          104,
          174,
          123,
          109,
          175,
          112,
          124,
          172,
          138,
          162,
          137,
          154,
          141,
          129,
          167,
          136,
          165,
          160,
          143,
          127,
          151,
          146,
          168,
          144,
          147,
          156,
          149,
          155,
          133,
          150,
          132,
          128,
          166,
          173,
          148,
          163,
          142,
          140,
          161,
          169,
          601,
          130,
          164,
          139,
          177,
          134,
          182,
          135,
          145,
          158,
          171,
          170,
          152,
          176,
          159,
          193,
          183,
          241,
          153,
          179,
          178,
          157,
          301,
          187,
          231,
          194,
          191,
          184,
          239,
          185,
          236,
          195,
          192,
          220,
          198,
          360,
          196,
          206,
          131,
          212,
          188,
          199,
          226,
          247,
          208,
          207,
          190,
          222,
          189,
          229,
          225,
          224,
          267,
          201,
          219,
          243,
          1200,
          186,
          230,
          228,
          216,
          210,
          200,
          205,
          215,
          197,
          284,
          298,
          334,
          232,
          238,
          218,
          250,
          237,
          251,
          242,
          299,
          202,
          221,
          209,
          214,
          297,
          286,
          244,
          211,
          330,
          257,
          263,
          285,
          1800,
          235,
          213,
          291,
          262,
          274,
          223,
          217,
          258,
          248,
          245,
          1201,
          325,
          599,
          259,
          280,
          315,
          254,
          350,
          349,
          249,
          203,
          309,
          358,
          480,
          268,
          233,
          347,
          204,
          407,
          329,
          272,
          439,
          266,
          342,
          411,
          289,
          328,
          234,
          292,
          304,
          271,
          322,
          265,
          264,
          277,
          320,
          473,
          307,
          361,
          352,
          396,
          432,
          332,
          261,
          348,
          323,
          256,
          290,
          384,
          252,
          295,
          424,
          310,
          359,
          270,
          467,
          288,
          278,
          275,
          386,
          253,
          276,
          425,
          314,
          282,
          296,
          303,
          317,
          481,
          338,
          260,
          479,
          293,
          403,
          421,
          311,
          357,
          367,
          283,
          464,
          281,
          454,
          392,
          574,
          227,
          279,
          472,
          305,
          336,
          457,
          417,
          382,
          504,
          343,
          355,
          550,
          354,
          327,
          246,
          463,
          372,
          374,
          380,
          388,
          437,
          353,
          434,
          682,
          441,
          287,
          387,
          397,
          496,
          629,
          321,
          478,
          294,
          366,
          312,
          378,
          362,
          426,
          410,
          255,
          415,
          371,
          605,
          346,
          440,
          541,
          569,
          324,
          306,
          273,
          447,
          505,
          525,
          398,
          331,
          494,
          456,
          302,
          465,
          787,
          308,
          333,
          393,
          530,
          420,
          455,
          529,
          377,
          598,
          513,
          364,
          509,
          607,
          369,
          337,
          370,
          379,
          602,
          356,
          363,
          539,
          578,
          460,
          412,
          445,
          414,
          606,
          563,
          313,
          546,
          468,
          1040,
          521,
          486,
          648,
          395,
          450,
          811,
          503,
          448,
          453,
          476,
          423,
          597,
          394,
          517,
          341,
          543,
          527,
          1289,
          1138,
          458,
          365,
          351,
          511,
          526,
          1003,
          839,
          443,
          690,
          316,
          584,
          544,
          568,
          522,
          1202,
          483,
          390,
          269,
          383,
          446,
          339,
          477,
          368,
          549,
          794,
          461,
          442,
          554,
          493,
          318,
          637,
          406,
          840,
          791,
          613,
          603,
          474,
          500,
          674,
          592,
          830,
          681,
          444,
          570,
          462,
          586,
          1194,
          528,
          608,
          430,
          492,
          626,
          667,
          553,
          558,
          551,
          887,
          523,
          401,
          960,
          1233,
          653,
          516,
          654,
          573,
          665,
          959,
          911,
          696,
          1235,
          619,
          779,
          552,
          1033,
          373,
          939,
          548,
          1544,
          1237,
          893,
          510,
          772,
          449,
          754,
          518,
          487,
          1253,
          831,
          1034,
          802,
          595,
          635,
          514,
          579,
          1045,
          435,
          431,
          491,
          575,
          344,
          515,
          413,
          662,
          538,
          583,
          596,
          1565,
          718,
          469,
          540,
          614,
          408,
          566,
          809,
          843,
          391,
          932,
          501,
          685,
          532,
          757,
          641,
          706,
          709,
          695,
          422,
          404,
          565,
          375,
          497,
          409,
          564,
          655,
          995,
          675,
          466,
          588,
          792,
          429,
          335,
          763,
          723,
          622,
          400,
          572,
          801,
          712,
          846,
          534,
          944,
          679,
          628,
          722,
          547,
          922,
          1081,
          1161,
          1545,
          1597,
          488,
          326,
          609,
          730,
          692,
          689,
          562,
          1354,
          1783,
          740,
          799,
          452,
          813,
          1137,
          1516,
          1083,
          834,
          589,
          636,
          630,
          644,
          1733,
          1765,
          1117,
          1340,
          717,
          560,
          729,
          818,
          1361,
          868,
          1107,
          1373,
          863,
          1126,
          970,
          1247,
          1127,
          965,
          627,
          1456,
          1115,
          656,
          1101,
          860,
          1399,
          451,
          580,
          734,
          405,
          1621,
          507,
          908,
          933,
          752,
          1155,
          926,
          545,
          536,
          632,
          489,
          1079,
          319,
          904,
          761,
          1301,
          976,
          345,
          561,
          758,
          1248,
          567,
          555,
          773,
          1013,
          1697,
          755,
          557,
          1252,
          896,
          1509,
          1149,
          1699,
          663,
          438,
          781,
          767,
          427,
          652,
          940,
          385,
          1229,
          668,
          728,
          594,
          1041,
          775,
          895,
          1080,
          776,
          1112,
          928,
          704,
          1002,
          402,
          975,
          827,
          1238,
          1443,
          1205,
          774,
          789,
          698,
          749,
          1187,
          974,
          736,
          859,
          870,
          376,
          1212,
          1719,
          962,
          1143,
          1379,
          1179,
          855,
          1490,
          591,
          471,
          1440,
          669,
          742,
          645,
          482,
          436,
          879,
          673,
          1009,
          731,
          658,
          814,
          819,
          1065,
          786,
          710,
          428,
          634,
          1661,
          1439,
          822,
          1448,
          1437,
          719,
          1052,
          873,
          1745,
          1005,
          1171,
          618,
          1055,
          780,
          1023,
          1362,
          1690,
          821,
          1689,
          1196,
          1186,
          1168,
          1414,
          506,
          1191,
          836,
          590,
          878,
          660,
          1159,
          1431,
          715,
          1673,
          678,
          1429,
          556,
          1174,
          762,
          1169,
          969,
          1054,
          585,
          1342,
          910,
          964,
          915,
          1799,
          1716,
          738,
          1499,
          1062,
          1581,
          1004,
          1073,
          1268,
          1717,
          746,
          713,
          571,
          1650,
          711,
          1720,
          687,
          739,
          936,
          1332,
          1704,
          419,
          1066,
          1063,
          340,
          714,
          1025,
          1346,
          680,
          828,
          475,
          1714,
          851,
          1039,
          1713,
          1524,
          1124,
          1555,
          683,
          1047,
          759,
          1148,
          912,
          416,
          798,
          542,
          1270,
          743,
          1087,
          623,
          861,
          620,
          459,
          882,
          1231,
          805,
          1312,
          1057,
          1085,
          823,
          1106,
          1646,
          508,
          981,
          1651,
          535,
          1277,
          771,
          721,
          733,
          857,
          1145,
          1631,
          490,
          1086,
          1471,
          1060,
          537,
          1705,
          1130,
          1796,
          677,
          1475,
          1615,
          796,
          804,
          1462,
          852,
          1619,
          1710,
          1469,
          495,
          1272,
          1058,
          1114,
          1048,
          1193,
          778,
          670,
          640,
          671,
          1747,
          748,
          1798,
          1239,
          1377,
          1526,
          647,
          1008,
          1232,
          1243,
          524,
          1282,
          980,
          726,
          617,
          1596,
          499,
          1225,
          649,
          1297,
          1731,
          903,
          902,
          949,
          1032,
          947,
          587,
          1385,
          1337,
          672,
          1230,
          888,
          924,
          703,
          864,
          625,
          559,
          1162,
          1367,
          899,
          1259,
          702,
          751,
          1384,
          1738,
          890,
          646,
          1036,
          1358,
          1777,
          1359,
          1353,
          1787,
          835,
          531,
          929,
          1532,
          1347,
          1763,
          812,
          1279,
          898,
          485,
          1349,
          1278,
          582,
          777,
          1076,
          931,
          1327,
          1088,
          1550,
          651,
          1510,
          894,
          876,
          666,
          694,
          389,
          750,
          1323,
          1360,
          1304,
          900,
          1321,
          1056,
          1313,
          612,
          498,
          705,
          433,
          844,
          832,
          953,
          1156,
          1015,
          1572,
          720,
          1529,
          1500,
          1789,
          850,
          1311,
          1442,
          638,
          1561,
          1543,
          765,
          1302,
          1074,
          1785,
          1686,
          1788,
          1563,
          418,
          880,
          885,
          1352,
          793,
          1424,
          906,
          1010,
          1587,
          747,
          1525,
          1432,
          829,
          954,
          1309,
          1038,
          724,
          1219,
          917,
          930,
          764,
          1018,
          874,
          1072,
          848,
          816,
          1024,
          1481,
          1090,
          512,
          1275,
          1603,
          502,
          684,
          919,
          1267,
          1290,
          1488,
          1605,
          1778,
          1317,
          1380,
          1748,
          1095,
          1784,
          1266,
          1739,
          1089,
          1535,
          1355,
          659,
          1185,
          973,
          871,
          1016,
          1539,
          1531,
          1517,
          1536,
          824,
          1210,
          1292,
          1482,
          996,
          1390,
          657,
          1781,
          1037,
          1281,
          938,
          1152,
          1042,
          865,
          1300,
          1647,
          643,
          1061,
          854,
          1633,
          1014,
          1214,
          1494,
          1017,
          1303,
          901,
          1523,
          1791,
          1756,
          963,
          866,
          920,
          1521,
          1718,
          1569,
          1567,
          942,
          1511,
          725,
          1726,
          1236,
          753,
          1100,
          1356,
          1444,
          941,
          867,
          1582,
          1293,
          1053,
          1507,
          1571,
          1334,
          686,
          1294,
          1350,
          1071,
          1043,
          1672,
          1519,
          1307,
          1790,
          1343,
          1795,
          1464,
          1468,
          1051,
          484,
          1706,
          1050,
          1687,
          1446,
          1182,
          1746,
          1601,
          1562,
          1181,
          1513,
          788,
          1240,
          1007,
          1068,
          1287,
          1684,
          1724,
          921,
          977,
          810,
          1069,
          1206,
          1797,
          1269,
          1580,
          1653,
          766,
          624,
          795,
          1772,
          1662,
          1263,
          1217,
          1216,
          1558,
          1078,
          1389,
          1218,
          1674,
          744,
          1163,
          837,
          951,
          1480,
          1677,
          1276,
          889,
          768,
          1226,
          1166,
          1679,
          604,
          1427,
          1671,
          803,
          838,
          1026,
          1256,
          650,
          807,
          611,
          745,
          700,
          935,
          966,
          1151,
          1227,
          1557,
          519,
          1460,
          1022,
          633,
          1154,
          968,
          577,
          470,
          1530,
          616,
          1433,
          1387,
          985,
          1735,
          856,
          1172,
          1254,
          1683,
          1725,
          1417,
          1406,
          1415,
          946,
          1165,
          992,
          1136,
          1599,
          842,
          1773,
          1711,
          1407,
          1548,
          533,
          1189,
          1709,
          1484,
          1740,
          1413,
          1691,
          1409,
          1744,
          784,
          1316,
          1203,
          1139,
          1552,
          1695,
          1398,
          1173,
          948,
          1395,
          1082,
          1175,
          1600,
          1723,
          1450,
          955,
          785,
          967,
          1528,
          1774,
          1258,
          1030,
          1742,
          1693,
          1120,
          1761,
          1401,
          701,
          983,
          1383,
          1743,
          1019,
          693,
          1260,
          1466,
          1257,
          1623,
          688,
          1649,
          1737,
          1188,
          971,
          1113,
          1020,
          1400,
          1146,
          1577,
          1255,
          1093,
          1754,
          1591,
          631,
          891,
          1540,
          1420,
          815,
          1142,
          979,
          1176,
          1496,
          1681,
          1046,
          1609,
          1613,
          1274,
          1075,
          1190,
          1611,
          972,
          806,
          639,
          937,
          790,
          1474,
          1473,
          1363,
          1261,
          1422,
          841,
          817,
          825,
          1617,
          1618,
          1366,
          986,
          1616,
          1764,
          621,
          1135,
          1451,
          872,
          1449,
          1728,
          664,
          1428,
          593,
          984,
          989,
          1749,
          1682,
          862,
          1445,
          1119,
          1141,
          1084,
          1626,
          1381,
          1655,
          1622,
          756,
          877,
          1241,
          1308,
          1610,
          1660,
          676,
          1121,
          1122,
          853,
          1123,
          399,
          1455,
          770,
          1125,
          1249,
          943,
          1734,
          1698,
          1755,
          1251,
          952,
          1454,
          1246,
          1129,
          1234,
          1642,
          1375,
          1131,
          576
         ],
         "xaxis": "x",
         "y": [
          99232,
          61534,
          15911,
          8465,
          5480,
          4725,
          3779,
          3509,
          3052,
          2516,
          2441,
          2236,
          2187,
          1958,
          1474,
          1382,
          1333,
          1032,
          915,
          888,
          842,
          810,
          730,
          623,
          621,
          621,
          599,
          594,
          578,
          557,
          524,
          457,
          407,
          362,
          326,
          303,
          295,
          258,
          257,
          257,
          253,
          253,
          244,
          241,
          226,
          225,
          223,
          208,
          205,
          200,
          198,
          194,
          192,
          187,
          183,
          177,
          174,
          173,
          173,
          172,
          172,
          169,
          163,
          156,
          152,
          138,
          133,
          131,
          121,
          112,
          109,
          104,
          103,
          100,
          99,
          99,
          96,
          95,
          92,
          91,
          90,
          90,
          88,
          81,
          81,
          81,
          81,
          81,
          80,
          79,
          78,
          77,
          76,
          76,
          74,
          74,
          74,
          74,
          73,
          72,
          71,
          71,
          68,
          67,
          67,
          67,
          67,
          65,
          65,
          65,
          65,
          64,
          62,
          61,
          61,
          60,
          60,
          60,
          59,
          59,
          58,
          57,
          57,
          56,
          54,
          54,
          53,
          53,
          53,
          52,
          51,
          49,
          48,
          48,
          48,
          47,
          47,
          46,
          46,
          46,
          46,
          44,
          44,
          43,
          43,
          43,
          43,
          42,
          42,
          42,
          41,
          41,
          41,
          40,
          40,
          40,
          40,
          39,
          39,
          39,
          39,
          39,
          39,
          38,
          38,
          38,
          38,
          38,
          38,
          37,
          37,
          35,
          35,
          35,
          34,
          34,
          33,
          33,
          32,
          32,
          31,
          31,
          31,
          31,
          29,
          28,
          28,
          28,
          27,
          26,
          25,
          25,
          25,
          24,
          24,
          24,
          24,
          24,
          23,
          23,
          23,
          23,
          23,
          23,
          22,
          22,
          21,
          21,
          21,
          21,
          21,
          20,
          20,
          20,
          20,
          19,
          19,
          19,
          19,
          18,
          18,
          18,
          18,
          18,
          18,
          17,
          17,
          17,
          17,
          17,
          17,
          17,
          16,
          16,
          16,
          16,
          16,
          16,
          16,
          15,
          15,
          15,
          15,
          15,
          15,
          14,
          14,
          14,
          14,
          14,
          14,
          14,
          14,
          14,
          13,
          13,
          13,
          13,
          13,
          13,
          13,
          13,
          13,
          13,
          13,
          13,
          13,
          12,
          12,
          12,
          12,
          12,
          12,
          12,
          12,
          12,
          12,
          11,
          11,
          11,
          11,
          11,
          11,
          11,
          11,
          11,
          11,
          11,
          11,
          11,
          11,
          11,
          11,
          11,
          11,
          11,
          10,
          10,
          10,
          10,
          10,
          10,
          10,
          10,
          10,
          10,
          10,
          10,
          10,
          10,
          10,
          10,
          10,
          10,
          10,
          10,
          10,
          10,
          9,
          9,
          9,
          9,
          9,
          9,
          9,
          9,
          9,
          9,
          9,
          9,
          9,
          9,
          9,
          9,
          9,
          9,
          9,
          9,
          9,
          9,
          9,
          9,
          9,
          9,
          9,
          8,
          8,
          8,
          8,
          8,
          8,
          8,
          8,
          8,
          8,
          8,
          8,
          8,
          8,
          8,
          8,
          8,
          8,
          8,
          8,
          8,
          8,
          8,
          7,
          7,
          7,
          7,
          7,
          7,
          7,
          7,
          7,
          7,
          7,
          7,
          7,
          7,
          7,
          7,
          7,
          7,
          7,
          7,
          7,
          7,
          7,
          7,
          7,
          7,
          7,
          7,
          7,
          7,
          7,
          7,
          7,
          7,
          7,
          7,
          7,
          6,
          6,
          6,
          6,
          6,
          6,
          6,
          6,
          6,
          6,
          6,
          6,
          6,
          6,
          6,
          6,
          6,
          6,
          6,
          6,
          6,
          6,
          6,
          6,
          6,
          6,
          6,
          6,
          6,
          6,
          6,
          6,
          6,
          6,
          6,
          6,
          6,
          6,
          6,
          6,
          6,
          6,
          6,
          6,
          6,
          6,
          6,
          6,
          6,
          6,
          6,
          6,
          6,
          6,
          5,
          5,
          5,
          5,
          5,
          5,
          5,
          5,
          5,
          5,
          5,
          5,
          5,
          5,
          5,
          5,
          5,
          5,
          5,
          5,
          5,
          5,
          5,
          5,
          5,
          5,
          5,
          5,
          5,
          5,
          5,
          5,
          5,
          5,
          5,
          5,
          5,
          5,
          5,
          5,
          5,
          5,
          5,
          5,
          5,
          5,
          5,
          5,
          5,
          5,
          5,
          5,
          4,
          4,
          4,
          4,
          4,
          4,
          4,
          4,
          4,
          4,
          4,
          4,
          4,
          4,
          4,
          4,
          4,
          4,
          4,
          4,
          4,
          4,
          4,
          4,
          4,
          4,
          4,
          4,
          4,
          4,
          4,
          4,
          4,
          4,
          4,
          4,
          4,
          4,
          4,
          4,
          4,
          4,
          4,
          4,
          4,
          4,
          4,
          4,
          4,
          4,
          4,
          4,
          4,
          4,
          4,
          4,
          4,
          4,
          4,
          4,
          4,
          4,
          4,
          4,
          4,
          4,
          4,
          4,
          4,
          4,
          4,
          4,
          4,
          4,
          4,
          4,
          4,
          4,
          4,
          4,
          4,
          4,
          4,
          4,
          4,
          4,
          4,
          4,
          4,
          4,
          4,
          4,
          4,
          4,
          4,
          3,
          3,
          3,
          3,
          3,
          3,
          3,
          3,
          3,
          3,
          3,
          3,
          3,
          3,
          3,
          3,
          3,
          3,
          3,
          3,
          3,
          3,
          3,
          3,
          3,
          3,
          3,
          3,
          3,
          3,
          3,
          3,
          3,
          3,
          3,
          3,
          3,
          3,
          3,
          3,
          3,
          3,
          3,
          3,
          3,
          3,
          3,
          3,
          3,
          3,
          3,
          3,
          3,
          3,
          3,
          3,
          3,
          3,
          3,
          3,
          3,
          3,
          3,
          3,
          3,
          3,
          3,
          3,
          3,
          3,
          3,
          3,
          3,
          3,
          3,
          3,
          3,
          3,
          3,
          3,
          3,
          3,
          3,
          3,
          3,
          3,
          3,
          3,
          3,
          3,
          3,
          3,
          3,
          3,
          3,
          3,
          3,
          3,
          3,
          3,
          3,
          3,
          3,
          3,
          3,
          3,
          3,
          3,
          3,
          3,
          3,
          3,
          3,
          3,
          3,
          3,
          3,
          3,
          3,
          3,
          3,
          3,
          3,
          3,
          3,
          3,
          3,
          3,
          3,
          3,
          3,
          3,
          3,
          3,
          3,
          3,
          3,
          3,
          3,
          3,
          3,
          3,
          3,
          3,
          3,
          3,
          3,
          3,
          3,
          3,
          3,
          3,
          3,
          3,
          3,
          3,
          3,
          3,
          3,
          3,
          3,
          3,
          3,
          2,
          2,
          2,
          2,
          2,
          2,
          2,
          2,
          2,
          2,
          2,
          2,
          2,
          2,
          2,
          2,
          2,
          2,
          2,
          2,
          2,
          2,
          2,
          2,
          2,
          2,
          2,
          2,
          2,
          2,
          2,
          2,
          2,
          2,
          2,
          2,
          2,
          2,
          2,
          2,
          2,
          2,
          2,
          2,
          2,
          2,
          2,
          2,
          2,
          2,
          2,
          2,
          2,
          2,
          2,
          2,
          2,
          2,
          2,
          2,
          2,
          2,
          2,
          2,
          2,
          2,
          2,
          2,
          2,
          2,
          2,
          2,
          2,
          2,
          2,
          2,
          2,
          2,
          2,
          2,
          2,
          2,
          2,
          2,
          2,
          2,
          2,
          2,
          2,
          2,
          2,
          2,
          2,
          2,
          2,
          2,
          2,
          2,
          2,
          2,
          2,
          2,
          2,
          2,
          2,
          2,
          2,
          2,
          2,
          2,
          2,
          2,
          2,
          2,
          2,
          2,
          2,
          2,
          2,
          2,
          2,
          2,
          2,
          2,
          2,
          2,
          2,
          2,
          2,
          2,
          2,
          2,
          2,
          2,
          2,
          2,
          2,
          2,
          2,
          2,
          2,
          2,
          2,
          2,
          2,
          2,
          2,
          2,
          2,
          2,
          2,
          2,
          2,
          2,
          2,
          2,
          2,
          2,
          2,
          2,
          2,
          2,
          2,
          2,
          2,
          2,
          2,
          2,
          2,
          2,
          2,
          2,
          2,
          2,
          2,
          2,
          2,
          2,
          2,
          2,
          2,
          2,
          2,
          2,
          2,
          2,
          2,
          2,
          2,
          2,
          2,
          2,
          2,
          2,
          2,
          2,
          2,
          2,
          2,
          2,
          2,
          2,
          2,
          2,
          2,
          2,
          2,
          2,
          2,
          2,
          2,
          2,
          2,
          2,
          2,
          2,
          2,
          2,
          2,
          2,
          2,
          2,
          2,
          2,
          2,
          2,
          2,
          2,
          2,
          2,
          2,
          2,
          2,
          2,
          2,
          2,
          2,
          2,
          2,
          2,
          2,
          1,
          1,
          1,
          1,
          1,
          1,
          1,
          1,
          1,
          1,
          1,
          1,
          1,
          1,
          1,
          1,
          1,
          1,
          1,
          1,
          1,
          1,
          1,
          1,
          1,
          1,
          1,
          1,
          1,
          1,
          1,
          1,
          1,
          1,
          1,
          1,
          1,
          1,
          1,
          1,
          1,
          1,
          1,
          1,
          1,
          1,
          1,
          1,
          1,
          1,
          1,
          1,
          1,
          1,
          1,
          1,
          1,
          1,
          1,
          1,
          1,
          1,
          1,
          1,
          1,
          1,
          1,
          1,
          1,
          1,
          1,
          1,
          1,
          1,
          1,
          1,
          1,
          1,
          1,
          1,
          1,
          1,
          1,
          1,
          1,
          1,
          1,
          1,
          1,
          1,
          1,
          1,
          1,
          1,
          1,
          1,
          1,
          1,
          1,
          1,
          1,
          1,
          1,
          1,
          1,
          1,
          1,
          1,
          1,
          1,
          1,
          1,
          1,
          1,
          1,
          1,
          1,
          1,
          1,
          1,
          1,
          1,
          1,
          1,
          1,
          1,
          1,
          1,
          1,
          1,
          1,
          1,
          1,
          1,
          1,
          1,
          1,
          1,
          1,
          1,
          1,
          1,
          1,
          1,
          1,
          1,
          1,
          1,
          1,
          1,
          1,
          1,
          1,
          1,
          1,
          1,
          1,
          1,
          1,
          1,
          1,
          1,
          1,
          1,
          1,
          1,
          1,
          1,
          1,
          1,
          1,
          1,
          1,
          1,
          1,
          1,
          1,
          1,
          1,
          1,
          1,
          1,
          1,
          1,
          1,
          1,
          1,
          1,
          1,
          1,
          1,
          1,
          1,
          1,
          1,
          1,
          1,
          1,
          1,
          1,
          1,
          1,
          1,
          1,
          1,
          1,
          1,
          1,
          1,
          1,
          1,
          1,
          1,
          1,
          1,
          1,
          1,
          1,
          1,
          1,
          1,
          1,
          1,
          1,
          1,
          1,
          1,
          1,
          1,
          1,
          1,
          1,
          1,
          1,
          1,
          1,
          1,
          1,
          1,
          1,
          1,
          1,
          1,
          1,
          1,
          1,
          1,
          1,
          1,
          1,
          1,
          1,
          1,
          1,
          1,
          1,
          1,
          1,
          1,
          1,
          1,
          1,
          1,
          1,
          1,
          1,
          1,
          1,
          1,
          1,
          1,
          1,
          1,
          1,
          1,
          1,
          1,
          1,
          1,
          1,
          1,
          1,
          1,
          1,
          1,
          1,
          1,
          1,
          1,
          1,
          1,
          1,
          1,
          1,
          1,
          1,
          1,
          1,
          1,
          1,
          1,
          1,
          1,
          1,
          1,
          1,
          1,
          1,
          1,
          1,
          1,
          1,
          1,
          1,
          1,
          1,
          1,
          1,
          1,
          1,
          1,
          1,
          1,
          1,
          1,
          1,
          1,
          1,
          1,
          1,
          1,
          1,
          1,
          1,
          1,
          1,
          1,
          1,
          1,
          1,
          1,
          1,
          1,
          1,
          1,
          1,
          1,
          1,
          1,
          1,
          1,
          1,
          1,
          1,
          1,
          1,
          1,
          1,
          1,
          1,
          1,
          1,
          1,
          1,
          1,
          1,
          1,
          1,
          1,
          1,
          1,
          1,
          1,
          1,
          1,
          1,
          1,
          1,
          1,
          1,
          1,
          1,
          1,
          1,
          1,
          1,
          1,
          1,
          1,
          1,
          1,
          1,
          1,
          1,
          1
         ],
         "yaxis": "y"
        }
       ],
       "layout": {
        "autosize": true,
        "barmode": "relative",
        "legend": {
         "tracegroupgap": 0
        },
        "margin": {
         "t": 60
        },
        "template": {
         "data": {
          "bar": [
           {
            "error_x": {
             "color": "#2a3f5f"
            },
            "error_y": {
             "color": "#2a3f5f"
            },
            "marker": {
             "line": {
              "color": "#E5ECF6",
              "width": 0.5
             }
            },
            "type": "bar"
           }
          ],
          "barpolar": [
           {
            "marker": {
             "line": {
              "color": "#E5ECF6",
              "width": 0.5
             }
            },
            "type": "barpolar"
           }
          ],
          "carpet": [
           {
            "aaxis": {
             "endlinecolor": "#2a3f5f",
             "gridcolor": "white",
             "linecolor": "white",
             "minorgridcolor": "white",
             "startlinecolor": "#2a3f5f"
            },
            "baxis": {
             "endlinecolor": "#2a3f5f",
             "gridcolor": "white",
             "linecolor": "white",
             "minorgridcolor": "white",
             "startlinecolor": "#2a3f5f"
            },
            "type": "carpet"
           }
          ],
          "choropleth": [
           {
            "colorbar": {
             "outlinewidth": 0,
             "ticks": ""
            },
            "type": "choropleth"
           }
          ],
          "contour": [
           {
            "colorbar": {
             "outlinewidth": 0,
             "ticks": ""
            },
            "colorscale": [
             [
              0,
              "#0d0887"
             ],
             [
              0.1111111111111111,
              "#46039f"
             ],
             [
              0.2222222222222222,
              "#7201a8"
             ],
             [
              0.3333333333333333,
              "#9c179e"
             ],
             [
              0.4444444444444444,
              "#bd3786"
             ],
             [
              0.5555555555555556,
              "#d8576b"
             ],
             [
              0.6666666666666666,
              "#ed7953"
             ],
             [
              0.7777777777777778,
              "#fb9f3a"
             ],
             [
              0.8888888888888888,
              "#fdca26"
             ],
             [
              1,
              "#f0f921"
             ]
            ],
            "type": "contour"
           }
          ],
          "contourcarpet": [
           {
            "colorbar": {
             "outlinewidth": 0,
             "ticks": ""
            },
            "type": "contourcarpet"
           }
          ],
          "heatmap": [
           {
            "colorbar": {
             "outlinewidth": 0,
             "ticks": ""
            },
            "colorscale": [
             [
              0,
              "#0d0887"
             ],
             [
              0.1111111111111111,
              "#46039f"
             ],
             [
              0.2222222222222222,
              "#7201a8"
             ],
             [
              0.3333333333333333,
              "#9c179e"
             ],
             [
              0.4444444444444444,
              "#bd3786"
             ],
             [
              0.5555555555555556,
              "#d8576b"
             ],
             [
              0.6666666666666666,
              "#ed7953"
             ],
             [
              0.7777777777777778,
              "#fb9f3a"
             ],
             [
              0.8888888888888888,
              "#fdca26"
             ],
             [
              1,
              "#f0f921"
             ]
            ],
            "type": "heatmap"
           }
          ],
          "heatmapgl": [
           {
            "colorbar": {
             "outlinewidth": 0,
             "ticks": ""
            },
            "colorscale": [
             [
              0,
              "#0d0887"
             ],
             [
              0.1111111111111111,
              "#46039f"
             ],
             [
              0.2222222222222222,
              "#7201a8"
             ],
             [
              0.3333333333333333,
              "#9c179e"
             ],
             [
              0.4444444444444444,
              "#bd3786"
             ],
             [
              0.5555555555555556,
              "#d8576b"
             ],
             [
              0.6666666666666666,
              "#ed7953"
             ],
             [
              0.7777777777777778,
              "#fb9f3a"
             ],
             [
              0.8888888888888888,
              "#fdca26"
             ],
             [
              1,
              "#f0f921"
             ]
            ],
            "type": "heatmapgl"
           }
          ],
          "histogram": [
           {
            "marker": {
             "colorbar": {
              "outlinewidth": 0,
              "ticks": ""
             }
            },
            "type": "histogram"
           }
          ],
          "histogram2d": [
           {
            "colorbar": {
             "outlinewidth": 0,
             "ticks": ""
            },
            "colorscale": [
             [
              0,
              "#0d0887"
             ],
             [
              0.1111111111111111,
              "#46039f"
             ],
             [
              0.2222222222222222,
              "#7201a8"
             ],
             [
              0.3333333333333333,
              "#9c179e"
             ],
             [
              0.4444444444444444,
              "#bd3786"
             ],
             [
              0.5555555555555556,
              "#d8576b"
             ],
             [
              0.6666666666666666,
              "#ed7953"
             ],
             [
              0.7777777777777778,
              "#fb9f3a"
             ],
             [
              0.8888888888888888,
              "#fdca26"
             ],
             [
              1,
              "#f0f921"
             ]
            ],
            "type": "histogram2d"
           }
          ],
          "histogram2dcontour": [
           {
            "colorbar": {
             "outlinewidth": 0,
             "ticks": ""
            },
            "colorscale": [
             [
              0,
              "#0d0887"
             ],
             [
              0.1111111111111111,
              "#46039f"
             ],
             [
              0.2222222222222222,
              "#7201a8"
             ],
             [
              0.3333333333333333,
              "#9c179e"
             ],
             [
              0.4444444444444444,
              "#bd3786"
             ],
             [
              0.5555555555555556,
              "#d8576b"
             ],
             [
              0.6666666666666666,
              "#ed7953"
             ],
             [
              0.7777777777777778,
              "#fb9f3a"
             ],
             [
              0.8888888888888888,
              "#fdca26"
             ],
             [
              1,
              "#f0f921"
             ]
            ],
            "type": "histogram2dcontour"
           }
          ],
          "mesh3d": [
           {
            "colorbar": {
             "outlinewidth": 0,
             "ticks": ""
            },
            "type": "mesh3d"
           }
          ],
          "parcoords": [
           {
            "line": {
             "colorbar": {
              "outlinewidth": 0,
              "ticks": ""
             }
            },
            "type": "parcoords"
           }
          ],
          "pie": [
           {
            "automargin": true,
            "type": "pie"
           }
          ],
          "scatter": [
           {
            "marker": {
             "colorbar": {
              "outlinewidth": 0,
              "ticks": ""
             }
            },
            "type": "scatter"
           }
          ],
          "scatter3d": [
           {
            "line": {
             "colorbar": {
              "outlinewidth": 0,
              "ticks": ""
             }
            },
            "marker": {
             "colorbar": {
              "outlinewidth": 0,
              "ticks": ""
             }
            },
            "type": "scatter3d"
           }
          ],
          "scattercarpet": [
           {
            "marker": {
             "colorbar": {
              "outlinewidth": 0,
              "ticks": ""
             }
            },
            "type": "scattercarpet"
           }
          ],
          "scattergeo": [
           {
            "marker": {
             "colorbar": {
              "outlinewidth": 0,
              "ticks": ""
             }
            },
            "type": "scattergeo"
           }
          ],
          "scattergl": [
           {
            "marker": {
             "colorbar": {
              "outlinewidth": 0,
              "ticks": ""
             }
            },
            "type": "scattergl"
           }
          ],
          "scattermapbox": [
           {
            "marker": {
             "colorbar": {
              "outlinewidth": 0,
              "ticks": ""
             }
            },
            "type": "scattermapbox"
           }
          ],
          "scatterpolar": [
           {
            "marker": {
             "colorbar": {
              "outlinewidth": 0,
              "ticks": ""
             }
            },
            "type": "scatterpolar"
           }
          ],
          "scatterpolargl": [
           {
            "marker": {
             "colorbar": {
              "outlinewidth": 0,
              "ticks": ""
             }
            },
            "type": "scatterpolargl"
           }
          ],
          "scatterternary": [
           {
            "marker": {
             "colorbar": {
              "outlinewidth": 0,
              "ticks": ""
             }
            },
            "type": "scatterternary"
           }
          ],
          "surface": [
           {
            "colorbar": {
             "outlinewidth": 0,
             "ticks": ""
            },
            "colorscale": [
             [
              0,
              "#0d0887"
             ],
             [
              0.1111111111111111,
              "#46039f"
             ],
             [
              0.2222222222222222,
              "#7201a8"
             ],
             [
              0.3333333333333333,
              "#9c179e"
             ],
             [
              0.4444444444444444,
              "#bd3786"
             ],
             [
              0.5555555555555556,
              "#d8576b"
             ],
             [
              0.6666666666666666,
              "#ed7953"
             ],
             [
              0.7777777777777778,
              "#fb9f3a"
             ],
             [
              0.8888888888888888,
              "#fdca26"
             ],
             [
              1,
              "#f0f921"
             ]
            ],
            "type": "surface"
           }
          ],
          "table": [
           {
            "cells": {
             "fill": {
              "color": "#EBF0F8"
             },
             "line": {
              "color": "white"
             }
            },
            "header": {
             "fill": {
              "color": "#C8D4E3"
             },
             "line": {
              "color": "white"
             }
            },
            "type": "table"
           }
          ]
         },
         "layout": {
          "annotationdefaults": {
           "arrowcolor": "#2a3f5f",
           "arrowhead": 0,
           "arrowwidth": 1
          },
          "coloraxis": {
           "colorbar": {
            "outlinewidth": 0,
            "ticks": ""
           }
          },
          "colorscale": {
           "diverging": [
            [
             0,
             "#8e0152"
            ],
            [
             0.1,
             "#c51b7d"
            ],
            [
             0.2,
             "#de77ae"
            ],
            [
             0.3,
             "#f1b6da"
            ],
            [
             0.4,
             "#fde0ef"
            ],
            [
             0.5,
             "#f7f7f7"
            ],
            [
             0.6,
             "#e6f5d0"
            ],
            [
             0.7,
             "#b8e186"
            ],
            [
             0.8,
             "#7fbc41"
            ],
            [
             0.9,
             "#4d9221"
            ],
            [
             1,
             "#276419"
            ]
           ],
           "sequential": [
            [
             0,
             "#0d0887"
            ],
            [
             0.1111111111111111,
             "#46039f"
            ],
            [
             0.2222222222222222,
             "#7201a8"
            ],
            [
             0.3333333333333333,
             "#9c179e"
            ],
            [
             0.4444444444444444,
             "#bd3786"
            ],
            [
             0.5555555555555556,
             "#d8576b"
            ],
            [
             0.6666666666666666,
             "#ed7953"
            ],
            [
             0.7777777777777778,
             "#fb9f3a"
            ],
            [
             0.8888888888888888,
             "#fdca26"
            ],
            [
             1,
             "#f0f921"
            ]
           ],
           "sequentialminus": [
            [
             0,
             "#0d0887"
            ],
            [
             0.1111111111111111,
             "#46039f"
            ],
            [
             0.2222222222222222,
             "#7201a8"
            ],
            [
             0.3333333333333333,
             "#9c179e"
            ],
            [
             0.4444444444444444,
             "#bd3786"
            ],
            [
             0.5555555555555556,
             "#d8576b"
            ],
            [
             0.6666666666666666,
             "#ed7953"
            ],
            [
             0.7777777777777778,
             "#fb9f3a"
            ],
            [
             0.8888888888888888,
             "#fdca26"
            ],
            [
             1,
             "#f0f921"
            ]
           ]
          },
          "colorway": [
           "#636efa",
           "#EF553B",
           "#00cc96",
           "#ab63fa",
           "#FFA15A",
           "#19d3f3",
           "#FF6692",
           "#B6E880",
           "#FF97FF",
           "#FECB52"
          ],
          "font": {
           "color": "#2a3f5f"
          },
          "geo": {
           "bgcolor": "white",
           "lakecolor": "white",
           "landcolor": "#E5ECF6",
           "showlakes": true,
           "showland": true,
           "subunitcolor": "white"
          },
          "hoverlabel": {
           "align": "left"
          },
          "hovermode": "closest",
          "mapbox": {
           "style": "light"
          },
          "paper_bgcolor": "white",
          "plot_bgcolor": "#E5ECF6",
          "polar": {
           "angularaxis": {
            "gridcolor": "white",
            "linecolor": "white",
            "ticks": ""
           },
           "bgcolor": "#E5ECF6",
           "radialaxis": {
            "gridcolor": "white",
            "linecolor": "white",
            "ticks": ""
           }
          },
          "scene": {
           "xaxis": {
            "backgroundcolor": "#E5ECF6",
            "gridcolor": "white",
            "gridwidth": 2,
            "linecolor": "white",
            "showbackground": true,
            "ticks": "",
            "zerolinecolor": "white"
           },
           "yaxis": {
            "backgroundcolor": "#E5ECF6",
            "gridcolor": "white",
            "gridwidth": 2,
            "linecolor": "white",
            "showbackground": true,
            "ticks": "",
            "zerolinecolor": "white"
           },
           "zaxis": {
            "backgroundcolor": "#E5ECF6",
            "gridcolor": "white",
            "gridwidth": 2,
            "linecolor": "white",
            "showbackground": true,
            "ticks": "",
            "zerolinecolor": "white"
           }
          },
          "shapedefaults": {
           "line": {
            "color": "#2a3f5f"
           }
          },
          "ternary": {
           "aaxis": {
            "gridcolor": "white",
            "linecolor": "white",
            "ticks": ""
           },
           "baxis": {
            "gridcolor": "white",
            "linecolor": "white",
            "ticks": ""
           },
           "bgcolor": "#E5ECF6",
           "caxis": {
            "gridcolor": "white",
            "linecolor": "white",
            "ticks": ""
           }
          },
          "title": {
           "x": 0.05
          },
          "xaxis": {
           "automargin": true,
           "gridcolor": "white",
           "linecolor": "white",
           "ticks": "",
           "title": {
            "standoff": 15
           },
           "zerolinecolor": "white",
           "zerolinewidth": 2
          },
          "yaxis": {
           "automargin": true,
           "gridcolor": "white",
           "linecolor": "white",
           "ticks": "",
           "title": {
            "standoff": 15
           },
           "zerolinecolor": "white",
           "zerolinewidth": 2
          }
         }
        },
        "xaxis": {
         "anchor": "y",
         "autorange": true,
         "domain": [
          0,
          1
         ],
         "range": [
          -0.5,
          1800.5
         ],
         "title": {
          "text": "x"
         },
         "type": "linear"
        },
        "yaxis": {
         "anchor": "x",
         "autorange": true,
         "domain": [
          0,
          1
         ],
         "range": [
          0,
          104454.73684210527
         ],
         "title": {
          "text": "y"
         },
         "type": "linear"
        }
       }
      },
      "image/png": "[encoded data removed]",
      "text/html": [
       "<div>\n",
       "        \n",
       "        \n",
       "            <div id=\"54b22e5b-3961-4401-af7f-ebe7e41d3e19\" class=\"plotly-graph-div\" style=\"height:525px; width:100%;\"></div>\n",
       "            <script type=\"text/javascript\">\n",
       "                require([\"plotly\"], function(Plotly) {\n",
       "                    window.PLOTLYENV=window.PLOTLYENV || {};\n",
       "                    \n",
       "                if (document.getElementById(\"54b22e5b-3961-4401-af7f-ebe7e41d3e19\")) {\n",
       "                    Plotly.newPlot(\n",
       "                        '54b22e5b-3961-4401-af7f-ebe7e41d3e19',\n",
       "                        [{\"alignmentgroup\": \"True\", \"hoverlabel\": {\"namelength\": 0}, \"hovertemplate\": \"x=%{x}<br>y=%{y}\", \"legendgroup\": \"\", \"marker\": {\"color\": \"#636efa\"}, \"name\": \"\", \"offsetgroup\": \"\", \"orientation\": \"v\", \"showlegend\": false, \"textposition\": \"auto\", \"type\": \"bar\", \"x\": [0.0, 1.0, 2.0, 3.0, 4.0, 5.0, 6.0, 30.0, 7.0, 8.0, 10.0, 12.0, 9.0, 11.0, 13.0, 14.0, 15.0, 16.0, 17.0, 20.0, 18.0, 19.0, 21.0, 22.0, 23.0, 25.0, 29.0, 24.0, 26.0, 28.0, 27.0, 31.0, 60.0, 32.0, 120.0, 35.0, 33.0, 45.0, 36.0, 34.0, 40.0, 61.0, 41.0, 39.0, 37.0, 90.0, 42.0, 44.0, 38.0, 43.0, 46.0, 47.0, 51.0, 58.0, 55.0, 50.0, 62.0, 54.0, 53.0, 52.0, 57.0, 49.0, 48.0, 56.0, 59.0, 64.0, 65.0, 63.0, 68.0, 66.0, 75.0, 69.0, 72.0, 67.0, 89.0, 600.0, 70.0, 73.0, 80.0, 115.0, 74.0, 71.0, 79.0, 119.0, 85.0, 84.0, 76.0, 100.0, 78.0, 77.0, 121.0, 86.0, 83.0, 117.0, 91.0, 300.0, 92.0, 105.0, 98.0, 87.0, 101.0, 93.0, 82.0, 94.0, 81.0, 88.0, 240.0, 106.0, 111.0, 96.0, 103.0, 95.0, 114.0, 99.0, 181.0, 97.0, 122.0, 110.0, 107.0, 125.0, 108.0, 116.0, 118.0, 102.0, 180.0, 113.0, 126.0, 104.0, 174.0, 123.0, 109.0, 175.0, 112.0, 124.0, 172.0, 138.0, 162.0, 137.0, 154.0, 141.0, 129.0, 167.0, 136.0, 165.0, 160.0, 143.0, 127.0, 151.0, 146.0, 168.0, 144.0, 147.0, 156.0, 149.0, 155.0, 133.0, 150.0, 132.0, 128.0, 166.0, 173.0, 148.0, 163.0, 142.0, 140.0, 161.0, 169.0, 601.0, 130.0, 164.0, 139.0, 177.0, 134.0, 182.0, 135.0, 145.0, 158.0, 171.0, 170.0, 152.0, 176.0, 159.0, 193.0, 183.0, 241.0, 153.0, 179.0, 178.0, 157.0, 301.0, 187.0, 231.0, 194.0, 191.0, 184.0, 239.0, 185.0, 236.0, 195.0, 192.0, 220.0, 198.0, 360.0, 196.0, 206.0, 131.0, 212.0, 188.0, 199.0, 226.0, 247.0, 208.0, 207.0, 190.0, 222.0, 189.0, 229.0, 225.0, 224.0, 267.0, 201.0, 219.0, 243.0, 1200.0, 186.0, 230.0, 228.0, 216.0, 210.0, 200.0, 205.0, 215.0, 197.0, 284.0, 298.0, 334.0, 232.0, 238.0, 218.0, 250.0, 237.0, 251.0, 242.0, 299.0, 202.0, 221.0, 209.0, 214.0, 297.0, 286.0, 244.0, 211.0, 330.0, 257.0, 263.0, 285.0, 1800.0, 235.0, 213.0, 291.0, 262.0, 274.0, 223.0, 217.0, 258.0, 248.0, 245.0, 1201.0, 325.0, 599.0, 259.0, 280.0, 315.0, 254.0, 350.0, 349.0, 249.0, 203.0, 309.0, 358.0, 480.0, 268.0, 233.0, 347.0, 204.0, 407.0, 329.0, 272.0, 439.0, 266.0, 342.0, 411.0, 289.0, 328.0, 234.0, 292.0, 304.0, 271.0, 322.0, 265.0, 264.0, 277.0, 320.0, 473.0, 307.0, 361.0, 352.0, 396.0, 432.0, 332.0, 261.0, 348.0, 323.0, 256.0, 290.0, 384.0, 252.0, 295.0, 424.0, 310.0, 359.0, 270.0, 467.0, 288.0, 278.0, 275.0, 386.0, 253.0, 276.0, 425.0, 314.0, 282.0, 296.0, 303.0, 317.0, 481.0, 338.0, 260.0, 479.0, 293.0, 403.0, 421.0, 311.0, 357.0, 367.0, 283.0, 464.0, 281.0, 454.0, 392.0, 574.0, 227.0, 279.0, 472.0, 305.0, 336.0, 457.0, 417.0, 382.0, 504.0, 343.0, 355.0, 550.0, 354.0, 327.0, 246.0, 463.0, 372.0, 374.0, 380.0, 388.0, 437.0, 353.0, 434.0, 682.0, 441.0, 287.0, 387.0, 397.0, 496.0, 629.0, 321.0, 478.0, 294.0, 366.0, 312.0, 378.0, 362.0, 426.0, 410.0, 255.0, 415.0, 371.0, 605.0, 346.0, 440.0, 541.0, 569.0, 324.0, 306.0, 273.0, 447.0, 505.0, 525.0, 398.0, 331.0, 494.0, 456.0, 302.0, 465.0, 787.0, 308.0, 333.0, 393.0, 530.0, 420.0, 455.0, 529.0, 377.0, 598.0, 513.0, 364.0, 509.0, 607.0, 369.0, 337.0, 370.0, 379.0, 602.0, 356.0, 363.0, 539.0, 578.0, 460.0, 412.0, 445.0, 414.0, 606.0, 563.0, 313.0, 546.0, 468.0, 1040.0, 521.0, 486.0, 648.0, 395.0, 450.0, 811.0, 503.0, 448.0, 453.0, 476.0, 423.0, 597.0, 394.0, 517.0, 341.0, 543.0, 527.0, 1289.0, 1138.0, 458.0, 365.0, 351.0, 511.0, 526.0, 1003.0, 839.0, 443.0, 690.0, 316.0, 584.0, 544.0, 568.0, 522.0, 1202.0, 483.0, 390.0, 269.0, 383.0, 446.0, 339.0, 477.0, 368.0, 549.0, 794.0, 461.0, 442.0, 554.0, 493.0, 318.0, 637.0, 406.0, 840.0, 791.0, 613.0, 603.0, 474.0, 500.0, 674.0, 592.0, 830.0, 681.0, 444.0, 570.0, 462.0, 586.0, 1194.0, 528.0, 608.0, 430.0, 492.0, 626.0, 667.0, 553.0, 558.0, 551.0, 887.0, 523.0, 401.0, 960.0, 1233.0, 653.0, 516.0, 654.0, 573.0, 665.0, 959.0, 911.0, 696.0, 1235.0, 619.0, 779.0, 552.0, 1033.0, 373.0, 939.0, 548.0, 1544.0, 1237.0, 893.0, 510.0, 772.0, 449.0, 754.0, 518.0, 487.0, 1253.0, 831.0, 1034.0, 802.0, 595.0, 635.0, 514.0, 579.0, 1045.0, 435.0, 431.0, 491.0, 575.0, 344.0, 515.0, 413.0, 662.0, 538.0, 583.0, 596.0, 1565.0, 718.0, 469.0, 540.0, 614.0, 408.0, 566.0, 809.0, 843.0, 391.0, 932.0, 501.0, 685.0, 532.0, 757.0, 641.0, 706.0, 709.0, 695.0, 422.0, 404.0, 565.0, 375.0, 497.0, 409.0, 564.0, 655.0, 995.0, 675.0, 466.0, 588.0, 792.0, 429.0, 335.0, 763.0, 723.0, 622.0, 400.0, 572.0, 801.0, 712.0, 846.0, 534.0, 944.0, 679.0, 628.0, 722.0, 547.0, 922.0, 1081.0, 1161.0, 1545.0, 1597.0, 488.0, 326.0, 609.0, 730.0, 692.0, 689.0, 562.0, 1354.0, 1783.0, 740.0, 799.0, 452.0, 813.0, 1137.0, 1516.0, 1083.0, 834.0, 589.0, 636.0, 630.0, 644.0, 1733.0, 1765.0, 1117.0, 1340.0, 717.0, 560.0, 729.0, 818.0, 1361.0, 868.0, 1107.0, 1373.0, 863.0, 1126.0, 970.0, 1247.0, 1127.0, 965.0, 627.0, 1456.0, 1115.0, 656.0, 1101.0, 860.0, 1399.0, 451.0, 580.0, 734.0, 405.0, 1621.0, 507.0, 908.0, 933.0, 752.0, 1155.0, 926.0, 545.0, 536.0, 632.0, 489.0, 1079.0, 319.0, 904.0, 761.0, 1301.0, 976.0, 345.0, 561.0, 758.0, 1248.0, 567.0, 555.0, 773.0, 1013.0, 1697.0, 755.0, 557.0, 1252.0, 896.0, 1509.0, 1149.0, 1699.0, 663.0, 438.0, 781.0, 767.0, 427.0, 652.0, 940.0, 385.0, 1229.0, 668.0, 728.0, 594.0, 1041.0, 775.0, 895.0, 1080.0, 776.0, 1112.0, 928.0, 704.0, 1002.0, 402.0, 975.0, 827.0, 1238.0, 1443.0, 1205.0, 774.0, 789.0, 698.0, 749.0, 1187.0, 974.0, 736.0, 859.0, 870.0, 376.0, 1212.0, 1719.0, 962.0, 1143.0, 1379.0, 1179.0, 855.0, 1490.0, 591.0, 471.0, 1440.0, 669.0, 742.0, 645.0, 482.0, 436.0, 879.0, 673.0, 1009.0, 731.0, 658.0, 814.0, 819.0, 1065.0, 786.0, 710.0, 428.0, 634.0, 1661.0, 1439.0, 822.0, 1448.0, 1437.0, 719.0, 1052.0, 873.0, 1745.0, 1005.0, 1171.0, 618.0, 1055.0, 780.0, 1023.0, 1362.0, 1690.0, 821.0, 1689.0, 1196.0, 1186.0, 1168.0, 1414.0, 506.0, 1191.0, 836.0, 590.0, 878.0, 660.0, 1159.0, 1431.0, 715.0, 1673.0, 678.0, 1429.0, 556.0, 1174.0, 762.0, 1169.0, 969.0, 1054.0, 585.0, 1342.0, 910.0, 964.0, 915.0, 1799.0, 1716.0, 738.0, 1499.0, 1062.0, 1581.0, 1004.0, 1073.0, 1268.0, 1717.0, 746.0, 713.0, 571.0, 1650.0, 711.0, 1720.0, 687.0, 739.0, 936.0, 1332.0, 1704.0, 419.0, 1066.0, 1063.0, 340.0, 714.0, 1025.0, 1346.0, 680.0, 828.0, 475.0, 1714.0, 851.0, 1039.0, 1713.0, 1524.0, 1124.0, 1555.0, 683.0, 1047.0, 759.0, 1148.0, 912.0, 416.0, 798.0, 542.0, 1270.0, 743.0, 1087.0, 623.0, 861.0, 620.0, 459.0, 882.0, 1231.0, 805.0, 1312.0, 1057.0, 1085.0, 823.0, 1106.0, 1646.0, 508.0, 981.0, 1651.0, 535.0, 1277.0, 771.0, 721.0, 733.0, 857.0, 1145.0, 1631.0, 490.0, 1086.0, 1471.0, 1060.0, 537.0, 1705.0, 1130.0, 1796.0, 677.0, 1475.0, 1615.0, 796.0, 804.0, 1462.0, 852.0, 1619.0, 1710.0, 1469.0, 495.0, 1272.0, 1058.0, 1114.0, 1048.0, 1193.0, 778.0, 670.0, 640.0, 671.0, 1747.0, 748.0, 1798.0, 1239.0, 1377.0, 1526.0, 647.0, 1008.0, 1232.0, 1243.0, 524.0, 1282.0, 980.0, 726.0, 617.0, 1596.0, 499.0, 1225.0, 649.0, 1297.0, 1731.0, 903.0, 902.0, 949.0, 1032.0, 947.0, 587.0, 1385.0, 1337.0, 672.0, 1230.0, 888.0, 924.0, 703.0, 864.0, 625.0, 559.0, 1162.0, 1367.0, 899.0, 1259.0, 702.0, 751.0, 1384.0, 1738.0, 890.0, 646.0, 1036.0, 1358.0, 1777.0, 1359.0, 1353.0, 1787.0, 835.0, 531.0, 929.0, 1532.0, 1347.0, 1763.0, 812.0, 1279.0, 898.0, 485.0, 1349.0, 1278.0, 582.0, 777.0, 1076.0, 931.0, 1327.0, 1088.0, 1550.0, 651.0, 1510.0, 894.0, 876.0, 666.0, 694.0, 389.0, 750.0, 1323.0, 1360.0, 1304.0, 900.0, 1321.0, 1056.0, 1313.0, 612.0, 498.0, 705.0, 433.0, 844.0, 832.0, 953.0, 1156.0, 1015.0, 1572.0, 720.0, 1529.0, 1500.0, 1789.0, 850.0, 1311.0, 1442.0, 638.0, 1561.0, 1543.0, 765.0, 1302.0, 1074.0, 1785.0, 1686.0, 1788.0, 1563.0, 418.0, 880.0, 885.0, 1352.0, 793.0, 1424.0, 906.0, 1010.0, 1587.0, 747.0, 1525.0, 1432.0, 829.0, 954.0, 1309.0, 1038.0, 724.0, 1219.0, 917.0, 930.0, 764.0, 1018.0, 874.0, 1072.0, 848.0, 816.0, 1024.0, 1481.0, 1090.0, 512.0, 1275.0, 1603.0, 502.0, 684.0, 919.0, 1267.0, 1290.0, 1488.0, 1605.0, 1778.0, 1317.0, 1380.0, 1748.0, 1095.0, 1784.0, 1266.0, 1739.0, 1089.0, 1535.0, 1355.0, 659.0, 1185.0, 973.0, 871.0, 1016.0, 1539.0, 1531.0, 1517.0, 1536.0, 824.0, 1210.0, 1292.0, 1482.0, 996.0, 1390.0, 657.0, 1781.0, 1037.0, 1281.0, 938.0, 1152.0, 1042.0, 865.0, 1300.0, 1647.0, 643.0, 1061.0, 854.0, 1633.0, 1014.0, 1214.0, 1494.0, 1017.0, 1303.0, 901.0, 1523.0, 1791.0, 1756.0, 963.0, 866.0, 920.0, 1521.0, 1718.0, 1569.0, 1567.0, 942.0, 1511.0, 725.0, 1726.0, 1236.0, 753.0, 1100.0, 1356.0, 1444.0, 941.0, 867.0, 1582.0, 1293.0, 1053.0, 1507.0, 1571.0, 1334.0, 686.0, 1294.0, 1350.0, 1071.0, 1043.0, 1672.0, 1519.0, 1307.0, 1790.0, 1343.0, 1795.0, 1464.0, 1468.0, 1051.0, 484.0, 1706.0, 1050.0, 1687.0, 1446.0, 1182.0, 1746.0, 1601.0, 1562.0, 1181.0, 1513.0, 788.0, 1240.0, 1007.0, 1068.0, 1287.0, 1684.0, 1724.0, 921.0, 977.0, 810.0, 1069.0, 1206.0, 1797.0, 1269.0, 1580.0, 1653.0, 766.0, 624.0, 795.0, 1772.0, 1662.0, 1263.0, 1217.0, 1216.0, 1558.0, 1078.0, 1389.0, 1218.0, 1674.0, 744.0, 1163.0, 837.0, 951.0, 1480.0, 1677.0, 1276.0, 889.0, 768.0, 1226.0, 1166.0, 1679.0, 604.0, 1427.0, 1671.0, 803.0, 838.0, 1026.0, 1256.0, 650.0, 807.0, 611.0, 745.0, 700.0, 935.0, 966.0, 1151.0, 1227.0, 1557.0, 519.0, 1460.0, 1022.0, 633.0, 1154.0, 968.0, 577.0, 470.0, 1530.0, 616.0, 1433.0, 1387.0, 985.0, 1735.0, 856.0, 1172.0, 1254.0, 1683.0, 1725.0, 1417.0, 1406.0, 1415.0, 946.0, 1165.0, 992.0, 1136.0, 1599.0, 842.0, 1773.0, 1711.0, 1407.0, 1548.0, 533.0, 1189.0, 1709.0, 1484.0, 1740.0, 1413.0, 1691.0, 1409.0, 1744.0, 784.0, 1316.0, 1203.0, 1139.0, 1552.0, 1695.0, 1398.0, 1173.0, 948.0, 1395.0, 1082.0, 1175.0, 1600.0, 1723.0, 1450.0, 955.0, 785.0, 967.0, 1528.0, 1774.0, 1258.0, 1030.0, 1742.0, 1693.0, 1120.0, 1761.0, 1401.0, 701.0, 983.0, 1383.0, 1743.0, 1019.0, 693.0, 1260.0, 1466.0, 1257.0, 1623.0, 688.0, 1649.0, 1737.0, 1188.0, 971.0, 1113.0, 1020.0, 1400.0, 1146.0, 1577.0, 1255.0, 1093.0, 1754.0, 1591.0, 631.0, 891.0, 1540.0, 1420.0, 815.0, 1142.0, 979.0, 1176.0, 1496.0, 1681.0, 1046.0, 1609.0, 1613.0, 1274.0, 1075.0, 1190.0, 1611.0, 972.0, 806.0, 639.0, 937.0, 790.0, 1474.0, 1473.0, 1363.0, 1261.0, 1422.0, 841.0, 817.0, 825.0, 1617.0, 1618.0, 1366.0, 986.0, 1616.0, 1764.0, 621.0, 1135.0, 1451.0, 872.0, 1449.0, 1728.0, 664.0, 1428.0, 593.0, 984.0, 989.0, 1749.0, 1682.0, 862.0, 1445.0, 1119.0, 1141.0, 1084.0, 1626.0, 1381.0, 1655.0, 1622.0, 756.0, 877.0, 1241.0, 1308.0, 1610.0, 1660.0, 676.0, 1121.0, 1122.0, 853.0, 1123.0, 399.0, 1455.0, 770.0, 1125.0, 1249.0, 943.0, 1734.0, 1698.0, 1755.0, 1251.0, 952.0, 1454.0, 1246.0, 1129.0, 1234.0, 1642.0, 1375.0, 1131.0, 576.0], \"xaxis\": \"x\", \"y\": [99232, 61534, 15911, 8465, 5480, 4725, 3779, 3509, 3052, 2516, 2441, 2236, 2187, 1958, 1474, 1382, 1333, 1032, 915, 888, 842, 810, 730, 623, 621, 621, 599, 594, 578, 557, 524, 457, 407, 362, 326, 303, 295, 258, 257, 257, 253, 253, 244, 241, 226, 225, 223, 208, 205, 200, 198, 194, 192, 187, 183, 177, 174, 173, 173, 172, 172, 169, 163, 156, 152, 138, 133, 131, 121, 112, 109, 104, 103, 100, 99, 99, 96, 95, 92, 91, 90, 90, 88, 81, 81, 81, 81, 81, 80, 79, 78, 77, 76, 76, 74, 74, 74, 74, 73, 72, 71, 71, 68, 67, 67, 67, 67, 65, 65, 65, 65, 64, 62, 61, 61, 60, 60, 60, 59, 59, 58, 57, 57, 56, 54, 54, 53, 53, 53, 52, 51, 49, 48, 48, 48, 47, 47, 46, 46, 46, 46, 44, 44, 43, 43, 43, 43, 42, 42, 42, 41, 41, 41, 40, 40, 40, 40, 39, 39, 39, 39, 39, 39, 38, 38, 38, 38, 38, 38, 37, 37, 35, 35, 35, 34, 34, 33, 33, 32, 32, 31, 31, 31, 31, 29, 28, 28, 28, 27, 26, 25, 25, 25, 24, 24, 24, 24, 24, 23, 23, 23, 23, 23, 23, 22, 22, 21, 21, 21, 21, 21, 20, 20, 20, 20, 19, 19, 19, 19, 18, 18, 18, 18, 18, 18, 17, 17, 17, 17, 17, 17, 17, 16, 16, 16, 16, 16, 16, 16, 15, 15, 15, 15, 15, 15, 14, 14, 14, 14, 14, 14, 14, 14, 14, 13, 13, 13, 13, 13, 13, 13, 13, 13, 13, 13, 13, 13, 12, 12, 12, 12, 12, 12, 12, 12, 12, 12, 11, 11, 11, 11, 11, 11, 11, 11, 11, 11, 11, 11, 11, 11, 11, 11, 11, 11, 11, 10, 10, 10, 10, 10, 10, 10, 10, 10, 10, 10, 10, 10, 10, 10, 10, 10, 10, 10, 10, 10, 10, 9, 9, 9, 9, 9, 9, 9, 9, 9, 9, 9, 9, 9, 9, 9, 9, 9, 9, 9, 9, 9, 9, 9, 9, 9, 9, 9, 8, 8, 8, 8, 8, 8, 8, 8, 8, 8, 8, 8, 8, 8, 8, 8, 8, 8, 8, 8, 8, 8, 8, 7, 7, 7, 7, 7, 7, 7, 7, 7, 7, 7, 7, 7, 7, 7, 7, 7, 7, 7, 7, 7, 7, 7, 7, 7, 7, 7, 7, 7, 7, 7, 7, 7, 7, 7, 7, 7, 6, 6, 6, 6, 6, 6, 6, 6, 6, 6, 6, 6, 6, 6, 6, 6, 6, 6, 6, 6, 6, 6, 6, 6, 6, 6, 6, 6, 6, 6, 6, 6, 6, 6, 6, 6, 6, 6, 6, 6, 6, 6, 6, 6, 6, 6, 6, 6, 6, 6, 6, 6, 6, 6, 5, 5, 5, 5, 5, 5, 5, 5, 5, 5, 5, 5, 5, 5, 5, 5, 5, 5, 5, 5, 5, 5, 5, 5, 5, 5, 5, 5, 5, 5, 5, 5, 5, 5, 5, 5, 5, 5, 5, 5, 5, 5, 5, 5, 5, 5, 5, 5, 5, 5, 5, 5, 4, 4, 4, 4, 4, 4, 4, 4, 4, 4, 4, 4, 4, 4, 4, 4, 4, 4, 4, 4, 4, 4, 4, 4, 4, 4, 4, 4, 4, 4, 4, 4, 4, 4, 4, 4, 4, 4, 4, 4, 4, 4, 4, 4, 4, 4, 4, 4, 4, 4, 4, 4, 4, 4, 4, 4, 4, 4, 4, 4, 4, 4, 4, 4, 4, 4, 4, 4, 4, 4, 4, 4, 4, 4, 4, 4, 4, 4, 4, 4, 4, 4, 4, 4, 4, 4, 4, 4, 4, 4, 4, 4, 4, 4, 4, 3, 3, 3, 3, 3, 3, 3, 3, 3, 3, 3, 3, 3, 3, 3, 3, 3, 3, 3, 3, 3, 3, 3, 3, 3, 3, 3, 3, 3, 3, 3, 3, 3, 3, 3, 3, 3, 3, 3, 3, 3, 3, 3, 3, 3, 3, 3, 3, 3, 3, 3, 3, 3, 3, 3, 3, 3, 3, 3, 3, 3, 3, 3, 3, 3, 3, 3, 3, 3, 3, 3, 3, 3, 3, 3, 3, 3, 3, 3, 3, 3, 3, 3, 3, 3, 3, 3, 3, 3, 3, 3, 3, 3, 3, 3, 3, 3, 3, 3, 3, 3, 3, 3, 3, 3, 3, 3, 3, 3, 3, 3, 3, 3, 3, 3, 3, 3, 3, 3, 3, 3, 3, 3, 3, 3, 3, 3, 3, 3, 3, 3, 3, 3, 3, 3, 3, 3, 3, 3, 3, 3, 3, 3, 3, 3, 3, 3, 3, 3, 3, 3, 3, 3, 3, 3, 3, 3, 3, 3, 3, 3, 3, 3, 2, 2, 2, 2, 2, 2, 2, 2, 2, 2, 2, 2, 2, 2, 2, 2, 2, 2, 2, 2, 2, 2, 2, 2, 2, 2, 2, 2, 2, 2, 2, 2, 2, 2, 2, 2, 2, 2, 2, 2, 2, 2, 2, 2, 2, 2, 2, 2, 2, 2, 2, 2, 2, 2, 2, 2, 2, 2, 2, 2, 2, 2, 2, 2, 2, 2, 2, 2, 2, 2, 2, 2, 2, 2, 2, 2, 2, 2, 2, 2, 2, 2, 2, 2, 2, 2, 2, 2, 2, 2, 2, 2, 2, 2, 2, 2, 2, 2, 2, 2, 2, 2, 2, 2, 2, 2, 2, 2, 2, 2, 2, 2, 2, 2, 2, 2, 2, 2, 2, 2, 2, 2, 2, 2, 2, 2, 2, 2, 2, 2, 2, 2, 2, 2, 2, 2, 2, 2, 2, 2, 2, 2, 2, 2, 2, 2, 2, 2, 2, 2, 2, 2, 2, 2, 2, 2, 2, 2, 2, 2, 2, 2, 2, 2, 2, 2, 2, 2, 2, 2, 2, 2, 2, 2, 2, 2, 2, 2, 2, 2, 2, 2, 2, 2, 2, 2, 2, 2, 2, 2, 2, 2, 2, 2, 2, 2, 2, 2, 2, 2, 2, 2, 2, 2, 2, 2, 2, 2, 2, 2, 2, 2, 2, 2, 2, 2, 2, 2, 2, 2, 2, 2, 2, 2, 2, 2, 2, 2, 2, 2, 2, 2, 2, 2, 2, 2, 2, 2, 2, 2, 2, 1, 1, 1, 1, 1, 1, 1, 1, 1, 1, 1, 1, 1, 1, 1, 1, 1, 1, 1, 1, 1, 1, 1, 1, 1, 1, 1, 1, 1, 1, 1, 1, 1, 1, 1, 1, 1, 1, 1, 1, 1, 1, 1, 1, 1, 1, 1, 1, 1, 1, 1, 1, 1, 1, 1, 1, 1, 1, 1, 1, 1, 1, 1, 1, 1, 1, 1, 1, 1, 1, 1, 1, 1, 1, 1, 1, 1, 1, 1, 1, 1, 1, 1, 1, 1, 1, 1, 1, 1, 1, 1, 1, 1, 1, 1, 1, 1, 1, 1, 1, 1, 1, 1, 1, 1, 1, 1, 1, 1, 1, 1, 1, 1, 1, 1, 1, 1, 1, 1, 1, 1, 1, 1, 1, 1, 1, 1, 1, 1, 1, 1, 1, 1, 1, 1, 1, 1, 1, 1, 1, 1, 1, 1, 1, 1, 1, 1, 1, 1, 1, 1, 1, 1, 1, 1, 1, 1, 1, 1, 1, 1, 1, 1, 1, 1, 1, 1, 1, 1, 1, 1, 1, 1, 1, 1, 1, 1, 1, 1, 1, 1, 1, 1, 1, 1, 1, 1, 1, 1, 1, 1, 1, 1, 1, 1, 1, 1, 1, 1, 1, 1, 1, 1, 1, 1, 1, 1, 1, 1, 1, 1, 1, 1, 1, 1, 1, 1, 1, 1, 1, 1, 1, 1, 1, 1, 1, 1, 1, 1, 1, 1, 1, 1, 1, 1, 1, 1, 1, 1, 1, 1, 1, 1, 1, 1, 1, 1, 1, 1, 1, 1, 1, 1, 1, 1, 1, 1, 1, 1, 1, 1, 1, 1, 1, 1, 1, 1, 1, 1, 1, 1, 1, 1, 1, 1, 1, 1, 1, 1, 1, 1, 1, 1, 1, 1, 1, 1, 1, 1, 1, 1, 1, 1, 1, 1, 1, 1, 1, 1, 1, 1, 1, 1, 1, 1, 1, 1, 1, 1, 1, 1, 1, 1, 1, 1, 1, 1, 1, 1, 1, 1, 1, 1, 1, 1, 1, 1, 1, 1, 1, 1, 1, 1, 1, 1, 1, 1, 1, 1, 1, 1, 1, 1, 1, 1, 1, 1, 1, 1, 1, 1, 1, 1, 1, 1, 1, 1, 1, 1, 1, 1, 1, 1, 1, 1, 1, 1, 1, 1, 1, 1, 1, 1, 1, 1, 1, 1, 1, 1, 1, 1, 1, 1, 1, 1, 1, 1, 1, 1, 1, 1, 1, 1, 1, 1], \"yaxis\": \"y\"}],\n",
       "                        {\"barmode\": \"relative\", \"legend\": {\"tracegroupgap\": 0}, \"margin\": {\"t\": 60}, \"template\": {\"data\": {\"bar\": [{\"error_x\": {\"color\": \"#2a3f5f\"}, \"error_y\": {\"color\": \"#2a3f5f\"}, \"marker\": {\"line\": {\"color\": \"#E5ECF6\", \"width\": 0.5}}, \"type\": \"bar\"}], \"barpolar\": [{\"marker\": {\"line\": {\"color\": \"#E5ECF6\", \"width\": 0.5}}, \"type\": \"barpolar\"}], \"carpet\": [{\"aaxis\": {\"endlinecolor\": \"#2a3f5f\", \"gridcolor\": \"white\", \"linecolor\": \"white\", \"minorgridcolor\": \"white\", \"startlinecolor\": \"#2a3f5f\"}, \"baxis\": {\"endlinecolor\": \"#2a3f5f\", \"gridcolor\": \"white\", \"linecolor\": \"white\", \"minorgridcolor\": \"white\", \"startlinecolor\": \"#2a3f5f\"}, \"type\": \"carpet\"}], \"choropleth\": [{\"colorbar\": {\"outlinewidth\": 0, \"ticks\": \"\"}, \"type\": \"choropleth\"}], \"contour\": [{\"colorbar\": {\"outlinewidth\": 0, \"ticks\": \"\"}, \"colorscale\": [[0.0, \"#0d0887\"], [0.1111111111111111, \"#46039f\"], [0.2222222222222222, \"#7201a8\"], [0.3333333333333333, \"#9c179e\"], [0.4444444444444444, \"#bd3786\"], [0.5555555555555556, \"#d8576b\"], [0.6666666666666666, \"#ed7953\"], [0.7777777777777778, \"#fb9f3a\"], [0.8888888888888888, \"#fdca26\"], [1.0, \"#f0f921\"]], \"type\": \"contour\"}], \"contourcarpet\": [{\"colorbar\": {\"outlinewidth\": 0, \"ticks\": \"\"}, \"type\": \"contourcarpet\"}], \"heatmap\": [{\"colorbar\": {\"outlinewidth\": 0, \"ticks\": \"\"}, \"colorscale\": [[0.0, \"#0d0887\"], [0.1111111111111111, \"#46039f\"], [0.2222222222222222, \"#7201a8\"], [0.3333333333333333, \"#9c179e\"], [0.4444444444444444, \"#bd3786\"], [0.5555555555555556, \"#d8576b\"], [0.6666666666666666, \"#ed7953\"], [0.7777777777777778, \"#fb9f3a\"], [0.8888888888888888, \"#fdca26\"], [1.0, \"#f0f921\"]], \"type\": \"heatmap\"}], \"heatmapgl\": [{\"colorbar\": {\"outlinewidth\": 0, \"ticks\": \"\"}, \"colorscale\": [[0.0, \"#0d0887\"], [0.1111111111111111, \"#46039f\"], [0.2222222222222222, \"#7201a8\"], [0.3333333333333333, \"#9c179e\"], [0.4444444444444444, \"#bd3786\"], [0.5555555555555556, \"#d8576b\"], [0.6666666666666666, \"#ed7953\"], [0.7777777777777778, \"#fb9f3a\"], [0.8888888888888888, \"#fdca26\"], [1.0, \"#f0f921\"]], \"type\": \"heatmapgl\"}], \"histogram\": [{\"marker\": {\"colorbar\": {\"outlinewidth\": 0, \"ticks\": \"\"}}, \"type\": \"histogram\"}], \"histogram2d\": [{\"colorbar\": {\"outlinewidth\": 0, \"ticks\": \"\"}, \"colorscale\": [[0.0, \"#0d0887\"], [0.1111111111111111, \"#46039f\"], [0.2222222222222222, \"#7201a8\"], [0.3333333333333333, \"#9c179e\"], [0.4444444444444444, \"#bd3786\"], [0.5555555555555556, \"#d8576b\"], [0.6666666666666666, \"#ed7953\"], [0.7777777777777778, \"#fb9f3a\"], [0.8888888888888888, \"#fdca26\"], [1.0, \"#f0f921\"]], \"type\": \"histogram2d\"}], \"histogram2dcontour\": [{\"colorbar\": {\"outlinewidth\": 0, \"ticks\": \"\"}, \"colorscale\": [[0.0, \"#0d0887\"], [0.1111111111111111, \"#46039f\"], [0.2222222222222222, \"#7201a8\"], [0.3333333333333333, \"#9c179e\"], [0.4444444444444444, \"#bd3786\"], [0.5555555555555556, \"#d8576b\"], [0.6666666666666666, \"#ed7953\"], [0.7777777777777778, \"#fb9f3a\"], [0.8888888888888888, \"#fdca26\"], [1.0, \"#f0f921\"]], \"type\": \"histogram2dcontour\"}], \"mesh3d\": [{\"colorbar\": {\"outlinewidth\": 0, \"ticks\": \"\"}, \"type\": \"mesh3d\"}], \"parcoords\": [{\"line\": {\"colorbar\": {\"outlinewidth\": 0, \"ticks\": \"\"}}, \"type\": \"parcoords\"}], \"pie\": [{\"automargin\": true, \"type\": \"pie\"}], \"scatter\": [{\"marker\": {\"colorbar\": {\"outlinewidth\": 0, \"ticks\": \"\"}}, \"type\": \"scatter\"}], \"scatter3d\": [{\"line\": {\"colorbar\": {\"outlinewidth\": 0, \"ticks\": \"\"}}, \"marker\": {\"colorbar\": {\"outlinewidth\": 0, \"ticks\": \"\"}}, \"type\": \"scatter3d\"}], \"scattercarpet\": [{\"marker\": {\"colorbar\": {\"outlinewidth\": 0, \"ticks\": \"\"}}, \"type\": \"scattercarpet\"}], \"scattergeo\": [{\"marker\": {\"colorbar\": {\"outlinewidth\": 0, \"ticks\": \"\"}}, \"type\": \"scattergeo\"}], \"scattergl\": [{\"marker\": {\"colorbar\": {\"outlinewidth\": 0, \"ticks\": \"\"}}, \"type\": \"scattergl\"}], \"scattermapbox\": [{\"marker\": {\"colorbar\": {\"outlinewidth\": 0, \"ticks\": \"\"}}, \"type\": \"scattermapbox\"}], \"scatterpolar\": [{\"marker\": {\"colorbar\": {\"outlinewidth\": 0, \"ticks\": \"\"}}, \"type\": \"scatterpolar\"}], \"scatterpolargl\": [{\"marker\": {\"colorbar\": {\"outlinewidth\": 0, \"ticks\": \"\"}}, \"type\": \"scatterpolargl\"}], \"scatterternary\": [{\"marker\": {\"colorbar\": {\"outlinewidth\": 0, \"ticks\": \"\"}}, \"type\": \"scatterternary\"}], \"surface\": [{\"colorbar\": {\"outlinewidth\": 0, \"ticks\": \"\"}, \"colorscale\": [[0.0, \"#0d0887\"], [0.1111111111111111, \"#46039f\"], [0.2222222222222222, \"#7201a8\"], [0.3333333333333333, \"#9c179e\"], [0.4444444444444444, \"#bd3786\"], [0.5555555555555556, \"#d8576b\"], [0.6666666666666666, \"#ed7953\"], [0.7777777777777778, \"#fb9f3a\"], [0.8888888888888888, \"#fdca26\"], [1.0, \"#f0f921\"]], \"type\": \"surface\"}], \"table\": [{\"cells\": {\"fill\": {\"color\": \"#EBF0F8\"}, \"line\": {\"color\": \"white\"}}, \"header\": {\"fill\": {\"color\": \"#C8D4E3\"}, \"line\": {\"color\": \"white\"}}, \"type\": \"table\"}]}, \"layout\": {\"annotationdefaults\": {\"arrowcolor\": \"#2a3f5f\", \"arrowhead\": 0, \"arrowwidth\": 1}, \"coloraxis\": {\"colorbar\": {\"outlinewidth\": 0, \"ticks\": \"\"}}, \"colorscale\": {\"diverging\": [[0, \"#8e0152\"], [0.1, \"#c51b7d\"], [0.2, \"#de77ae\"], [0.3, \"#f1b6da\"], [0.4, \"#fde0ef\"], [0.5, \"#f7f7f7\"], [0.6, \"#e6f5d0\"], [0.7, \"#b8e186\"], [0.8, \"#7fbc41\"], [0.9, \"#4d9221\"], [1, \"#276419\"]], \"sequential\": [[0.0, \"#0d0887\"], [0.1111111111111111, \"#46039f\"], [0.2222222222222222, \"#7201a8\"], [0.3333333333333333, \"#9c179e\"], [0.4444444444444444, \"#bd3786\"], [0.5555555555555556, \"#d8576b\"], [0.6666666666666666, \"#ed7953\"], [0.7777777777777778, \"#fb9f3a\"], [0.8888888888888888, \"#fdca26\"], [1.0, \"#f0f921\"]], \"sequentialminus\": [[0.0, \"#0d0887\"], [0.1111111111111111, \"#46039f\"], [0.2222222222222222, \"#7201a8\"], [0.3333333333333333, \"#9c179e\"], [0.4444444444444444, \"#bd3786\"], [0.5555555555555556, \"#d8576b\"], [0.6666666666666666, \"#ed7953\"], [0.7777777777777778, \"#fb9f3a\"], [0.8888888888888888, \"#fdca26\"], [1.0, \"#f0f921\"]]}, \"colorway\": [\"#636efa\", \"#EF553B\", \"#00cc96\", \"#ab63fa\", \"#FFA15A\", \"#19d3f3\", \"#FF6692\", \"#B6E880\", \"#FF97FF\", \"#FECB52\"], \"font\": {\"color\": \"#2a3f5f\"}, \"geo\": {\"bgcolor\": \"white\", \"lakecolor\": \"white\", \"landcolor\": \"#E5ECF6\", \"showlakes\": true, \"showland\": true, \"subunitcolor\": \"white\"}, \"hoverlabel\": {\"align\": \"left\"}, \"hovermode\": \"closest\", \"mapbox\": {\"style\": \"light\"}, \"paper_bgcolor\": \"white\", \"plot_bgcolor\": \"#E5ECF6\", \"polar\": {\"angularaxis\": {\"gridcolor\": \"white\", \"linecolor\": \"white\", \"ticks\": \"\"}, \"bgcolor\": \"#E5ECF6\", \"radialaxis\": {\"gridcolor\": \"white\", \"linecolor\": \"white\", \"ticks\": \"\"}}, \"scene\": {\"xaxis\": {\"backgroundcolor\": \"#E5ECF6\", \"gridcolor\": \"white\", \"gridwidth\": 2, \"linecolor\": \"white\", \"showbackground\": true, \"ticks\": \"\", \"zerolinecolor\": \"white\"}, \"yaxis\": {\"backgroundcolor\": \"#E5ECF6\", \"gridcolor\": \"white\", \"gridwidth\": 2, \"linecolor\": \"white\", \"showbackground\": true, \"ticks\": \"\", \"zerolinecolor\": \"white\"}, \"zaxis\": {\"backgroundcolor\": \"#E5ECF6\", \"gridcolor\": \"white\", \"gridwidth\": 2, \"linecolor\": \"white\", \"showbackground\": true, \"ticks\": \"\", \"zerolinecolor\": \"white\"}}, \"shapedefaults\": {\"line\": {\"color\": \"#2a3f5f\"}}, \"ternary\": {\"aaxis\": {\"gridcolor\": \"white\", \"linecolor\": \"white\", \"ticks\": \"\"}, \"baxis\": {\"gridcolor\": \"white\", \"linecolor\": \"white\", \"ticks\": \"\"}, \"bgcolor\": \"#E5ECF6\", \"caxis\": {\"gridcolor\": \"white\", \"linecolor\": \"white\", \"ticks\": \"\"}}, \"title\": {\"x\": 0.05}, \"xaxis\": {\"automargin\": true, \"gridcolor\": \"white\", \"linecolor\": \"white\", \"ticks\": \"\", \"title\": {\"standoff\": 15}, \"zerolinecolor\": \"white\", \"zerolinewidth\": 2}, \"yaxis\": {\"automargin\": true, \"gridcolor\": \"white\", \"linecolor\": \"white\", \"ticks\": \"\", \"title\": {\"standoff\": 15}, \"zerolinecolor\": \"white\", \"zerolinewidth\": 2}}}, \"xaxis\": {\"anchor\": \"y\", \"domain\": [0.0, 1.0], \"title\": {\"text\": \"x\"}}, \"yaxis\": {\"anchor\": \"x\", \"domain\": [0.0, 1.0], \"title\": {\"text\": \"y\"}}},\n",
       "                        {\"responsive\": true}\n",
       "                    ).then(function(){\n",
       "                            \n",
       "var gd = document.getElementById('54b22e5b-3961-4401-af7f-ebe7e41d3e19');\n",
       "var x = new MutationObserver(function (mutations, observer) {{\n",
       "        var display = window.getComputedStyle(gd).display;\n",
       "        if (!display || display === 'none') {{\n",
       "            console.log([gd, 'removed!']);\n",
       "            Plotly.purge(gd);\n",
       "            observer.disconnect();\n",
       "        }}\n",
       "}});\n",
       "\n",
       "// Listen for the removal of the full notebook cells\n",
       "var notebookContainer = gd.closest('#notebook-container');\n",
       "if (notebookContainer) {{\n",
       "    x.observe(notebookContainer, {childList: true});\n",
       "}}\n",
       "\n",
       "// Listen for the clearing of the current output cell\n",
       "var outputEl = gd.closest('.output');\n",
       "if (outputEl) {{\n",
       "    x.observe(outputEl, {childList: true});\n",
       "}}\n",
       "\n",
       "                        })\n",
       "                };\n",
       "                });\n",
       "            </script>\n",
       "        </div>"
      ]
     },
     "metadata": {},
     "output_type": "display_data"
    }
   ],
   "source": [
    "px.bar(x = train_df_add[train_df.target == 0].first_sess_site_duration.value_counts().keys()\n",
    "      , y = train_df_add[train_df.target == 0].first_sess_site_duration.value_counts()\n",
    "      )"
   ]
  },
  {
   "cell_type": "code",
   "execution_count": null,
   "metadata": {},
   "outputs": [],
   "source": []
  }
 ],
 "metadata": {
  "kernelspec": {
   "display_name": "Python 3",
   "language": "python",
   "name": "python3"
  },
  "language_info": {
   "codemirror_mode": {
    "name": "ipython",
    "version": 3
   },
   "file_extension": ".py",
   "mimetype": "text/x-python",
   "name": "python",
   "nbconvert_exporter": "python",
   "pygments_lexer": "ipython3",
   "version": "3.7.4"
  }
 },
 "nbformat": 4,
 "nbformat_minor": 4
}
