{
 "cells": [
  {
   "cell_type": "code",
   "execution_count": 1,
   "metadata": {},
   "outputs": [],
   "source": [
    "%load_ext watermark"
   ]
  },
  {
   "cell_type": "code",
   "execution_count": 2,
   "metadata": {},
   "outputs": [
    {
     "name": "stdout",
     "output_type": "stream",
     "text": [
      "Python implementation: CPython\n",
      "Python version       : 3.7.4\n",
      "IPython version      : 7.8.0\n",
      "\n",
      "numpy      : 1.17.2\n",
      "scipy      : 1.4.1\n",
      "pandas     : 1.0.3\n",
      "matplotlib : 3.2.1\n",
      "statsmodels: 0.11.1\n",
      "sklearn    : 0.21.3\n",
      "\n",
      "Compiler    : GCC 7.3.0\n",
      "OS          : Linux\n",
      "Release     : 5.4.0-62-generic\n",
      "Machine     : x86_64\n",
      "Processor   : x86_64\n",
      "CPU cores   : 4\n",
      "Architecture: 64bit\n",
      "\n",
      "Git hash: 77dafa42a619730d84e03949ac152177b92bb669\n",
      "\n"
     ]
    }
   ],
   "source": [
    "%watermark -v -m -p numpy,scipy,pandas,matplotlib,statsmodels,sklearn -g"
   ]
  },
  {
   "cell_type": "code",
   "execution_count": 3,
   "metadata": {},
   "outputs": [],
   "source": [
    "import os\n",
    "import pickle\n",
    "import pandas as pd\n",
    "import numpy as np\n",
    "import itertools\n",
    "import warnings\n",
    "#from tqdm.notebook import tqdm\n",
    "from tqdm import tqdm\n",
    "\n",
    "%matplotlib inline\n",
    "from matplotlib import pyplot as plt\n",
    "\n",
    "from sklearn.model_selection import learning_curve"
   ]
  },
  {
   "cell_type": "code",
   "execution_count": 4,
   "metadata": {},
   "outputs": [],
   "source": [
    "from sklearn.model_selection import train_test_split, cross_val_score, StratifiedKFold, GridSearchCV\n",
    "from sklearn.metrics import accuracy_score, f1_score"
   ]
  },
  {
   "cell_type": "code",
   "execution_count": 5,
   "metadata": {},
   "outputs": [],
   "source": [
    "from sklearn.neighbors import KNeighborsClassifier\n",
    "from sklearn.ensemble import RandomForestClassifier\n",
    "from sklearn.linear_model import LogisticRegression, LogisticRegressionCV\n",
    "from sklearn.svm import LinearSVC"
   ]
  },
  {
   "cell_type": "code",
   "execution_count": null,
   "metadata": {},
   "outputs": [],
   "source": []
  },
  {
   "cell_type": "code",
   "execution_count": 6,
   "metadata": {},
   "outputs": [],
   "source": [
    "PATH_TO_DATA = './my_data'\n",
    "ANSW = './answers'"
   ]
  },
  {
   "cell_type": "code",
   "execution_count": 7,
   "metadata": {},
   "outputs": [],
   "source": [
    "def write_answer_to_file(answer, file_address):\n",
    "    if isinstance(answer, list) or isinstance(answer, np.ndarray):\n",
    "        with open(os.path.join(ANSW, file_address), 'w') as out_f:\n",
    "            for idx, elmnt in enumerate(answer):\n",
    "                if idx == 0:\n",
    "                    out_f.write(str(elmnt))\n",
    "                else:\n",
    "                    out_f.write(' ' + str(elmnt))\n",
    "    else:\n",
    "        with open(os.path.join(ANSW, file_address), 'w') as out_f:\n",
    "            out_f.write(str(answer))"
   ]
  },
  {
   "cell_type": "code",
   "execution_count": null,
   "metadata": {},
   "outputs": [],
   "source": []
  },
  {
   "cell_type": "markdown",
   "metadata": {},
   "source": [
    "## Часть 1. Сравнение нескольких алгоритмов на сессиях из 10 сайтов"
   ]
  },
  {
   "cell_type": "code",
   "execution_count": 8,
   "metadata": {},
   "outputs": [
    {
     "data": {
      "text/plain": [
       "(14061, 4913)"
      ]
     },
     "execution_count": 8,
     "metadata": {},
     "output_type": "execute_result"
    }
   ],
   "source": [
    "with open(os.path.join(PATH_TO_DATA, \n",
    "         'X_sp_10users.pkl'), 'rb') as X_sparse_10users_pkl:\n",
    "    X_sparse_10users = pickle.load(X_sparse_10users_pkl)\n",
    "with open(os.path.join(PATH_TO_DATA, \n",
    "                       'y_10users.pkl'), 'rb') as y_10users_pkl:\n",
    "    y_10users = pickle.load(y_10users_pkl)\n",
    "\n",
    "X_sparse_10users.shape"
   ]
  },
  {
   "cell_type": "code",
   "execution_count": 11,
   "metadata": {},
   "outputs": [],
   "source": [
    "X_train, X_valid, y_train, y_valid = train_test_split(X_sparse_10users, y_10users, \n",
    "                                                      test_size=0.3, \n",
    "                                                     random_state=17, stratify=y_10users)\n",
    "skf = StratifiedKFold(n_splits=3, shuffle=True, random_state=17)"
   ]
  },
  {
   "cell_type": "code",
   "execution_count": 12,
   "metadata": {},
   "outputs": [],
   "source": [
    "def plot_validation_curves(param_values, grid_cv_results_):\n",
    "    train_mu, train_std = grid_cv_results_['mean_train_score'], grid_cv_results_['std_train_score']\n",
    "    #valid_mu, valid_std = grid_cv_results_['mean_test_score'], grid_cv_results_['std_test_score']\n",
    "    train_line = plt.plot(param_values, train_mu, '-', label='train', color='green')\n",
    "    #valid_line = plt.plot(param_values, valid_mu, '-', label='test', color='red')\n",
    "    plt.fill_between(param_values, train_mu - train_std, train_mu + train_std, edgecolor='none',\n",
    "                     facecolor=train_line[0].get_color(), alpha=0.2)\n",
    "    #plt.fill_between(param_values, valid_mu - valid_std, valid_mu + valid_std, edgecolor='none',\n",
    "    #                 facecolor=valid_line[0].get_color(), alpha=0.2)\n",
    "    plt.legend()"
   ]
  },
  {
   "cell_type": "code",
   "execution_count": null,
   "metadata": {},
   "outputs": [],
   "source": []
  },
  {
   "cell_type": "markdown",
   "metadata": {},
   "source": [
    "KNeighborsClassifier"
   ]
  },
  {
   "cell_type": "code",
   "execution_count": 13,
   "metadata": {},
   "outputs": [],
   "source": [
    "def get_metrics(inp_clf, inp_skf, inp_x_tr, inp_y_tr, inp_x_val, inp_y_val):\n",
    "    acc_cv = []\n",
    "    acc_val = 0\n",
    "    \n",
    "    for train_index, test_index in skf.split(inp_x_tr, inp_y_tr):\n",
    "        clf = inp_clf\n",
    "        clf.fit(inp_x_tr[train_index], inp_y_tr[train_index])\n",
    "        predicted = clf.predict(inp_x_tr[test_index])\n",
    "        acc_cv.append(accuracy_score(inp_y_tr[test_index], predicted))\n",
    "        #print('Score: ', clf.score(inp_x_tr[test_index], inp_y_tr[test_index]))\n",
    "    \n",
    "    clf = inp_clf\n",
    "    clf.fit(inp_x_tr, inp_y_tr)\n",
    "\n",
    "    predicted = clf.predict(inp_x_val)\n",
    "    acc_val = accuracy_score(inp_y_val, predicted)\n",
    "\n",
    "    return acc_cv, acc_val"
   ]
  },
  {
   "cell_type": "code",
   "execution_count": 14,
   "metadata": {},
   "outputs": [],
   "source": [
    "answ1_1, answ1_2 = get_metrics(KNeighborsClassifier(n_neighbors=100, n_jobs=-1), skf, X_train, y_train, X_valid, y_valid)"
   ]
  },
  {
   "cell_type": "code",
   "execution_count": 15,
   "metadata": {},
   "outputs": [
    {
     "data": {
      "text/plain": [
       "[0.56, 0.58]"
      ]
     },
     "execution_count": 15,
     "metadata": {},
     "output_type": "execute_result"
    }
   ],
   "source": [
    "answ1 = [round(np.mean(answ1_1), 2), round(answ1_2, 2)]\n",
    "answ1"
   ]
  },
  {
   "cell_type": "code",
   "execution_count": null,
   "metadata": {},
   "outputs": [],
   "source": []
  },
  {
   "cell_type": "markdown",
   "metadata": {},
   "source": [
    "RandomForestClassifier"
   ]
  },
  {
   "cell_type": "code",
   "execution_count": 16,
   "metadata": {},
   "outputs": [],
   "source": [
    "clfRF = RandomForestClassifier(n_estimators=100, n_jobs=-1, oob_score=True, random_state=17)"
   ]
  },
  {
   "cell_type": "code",
   "execution_count": 17,
   "metadata": {},
   "outputs": [
    {
     "data": {
      "text/plain": [
       "([0.7214611872146118, 0.7136322049405307, 0.714765100671141],\n",
       " 0.7312159279450107)"
      ]
     },
     "execution_count": 17,
     "metadata": {},
     "output_type": "execute_result"
    }
   ],
   "source": [
    "oob_score, acc_rf = get_metrics(clfRF, skf, X_train, y_train, X_valid, y_valid)\n",
    "oob_score, acc_rf"
   ]
  },
  {
   "cell_type": "code",
   "execution_count": 18,
   "metadata": {},
   "outputs": [
    {
     "data": {
      "text/plain": [
       "[0.72, 0.73]"
      ]
     },
     "execution_count": 18,
     "metadata": {},
     "output_type": "execute_result"
    }
   ],
   "source": [
    "answ2 = [round(np.mean(oob_score), 2), round(acc_rf, 2)]\n",
    "answ2"
   ]
  },
  {
   "cell_type": "code",
   "execution_count": 19,
   "metadata": {},
   "outputs": [],
   "source": [
    "write_answer_to_file(answ2, 'answer4_2.txt')"
   ]
  },
  {
   "cell_type": "code",
   "execution_count": null,
   "metadata": {},
   "outputs": [],
   "source": []
  },
  {
   "cell_type": "markdown",
   "metadata": {},
   "source": [
    "LogisticRegression"
   ]
  },
  {
   "cell_type": "code",
   "execution_count": 20,
   "metadata": {},
   "outputs": [],
   "source": [
    "clfLR = LogisticRegression(random_state=17, n_jobs=-1)"
   ]
  },
  {
   "cell_type": "code",
   "execution_count": 21,
   "metadata": {},
   "outputs": [
    {
     "name": "stderr",
     "output_type": "stream",
     "text": [
      "/home/voloch/Anaconda3/lib/python3.7/site-packages/sklearn/linear_model/logistic.py:432: FutureWarning: Default solver will be changed to 'lbfgs' in 0.22. Specify a solver to silence this warning.\n",
      "  FutureWarning)\n",
      "/home/voloch/Anaconda3/lib/python3.7/site-packages/sklearn/linear_model/logistic.py:469: FutureWarning: Default multi_class will be changed to 'auto' in 0.22. Specify the multi_class option to silence this warning.\n",
      "  \"this warning.\", FutureWarning)\n",
      "/home/voloch/Anaconda3/lib/python3.7/site-packages/sklearn/linear_model/logistic.py:1544: UserWarning: 'n_jobs' > 1 does not have any effect when 'solver' is set to 'liblinear'. Got 'n_jobs' = 4.\n",
      "  \" = {}.\".format(effective_n_jobs(self.n_jobs)))\n"
     ]
    },
    {
     "data": {
      "text/plain": [
       "([0.7622526636225266, 0.7605977432143947, 0.7647956070774863],\n",
       " 0.7817018250770325)"
      ]
     },
     "execution_count": 21,
     "metadata": {},
     "output_type": "execute_result"
    }
   ],
   "source": [
    "acc_cv_lr, acc_lr = get_metrics(clfLR, skf, X_train, y_train, X_valid, y_valid)\n",
    "acc_cv_lr, acc_lr"
   ]
  },
  {
   "cell_type": "code",
   "execution_count": 22,
   "metadata": {},
   "outputs": [
    {
     "name": "stdout",
     "output_type": "stream",
     "text": [
      "CPU times: user 3.85 s, sys: 113 ms, total: 3.96 s\n",
      "Wall time: 7.98 s\n"
     ]
    },
    {
     "name": "stderr",
     "output_type": "stream",
     "text": [
      "/home/voloch/Anaconda3/lib/python3.7/site-packages/sklearn/linear_model/logistic.py:947: ConvergenceWarning: lbfgs failed to converge. Increase the number of iterations.\n",
      "  \"of iterations.\", ConvergenceWarning)\n"
     ]
    },
    {
     "data": {
      "text/plain": [
       "LogisticRegressionCV(Cs=array([1.00000000e-04, 4.64158883e-04, 2.15443469e-03, 1.00000000e-02,\n",
       "       4.64158883e-02, 2.15443469e-01, 1.00000000e+00, 4.64158883e+00,\n",
       "       2.15443469e+01, 1.00000000e+02]),\n",
       "                     class_weight=None,\n",
       "                     cv=StratifiedKFold(n_splits=3, random_state=17, shuffle=True),\n",
       "                     dual=False, fit_intercept=True, intercept_scaling=1.0,\n",
       "                     l1_ratios=None, max_iter=100, multi_class='multinomial',\n",
       "                     n_jobs=-1, penalty='l2', random_state=17, refit=True,\n",
       "                     scoring=None, solver='lbfgs', tol=0.0001, verbose=0)"
      ]
     },
     "execution_count": 22,
     "metadata": {},
     "output_type": "execute_result"
    }
   ],
   "source": [
    "%%time\n",
    "logit_c_values1 = np.logspace(-4, 2, 10)\n",
    "\n",
    "logit_grid_searcher1 = LogisticRegressionCV(Cs = logit_c_values1, multi_class='multinomial'\n",
    "                                            , cv = skf, random_state=17, n_jobs=-1)\n",
    "logit_grid_searcher1.fit(X_train, y_train)"
   ]
  },
  {
   "cell_type": "code",
   "execution_count": 23,
   "metadata": {},
   "outputs": [],
   "source": [
    "def get_metrics_v2(inp_logit_c_values, inp_logit_grid_searcher):\n",
    "\n",
    "    ret_df = pd.DataFrame(index = inp_logit_c_values, columns = [])\n",
    "\n",
    "    score_list = []\n",
    "    # class\n",
    "    for idx, el in enumerate(list(inp_logit_grid_searcher.scores_.values())):\n",
    "        ret_df['class' + str(idx) + str(0)] = el[0]\n",
    "        ret_df['class' + str(idx) + str(1)] = el[1]\n",
    "        ret_df['class' + str(idx) + str(2)] = el[2]\n",
    "\n",
    "    ret_df['mean_train_score'] = ret_df.mean(axis = 1)\n",
    "    ret_df['std_train_score'] = ret_df.std(axis = 1)\n",
    "    \n",
    "    return ret_df"
   ]
  },
  {
   "cell_type": "code",
   "execution_count": 24,
   "metadata": {},
   "outputs": [
    {
     "data": {
      "text/html": [
       "<div>\n",
       "<style scoped>\n",
       "    .dataframe tbody tr th:only-of-type {\n",
       "        vertical-align: middle;\n",
       "    }\n",
       "\n",
       "    .dataframe tbody tr th {\n",
       "        vertical-align: top;\n",
       "    }\n",
       "\n",
       "    .dataframe thead th {\n",
       "        text-align: right;\n",
       "    }\n",
       "</style>\n",
       "<table border=\"1\" class=\"dataframe\">\n",
       "  <thead>\n",
       "    <tr style=\"text-align: right;\">\n",
       "      <th></th>\n",
       "      <th>mean_train_score</th>\n",
       "      <th>std_train_score</th>\n",
       "    </tr>\n",
       "  </thead>\n",
       "  <tbody>\n",
       "    <tr>\n",
       "      <th>0.000100</th>\n",
       "      <td>0.316799</td>\n",
       "      <td>0.007629</td>\n",
       "    </tr>\n",
       "    <tr>\n",
       "      <th>0.000464</th>\n",
       "      <td>0.473586</td>\n",
       "      <td>0.004157</td>\n",
       "    </tr>\n",
       "    <tr>\n",
       "      <th>0.002154</th>\n",
       "      <td>0.554767</td>\n",
       "      <td>0.002035</td>\n",
       "    </tr>\n",
       "    <tr>\n",
       "      <th>0.010000</th>\n",
       "      <td>0.648551</td>\n",
       "      <td>0.006874</td>\n",
       "    </tr>\n",
       "    <tr>\n",
       "      <th>0.046416</th>\n",
       "      <td>0.715507</td>\n",
       "      <td>0.002683</td>\n",
       "    </tr>\n",
       "    <tr>\n",
       "      <th>0.215443</th>\n",
       "      <td>0.750054</td>\n",
       "      <td>0.003652</td>\n",
       "    </tr>\n",
       "    <tr>\n",
       "      <th>1.000000</th>\n",
       "      <td>0.760923</td>\n",
       "      <td>0.001994</td>\n",
       "    </tr>\n",
       "    <tr>\n",
       "      <th>4.641589</th>\n",
       "      <td>0.762549</td>\n",
       "      <td>0.001234</td>\n",
       "    </tr>\n",
       "    <tr>\n",
       "      <th>21.544347</th>\n",
       "      <td>0.756451</td>\n",
       "      <td>0.001824</td>\n",
       "    </tr>\n",
       "    <tr>\n",
       "      <th>100.000000</th>\n",
       "      <td>0.744871</td>\n",
       "      <td>0.005548</td>\n",
       "    </tr>\n",
       "  </tbody>\n",
       "</table>\n",
       "</div>"
      ],
      "text/plain": [
       "            mean_train_score  std_train_score\n",
       "0.000100            0.316799         0.007629\n",
       "0.000464            0.473586         0.004157\n",
       "0.002154            0.554767         0.002035\n",
       "0.010000            0.648551         0.006874\n",
       "0.046416            0.715507         0.002683\n",
       "0.215443            0.750054         0.003652\n",
       "1.000000            0.760923         0.001994\n",
       "4.641589            0.762549         0.001234\n",
       "21.544347           0.756451         0.001824\n",
       "100.000000          0.744871         0.005548"
      ]
     },
     "execution_count": 24,
     "metadata": {},
     "output_type": "execute_result"
    }
   ],
   "source": [
    "df = get_metrics_v2(logit_c_values1, logit_grid_searcher1)\n",
    "df[['mean_train_score', 'std_train_score']]"
   ]
  },
  {
   "cell_type": "code",
   "execution_count": 25,
   "metadata": {},
   "outputs": [
    {
     "data": {
      "image/png": "[encoded data removed]",
      "text/plain": [
       "<Figure size 1080x504 with 1 Axes>"
      ]
     },
     "metadata": {
      "needs_background": "light"
     },
     "output_type": "display_data"
    }
   ],
   "source": [
    "plt.figure(figsize = (15, 7))\n",
    "plt.plot(logit_grid_searcher1.Cs_, df['mean_train_score']);"
   ]
  },
  {
   "cell_type": "code",
   "execution_count": 26,
   "metadata": {},
   "outputs": [
    {
     "name": "stdout",
     "output_type": "stream",
     "text": [
      "0.7625486092810018\n",
      "Float64Index([4.641588833612772], dtype='float64')\n"
     ]
    }
   ],
   "source": [
    "print(max(df['mean_train_score']))\n",
    "print(df[df['mean_train_score'] == max(df['mean_train_score'])].index)"
   ]
  },
  {
   "cell_type": "code",
   "execution_count": 27,
   "metadata": {},
   "outputs": [
    {
     "name": "stdout",
     "output_type": "stream",
     "text": [
      "CPU times: user 3.99 s, sys: 50.1 ms, total: 4.04 s\n",
      "Wall time: 21.2 s\n"
     ]
    },
    {
     "name": "stderr",
     "output_type": "stream",
     "text": [
      "/home/voloch/Anaconda3/lib/python3.7/site-packages/sklearn/linear_model/logistic.py:947: ConvergenceWarning: lbfgs failed to converge. Increase the number of iterations.\n",
      "  \"of iterations.\", ConvergenceWarning)\n"
     ]
    },
    {
     "data": {
      "text/html": [
       "<div>\n",
       "<style scoped>\n",
       "    .dataframe tbody tr th:only-of-type {\n",
       "        vertical-align: middle;\n",
       "    }\n",
       "\n",
       "    .dataframe tbody tr th {\n",
       "        vertical-align: top;\n",
       "    }\n",
       "\n",
       "    .dataframe thead th {\n",
       "        text-align: right;\n",
       "    }\n",
       "</style>\n",
       "<table border=\"1\" class=\"dataframe\">\n",
       "  <thead>\n",
       "    <tr style=\"text-align: right;\">\n",
       "      <th></th>\n",
       "      <th>mean_train_score</th>\n",
       "      <th>std_train_score</th>\n",
       "    </tr>\n",
       "  </thead>\n",
       "  <tbody>\n",
       "    <tr>\n",
       "      <th>1.258925e+00</th>\n",
       "      <td>0.762956</td>\n",
       "      <td>0.003246</td>\n",
       "    </tr>\n",
       "    <tr>\n",
       "      <th>2.905079e+00</th>\n",
       "      <td>0.763768</td>\n",
       "      <td>0.001727</td>\n",
       "    </tr>\n",
       "    <tr>\n",
       "      <th>6.703719e+00</th>\n",
       "      <td>0.761330</td>\n",
       "      <td>0.000961</td>\n",
       "    </tr>\n",
       "    <tr>\n",
       "      <th>1.546941e+01</th>\n",
       "      <td>0.756553</td>\n",
       "      <td>0.000377</td>\n",
       "    </tr>\n",
       "    <tr>\n",
       "      <th>3.569699e+01</th>\n",
       "      <td>0.752490</td>\n",
       "      <td>0.001641</td>\n",
       "    </tr>\n",
       "    <tr>\n",
       "      <th>8.237387e+01</th>\n",
       "      <td>0.744971</td>\n",
       "      <td>0.003488</td>\n",
       "    </tr>\n",
       "    <tr>\n",
       "      <th>1.900848e+02</th>\n",
       "      <td>0.742939</td>\n",
       "      <td>0.004079</td>\n",
       "    </tr>\n",
       "    <tr>\n",
       "      <th>4.386370e+02</th>\n",
       "      <td>0.740196</td>\n",
       "      <td>0.003332</td>\n",
       "    </tr>\n",
       "    <tr>\n",
       "      <th>1.012193e+03</th>\n",
       "      <td>0.740095</td>\n",
       "      <td>0.002855</td>\n",
       "    </tr>\n",
       "    <tr>\n",
       "      <th>2.335721e+03</th>\n",
       "      <td>0.737352</td>\n",
       "      <td>0.002371</td>\n",
       "    </tr>\n",
       "    <tr>\n",
       "      <th>5.389878e+03</th>\n",
       "      <td>0.737454</td>\n",
       "      <td>0.002970</td>\n",
       "    </tr>\n",
       "    <tr>\n",
       "      <th>1.243761e+04</th>\n",
       "      <td>0.736945</td>\n",
       "      <td>0.002868</td>\n",
       "    </tr>\n",
       "    <tr>\n",
       "      <th>2.870085e+04</th>\n",
       "      <td>0.734202</td>\n",
       "      <td>0.004087</td>\n",
       "    </tr>\n",
       "    <tr>\n",
       "      <th>6.622968e+04</th>\n",
       "      <td>0.733694</td>\n",
       "      <td>0.003877</td>\n",
       "    </tr>\n",
       "    <tr>\n",
       "      <th>1.528307e+05</th>\n",
       "      <td>0.733695</td>\n",
       "      <td>0.004375</td>\n",
       "    </tr>\n",
       "    <tr>\n",
       "      <th>3.526699e+05</th>\n",
       "      <td>0.733491</td>\n",
       "      <td>0.004021</td>\n",
       "    </tr>\n",
       "    <tr>\n",
       "      <th>8.138162e+05</th>\n",
       "      <td>0.732171</td>\n",
       "      <td>0.004141</td>\n",
       "    </tr>\n",
       "    <tr>\n",
       "      <th>1.877951e+06</th>\n",
       "      <td>0.732475</td>\n",
       "      <td>0.003452</td>\n",
       "    </tr>\n",
       "    <tr>\n",
       "      <th>4.333533e+06</th>\n",
       "      <td>0.731155</td>\n",
       "      <td>0.004110</td>\n",
       "    </tr>\n",
       "    <tr>\n",
       "      <th>1.000000e+07</th>\n",
       "      <td>0.730545</td>\n",
       "      <td>0.002802</td>\n",
       "    </tr>\n",
       "  </tbody>\n",
       "</table>\n",
       "</div>"
      ],
      "text/plain": [
       "              mean_train_score  std_train_score\n",
       "1.258925e+00          0.762956         0.003246\n",
       "2.905079e+00          0.763768         0.001727\n",
       "6.703719e+00          0.761330         0.000961\n",
       "1.546941e+01          0.756553         0.000377\n",
       "3.569699e+01          0.752490         0.001641\n",
       "8.237387e+01          0.744971         0.003488\n",
       "1.900848e+02          0.742939         0.004079\n",
       "4.386370e+02          0.740196         0.003332\n",
       "1.012193e+03          0.740095         0.002855\n",
       "2.335721e+03          0.737352         0.002371\n",
       "5.389878e+03          0.737454         0.002970\n",
       "1.243761e+04          0.736945         0.002868\n",
       "2.870085e+04          0.734202         0.004087\n",
       "6.622968e+04          0.733694         0.003877\n",
       "1.528307e+05          0.733695         0.004375\n",
       "3.526699e+05          0.733491         0.004021\n",
       "8.138162e+05          0.732171         0.004141\n",
       "1.877951e+06          0.732475         0.003452\n",
       "4.333533e+06          0.731155         0.004110\n",
       "1.000000e+07          0.730545         0.002802"
      ]
     },
     "execution_count": 27,
     "metadata": {},
     "output_type": "execute_result"
    }
   ],
   "source": [
    "%%time\n",
    "logit_c_values2 = np.logspace(0.1, 7, 20)\n",
    "\n",
    "logit_grid_searcher2 = LogisticRegressionCV(Cs = logit_c_values2, multi_class='multinomial'\n",
    "                                            , cv = skf, random_state=17, n_jobs=-1)\n",
    "logit_grid_searcher2.fit(X_train, y_train)\n",
    "\n",
    "df2 = get_metrics_v2(logit_c_values2, logit_grid_searcher2)\n",
    "df2[['mean_train_score', 'std_train_score']]"
   ]
  },
  {
   "cell_type": "code",
   "execution_count": 28,
   "metadata": {},
   "outputs": [
    {
     "name": "stdout",
     "output_type": "stream",
     "text": [
      "0.7637679367638022\n",
      "Float64Index([2.9050786505108603], dtype='float64')\n"
     ]
    }
   ],
   "source": [
    "print(max(df2['mean_train_score']))\n",
    "print(df2[df2['mean_train_score'] == max(df2['mean_train_score'])].index)"
   ]
  },
  {
   "cell_type": "code",
   "execution_count": 29,
   "metadata": {},
   "outputs": [
    {
     "data": {
      "image/png": "[encoded data removed]",
      "text/plain": [
       "<Figure size 1080x504 with 1 Axes>"
      ]
     },
     "metadata": {
      "needs_background": "light"
     },
     "output_type": "display_data"
    }
   ],
   "source": [
    "plt.figure(figsize = (15, 7))\n",
    "plt.plot(logit_grid_searcher2.Cs_, df2['mean_train_score']);"
   ]
  },
  {
   "cell_type": "code",
   "execution_count": 30,
   "metadata": {},
   "outputs": [
    {
     "data": {
      "text/plain": [
       "0.7798056411471913"
      ]
     },
     "execution_count": 30,
     "metadata": {},
     "output_type": "execute_result"
    }
   ],
   "source": [
    "logit_cv_acc = accuracy_score(y_valid, logit_grid_searcher2.predict(X_valid))\n",
    "logit_cv_acc"
   ]
  },
  {
   "cell_type": "code",
   "execution_count": 31,
   "metadata": {},
   "outputs": [
    {
     "data": {
      "text/plain": [
       "[0.76, 0.78]"
      ]
     },
     "execution_count": 31,
     "metadata": {},
     "output_type": "execute_result"
    }
   ],
   "source": [
    "answ3 = [round(max(df2['mean_train_score']), 2), round(logit_cv_acc, 2)]\n",
    "answ3"
   ]
  },
  {
   "cell_type": "code",
   "execution_count": 32,
   "metadata": {},
   "outputs": [],
   "source": [
    "write_answer_to_file(answ3, 'answer4_3.txt')"
   ]
  },
  {
   "cell_type": "code",
   "execution_count": null,
   "metadata": {},
   "outputs": [],
   "source": []
  },
  {
   "cell_type": "markdown",
   "metadata": {},
   "source": [
    "LinearSVC"
   ]
  },
  {
   "cell_type": "code",
   "execution_count": 31,
   "metadata": {},
   "outputs": [
    {
     "name": "stderr",
     "output_type": "stream",
     "text": [
      "/home/voloch/Anaconda3/lib/python3.7/site-packages/sklearn/svm/base.py:929: ConvergenceWarning: Liblinear failed to converge, increase the number of iterations.\n",
      "  \"the number of iterations.\", ConvergenceWarning)\n"
     ]
    },
    {
     "data": {
      "text/plain": [
       "([0.7567732115677321, 0.7532784385483379, 0.7593044539353264],\n",
       " 0.7769613652524295)"
      ]
     },
     "execution_count": 31,
     "metadata": {},
     "output_type": "execute_result"
    }
   ],
   "source": [
    "clf_inp = LinearSVC(C = 1, random_state = 17)\n",
    "acc_cv, acc_val = get_metrics(clf_inp, skf, X_train, y_train, X_valid, y_valid)\n",
    "acc_cv, acc_val"
   ]
  },
  {
   "cell_type": "code",
   "execution_count": 32,
   "metadata": {},
   "outputs": [
    {
     "name": "stderr",
     "output_type": "stream",
     "text": [
      "/home/voloch/Anaconda3/lib/python3.7/site-packages/sklearn/model_selection/_split.py:1978: FutureWarning: The default value of cv will change from 3 to 5 in version 0.22. Specify it explicitly to silence this warning.\n",
      "  warnings.warn(CV_WARNING, FutureWarning)\n"
     ]
    },
    {
     "name": "stdout",
     "output_type": "stream",
     "text": [
      "CPU times: user 2.53 s, sys: 11.7 ms, total: 2.54 s\n",
      "Wall time: 14.8 s\n"
     ]
    },
    {
     "name": "stderr",
     "output_type": "stream",
     "text": [
      "/home/voloch/Anaconda3/lib/python3.7/site-packages/sklearn/svm/base.py:929: ConvergenceWarning: Liblinear failed to converge, increase the number of iterations.\n",
      "  \"the number of iterations.\", ConvergenceWarning)\n"
     ]
    },
    {
     "data": {
      "text/plain": [
       "GridSearchCV(cv='warn', error_score='raise-deprecating',\n",
       "             estimator=LinearSVC(C=1.0, class_weight=None, dual=True,\n",
       "                                 fit_intercept=True, intercept_scaling=1,\n",
       "                                 loss='squared_hinge', max_iter=1000,\n",
       "                                 multi_class='ovr', penalty='l2',\n",
       "                                 random_state=17, tol=0.0001, verbose=0),\n",
       "             iid='warn', n_jobs=-1,\n",
       "             param_grid={'C': array([1.0000000e-04, 1.1111112e+03, 2.2222223e+03, 3.3333334e+03,\n",
       "       4.4444445e+03, 5.5555556e+03, 6.6666667e+03, 7.7777778e+03,\n",
       "       8.8888889e+03, 1.0000000e+04])},\n",
       "             pre_dispatch='2*n_jobs', refit=True, return_train_score=True,\n",
       "             scoring=None, verbose=0)"
      ]
     },
     "execution_count": 32,
     "metadata": {},
     "output_type": "execute_result"
    }
   ],
   "source": [
    "%%time\n",
    "svm_params1 = {'C': np.linspace(1e-4, 1e4, 10)}\n",
    "\n",
    "svm_grid_searcher1 = GridSearchCV(LinearSVC(random_state = 17), svm_params1, n_jobs=-1, return_train_score = True)\n",
    "svm_grid_searcher1.fit(X_train, y_train)"
   ]
  },
  {
   "cell_type": "code",
   "execution_count": 33,
   "metadata": {},
   "outputs": [
    {
     "name": "stdout",
     "output_type": "stream",
     "text": [
      "0.6848201585043691\n",
      "{'C': 7777.777800000001}\n"
     ]
    }
   ],
   "source": [
    "print(svm_grid_searcher1.best_score_)\n",
    "print(svm_grid_searcher1.best_params_)"
   ]
  },
  {
   "cell_type": "code",
   "execution_count": 34,
   "metadata": {},
   "outputs": [
    {
     "name": "stdout",
     "output_type": "stream",
     "text": [
      "0.8755810871118718\n",
      "0.8755810871118718\n",
      "{'C': 7777.777800000001}\n"
     ]
    }
   ],
   "source": [
    "print(max(svm_grid_searcher1.cv_results_['mean_train_score']))\n",
    "print(svm_grid_searcher1.cv_results_['mean_train_score'][7])\n",
    "print(svm_grid_searcher1.cv_results_['params'][7])"
   ]
  },
  {
   "cell_type": "code",
   "execution_count": 35,
   "metadata": {},
   "outputs": [
    {
     "data": {
      "image/png": "[encoded data removed]",
      "text/plain": [
       "<Figure size 432x288 with 1 Axes>"
      ]
     },
     "metadata": {
      "needs_background": "light"
     },
     "output_type": "display_data"
    }
   ],
   "source": [
    "plot_validation_curves(svm_params1['C'], svm_grid_searcher1.cv_results_)"
   ]
  },
  {
   "cell_type": "code",
   "execution_count": 36,
   "metadata": {},
   "outputs": [
    {
     "name": "stderr",
     "output_type": "stream",
     "text": [
      "/home/voloch/Anaconda3/lib/python3.7/site-packages/sklearn/model_selection/_split.py:1978: FutureWarning: The default value of cv will change from 3 to 5 in version 0.22. Specify it explicitly to silence this warning.\n",
      "  warnings.warn(CV_WARNING, FutureWarning)\n"
     ]
    },
    {
     "name": "stdout",
     "output_type": "stream",
     "text": [
      "CPU times: user 767 ms, sys: 19.7 ms, total: 786 ms\n",
      "Wall time: 24.1 s\n"
     ]
    },
    {
     "data": {
      "text/plain": [
       "GridSearchCV(cv='warn', error_score='raise-deprecating',\n",
       "             estimator=LinearSVC(C=1.0, class_weight=None, dual=True,\n",
       "                                 fit_intercept=True, intercept_scaling=1,\n",
       "                                 loss='squared_hinge', max_iter=1000,\n",
       "                                 multi_class='ovr', penalty='l2',\n",
       "                                 random_state=17, tol=0.0001, verbose=0),\n",
       "             iid='warn', n_jobs=-1,\n",
       "             param_grid={'C': array([0.001     , 0.03544828, 0.06989655, 0.10434483, 0.1387931 ,\n",
       "       0.17324138, 0.20768966, 0.24213793, 0.27658621, 0.31103448,\n",
       "       0.34548276, 0.37993103, 0.41437931, 0.44882759, 0.48327586,\n",
       "       0.51772414, 0.55217241, 0.58662069, 0.62106897, 0.65551724,\n",
       "       0.68996552, 0.72441379, 0.75886207, 0.79331034, 0.82775862,\n",
       "       0.8622069 , 0.89665517, 0.93110345, 0.96555172, 1.        ])},\n",
       "             pre_dispatch='2*n_jobs', refit=True, return_train_score=True,\n",
       "             scoring=None, verbose=0)"
      ]
     },
     "execution_count": 36,
     "metadata": {},
     "output_type": "execute_result"
    }
   ],
   "source": [
    "%%time\n",
    "svm_params2 = {'C': np.linspace(1e-3, 1, 30)}\n",
    "\n",
    "svm_grid_searcher2 = GridSearchCV(LinearSVC(random_state = 17), svm_params2, n_jobs=-1, return_train_score = True)\n",
    "svm_grid_searcher2.fit(X_train, y_train)"
   ]
  },
  {
   "cell_type": "code",
   "execution_count": 37,
   "metadata": {},
   "outputs": [
    {
     "name": "stdout",
     "output_type": "stream",
     "text": [
      "0.7661044503149766\n",
      "0.13879310344827586\n"
     ]
    }
   ],
   "source": [
    "print(svm_grid_searcher2.best_score_)\n",
    "print(list(svm_grid_searcher2.best_params_.values())[0])"
   ]
  },
  {
   "cell_type": "code",
   "execution_count": 38,
   "metadata": {},
   "outputs": [
    {
     "data": {
      "image/png": "[encoded data removed]",
      "text/plain": [
       "<Figure size 432x288 with 1 Axes>"
      ]
     },
     "metadata": {
      "needs_background": "light"
     },
     "output_type": "display_data"
    }
   ],
   "source": [
    "plot_validation_curves(svm_params2['C'], svm_grid_searcher2.cv_results_)"
   ]
  },
  {
   "cell_type": "code",
   "execution_count": 39,
   "metadata": {},
   "outputs": [
    {
     "data": {
      "text/plain": [
       "0.7817018250770325"
      ]
     },
     "execution_count": 39,
     "metadata": {},
     "output_type": "execute_result"
    }
   ],
   "source": [
    "clfSVC = LinearSVC(C = list(svm_grid_searcher2.best_params_.values())[0], random_state=17)\n",
    "clfSVC.fit(X_train, y_train)\n",
    "svm_cv_acc = accuracy_score(y_valid, clfSVC.predict(X_valid))\n",
    "svm_cv_acc"
   ]
  },
  {
   "cell_type": "code",
   "execution_count": 40,
   "metadata": {},
   "outputs": [
    {
     "name": "stdout",
     "output_type": "stream",
     "text": [
      "0.8993599000817655\n",
      "0.8792925829596715\n",
      "{'C': 0.13879310344827586}\n"
     ]
    }
   ],
   "source": [
    "print(max(svm_grid_searcher2.cv_results_['mean_train_score']))\n",
    "print(svm_grid_searcher2.cv_results_['mean_train_score'][4])\n",
    "print(svm_grid_searcher2.cv_results_['params'][4])"
   ]
  },
  {
   "cell_type": "code",
   "execution_count": 41,
   "metadata": {},
   "outputs": [
    {
     "data": {
      "text/plain": [
       "([0.7649923896499239, 0.7615126562976517, 0.7660158633312996],\n",
       " 0.7817018250770325)"
      ]
     },
     "execution_count": 41,
     "metadata": {},
     "output_type": "execute_result"
    }
   ],
   "source": [
    "svc_acc_cv, svc_acc_val = get_metrics(LinearSVC(C = list(svm_grid_searcher2.best_params_.values())[0], random_state = 17), skf, X_train, y_train, X_valid, y_valid)\n",
    "svc_acc_cv, svc_acc_val"
   ]
  },
  {
   "cell_type": "code",
   "execution_count": 42,
   "metadata": {},
   "outputs": [],
   "source": [
    "answ4_4_2 = svc_acc_val"
   ]
  },
  {
   "cell_type": "code",
   "execution_count": 43,
   "metadata": {},
   "outputs": [],
   "source": [
    "answ4_4_1 = np.mean(svc_acc_cv)#svm_cv_acc#accuracy_score(y_valid, svm_grid_searcher2.predict(X_valid))"
   ]
  },
  {
   "cell_type": "code",
   "execution_count": 44,
   "metadata": {},
   "outputs": [
    {
     "data": {
      "text/plain": [
       "[0.76, 0.78]"
      ]
     },
     "execution_count": 44,
     "metadata": {},
     "output_type": "execute_result"
    }
   ],
   "source": [
    "answ4_4 = [round(answ4_4_1, 2), round(answ4_4_2, 2)]\n",
    "answ4_4"
   ]
  },
  {
   "cell_type": "code",
   "execution_count": 45,
   "metadata": {},
   "outputs": [],
   "source": [
    "write_answer_to_file(answ4_4, 'answer4_4.txt')"
   ]
  },
  {
   "cell_type": "code",
   "execution_count": null,
   "metadata": {},
   "outputs": [],
   "source": []
  },
  {
   "cell_type": "code",
   "execution_count": null,
   "metadata": {},
   "outputs": [],
   "source": []
  },
  {
   "cell_type": "markdown",
   "metadata": {},
   "source": [
    "# Часть 2. Выбор параметров – длины сессии и ширины окна"
   ]
  },
  {
   "cell_type": "code",
   "execution_count": null,
   "metadata": {},
   "outputs": [],
   "source": []
  },
  {
   "cell_type": "code",
   "execution_count": 46,
   "metadata": {},
   "outputs": [],
   "source": [
    "def model_assessment(estimator, path_to_X_pickle, path_to_y_pickle, cv, random_state=17, test_size=0.3):\n",
    "    '''\n",
    "    Estimates CV-accuracy for (1 - test_size) share of (X_sparse, y) \n",
    "    loaded from path_to_X_pickle and path_to_y_pickle and holdout accuracy for (test_size) share of (X_sparse, y).\n",
    "    The split is made with stratified train_test_split with params random_state and test_size.\n",
    "    \n",
    "    :param estimator – Scikit-learn estimator (classifier or regressor)\n",
    "    :param path_to_X_pickle – path to pickled sparse X (instances and their features)\n",
    "    :param path_to_y_pickle – path to pickled y (responses)\n",
    "    :param cv – cross-validation as in cross_val_score (use StratifiedKFold here)\n",
    "    :param random_state –  for train_test_split\n",
    "    :param test_size –  for train_test_split\n",
    "    \n",
    "    :returns mean CV-accuracy for (X_train, y_train) and accuracy for (X_valid, y_valid) where (X_train, y_train)\n",
    "    and (X_valid, y_valid) are (1 - test_size) and (testsize) shares of (X_sparse, y).\n",
    "    '''\n",
    "    \n",
    "    with open(path_to_X_pickle, 'rb') as X_pkl:\n",
    "        X_inner = pickle.load(X_pkl)\n",
    "    with open(path_to_y_pickle, 'rb') as y_pkl:\n",
    "        y_inner = pickle.load(y_pkl)\n",
    "    \n",
    "    X_train, X_valid, y_train, y_valid = train_test_split(X_inner, y_inner, \n",
    "                                                      test_size=test_size, \n",
    "                                                     random_state=random_state, stratify=y_inner)\n",
    "    #skf = StratifiedKFold(n_splits=cv, shuffle=True, random_state=random_state)\n",
    "    ret_acc_cv = []\n",
    "    #for train_index, test_index in skf.split(X_train, y_train):\n",
    "    for train_index, test_index in cv.split(X_train, y_train):\n",
    "        clf = estimator\n",
    "        clf.fit(X_train[train_index], y_train[train_index])\n",
    "        predicted = clf.predict(X_train[test_index])\n",
    "        ret_acc_cv.append(accuracy_score(y_train[test_index], predicted))\n",
    "        \n",
    "    clf = estimator\n",
    "    clf.fit(X_train, y_train)\n",
    "    ret_acc_val = accuracy_score(y_valid, clf.predict(X_valid))\n",
    "    \n",
    "    return np.mean(ret_acc_cv), ret_acc_val"
   ]
  },
  {
   "cell_type": "code",
   "execution_count": 47,
   "metadata": {},
   "outputs": [
    {
     "data": {
      "text/plain": [
       "(0.7641736364262918, 0.7817018250770325)"
      ]
     },
     "execution_count": 47,
     "metadata": {},
     "output_type": "execute_result"
    }
   ],
   "source": [
    "model_assessment(svm_grid_searcher2.best_estimator_\n",
    "                 , os.path.join(PATH_TO_DATA, 'X_sp_10users.pkl')\n",
    "                 , os.path.join(PATH_TO_DATA, 'y_10users.pkl')\n",
    "                 , skf, random_state=17, test_size=0.3)"
   ]
  },
  {
   "cell_type": "code",
   "execution_count": 48,
   "metadata": {},
   "outputs": [
    {
     "name": "stderr",
     "output_type": "stream",
     "text": [
      "/home/voloch/Anaconda3/lib/python3.7/site-packages/sklearn/svm/base.py:929: ConvergenceWarning: Liblinear failed to converge, increase the number of iterations.\n",
      "  \"the number of iterations.\", ConvergenceWarning)\n",
      "/home/voloch/Anaconda3/lib/python3.7/site-packages/sklearn/svm/base.py:929: ConvergenceWarning: Liblinear failed to converge, increase the number of iterations.\n",
      "  \"the number of iterations.\", ConvergenceWarning)\n",
      "/home/voloch/Anaconda3/lib/python3.7/site-packages/sklearn/svm/base.py:929: ConvergenceWarning: Liblinear failed to converge, increase the number of iterations.\n",
      "  \"the number of iterations.\", ConvergenceWarning)\n"
     ]
    },
    {
     "name": "stdout",
     "output_type": "stream",
     "text": [
      "CPU times: user 29.5 s, sys: 16.7 ms, total: 29.5 s\n",
      "Wall time: 29.6 s\n"
     ]
    }
   ],
   "source": [
    "%%time\n",
    "estm = svm_grid_searcher2.best_estimator_\n",
    "skf  = StratifiedKFold(n_splits=3, shuffle=True, random_state=17)\n",
    "results = {}\n",
    "\n",
    "for window_size, session_length in itertools.product([10, 7, 5], [15, 10, 7, 5]):\n",
    "    if window_size <= session_length:\n",
    "        path_to_X_pkl = os.path.join(PATH_TO_DATA, f'X_sparse_10users_s{session_length}_w{window_size}.pkl')\n",
    "        #path_to_y_pkl = os.path.join(PATH_TO_DATA, f'Y_sparse_10users_s{session_length}_w{window_size}.pkl')\n",
    "        path_to_y_pkl = os.path.join(PATH_TO_DATA, f'Y_sparse_10users_s{session_length}_w{window_size}.pkl')\n",
    "        #print(path_to_X_pkl)\n",
    "        acc_cv, acc_val = model_assessment(svm_grid_searcher2.best_estimator_ \n",
    "                         , path_to_X_pkl\n",
    "                         , path_to_y_pkl \n",
    "                         , cv = skf, random_state=17, test_size=0.3)\n",
    "        results[f's{session_length}_w{window_size}'] = (acc_cv, acc_val)"
   ]
  },
  {
   "cell_type": "code",
   "execution_count": 49,
   "metadata": {},
   "outputs": [
    {
     "data": {
      "text/plain": [
       "{'s15_w10': (0.8259531982725311, 0.8400094809196492),\n",
       " 's10_w10': (0.7641736364262918, 0.7817018250770325),\n",
       " 's15_w7': (0.8504951852074757, 0.8544881367181019),\n",
       " 's10_w7': (0.8001385385477496, 0.8075327692052431),\n",
       " 's7_w7': (0.7512069688975528, 0.7629002820640451),\n",
       " 's15_w5': (0.8706948653050466, 0.8764817449027975),\n",
       " 's10_w5': (0.816431449231953, 0.8253911806543386),\n",
       " 's7_w5': (0.773092677463695, 0.7871028923660502),\n",
       " 's5_w5': (0.7230970052618901, 0.7367235656709341)}"
      ]
     },
     "execution_count": 49,
     "metadata": {},
     "output_type": "execute_result"
    }
   ],
   "source": [
    "results"
   ]
  },
  {
   "cell_type": "code",
   "execution_count": 50,
   "metadata": {},
   "outputs": [
    {
     "data": {
      "text/plain": [
       "(0.8706948653050466, 0.8764817449027975)"
      ]
     },
     "execution_count": 50,
     "metadata": {},
     "output_type": "execute_result"
    }
   ],
   "source": [
    "answ4_5_1 = results['s15_w5'][0]\n",
    "answ4_5_2 = results['s15_w5'][1]\n",
    "answ4_5_1, answ4_5_2"
   ]
  },
  {
   "cell_type": "code",
   "execution_count": 51,
   "metadata": {},
   "outputs": [
    {
     "data": {
      "text/plain": [
       "[0.87, 0.88]"
      ]
     },
     "execution_count": 51,
     "metadata": {},
     "output_type": "execute_result"
    }
   ],
   "source": [
    "answ4_5 = [round(answ4_5_1, 2), round(answ4_5_2, 2)]\n",
    "answ4_5"
   ]
  },
  {
   "cell_type": "code",
   "execution_count": 52,
   "metadata": {},
   "outputs": [],
   "source": [
    "write_answer_to_file(answ4_5, 'answer4_5.txt')"
   ]
  },
  {
   "cell_type": "code",
   "execution_count": null,
   "metadata": {},
   "outputs": [],
   "source": []
  },
  {
   "cell_type": "code",
   "execution_count": 63,
   "metadata": {},
   "outputs": [
    {
     "name": "stderr",
     "output_type": "stream",
     "text": [
      "0it [00:00, ?it/s]/home/voloch/Anaconda3/lib/python3.7/site-packages/sklearn/svm/base.py:929: ConvergenceWarning: Liblinear failed to converge, increase the number of iterations.\n",
      "  \"the number of iterations.\", ConvergenceWarning)\n",
      "2it [09:18, 306.12s/it]/home/voloch/Anaconda3/lib/python3.7/site-packages/sklearn/svm/base.py:929: ConvergenceWarning: Liblinear failed to converge, increase the number of iterations.\n",
      "  \"the number of iterations.\", ConvergenceWarning)\n",
      "7it [28:31, 275.23s/it]/home/voloch/Anaconda3/lib/python3.7/site-packages/sklearn/svm/base.py:929: ConvergenceWarning: Liblinear failed to converge, increase the number of iterations.\n",
      "  \"the number of iterations.\", ConvergenceWarning)\n",
      "12it [1:01:05, 305.43s/it]"
     ]
    },
    {
     "name": "stdout",
     "output_type": "stream",
     "text": [
      "CPU times: user 1h 1min 21s, sys: 1.49 s, total: 1h 1min 22s\n",
      "Wall time: 1h 1min 5s\n"
     ]
    },
    {
     "name": "stderr",
     "output_type": "stream",
     "text": [
      "\n"
     ]
    }
   ],
   "source": [
    "%%time\n",
    "estm = svm_grid_searcher2.best_estimator_\n",
    "skf  = StratifiedKFold(n_splits=3, shuffle=True, random_state=17)\n",
    "results150 = {}\n",
    "\n",
    "for window_size, session_length in tqdm(itertools.product([10, 7, 5], [15, 10, 7, 5])):\n",
    "    if window_size <= session_length:\n",
    "        path_to_X_pkl = os.path.join(PATH_TO_DATA, f'X_sparse_150users_s{session_length}_w{window_size}.pkl')\n",
    "        #path_to_y_pkl = os.path.join(PATH_TO_DATA, f'Y_sparse_10users_s{session_length}_w{window_size}.pkl')\n",
    "        path_to_y_pkl = os.path.join(PATH_TO_DATA, f'Y_sparse_150users_s{session_length}_w{window_size}.pkl')\n",
    "        #print(path_to_X_pkl)\n",
    "        acc_cv, acc_val = model_assessment(svm_grid_searcher2.best_estimator_ \n",
    "                         , path_to_X_pkl\n",
    "                         , path_to_y_pkl \n",
    "                         , cv = skf, random_state=17, test_size=0.3)\n",
    "        results150[f's{session_length}_w{window_size}'] = (acc_cv, acc_val)"
   ]
  },
  {
   "cell_type": "code",
   "execution_count": 64,
   "metadata": {},
   "outputs": [
    {
     "data": {
      "text/plain": [
       "{'s15_w10': (0.550363371512566, 0.5766798034350217),\n",
       " 's10_w10': (0.4616145225656354, 0.48447915146207365),\n",
       " 's15_w7': (0.5842562089277951, 0.6113022447797799),\n",
       " 's10_w7': (0.502628509268666, 0.5261266478182376),\n",
       " 's7_w7': (0.4374078763743305, 0.45415062847021154),\n",
       " 's15_w5': (0.6165801657473978, 0.6391930695478659),\n",
       " 's10_w5': (0.5275663749787812, 0.5487905776999076),\n",
       " 's7_w5': (0.46695200044261503, 0.4830510536818027),\n",
       " 's5_w5': (0.4093985555889958, 0.42267727648805176)}"
      ]
     },
     "execution_count": 64,
     "metadata": {},
     "output_type": "execute_result"
    }
   ],
   "source": [
    "results150"
   ]
  },
  {
   "cell_type": "raw",
   "metadata": {},
   "source": [
    "{'s15_w10': (0.550363371512566, 0.5766798034350217),\n",
    " 's10_w10': (0.4616145225656354, 0.48447915146207365),\n",
    " 's15_w7': (0.5842562089277951, 0.6113022447797799),\n",
    " 's10_w7': (0.502628509268666, 0.5261266478182376),\n",
    " 's7_w7': (0.4374078763743305, 0.45415062847021154),\n",
    " 's15_w5': (0.6165801657473978, 0.6391930695478659),\n",
    " 's10_w5': (0.5275663749787812, 0.5487905776999076),\n",
    " 's7_w5': (0.46695200044261503, 0.4830510536818027),\n",
    " 's5_w5': (0.4093985555889958, 0.42267727648805176)}"
   ]
  },
  {
   "cell_type": "markdown",
   "metadata": {},
   "source": [
    "Как мы видим в обоих выриантах лучшее решение с самой длинной сессией.    \n",
    "Ширина окна скорее всего сказывается на объеме сессий в обучающей выборке."
   ]
  },
  {
   "cell_type": "code",
   "execution_count": 65,
   "metadata": {},
   "outputs": [],
   "source": [
    "answ4_6_1, answ4_6_2 = results150['s10_w10']"
   ]
  },
  {
   "cell_type": "code",
   "execution_count": 66,
   "metadata": {},
   "outputs": [
    {
     "data": {
      "text/plain": [
       "[0.46, 0.48]"
      ]
     },
     "execution_count": 66,
     "metadata": {},
     "output_type": "execute_result"
    }
   ],
   "source": [
    "answ4_6 = [round(answ4_6_1, 2), round(answ4_6_2, 2)]\n",
    "answ4_6"
   ]
  },
  {
   "cell_type": "code",
   "execution_count": 67,
   "metadata": {},
   "outputs": [],
   "source": [
    "write_answer_to_file(answ4_6, 'answer4_6.txt')"
   ]
  },
  {
   "cell_type": "code",
   "execution_count": null,
   "metadata": {},
   "outputs": [],
   "source": []
  },
  {
   "cell_type": "markdown",
   "metadata": {},
   "source": [
    "# Часть 3. Идентификация  конкретного пользователя и кривые обучения"
   ]
  },
  {
   "cell_type": "code",
   "execution_count": 68,
   "metadata": {},
   "outputs": [],
   "source": [
    "with open(os.path.join(PATH_TO_DATA, 'X_sp_150users.pkl'), 'rb') as X_sparse_150users_pkl:\n",
    "     X_sparse_150users = pickle.load(X_sparse_150users_pkl)\n",
    "with open(os.path.join(PATH_TO_DATA, 'y_150users.pkl'), 'rb') as y_150users_pkl:\n",
    "    y_150users = pickle.load(y_150users_pkl)\n",
    "    \n",
    "X_train_150, X_valid_150, y_train_150, y_valid_150 = train_test_split(X_sparse_150users, \n",
    "                                                                      y_150users, test_size=0.3, \n",
    "                                                     random_state=17, stratify=y_150users)"
   ]
  },
  {
   "cell_type": "code",
   "execution_count": 114,
   "metadata": {},
   "outputs": [
    {
     "name": "stdout",
     "output_type": "stream",
     "text": [
      "CPU times: user 9min 21s, sys: 7.97 s, total: 9min 29s\n",
      "Wall time: 4min 24s\n"
     ]
    }
   ],
   "source": [
    "%%time\n",
    "warnings.filterwarnings('ignore')\n",
    "\n",
    "logit_cv_150users = LogisticRegressionCV(Cs =[logit_grid_searcher2.Cs_[10]], multi_class='ovr'\n",
    "                                            , cv = skf, random_state=17, n_jobs=-1)\n",
    "logit_cv_150users.fit(X_train_150, y_train_150)\n",
    "\n",
    "warnings.filterwarnings('default')"
   ]
  },
  {
   "cell_type": "code",
   "execution_count": 127,
   "metadata": {},
   "outputs": [
    {
     "name": "stdout",
     "output_type": "stream",
     "text": [
      "User 6, CV score: 0.9959438402938933\n",
      "User 13, CV score: 0.9965075294693774\n",
      "User 15, CV score: 0.9950161882777585\n",
      "User 16, CV score: 0.9912525885634165\n",
      "User 28, CV score: 0.9904598628032559\n",
      "User 31, CV score: 0.9934214717926885\n",
      "User 33, CV score: 0.9932752620272175\n",
      "User 39, CV score: 0.9855288590840804\n",
      "User 46, CV score: 0.997789732638407\n",
      "User 49, CV score: 0.9948913550321911\n",
      "User 50, CV score: 0.993817742188117\n",
      "User 53, CV score: 0.9933063099001623\n",
      "User 65, CV score: 0.9964131387926516\n",
      "User 66, CV score: 0.9942655594826375\n",
      "User 82, CV score: 0.995871345368068\n",
      "User 85, CV score: 0.9960692551173956\n",
      "User 89, CV score: 0.9894385766030759\n",
      "User 92, CV score: 0.9941405209595006\n",
      "User 100, CV score: 0.9939633059333784\n",
      "User 102, CV score: 0.9912208113418622\n",
      "User 103, CV score: 0.9808686140363952\n",
      "User 105, CV score: 0.9967994250288541\n",
      "User 106, CV score: 0.9946728615061756\n",
      "User 118, CV score: 0.9910855440879641\n",
      "User 119, CV score: 0.9964760815698988\n",
      "User 120, CV score: 0.9936296436790316\n",
      "User 126, CV score: 0.9945055569909654\n",
      "User 127, CV score: 0.991534240872003\n",
      "User 128, CV score: 0.9845789485887152\n",
      "User 138, CV score: 0.996621937339032\n",
      "User 158, CV score: 0.996788752711172\n",
      "User 160, CV score: 0.9964139063875583\n",
      "User 165, CV score: 0.9970389847383974\n",
      "User 172, CV score: 0.9961215822353365\n",
      "User 177, CV score: 0.9962680268922567\n",
      "User 203, CV score: 0.9970909346078791\n",
      "User 207, CV score: 0.987353239761958\n",
      "User 223, CV score: 0.995902549170058\n",
      "User 233, CV score: 0.9958714867769842\n",
      "User 235, CV score: 0.99621541743053\n",
      "User 236, CV score: 0.9895945283264718\n",
      "User 237, CV score: 0.988989857989056\n",
      "User 238, CV score: 0.995881608453177\n",
      "User 240, CV score: 0.9950997424498113\n",
      "User 241, CV score: 0.9953914927084222\n",
      "User 242, CV score: 0.9946513749878481\n",
      "User 245, CV score: 0.9959131784013998\n",
      "User 246, CV score: 0.9966428586957411\n",
      "User 249, CV score: 0.9942969269975719\n",
      "User 252, CV score: 0.9958712233193238\n",
      "User 254, CV score: 0.9917326630165227\n",
      "User 256, CV score: 0.9955583356986798\n",
      "User 258, CV score: 0.9954646094542419\n",
      "User 259, CV score: 0.994442876723285\n",
      "User 260, CV score: 0.9971746340807975\n",
      "User 261, CV score: 0.9894070453751973\n",
      "User 263, CV score: 0.9922954634964493\n",
      "User 264, CV score: 0.9962155728855285\n",
      "User 269, CV score: 0.9861230634290518\n",
      "User 270, CV score: 0.9891673601990072\n",
      "User 273, CV score: 0.9934832837726519\n",
      "User 287, CV score: 0.9893134987859732\n",
      "User 294, CV score: 0.9951832113972766\n",
      "User 298, CV score: 0.990929429599718\n",
      "User 301, CV score: 0.9971953578442613\n",
      "User 308, CV score: 0.995558354584805\n",
      "User 315, CV score: 0.9974769104081315\n",
      "User 318, CV score: 0.9955689329459076\n",
      "User 327, CV score: 0.9959130607186518\n",
      "User 332, CV score: 0.9963510851850085\n",
      "User 333, CV score: 0.9960174887950769\n",
      "User 339, CV score: 0.9970912784500839\n",
      "User 340, CV score: 0.9963195200768288\n",
      "User 342, CV score: 0.990845979064331\n",
      "User 344, CV score: 0.9961840964198384\n",
      "User 351, CV score: 0.991836531245419\n",
      "User 356, CV score: 0.9974247910375688\n",
      "User 361, CV score: 0.9959131323712037\n",
      "User 363, CV score: 0.9960173992044935\n",
      "User 411, CV score: 0.9911275466223771\n",
      "User 417, CV score: 0.9960900074470705\n",
      "User 425, CV score: 0.9938382262200882\n",
      "User 430, CV score: 0.9957462792268132\n",
      "User 435, CV score: 0.9963612916117418\n",
      "User 436, CV score: 0.9948180910893184\n",
      "User 440, CV score: 0.9966635446869541\n",
      "User 444, CV score: 0.9980712237038581\n",
      "User 475, CV score: 0.9890106665030601\n",
      "User 476, CV score: 0.9968512286493766\n",
      "User 486, CV score: 0.9949434400484057\n",
      "User 515, CV score: 0.9935361479600467\n",
      "User 533, CV score: 0.9939110557820792\n",
      "User 561, CV score: 0.9837667465970292\n",
      "User 563, CV score: 0.9964029323659181\n",
      "User 564, CV score: 0.9956935385103031\n",
      "User 568, CV score: 0.9911795812423992\n",
      "User 569, CV score: 0.9890632197804577\n",
      "User 570, CV score: 0.9978106820872804\n",
      "User 573, CV score: 0.9898034111493459\n",
      "User 575, CV score: 0.9901058995900542\n",
      "User 576, CV score: 0.993431427385703\n",
      "User 580, CV score: 0.9856021531148799\n",
      "User 583, CV score: 0.9807739778400407\n",
      "User 584, CV score: 0.9798458182687572\n",
      "User 600, CV score: 0.9914610911939757\n",
      "User 603, CV score: 0.9955374002958886\n",
      "User 605, CV score: 0.9974247769914865\n",
      "User 640, CV score: 0.9968198422483167\n",
      "User 647, CV score: 0.9974666996154019\n",
      "User 653, CV score: 0.9969867230108248\n",
      "User 664, CV score: 0.9944530976701472\n",
      "User 665, CV score: 0.9966636580037059\n",
      "User 677, CV score: 0.996444797857411\n",
      "User 692, CV score: 0.996590419209142\n",
      "User 697, CV score: 0.9954019199805223\n",
      "User 705, CV score: 0.9958818012063794\n",
      "User 722, CV score: 0.9947032977132588\n",
      "User 740, CV score: 0.9958506545368119\n",
      "User 741, CV score: 0.9960175449794061\n",
      "User 756, CV score: 0.9956105499739157\n",
      "User 780, CV score: 0.9954126828368817\n",
      "User 784, CV score: 0.9964238624546198\n",
      "User 785, CV score: 0.9959132060195176\n",
      "User 797, CV score: 0.9947969668252741\n",
      "User 812, CV score: 0.9944428500532609\n",
      "User 844, CV score: 0.9968200868198519\n",
      "User 859, CV score: 0.9982898049242698\n",
      "User 868, CV score: 0.9959442112801687\n",
      "User 875, CV score: 0.9957566493664908\n",
      "User 932, CV score: 0.9905226922637514\n",
      "User 996, CV score: 0.9930982072961368\n",
      "User 1014, CV score: 0.9972370828749312\n",
      "User 1040, CV score: 0.9966434330633988\n",
      "User 1054, CV score: 0.9961529221321532\n",
      "User 1248, CV score: 0.9976961221805297\n",
      "User 1267, CV score: 0.9969347213230102\n",
      "User 1299, CV score: 0.996580396329572\n",
      "User 1371, CV score: 0.9932331553820921\n",
      "User 1797, CV score: 0.9953078498938798\n",
      "User 1798, CV score: 0.9962778284524131\n",
      "User 1993, CV score: 0.9966325868786395\n",
      "User 2118, CV score: 0.9976332321697091\n",
      "User 2174, CV score: 0.995537950937378\n",
      "User 2191, CV score: 0.9949641304056148\n",
      "User 2250, CV score: 0.996778042621239\n",
      "User 2355, CV score: 0.9954328419127737\n",
      "User 2408, CV score: 0.993223152336741\n",
      "User 2493, CV score: 0.9964029652981258\n",
      "User 2625, CV score: 0.9959023748289342\n",
      "User 2902, CV score: 0.996423859036717\n"
     ]
    }
   ],
   "source": [
    "cv_scores_by_user = {}\n",
    "for user_id in logit_cv_150users.scores_:\n",
    "    cv_scores_by_user[user_id] = np.mean([float(logit_cv_150users.scores_[user_id][0])\\\n",
    "                                        , float(logit_cv_150users.scores_[user_id][1])\\\n",
    "                                        , float(logit_cv_150users.scores_[user_id][2])]\n",
    "                                        , axis = 0\n",
    "                                        )\n",
    "    print(f'User {user_id}, CV score: {cv_scores_by_user[user_id]}')"
   ]
  },
  {
   "cell_type": "markdown",
   "metadata": {},
   "source": [
    "разницу между долей правильных ответов на кросс-валидации (только что посчитанную с помощью LogisticRegressionCV) и \n",
    "долей меток в y_train_150, отличных от ID этого пользователя (именно такую долю правильных ответов можно получить, если классификатор всегда \"говорит\", что это не пользователь с номером 𝑖 в задаче классификации 𝑖-vs-All)."
   ]
  },
  {
   "cell_type": "code",
   "execution_count": 137,
   "metadata": {},
   "outputs": [],
   "source": [
    "class_distr = np.bincount(y_train_150.astype('int'))\n",
    "acc_diff_vs_constant = []\n",
    "\n",
    "for user_id in np.unique(y_train_150):\n",
    "    same = 0\n",
    "    for el in y_train_150:\n",
    "        if el == user_id:\n",
    "            same += 1\n",
    "            \n",
    "    #print(1 - same/y_train_150.shape[0])\n",
    "    acc_diff_vs_constant.append(cv_scores_by_user[user_id] - (1 - same/y_train_150.shape[0]))"
   ]
  },
  {
   "cell_type": "code",
   "execution_count": 138,
   "metadata": {},
   "outputs": [
    {
     "data": {
      "text/plain": [
       "87"
      ]
     },
     "execution_count": 138,
     "metadata": {},
     "output_type": "execute_result"
    }
   ],
   "source": [
    "num_better_than_default = (np.array(acc_diff_vs_constant) > 0).sum()\n",
    "num_better_than_default"
   ]
  },
  {
   "cell_type": "code",
   "execution_count": 130,
   "metadata": {},
   "outputs": [
    {
     "data": {
      "text/plain": [
       "0.42"
      ]
     },
     "execution_count": 130,
     "metadata": {},
     "output_type": "execute_result"
    }
   ],
   "source": [
    "answ4_7 = round(1 - num_better_than_default/len(np.unique(y_train_150)), 2)\n",
    "answ4_7"
   ]
  },
  {
   "cell_type": "code",
   "execution_count": 121,
   "metadata": {},
   "outputs": [],
   "source": [
    "write_answer_to_file(answ4_7, 'answer4_7.txt')"
   ]
  },
  {
   "cell_type": "code",
   "execution_count": null,
   "metadata": {},
   "outputs": [],
   "source": []
  },
  {
   "cell_type": "code",
   "execution_count": null,
   "metadata": {},
   "outputs": [],
   "source": []
  },
  {
   "cell_type": "code",
   "execution_count": 154,
   "metadata": {},
   "outputs": [],
   "source": [
    "y_binary_128 = [int(el == 128) for el in y_train_150]"
   ]
  },
  {
   "cell_type": "code",
   "execution_count": 156,
   "metadata": {},
   "outputs": [
    {
     "data": {
      "text/plain": [
       "1957"
      ]
     },
     "execution_count": 156,
     "metadata": {},
     "output_type": "execute_result"
    }
   ],
   "source": [
    "sum(y_binary_128)"
   ]
  },
  {
   "cell_type": "code",
   "execution_count": 158,
   "metadata": {},
   "outputs": [],
   "source": [
    "def plot_learning_curve(val_train, val_test, train_sizes, \n",
    "                        xlabel='Training Set Size', ylabel='score'):\n",
    "    def plot_with_err(x, data, **kwargs):\n",
    "        mu, std = data.mean(1), data.std(1)\n",
    "        lines = plt.plot(x, mu, '-', **kwargs)\n",
    "        plt.fill_between(x, mu - std, mu + std, edgecolor='none',\n",
    "                         facecolor=lines[0].get_color(), alpha=0.2)\n",
    "    plot_with_err(train_sizes, val_train, label='train')\n",
    "    plot_with_err(train_sizes, val_test, label='valid')\n",
    "    plt.xlabel(xlabel); plt.ylabel(ylabel)\n",
    "    plt.legend(loc='lower right');"
   ]
  },
  {
   "cell_type": "code",
   "execution_count": 159,
   "metadata": {},
   "outputs": [
    {
     "name": "stderr",
     "output_type": "stream",
     "text": [
      "/home/voloch/Anaconda3/lib/python3.7/site-packages/sklearn/model_selection/_split.py:1978: FutureWarning: The default value of cv will change from 3 to 5 in version 0.22. Specify it explicitly to silence this warning.\n",
      "  warnings.warn(CV_WARNING, FutureWarning)\n"
     ]
    },
    {
     "name": "stdout",
     "output_type": "stream",
     "text": [
      "CPU times: user 24min 34s, sys: 2.2 s, total: 24min 36s\n",
      "Wall time: 24min 37s\n"
     ]
    }
   ],
   "source": [
    "%%time\n",
    "train_sizes = np.linspace(0.25, 1, 20)\n",
    "estimator = svm_grid_searcher2.best_estimator_\n",
    "n_train, val_train, val_test = learning_curve(estimator, X_train_150, y_train_150,\n",
    "                                             train_sizes = train_sizes\n",
    "                                             , cv = skf, random_state=om_state = 17\n",
    "                                             , n_jobs = -1\n",
    "                                             )"
   ]
  },
  {
   "cell_type": "code",
   "execution_count": 160,
   "metadata": {},
   "outputs": [
    {
     "data": {
      "image/png": "[encoded data removed]",
      "text/plain": [
       "<Figure size 432x288 with 1 Axes>"
      ]
     },
     "metadata": {
      "needs_background": "light"
     },
     "output_type": "display_data"
    }
   ],
   "source": [
    "plot_learning_curve(val_train, val_test, n_train, \n",
    "                    xlabel='train_size', ylabel='accuracy')"
   ]
  },
  {
   "cell_type": "code",
   "execution_count": null,
   "metadata": {},
   "outputs": [],
   "source": []
  }
 ],
 "metadata": {
  "kernelspec": {
   "display_name": "Python 3",
   "language": "python",
   "name": "python3"
  },
  "language_info": {
   "codemirror_mode": {
    "name": "ipython",
    "version": 3
   },
   "file_extension": ".py",
   "mimetype": "text/x-python",
   "name": "python",
   "nbconvert_exporter": "python",
   "pygments_lexer": "ipython3",
   "version": "3.7.4"
  }
 },
 "nbformat": 4,
 "nbformat_minor": 4
}
